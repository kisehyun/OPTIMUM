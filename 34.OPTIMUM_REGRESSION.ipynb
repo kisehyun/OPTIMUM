{
 "cells": [
  {
   "cell_type": "code",
   "execution_count": 28,
   "id": "1d88866a",
   "metadata": {},
   "outputs": [],
   "source": [
    "import numpy as np\n",
    "import pandas as pd\n",
    "\n",
    "import warnings\n",
    "warnings.filterwarnings('ignore')\n",
    "\n",
    "from sklearn.model_selection import train_test_split\n",
    "from sklearn.metrics import mean_squared_error\n",
    "from lightgbm import LGBMRegressor\n",
    "from xgboost import XGBRegressor\n",
    "from sklearn.neural_network import MLPRegressor"
   ]
  },
  {
   "cell_type": "code",
   "execution_count": 3,
   "id": "2b3e650e",
   "metadata": {},
   "outputs": [],
   "source": [
    "X = np.load('train_data.npy')"
   ]
  },
  {
   "cell_type": "markdown",
   "id": "2801af58",
   "metadata": {},
   "source": [
    "독립변수(X)를 불러옵니다."
   ]
  },
  {
   "cell_type": "code",
   "execution_count": 4,
   "id": "ddd9bc7f",
   "metadata": {},
   "outputs": [],
   "source": [
    "y = np.load(\"train_target.npy\")"
   ]
  },
  {
   "cell_type": "markdown",
   "id": "488a7897",
   "metadata": {},
   "source": [
    "종속변수(y)를 불러옵니다."
   ]
  },
  {
   "cell_type": "code",
   "execution_count": 6,
   "id": "84ec374e",
   "metadata": {},
   "outputs": [],
   "source": [
    "data = pd.DataFrame(X, columns = [f'feature_{i}' for i in range(1, X.shape[1] + 1)])"
   ]
  },
  {
   "cell_type": "markdown",
   "id": "af63987e",
   "metadata": {},
   "source": [
    "넘파이 배열 형태의 데이터를 데이터 프레임 형태로 만들어 줍니다. 이 때 컬럼명이 없으므로 임의로 feature_1, feature_2...feature_100이라는 컬럼명을 지정해줍니다."
   ]
  },
  {
   "cell_type": "code",
   "execution_count": 7,
   "id": "59792f54",
   "metadata": {},
   "outputs": [],
   "source": [
    "data['target'] = y"
   ]
  },
  {
   "cell_type": "markdown",
   "id": "10b3aecd",
   "metadata": {},
   "source": [
    "만들어둔 데이터 프레임에 종속변수를 붙여줍니다."
   ]
  },
  {
   "cell_type": "code",
   "execution_count": 17,
   "id": "eea95c04",
   "metadata": {
    "scrolled": false
   },
   "outputs": [
    {
     "data": {
      "text/html": [
       "<div>\n",
       "<style scoped>\n",
       "    .dataframe tbody tr th:only-of-type {\n",
       "        vertical-align: middle;\n",
       "    }\n",
       "\n",
       "    .dataframe tbody tr th {\n",
       "        vertical-align: top;\n",
       "    }\n",
       "\n",
       "    .dataframe thead th {\n",
       "        text-align: right;\n",
       "    }\n",
       "</style>\n",
       "<table border=\"1\" class=\"dataframe\">\n",
       "  <thead>\n",
       "    <tr style=\"text-align: right;\">\n",
       "      <th></th>\n",
       "      <th>feature_1</th>\n",
       "      <th>feature_2</th>\n",
       "      <th>feature_3</th>\n",
       "      <th>feature_4</th>\n",
       "      <th>feature_5</th>\n",
       "      <th>feature_6</th>\n",
       "      <th>feature_7</th>\n",
       "      <th>feature_8</th>\n",
       "      <th>feature_9</th>\n",
       "      <th>feature_10</th>\n",
       "      <th>...</th>\n",
       "      <th>feature_92</th>\n",
       "      <th>feature_93</th>\n",
       "      <th>feature_94</th>\n",
       "      <th>feature_95</th>\n",
       "      <th>feature_96</th>\n",
       "      <th>feature_97</th>\n",
       "      <th>feature_98</th>\n",
       "      <th>feature_99</th>\n",
       "      <th>feature_100</th>\n",
       "      <th>target</th>\n",
       "    </tr>\n",
       "  </thead>\n",
       "  <tbody>\n",
       "    <tr>\n",
       "      <th>0</th>\n",
       "      <td>-0.049923+1.371841j</td>\n",
       "      <td>0.376525+1.372329j</td>\n",
       "      <td>0.362246+1.285279j</td>\n",
       "      <td>0.085718+1.097342j</td>\n",
       "      <td>0.410578+1.158970j</td>\n",
       "      <td>0.129100+1.101130j</td>\n",
       "      <td>0.390538+1.185420j</td>\n",
       "      <td>-0.027249+1.429725j</td>\n",
       "      <td>0.247398+1.647329j</td>\n",
       "      <td>0.239897+1.232325j</td>\n",
       "      <td>...</td>\n",
       "      <td>0.129832+1.622465j</td>\n",
       "      <td>0.241397+1.460103j</td>\n",
       "      <td>-0.184075+1.153108j</td>\n",
       "      <td>0.277652+1.218679j</td>\n",
       "      <td>0.201477+1.533303j</td>\n",
       "      <td>0.067506+1.188892j</td>\n",
       "      <td>0.234216+1.310439j</td>\n",
       "      <td>0.624535+0.780249j</td>\n",
       "      <td>0.479671+1.289786j</td>\n",
       "      <td>1.404198</td>\n",
       "    </tr>\n",
       "    <tr>\n",
       "      <th>1</th>\n",
       "      <td>-0.464694+0.577646j</td>\n",
       "      <td>-0.777607+0.602756j</td>\n",
       "      <td>-0.424366+0.591985j</td>\n",
       "      <td>-0.328677+0.460275j</td>\n",
       "      <td>-0.630535+0.327827j</td>\n",
       "      <td>0.014207+0.209485j</td>\n",
       "      <td>-0.623674+0.321605j</td>\n",
       "      <td>-0.846076+0.180313j</td>\n",
       "      <td>-0.544383+0.419483j</td>\n",
       "      <td>-0.634501+0.171656j</td>\n",
       "      <td>...</td>\n",
       "      <td>-0.496498+0.287373j</td>\n",
       "      <td>-0.871131+0.131717j</td>\n",
       "      <td>-0.415695+0.481743j</td>\n",
       "      <td>-0.331279+0.479437j</td>\n",
       "      <td>-0.316451+0.675709j</td>\n",
       "      <td>-0.330079-0.015668j</td>\n",
       "      <td>-0.302909+0.577077j</td>\n",
       "      <td>-0.689310-0.015817j</td>\n",
       "      <td>-0.702411+0.494635j</td>\n",
       "      <td>2.528470</td>\n",
       "    </tr>\n",
       "    <tr>\n",
       "      <th>2</th>\n",
       "      <td>0.618702-1.021473j</td>\n",
       "      <td>0.270808-0.944793j</td>\n",
       "      <td>0.354533-0.980294j</td>\n",
       "      <td>0.399894-0.627640j</td>\n",
       "      <td>0.474267-1.346421j</td>\n",
       "      <td>0.403051-0.903818j</td>\n",
       "      <td>0.503218-0.871719j</td>\n",
       "      <td>0.439384-1.287245j</td>\n",
       "      <td>0.658287-0.834650j</td>\n",
       "      <td>0.402587-0.933620j</td>\n",
       "      <td>...</td>\n",
       "      <td>0.579653-0.916987j</td>\n",
       "      <td>0.031542-1.170577j</td>\n",
       "      <td>0.677510-1.427055j</td>\n",
       "      <td>0.289766-0.788857j</td>\n",
       "      <td>0.371776-1.089296j</td>\n",
       "      <td>0.436486-0.935673j</td>\n",
       "      <td>0.407270-0.811906j</td>\n",
       "      <td>0.620955-0.624164j</td>\n",
       "      <td>0.075469-1.053466j</td>\n",
       "      <td>5.110415</td>\n",
       "    </tr>\n",
       "    <tr>\n",
       "      <th>3</th>\n",
       "      <td>-0.928425-0.016320j</td>\n",
       "      <td>-1.171004-0.312804j</td>\n",
       "      <td>-0.971202-0.455337j</td>\n",
       "      <td>-1.014441-0.496051j</td>\n",
       "      <td>-0.960485-0.315874j</td>\n",
       "      <td>-0.724906-0.125749j</td>\n",
       "      <td>-0.874789-0.486828j</td>\n",
       "      <td>-1.102769-0.352916j</td>\n",
       "      <td>-0.880177-0.109137j</td>\n",
       "      <td>-0.919403-0.165569j</td>\n",
       "      <td>...</td>\n",
       "      <td>-0.697125+0.033758j</td>\n",
       "      <td>-0.814883+0.032245j</td>\n",
       "      <td>-1.048017+0.046154j</td>\n",
       "      <td>-1.140102-0.031957j</td>\n",
       "      <td>-1.250655-0.281117j</td>\n",
       "      <td>-0.535703-0.524579j</td>\n",
       "      <td>-1.296679-0.372629j</td>\n",
       "      <td>-1.114653-0.274596j</td>\n",
       "      <td>-0.910907-0.239975j</td>\n",
       "      <td>3.382520</td>\n",
       "    </tr>\n",
       "    <tr>\n",
       "      <th>4</th>\n",
       "      <td>0.624379-0.247566j</td>\n",
       "      <td>0.645082-0.129882j</td>\n",
       "      <td>0.420141-0.460644j</td>\n",
       "      <td>0.506975-0.268113j</td>\n",
       "      <td>0.610978-0.739305j</td>\n",
       "      <td>0.222207-0.846687j</td>\n",
       "      <td>0.558885-0.507138j</td>\n",
       "      <td>0.807641-0.388760j</td>\n",
       "      <td>0.570990-0.173216j</td>\n",
       "      <td>0.551584-0.513922j</td>\n",
       "      <td>...</td>\n",
       "      <td>0.289890-0.073024j</td>\n",
       "      <td>0.332302-0.561615j</td>\n",
       "      <td>0.870158-0.419374j</td>\n",
       "      <td>0.113323-0.567092j</td>\n",
       "      <td>0.657949-0.681011j</td>\n",
       "      <td>0.504567-0.549021j</td>\n",
       "      <td>1.087836-0.444831j</td>\n",
       "      <td>0.418234-0.491894j</td>\n",
       "      <td>0.376100-0.743879j</td>\n",
       "      <td>5.559223</td>\n",
       "    </tr>\n",
       "  </tbody>\n",
       "</table>\n",
       "<p>5 rows × 101 columns</p>\n",
       "</div>"
      ],
      "text/plain": [
       "            feature_1           feature_2           feature_3  \\\n",
       "0 -0.049923+1.371841j  0.376525+1.372329j  0.362246+1.285279j   \n",
       "1 -0.464694+0.577646j -0.777607+0.602756j -0.424366+0.591985j   \n",
       "2  0.618702-1.021473j  0.270808-0.944793j  0.354533-0.980294j   \n",
       "3 -0.928425-0.016320j -1.171004-0.312804j -0.971202-0.455337j   \n",
       "4  0.624379-0.247566j  0.645082-0.129882j  0.420141-0.460644j   \n",
       "\n",
       "            feature_4           feature_5           feature_6  \\\n",
       "0  0.085718+1.097342j  0.410578+1.158970j  0.129100+1.101130j   \n",
       "1 -0.328677+0.460275j -0.630535+0.327827j  0.014207+0.209485j   \n",
       "2  0.399894-0.627640j  0.474267-1.346421j  0.403051-0.903818j   \n",
       "3 -1.014441-0.496051j -0.960485-0.315874j -0.724906-0.125749j   \n",
       "4  0.506975-0.268113j  0.610978-0.739305j  0.222207-0.846687j   \n",
       "\n",
       "            feature_7           feature_8           feature_9  \\\n",
       "0  0.390538+1.185420j -0.027249+1.429725j  0.247398+1.647329j   \n",
       "1 -0.623674+0.321605j -0.846076+0.180313j -0.544383+0.419483j   \n",
       "2  0.503218-0.871719j  0.439384-1.287245j  0.658287-0.834650j   \n",
       "3 -0.874789-0.486828j -1.102769-0.352916j -0.880177-0.109137j   \n",
       "4  0.558885-0.507138j  0.807641-0.388760j  0.570990-0.173216j   \n",
       "\n",
       "           feature_10  ...          feature_92          feature_93  \\\n",
       "0  0.239897+1.232325j  ...  0.129832+1.622465j  0.241397+1.460103j   \n",
       "1 -0.634501+0.171656j  ... -0.496498+0.287373j -0.871131+0.131717j   \n",
       "2  0.402587-0.933620j  ...  0.579653-0.916987j  0.031542-1.170577j   \n",
       "3 -0.919403-0.165569j  ... -0.697125+0.033758j -0.814883+0.032245j   \n",
       "4  0.551584-0.513922j  ...  0.289890-0.073024j  0.332302-0.561615j   \n",
       "\n",
       "           feature_94          feature_95          feature_96  \\\n",
       "0 -0.184075+1.153108j  0.277652+1.218679j  0.201477+1.533303j   \n",
       "1 -0.415695+0.481743j -0.331279+0.479437j -0.316451+0.675709j   \n",
       "2  0.677510-1.427055j  0.289766-0.788857j  0.371776-1.089296j   \n",
       "3 -1.048017+0.046154j -1.140102-0.031957j -1.250655-0.281117j   \n",
       "4  0.870158-0.419374j  0.113323-0.567092j  0.657949-0.681011j   \n",
       "\n",
       "           feature_97          feature_98          feature_99  \\\n",
       "0  0.067506+1.188892j  0.234216+1.310439j  0.624535+0.780249j   \n",
       "1 -0.330079-0.015668j -0.302909+0.577077j -0.689310-0.015817j   \n",
       "2  0.436486-0.935673j  0.407270-0.811906j  0.620955-0.624164j   \n",
       "3 -0.535703-0.524579j -1.296679-0.372629j -1.114653-0.274596j   \n",
       "4  0.504567-0.549021j  1.087836-0.444831j  0.418234-0.491894j   \n",
       "\n",
       "          feature_100    target  \n",
       "0  0.479671+1.289786j  1.404198  \n",
       "1 -0.702411+0.494635j  2.528470  \n",
       "2  0.075469-1.053466j  5.110415  \n",
       "3 -0.910907-0.239975j  3.382520  \n",
       "4  0.376100-0.743879j  5.559223  \n",
       "\n",
       "[5 rows x 101 columns]"
      ]
     },
     "execution_count": 17,
     "metadata": {},
     "output_type": "execute_result"
    }
   ],
   "source": [
    "data.head()"
   ]
  },
  {
   "cell_type": "markdown",
   "id": "6533577d",
   "metadata": {},
   "source": [
    "다 만들어진 데이터의 상위 5개 행을 출력합니다."
   ]
  },
  {
   "cell_type": "code",
   "execution_count": 9,
   "id": "100e8a2a",
   "metadata": {},
   "outputs": [],
   "source": [
    "data = data.astype(float)"
   ]
  },
  {
   "cell_type": "markdown",
   "id": "474a2ab0",
   "metadata": {},
   "source": [
    "복소수 타입의 데이터를 실수형 타입으로 변경해줍니다."
   ]
  },
  {
   "cell_type": "code",
   "execution_count": 11,
   "id": "fbe20ef4",
   "metadata": {},
   "outputs": [],
   "source": [
    "X_train, X_val, y_train, y_val = train_test_split(data.iloc[:, :-1], data.target, test_size = 0.2, random_state = 42)"
   ]
  },
  {
   "cell_type": "markdown",
   "id": "23b7a8b5",
   "metadata": {},
   "source": [
    "데이터를 학습용(80%), 검증용(20%) 데이터로 분할합니다.\n",
    "\n",
    "### Modeling\n",
    "\n",
    "#### 모델은 크게 3가지를 사용했습니다.\n",
    "- LightGBM\n",
    "- XGBoost\n",
    "- Multi Layer Perceptron\n",
    "***\n",
    "#### LightGBM"
   ]
  },
  {
   "cell_type": "code",
   "execution_count": 18,
   "id": "b604b70c",
   "metadata": {},
   "outputs": [],
   "source": [
    "lgbm = LGBMRegressor(random_state = 42, n_estimators = 1000, max_depth = 5, learning_rate = 0.15)"
   ]
  },
  {
   "cell_type": "markdown",
   "id": "f0092143",
   "metadata": {},
   "source": [
    "LightGBM 모델을 불러옵니다."
   ]
  },
  {
   "cell_type": "code",
   "execution_count": 19,
   "id": "3ba1b0fe",
   "metadata": {},
   "outputs": [
    {
     "name": "stdout",
     "output_type": "stream",
     "text": [
      "Training until validation scores don't improve for 200 rounds\n",
      "Early stopping, best iteration is:\n",
      "[4]\ttraining's l2: 3.20199\tvalid_1's l2: 3.33704\n"
     ]
    },
    {
     "data": {
      "text/plain": [
       "LGBMRegressor(learning_rate=0.15, max_depth=5, n_estimators=1000,\n",
       "              random_state=42)"
      ]
     },
     "execution_count": 19,
     "metadata": {},
     "output_type": "execute_result"
    }
   ],
   "source": [
    "lgbm.fit(X_train, y_train, eval_set = [(X_train, y_train), (X_val, y_val)], early_stopping_rounds = 200, verbose = 250)"
   ]
  },
  {
   "cell_type": "markdown",
   "id": "21fe18f6",
   "metadata": {},
   "source": [
    "만들어둔 학습 데이터로 모델을 학습하며 검증 데이터로 학습 과정중에 검증을 합니다."
   ]
  },
  {
   "cell_type": "code",
   "execution_count": 23,
   "id": "e8e7d1e8",
   "metadata": {},
   "outputs": [],
   "source": [
    "pred = lgbm.predict(X_val)"
   ]
  },
  {
   "cell_type": "markdown",
   "id": "c7e72580",
   "metadata": {},
   "source": [
    "학습이 끝난 모델로 검증용 데이터의 예측값을 구합니다."
   ]
  },
  {
   "cell_type": "code",
   "execution_count": 24,
   "id": "0e49abcd",
   "metadata": {},
   "outputs": [],
   "source": [
    "mse = mean_squared_error(y_val, pred)"
   ]
  },
  {
   "cell_type": "code",
   "execution_count": 25,
   "id": "b94365df",
   "metadata": {},
   "outputs": [
    {
     "data": {
      "text/plain": [
       "3.3370359363714654"
      ]
     },
     "execution_count": 25,
     "metadata": {},
     "output_type": "execute_result"
    }
   ],
   "source": [
    "mse"
   ]
  },
  {
   "cell_type": "markdown",
   "id": "7d3836a9",
   "metadata": {},
   "source": [
    "검증용 데이터의 예측값과 실제 검증용 데이터의 정답을 비교하여 MSE를 계산합니다.\n",
    "***\n",
    "#### XGBoost"
   ]
  },
  {
   "cell_type": "code",
   "execution_count": 29,
   "id": "4693cbfd",
   "metadata": {},
   "outputs": [],
   "source": [
    "xgb = XGBRegressor(random_state = 42, n_estimators = 1000, max_depth = 4, learning_rate = 0.1)"
   ]
  },
  {
   "cell_type": "markdown",
   "id": "470ebaf4",
   "metadata": {},
   "source": [
    "LightGBM 모델을 불러옵니다."
   ]
  },
  {
   "cell_type": "code",
   "execution_count": 33,
   "id": "54c3272e",
   "metadata": {},
   "outputs": [
    {
     "name": "stdout",
     "output_type": "stream",
     "text": [
      "[0]\tvalidation_0-rmse:2.99401\tvalidation_1-rmse:3.00921\n",
      "[134]\tvalidation_0-rmse:1.52256\tvalidation_1-rmse:1.85519\n"
     ]
    },
    {
     "data": {
      "text/plain": [
       "XGBRegressor(base_score=0.5, booster='gbtree', colsample_bylevel=1,\n",
       "             colsample_bynode=1, colsample_bytree=1, gamma=0, gpu_id=-1,\n",
       "             importance_type='gain', interaction_constraints='',\n",
       "             learning_rate=0.1, max_delta_step=0, max_depth=4,\n",
       "             min_child_weight=1, missing=nan, monotone_constraints='()',\n",
       "             n_estimators=1000, n_jobs=8, num_parallel_tree=1, random_state=42,\n",
       "             reg_alpha=0, reg_lambda=1, scale_pos_weight=1, subsample=1,\n",
       "             tree_method='exact', validate_parameters=1, verbosity=None)"
      ]
     },
     "execution_count": 33,
     "metadata": {},
     "output_type": "execute_result"
    }
   ],
   "source": [
    "xgb.fit(X_train, y_train, eval_set = [(X_train, y_train), (X_val, y_val)], early_stopping_rounds = 100, verbose = 200, eval_metric = 'rmse')"
   ]
  },
  {
   "cell_type": "markdown",
   "id": "afb34717",
   "metadata": {},
   "source": [
    "만들어둔 학습 데이터로 모델을 학습하며 검증 데이터로 학습 과정중에 검증을 합니다."
   ]
  },
  {
   "cell_type": "code",
   "execution_count": 34,
   "id": "26cae9bf",
   "metadata": {},
   "outputs": [],
   "source": [
    "pred = xgb.predict(X_val)"
   ]
  },
  {
   "cell_type": "markdown",
   "id": "db8a4f0a",
   "metadata": {},
   "source": [
    "학습이 끝난 모델로 검증용 데이터의 예측값을 구합니다."
   ]
  },
  {
   "cell_type": "code",
   "execution_count": 35,
   "id": "e213aae4",
   "metadata": {},
   "outputs": [],
   "source": [
    "mse = mean_squared_error(y_val, pred)"
   ]
  },
  {
   "cell_type": "code",
   "execution_count": 36,
   "id": "5ab462ac",
   "metadata": {
    "scrolled": true
   },
   "outputs": [
    {
     "data": {
      "text/plain": [
       "3.3613836642622292"
      ]
     },
     "execution_count": 36,
     "metadata": {},
     "output_type": "execute_result"
    }
   ],
   "source": [
    "mse"
   ]
  },
  {
   "cell_type": "markdown",
   "id": "fe9cdcc5",
   "metadata": {},
   "source": [
    "검증용 데이터의 예측값과 실제 검증용 데이터의 정답을 비교하여 MSE를 계산합니다.\n",
    "***\n",
    "#### MLP"
   ]
  },
  {
   "cell_type": "code",
   "execution_count": 48,
   "id": "d1d07d0e",
   "metadata": {},
   "outputs": [],
   "source": [
    "mlp = MLPRegressor(random_state = 42, hidden_layer_sizes = (128, ), batch_size = 64, early_stopping = True)"
   ]
  },
  {
   "cell_type": "markdown",
   "id": "e6f5e627",
   "metadata": {},
   "source": [
    "LightGBM 모델을 불러옵니다."
   ]
  },
  {
   "cell_type": "code",
   "execution_count": 49,
   "id": "349285ef",
   "metadata": {
    "scrolled": false
   },
   "outputs": [
    {
     "data": {
      "text/plain": [
       "MLPRegressor(batch_size=64, early_stopping=True, hidden_layer_sizes=(128,),\n",
       "             random_state=42)"
      ]
     },
     "execution_count": 49,
     "metadata": {},
     "output_type": "execute_result"
    }
   ],
   "source": [
    "mlp.fit(X_train, y_train)"
   ]
  },
  {
   "cell_type": "markdown",
   "id": "5850c68a",
   "metadata": {},
   "source": [
    "만들어둔 학습 데이터로 모델을 학습합니다."
   ]
  },
  {
   "cell_type": "code",
   "execution_count": 50,
   "id": "897896c9",
   "metadata": {},
   "outputs": [],
   "source": [
    "pred = mlp.predict(X_val)"
   ]
  },
  {
   "cell_type": "markdown",
   "id": "484d6d8c",
   "metadata": {},
   "source": [
    "학습이 끝난 모델로 검증용 데이터의 예측값을 구합니다."
   ]
  },
  {
   "cell_type": "code",
   "execution_count": 51,
   "id": "9c82ccd9",
   "metadata": {},
   "outputs": [],
   "source": [
    "mse = mean_squared_error(y_val, pred)"
   ]
  },
  {
   "cell_type": "code",
   "execution_count": 52,
   "id": "0efd92c5",
   "metadata": {},
   "outputs": [
    {
     "data": {
      "text/plain": [
       "3.3737256477388735"
      ]
     },
     "execution_count": 52,
     "metadata": {},
     "output_type": "execute_result"
    }
   ],
   "source": [
    "mse"
   ]
  },
  {
   "cell_type": "markdown",
   "id": "97ab1287",
   "metadata": {},
   "source": [
    "검증용 데이터의 예측값과 실제 검증용 데이터의 정답을 비교하여 MSE를 계산합니다."
   ]
  }
 ],
 "metadata": {
  "kernelspec": {
   "display_name": "Python 3",
   "language": "python",
   "name": "python3"
  },
  "language_info": {
   "codemirror_mode": {
    "name": "ipython",
    "version": 3
   },
   "file_extension": ".py",
   "mimetype": "text/x-python",
   "name": "python",
   "nbconvert_exporter": "python",
   "pygments_lexer": "ipython3",
   "version": "3.8.8"
  }
 },
 "nbformat": 4,
 "nbformat_minor": 5
}
