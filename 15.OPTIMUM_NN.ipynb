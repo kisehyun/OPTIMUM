{
 "cells": [
  {
   "cell_type": "code",
   "execution_count": 1,
   "metadata": {
    "colab": {
     "base_uri": "https://localhost:8080/"
    },
    "id": "5pA95gfEeN4s",
    "outputId": "75d4a5b5-2153-44d8-869d-a9e68bea1d56"
   },
   "outputs": [
    {
     "name": "stdout",
     "output_type": "stream",
     "text": [
      "Mounted at /content/gdrive\n"
     ]
    }
   ],
   "source": [
    "from google.colab import drive\n",
    "drive.mount('/content/gdrive', force_remount = True)"
   ]
  },
  {
   "cell_type": "code",
   "execution_count": 2,
   "metadata": {
    "colab": {
     "base_uri": "https://localhost:8080/"
    },
    "id": "OroPDGwcfSP8",
    "outputId": "fdc6f1f1-aa69-4621-e944-33fe90e594ba"
   },
   "outputs": [
    {
     "name": "stdout",
     "output_type": "stream",
     "text": [
      "/content/gdrive/My Drive/optimum/20210804_classification\n"
     ]
    }
   ],
   "source": [
    "%cd /content/gdrive/My Drive/optimum/20210804_classification"
   ]
  },
  {
   "cell_type": "code",
   "execution_count": 3,
   "metadata": {
    "id": "of7-32xffa1E"
   },
   "outputs": [],
   "source": [
    "import pandas as pd\n",
    "import numpy as np\n",
    "\n",
    "import warnings\n",
    "warnings.filterwarnings('ignore')\n",
    "\n",
    "import tensorflow as tf\n",
    "from tensorflow.keras.models import Sequential, Model, load_model\n",
    "from tensorflow.keras.layers import Dense, Dropout, Input\n",
    "from tensorflow.keras.optimizers import Adam, RMSprop\n",
    "from tensorflow.keras.callbacks import ModelCheckpoint, EarlyStopping\n",
    "\n",
    "from sklearn.model_selection import StratifiedKFold, train_test_split\n",
    "from sklearn.preprocessing import MinMaxScaler\n",
    "from sklearn.metrics import auc, roc_curve, accuracy_score, f1_score, recall_score\n",
    "\n",
    "import matplotlib.pyplot as plt\n",
    "import seaborn as sns\n",
    "%matplotlib inline"
   ]
  },
  {
   "cell_type": "code",
   "execution_count": 107,
   "metadata": {
    "id": "ok-j-qsbfVxW"
   },
   "outputs": [],
   "source": [
    "data = pd.read_excel('data.xlsx')"
   ]
  },
  {
   "cell_type": "code",
   "execution_count": 108,
   "metadata": {
    "colab": {
     "base_uri": "https://localhost:8080/",
     "height": 204
    },
    "id": "0DE3FTCdf9vD",
    "outputId": "830cf7f0-3012-4fe9-a6aa-c1f2b19fd27c"
   },
   "outputs": [
    {
     "data": {
      "text/html": [
       "<div>\n",
       "<style scoped>\n",
       "    .dataframe tbody tr th:only-of-type {\n",
       "        vertical-align: middle;\n",
       "    }\n",
       "\n",
       "    .dataframe tbody tr th {\n",
       "        vertical-align: top;\n",
       "    }\n",
       "\n",
       "    .dataframe thead th {\n",
       "        text-align: right;\n",
       "    }\n",
       "</style>\n",
       "<table border=\"1\" class=\"dataframe\">\n",
       "  <thead>\n",
       "    <tr style=\"text-align: right;\">\n",
       "      <th></th>\n",
       "      <th>3089920</th>\n",
       "      <th>-6998680</th>\n",
       "      <th>3090080</th>\n",
       "      <th>-6998680.1</th>\n",
       "      <th>3089920.1</th>\n",
       "      <th>-6998520</th>\n",
       "      <th>3090080.1</th>\n",
       "      <th>-6998520.1</th>\n",
       "      <th>1</th>\n",
       "      <th>3</th>\n",
       "    </tr>\n",
       "  </thead>\n",
       "  <tbody>\n",
       "    <tr>\n",
       "      <th>1103</th>\n",
       "      <td>-1604</td>\n",
       "      <td>-7094000</td>\n",
       "      <td>-1424</td>\n",
       "      <td>-7094000</td>\n",
       "      <td>-12418</td>\n",
       "      <td>-7094000</td>\n",
       "      <td>-12418</td>\n",
       "      <td>-7093820</td>\n",
       "      <td>0</td>\n",
       "      <td>3</td>\n",
       "    </tr>\n",
       "    <tr>\n",
       "      <th>1104</th>\n",
       "      <td>4128</td>\n",
       "      <td>-7094000</td>\n",
       "      <td>4308</td>\n",
       "      <td>-7094000</td>\n",
       "      <td>-12418</td>\n",
       "      <td>-7094000</td>\n",
       "      <td>-12418</td>\n",
       "      <td>-7093820</td>\n",
       "      <td>0</td>\n",
       "      <td>3</td>\n",
       "    </tr>\n",
       "    <tr>\n",
       "      <th>1105</th>\n",
       "      <td>6832</td>\n",
       "      <td>-7094000</td>\n",
       "      <td>7012</td>\n",
       "      <td>-7094000</td>\n",
       "      <td>-12418</td>\n",
       "      <td>-7094000</td>\n",
       "      <td>-12418</td>\n",
       "      <td>-7093820</td>\n",
       "      <td>0</td>\n",
       "      <td>3</td>\n",
       "    </tr>\n",
       "    <tr>\n",
       "      <th>1106</th>\n",
       "      <td>9536</td>\n",
       "      <td>-7094000</td>\n",
       "      <td>9716</td>\n",
       "      <td>-7094000</td>\n",
       "      <td>-12418</td>\n",
       "      <td>-7094000</td>\n",
       "      <td>-12418</td>\n",
       "      <td>-7093820</td>\n",
       "      <td>0</td>\n",
       "      <td>3</td>\n",
       "    </tr>\n",
       "    <tr>\n",
       "      <th>1107</th>\n",
       "      <td>12238</td>\n",
       "      <td>-7094000</td>\n",
       "      <td>12418</td>\n",
       "      <td>-7094000</td>\n",
       "      <td>-12418</td>\n",
       "      <td>-7094000</td>\n",
       "      <td>-12418</td>\n",
       "      <td>-7093820</td>\n",
       "      <td>0</td>\n",
       "      <td>3</td>\n",
       "    </tr>\n",
       "  </tbody>\n",
       "</table>\n",
       "</div>"
      ],
      "text/plain": [
       "      3089920  -6998680  3090080  -6998680.1  ...  3090080.1  -6998520.1  1  3\n",
       "1103    -1604  -7094000    -1424    -7094000  ...     -12418    -7093820  0  3\n",
       "1104     4128  -7094000     4308    -7094000  ...     -12418    -7093820  0  3\n",
       "1105     6832  -7094000     7012    -7094000  ...     -12418    -7093820  0  3\n",
       "1106     9536  -7094000     9716    -7094000  ...     -12418    -7093820  0  3\n",
       "1107    12238  -7094000    12418    -7094000  ...     -12418    -7093820  0  3\n",
       "\n",
       "[5 rows x 10 columns]"
      ]
     },
     "execution_count": 108,
     "metadata": {
      "tags": []
     },
     "output_type": "execute_result"
    }
   ],
   "source": [
    "data.tail()"
   ]
  },
  {
   "cell_type": "code",
   "execution_count": 109,
   "metadata": {
    "id": "mdL8jHEZf_Ua"
   },
   "outputs": [],
   "source": [
    "data.loc[1108] = data.columns.astype(float)"
   ]
  },
  {
   "cell_type": "code",
   "execution_count": 110,
   "metadata": {
    "id": "EEHM2yjUf7AX"
   },
   "outputs": [],
   "source": [
    "data.columns = ['a1', 'b1', 'a2', 'b2', 'a3', 'b3', 'a4', 'b4', 't1', 't2']"
   ]
  },
  {
   "cell_type": "code",
   "execution_count": 113,
   "metadata": {
    "id": "2hFd4vex91__"
   },
   "outputs": [],
   "source": [
    "data['a1'] -= data['a1']\n",
    "data['a2'] -= data['a1']\n",
    "data['a3'] -= data['a1']\n",
    "data['a4'] -= data['a1']"
   ]
  },
  {
   "cell_type": "code",
   "execution_count": 114,
   "metadata": {
    "id": "zC7XuzT2-v8_"
   },
   "outputs": [],
   "source": [
    "data['b1'] -= data['b1']\n",
    "data['b2'] -= data['b1']\n",
    "data['b3'] -= data['b1']\n",
    "data['b4'] -= data['b1']"
   ]
  },
  {
   "cell_type": "code",
   "execution_count": 115,
   "metadata": {
    "colab": {
     "base_uri": "https://localhost:8080/",
     "height": 204
    },
    "id": "FjLQvIZk-PFf",
    "outputId": "c94ec499-8949-4e8a-a2d9-fe825b194717",
    "scrolled": true
   },
   "outputs": [
    {
     "data": {
      "text/html": [
       "<div>\n",
       "<style scoped>\n",
       "    .dataframe tbody tr th:only-of-type {\n",
       "        vertical-align: middle;\n",
       "    }\n",
       "\n",
       "    .dataframe tbody tr th {\n",
       "        vertical-align: top;\n",
       "    }\n",
       "\n",
       "    .dataframe thead th {\n",
       "        text-align: right;\n",
       "    }\n",
       "</style>\n",
       "<table border=\"1\" class=\"dataframe\">\n",
       "  <thead>\n",
       "    <tr style=\"text-align: right;\">\n",
       "      <th></th>\n",
       "      <th>a1</th>\n",
       "      <th>b1</th>\n",
       "      <th>a2</th>\n",
       "      <th>b2</th>\n",
       "      <th>a3</th>\n",
       "      <th>b3</th>\n",
       "      <th>a4</th>\n",
       "      <th>b4</th>\n",
       "      <th>t1</th>\n",
       "      <th>t2</th>\n",
       "    </tr>\n",
       "  </thead>\n",
       "  <tbody>\n",
       "    <tr>\n",
       "      <th>0</th>\n",
       "      <td>0.0</td>\n",
       "      <td>0.0</td>\n",
       "      <td>3190080.0</td>\n",
       "      <td>-6998680.0</td>\n",
       "      <td>3189920.0</td>\n",
       "      <td>-6998520.0</td>\n",
       "      <td>3190080.0</td>\n",
       "      <td>-6998520.0</td>\n",
       "      <td>1.0</td>\n",
       "      <td>3.0</td>\n",
       "    </tr>\n",
       "    <tr>\n",
       "      <th>1</th>\n",
       "      <td>0.0</td>\n",
       "      <td>0.0</td>\n",
       "      <td>3290080.0</td>\n",
       "      <td>-6998680.0</td>\n",
       "      <td>3289920.0</td>\n",
       "      <td>-6998520.0</td>\n",
       "      <td>3290080.0</td>\n",
       "      <td>-6998520.0</td>\n",
       "      <td>1.0</td>\n",
       "      <td>3.0</td>\n",
       "    </tr>\n",
       "    <tr>\n",
       "      <th>2</th>\n",
       "      <td>0.0</td>\n",
       "      <td>0.0</td>\n",
       "      <td>3390080.0</td>\n",
       "      <td>-6998680.0</td>\n",
       "      <td>3389920.0</td>\n",
       "      <td>-6998520.0</td>\n",
       "      <td>3390080.0</td>\n",
       "      <td>-6998520.0</td>\n",
       "      <td>1.0</td>\n",
       "      <td>3.0</td>\n",
       "    </tr>\n",
       "    <tr>\n",
       "      <th>3</th>\n",
       "      <td>0.0</td>\n",
       "      <td>0.0</td>\n",
       "      <td>3490080.0</td>\n",
       "      <td>-6998680.0</td>\n",
       "      <td>3489920.0</td>\n",
       "      <td>-6998520.0</td>\n",
       "      <td>3490080.0</td>\n",
       "      <td>-6998520.0</td>\n",
       "      <td>1.0</td>\n",
       "      <td>3.0</td>\n",
       "    </tr>\n",
       "    <tr>\n",
       "      <th>4</th>\n",
       "      <td>0.0</td>\n",
       "      <td>0.0</td>\n",
       "      <td>308070.0</td>\n",
       "      <td>-6998670.0</td>\n",
       "      <td>388930.0</td>\n",
       "      <td>-6998530.0</td>\n",
       "      <td>3089070.0</td>\n",
       "      <td>-6998530.0</td>\n",
       "      <td>1.0</td>\n",
       "      <td>3.0</td>\n",
       "    </tr>\n",
       "  </tbody>\n",
       "</table>\n",
       "</div>"
      ],
      "text/plain": [
       "    a1   b1         a2         b2  ...         a4         b4   t1   t2\n",
       "0  0.0  0.0  3190080.0 -6998680.0  ...  3190080.0 -6998520.0  1.0  3.0\n",
       "1  0.0  0.0  3290080.0 -6998680.0  ...  3290080.0 -6998520.0  1.0  3.0\n",
       "2  0.0  0.0  3390080.0 -6998680.0  ...  3390080.0 -6998520.0  1.0  3.0\n",
       "3  0.0  0.0  3490080.0 -6998680.0  ...  3490080.0 -6998520.0  1.0  3.0\n",
       "4  0.0  0.0   308070.0 -6998670.0  ...  3089070.0 -6998530.0  1.0  3.0\n",
       "\n",
       "[5 rows x 10 columns]"
      ]
     },
     "execution_count": 115,
     "metadata": {
      "tags": []
     },
     "output_type": "execute_result"
    }
   ],
   "source": [
    "data.head()"
   ]
  },
  {
   "cell_type": "markdown",
   "metadata": {},
   "source": [
    "데이터를 스케일링 후 train test 분리하여 저장하는 함수"
   ]
  },
  {
   "cell_type": "code",
   "execution_count": 116,
   "metadata": {
    "id": "2LQjGVT6rTa-"
   },
   "outputs": [],
   "source": [
    "def make_data(data) :\n",
    "  X = data.iloc[:, :-2]\n",
    "  y = data['t1']\n",
    "\n",
    "  X_train, X_test, y_train, y_test = train_test_split(X, y, test_size = .2, random_state = 42, stratify = y)\n",
    "\n",
    "  scaler = MinMaxScaler()\n",
    "\n",
    "  tr_scaled = scaler.fit_transform(X_train)\n",
    "  te_scaled = scaler.transform(X_test)\n",
    "\n",
    "  return X_test, y_test, tr_scaled, te_scaled"
   ]
  },
  {
   "cell_type": "code",
   "execution_count": 117,
   "metadata": {
    "id": "2jqwrsu7rc48"
   },
   "outputs": [],
   "source": [
    "X_test, y_test, tr_scaled, te_scaled = make_data(data)"
   ]
  },
  {
   "cell_type": "code",
   "execution_count": 118,
   "metadata": {
    "id": "fOLTYr8hhZ7q"
   },
   "outputs": [],
   "source": [
    "skf = StratifiedKFold(n_splits = 10, shuffle = True, random_state = 42)"
   ]
  },
  {
   "cell_type": "code",
   "execution_count": null,
   "metadata": {
    "id": "Ff5oF2YPirDb"
   },
   "outputs": [],
   "source": [
    "i = 0\n",
    "dnn_pred = np.zeros((y_test.shape[0]))\n",
    "for tr_idx, val_idx in skf.split(tr_scaled, y_train) :\n",
    "  i += 1\n",
    "  tr_x, tr_y = tr_scaled[tr_idx], y_train.iloc[tr_idx]\n",
    "  val_x, val_y = tr_scaled[val_idx], y_train.iloc[val_idx]\n",
    "\n",
    "  dnn_input = Input(shape = (8, ), name = 'dnn_input')\n",
    "  dnn_layer = Dense(32, activation = 'swish')(dnn_input)\n",
    "  dnn_layer = Dense(16, activation = 'swish')(dnn_layer)\n",
    "  dnn_layer = Dropout(.3)(dnn_layer)\n",
    "  dnn_layer = Dense(1, activation = 'sigmoid')(dnn_layer)\n",
    "  dnn_model = Model(inputs = dnn_input, outputs = dnn_layer)\n",
    "\n",
    "  dnn_model.compile(optimizer = RMSprop(learning_rate = .003), loss = 'binary_crossentropy', metrics = ['acc'])\n",
    "  es = EarlyStopping(monitor = 'val_acc', patience = 10, verbose = 1)\n",
    "  mc = ModelCheckpoint(f'dnn_model{i}.h5', monitor = 'val_acc', verbose = 1, save_best_only = True)\n",
    "  dnn_model.fit(tr_x, tr_y, batch_size = 16, epochs = 100, validation_split = .2, callbacks = [es, mc])\n",
    "\n",
    "  use_model = load_model(f'dnn_model{i}.h5')\n",
    "\n",
    "  pred = [x[0] for x in use_model.predict(te_scaled) / 10]\n",
    "\n",
    "  dnn_pred += pred"
   ]
  },
  {
   "cell_type": "markdown",
   "metadata": {},
   "source": [
    "예측 확률 기준으로 클래스를 할당하고 0, 1만 존재하는 데이터만 출력"
   ]
  },
  {
   "cell_type": "code",
   "execution_count": 147,
   "metadata": {
    "id": "DFfRPOdKs8Bl"
   },
   "outputs": [],
   "source": [
    "def make_pred_df(actual_df, pred, actual_value) :\n",
    "  cls = []\n",
    "  for p in pred :\n",
    "    if p >= .95 :\n",
    "      cls.append(2)\n",
    "    elif p >= .75 :\n",
    "      cls.append(1)\n",
    "    else :\n",
    "      cls.append(0)\n",
    "\n",
    "  actual_df['prediction'] = cls\n",
    "  actual_df['actual'] = actual_value\n",
    "\n",
    "  in_0_or_1 = actual_df[actual_df['prediction'].isin([0,1])]\n",
    "\n",
    "  return in_0_or_1"
   ]
  },
  {
   "cell_type": "code",
   "execution_count": 124,
   "metadata": {
    "id": "agTLo1hMtuFy"
   },
   "outputs": [],
   "source": [
    "in_0_or_1 = make_pred_df(X_test, dnn_pred, y_test)"
   ]
  },
  {
   "cell_type": "code",
   "execution_count": 125,
   "metadata": {
    "colab": {
     "base_uri": "https://localhost:8080/",
     "height": 279
    },
    "id": "mm6BNeoaD6_A",
    "outputId": "c0a69589-4178-4086-93e0-90031eca5f3b",
    "scrolled": true
   },
   "outputs": [
    {
     "data": {
      "image/png": "[encoded data removed]",
      "text/plain": [
       "<Figure size 432x288 with 1 Axes>"
      ]
     },
     "metadata": {
      "needs_background": "light",
      "tags": []
     },
     "output_type": "display_data"
    }
   ],
   "source": [
    "sns.countplot(in_0_or_1.prediction, edgecolor = (0, 0, 0))\n",
    "plt.show()"
   ]
  },
  {
   "cell_type": "markdown",
   "metadata": {},
   "source": [
    "#### score 확인 커스텀 함수"
   ]
  },
  {
   "cell_type": "code",
   "execution_count": 148,
   "metadata": {
    "id": "Y4ayIT3WpuzQ"
   },
   "outputs": [],
   "source": [
    "def get_score(actual, prediction) :\n",
    "  acc = accuracy_score(actual, prediction)\n",
    "  recall = recall_score(actual, prediction)\n",
    "  f1 = f1_score(actual, prediction)\n",
    "  fpr, tpr, _ = roc_curve(actual, prediction)\n",
    "  AUC = auc(fpr, tpr)\n",
    "\n",
    "  print(f'Accuracy : {acc}')\n",
    "  print(f'Recall : {recall}')\n",
    "  print(f'F1 : {f1}')\n",
    "  print(f'AUC :  {AUC}')"
   ]
  },
  {
   "cell_type": "code",
   "execution_count": 127,
   "metadata": {
    "colab": {
     "base_uri": "https://localhost:8080/"
    },
    "id": "ES2II5qeqARv",
    "outputId": "3b4cb644-adae-479e-9088-fe7367a876de",
    "scrolled": true
   },
   "outputs": [
    {
     "name": "stdout",
     "output_type": "stream",
     "text": [
      "Accuracy : 0.9806763285024155\n",
      "Recall : 0.9619047619047619\n",
      "F1 : 0.9805825242718447\n",
      "AUC :  0.980952380952381\n"
     ]
    }
   ],
   "source": [
    "get_score(in_0_or_1['actual'], in_0_or_1['prediction'])"
   ]
  },
  {
   "cell_type": "markdown",
   "metadata": {},
   "source": [
    "별도의 Csv로 저장"
   ]
  },
  {
   "cell_type": "code",
   "execution_count": null,
   "metadata": {
    "id": "3JHNJLAxjJ2g"
   },
   "outputs": [],
   "source": [
    "X_test[X_test.prediction == 2].to_csv('cls_2.csv', index = False)\n",
    "X_test[X_test.prediction == 1].to_csv('cls_1.csv', index = False)\n",
    "X_test[X_test.prediction == 0].to_csv('cls_0.csv', index = False)"
   ]
  },
  {
   "cell_type": "markdown",
   "metadata": {},
   "source": [
    "데이터중 t2값이 3인 인덱스 저장"
   ]
  },
  {
   "cell_type": "code",
   "execution_count": 128,
   "metadata": {
    "id": "yx0hkiYskklD"
   },
   "outputs": [],
   "source": [
    "idx3 = data[data.t2 == 3].index"
   ]
  },
  {
   "cell_type": "markdown",
   "metadata": {},
   "source": [
    "3과 3이 아닌 데이터를 따로 저장"
   ]
  },
  {
   "cell_type": "code",
   "execution_count": 129,
   "metadata": {
    "id": "R8rrYHovkVZo"
   },
   "outputs": [],
   "source": [
    "in_3 = data[data.t2 == 3]\n",
    "not_in_3 = data[data.t2 != 3]"
   ]
  },
  {
   "cell_type": "markdown",
   "metadata": {},
   "source": [
    "3인 데이터 모델링"
   ]
  },
  {
   "cell_type": "code",
   "execution_count": 132,
   "metadata": {
    "id": "MLoMaaX2qWya"
   },
   "outputs": [],
   "source": [
    "X_test, y_test, tr_scaled, te_scaled = make_data(in_3)"
   ]
  },
  {
   "cell_type": "code",
   "execution_count": null,
   "metadata": {
    "colab": {
     "base_uri": "https://localhost:8080/"
    },
    "id": "5HyWUaRjmZ0T",
    "outputId": "e00e6a1a-4143-46e0-9ce0-59cfbfff16f9"
   },
   "outputs": [],
   "source": [
    "i = 0\n",
    "dnn_pred = np.zeros((y_test.shape[0]))\n",
    "for tr_idx, val_idx in skf.split(tr_scaled, y_train) :\n",
    "  i += 1\n",
    "  tr_x, tr_y = tr_scaled[tr_idx], y_train.iloc[tr_idx]\n",
    "  val_x, val_y = tr_scaled[val_idx], y_train.iloc[val_idx]\n",
    "\n",
    "  dnn_input = Input(shape = (8, ), name = 'dnn_input')\n",
    "  dnn_layer = Dense(32, activation = 'swish')(dnn_input)\n",
    "  dnn_layer = Dense(16, activation = 'swish')(dnn_layer)\n",
    "  dnn_layer = Dropout(.3)(dnn_layer)\n",
    "  dnn_layer = Dense(1, activation = 'sigmoid')(dnn_layer)\n",
    "  dnn_model = Model(inputs = dnn_input, outputs = dnn_layer)\n",
    "\n",
    "  dnn_model.compile(optimizer = RMSprop(learning_rate = .003), loss = 'binary_crossentropy', metrics = ['acc'])\n",
    "  es = EarlyStopping(monitor = 'val_acc', patience = 10, verbose = 1)\n",
    "  mc = ModelCheckpoint(f'dnn_model{i}.h5', monitor = 'val_acc', verbose = 1, save_best_only = True)\n",
    "  dnn_model.fit(tr_x, tr_y, batch_size = 16, epochs = 100, validation_split = .2, callbacks = [es, mc])\n",
    "\n",
    "  use_model = load_model(f'dnn_model{i}.h5')\n",
    "\n",
    "  pred = [x[0] for x in use_model.predict(te_scaled) / 10]\n",
    "\n",
    "  dnn_pred += pred"
   ]
  },
  {
   "cell_type": "code",
   "execution_count": 134,
   "metadata": {
    "id": "OZWbkh1juB0N"
   },
   "outputs": [],
   "source": [
    "in_0_or_1 = make_pred_df(X_test, dnn_pred, y_test)"
   ]
  },
  {
   "cell_type": "code",
   "execution_count": 135,
   "metadata": {
    "colab": {
     "base_uri": "https://localhost:8080/"
    },
    "id": "hr3J79VEskUL",
    "outputId": "0233f413-c7ca-409d-c8b9-abc588f2e546",
    "scrolled": true
   },
   "outputs": [
    {
     "name": "stdout",
     "output_type": "stream",
     "text": [
      "Accuracy : 0.9806763285024155\n",
      "Recall : 0.9619047619047619\n",
      "F1 : 0.9805825242718447\n",
      "AUC :  0.980952380952381\n"
     ]
    }
   ],
   "source": [
    "get_score(in_0_or_1['actual'], in_0_or_1['prediction'])"
   ]
  },
  {
   "cell_type": "markdown",
   "metadata": {},
   "source": [
    "3이 아닌 데이터 모델링"
   ]
  },
  {
   "cell_type": "code",
   "execution_count": null,
   "metadata": {
    "id": "KYeUITh7uRHH"
   },
   "outputs": [],
   "source": [
    "X_test, y_test, tr_scaled, te_scaled = make_data(not_in_3)"
   ]
  },
  {
   "cell_type": "code",
   "execution_count": null,
   "metadata": {
    "id": "PNOODLdtsof2"
   },
   "outputs": [],
   "source": [
    "i = 0\n",
    "dnn_pred = np.zeros((y_test.shape[0]))\n",
    "for tr_idx, val_idx in skf.split(tr_scaled, y_train) :\n",
    "  i += 1\n",
    "  tr_x, tr_y = tr_scaled[tr_idx], y_train.iloc[tr_idx]\n",
    "  val_x, val_y = tr_scaled[val_idx], y_train.iloc[val_idx]\n",
    "\n",
    "  dnn_input = Input(shape = (8, ), name = 'dnn_input')\n",
    "  dnn_layer = Dense(32, activation = 'swish')(dnn_input)\n",
    "  dnn_layer = Dense(32, activation = 'swish')(dnn_layer)\n",
    "  dnn_layer = Dropout(.3)(dnn_layer)\n",
    "  dnn_layer = Dense(8, activation = 'swish')(dnn_layer)\n",
    "  dnn_layer = Dense(1, activation = 'sigmoid')(dnn_layer)\n",
    "  dnn_model = Model(inputs = dnn_input, outputs = dnn_layer)\n",
    "\n",
    "  dnn_model.compile(optimizer = Adam(learning_rate = .003), loss = 'binary_crossentropy', metrics = ['acc'])\n",
    "  es = EarlyStopping(monitor = 'val_acc', patience = 10, verbose = 1)\n",
    "  mc = ModelCheckpoint(f'dnn_model{i}.h5', monitor = 'val_acc', verbose = 1, save_best_only = True)\n",
    "  dnn_model.fit(tr_x, tr_y, batch_size = 16, epochs = 100, validation_split = .2, callbacks = [es, mc])\n",
    "\n",
    "  use_model = load_model(f'dnn_model{i}.h5')\n",
    "\n",
    "  pred = [x[0] for x in use_model.predict(te_scaled) / 10]\n",
    "\n",
    "  dnn_pred += pred"
   ]
  },
  {
   "cell_type": "code",
   "execution_count": null,
   "metadata": {
    "id": "yW9DyfQCuE1s"
   },
   "outputs": [],
   "source": [
    "in_0_or_1 = make_pred_df(X_test, dnn_pred, y_test)"
   ]
  },
  {
   "cell_type": "code",
   "execution_count": null,
   "metadata": {
    "id": "uGVgoMfWuJiC"
   },
   "outputs": [],
   "source": [
    "get_score(in_0_or_1['actual'], in_0_or_1['prediction'])"
   ]
  },
  {
   "cell_type": "markdown",
   "metadata": {},
   "source": [
    "파라미터 조정 -> 케라스 튜너 사용"
   ]
  },
  {
   "cell_type": "code",
   "execution_count": 19,
   "metadata": {
    "id": "vkFjRXxIhQ-x"
   },
   "outputs": [],
   "source": [
    "!pip install -q -U keras-tuner\n",
    "import kerastuner as kt\n",
    "from kerastuner.tuners import RandomSearch"
   ]
  },
  {
   "cell_type": "code",
   "execution_count": 139,
   "metadata": {
    "id": "WEVrGDuYuX55"
   },
   "outputs": [],
   "source": [
    "X_test, y_test, tr_scaled, te_scaled = make_data(data)"
   ]
  },
  {
   "cell_type": "code",
   "execution_count": 140,
   "metadata": {
    "id": "0XIEFEN4hbRJ"
   },
   "outputs": [],
   "source": [
    "def build_model(hp):\n",
    "  model = Sequential()\n",
    "  model.add(Dense(\n",
    "      hp.Choice('units', [8, 16, 32]),\n",
    "      activation='swish'))\n",
    "  model.add(Dense(hp.Choice('units', [8,16,32]), activation = 'swish'))\n",
    "  model.add(Dropout(.3))\n",
    "  model.add(Dense(1, activation='sigmoid'))\n",
    "  model.compile(optimizer = RMSprop(learning_rate = .003), loss = 'binary_crossentropy', metrics = ['acc'])\n",
    "  return model"
   ]
  },
  {
   "cell_type": "code",
   "execution_count": 141,
   "metadata": {
    "colab": {
     "base_uri": "https://localhost:8080/"
    },
    "id": "ElYA-daViog7",
    "outputId": "124506ef-1be0-4253-cdf5-aeae033fd473"
   },
   "outputs": [
    {
     "name": "stdout",
     "output_type": "stream",
     "text": [
      "INFO:tensorflow:Reloading Oracle from existing project ./untitled_project/oracle.json\n",
      "INFO:tensorflow:Reloading Tuner from ./untitled_project/tuner0.json\n"
     ]
    }
   ],
   "source": [
    "tuner = kt.RandomSearch(\n",
    "    build_model,\n",
    "    objective='val_acc',\n",
    "    max_trials = 15,\n",
    "    seed = 42)"
   ]
  },
  {
   "cell_type": "code",
   "execution_count": 142,
   "metadata": {
    "colab": {
     "base_uri": "https://localhost:8080/"
    },
    "id": "45QOSGAWirW1",
    "outputId": "1dc6721a-e1d2-44f3-9e32-b803c74e3b2b"
   },
   "outputs": [
    {
     "name": "stdout",
     "output_type": "stream",
     "text": [
      "INFO:tensorflow:Oracle triggered exit\n"
     ]
    }
   ],
   "source": [
    "tuner.search(tr_scaled, y_train, epochs = 20, validation_split = .2)\n",
    "best_model = tuner.get_best_models()[0]"
   ]
  },
  {
   "cell_type": "code",
   "execution_count": 143,
   "metadata": {
    "id": "k85YTG03inU9"
   },
   "outputs": [],
   "source": [
    "kt_pred = best_model.predict(te_scaled)"
   ]
  },
  {
   "cell_type": "code",
   "execution_count": 149,
   "metadata": {
    "id": "3kFFy6HmueJd"
   },
   "outputs": [],
   "source": [
    "in_0_or_1 = make_pred_df(X_test, kt_pred, y_test)"
   ]
  },
  {
   "cell_type": "code",
   "execution_count": 150,
   "metadata": {
    "colab": {
     "base_uri": "https://localhost:8080/"
    },
    "id": "rzfygHIqufV8",
    "outputId": "f1bb94b4-42f9-409f-d5d0-e213d2bf9c5e"
   },
   "outputs": [
    {
     "name": "stdout",
     "output_type": "stream",
     "text": [
      "Accuracy : 0.968\n",
      "Recall : 0.8260869565217391\n",
      "F1 : 0.9047619047619047\n",
      "AUC :  0.9130434782608696\n"
     ]
    }
   ],
   "source": [
    "get_score(in_0_or_1['actual'], in_0_or_1['prediction'])"
   ]
  }
 ],
 "metadata": {
  "colab": {
   "collapsed_sections": [],
   "name": "nn.ipynb",
   "provenance": []
  },
  "kernelspec": {
   "display_name": "Python 3",
   "language": "python",
   "name": "python3"
  },
  "language_info": {
   "codemirror_mode": {
    "name": "ipython",
    "version": 3
   },
   "file_extension": ".py",
   "mimetype": "text/x-python",
   "name": "python",
   "nbconvert_exporter": "python",
   "pygments_lexer": "ipython3",
   "version": "3.8.2"
  }
 },
 "nbformat": 4,
 "nbformat_minor": 1
}
