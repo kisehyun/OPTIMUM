{
 "cells": [
  {
   "cell_type": "code",
   "execution_count": 2,
   "metadata": {
    "colab": {
     "base_uri": "https://localhost:8080/"
    },
    "id": "humGt1aIW7xU",
    "outputId": "3e3cdb7f-f636-48fa-ea14-2fe3da3e055a"
   },
   "outputs": [],
   "source": [
    "import pandas as pd\n",
    "import numpy as np\n",
    "import matplotlib.pyplot as plt\n",
    "import seaborn as sns\n",
    "%matplotlib inline\n",
    "#from google.colab import drive\n",
    "#drive.mount('/content/gdrive/', force_remount = True)"
   ]
  },
  {
   "cell_type": "code",
   "execution_count": null,
   "metadata": {
    "colab": {
     "base_uri": "https://localhost:8080/"
    },
    "id": "xXt7Te9DX5lr",
    "outputId": "a36a0474-0c5c-439c-9347-58f369b75a4a"
   },
   "outputs": [],
   "source": [
    "%cd /content/gdrive/My Drive/optimum/20210612_DL_reg_cls"
   ]
  },
  {
   "cell_type": "markdown",
   "metadata": {
    "id": "qg-oupJwW7xW"
   },
   "source": [
    "## training phenotype data"
   ]
  },
  {
   "cell_type": "code",
   "execution_count": 3,
   "metadata": {
    "id": "2voYbv6KW7xW"
   },
   "outputs": [],
   "source": [
    "tr_phe_conti = pd.read_csv(\"pheno_n300_conti.phe\", sep = '\\t', names = ['family_id', 'individual_id', 'phenotype_1', 'phenotype_2'])\n",
    "tr_phe_bn = pd.read_csv(\"pheno_n300_binary.phe\", sep = '\\t', names = ['family_id', 'individual_id', 'phenotype_1', 'phenotype_2'])"
   ]
  },
  {
   "cell_type": "code",
   "execution_count": 4,
   "metadata": {
    "id": "qmO8PzHCW7xW"
   },
   "outputs": [],
   "source": [
    "tr_phe_conti = tr_phe_conti.astype('float64')"
   ]
  },
  {
   "cell_type": "code",
   "execution_count": 5,
   "metadata": {
    "id": "rBc7woYtW7xX"
   },
   "outputs": [],
   "source": [
    "tr_phe_bn = tr_phe_bn.astype('int64')"
   ]
  },
  {
   "cell_type": "markdown",
   "metadata": {
    "id": "cg5jM3w6W7xX"
   },
   "source": [
    "## training genotype data"
   ]
  },
  {
   "cell_type": "code",
   "execution_count": 6,
   "metadata": {
    "id": "wozcO79WW7xX"
   },
   "outputs": [],
   "source": [
    "tr_ge_mldose = pd.read_csv('sim_n300_p1000.mldose', sep = '\\t', names = ['family_id', 'individual_id'] + [f'snp{i}' for i in range(1, 1001)])\n",
    "tr_ge_mlinfo = pd.read_csv('sim_n300_p1000.mlinfo', sep = '\\t')"
   ]
  },
  {
   "cell_type": "markdown",
   "metadata": {
    "id": "puBE7zlGW7xX"
   },
   "source": [
    "## test phenotype data"
   ]
  },
  {
   "cell_type": "code",
   "execution_count": 7,
   "metadata": {
    "id": "g8s0MMwlW7xX"
   },
   "outputs": [],
   "source": [
    "te_phe_conti = pd.read_csv(\"pheno_n150_conti.phe\", sep = '\\t', names = ['family_id', 'individual_id', 'phenotype_1', 'phenotype_2'])\n",
    "te_phe_bn = pd.read_csv(\"pheno_n150_binary.phe\", sep = '\\t', names = ['family_id', 'individual_id', 'phenotype_1', 'phenotype_2'])"
   ]
  },
  {
   "cell_type": "code",
   "execution_count": 8,
   "metadata": {
    "id": "tHUcy3u2W7xX"
   },
   "outputs": [],
   "source": [
    "te_phe_conti = te_phe_conti.astype('float64')"
   ]
  },
  {
   "cell_type": "code",
   "execution_count": 9,
   "metadata": {
    "id": "JGd7uLoZW7xY"
   },
   "outputs": [],
   "source": [
    "te_phe_bn = te_phe_bn.astype('int64')"
   ]
  },
  {
   "cell_type": "markdown",
   "metadata": {
    "id": "bMMDYh75W7xZ"
   },
   "source": [
    "## test genotype data"
   ]
  },
  {
   "cell_type": "code",
   "execution_count": 10,
   "metadata": {
    "id": "9687ALkiW7xZ"
   },
   "outputs": [],
   "source": [
    "te_ge_mldose = pd.read_csv('sim_n150_p1000.mldose', sep = '\\t', names = ['family_id', 'individual_id'] + [f'snp{i}' for i in range(1, 1001)])\n",
    "te_ge_mlinfo = pd.read_csv('sim_n150_p1000.mlinfo', sep = '\\t')"
   ]
  },
  {
   "cell_type": "markdown",
   "metadata": {},
   "source": [
    "## Target Data "
   ]
  },
  {
   "cell_type": "code",
   "execution_count": 11,
   "metadata": {
    "id": "Lg3zq5gKW7xY"
   },
   "outputs": [],
   "source": [
    "target_c1 = te_phe_conti.phenotype_1\n",
    "target_c2 = te_phe_conti.phenotype_2"
   ]
  },
  {
   "cell_type": "code",
   "execution_count": 12,
   "metadata": {
    "id": "GaXnzRj8W7xY"
   },
   "outputs": [],
   "source": [
    "target_b1 = te_phe_bn.phenotype_1\n",
    "target_b2 = te_phe_bn.phenotype_2"
   ]
  },
  {
   "cell_type": "markdown",
   "metadata": {
    "id": "Ox2syBHhW7xZ"
   },
   "source": [
    "### Moldeing Package Import"
   ]
  },
  {
   "cell_type": "code",
   "execution_count": 13,
   "metadata": {
    "id": "JmrWliYSW7xZ"
   },
   "outputs": [],
   "source": [
    "from sklearn.model_selection import KFold, StratifiedKFold, train_test_split\n",
    "from sklearn.ensemble import GradientBoostingClassifier, GradientBoostingRegressor, RandomForestClassifier, RandomForestRegressor, \\\n",
    "ExtraTreesClassifier, ExtraTreesRegressor, AdaBoostClassifier, AdaBoostRegressor\n",
    "from lightgbm import LGBMClassifier, LGBMRegressor\n",
    "from sklearn.svm import SVR, SVC\n",
    "\n",
    "from xgboost import XGBClassifier, XGBRegressor\n",
    "from sklearn.metrics import mean_squared_error, accuracy_score, roc_auc_score\n",
    "from sklearn.preprocessing import MinMaxScaler"
   ]
  },
  {
   "cell_type": "markdown",
   "metadata": {},
   "source": [
    "## Make Data\n",
    "\n",
    "### - Make Original Data Set"
   ]
  },
  {
   "cell_type": "code",
   "execution_count": 14,
   "metadata": {
    "id": "AheZ7Cd9W7xa"
   },
   "outputs": [],
   "source": [
    "X = tr_ge_mldose.iloc[:, 2:]"
   ]
  },
  {
   "cell_type": "code",
   "execution_count": 15,
   "metadata": {
    "id": "swmOBN3NW7xa"
   },
   "outputs": [],
   "source": [
    "target = te_ge_mldose.iloc[:, 2:]"
   ]
  },
  {
   "cell_type": "markdown",
   "metadata": {
    "id": "ZvAyPftNW7xa"
   },
   "source": [
    "### - Make Data MinMaxScaled"
   ]
  },
  {
   "cell_type": "code",
   "execution_count": 16,
   "metadata": {
    "id": "-tfWjKjUW7xa"
   },
   "outputs": [],
   "source": [
    "scaler = MinMaxScaler()"
   ]
  },
  {
   "cell_type": "code",
   "execution_count": 17,
   "metadata": {
    "id": "rcW_howrW7xa"
   },
   "outputs": [],
   "source": [
    "scaled_x = scaler.fit_transform(X)"
   ]
  },
  {
   "cell_type": "code",
   "execution_count": 18,
   "metadata": {
    "id": "31fXVKxaW7xb"
   },
   "outputs": [],
   "source": [
    "scaled_target = scaler.transform(target)"
   ]
  },
  {
   "cell_type": "markdown",
   "metadata": {
    "id": "ylT9DC6-W7xb"
   },
   "source": [
    "## Moldeing & Score\n",
    "\n",
    "### 1. Regression"
   ]
  },
  {
   "cell_type": "code",
   "execution_count": 19,
   "metadata": {
    "id": "OwLEQ7lGW7xb"
   },
   "outputs": [],
   "source": [
    "gb_r = GradientBoostingRegressor(random_state = 612, max_depth = 4)\n",
    "svr = SVR()\n",
    "lgbm_r = LGBMRegressor(random_state = 612, max_depth = 3)\n",
    "rf_r = RandomForestRegressor(random_state = 612)\n",
    "etc_r = ExtraTreesRegressor(random_state = 612)\n",
    "adb_r = AdaBoostRegressor(random_state = 612)\n",
    "xgb_r = XGBRegressor(random_state = 612, max_depth = 3)"
   ]
  },
  {
   "cell_type": "code",
   "execution_count": 20,
   "metadata": {
    "id": "1dRGisGRW7xb"
   },
   "outputs": [],
   "source": [
    "y_c1 = tr_phe_conti.phenotype_1\n",
    "y_c2 = tr_phe_conti.phenotype_2"
   ]
  },
  {
   "cell_type": "code",
   "execution_count": 21,
   "metadata": {
    "id": "EF6vVe50W7xb"
   },
   "outputs": [],
   "source": [
    "reg_models = [gb_r, svr, lgbm_r, rf_r, etc_r, adb_r, xgb_r]"
   ]
  },
  {
   "cell_type": "code",
   "execution_count": 22,
   "metadata": {
    "id": "bICVF7JtW7xb"
   },
   "outputs": [],
   "source": [
    "reg_model_names = [x.__class__.__name__ for x in reg_models]"
   ]
  },
  {
   "cell_type": "markdown",
   "metadata": {},
   "source": [
    "### Custom Function"
   ]
  },
  {
   "cell_type": "code",
   "execution_count": 23,
   "metadata": {
    "id": "dk9kO0pHW7xb"
   },
   "outputs": [],
   "source": [
    "def get_rmse(x, y, target_x, target_y) :\n",
    "    rmse_list = []\n",
    "    for model in reg_models :\n",
    "        model.fit(x, y)\n",
    "        \n",
    "        pred = model.predict(target_x)\n",
    "        \n",
    "        rmse = mean_squared_error(target_y, pred)\n",
    "        rmse_list.append(rmse)\n",
    "        print(f'{model.__class__.__name__}의 RMSE : {rmse}')\n",
    "    return rmse_list"
   ]
  },
  {
   "cell_type": "markdown",
   "metadata": {
    "id": "iWmfgkeKW7xc"
   },
   "source": [
    "- Original Data"
   ]
  },
  {
   "cell_type": "code",
   "execution_count": 24,
   "metadata": {
    "colab": {
     "base_uri": "https://localhost:8080/"
    },
    "id": "aESq4IejW7xc",
    "outputId": "9ece52b8-7287-4480-fce2-208784b5d023"
   },
   "outputs": [
    {
     "name": "stdout",
     "output_type": "stream",
     "text": [
      "GradientBoostingRegressor의 RMSE : 0.8514001053429748\n",
      "SVR의 RMSE : 0.7278016412389754\n",
      "LGBMRegressor의 RMSE : 0.727489591967356\n",
      "RandomForestRegressor의 RMSE : 0.7575681003670636\n",
      "ExtraTreesRegressor의 RMSE : 0.8018454137517392\n",
      "AdaBoostRegressor의 RMSE : 0.7578437397070037\n",
      "XGBRegressor의 RMSE : 0.7471830972908193\n"
     ]
    }
   ],
   "source": [
    "tc1 = get_rmse(X, y_c1, target, target_c1)"
   ]
  },
  {
   "cell_type": "code",
   "execution_count": 25,
   "metadata": {
    "colab": {
     "base_uri": "https://localhost:8080/",
     "height": 409
    },
    "id": "eNHNyH6MW7xd",
    "outputId": "febc88e7-b77a-42d5-ff4b-c07819aa4876",
    "scrolled": false
   },
   "outputs": [
    {
     "data": {
      "image/png": "[encoded data removed]",
      "text/plain": [
       "<Figure size 720x432 with 1 Axes>"
      ]
     },
     "metadata": {
      "needs_background": "light"
     },
     "output_type": "display_data"
    }
   ],
   "source": [
    "plt.figure(figsize = (10, 6))\n",
    "plt.title('RMSE of Each Model\\n(phenotype_1)', size = 15)\n",
    "sns.barplot(y = reg_model_names, x = tc1, edgecolor = (0, 0, 0))\n",
    "plt.show()"
   ]
  },
  {
   "cell_type": "code",
   "execution_count": 26,
   "metadata": {
    "colab": {
     "base_uri": "https://localhost:8080/"
    },
    "id": "3GEI7Dd_W7xe",
    "outputId": "267ca0a5-ae87-460e-c8da-7ee11abaaaf4"
   },
   "outputs": [
    {
     "name": "stdout",
     "output_type": "stream",
     "text": [
      "GradientBoostingRegressor의 RMSE : 1.1377784398586517\n",
      "SVR의 RMSE : 1.0978779426985743\n",
      "LGBMRegressor의 RMSE : 1.091153214648743\n",
      "RandomForestRegressor의 RMSE : 1.093569897410248\n",
      "ExtraTreesRegressor의 RMSE : 1.1509990226285454\n",
      "AdaBoostRegressor의 RMSE : 1.149328665380851\n",
      "XGBRegressor의 RMSE : 1.1173162951424997\n"
     ]
    }
   ],
   "source": [
    "tc2 = get_rmse(X, y_c2, target, target_c2)"
   ]
  },
  {
   "cell_type": "code",
   "execution_count": 27,
   "metadata": {
    "colab": {
     "base_uri": "https://localhost:8080/",
     "height": 409
    },
    "id": "oDqx-mRLW7xf",
    "outputId": "ae5579c8-a6a8-4c7c-8ed4-6f7b9cc5783f",
    "scrolled": true
   },
   "outputs": [
    {
     "data": {
      "image/png": "[encoded data removed]",
      "text/plain": [
       "<Figure size 720x432 with 1 Axes>"
      ]
     },
     "metadata": {
      "needs_background": "light"
     },
     "output_type": "display_data"
    }
   ],
   "source": [
    "plt.figure(figsize = (10, 6))\n",
    "plt.title('RMSE of Each Model\\n(phenotype_2)', size = 15)\n",
    "sns.barplot(y = reg_model_names, x = tc2, edgecolor = (0, 0, 0))\n",
    "plt.show()"
   ]
  },
  {
   "cell_type": "markdown",
   "metadata": {
    "id": "Y26ika7NW7xg"
   },
   "source": [
    "- Scaling"
   ]
  },
  {
   "cell_type": "code",
   "execution_count": 28,
   "metadata": {
    "colab": {
     "base_uri": "https://localhost:8080/"
    },
    "id": "x385vL8TW7xh",
    "outputId": "b8ea61cc-81eb-45ef-bb0e-5f4bbd5e7bdf",
    "scrolled": false
   },
   "outputs": [
    {
     "name": "stdout",
     "output_type": "stream",
     "text": [
      "GradientBoostingRegressor의 RMSE : 0.8507649477227243\n",
      "SVR의 RMSE : 0.7242877471672009\n",
      "LGBMRegressor의 RMSE : 0.7135086505458016\n",
      "RandomForestRegressor의 RMSE : 0.7574489734870443\n",
      "ExtraTreesRegressor의 RMSE : 0.801654691829908\n",
      "AdaBoostRegressor의 RMSE : 0.7629151454552664\n",
      "XGBRegressor의 RMSE : 0.7471830972908193\n"
     ]
    }
   ],
   "source": [
    "stc1 = get_rmse(scaled_x, y_c1, scaled_target, target_c1)"
   ]
  },
  {
   "cell_type": "code",
   "execution_count": 29,
   "metadata": {
    "colab": {
     "base_uri": "https://localhost:8080/",
     "height": 409
    },
    "id": "MK_NWo7uW7xi",
    "outputId": "b66175f0-b2da-48dc-8f36-b5c16a24b865"
   },
   "outputs": [
    {
     "data": {
      "image/png": "[encoded data removed]",
      "text/plain": [
       "<Figure size 720x432 with 1 Axes>"
      ]
     },
     "metadata": {
      "needs_background": "light"
     },
     "output_type": "display_data"
    }
   ],
   "source": [
    "plt.figure(figsize = (10, 6))\n",
    "plt.title('RMSE of Each Model Using Scaling\\n(phenotype_1)', size = 15)\n",
    "sns.barplot(y = reg_model_names, x = stc1, edgecolor = (0, 0, 0))\n",
    "plt.show()"
   ]
  },
  {
   "cell_type": "code",
   "execution_count": 30,
   "metadata": {
    "colab": {
     "base_uri": "https://localhost:8080/"
    },
    "id": "e5Wj_FiqW7xi",
    "outputId": "66d4b6fc-c3d0-4e87-f2a1-04e95272e9dd",
    "scrolled": true
   },
   "outputs": [
    {
     "name": "stdout",
     "output_type": "stream",
     "text": [
      "GradientBoostingRegressor의 RMSE : 1.141850754829152\n",
      "SVR의 RMSE : 1.097340589926027\n",
      "LGBMRegressor의 RMSE : 1.091153214648743\n",
      "RandomForestRegressor의 RMSE : 1.0929089072328282\n",
      "ExtraTreesRegressor의 RMSE : 1.1509990226285454\n",
      "AdaBoostRegressor의 RMSE : 1.2176523216068111\n",
      "XGBRegressor의 RMSE : 1.1173061151876755\n"
     ]
    }
   ],
   "source": [
    "stc2 = get_rmse(scaled_x, y_c2, scaled_target, target_c2)"
   ]
  },
  {
   "cell_type": "code",
   "execution_count": 31,
   "metadata": {
    "colab": {
     "base_uri": "https://localhost:8080/",
     "height": 409
    },
    "id": "NEPy5F3fW7xi",
    "outputId": "10d758cf-20ce-413c-86e2-e9557d6296d2"
   },
   "outputs": [
    {
     "data": {
      "image/png": "[encoded data removed]",
      "text/plain": [
       "<Figure size 720x432 with 1 Axes>"
      ]
     },
     "metadata": {
      "needs_background": "light"
     },
     "output_type": "display_data"
    }
   ],
   "source": [
    "plt.figure(figsize = (10, 6))\n",
    "plt.title('RMSE of Each Model Using Scaling\\n(phenotype_2)', size = 15)\n",
    "sns.barplot(y = reg_model_names, x = stc2, edgecolor = (0, 0, 0))\n",
    "plt.show()"
   ]
  },
  {
   "cell_type": "markdown",
   "metadata": {
    "id": "_Eqb8NXFW7xj"
   },
   "source": [
    "### 2. Classification"
   ]
  },
  {
   "cell_type": "code",
   "execution_count": 32,
   "metadata": {
    "id": "uUGK0WGRW7xj"
   },
   "outputs": [],
   "source": [
    "gb_c = GradientBoostingClassifier(random_state = 612, max_depth = 3)\n",
    "svc = SVC(probability = True)\n",
    "lgbm_c = LGBMClassifier(random_state = 612, max_depth = 3)\n",
    "rf_c = RandomForestClassifier(random_state = 612)\n",
    "etc_c = ExtraTreesClassifier(random_state = 612)\n",
    "xgb_c = XGBClassifier(random_state = 612, max_depth = 3)"
   ]
  },
  {
   "cell_type": "code",
   "execution_count": 33,
   "metadata": {
    "id": "A3Y0vAzqW7xj"
   },
   "outputs": [],
   "source": [
    "y_b1 = tr_phe_bn.phenotype_1\n",
    "y_b2 = tr_phe_bn.phenotype_2"
   ]
  },
  {
   "cell_type": "code",
   "execution_count": 34,
   "metadata": {
    "id": "6VsisNlYW7xk"
   },
   "outputs": [],
   "source": [
    "clf_models = [gb_c, svc, lgbm_c, rf_c, xgb_c, etc_c]"
   ]
  },
  {
   "cell_type": "code",
   "execution_count": 35,
   "metadata": {
    "id": "dsfYI6z6W7xk"
   },
   "outputs": [],
   "source": [
    "clf_model_names = [x.__class__.__name__ for x in clf_models]"
   ]
  },
  {
   "cell_type": "markdown",
   "metadata": {},
   "source": [
    "### Custom Function"
   ]
  },
  {
   "cell_type": "code",
   "execution_count": 36,
   "metadata": {
    "id": "bFhU_VUnW7xk"
   },
   "outputs": [],
   "source": [
    "def get_acc(x, y, target_x, target_y) :\n",
    "    acc_list = []\n",
    "    for model in clf_models :\n",
    "        model.fit(x, y)\n",
    "        \n",
    "        pred = model.predict_proba(target_x)[:, 1]\n",
    "        label = (pred > .3).astype(int)\n",
    "        acc = accuracy_score(target_y, label)\n",
    "        acc_list.append(acc)\n",
    "        print(f'{model.__class__.__name__}의 accuracy : {acc}')\n",
    "    return acc_list"
   ]
  },
  {
   "cell_type": "markdown",
   "metadata": {
    "id": "7VV0Qy1BW7xk"
   },
   "source": [
    "- Original Data"
   ]
  },
  {
   "cell_type": "code",
   "execution_count": 37,
   "metadata": {
    "colab": {
     "base_uri": "https://localhost:8080/"
    },
    "id": "RsrA8bkdW7xk",
    "outputId": "b247e447-cc42-46bf-dfb5-0126362b4749",
    "scrolled": true
   },
   "outputs": [
    {
     "name": "stdout",
     "output_type": "stream",
     "text": [
      "GradientBoostingClassifier의 accuracy : 0.82\n",
      "SVC의 accuracy : 0.8066666666666666\n",
      "LGBMClassifier의 accuracy : 0.84\n",
      "RandomForestClassifier의 accuracy : 0.7866666666666666\n",
      "[16:02:59] WARNING: /Users/travis/build/dmlc/xgboost/src/learner.cc:1061: Starting in XGBoost 1.3.0, the default evaluation metric used with the objective 'binary:logistic' was changed from 'error' to 'logloss'. Explicitly set eval_metric if you'd like to restore the old behavior.\n"
     ]
    },
    {
     "name": "stderr",
     "output_type": "stream",
     "text": [
      "/Users/kisehyun/opt/anaconda3/lib/python3.8/site-packages/xgboost/sklearn.py:888: UserWarning: The use of label encoder in XGBClassifier is deprecated and will be removed in a future release. To remove this warning, do the following: 1) Pass option use_label_encoder=False when constructing XGBClassifier object; and 2) Encode your labels (y) as integers starting with 0, i.e. 0, 1, 2, ..., [num_class - 1].\n",
      "  warnings.warn(label_encoder_deprecation_msg, UserWarning)\n"
     ]
    },
    {
     "name": "stdout",
     "output_type": "stream",
     "text": [
      "XGBClassifier의 accuracy : 0.7933333333333333\n",
      "ExtraTreesClassifier의 accuracy : 0.7733333333333333\n"
     ]
    }
   ],
   "source": [
    "tb1 = get_acc(X, y_b1, target, target_b1)"
   ]
  },
  {
   "cell_type": "code",
   "execution_count": 38,
   "metadata": {
    "colab": {
     "base_uri": "https://localhost:8080/",
     "height": 409
    },
    "id": "ZO1kGL_UW7xl",
    "outputId": "69f30f0f-d6e5-4b1c-8d08-ab9236497b3f"
   },
   "outputs": [
    {
     "data": {
      "image/png": "[encoded data removed]",
      "text/plain": [
       "<Figure size 720x432 with 1 Axes>"
      ]
     },
     "metadata": {
      "needs_background": "light"
     },
     "output_type": "display_data"
    }
   ],
   "source": [
    "plt.figure(figsize = (10, 6))\n",
    "plt.title('ACCURACY of Each Model\\n(phenotype_1)', size = 15)\n",
    "sns.barplot(y = clf_model_names, x = tb1, edgecolor = (0, 0, 0))\n",
    "plt.show()"
   ]
  },
  {
   "cell_type": "code",
   "execution_count": 39,
   "metadata": {
    "colab": {
     "base_uri": "https://localhost:8080/"
    },
    "id": "2KIYH1TTW7xl",
    "outputId": "9ad91518-dec4-4622-f1f1-63f7e04a2058"
   },
   "outputs": [
    {
     "name": "stdout",
     "output_type": "stream",
     "text": [
      "GradientBoostingClassifier의 accuracy : 0.78\n",
      "SVC의 accuracy : 0.8266666666666667\n",
      "LGBMClassifier의 accuracy : 0.7866666666666666\n",
      "RandomForestClassifier의 accuracy : 0.8133333333333334\n",
      "[16:12:15] WARNING: /Users/travis/build/dmlc/xgboost/src/learner.cc:1061: Starting in XGBoost 1.3.0, the default evaluation metric used with the objective 'binary:logistic' was changed from 'error' to 'logloss'. Explicitly set eval_metric if you'd like to restore the old behavior.\n"
     ]
    },
    {
     "name": "stderr",
     "output_type": "stream",
     "text": [
      "/Users/kisehyun/opt/anaconda3/lib/python3.8/site-packages/xgboost/sklearn.py:888: UserWarning: The use of label encoder in XGBClassifier is deprecated and will be removed in a future release. To remove this warning, do the following: 1) Pass option use_label_encoder=False when constructing XGBClassifier object; and 2) Encode your labels (y) as integers starting with 0, i.e. 0, 1, 2, ..., [num_class - 1].\n",
      "  warnings.warn(label_encoder_deprecation_msg, UserWarning)\n"
     ]
    },
    {
     "name": "stdout",
     "output_type": "stream",
     "text": [
      "XGBClassifier의 accuracy : 0.7933333333333333\n",
      "ExtraTreesClassifier의 accuracy : 0.8333333333333334\n"
     ]
    }
   ],
   "source": [
    "tb2 = get_acc(X, y_b2, target, target_b2)"
   ]
  },
  {
   "cell_type": "code",
   "execution_count": 40,
   "metadata": {
    "colab": {
     "base_uri": "https://localhost:8080/",
     "height": 409
    },
    "id": "MBgnLJHcW7xl",
    "outputId": "bc736310-d58a-4e2d-8bff-0f26b223c022",
    "scrolled": true
   },
   "outputs": [
    {
     "data": {
      "image/png": "[encoded data removed]",
      "text/plain": [
       "<Figure size 720x432 with 1 Axes>"
      ]
     },
     "metadata": {
      "needs_background": "light"
     },
     "output_type": "display_data"
    }
   ],
   "source": [
    "plt.figure(figsize = (10, 6))\n",
    "plt.title('ACCURACY of Each Model\\n(phenotype_2)', size = 15)\n",
    "sns.barplot(y = clf_model_names, x = tb2, edgecolor = (0, 0, 0))\n",
    "plt.show()"
   ]
  },
  {
   "cell_type": "markdown",
   "metadata": {},
   "source": [
    "- Scaling"
   ]
  },
  {
   "cell_type": "code",
   "execution_count": 41,
   "metadata": {
    "colab": {
     "base_uri": "https://localhost:8080/"
    },
    "id": "FZu8siBBYjYZ",
    "outputId": "da9a5a47-f859-4f25-a545-e6730b721852"
   },
   "outputs": [
    {
     "name": "stdout",
     "output_type": "stream",
     "text": [
      "GradientBoostingClassifier의 accuracy : 0.82\n",
      "SVC의 accuracy : 0.8\n",
      "LGBMClassifier의 accuracy : 0.8266666666666667\n",
      "RandomForestClassifier의 accuracy : 0.78\n",
      "[16:12:18] WARNING: /Users/travis/build/dmlc/xgboost/src/learner.cc:1061: Starting in XGBoost 1.3.0, the default evaluation metric used with the objective 'binary:logistic' was changed from 'error' to 'logloss'. Explicitly set eval_metric if you'd like to restore the old behavior.\n"
     ]
    },
    {
     "name": "stderr",
     "output_type": "stream",
     "text": [
      "/Users/kisehyun/opt/anaconda3/lib/python3.8/site-packages/xgboost/sklearn.py:888: UserWarning: The use of label encoder in XGBClassifier is deprecated and will be removed in a future release. To remove this warning, do the following: 1) Pass option use_label_encoder=False when constructing XGBClassifier object; and 2) Encode your labels (y) as integers starting with 0, i.e. 0, 1, 2, ..., [num_class - 1].\n",
      "  warnings.warn(label_encoder_deprecation_msg, UserWarning)\n"
     ]
    },
    {
     "name": "stdout",
     "output_type": "stream",
     "text": [
      "XGBClassifier의 accuracy : 0.7933333333333333\n",
      "ExtraTreesClassifier의 accuracy : 0.7733333333333333\n"
     ]
    }
   ],
   "source": [
    "stb1 = get_acc(scaled_x, y_b1, scaled_target, target_b1)"
   ]
  },
  {
   "cell_type": "code",
   "execution_count": 42,
   "metadata": {
    "colab": {
     "base_uri": "https://localhost:8080/",
     "height": 409
    },
    "id": "8iQp7Pf1Ypm_",
    "outputId": "5b78a51c-83da-4af5-8c14-79654d784291"
   },
   "outputs": [
    {
     "data": {
      "image/png": "[encoded data removed]",
      "text/plain": [
       "<Figure size 720x432 with 1 Axes>"
      ]
     },
     "metadata": {
      "needs_background": "light"
     },
     "output_type": "display_data"
    }
   ],
   "source": [
    "plt.figure(figsize = (10, 6))\n",
    "plt.title('ACCURACY of Each Model Using Scaling\\n(phenotype_1)', size = 15)\n",
    "sns.barplot(y = clf_model_names, x = stb1, edgecolor = (0, 0, 0))\n",
    "plt.show()"
   ]
  },
  {
   "cell_type": "code",
   "execution_count": 43,
   "metadata": {
    "colab": {
     "base_uri": "https://localhost:8080/"
    },
    "id": "2Zk4fHGtYt9n",
    "outputId": "5ef87531-2bab-4fba-853f-1be09db32939"
   },
   "outputs": [
    {
     "name": "stdout",
     "output_type": "stream",
     "text": [
      "GradientBoostingClassifier의 accuracy : 0.78\n",
      "SVC의 accuracy : 0.8266666666666667\n",
      "LGBMClassifier의 accuracy : 0.7933333333333333\n",
      "RandomForestClassifier의 accuracy : 0.8133333333333334\n",
      "[16:12:22] WARNING: /Users/travis/build/dmlc/xgboost/src/learner.cc:1061: Starting in XGBoost 1.3.0, the default evaluation metric used with the objective 'binary:logistic' was changed from 'error' to 'logloss'. Explicitly set eval_metric if you'd like to restore the old behavior.\n"
     ]
    },
    {
     "name": "stderr",
     "output_type": "stream",
     "text": [
      "/Users/kisehyun/opt/anaconda3/lib/python3.8/site-packages/xgboost/sklearn.py:888: UserWarning: The use of label encoder in XGBClassifier is deprecated and will be removed in a future release. To remove this warning, do the following: 1) Pass option use_label_encoder=False when constructing XGBClassifier object; and 2) Encode your labels (y) as integers starting with 0, i.e. 0, 1, 2, ..., [num_class - 1].\n",
      "  warnings.warn(label_encoder_deprecation_msg, UserWarning)\n"
     ]
    },
    {
     "name": "stdout",
     "output_type": "stream",
     "text": [
      "XGBClassifier의 accuracy : 0.7933333333333333\n",
      "ExtraTreesClassifier의 accuracy : 0.8333333333333334\n"
     ]
    }
   ],
   "source": [
    "stb2 = get_acc(scaled_x, y_b2, scaled_target, target_b2)"
   ]
  },
  {
   "cell_type": "code",
   "execution_count": 44,
   "metadata": {
    "colab": {
     "base_uri": "https://localhost:8080/",
     "height": 409
    },
    "id": "pJj0qzCvYxk4",
    "outputId": "f5d718f4-608f-4fee-9fe1-def802053ed5"
   },
   "outputs": [
    {
     "data": {
      "image/png": "[encoded data removed]",
      "text/plain": [
       "<Figure size 720x432 with 1 Axes>"
      ]
     },
     "metadata": {
      "needs_background": "light"
     },
     "output_type": "display_data"
    }
   ],
   "source": [
    "plt.figure(figsize = (10, 6))\n",
    "plt.title('ACCURACY of Each Model Using Scaling\\n(phenotype_2)', size = 15)\n",
    "sns.barplot(y = clf_model_names, x = stb2, edgecolor = (0, 0, 0))\n",
    "plt.show()"
   ]
  },
  {
   "cell_type": "markdown",
   "metadata": {},
   "source": [
    "### - PCA Features"
   ]
  },
  {
   "cell_type": "code",
   "execution_count": 45,
   "metadata": {
    "id": "l-xYx5EnW7xl"
   },
   "outputs": [],
   "source": [
    "from sklearn.decomposition import PCA"
   ]
  },
  {
   "cell_type": "markdown",
   "metadata": {},
   "source": [
    "### Custom Function for Making PCA Data"
   ]
  },
  {
   "cell_type": "code",
   "execution_count": 46,
   "metadata": {
    "id": "munbESpgW7xl"
   },
   "outputs": [],
   "source": [
    "def make_pca(x1, x2) :\n",
    "    pca = PCA(n_components = 300)\n",
    "    pca.fit(x1)\n",
    "    comp = pca.transform(x1)\n",
    "    pca_df = pd.DataFrame(comp, columns = [f'주성분{i}' for i in range(1, comp.shape[1] + 1)])\n",
    "    loadings = pd.DataFrame(pca.components_.T, columns = [f'주성분{i}' for i in range(1, comp.shape[1] + 1)])\n",
    "    ax = pd.DataFrame(pca_df.std()).T\n",
    "    pca_summary = pd.concat([ax,pd.DataFrame(pca.explained_variance_ratio_).set_index(ax.columns).T])\n",
    "    proportion = pca.explained_variance_ratio_\n",
    "    s = 0\n",
    "    result = []\n",
    "    for i in range(len(proportion)) :\n",
    "        s = s+ proportion[i]\n",
    "        result.append(np.round(s,4))\n",
    "    pca_summary.loc[1] = result\n",
    "    pca_summary.index = ['표준편차', '변동량', '누적변동량']\n",
    "    df = pca_summary.T\n",
    "    pca_n = int(df[df.누적변동량 >= 0.85].index[0][-3:])\n",
    "    pca = PCA(n_components = pca_n, random_state = 613)\n",
    "    pca_X = pca.fit_transform(x1)\n",
    "    pca_target = pca.transform(x2)\n",
    "    return pca_X, pca_target"
   ]
  },
  {
   "cell_type": "code",
   "execution_count": 47,
   "metadata": {
    "id": "MPn-X9JYW7xl"
   },
   "outputs": [],
   "source": [
    "pca_X, pca_target = make_pca(X, target)"
   ]
  },
  {
   "cell_type": "code",
   "execution_count": 48,
   "metadata": {
    "id": "DaJWS9zoW7xl"
   },
   "outputs": [],
   "source": [
    "pca_X_scaled, pca_target_scaled = make_pca(scaled_x, scaled_target)"
   ]
  },
  {
   "cell_type": "markdown",
   "metadata": {},
   "source": [
    "- Only PCA - Regression"
   ]
  },
  {
   "cell_type": "code",
   "execution_count": 49,
   "metadata": {
    "colab": {
     "base_uri": "https://localhost:8080/"
    },
    "id": "ywG1EgBPW7xl",
    "outputId": "06a7f507-766b-4385-d09d-4ec9a9937e88"
   },
   "outputs": [
    {
     "name": "stdout",
     "output_type": "stream",
     "text": [
      "GradientBoostingRegressor의 RMSE : 0.7796937512345223\n",
      "SVR의 RMSE : 0.73660936903356\n",
      "LGBMRegressor의 RMSE : 0.7505109522307772\n",
      "RandomForestRegressor의 RMSE : 0.7793093344591416\n",
      "ExtraTreesRegressor의 RMSE : 0.8032954065180028\n",
      "AdaBoostRegressor의 RMSE : 0.7831820727886688\n",
      "XGBRegressor의 RMSE : 0.8218536058889407\n"
     ]
    }
   ],
   "source": [
    "tc1 = get_rmse(pca_X, y_c1, pca_target, target_c1)"
   ]
  },
  {
   "cell_type": "code",
   "execution_count": 50,
   "metadata": {
    "colab": {
     "base_uri": "https://localhost:8080/",
     "height": 409
    },
    "id": "D32oEYMuW7xm",
    "outputId": "771b2c79-f7ac-4cfb-a3ff-dbeeebe66854",
    "scrolled": false
   },
   "outputs": [
    {
     "data": {
      "image/png": "[encoded data removed]",
      "text/plain": [
       "<Figure size 720x432 with 1 Axes>"
      ]
     },
     "metadata": {
      "needs_background": "light"
     },
     "output_type": "display_data"
    }
   ],
   "source": [
    "plt.figure(figsize = (10, 6))\n",
    "plt.title('RMSE of Each Model Using PCA\\n(phenotype_1)', size = 15)\n",
    "sns.barplot(y = reg_model_names, x = tc1, edgecolor = (0, 0, 0))\n",
    "plt.show()"
   ]
  },
  {
   "cell_type": "code",
   "execution_count": 51,
   "metadata": {
    "colab": {
     "base_uri": "https://localhost:8080/"
    },
    "id": "W1sLxYW6W7xm",
    "outputId": "b75c78f2-5a04-48de-cad4-e6ab406bfc0f"
   },
   "outputs": [
    {
     "name": "stdout",
     "output_type": "stream",
     "text": [
      "GradientBoostingRegressor의 RMSE : 1.165433318758262\n",
      "SVR의 RMSE : 1.126560363503142\n",
      "LGBMRegressor의 RMSE : 1.156194937950534\n",
      "RandomForestRegressor의 RMSE : 1.1283606046249701\n",
      "ExtraTreesRegressor의 RMSE : 1.108551030669999\n",
      "AdaBoostRegressor의 RMSE : 1.1419514760293688\n",
      "XGBRegressor의 RMSE : 1.2898062422522458\n"
     ]
    }
   ],
   "source": [
    "tc2 = get_rmse(pca_X, y_c2, pca_target, target_c2)"
   ]
  },
  {
   "cell_type": "code",
   "execution_count": 52,
   "metadata": {
    "colab": {
     "base_uri": "https://localhost:8080/",
     "height": 409
    },
    "id": "RoPbjD1rW7xm",
    "outputId": "47587c96-dde7-452b-c299-e2b0a53ae6c0",
    "scrolled": false
   },
   "outputs": [
    {
     "data": {
      "image/png": "[encoded data removed]",
      "text/plain": [
       "<Figure size 720x432 with 1 Axes>"
      ]
     },
     "metadata": {
      "needs_background": "light"
     },
     "output_type": "display_data"
    }
   ],
   "source": [
    "plt.figure(figsize = (10, 6))\n",
    "plt.title('RMSE of Each Model Using PCA\\n(phenotype_2)', size = 15)\n",
    "sns.barplot(y = reg_model_names, x = tc2, edgecolor = (0, 0, 0))\n",
    "plt.show()"
   ]
  },
  {
   "cell_type": "markdown",
   "metadata": {},
   "source": [
    "- PCA + Scaling - regression"
   ]
  },
  {
   "cell_type": "code",
   "execution_count": 53,
   "metadata": {
    "colab": {
     "base_uri": "https://localhost:8080/"
    },
    "id": "pByDb_r1W7xm",
    "outputId": "a41cae23-d84b-4fda-88d4-e7dc1cbcc62b",
    "scrolled": true
   },
   "outputs": [
    {
     "name": "stdout",
     "output_type": "stream",
     "text": [
      "GradientBoostingRegressor의 RMSE : 0.7994790462662513\n",
      "SVR의 RMSE : 0.7262839268787769\n",
      "LGBMRegressor의 RMSE : 0.7656504180875722\n",
      "RandomForestRegressor의 RMSE : 0.7730051984847325\n",
      "ExtraTreesRegressor의 RMSE : 0.7816377828893102\n",
      "AdaBoostRegressor의 RMSE : 0.7863179963630704\n",
      "XGBRegressor의 RMSE : 0.8345572400139228\n"
     ]
    }
   ],
   "source": [
    "tc1 = get_rmse(pca_X_scaled, y_c1, pca_target_scaled, target_c1)"
   ]
  },
  {
   "cell_type": "code",
   "execution_count": 54,
   "metadata": {
    "colab": {
     "base_uri": "https://localhost:8080/",
     "height": 409
    },
    "id": "bheZUxmIW7xm",
    "outputId": "cecb350d-a50d-46fa-8f43-7a6265d25135",
    "scrolled": false
   },
   "outputs": [
    {
     "data": {
      "image/png": "[encoded data removed]",
      "text/plain": [
       "<Figure size 720x432 with 1 Axes>"
      ]
     },
     "metadata": {
      "needs_background": "light"
     },
     "output_type": "display_data"
    }
   ],
   "source": [
    "plt.figure(figsize = (10, 6))\n",
    "plt.title('RMSE of Each Model Using PCA + Scaling\\n(phenotype_1)', size = 15)\n",
    "sns.barplot(y = reg_model_names, x = tc1, edgecolor = (0, 0, 0))\n",
    "plt.show()"
   ]
  },
  {
   "cell_type": "code",
   "execution_count": 55,
   "metadata": {
    "colab": {
     "base_uri": "https://localhost:8080/"
    },
    "id": "lfH2ajyVW7xm",
    "outputId": "079245bf-0cbf-417c-cf6b-6604eb8831d5"
   },
   "outputs": [
    {
     "name": "stdout",
     "output_type": "stream",
     "text": [
      "GradientBoostingRegressor의 RMSE : 1.1251371409798063\n",
      "SVR의 RMSE : 1.132965182481076\n",
      "LGBMRegressor의 RMSE : 1.1455693837875578\n",
      "RandomForestRegressor의 RMSE : 1.1119440046095448\n",
      "ExtraTreesRegressor의 RMSE : 1.0881850487285327\n",
      "AdaBoostRegressor의 RMSE : 1.1458924454202046\n",
      "XGBRegressor의 RMSE : 1.13645593377358\n"
     ]
    }
   ],
   "source": [
    "tc2 = get_rmse(pca_X_scaled, y_c2, pca_target_scaled, target_c2)"
   ]
  },
  {
   "cell_type": "code",
   "execution_count": 56,
   "metadata": {
    "colab": {
     "base_uri": "https://localhost:8080/",
     "height": 409
    },
    "id": "i6ReLy_YW7xm",
    "outputId": "be7f7810-1b26-489b-8091-119ae9ef84cb",
    "scrolled": false
   },
   "outputs": [
    {
     "data": {
      "image/png": "[encoded data removed]",
      "text/plain": [
       "<Figure size 720x432 with 1 Axes>"
      ]
     },
     "metadata": {
      "needs_background": "light"
     },
     "output_type": "display_data"
    }
   ],
   "source": [
    "plt.figure(figsize = (10, 6))\n",
    "plt.title('RMSE of Each Model Using PCA + Scaling\\n(phenotype_2)', size = 15)\n",
    "sns.barplot(y = reg_model_names, x = tc2, edgecolor = (0, 0, 0))\n",
    "plt.show()"
   ]
  },
  {
   "cell_type": "markdown",
   "metadata": {},
   "source": [
    "- Only PCA - Classification"
   ]
  },
  {
   "cell_type": "code",
   "execution_count": 57,
   "metadata": {
    "colab": {
     "base_uri": "https://localhost:8080/"
    },
    "id": "uVdu_0ykW7xm",
    "outputId": "46f11590-3899-49dd-a2f6-d7f5e0453910",
    "scrolled": false
   },
   "outputs": [
    {
     "name": "stdout",
     "output_type": "stream",
     "text": [
      "GradientBoostingClassifier의 accuracy : 0.8066666666666666\n",
      "SVC의 accuracy : 0.8066666666666666\n",
      "LGBMClassifier의 accuracy : 0.8066666666666666\n",
      "RandomForestClassifier의 accuracy : 0.8066666666666666\n",
      "[16:12:39] WARNING: /Users/travis/build/dmlc/xgboost/src/learner.cc:1061: Starting in XGBoost 1.3.0, the default evaluation metric used with the objective 'binary:logistic' was changed from 'error' to 'logloss'. Explicitly set eval_metric if you'd like to restore the old behavior.\n",
      "XGBClassifier의 accuracy : 0.7933333333333333\n",
      "ExtraTreesClassifier의 accuracy : 0.8\n"
     ]
    },
    {
     "name": "stderr",
     "output_type": "stream",
     "text": [
      "/Users/kisehyun/opt/anaconda3/lib/python3.8/site-packages/xgboost/sklearn.py:888: UserWarning: The use of label encoder in XGBClassifier is deprecated and will be removed in a future release. To remove this warning, do the following: 1) Pass option use_label_encoder=False when constructing XGBClassifier object; and 2) Encode your labels (y) as integers starting with 0, i.e. 0, 1, 2, ..., [num_class - 1].\n",
      "  warnings.warn(label_encoder_deprecation_msg, UserWarning)\n"
     ]
    }
   ],
   "source": [
    "tb1 = get_acc(pca_X, y_b1, pca_target, target_b1)"
   ]
  },
  {
   "cell_type": "code",
   "execution_count": 58,
   "metadata": {
    "colab": {
     "base_uri": "https://localhost:8080/",
     "height": 409
    },
    "id": "ig6pyRVJW7xm",
    "outputId": "a9ffc002-618c-49f4-a463-f6bdc2218a7c"
   },
   "outputs": [
    {
     "data": {
      "image/png": "[encoded data removed]",
      "text/plain": [
       "<Figure size 720x432 with 1 Axes>"
      ]
     },
     "metadata": {
      "needs_background": "light"
     },
     "output_type": "display_data"
    }
   ],
   "source": [
    "plt.figure(figsize = (10, 6))\n",
    "plt.title('ACCURACY of Each Model Using PCA\\n(phenotype_1)', size = 15)\n",
    "sns.barplot(y = clf_model_names, x = tb1, edgecolor = (0, 0, 0))\n",
    "plt.show()"
   ]
  },
  {
   "cell_type": "code",
   "execution_count": 59,
   "metadata": {
    "colab": {
     "base_uri": "https://localhost:8080/"
    },
    "id": "Bx4KJ_DsW7xn",
    "outputId": "e4203997-fbc3-4535-889a-0173967529d0"
   },
   "outputs": [
    {
     "name": "stdout",
     "output_type": "stream",
     "text": [
      "GradientBoostingClassifier의 accuracy : 0.8266666666666667\n",
      "SVC의 accuracy : 0.8266666666666667\n",
      "LGBMClassifier의 accuracy : 0.76\n",
      "RandomForestClassifier의 accuracy : 0.8266666666666667\n",
      "[16:12:40] WARNING: /Users/travis/build/dmlc/xgboost/src/learner.cc:1061: Starting in XGBoost 1.3.0, the default evaluation metric used with the objective 'binary:logistic' was changed from 'error' to 'logloss'. Explicitly set eval_metric if you'd like to restore the old behavior.\n",
      "XGBClassifier의 accuracy : 0.78\n",
      "ExtraTreesClassifier의 accuracy : 0.8266666666666667\n"
     ]
    },
    {
     "name": "stderr",
     "output_type": "stream",
     "text": [
      "/Users/kisehyun/opt/anaconda3/lib/python3.8/site-packages/xgboost/sklearn.py:888: UserWarning: The use of label encoder in XGBClassifier is deprecated and will be removed in a future release. To remove this warning, do the following: 1) Pass option use_label_encoder=False when constructing XGBClassifier object; and 2) Encode your labels (y) as integers starting with 0, i.e. 0, 1, 2, ..., [num_class - 1].\n",
      "  warnings.warn(label_encoder_deprecation_msg, UserWarning)\n"
     ]
    }
   ],
   "source": [
    "tb2 = get_acc(pca_X, y_b2, pca_target, target_b2)"
   ]
  },
  {
   "cell_type": "code",
   "execution_count": 60,
   "metadata": {
    "colab": {
     "base_uri": "https://localhost:8080/",
     "height": 409
    },
    "id": "NME-HMCjW7xn",
    "outputId": "05ca7795-4d00-4859-95eb-8c1588a95ae2",
    "scrolled": false
   },
   "outputs": [
    {
     "data": {
      "image/png": "[encoded data removed]",
      "text/plain": [
       "<Figure size 720x432 with 1 Axes>"
      ]
     },
     "metadata": {
      "needs_background": "light"
     },
     "output_type": "display_data"
    }
   ],
   "source": [
    "plt.figure(figsize = (10, 6))\n",
    "plt.title('ACCURACY of Each Model Using PCA\\n(phenotype_2)', size = 15)\n",
    "sns.barplot(y = clf_model_names, x = tb2, edgecolor = (0, 0, 0))\n",
    "plt.show()"
   ]
  },
  {
   "cell_type": "markdown",
   "metadata": {},
   "source": [
    "- PCA + Scaling - Classfication"
   ]
  },
  {
   "cell_type": "code",
   "execution_count": 61,
   "metadata": {
    "colab": {
     "base_uri": "https://localhost:8080/"
    },
    "id": "1gkzWRcZW7xn",
    "outputId": "53b289c1-7ecc-4610-c34b-54eee308106f",
    "scrolled": true
   },
   "outputs": [
    {
     "name": "stdout",
     "output_type": "stream",
     "text": [
      "GradientBoostingClassifier의 accuracy : 0.7933333333333333\n",
      "SVC의 accuracy : 0.8066666666666666\n",
      "LGBMClassifier의 accuracy : 0.7933333333333333\n",
      "RandomForestClassifier의 accuracy : 0.8\n",
      "[16:12:41] WARNING: /Users/travis/build/dmlc/xgboost/src/learner.cc:1061: Starting in XGBoost 1.3.0, the default evaluation metric used with the objective 'binary:logistic' was changed from 'error' to 'logloss'. Explicitly set eval_metric if you'd like to restore the old behavior.\n",
      "XGBClassifier의 accuracy : 0.78\n",
      "ExtraTreesClassifier의 accuracy : 0.8\n"
     ]
    },
    {
     "name": "stderr",
     "output_type": "stream",
     "text": [
      "/Users/kisehyun/opt/anaconda3/lib/python3.8/site-packages/xgboost/sklearn.py:888: UserWarning: The use of label encoder in XGBClassifier is deprecated and will be removed in a future release. To remove this warning, do the following: 1) Pass option use_label_encoder=False when constructing XGBClassifier object; and 2) Encode your labels (y) as integers starting with 0, i.e. 0, 1, 2, ..., [num_class - 1].\n",
      "  warnings.warn(label_encoder_deprecation_msg, UserWarning)\n"
     ]
    }
   ],
   "source": [
    "tb1 = get_acc(pca_X_scaled, y_b1, pca_target_scaled, target_b1)"
   ]
  },
  {
   "cell_type": "code",
   "execution_count": 62,
   "metadata": {
    "colab": {
     "base_uri": "https://localhost:8080/",
     "height": 409
    },
    "id": "B95hoR7bW7xn",
    "outputId": "126c604d-a73e-41a5-9b00-36b9257a2321"
   },
   "outputs": [
    {
     "data": {
      "image/png": "[encoded data removed]",
      "text/plain": [
       "<Figure size 720x432 with 1 Axes>"
      ]
     },
     "metadata": {
      "needs_background": "light"
     },
     "output_type": "display_data"
    }
   ],
   "source": [
    "plt.figure(figsize = (10, 6))\n",
    "plt.title('ACCURACY of Each Model Using PCA + Scaling\\n(phenotype_1)', size = 15)\n",
    "sns.barplot(y = clf_model_names, x = tb1, edgecolor = (0, 0, 0))\n",
    "plt.show()"
   ]
  },
  {
   "cell_type": "code",
   "execution_count": 63,
   "metadata": {
    "colab": {
     "base_uri": "https://localhost:8080/"
    },
    "id": "LPB-Z0T-W7xn",
    "outputId": "8aeb8047-2652-4c49-eb57-27f18e629e05"
   },
   "outputs": [
    {
     "name": "stdout",
     "output_type": "stream",
     "text": [
      "GradientBoostingClassifier의 accuracy : 0.8266666666666667\n",
      "SVC의 accuracy : 0.8266666666666667\n",
      "LGBMClassifier의 accuracy : 0.8133333333333334\n",
      "RandomForestClassifier의 accuracy : 0.8266666666666667\n",
      "[16:12:43] WARNING: /Users/travis/build/dmlc/xgboost/src/learner.cc:1061: Starting in XGBoost 1.3.0, the default evaluation metric used with the objective 'binary:logistic' was changed from 'error' to 'logloss'. Explicitly set eval_metric if you'd like to restore the old behavior.\n",
      "XGBClassifier의 accuracy : 0.8266666666666667\n",
      "ExtraTreesClassifier의 accuracy : 0.8266666666666667\n"
     ]
    },
    {
     "name": "stderr",
     "output_type": "stream",
     "text": [
      "/Users/kisehyun/opt/anaconda3/lib/python3.8/site-packages/xgboost/sklearn.py:888: UserWarning: The use of label encoder in XGBClassifier is deprecated and will be removed in a future release. To remove this warning, do the following: 1) Pass option use_label_encoder=False when constructing XGBClassifier object; and 2) Encode your labels (y) as integers starting with 0, i.e. 0, 1, 2, ..., [num_class - 1].\n",
      "  warnings.warn(label_encoder_deprecation_msg, UserWarning)\n"
     ]
    }
   ],
   "source": [
    "tb2 = get_acc(pca_X_scaled, y_b2, pca_target_scaled, target_b2)"
   ]
  },
  {
   "cell_type": "code",
   "execution_count": 64,
   "metadata": {
    "colab": {
     "base_uri": "https://localhost:8080/",
     "height": 409
    },
    "id": "81w-2C-RW7xn",
    "outputId": "0aca1eef-571f-4fa5-b01c-f52a20c05e0a",
    "scrolled": true
   },
   "outputs": [
    {
     "data": {
      "image/png": "[encoded data removed]",
      "text/plain": [
       "<Figure size 720x432 with 1 Axes>"
      ]
     },
     "metadata": {
      "needs_background": "light"
     },
     "output_type": "display_data"
    }
   ],
   "source": [
    "plt.figure(figsize = (10, 6))\n",
    "plt.title('ACCURACY of Each Model Using PCA + Scaling\\n(phenotype_2)', size = 15)\n",
    "sns.barplot(y = clf_model_names, x = tb2, edgecolor = (0, 0, 0))\n",
    "plt.show()"
   ]
  },
  {
   "cell_type": "markdown",
   "metadata": {},
   "source": [
    "## Deep Learning - DNN"
   ]
  },
  {
   "cell_type": "code",
   "execution_count": 21,
   "metadata": {
    "id": "rW9wyDZHW7xn"
   },
   "outputs": [],
   "source": [
    "from tensorflow.keras.models import load_model, Sequential\n",
    "from tensorflow.keras.layers import Dense, Dropout, BatchNormalization\n",
    "from tensorflow.keras.optimizers import Adam, RMSprop # 대표적인 최적화 방식 2가지 사용\n",
    "from tensorflow.keras.callbacks import EarlyStopping, ModelCheckpoint, ReduceLROnPlateau # 차례대로 학습조기종료, 모델저장, 학습률 조정 callback"
   ]
  },
  {
   "cell_type": "markdown",
   "metadata": {},
   "source": [
    "#### Only Scaling - Regression"
   ]
  },
  {
   "cell_type": "code",
   "execution_count": 22,
   "metadata": {
    "id": "bgbKv-Fuexpq"
   },
   "outputs": [],
   "source": [
    "dnn_model = Sequential()\n",
    "dnn_model.add(Dense(64, input_dim = 1000, activation = 'relu')) # PCA를 적용하지 않은 데이터를 사용하기 때문에 기존 column수인 1000을 차원으로 입력\n",
    "dnn_model.add(Dense(4, activation = 'relu'))\n",
    "dnn_model.add(Dense(1)) # 회귀 문제이기 때문에 마지막 출력층에는 activation 설정 필요 x\n",
    "dnn_model.compile(loss = 'mse', optimizer = Adam(learning_rate = .0005)) # 회귀 문제이기 때문에 loss를 mse로 지정"
   ]
  },
  {
   "cell_type": "code",
   "execution_count": 23,
   "metadata": {
    "id": "EeRozknZfA_F"
   },
   "outputs": [],
   "source": [
    "es = EarlyStopping(monitor = 'val_loss', mode = 'min', patience = 100, verbose = 1) # val_loss 즉 검증데이터의 mse가 100epoch이내에 개선되지 않으면 학습 종료\n",
    "lr = ReduceLROnPlateau(monitor='val_loss', factor = 0.8, patience = 30, verbose = 1, mode = 'min') # 30epoch이내에 mse가 개선되지 않으면 학습률을 기존 학습률의 80% 수준으로 감소\n",
    "mc = ModelCheckpoint(f'DNN.h5', save_best_only = True, verbose = 1, mode = 'min', monitor = 'val_loss') # mse가 가장 낮을 때의 모델을 저장"
   ]
  },
  {
   "cell_type": "code",
   "execution_count": 24,
   "metadata": {
    "colab": {
     "base_uri": "https://localhost:8080/"
    },
    "id": "fghb7b2IfHLt",
    "outputId": "612474dc-0826-41f4-bed4-0c4e43f6b810"
   },
   "outputs": [
    {
     "name": "stdout",
     "output_type": "stream",
     "text": [
      "Epoch 1/400\n",
      "9/9 [==============================] - 1s 39ms/step - loss: 0.8699 - val_loss: 0.9126\n",
      "\n",
      "Epoch 00001: val_loss improved from inf to 0.91261, saving model to optimum_DNN.h5\n",
      "Epoch 2/400\n",
      "9/9 [==============================] - 0s 5ms/step - loss: 0.8751 - val_loss: 0.9126\n",
      "\n",
      "Epoch 00002: val_loss improved from 0.91261 to 0.91258, saving model to optimum_DNN.h5\n",
      "Epoch 3/400\n",
      "9/9 [==============================] - 0s 4ms/step - loss: 0.8751 - val_loss: 0.9127\n",
      "\n",
      "Epoch 00003: val_loss did not improve from 0.91258\n",
      "Epoch 4/400\n",
      "9/9 [==============================] - 0s 4ms/step - loss: 0.8751 - val_loss: 0.9127\n",
      "\n",
      "Epoch 00004: val_loss did not improve from 0.91258\n",
      "Epoch 5/400\n",
      "9/9 [==============================] - 0s 5ms/step - loss: 0.8751 - val_loss: 0.9128\n",
      "\n",
      "Epoch 00005: val_loss did not improve from 0.91258\n",
      "Epoch 6/400\n",
      "9/9 [==============================] - 0s 4ms/step - loss: 0.8751 - val_loss: 0.9128\n",
      "\n",
      "Epoch 00006: val_loss did not improve from 0.91258\n",
      "Epoch 7/400\n",
      "9/9 [==============================] - 0s 4ms/step - loss: 0.8751 - val_loss: 0.9127\n",
      "\n",
      "Epoch 00007: val_loss did not improve from 0.91258\n",
      "Epoch 8/400\n",
      "9/9 [==============================] - 0s 6ms/step - loss: 0.8751 - val_loss: 0.9128\n",
      "\n",
      "Epoch 00008: val_loss did not improve from 0.91258\n",
      "Epoch 9/400\n",
      "9/9 [==============================] - 0s 5ms/step - loss: 0.8751 - val_loss: 0.9129\n",
      "\n",
      "Epoch 00009: val_loss did not improve from 0.91258\n",
      "Epoch 10/400\n",
      "9/9 [==============================] - 0s 4ms/step - loss: 0.8751 - val_loss: 0.9127\n",
      "\n",
      "Epoch 00010: val_loss did not improve from 0.91258\n",
      "Epoch 11/400\n",
      "9/9 [==============================] - 0s 7ms/step - loss: 0.8751 - val_loss: 0.9127\n",
      "\n",
      "Epoch 00011: val_loss did not improve from 0.91258\n",
      "Epoch 12/400\n",
      "9/9 [==============================] - 0s 5ms/step - loss: 0.8751 - val_loss: 0.9128\n",
      "\n",
      "Epoch 00012: val_loss did not improve from 0.91258\n",
      "Epoch 13/400\n",
      "9/9 [==============================] - 0s 4ms/step - loss: 0.8751 - val_loss: 0.9128\n",
      "\n",
      "Epoch 00013: val_loss did not improve from 0.91258\n",
      "Epoch 14/400\n",
      "9/9 [==============================] - 0s 5ms/step - loss: 0.8751 - val_loss: 0.9129\n",
      "\n",
      "Epoch 00014: val_loss did not improve from 0.91258\n",
      "Epoch 15/400\n",
      "9/9 [==============================] - 0s 4ms/step - loss: 0.8751 - val_loss: 0.9128\n",
      "\n",
      "Epoch 00015: val_loss did not improve from 0.91258\n",
      "Epoch 16/400\n",
      "9/9 [==============================] - 0s 5ms/step - loss: 0.8752 - val_loss: 0.9126\n",
      "\n",
      "Epoch 00016: val_loss did not improve from 0.91258\n",
      "Epoch 17/400\n",
      "9/9 [==============================] - 0s 5ms/step - loss: 0.8751 - val_loss: 0.9126\n",
      "\n",
      "Epoch 00017: val_loss did not improve from 0.91258\n",
      "Epoch 18/400\n",
      "9/9 [==============================] - 0s 5ms/step - loss: 0.8751 - val_loss: 0.9128\n",
      "\n",
      "Epoch 00018: val_loss did not improve from 0.91258\n",
      "Epoch 19/400\n",
      "9/9 [==============================] - 0s 5ms/step - loss: 0.8751 - val_loss: 0.9128\n",
      "\n",
      "Epoch 00019: val_loss did not improve from 0.91258\n",
      "Epoch 20/400\n",
      "9/9 [==============================] - 0s 4ms/step - loss: 0.8751 - val_loss: 0.9129\n",
      "\n",
      "Epoch 00020: val_loss did not improve from 0.91258\n",
      "Epoch 21/400\n",
      "9/9 [==============================] - 0s 6ms/step - loss: 0.8751 - val_loss: 0.9130\n",
      "\n",
      "Epoch 00021: val_loss did not improve from 0.91258\n",
      "Epoch 22/400\n",
      "9/9 [==============================] - 0s 5ms/step - loss: 0.8751 - val_loss: 0.9130\n",
      "\n",
      "Epoch 00022: val_loss did not improve from 0.91258\n",
      "Epoch 23/400\n",
      "9/9 [==============================] - 0s 7ms/step - loss: 0.8751 - val_loss: 0.9131\n",
      "\n",
      "Epoch 00023: val_loss did not improve from 0.91258\n",
      "Epoch 24/400\n",
      "9/9 [==============================] - 0s 5ms/step - loss: 0.8751 - val_loss: 0.9129\n",
      "\n",
      "Epoch 00024: val_loss did not improve from 0.91258\n",
      "Epoch 25/400\n",
      "9/9 [==============================] - 0s 5ms/step - loss: 0.8751 - val_loss: 0.9129\n",
      "\n",
      "Epoch 00025: val_loss did not improve from 0.91258\n",
      "Epoch 26/400\n",
      "9/9 [==============================] - 0s 5ms/step - loss: 0.8751 - val_loss: 0.9129\n",
      "\n",
      "Epoch 00026: val_loss did not improve from 0.91258\n",
      "Epoch 27/400\n",
      "9/9 [==============================] - 0s 5ms/step - loss: 0.8751 - val_loss: 0.9130\n",
      "\n",
      "Epoch 00027: val_loss did not improve from 0.91258\n",
      "Epoch 28/400\n",
      "9/9 [==============================] - 0s 5ms/step - loss: 0.8751 - val_loss: 0.9129\n",
      "\n",
      "Epoch 00028: val_loss did not improve from 0.91258\n",
      "Epoch 29/400\n",
      "9/9 [==============================] - 0s 6ms/step - loss: 0.8751 - val_loss: 0.9128\n",
      "\n",
      "Epoch 00029: val_loss did not improve from 0.91258\n",
      "Epoch 30/400\n",
      "9/9 [==============================] - 0s 5ms/step - loss: 0.8751 - val_loss: 0.9127\n",
      "\n",
      "Epoch 00030: val_loss did not improve from 0.91258\n",
      "Epoch 31/400\n",
      "9/9 [==============================] - 0s 5ms/step - loss: 0.8751 - val_loss: 0.9127\n",
      "\n",
      "Epoch 00031: ReduceLROnPlateau reducing learning rate to 0.0004000000189989805.\n",
      "\n",
      "Epoch 00031: val_loss did not improve from 0.91258\n",
      "Epoch 32/400\n",
      "9/9 [==============================] - 0s 5ms/step - loss: 0.8751 - val_loss: 0.9128\n",
      "\n",
      "Epoch 00032: val_loss did not improve from 0.91258\n",
      "Epoch 33/400\n",
      "9/9 [==============================] - 0s 6ms/step - loss: 0.8751 - val_loss: 0.9128\n",
      "\n",
      "Epoch 00033: val_loss did not improve from 0.91258\n",
      "Epoch 34/400\n",
      "9/9 [==============================] - 0s 5ms/step - loss: 0.8751 - val_loss: 0.9128\n",
      "\n",
      "Epoch 00034: val_loss did not improve from 0.91258\n",
      "Epoch 35/400\n",
      "9/9 [==============================] - 0s 5ms/step - loss: 0.8751 - val_loss: 0.9128\n",
      "\n",
      "Epoch 00035: val_loss did not improve from 0.91258\n",
      "Epoch 36/400\n",
      "9/9 [==============================] - 0s 4ms/step - loss: 0.8752 - val_loss: 0.9129\n",
      "\n",
      "Epoch 00036: val_loss did not improve from 0.91258\n",
      "Epoch 37/400\n",
      "9/9 [==============================] - 0s 5ms/step - loss: 0.8751 - val_loss: 0.9129\n",
      "\n",
      "Epoch 00037: val_loss did not improve from 0.91258\n",
      "Epoch 38/400\n",
      "9/9 [==============================] - 0s 5ms/step - loss: 0.8751 - val_loss: 0.9129\n",
      "\n",
      "Epoch 00038: val_loss did not improve from 0.91258\n",
      "Epoch 39/400\n",
      "9/9 [==============================] - 0s 5ms/step - loss: 0.8751 - val_loss: 0.9129\n",
      "\n",
      "Epoch 00039: val_loss did not improve from 0.91258\n",
      "Epoch 40/400\n",
      "9/9 [==============================] - 0s 4ms/step - loss: 0.8751 - val_loss: 0.9129\n",
      "\n",
      "Epoch 00040: val_loss did not improve from 0.91258\n",
      "Epoch 41/400\n",
      "9/9 [==============================] - 0s 4ms/step - loss: 0.8751 - val_loss: 0.9129\n",
      "\n",
      "Epoch 00041: val_loss did not improve from 0.91258\n",
      "Epoch 42/400\n",
      "9/9 [==============================] - 0s 5ms/step - loss: 0.8751 - val_loss: 0.9130\n",
      "\n",
      "Epoch 00042: val_loss did not improve from 0.91258\n",
      "Epoch 43/400\n",
      "9/9 [==============================] - 0s 4ms/step - loss: 0.8751 - val_loss: 0.9129\n",
      "\n",
      "Epoch 00043: val_loss did not improve from 0.91258\n",
      "Epoch 44/400\n",
      "9/9 [==============================] - 0s 4ms/step - loss: 0.8751 - val_loss: 0.9130\n",
      "\n",
      "Epoch 00044: val_loss did not improve from 0.91258\n",
      "Epoch 45/400\n",
      "9/9 [==============================] - 0s 4ms/step - loss: 0.8751 - val_loss: 0.9130\n",
      "\n",
      "Epoch 00045: val_loss did not improve from 0.91258\n",
      "Epoch 46/400\n",
      "9/9 [==============================] - 0s 5ms/step - loss: 0.8751 - val_loss: 0.9131\n",
      "\n",
      "Epoch 00046: val_loss did not improve from 0.91258\n",
      "Epoch 47/400\n",
      "9/9 [==============================] - 0s 4ms/step - loss: 0.8751 - val_loss: 0.9132\n",
      "\n",
      "Epoch 00047: val_loss did not improve from 0.91258\n",
      "Epoch 48/400\n",
      "9/9 [==============================] - 0s 4ms/step - loss: 0.8751 - val_loss: 0.9131\n",
      "\n",
      "Epoch 00048: val_loss did not improve from 0.91258\n",
      "Epoch 49/400\n",
      "9/9 [==============================] - 0s 5ms/step - loss: 0.8751 - val_loss: 0.9131\n",
      "\n",
      "Epoch 00049: val_loss did not improve from 0.91258\n",
      "Epoch 50/400\n",
      "9/9 [==============================] - 0s 4ms/step - loss: 0.8751 - val_loss: 0.9132\n",
      "\n",
      "Epoch 00050: val_loss did not improve from 0.91258\n",
      "Epoch 51/400\n",
      "9/9 [==============================] - 0s 5ms/step - loss: 0.8751 - val_loss: 0.9132\n",
      "\n",
      "Epoch 00051: val_loss did not improve from 0.91258\n",
      "Epoch 52/400\n",
      "9/9 [==============================] - 0s 5ms/step - loss: 0.8751 - val_loss: 0.9133\n",
      "\n",
      "Epoch 00052: val_loss did not improve from 0.91258\n",
      "Epoch 53/400\n",
      "9/9 [==============================] - 0s 5ms/step - loss: 0.8751 - val_loss: 0.9135\n",
      "\n",
      "Epoch 00053: val_loss did not improve from 0.91258\n",
      "Epoch 54/400\n",
      "9/9 [==============================] - 0s 6ms/step - loss: 0.8751 - val_loss: 0.9135\n",
      "\n",
      "Epoch 00054: val_loss did not improve from 0.91258\n",
      "Epoch 55/400\n",
      "9/9 [==============================] - 0s 4ms/step - loss: 0.8751 - val_loss: 0.9136\n",
      "\n",
      "Epoch 00055: val_loss did not improve from 0.91258\n",
      "Epoch 56/400\n",
      "9/9 [==============================] - 0s 4ms/step - loss: 0.8750 - val_loss: 0.9137\n",
      "\n",
      "Epoch 00056: val_loss did not improve from 0.91258\n",
      "Epoch 57/400\n",
      "9/9 [==============================] - 0s 5ms/step - loss: 0.8751 - val_loss: 0.9138\n",
      "\n",
      "Epoch 00057: val_loss did not improve from 0.91258\n",
      "Epoch 58/400\n",
      "9/9 [==============================] - 0s 5ms/step - loss: 0.8750 - val_loss: 0.9138\n",
      "\n",
      "Epoch 00058: val_loss did not improve from 0.91258\n",
      "Epoch 59/400\n",
      "9/9 [==============================] - 0s 6ms/step - loss: 0.8751 - val_loss: 0.9138\n",
      "\n",
      "Epoch 00059: val_loss did not improve from 0.91258\n",
      "Epoch 60/400\n",
      "9/9 [==============================] - 0s 5ms/step - loss: 0.8751 - val_loss: 0.9137\n",
      "\n",
      "Epoch 00060: val_loss did not improve from 0.91258\n",
      "Epoch 61/400\n",
      "9/9 [==============================] - 0s 4ms/step - loss: 0.8751 - val_loss: 0.9137\n",
      "\n",
      "Epoch 00061: ReduceLROnPlateau reducing learning rate to 0.00032000001519918444.\n",
      "\n",
      "Epoch 00061: val_loss did not improve from 0.91258\n",
      "Epoch 62/400\n",
      "9/9 [==============================] - 0s 5ms/step - loss: 0.8751 - val_loss: 0.9136\n",
      "\n",
      "Epoch 00062: val_loss did not improve from 0.91258\n",
      "Epoch 63/400\n",
      "9/9 [==============================] - 0s 5ms/step - loss: 0.8751 - val_loss: 0.9136\n",
      "\n",
      "Epoch 00063: val_loss did not improve from 0.91258\n",
      "Epoch 64/400\n",
      "9/9 [==============================] - 0s 4ms/step - loss: 0.8751 - val_loss: 0.9135\n",
      "\n",
      "Epoch 00064: val_loss did not improve from 0.91258\n",
      "Epoch 65/400\n",
      "9/9 [==============================] - 0s 4ms/step - loss: 0.8751 - val_loss: 0.9135\n",
      "\n",
      "Epoch 00065: val_loss did not improve from 0.91258\n",
      "Epoch 66/400\n",
      "9/9 [==============================] - 0s 5ms/step - loss: 0.8751 - val_loss: 0.9135\n",
      "\n",
      "Epoch 00066: val_loss did not improve from 0.91258\n",
      "Epoch 67/400\n",
      "9/9 [==============================] - 0s 4ms/step - loss: 0.8751 - val_loss: 0.9136\n",
      "\n",
      "Epoch 00067: val_loss did not improve from 0.91258\n",
      "Epoch 68/400\n",
      "9/9 [==============================] - 0s 4ms/step - loss: 0.8751 - val_loss: 0.9136\n",
      "\n",
      "Epoch 00068: val_loss did not improve from 0.91258\n",
      "Epoch 69/400\n",
      "9/9 [==============================] - 0s 6ms/step - loss: 0.8751 - val_loss: 0.9137\n",
      "\n",
      "Epoch 00069: val_loss did not improve from 0.91258\n",
      "Epoch 70/400\n",
      "9/9 [==============================] - 0s 6ms/step - loss: 0.8751 - val_loss: 0.9137\n",
      "\n",
      "Epoch 00070: val_loss did not improve from 0.91258\n",
      "Epoch 71/400\n",
      "9/9 [==============================] - 0s 5ms/step - loss: 0.8751 - val_loss: 0.9137\n",
      "\n",
      "Epoch 00071: val_loss did not improve from 0.91258\n",
      "Epoch 72/400\n",
      "9/9 [==============================] - 0s 5ms/step - loss: 0.8751 - val_loss: 0.9136\n",
      "\n",
      "Epoch 00072: val_loss did not improve from 0.91258\n",
      "Epoch 73/400\n",
      "9/9 [==============================] - 0s 5ms/step - loss: 0.8751 - val_loss: 0.9135\n",
      "\n",
      "Epoch 00073: val_loss did not improve from 0.91258\n",
      "Epoch 74/400\n",
      "9/9 [==============================] - 0s 4ms/step - loss: 0.8751 - val_loss: 0.9135\n",
      "\n",
      "Epoch 00074: val_loss did not improve from 0.91258\n",
      "Epoch 75/400\n",
      "9/9 [==============================] - 0s 5ms/step - loss: 0.8751 - val_loss: 0.9135\n",
      "\n",
      "Epoch 00075: val_loss did not improve from 0.91258\n",
      "Epoch 76/400\n",
      "9/9 [==============================] - 0s 5ms/step - loss: 0.8751 - val_loss: 0.9136\n",
      "\n",
      "Epoch 00076: val_loss did not improve from 0.91258\n",
      "Epoch 77/400\n",
      "9/9 [==============================] - 0s 4ms/step - loss: 0.8751 - val_loss: 0.9135\n",
      "\n",
      "Epoch 00077: val_loss did not improve from 0.91258\n",
      "Epoch 78/400\n",
      "9/9 [==============================] - 0s 5ms/step - loss: 0.8751 - val_loss: 0.9135\n",
      "\n",
      "Epoch 00078: val_loss did not improve from 0.91258\n",
      "Epoch 79/400\n",
      "9/9 [==============================] - 0s 5ms/step - loss: 0.8751 - val_loss: 0.9136\n",
      "\n",
      "Epoch 00079: val_loss did not improve from 0.91258\n",
      "Epoch 80/400\n",
      "9/9 [==============================] - 0s 5ms/step - loss: 0.8751 - val_loss: 0.9137\n",
      "\n",
      "Epoch 00080: val_loss did not improve from 0.91258\n",
      "Epoch 81/400\n",
      "9/9 [==============================] - 0s 5ms/step - loss: 0.8751 - val_loss: 0.9137\n",
      "\n",
      "Epoch 00081: val_loss did not improve from 0.91258\n",
      "Epoch 82/400\n",
      "9/9 [==============================] - 0s 5ms/step - loss: 0.8751 - val_loss: 0.9136\n",
      "\n",
      "Epoch 00082: val_loss did not improve from 0.91258\n",
      "Epoch 83/400\n",
      "9/9 [==============================] - 0s 4ms/step - loss: 0.8751 - val_loss: 0.9135\n",
      "\n",
      "Epoch 00083: val_loss did not improve from 0.91258\n",
      "Epoch 84/400\n",
      "9/9 [==============================] - 0s 4ms/step - loss: 0.8751 - val_loss: 0.9134\n",
      "\n",
      "Epoch 00084: val_loss did not improve from 0.91258\n",
      "Epoch 85/400\n",
      "9/9 [==============================] - 0s 4ms/step - loss: 0.8751 - val_loss: 0.9134\n",
      "\n",
      "Epoch 00085: val_loss did not improve from 0.91258\n",
      "Epoch 86/400\n",
      "9/9 [==============================] - 0s 5ms/step - loss: 0.8751 - val_loss: 0.9135\n",
      "\n",
      "Epoch 00086: val_loss did not improve from 0.91258\n",
      "Epoch 87/400\n",
      "9/9 [==============================] - 0s 5ms/step - loss: 0.8751 - val_loss: 0.9135\n",
      "\n",
      "Epoch 00087: val_loss did not improve from 0.91258\n",
      "Epoch 88/400\n",
      "9/9 [==============================] - 0s 5ms/step - loss: 0.8751 - val_loss: 0.9135\n",
      "\n",
      "Epoch 00088: val_loss did not improve from 0.91258\n",
      "Epoch 89/400\n",
      "9/9 [==============================] - 0s 5ms/step - loss: 0.8751 - val_loss: 0.9135\n",
      "\n",
      "Epoch 00089: val_loss did not improve from 0.91258\n",
      "Epoch 90/400\n",
      "9/9 [==============================] - 0s 5ms/step - loss: 0.8751 - val_loss: 0.9134\n",
      "\n",
      "Epoch 00090: val_loss did not improve from 0.91258\n",
      "Epoch 91/400\n",
      "9/9 [==============================] - 0s 5ms/step - loss: 0.8751 - val_loss: 0.9134\n",
      "\n",
      "Epoch 00091: ReduceLROnPlateau reducing learning rate to 0.0002560000168159604.\n",
      "\n",
      "Epoch 00091: val_loss did not improve from 0.91258\n",
      "Epoch 92/400\n",
      "9/9 [==============================] - 0s 4ms/step - loss: 0.8751 - val_loss: 0.9135\n",
      "\n",
      "Epoch 00092: val_loss did not improve from 0.91258\n",
      "Epoch 93/400\n",
      "9/9 [==============================] - 0s 5ms/step - loss: 0.8751 - val_loss: 0.9135\n",
      "\n",
      "Epoch 00093: val_loss did not improve from 0.91258\n",
      "Epoch 94/400\n",
      "9/9 [==============================] - 0s 5ms/step - loss: 0.8751 - val_loss: 0.9135\n",
      "\n",
      "Epoch 00094: val_loss did not improve from 0.91258\n",
      "Epoch 95/400\n",
      "9/9 [==============================] - 0s 6ms/step - loss: 0.8751 - val_loss: 0.9135\n",
      "\n",
      "Epoch 00095: val_loss did not improve from 0.91258\n",
      "Epoch 96/400\n",
      "9/9 [==============================] - 0s 6ms/step - loss: 0.8751 - val_loss: 0.9135\n",
      "\n",
      "Epoch 00096: val_loss did not improve from 0.91258\n",
      "Epoch 97/400\n",
      "9/9 [==============================] - 0s 5ms/step - loss: 0.8751 - val_loss: 0.9136\n",
      "\n",
      "Epoch 00097: val_loss did not improve from 0.91258\n",
      "Epoch 98/400\n",
      "9/9 [==============================] - 0s 5ms/step - loss: 0.8750 - val_loss: 0.9135\n",
      "\n",
      "Epoch 00098: val_loss did not improve from 0.91258\n",
      "Epoch 99/400\n",
      "9/9 [==============================] - 0s 5ms/step - loss: 0.8751 - val_loss: 0.9135\n",
      "\n",
      "Epoch 00099: val_loss did not improve from 0.91258\n",
      "Epoch 100/400\n",
      "9/9 [==============================] - 0s 5ms/step - loss: 0.8751 - val_loss: 0.9134\n",
      "\n",
      "Epoch 00100: val_loss did not improve from 0.91258\n",
      "Epoch 101/400\n",
      "9/9 [==============================] - 0s 6ms/step - loss: 0.8751 - val_loss: 0.9134\n",
      "\n",
      "Epoch 00101: val_loss did not improve from 0.91258\n",
      "Epoch 102/400\n",
      "9/9 [==============================] - 0s 6ms/step - loss: 0.8751 - val_loss: 0.9133\n",
      "\n",
      "Epoch 00102: val_loss did not improve from 0.91258\n",
      "Epoch 00102: early stopping\n"
     ]
    }
   ],
   "source": [
    "history = dnn_model.fit(scaled_x, y_c1, validation_split = .1, epochs = 400, callbacks = [es, lr, mc], verbose = 1) # 총 400epoch 학습, 전체 데이터 중 10%를 검증 데이터로 사용 callback 파라미터를 위의 3가지 callbacks 함수로 지정"
   ]
  },
  {
   "cell_type": "code",
   "execution_count": 25,
   "metadata": {
    "id": "3ewk6wBifCVe"
   },
   "outputs": [],
   "source": [
    "mse = history.history['loss']\n",
    "val_mse = history.history['val_loss']"
   ]
  },
  {
   "cell_type": "code",
   "execution_count": 26,
   "metadata": {
    "colab": {
     "base_uri": "https://localhost:8080/",
     "height": 392
    },
    "id": "NXKthSo-f-CZ",
    "outputId": "9a3eb96c-3000-4a2d-db23-5544a5b16926"
   },
   "outputs": [
    {
     "data": {
      "image/png": "[encoded data removed]",
      "text/plain": [
       "<Figure size 720x432 with 1 Axes>"
      ]
     },
     "metadata": {
      "needs_background": "light",
      "tags": []
     },
     "output_type": "display_data"
    }
   ],
   "source": [
    "plt.figure(figsize = (10, 6))\n",
    "plt.title('Train mse & Valdation mse', size = 15)\n",
    "plt.plot(mse, label = 'mse')\n",
    "plt.plot(val_mse, label = 'val_mse')\n",
    "plt.legend()\n",
    "plt.show()"
   ]
  },
  {
   "cell_type": "code",
   "execution_count": 27,
   "metadata": {
    "id": "lZBqnyPOuevT"
   },
   "outputs": [],
   "source": [
    "model = load_model('DNN.h5')"
   ]
  },
  {
   "cell_type": "code",
   "execution_count": 28,
   "metadata": {
    "id": "3iP46LxIuhlO"
   },
   "outputs": [],
   "source": [
    "pred = model.predict(scaled_target)"
   ]
  },
  {
   "cell_type": "code",
   "execution_count": 30,
   "metadata": {
    "id": "fswQPiRSulLd"
   },
   "outputs": [],
   "source": [
    "rmse = mean_squared_error(target_c1, pred) ** .5"
   ]
  },
  {
   "cell_type": "code",
   "execution_count": 32,
   "metadata": {
    "colab": {
     "base_uri": "https://localhost:8080/"
    },
    "id": "Rns5TOLrupXe",
    "outputId": "87ff8ec2-9e15-4793-82db-fab1aea3965c"
   },
   "outputs": [
    {
     "name": "stdout",
     "output_type": "stream",
     "text": [
      "DNN 모델의 RMSE는 0.9005225059126895\n"
     ]
    }
   ],
   "source": [
    "print(f'DNN 모델의 RMSE는 {rmse}')"
   ]
  },
  {
   "cell_type": "code",
   "execution_count": 36,
   "metadata": {
    "id": "XFWLsa5egl0c"
   },
   "outputs": [],
   "source": [
    "dnn_model = Sequential()\n",
    "dnn_model.add(Dense(64, input_dim = 1000, activation = 'relu'))\n",
    "dnn_model.add(Dense(4, activation = 'relu'))\n",
    "dnn_model.add(Dense(1))\n",
    "dnn_model.compile(loss = 'mse', optimizer = RMSprop(learning_rate = .0005))"
   ]
  },
  {
   "cell_type": "code",
   "execution_count": 37,
   "metadata": {
    "id": "xU1FL6IogpLK"
   },
   "outputs": [],
   "source": [
    "es = EarlyStopping(monitor = 'val_loss', mode = 'min', patience = 100, verbose = 1)\n",
    "lr = ReduceLROnPlateau(monitor='val_loss', factor = 0.8, patience = 30, verbose = 1, mode = 'min')\n",
    "mc = ModelCheckpoint(f'optimum_DNN.h5', save_best_only = True, verbose = 1, mode = 'min', monitor = 'val_loss')"
   ]
  },
  {
   "cell_type": "code",
   "execution_count": 38,
   "metadata": {
    "colab": {
     "base_uri": "https://localhost:8080/"
    },
    "id": "qUzjWbG7gpXZ",
    "outputId": "b76ea9ef-7059-41fe-cf3d-e5bf869691a1"
   },
   "outputs": [
    {
     "name": "stdout",
     "output_type": "stream",
     "text": [
      "Epoch 1/400\n",
      "9/9 [==============================] - 1s 19ms/step - loss: 1.0984 - val_loss: 0.9694\n",
      "\n",
      "Epoch 00001: val_loss improved from inf to 0.96941, saving model to optimum_DNN.h5\n",
      "Epoch 2/400\n",
      "9/9 [==============================] - 0s 5ms/step - loss: 0.9777 - val_loss: 0.9694\n",
      "\n",
      "Epoch 00002: val_loss did not improve from 0.96941\n",
      "Epoch 3/400\n",
      "9/9 [==============================] - 0s 4ms/step - loss: 0.9779 - val_loss: 0.9694\n",
      "\n",
      "Epoch 00003: val_loss did not improve from 0.96941\n",
      "Epoch 4/400\n",
      "9/9 [==============================] - 0s 5ms/step - loss: 0.9775 - val_loss: 0.9694\n",
      "\n",
      "Epoch 00004: val_loss improved from 0.96941 to 0.96937, saving model to optimum_DNN.h5\n",
      "Epoch 5/400\n",
      "9/9 [==============================] - 0s 5ms/step - loss: 0.9776 - val_loss: 0.9691\n",
      "\n",
      "Epoch 00005: val_loss improved from 0.96937 to 0.96910, saving model to optimum_DNN.h5\n",
      "Epoch 6/400\n",
      "9/9 [==============================] - 0s 6ms/step - loss: 0.9775 - val_loss: 0.9690\n",
      "\n",
      "Epoch 00006: val_loss improved from 0.96910 to 0.96902, saving model to optimum_DNN.h5\n",
      "Epoch 7/400\n",
      "9/9 [==============================] - 0s 6ms/step - loss: 0.9775 - val_loss: 0.9691\n",
      "\n",
      "Epoch 00007: val_loss did not improve from 0.96902\n",
      "Epoch 8/400\n",
      "9/9 [==============================] - 0s 5ms/step - loss: 0.9775 - val_loss: 0.9690\n",
      "\n",
      "Epoch 00008: val_loss improved from 0.96902 to 0.96896, saving model to optimum_DNN.h5\n",
      "Epoch 9/400\n",
      "9/9 [==============================] - 0s 4ms/step - loss: 0.9775 - val_loss: 0.9688\n",
      "\n",
      "Epoch 00009: val_loss improved from 0.96896 to 0.96876, saving model to optimum_DNN.h5\n",
      "Epoch 10/400\n",
      "9/9 [==============================] - 0s 5ms/step - loss: 0.9776 - val_loss: 0.9686\n",
      "\n",
      "Epoch 00010: val_loss improved from 0.96876 to 0.96857, saving model to optimum_DNN.h5\n",
      "Epoch 11/400\n",
      "9/9 [==============================] - 0s 6ms/step - loss: 0.9775 - val_loss: 0.9684\n",
      "\n",
      "Epoch 00011: val_loss improved from 0.96857 to 0.96839, saving model to optimum_DNN.h5\n",
      "Epoch 12/400\n",
      "9/9 [==============================] - 0s 7ms/step - loss: 0.9775 - val_loss: 0.9683\n",
      "\n",
      "Epoch 00012: val_loss improved from 0.96839 to 0.96826, saving model to optimum_DNN.h5\n",
      "Epoch 13/400\n",
      "9/9 [==============================] - 0s 4ms/step - loss: 0.9775 - val_loss: 0.9680\n",
      "\n",
      "Epoch 00013: val_loss improved from 0.96826 to 0.96805, saving model to optimum_DNN.h5\n",
      "Epoch 14/400\n",
      "9/9 [==============================] - 0s 5ms/step - loss: 0.9775 - val_loss: 0.9682\n",
      "\n",
      "Epoch 00014: val_loss did not improve from 0.96805\n",
      "Epoch 15/400\n",
      "9/9 [==============================] - 0s 5ms/step - loss: 0.9775 - val_loss: 0.9681\n",
      "\n",
      "Epoch 00015: val_loss did not improve from 0.96805\n",
      "Epoch 16/400\n",
      "9/9 [==============================] - 0s 5ms/step - loss: 0.9775 - val_loss: 0.9683\n",
      "\n",
      "Epoch 00016: val_loss did not improve from 0.96805\n",
      "Epoch 17/400\n",
      "9/9 [==============================] - 0s 5ms/step - loss: 0.9775 - val_loss: 0.9683\n",
      "\n",
      "Epoch 00017: val_loss did not improve from 0.96805\n",
      "Epoch 18/400\n",
      "9/9 [==============================] - 0s 6ms/step - loss: 0.9775 - val_loss: 0.9682\n",
      "\n",
      "Epoch 00018: val_loss did not improve from 0.96805\n",
      "Epoch 19/400\n",
      "9/9 [==============================] - 0s 6ms/step - loss: 0.9775 - val_loss: 0.9683\n",
      "\n",
      "Epoch 00019: val_loss did not improve from 0.96805\n",
      "Epoch 20/400\n",
      "9/9 [==============================] - 0s 6ms/step - loss: 0.9775 - val_loss: 0.9683\n",
      "\n",
      "Epoch 00020: val_loss did not improve from 0.96805\n",
      "Epoch 21/400\n",
      "9/9 [==============================] - 0s 5ms/step - loss: 0.9775 - val_loss: 0.9682\n",
      "\n",
      "Epoch 00021: val_loss did not improve from 0.96805\n",
      "Epoch 22/400\n",
      "9/9 [==============================] - 0s 5ms/step - loss: 0.9775 - val_loss: 0.9679\n",
      "\n",
      "Epoch 00022: val_loss improved from 0.96805 to 0.96795, saving model to optimum_DNN.h5\n",
      "Epoch 23/400\n",
      "9/9 [==============================] - 0s 4ms/step - loss: 0.9774 - val_loss: 0.9678\n",
      "\n",
      "Epoch 00023: val_loss improved from 0.96795 to 0.96778, saving model to optimum_DNN.h5\n",
      "Epoch 24/400\n",
      "9/9 [==============================] - 0s 5ms/step - loss: 0.9775 - val_loss: 0.9679\n",
      "\n",
      "Epoch 00024: val_loss did not improve from 0.96778\n",
      "Epoch 25/400\n",
      "9/9 [==============================] - 0s 5ms/step - loss: 0.9775 - val_loss: 0.9679\n",
      "\n",
      "Epoch 00025: val_loss did not improve from 0.96778\n",
      "Epoch 26/400\n",
      "9/9 [==============================] - 0s 4ms/step - loss: 0.9775 - val_loss: 0.9678\n",
      "\n",
      "Epoch 00026: val_loss did not improve from 0.96778\n",
      "Epoch 27/400\n",
      "9/9 [==============================] - 0s 4ms/step - loss: 0.9774 - val_loss: 0.9676\n",
      "\n",
      "Epoch 00027: val_loss improved from 0.96778 to 0.96765, saving model to optimum_DNN.h5\n",
      "Epoch 28/400\n",
      "9/9 [==============================] - 0s 6ms/step - loss: 0.9775 - val_loss: 0.9676\n",
      "\n",
      "Epoch 00028: val_loss improved from 0.96765 to 0.96764, saving model to optimum_DNN.h5\n",
      "Epoch 29/400\n",
      "9/9 [==============================] - 0s 5ms/step - loss: 0.9775 - val_loss: 0.9675\n",
      "\n",
      "Epoch 00029: val_loss improved from 0.96764 to 0.96753, saving model to optimum_DNN.h5\n",
      "Epoch 30/400\n",
      "9/9 [==============================] - 0s 5ms/step - loss: 0.9775 - val_loss: 0.9675\n",
      "\n",
      "Epoch 00030: val_loss improved from 0.96753 to 0.96747, saving model to optimum_DNN.h5\n",
      "Epoch 31/400\n",
      "9/9 [==============================] - 0s 6ms/step - loss: 0.9775 - val_loss: 0.9675\n",
      "\n",
      "Epoch 00031: val_loss did not improve from 0.96747\n",
      "Epoch 32/400\n",
      "9/9 [==============================] - 0s 5ms/step - loss: 0.9775 - val_loss: 0.9675\n",
      "\n",
      "Epoch 00032: val_loss did not improve from 0.96747\n",
      "Epoch 33/400\n",
      "9/9 [==============================] - 0s 6ms/step - loss: 0.9775 - val_loss: 0.9675\n",
      "\n",
      "Epoch 00033: val_loss did not improve from 0.96747\n",
      "Epoch 34/400\n",
      "9/9 [==============================] - 0s 5ms/step - loss: 0.9774 - val_loss: 0.9675\n",
      "\n",
      "Epoch 00034: val_loss did not improve from 0.96747\n",
      "Epoch 35/400\n",
      "9/9 [==============================] - 0s 5ms/step - loss: 0.9775 - val_loss: 0.9676\n",
      "\n",
      "Epoch 00035: val_loss did not improve from 0.96747\n",
      "Epoch 36/400\n",
      "9/9 [==============================] - 0s 5ms/step - loss: 0.9775 - val_loss: 0.9676\n",
      "\n",
      "Epoch 00036: val_loss did not improve from 0.96747\n",
      "Epoch 37/400\n",
      "9/9 [==============================] - 0s 6ms/step - loss: 0.9775 - val_loss: 0.9675\n",
      "\n",
      "Epoch 00037: val_loss improved from 0.96747 to 0.96747, saving model to optimum_DNN.h5\n",
      "Epoch 38/400\n",
      "9/9 [==============================] - 0s 5ms/step - loss: 0.9774 - val_loss: 0.9673\n",
      "\n",
      "Epoch 00038: val_loss improved from 0.96747 to 0.96732, saving model to optimum_DNN.h5\n",
      "Epoch 39/400\n",
      "9/9 [==============================] - 0s 6ms/step - loss: 0.9775 - val_loss: 0.9672\n",
      "\n",
      "Epoch 00039: val_loss improved from 0.96732 to 0.96716, saving model to optimum_DNN.h5\n",
      "Epoch 40/400\n",
      "9/9 [==============================] - 0s 6ms/step - loss: 0.9774 - val_loss: 0.9671\n",
      "\n",
      "Epoch 00040: val_loss improved from 0.96716 to 0.96708, saving model to optimum_DNN.h5\n",
      "Epoch 41/400\n",
      "9/9 [==============================] - 0s 6ms/step - loss: 0.9774 - val_loss: 0.9669\n",
      "\n",
      "Epoch 00041: val_loss improved from 0.96708 to 0.96693, saving model to optimum_DNN.h5\n",
      "Epoch 42/400\n",
      "9/9 [==============================] - 0s 6ms/step - loss: 0.9774 - val_loss: 0.9668\n",
      "\n",
      "Epoch 00042: val_loss improved from 0.96693 to 0.96676, saving model to optimum_DNN.h5\n",
      "Epoch 43/400\n",
      "9/9 [==============================] - 0s 5ms/step - loss: 0.9774 - val_loss: 0.9668\n",
      "\n",
      "Epoch 00043: val_loss did not improve from 0.96676\n",
      "Epoch 44/400\n",
      "9/9 [==============================] - 0s 4ms/step - loss: 0.9774 - val_loss: 0.9668\n",
      "\n",
      "Epoch 00044: val_loss did not improve from 0.96676\n",
      "Epoch 45/400\n",
      "9/9 [==============================] - 0s 5ms/step - loss: 0.9774 - val_loss: 0.9667\n",
      "\n",
      "Epoch 00045: val_loss improved from 0.96676 to 0.96668, saving model to optimum_DNN.h5\n",
      "Epoch 46/400\n",
      "9/9 [==============================] - 0s 5ms/step - loss: 0.9774 - val_loss: 0.9668\n",
      "\n",
      "Epoch 00046: val_loss did not improve from 0.96668\n",
      "Epoch 47/400\n",
      "9/9 [==============================] - 0s 5ms/step - loss: 0.9775 - val_loss: 0.9669\n",
      "\n",
      "Epoch 00047: val_loss did not improve from 0.96668\n",
      "Epoch 48/400\n",
      "9/9 [==============================] - 0s 5ms/step - loss: 0.9774 - val_loss: 0.9667\n",
      "\n",
      "Epoch 00048: val_loss did not improve from 0.96668\n",
      "Epoch 49/400\n",
      "9/9 [==============================] - 0s 5ms/step - loss: 0.9774 - val_loss: 0.9668\n",
      "\n",
      "Epoch 00049: val_loss did not improve from 0.96668\n",
      "Epoch 50/400\n",
      "9/9 [==============================] - 0s 5ms/step - loss: 0.9774 - val_loss: 0.9668\n",
      "\n",
      "Epoch 00050: val_loss did not improve from 0.96668\n",
      "Epoch 51/400\n",
      "9/9 [==============================] - 0s 6ms/step - loss: 0.9774 - val_loss: 0.9669\n",
      "\n",
      "Epoch 00051: val_loss did not improve from 0.96668\n",
      "Epoch 52/400\n",
      "9/9 [==============================] - 0s 6ms/step - loss: 0.9774 - val_loss: 0.9669\n",
      "\n",
      "Epoch 00052: val_loss did not improve from 0.96668\n",
      "Epoch 53/400\n",
      "9/9 [==============================] - 0s 5ms/step - loss: 0.9774 - val_loss: 0.9669\n",
      "\n",
      "Epoch 00053: val_loss did not improve from 0.96668\n",
      "Epoch 54/400\n",
      "9/9 [==============================] - 0s 5ms/step - loss: 0.9775 - val_loss: 0.9668\n",
      "\n",
      "Epoch 00054: val_loss did not improve from 0.96668\n",
      "Epoch 55/400\n",
      "9/9 [==============================] - 0s 5ms/step - loss: 0.9775 - val_loss: 0.9667\n",
      "\n",
      "Epoch 00055: val_loss did not improve from 0.96668\n",
      "Epoch 56/400\n",
      "9/9 [==============================] - 0s 5ms/step - loss: 0.9774 - val_loss: 0.9668\n",
      "\n",
      "Epoch 00056: val_loss did not improve from 0.96668\n",
      "Epoch 57/400\n",
      "9/9 [==============================] - 0s 5ms/step - loss: 0.9774 - val_loss: 0.9667\n",
      "\n",
      "Epoch 00057: val_loss did not improve from 0.96668\n",
      "Epoch 58/400\n",
      "9/9 [==============================] - 0s 6ms/step - loss: 0.9774 - val_loss: 0.9666\n",
      "\n",
      "Epoch 00058: val_loss improved from 0.96668 to 0.96664, saving model to optimum_DNN.h5\n",
      "Epoch 59/400\n",
      "9/9 [==============================] - 0s 5ms/step - loss: 0.9774 - val_loss: 0.9666\n",
      "\n",
      "Epoch 00059: val_loss improved from 0.96664 to 0.96658, saving model to optimum_DNN.h5\n",
      "Epoch 60/400\n",
      "9/9 [==============================] - 0s 5ms/step - loss: 0.9774 - val_loss: 0.9664\n",
      "\n",
      "Epoch 00060: val_loss improved from 0.96658 to 0.96642, saving model to optimum_DNN.h5\n",
      "Epoch 61/400\n",
      "9/9 [==============================] - 0s 5ms/step - loss: 0.9774 - val_loss: 0.9664\n",
      "\n",
      "Epoch 00061: val_loss improved from 0.96642 to 0.96639, saving model to optimum_DNN.h5\n",
      "Epoch 62/400\n",
      "9/9 [==============================] - 0s 4ms/step - loss: 0.9774 - val_loss: 0.9665\n",
      "\n",
      "Epoch 00062: val_loss did not improve from 0.96639\n",
      "Epoch 63/400\n",
      "9/9 [==============================] - 0s 5ms/step - loss: 0.9774 - val_loss: 0.9664\n",
      "\n",
      "Epoch 00063: val_loss did not improve from 0.96639\n",
      "Epoch 64/400\n",
      "9/9 [==============================] - 0s 5ms/step - loss: 0.9775 - val_loss: 0.9664\n",
      "\n",
      "Epoch 00064: val_loss did not improve from 0.96639\n",
      "Epoch 65/400\n",
      "9/9 [==============================] - 0s 5ms/step - loss: 0.9774 - val_loss: 0.9665\n",
      "\n",
      "Epoch 00065: val_loss did not improve from 0.96639\n",
      "Epoch 66/400\n",
      "9/9 [==============================] - 0s 5ms/step - loss: 0.9774 - val_loss: 0.9664\n",
      "\n",
      "Epoch 00066: val_loss did not improve from 0.96639\n",
      "Epoch 67/400\n",
      "9/9 [==============================] - 0s 7ms/step - loss: 0.9774 - val_loss: 0.9664\n",
      "\n",
      "Epoch 00067: val_loss did not improve from 0.96639\n",
      "Epoch 68/400\n",
      "9/9 [==============================] - 0s 5ms/step - loss: 0.9774 - val_loss: 0.9664\n",
      "\n",
      "Epoch 00068: val_loss improved from 0.96639 to 0.96638, saving model to optimum_DNN.h5\n",
      "Epoch 69/400\n",
      "9/9 [==============================] - 0s 6ms/step - loss: 0.9774 - val_loss: 0.9663\n",
      "\n",
      "Epoch 00069: val_loss improved from 0.96638 to 0.96632, saving model to optimum_DNN.h5\n",
      "Epoch 70/400\n",
      "9/9 [==============================] - 0s 5ms/step - loss: 0.9775 - val_loss: 0.9665\n",
      "\n",
      "Epoch 00070: val_loss did not improve from 0.96632\n",
      "Epoch 71/400\n",
      "9/9 [==============================] - 0s 5ms/step - loss: 0.9774 - val_loss: 0.9664\n",
      "\n",
      "Epoch 00071: val_loss did not improve from 0.96632\n",
      "Epoch 72/400\n",
      "9/9 [==============================] - 0s 5ms/step - loss: 0.9774 - val_loss: 0.9664\n",
      "\n",
      "Epoch 00072: val_loss did not improve from 0.96632\n",
      "Epoch 73/400\n",
      "9/9 [==============================] - 0s 8ms/step - loss: 0.9775 - val_loss: 0.9662\n",
      "\n",
      "Epoch 00073: val_loss improved from 0.96632 to 0.96617, saving model to optimum_DNN.h5\n",
      "Epoch 74/400\n",
      "9/9 [==============================] - 0s 5ms/step - loss: 0.9775 - val_loss: 0.9662\n",
      "\n",
      "Epoch 00074: val_loss improved from 0.96617 to 0.96616, saving model to optimum_DNN.h5\n",
      "Epoch 75/400\n",
      "9/9 [==============================] - 0s 5ms/step - loss: 0.9774 - val_loss: 0.9662\n",
      "\n",
      "Epoch 00075: val_loss did not improve from 0.96616\n",
      "Epoch 76/400\n",
      "9/9 [==============================] - 0s 5ms/step - loss: 0.9774 - val_loss: 0.9661\n",
      "\n",
      "Epoch 00076: val_loss improved from 0.96616 to 0.96609, saving model to optimum_DNN.h5\n",
      "Epoch 77/400\n",
      "9/9 [==============================] - 0s 6ms/step - loss: 0.9774 - val_loss: 0.9662\n",
      "\n",
      "Epoch 00077: val_loss did not improve from 0.96609\n",
      "Epoch 78/400\n",
      "9/9 [==============================] - 0s 5ms/step - loss: 0.9775 - val_loss: 0.9661\n",
      "\n",
      "Epoch 00078: val_loss improved from 0.96609 to 0.96606, saving model to optimum_DNN.h5\n",
      "Epoch 79/400\n",
      "9/9 [==============================] - 0s 5ms/step - loss: 0.9774 - val_loss: 0.9661\n",
      "\n",
      "Epoch 00079: val_loss did not improve from 0.96606\n",
      "Epoch 80/400\n",
      "9/9 [==============================] - 0s 5ms/step - loss: 0.9774 - val_loss: 0.9660\n",
      "\n",
      "Epoch 00080: val_loss improved from 0.96606 to 0.96601, saving model to optimum_DNN.h5\n",
      "Epoch 81/400\n",
      "9/9 [==============================] - 0s 5ms/step - loss: 0.9774 - val_loss: 0.9660\n",
      "\n",
      "Epoch 00081: val_loss did not improve from 0.96601\n",
      "Epoch 82/400\n",
      "9/9 [==============================] - 0s 6ms/step - loss: 0.9774 - val_loss: 0.9660\n",
      "\n",
      "Epoch 00082: val_loss improved from 0.96601 to 0.96601, saving model to optimum_DNN.h5\n",
      "Epoch 83/400\n",
      "9/9 [==============================] - 0s 5ms/step - loss: 0.9774 - val_loss: 0.9661\n",
      "\n",
      "Epoch 00083: val_loss did not improve from 0.96601\n",
      "Epoch 84/400\n",
      "9/9 [==============================] - 0s 5ms/step - loss: 0.9774 - val_loss: 0.9660\n",
      "\n",
      "Epoch 00084: val_loss improved from 0.96601 to 0.96599, saving model to optimum_DNN.h5\n",
      "Epoch 85/400\n",
      "9/9 [==============================] - 0s 5ms/step - loss: 0.9774 - val_loss: 0.9659\n",
      "\n",
      "Epoch 00085: val_loss improved from 0.96599 to 0.96590, saving model to optimum_DNN.h5\n",
      "Epoch 86/400\n",
      "9/9 [==============================] - 0s 5ms/step - loss: 0.9774 - val_loss: 0.9659\n",
      "\n",
      "Epoch 00086: val_loss did not improve from 0.96590\n",
      "Epoch 87/400\n",
      "9/9 [==============================] - 0s 5ms/step - loss: 0.9774 - val_loss: 0.9659\n",
      "\n",
      "Epoch 00087: val_loss improved from 0.96590 to 0.96586, saving model to optimum_DNN.h5\n",
      "Epoch 88/400\n",
      "9/9 [==============================] - 0s 5ms/step - loss: 0.9774 - val_loss: 0.9659\n",
      "\n",
      "Epoch 00088: val_loss did not improve from 0.96586\n",
      "Epoch 89/400\n",
      "9/9 [==============================] - 0s 5ms/step - loss: 0.9774 - val_loss: 0.9658\n",
      "\n",
      "Epoch 00089: val_loss improved from 0.96586 to 0.96579, saving model to optimum_DNN.h5\n",
      "Epoch 90/400\n",
      "9/9 [==============================] - 0s 5ms/step - loss: 0.9774 - val_loss: 0.9658\n",
      "\n",
      "Epoch 00090: val_loss improved from 0.96579 to 0.96576, saving model to optimum_DNN.h5\n",
      "Epoch 91/400\n",
      "9/9 [==============================] - 0s 5ms/step - loss: 0.9775 - val_loss: 0.9658\n",
      "\n",
      "Epoch 00091: val_loss did not improve from 0.96576\n",
      "Epoch 92/400\n",
      "9/9 [==============================] - 0s 5ms/step - loss: 0.9774 - val_loss: 0.9658\n",
      "\n",
      "Epoch 00092: val_loss did not improve from 0.96576\n",
      "Epoch 93/400\n",
      "9/9 [==============================] - 0s 5ms/step - loss: 0.9776 - val_loss: 0.9659\n",
      "\n",
      "Epoch 00093: val_loss did not improve from 0.96576\n",
      "Epoch 94/400\n",
      "9/9 [==============================] - 0s 5ms/step - loss: 0.9774 - val_loss: 0.9658\n",
      "\n",
      "Epoch 00094: val_loss did not improve from 0.96576\n",
      "Epoch 95/400\n",
      "9/9 [==============================] - 0s 5ms/step - loss: 0.9774 - val_loss: 0.9658\n",
      "\n",
      "Epoch 00095: val_loss did not improve from 0.96576\n",
      "Epoch 96/400\n",
      "9/9 [==============================] - 0s 6ms/step - loss: 0.9774 - val_loss: 0.9658\n",
      "\n",
      "Epoch 00096: val_loss did not improve from 0.96576\n",
      "Epoch 97/400\n",
      "9/9 [==============================] - 0s 5ms/step - loss: 0.9775 - val_loss: 0.9659\n",
      "\n",
      "Epoch 00097: val_loss did not improve from 0.96576\n",
      "Epoch 98/400\n",
      "9/9 [==============================] - 0s 6ms/step - loss: 0.9774 - val_loss: 0.9659\n",
      "\n",
      "Epoch 00098: val_loss did not improve from 0.96576\n",
      "Epoch 99/400\n",
      "9/9 [==============================] - 0s 5ms/step - loss: 0.9775 - val_loss: 0.9659\n",
      "\n",
      "Epoch 00099: val_loss did not improve from 0.96576\n",
      "Epoch 100/400\n",
      "9/9 [==============================] - 0s 4ms/step - loss: 0.9775 - val_loss: 0.9661\n",
      "\n",
      "Epoch 00100: val_loss did not improve from 0.96576\n",
      "Epoch 101/400\n",
      "9/9 [==============================] - 0s 5ms/step - loss: 0.9774 - val_loss: 0.9661\n",
      "\n",
      "Epoch 00101: val_loss did not improve from 0.96576\n",
      "Epoch 102/400\n",
      "9/9 [==============================] - 0s 5ms/step - loss: 0.9774 - val_loss: 0.9661\n",
      "\n",
      "Epoch 00102: val_loss did not improve from 0.96576\n",
      "Epoch 103/400\n",
      "9/9 [==============================] - 0s 5ms/step - loss: 0.9774 - val_loss: 0.9660\n",
      "\n",
      "Epoch 00103: val_loss did not improve from 0.96576\n",
      "Epoch 104/400\n",
      "9/9 [==============================] - 0s 5ms/step - loss: 0.9774 - val_loss: 0.9660\n",
      "\n",
      "Epoch 00104: val_loss did not improve from 0.96576\n",
      "Epoch 105/400\n",
      "9/9 [==============================] - 0s 6ms/step - loss: 0.9774 - val_loss: 0.9660\n",
      "\n",
      "Epoch 00105: val_loss did not improve from 0.96576\n",
      "Epoch 106/400\n",
      "9/9 [==============================] - 0s 5ms/step - loss: 0.9774 - val_loss: 0.9661\n",
      "\n",
      "Epoch 00106: val_loss did not improve from 0.96576\n",
      "Epoch 107/400\n",
      "9/9 [==============================] - 0s 5ms/step - loss: 0.9774 - val_loss: 0.9659\n",
      "\n",
      "Epoch 00107: val_loss did not improve from 0.96576\n",
      "Epoch 108/400\n",
      "9/9 [==============================] - 0s 6ms/step - loss: 0.9775 - val_loss: 0.9658\n",
      "\n",
      "Epoch 00108: val_loss did not improve from 0.96576\n",
      "Epoch 109/400\n",
      "9/9 [==============================] - 0s 5ms/step - loss: 0.9774 - val_loss: 0.9657\n",
      "\n",
      "Epoch 00109: val_loss improved from 0.96576 to 0.96572, saving model to optimum_DNN.h5\n",
      "Epoch 110/400\n",
      "9/9 [==============================] - 0s 5ms/step - loss: 0.9774 - val_loss: 0.9656\n",
      "\n",
      "Epoch 00110: val_loss improved from 0.96572 to 0.96565, saving model to optimum_DNN.h5\n",
      "Epoch 111/400\n",
      "9/9 [==============================] - 0s 5ms/step - loss: 0.9774 - val_loss: 0.9657\n",
      "\n",
      "Epoch 00111: val_loss did not improve from 0.96565\n",
      "Epoch 112/400\n",
      "9/9 [==============================] - 0s 6ms/step - loss: 0.9774 - val_loss: 0.9655\n",
      "\n",
      "Epoch 00112: val_loss improved from 0.96565 to 0.96552, saving model to optimum_DNN.h5\n",
      "Epoch 113/400\n",
      "9/9 [==============================] - 0s 6ms/step - loss: 0.9775 - val_loss: 0.9655\n",
      "\n",
      "Epoch 00113: val_loss improved from 0.96552 to 0.96548, saving model to optimum_DNN.h5\n",
      "Epoch 114/400\n",
      "9/9 [==============================] - 0s 5ms/step - loss: 0.9774 - val_loss: 0.9655\n",
      "\n",
      "Epoch 00114: val_loss improved from 0.96548 to 0.96546, saving model to optimum_DNN.h5\n",
      "Epoch 115/400\n",
      "9/9 [==============================] - 0s 5ms/step - loss: 0.9774 - val_loss: 0.9655\n",
      "\n",
      "Epoch 00115: val_loss did not improve from 0.96546\n",
      "Epoch 116/400\n",
      "9/9 [==============================] - 0s 6ms/step - loss: 0.9774 - val_loss: 0.9656\n",
      "\n",
      "Epoch 00116: val_loss did not improve from 0.96546\n",
      "Epoch 117/400\n",
      "9/9 [==============================] - 0s 5ms/step - loss: 0.9774 - val_loss: 0.9655\n",
      "\n",
      "Epoch 00117: val_loss did not improve from 0.96546\n",
      "Epoch 118/400\n",
      "9/9 [==============================] - 0s 5ms/step - loss: 0.9774 - val_loss: 0.9656\n",
      "\n",
      "Epoch 00118: val_loss did not improve from 0.96546\n",
      "Epoch 119/400\n",
      "9/9 [==============================] - 0s 5ms/step - loss: 0.9774 - val_loss: 0.9657\n",
      "\n",
      "Epoch 00119: val_loss did not improve from 0.96546\n",
      "Epoch 120/400\n",
      "9/9 [==============================] - 0s 5ms/step - loss: 0.9774 - val_loss: 0.9659\n",
      "\n",
      "Epoch 00120: val_loss did not improve from 0.96546\n",
      "Epoch 121/400\n",
      "9/9 [==============================] - 0s 5ms/step - loss: 0.9774 - val_loss: 0.9657\n",
      "\n",
      "Epoch 00121: val_loss did not improve from 0.96546\n",
      "Epoch 122/400\n",
      "9/9 [==============================] - 0s 6ms/step - loss: 0.9774 - val_loss: 0.9657\n",
      "\n",
      "Epoch 00122: val_loss did not improve from 0.96546\n",
      "Epoch 123/400\n",
      "9/9 [==============================] - 0s 6ms/step - loss: 0.9774 - val_loss: 0.9658\n",
      "\n",
      "Epoch 00123: val_loss did not improve from 0.96546\n",
      "Epoch 124/400\n",
      "9/9 [==============================] - 0s 4ms/step - loss: 0.9775 - val_loss: 0.9657\n",
      "\n",
      "Epoch 00124: val_loss did not improve from 0.96546\n",
      "Epoch 125/400\n",
      "9/9 [==============================] - 0s 5ms/step - loss: 0.9774 - val_loss: 0.9657\n",
      "\n",
      "Epoch 00125: val_loss did not improve from 0.96546\n",
      "Epoch 126/400\n",
      "9/9 [==============================] - 0s 5ms/step - loss: 0.9774 - val_loss: 0.9657\n",
      "\n",
      "Epoch 00126: val_loss did not improve from 0.96546\n",
      "Epoch 127/400\n",
      "9/9 [==============================] - 0s 4ms/step - loss: 0.9775 - val_loss: 0.9658\n",
      "\n",
      "Epoch 00127: val_loss did not improve from 0.96546\n",
      "Epoch 128/400\n",
      "9/9 [==============================] - 0s 5ms/step - loss: 0.9774 - val_loss: 0.9659\n",
      "\n",
      "Epoch 00128: val_loss did not improve from 0.96546\n",
      "Epoch 129/400\n",
      "9/9 [==============================] - 0s 5ms/step - loss: 0.9774 - val_loss: 0.9660\n",
      "\n",
      "Epoch 00129: val_loss did not improve from 0.96546\n",
      "Epoch 130/400\n",
      "9/9 [==============================] - 0s 5ms/step - loss: 0.9774 - val_loss: 0.9659\n",
      "\n",
      "Epoch 00130: val_loss did not improve from 0.96546\n",
      "Epoch 131/400\n",
      "9/9 [==============================] - 0s 5ms/step - loss: 0.9775 - val_loss: 0.9660\n",
      "\n",
      "Epoch 00131: val_loss did not improve from 0.96546\n",
      "Epoch 132/400\n",
      "9/9 [==============================] - 0s 5ms/step - loss: 0.9774 - val_loss: 0.9661\n",
      "\n",
      "Epoch 00132: val_loss did not improve from 0.96546\n",
      "Epoch 133/400\n",
      "9/9 [==============================] - 0s 5ms/step - loss: 0.9774 - val_loss: 0.9661\n",
      "\n",
      "Epoch 00133: val_loss did not improve from 0.96546\n",
      "Epoch 134/400\n",
      "9/9 [==============================] - 0s 5ms/step - loss: 0.9775 - val_loss: 0.9660\n",
      "\n",
      "Epoch 00134: val_loss did not improve from 0.96546\n",
      "Epoch 135/400\n",
      "9/9 [==============================] - 0s 6ms/step - loss: 0.9774 - val_loss: 0.9660\n",
      "\n",
      "Epoch 00135: val_loss did not improve from 0.96546\n",
      "Epoch 136/400\n",
      "9/9 [==============================] - 0s 5ms/step - loss: 0.9774 - val_loss: 0.9659\n",
      "\n",
      "Epoch 00136: val_loss did not improve from 0.96546\n",
      "Epoch 137/400\n",
      "9/9 [==============================] - 0s 5ms/step - loss: 0.9774 - val_loss: 0.9660\n",
      "\n",
      "Epoch 00137: val_loss did not improve from 0.96546\n",
      "Epoch 138/400\n",
      "9/9 [==============================] - 0s 5ms/step - loss: 0.9774 - val_loss: 0.9659\n",
      "\n",
      "Epoch 00138: val_loss did not improve from 0.96546\n",
      "Epoch 139/400\n",
      "9/9 [==============================] - 0s 5ms/step - loss: 0.9774 - val_loss: 0.9659\n",
      "\n",
      "Epoch 00139: val_loss did not improve from 0.96546\n",
      "Epoch 140/400\n",
      "9/9 [==============================] - 0s 6ms/step - loss: 0.9774 - val_loss: 0.9657\n",
      "\n",
      "Epoch 00140: val_loss did not improve from 0.96546\n",
      "Epoch 141/400\n",
      "9/9 [==============================] - 0s 5ms/step - loss: 0.9774 - val_loss: 0.9658\n",
      "\n",
      "Epoch 00141: val_loss did not improve from 0.96546\n",
      "Epoch 142/400\n",
      "9/9 [==============================] - 0s 5ms/step - loss: 0.9774 - val_loss: 0.9656\n",
      "\n",
      "Epoch 00142: ReduceLROnPlateau reducing learning rate to 0.0004000000189989805.\n",
      "\n",
      "Epoch 00142: val_loss did not improve from 0.96546\n",
      "Epoch 143/400\n",
      "9/9 [==============================] - 0s 6ms/step - loss: 0.9774 - val_loss: 0.9656\n",
      "\n",
      "Epoch 00143: val_loss did not improve from 0.96546\n",
      "Epoch 144/400\n",
      "9/9 [==============================] - 0s 4ms/step - loss: 0.9774 - val_loss: 0.9656\n",
      "\n",
      "Epoch 00144: val_loss did not improve from 0.96546\n",
      "Epoch 145/400\n",
      "9/9 [==============================] - 0s 6ms/step - loss: 0.9774 - val_loss: 0.9656\n",
      "\n",
      "Epoch 00145: val_loss did not improve from 0.96546\n",
      "Epoch 146/400\n",
      "9/9 [==============================] - 0s 5ms/step - loss: 0.9774 - val_loss: 0.9658\n",
      "\n",
      "Epoch 00146: val_loss did not improve from 0.96546\n",
      "Epoch 147/400\n",
      "9/9 [==============================] - 0s 5ms/step - loss: 0.9774 - val_loss: 0.9658\n",
      "\n",
      "Epoch 00147: val_loss did not improve from 0.96546\n",
      "Epoch 148/400\n",
      "9/9 [==============================] - 0s 5ms/step - loss: 0.9774 - val_loss: 0.9659\n",
      "\n",
      "Epoch 00148: val_loss did not improve from 0.96546\n",
      "Epoch 149/400\n",
      "9/9 [==============================] - 0s 5ms/step - loss: 0.9774 - val_loss: 0.9659\n",
      "\n",
      "Epoch 00149: val_loss did not improve from 0.96546\n",
      "Epoch 150/400\n",
      "9/9 [==============================] - 0s 7ms/step - loss: 0.9774 - val_loss: 0.9658\n",
      "\n",
      "Epoch 00150: val_loss did not improve from 0.96546\n",
      "Epoch 151/400\n",
      "9/9 [==============================] - 0s 5ms/step - loss: 0.9774 - val_loss: 0.9659\n",
      "\n",
      "Epoch 00151: val_loss did not improve from 0.96546\n",
      "Epoch 152/400\n",
      "9/9 [==============================] - 0s 6ms/step - loss: 0.9774 - val_loss: 0.9660\n",
      "\n",
      "Epoch 00152: val_loss did not improve from 0.96546\n",
      "Epoch 153/400\n",
      "9/9 [==============================] - 0s 5ms/step - loss: 0.9774 - val_loss: 0.9659\n",
      "\n",
      "Epoch 00153: val_loss did not improve from 0.96546\n",
      "Epoch 154/400\n",
      "9/9 [==============================] - 0s 5ms/step - loss: 0.9774 - val_loss: 0.9660\n",
      "\n",
      "Epoch 00154: val_loss did not improve from 0.96546\n",
      "Epoch 155/400\n",
      "9/9 [==============================] - 0s 6ms/step - loss: 0.9774 - val_loss: 0.9660\n",
      "\n",
      "Epoch 00155: val_loss did not improve from 0.96546\n",
      "Epoch 156/400\n",
      "9/9 [==============================] - 0s 6ms/step - loss: 0.9774 - val_loss: 0.9662\n",
      "\n",
      "Epoch 00156: val_loss did not improve from 0.96546\n",
      "Epoch 157/400\n",
      "9/9 [==============================] - 0s 5ms/step - loss: 0.9774 - val_loss: 0.9660\n",
      "\n",
      "Epoch 00157: val_loss did not improve from 0.96546\n",
      "Epoch 158/400\n",
      "9/9 [==============================] - 0s 5ms/step - loss: 0.9774 - val_loss: 0.9661\n",
      "\n",
      "Epoch 00158: val_loss did not improve from 0.96546\n",
      "Epoch 159/400\n",
      "9/9 [==============================] - 0s 6ms/step - loss: 0.9774 - val_loss: 0.9662\n",
      "\n",
      "Epoch 00159: val_loss did not improve from 0.96546\n",
      "Epoch 160/400\n",
      "9/9 [==============================] - 0s 6ms/step - loss: 0.9774 - val_loss: 0.9661\n",
      "\n",
      "Epoch 00160: val_loss did not improve from 0.96546\n",
      "Epoch 161/400\n",
      "9/9 [==============================] - 0s 5ms/step - loss: 0.9774 - val_loss: 0.9661\n",
      "\n",
      "Epoch 00161: val_loss did not improve from 0.96546\n",
      "Epoch 162/400\n",
      "9/9 [==============================] - 0s 6ms/step - loss: 0.9774 - val_loss: 0.9662\n",
      "\n",
      "Epoch 00162: val_loss did not improve from 0.96546\n",
      "Epoch 163/400\n",
      "9/9 [==============================] - 0s 5ms/step - loss: 0.9774 - val_loss: 0.9663\n",
      "\n",
      "Epoch 00163: val_loss did not improve from 0.96546\n",
      "Epoch 164/400\n",
      "9/9 [==============================] - 0s 6ms/step - loss: 0.9774 - val_loss: 0.9662\n",
      "\n",
      "Epoch 00164: val_loss did not improve from 0.96546\n",
      "Epoch 165/400\n",
      "9/9 [==============================] - 0s 6ms/step - loss: 0.9774 - val_loss: 0.9661\n",
      "\n",
      "Epoch 00165: val_loss did not improve from 0.96546\n",
      "Epoch 166/400\n",
      "9/9 [==============================] - 0s 5ms/step - loss: 0.9774 - val_loss: 0.9660\n",
      "\n",
      "Epoch 00166: val_loss did not improve from 0.96546\n",
      "Epoch 167/400\n",
      "9/9 [==============================] - 0s 5ms/step - loss: 0.9774 - val_loss: 0.9662\n",
      "\n",
      "Epoch 00167: val_loss did not improve from 0.96546\n",
      "Epoch 168/400\n",
      "9/9 [==============================] - 0s 6ms/step - loss: 0.9774 - val_loss: 0.9662\n",
      "\n",
      "Epoch 00168: val_loss did not improve from 0.96546\n",
      "Epoch 169/400\n",
      "9/9 [==============================] - 0s 5ms/step - loss: 0.9774 - val_loss: 0.9663\n",
      "\n",
      "Epoch 00169: val_loss did not improve from 0.96546\n",
      "Epoch 170/400\n",
      "9/9 [==============================] - 0s 5ms/step - loss: 0.9774 - val_loss: 0.9662\n",
      "\n",
      "Epoch 00170: val_loss did not improve from 0.96546\n",
      "Epoch 171/400\n",
      "9/9 [==============================] - 0s 5ms/step - loss: 0.9774 - val_loss: 0.9663\n",
      "\n",
      "Epoch 00171: val_loss did not improve from 0.96546\n",
      "Epoch 172/400\n",
      "9/9 [==============================] - 0s 5ms/step - loss: 0.9774 - val_loss: 0.9663\n",
      "\n",
      "Epoch 00172: ReduceLROnPlateau reducing learning rate to 0.00032000001519918444.\n",
      "\n",
      "Epoch 00172: val_loss did not improve from 0.96546\n",
      "Epoch 173/400\n",
      "9/9 [==============================] - 0s 6ms/step - loss: 0.9774 - val_loss: 0.9662\n",
      "\n",
      "Epoch 00173: val_loss did not improve from 0.96546\n",
      "Epoch 174/400\n",
      "9/9 [==============================] - 0s 5ms/step - loss: 0.9774 - val_loss: 0.9663\n",
      "\n",
      "Epoch 00174: val_loss did not improve from 0.96546\n",
      "Epoch 175/400\n",
      "9/9 [==============================] - 0s 5ms/step - loss: 0.9774 - val_loss: 0.9663\n",
      "\n",
      "Epoch 00175: val_loss did not improve from 0.96546\n",
      "Epoch 176/400\n",
      "9/9 [==============================] - 0s 6ms/step - loss: 0.9774 - val_loss: 0.9663\n",
      "\n",
      "Epoch 00176: val_loss did not improve from 0.96546\n",
      "Epoch 177/400\n",
      "9/9 [==============================] - 0s 5ms/step - loss: 0.9774 - val_loss: 0.9664\n",
      "\n",
      "Epoch 00177: val_loss did not improve from 0.96546\n",
      "Epoch 178/400\n",
      "9/9 [==============================] - 0s 5ms/step - loss: 0.9774 - val_loss: 0.9664\n",
      "\n",
      "Epoch 00178: val_loss did not improve from 0.96546\n",
      "Epoch 179/400\n",
      "9/9 [==============================] - 0s 5ms/step - loss: 0.9774 - val_loss: 0.9664\n",
      "\n",
      "Epoch 00179: val_loss did not improve from 0.96546\n",
      "Epoch 180/400\n",
      "9/9 [==============================] - 0s 8ms/step - loss: 0.9774 - val_loss: 0.9664\n",
      "\n",
      "Epoch 00180: val_loss did not improve from 0.96546\n",
      "Epoch 181/400\n",
      "9/9 [==============================] - 0s 5ms/step - loss: 0.9774 - val_loss: 0.9665\n",
      "\n",
      "Epoch 00181: val_loss did not improve from 0.96546\n",
      "Epoch 182/400\n",
      "9/9 [==============================] - 0s 5ms/step - loss: 0.9774 - val_loss: 0.9665\n",
      "\n",
      "Epoch 00182: val_loss did not improve from 0.96546\n",
      "Epoch 183/400\n",
      "9/9 [==============================] - 0s 5ms/step - loss: 0.9774 - val_loss: 0.9666\n",
      "\n",
      "Epoch 00183: val_loss did not improve from 0.96546\n",
      "Epoch 184/400\n",
      "9/9 [==============================] - 0s 5ms/step - loss: 0.9774 - val_loss: 0.9666\n",
      "\n",
      "Epoch 00184: val_loss did not improve from 0.96546\n",
      "Epoch 185/400\n",
      "9/9 [==============================] - 0s 6ms/step - loss: 0.9774 - val_loss: 0.9666\n",
      "\n",
      "Epoch 00185: val_loss did not improve from 0.96546\n",
      "Epoch 186/400\n",
      "9/9 [==============================] - 0s 6ms/step - loss: 0.9774 - val_loss: 0.9666\n",
      "\n",
      "Epoch 00186: val_loss did not improve from 0.96546\n",
      "Epoch 187/400\n",
      "9/9 [==============================] - 0s 6ms/step - loss: 0.9774 - val_loss: 0.9666\n",
      "\n",
      "Epoch 00187: val_loss did not improve from 0.96546\n",
      "Epoch 188/400\n",
      "9/9 [==============================] - 0s 7ms/step - loss: 0.9774 - val_loss: 0.9666\n",
      "\n",
      "Epoch 00188: val_loss did not improve from 0.96546\n",
      "Epoch 189/400\n",
      "9/9 [==============================] - 0s 5ms/step - loss: 0.9774 - val_loss: 0.9666\n",
      "\n",
      "Epoch 00189: val_loss did not improve from 0.96546\n",
      "Epoch 190/400\n",
      "9/9 [==============================] - 0s 6ms/step - loss: 0.9774 - val_loss: 0.9667\n",
      "\n",
      "Epoch 00190: val_loss did not improve from 0.96546\n",
      "Epoch 191/400\n",
      "9/9 [==============================] - 0s 5ms/step - loss: 0.9774 - val_loss: 0.9668\n",
      "\n",
      "Epoch 00191: val_loss did not improve from 0.96546\n",
      "Epoch 192/400\n",
      "9/9 [==============================] - 0s 5ms/step - loss: 0.9775 - val_loss: 0.9666\n",
      "\n",
      "Epoch 00192: val_loss did not improve from 0.96546\n",
      "Epoch 193/400\n",
      "9/9 [==============================] - 0s 5ms/step - loss: 0.9774 - val_loss: 0.9666\n",
      "\n",
      "Epoch 00193: val_loss did not improve from 0.96546\n",
      "Epoch 194/400\n",
      "9/9 [==============================] - 0s 5ms/step - loss: 0.9774 - val_loss: 0.9665\n",
      "\n",
      "Epoch 00194: val_loss did not improve from 0.96546\n",
      "Epoch 195/400\n",
      "9/9 [==============================] - 0s 5ms/step - loss: 0.9774 - val_loss: 0.9666\n",
      "\n",
      "Epoch 00195: val_loss did not improve from 0.96546\n",
      "Epoch 196/400\n",
      "9/9 [==============================] - 0s 5ms/step - loss: 0.9774 - val_loss: 0.9666\n",
      "\n",
      "Epoch 00196: val_loss did not improve from 0.96546\n",
      "Epoch 197/400\n",
      "9/9 [==============================] - 0s 5ms/step - loss: 0.9774 - val_loss: 0.9665\n",
      "\n",
      "Epoch 00197: val_loss did not improve from 0.96546\n",
      "Epoch 198/400\n",
      "9/9 [==============================] - 0s 7ms/step - loss: 0.9774 - val_loss: 0.9664\n",
      "\n",
      "Epoch 00198: val_loss did not improve from 0.96546\n",
      "Epoch 199/400\n",
      "9/9 [==============================] - 0s 5ms/step - loss: 0.9774 - val_loss: 0.9665\n",
      "\n",
      "Epoch 00199: val_loss did not improve from 0.96546\n",
      "Epoch 200/400\n",
      "9/9 [==============================] - 0s 5ms/step - loss: 0.9774 - val_loss: 0.9665\n",
      "\n",
      "Epoch 00200: val_loss did not improve from 0.96546\n",
      "Epoch 201/400\n",
      "9/9 [==============================] - 0s 5ms/step - loss: 0.9774 - val_loss: 0.9664\n",
      "\n",
      "Epoch 00201: val_loss did not improve from 0.96546\n",
      "Epoch 202/400\n",
      "9/9 [==============================] - 0s 6ms/step - loss: 0.9774 - val_loss: 0.9663\n",
      "\n",
      "Epoch 00202: ReduceLROnPlateau reducing learning rate to 0.0002560000168159604.\n",
      "\n",
      "Epoch 00202: val_loss did not improve from 0.96546\n",
      "Epoch 203/400\n",
      "9/9 [==============================] - 0s 5ms/step - loss: 0.9774 - val_loss: 0.9662\n",
      "\n",
      "Epoch 00203: val_loss did not improve from 0.96546\n",
      "Epoch 204/400\n",
      "9/9 [==============================] - 0s 7ms/step - loss: 0.9774 - val_loss: 0.9662\n",
      "\n",
      "Epoch 00204: val_loss did not improve from 0.96546\n",
      "Epoch 205/400\n",
      "9/9 [==============================] - 0s 6ms/step - loss: 0.9774 - val_loss: 0.9661\n",
      "\n",
      "Epoch 00205: val_loss did not improve from 0.96546\n",
      "Epoch 206/400\n",
      "9/9 [==============================] - 0s 5ms/step - loss: 0.9774 - val_loss: 0.9662\n",
      "\n",
      "Epoch 00206: val_loss did not improve from 0.96546\n",
      "Epoch 207/400\n",
      "9/9 [==============================] - 0s 5ms/step - loss: 0.9774 - val_loss: 0.9661\n",
      "\n",
      "Epoch 00207: val_loss did not improve from 0.96546\n",
      "Epoch 208/400\n",
      "9/9 [==============================] - 0s 5ms/step - loss: 0.9774 - val_loss: 0.9661\n",
      "\n",
      "Epoch 00208: val_loss did not improve from 0.96546\n",
      "Epoch 209/400\n",
      "9/9 [==============================] - 0s 6ms/step - loss: 0.9774 - val_loss: 0.9662\n",
      "\n",
      "Epoch 00209: val_loss did not improve from 0.96546\n",
      "Epoch 210/400\n",
      "9/9 [==============================] - 0s 6ms/step - loss: 0.9774 - val_loss: 0.9662\n",
      "\n",
      "Epoch 00210: val_loss did not improve from 0.96546\n",
      "Epoch 211/400\n",
      "9/9 [==============================] - 0s 5ms/step - loss: 0.9774 - val_loss: 0.9663\n",
      "\n",
      "Epoch 00211: val_loss did not improve from 0.96546\n",
      "Epoch 212/400\n",
      "9/9 [==============================] - 0s 5ms/step - loss: 0.9774 - val_loss: 0.9663\n",
      "\n",
      "Epoch 00212: val_loss did not improve from 0.96546\n",
      "Epoch 213/400\n",
      "9/9 [==============================] - 0s 5ms/step - loss: 0.9774 - val_loss: 0.9662\n",
      "\n",
      "Epoch 00213: val_loss did not improve from 0.96546\n",
      "Epoch 214/400\n",
      "9/9 [==============================] - 0s 5ms/step - loss: 0.9774 - val_loss: 0.9661\n",
      "\n",
      "Epoch 00214: val_loss did not improve from 0.96546\n",
      "Epoch 00214: early stopping\n"
     ]
    }
   ],
   "source": [
    "history = dnn_model.fit(scaled_x, y_c2, validation_split = .1, epochs = 400, callbacks = [es, lr, mc], verbose = 1)"
   ]
  },
  {
   "cell_type": "code",
   "execution_count": 39,
   "metadata": {
    "id": "3OAezPlPgryT"
   },
   "outputs": [],
   "source": [
    "mse = history.history['loss']\n",
    "val_mse = history.history['val_loss']"
   ]
  },
  {
   "cell_type": "code",
   "execution_count": 40,
   "metadata": {
    "colab": {
     "base_uri": "https://localhost:8080/",
     "height": 392
    },
    "id": "kjSWrQpzlgEB",
    "outputId": "a4b502fd-e5fa-4dc8-a813-52f9aa55abe2"
   },
   "outputs": [
    {
     "data": {
      "image/png": "[encoded data removed]",
      "text/plain": [
       "<Figure size 720x432 with 1 Axes>"
      ]
     },
     "metadata": {
      "needs_background": "light",
      "tags": []
     },
     "output_type": "display_data"
    }
   ],
   "source": [
    "plt.figure(figsize = (10, 6))\n",
    "plt.title('Train mse & Valdation mse', size = 15)\n",
    "plt.plot(mse, label = 'mse')\n",
    "plt.plot(val_mse, label = 'val_mse')\n",
    "plt.legend()\n",
    "plt.show()"
   ]
  },
  {
   "cell_type": "code",
   "execution_count": 41,
   "metadata": {
    "id": "7rhBT_dnu82s"
   },
   "outputs": [],
   "source": [
    "model = load_model('DNN.h5')"
   ]
  },
  {
   "cell_type": "code",
   "execution_count": 42,
   "metadata": {
    "id": "F0DojnMyu82s"
   },
   "outputs": [],
   "source": [
    "pred = model.predict(scaled_target)"
   ]
  },
  {
   "cell_type": "code",
   "execution_count": 43,
   "metadata": {
    "id": "tdkdKSH5u82s"
   },
   "outputs": [],
   "source": [
    "rmse = mean_squared_error(target_c2, pred) ** .5"
   ]
  },
  {
   "cell_type": "code",
   "execution_count": 44,
   "metadata": {
    "colab": {
     "base_uri": "https://localhost:8080/"
    },
    "id": "iO8TUM7yu82t",
    "outputId": "35b22d48-cf37-407b-e75f-de803f51145c",
    "scrolled": true
   },
   "outputs": [
    {
     "name": "stdout",
     "output_type": "stream",
     "text": [
      "DNN 모델의 RMSE는 1.0640959487584598\n"
     ]
    }
   ],
   "source": [
    "print(f'DNN 모델의 RMSE는 {rmse}')"
   ]
  },
  {
   "cell_type": "markdown",
   "metadata": {},
   "source": [
    "#### Only Scaling - Classification"
   ]
  },
  {
   "cell_type": "code",
   "execution_count": null,
   "metadata": {
    "id": "XK-1VnVPZN0b"
   },
   "outputs": [],
   "source": [
    "dnn_model = Sequential()\n",
    "dnn_model.add(Dense(64, input_dim = 1000, activation = 'relu'))\n",
    "dnn_model.add(Dense(32, activation = 'relu'))\n",
    "dnn_model.add(Dropout(.15))\n",
    "dnn_model.add(Dense(1, activation = 'sigmoid'))\n",
    "dnn_model.compile(loss = 'binary_crossentropy', metrics = ['acc'], optimizer = RMSprop(learning_rate = .001))"
   ]
  },
  {
   "cell_type": "code",
   "execution_count": null,
   "metadata": {
    "id": "niWOdbJNZvqE"
   },
   "outputs": [],
   "source": [
    "es = EarlyStopping(monitor = 'val_acc', mode = 'max', patience = 100, verbose = 1)\n",
    "lr = ReduceLROnPlateau(monitor='val_acc', factor = 0.8, patience = 30, verbose = 1, mode = 'max')\n",
    "mc = ModelCheckpoint(f'DNN.h5', save_best_only = True, verbose = 1, mode = 'max', monitor = 'val_acc')"
   ]
  },
  {
   "cell_type": "code",
   "execution_count": null,
   "metadata": {
    "colab": {
     "base_uri": "https://localhost:8080/"
    },
    "id": "rbS8R1hhZdoI",
    "outputId": "949bd609-d1ce-49af-efe3-166869342281"
   },
   "outputs": [
    {
     "name": "stdout",
     "output_type": "stream",
     "text": [
      "Epoch 1/400\n",
      "9/9 [==============================] - 1s 22ms/step - loss: 0.6565 - acc: 0.7407 - val_loss: 0.5125 - val_acc: 0.8000\n",
      "\n",
      "Epoch 00001: val_acc improved from -inf to 0.80000, saving model to optimum_DNN.h5\n",
      "Epoch 2/400\n",
      "9/9 [==============================] - 0s 5ms/step - loss: 0.5141 - acc: 0.7926 - val_loss: 0.5028 - val_acc: 0.8000\n",
      "\n",
      "Epoch 00002: val_acc did not improve from 0.80000\n",
      "Epoch 3/400\n",
      "9/9 [==============================] - 0s 5ms/step - loss: 0.5254 - acc: 0.7963 - val_loss: 0.4879 - val_acc: 0.8000\n",
      "\n",
      "Epoch 00003: val_acc did not improve from 0.80000\n",
      "Epoch 4/400\n",
      "9/9 [==============================] - 0s 5ms/step - loss: 0.5167 - acc: 0.8037 - val_loss: 0.5111 - val_acc: 0.8000\n",
      "\n",
      "Epoch 00004: val_acc did not improve from 0.80000\n",
      "Epoch 5/400\n",
      "9/9 [==============================] - 0s 5ms/step - loss: 0.5052 - acc: 0.8000 - val_loss: 0.5123 - val_acc: 0.8000\n",
      "\n",
      "Epoch 00005: val_acc did not improve from 0.80000\n",
      "Epoch 6/400\n",
      "9/9 [==============================] - 0s 6ms/step - loss: 0.5281 - acc: 0.8000 - val_loss: 0.5039 - val_acc: 0.8000\n",
      "\n",
      "Epoch 00006: val_acc did not improve from 0.80000\n",
      "Epoch 7/400\n",
      "9/9 [==============================] - 0s 6ms/step - loss: 0.4928 - acc: 0.8000 - val_loss: 0.4961 - val_acc: 0.8000\n",
      "\n",
      "Epoch 00007: val_acc did not improve from 0.80000\n",
      "Epoch 8/400\n",
      "9/9 [==============================] - 0s 7ms/step - loss: 0.4988 - acc: 0.8037 - val_loss: 0.4927 - val_acc: 0.8000\n",
      "\n",
      "Epoch 00008: val_acc did not improve from 0.80000\n",
      "Epoch 9/400\n",
      "9/9 [==============================] - 0s 6ms/step - loss: 0.4922 - acc: 0.7926 - val_loss: 0.6819 - val_acc: 0.8000\n",
      "\n",
      "Epoch 00009: val_acc did not improve from 0.80000\n",
      "Epoch 10/400\n",
      "9/9 [==============================] - 0s 6ms/step - loss: 0.5230 - acc: 0.8000 - val_loss: 0.5902 - val_acc: 0.8000\n",
      "\n",
      "Epoch 00010: val_acc did not improve from 0.80000\n",
      "Epoch 11/400\n",
      "9/9 [==============================] - 0s 6ms/step - loss: 0.4986 - acc: 0.8000 - val_loss: 0.4916 - val_acc: 0.8000\n",
      "\n",
      "Epoch 00011: val_acc did not improve from 0.80000\n",
      "Epoch 12/400\n",
      "9/9 [==============================] - 0s 5ms/step - loss: 0.4773 - acc: 0.8000 - val_loss: 0.5059 - val_acc: 0.8000\n",
      "\n",
      "Epoch 00012: val_acc did not improve from 0.80000\n",
      "Epoch 13/400\n",
      "9/9 [==============================] - 0s 5ms/step - loss: 0.4453 - acc: 0.8000 - val_loss: 0.5108 - val_acc: 0.8000\n",
      "\n",
      "Epoch 00013: val_acc did not improve from 0.80000\n",
      "Epoch 14/400\n",
      "9/9 [==============================] - 0s 5ms/step - loss: 0.4910 - acc: 0.7926 - val_loss: 0.5065 - val_acc: 0.8000\n",
      "\n",
      "Epoch 00014: val_acc did not improve from 0.80000\n",
      "Epoch 15/400\n",
      "9/9 [==============================] - 0s 6ms/step - loss: 0.4439 - acc: 0.7963 - val_loss: 0.5099 - val_acc: 0.8000\n",
      "\n",
      "Epoch 00015: val_acc did not improve from 0.80000\n",
      "Epoch 16/400\n",
      "9/9 [==============================] - 0s 5ms/step - loss: 0.4490 - acc: 0.8037 - val_loss: 0.5028 - val_acc: 0.8000\n",
      "\n",
      "Epoch 00016: val_acc did not improve from 0.80000\n",
      "Epoch 17/400\n",
      "9/9 [==============================] - 0s 5ms/step - loss: 0.4386 - acc: 0.8000 - val_loss: 0.5401 - val_acc: 0.8000\n",
      "\n",
      "Epoch 00017: val_acc did not improve from 0.80000\n",
      "Epoch 18/400\n",
      "9/9 [==============================] - 0s 5ms/step - loss: 0.4387 - acc: 0.8037 - val_loss: 0.5020 - val_acc: 0.8000\n",
      "\n",
      "Epoch 00018: val_acc did not improve from 0.80000\n",
      "Epoch 19/400\n",
      "9/9 [==============================] - 0s 5ms/step - loss: 0.4432 - acc: 0.7963 - val_loss: 0.5236 - val_acc: 0.8000\n",
      "\n",
      "Epoch 00019: val_acc did not improve from 0.80000\n",
      "Epoch 20/400\n",
      "9/9 [==============================] - 0s 5ms/step - loss: 0.3929 - acc: 0.8037 - val_loss: 0.4946 - val_acc: 0.8000\n",
      "\n",
      "Epoch 00020: val_acc did not improve from 0.80000\n",
      "Epoch 21/400\n",
      "9/9 [==============================] - 0s 5ms/step - loss: 0.4049 - acc: 0.8037 - val_loss: 0.5550 - val_acc: 0.8000\n",
      "\n",
      "Epoch 00021: val_acc did not improve from 0.80000\n",
      "Epoch 22/400\n",
      "9/9 [==============================] - 0s 6ms/step - loss: 0.3779 - acc: 0.8333 - val_loss: 0.7026 - val_acc: 0.8000\n",
      "\n",
      "Epoch 00022: val_acc did not improve from 0.80000\n",
      "Epoch 23/400\n",
      "9/9 [==============================] - 0s 6ms/step - loss: 0.4001 - acc: 0.8296 - val_loss: 0.5447 - val_acc: 0.8000\n",
      "\n",
      "Epoch 00023: val_acc did not improve from 0.80000\n",
      "Epoch 24/400\n",
      "9/9 [==============================] - 0s 7ms/step - loss: 0.3690 - acc: 0.8481 - val_loss: 0.5353 - val_acc: 0.8000\n",
      "\n",
      "Epoch 00024: val_acc did not improve from 0.80000\n",
      "Epoch 25/400\n",
      "9/9 [==============================] - 0s 5ms/step - loss: 0.3753 - acc: 0.8370 - val_loss: 0.5663 - val_acc: 0.8000\n",
      "\n",
      "Epoch 00025: val_acc did not improve from 0.80000\n",
      "Epoch 26/400\n",
      "9/9 [==============================] - 0s 5ms/step - loss: 0.3490 - acc: 0.8222 - val_loss: 0.7049 - val_acc: 0.8000\n",
      "\n",
      "Epoch 00026: val_acc did not improve from 0.80000\n",
      "Epoch 27/400\n",
      "9/9 [==============================] - 0s 6ms/step - loss: 0.3409 - acc: 0.8259 - val_loss: 0.5042 - val_acc: 0.8000\n",
      "\n",
      "Epoch 00027: val_acc did not improve from 0.80000\n",
      "Epoch 28/400\n",
      "9/9 [==============================] - 0s 5ms/step - loss: 0.3297 - acc: 0.8259 - val_loss: 0.5877 - val_acc: 0.8000\n",
      "\n",
      "Epoch 00028: val_acc did not improve from 0.80000\n",
      "Epoch 29/400\n",
      "9/9 [==============================] - 0s 6ms/step - loss: 0.3453 - acc: 0.8333 - val_loss: 0.6377 - val_acc: 0.8000\n",
      "\n",
      "Epoch 00029: val_acc did not improve from 0.80000\n",
      "Epoch 30/400\n",
      "9/9 [==============================] - 0s 5ms/step - loss: 0.2752 - acc: 0.8889 - val_loss: 0.7344 - val_acc: 0.8000\n",
      "\n",
      "Epoch 00030: val_acc did not improve from 0.80000\n",
      "Epoch 31/400\n",
      "9/9 [==============================] - 0s 5ms/step - loss: 0.4017 - acc: 0.7889 - val_loss: 0.5808 - val_acc: 0.8000\n",
      "\n",
      "Epoch 00031: ReduceLROnPlateau reducing learning rate to 0.000800000037997961.\n",
      "\n",
      "Epoch 00031: val_acc did not improve from 0.80000\n",
      "Epoch 32/400\n",
      "9/9 [==============================] - 0s 5ms/step - loss: 0.2667 - acc: 0.8963 - val_loss: 0.5313 - val_acc: 0.8000\n",
      "\n",
      "Epoch 00032: val_acc did not improve from 0.80000\n",
      "Epoch 33/400\n",
      "9/9 [==============================] - 0s 6ms/step - loss: 0.2284 - acc: 0.9370 - val_loss: 0.5660 - val_acc: 0.7333\n",
      "\n",
      "Epoch 00033: val_acc did not improve from 0.80000\n",
      "Epoch 34/400\n",
      "9/9 [==============================] - 0s 5ms/step - loss: 0.2933 - acc: 0.8704 - val_loss: 0.7692 - val_acc: 0.8000\n",
      "\n",
      "Epoch 00034: val_acc did not improve from 0.80000\n",
      "Epoch 35/400\n",
      "9/9 [==============================] - 0s 5ms/step - loss: 0.2817 - acc: 0.8963 - val_loss: 0.6156 - val_acc: 0.8000\n",
      "\n",
      "Epoch 00035: val_acc did not improve from 0.80000\n",
      "Epoch 36/400\n",
      "9/9 [==============================] - 0s 5ms/step - loss: 0.2901 - acc: 0.8852 - val_loss: 0.6602 - val_acc: 0.8000\n",
      "\n",
      "Epoch 00036: val_acc did not improve from 0.80000\n",
      "Epoch 37/400\n",
      "9/9 [==============================] - 0s 5ms/step - loss: 0.2118 - acc: 0.9370 - val_loss: 0.7842 - val_acc: 0.8000\n",
      "\n",
      "Epoch 00037: val_acc did not improve from 0.80000\n",
      "Epoch 38/400\n",
      "9/9 [==============================] - 0s 7ms/step - loss: 0.3199 - acc: 0.8519 - val_loss: 0.5694 - val_acc: 0.7667\n",
      "\n",
      "Epoch 00038: val_acc did not improve from 0.80000\n",
      "Epoch 39/400\n",
      "9/9 [==============================] - 0s 6ms/step - loss: 0.1964 - acc: 0.9333 - val_loss: 0.7828 - val_acc: 0.8000\n",
      "\n",
      "Epoch 00039: val_acc did not improve from 0.80000\n",
      "Epoch 40/400\n",
      "9/9 [==============================] - 0s 5ms/step - loss: 0.2074 - acc: 0.9185 - val_loss: 0.9868 - val_acc: 0.8000\n",
      "\n",
      "Epoch 00040: val_acc did not improve from 0.80000\n",
      "Epoch 41/400\n",
      "9/9 [==============================] - 0s 6ms/step - loss: 0.1984 - acc: 0.9148 - val_loss: 0.8753 - val_acc: 0.8000\n",
      "\n",
      "Epoch 00041: val_acc did not improve from 0.80000\n",
      "Epoch 42/400\n",
      "9/9 [==============================] - 0s 6ms/step - loss: 0.2982 - acc: 0.8852 - val_loss: 0.6449 - val_acc: 0.8000\n",
      "\n",
      "Epoch 00042: val_acc did not improve from 0.80000\n",
      "Epoch 43/400\n",
      "9/9 [==============================] - 0s 5ms/step - loss: 0.2059 - acc: 0.9296 - val_loss: 0.7317 - val_acc: 0.8000\n",
      "\n",
      "Epoch 00043: val_acc did not improve from 0.80000\n",
      "Epoch 44/400\n",
      "9/9 [==============================] - 0s 6ms/step - loss: 0.2748 - acc: 0.8778 - val_loss: 0.5904 - val_acc: 0.7667\n",
      "\n",
      "Epoch 00044: val_acc did not improve from 0.80000\n",
      "Epoch 45/400\n",
      "9/9 [==============================] - 0s 5ms/step - loss: 0.1546 - acc: 0.9630 - val_loss: 0.6030 - val_acc: 0.8000\n",
      "\n",
      "Epoch 00045: val_acc did not improve from 0.80000\n",
      "Epoch 46/400\n",
      "9/9 [==============================] - 0s 5ms/step - loss: 0.2676 - acc: 0.8778 - val_loss: 0.6530 - val_acc: 0.8000\n",
      "\n",
      "Epoch 00046: val_acc did not improve from 0.80000\n",
      "Epoch 47/400\n",
      "9/9 [==============================] - 0s 5ms/step - loss: 0.1251 - acc: 0.9704 - val_loss: 0.7686 - val_acc: 0.8000\n",
      "\n",
      "Epoch 00047: val_acc did not improve from 0.80000\n",
      "Epoch 48/400\n",
      "9/9 [==============================] - 0s 5ms/step - loss: 0.2434 - acc: 0.9111 - val_loss: 0.6161 - val_acc: 0.7333\n",
      "\n",
      "Epoch 00048: val_acc did not improve from 0.80000\n",
      "Epoch 49/400\n",
      "9/9 [==============================] - 0s 5ms/step - loss: 0.1701 - acc: 0.9333 - val_loss: 0.6563 - val_acc: 0.8000\n",
      "\n",
      "Epoch 00049: val_acc did not improve from 0.80000\n",
      "Epoch 50/400\n",
      "9/9 [==============================] - 0s 6ms/step - loss: 0.1865 - acc: 0.9407 - val_loss: 1.1087 - val_acc: 0.8000\n",
      "\n",
      "Epoch 00050: val_acc did not improve from 0.80000\n",
      "Epoch 51/400\n",
      "9/9 [==============================] - 0s 6ms/step - loss: 0.1414 - acc: 0.9556 - val_loss: 0.6891 - val_acc: 0.8000\n",
      "\n",
      "Epoch 00051: val_acc did not improve from 0.80000\n",
      "Epoch 52/400\n",
      "9/9 [==============================] - 0s 6ms/step - loss: 0.2575 - acc: 0.8852 - val_loss: 0.7337 - val_acc: 0.8000\n",
      "\n",
      "Epoch 00052: val_acc did not improve from 0.80000\n",
      "Epoch 53/400\n",
      "9/9 [==============================] - 0s 6ms/step - loss: 0.1133 - acc: 0.9778 - val_loss: 1.1013 - val_acc: 0.8000\n",
      "\n",
      "Epoch 00053: val_acc did not improve from 0.80000\n",
      "Epoch 54/400\n",
      "9/9 [==============================] - 0s 5ms/step - loss: 0.1503 - acc: 0.9444 - val_loss: 0.8162 - val_acc: 0.6000\n",
      "\n",
      "Epoch 00054: val_acc did not improve from 0.80000\n",
      "Epoch 55/400\n",
      "9/9 [==============================] - 0s 5ms/step - loss: 0.1632 - acc: 0.9333 - val_loss: 0.7430 - val_acc: 0.8000\n",
      "\n",
      "Epoch 00055: val_acc did not improve from 0.80000\n",
      "Epoch 56/400\n",
      "9/9 [==============================] - 0s 6ms/step - loss: 0.0885 - acc: 0.9852 - val_loss: 0.8088 - val_acc: 0.8000\n",
      "\n",
      "Epoch 00056: val_acc did not improve from 0.80000\n",
      "Epoch 57/400\n",
      "9/9 [==============================] - 0s 5ms/step - loss: 0.1626 - acc: 0.9519 - val_loss: 1.0364 - val_acc: 0.8000\n",
      "\n",
      "Epoch 00057: val_acc did not improve from 0.80000\n",
      "Epoch 58/400\n",
      "9/9 [==============================] - 0s 5ms/step - loss: 0.1204 - acc: 0.9704 - val_loss: 1.1672 - val_acc: 0.8000\n",
      "\n",
      "Epoch 00058: val_acc did not improve from 0.80000\n",
      "Epoch 59/400\n",
      "9/9 [==============================] - 0s 5ms/step - loss: 0.2222 - acc: 0.9111 - val_loss: 0.8377 - val_acc: 0.8000\n",
      "\n",
      "Epoch 00059: val_acc did not improve from 0.80000\n",
      "Epoch 60/400\n",
      "9/9 [==============================] - 0s 6ms/step - loss: 0.0879 - acc: 0.9778 - val_loss: 1.3073 - val_acc: 0.8000\n",
      "\n",
      "Epoch 00060: val_acc did not improve from 0.80000\n",
      "Epoch 61/400\n",
      "9/9 [==============================] - 0s 7ms/step - loss: 0.1953 - acc: 0.9148 - val_loss: 0.7411 - val_acc: 0.8000\n",
      "\n",
      "Epoch 00061: ReduceLROnPlateau reducing learning rate to 0.0006400000303983689.\n",
      "\n",
      "Epoch 00061: val_acc did not improve from 0.80000\n",
      "Epoch 62/400\n",
      "9/9 [==============================] - 0s 6ms/step - loss: 0.0748 - acc: 0.9889 - val_loss: 0.8871 - val_acc: 0.8000\n",
      "\n",
      "Epoch 00062: val_acc did not improve from 0.80000\n",
      "Epoch 63/400\n",
      "9/9 [==============================] - 0s 6ms/step - loss: 0.1090 - acc: 0.9667 - val_loss: 0.7336 - val_acc: 0.7000\n",
      "\n",
      "Epoch 00063: val_acc did not improve from 0.80000\n",
      "Epoch 64/400\n",
      "9/9 [==============================] - 0s 5ms/step - loss: 0.0727 - acc: 0.9889 - val_loss: 1.0477 - val_acc: 0.8000\n",
      "\n",
      "Epoch 00064: val_acc did not improve from 0.80000\n",
      "Epoch 65/400\n",
      "9/9 [==============================] - 0s 5ms/step - loss: 0.1277 - acc: 0.9556 - val_loss: 0.9428 - val_acc: 0.8000\n",
      "\n",
      "Epoch 00065: val_acc did not improve from 0.80000\n",
      "Epoch 66/400\n",
      "9/9 [==============================] - 0s 7ms/step - loss: 0.0591 - acc: 0.9963 - val_loss: 0.8426 - val_acc: 0.8000\n",
      "\n",
      "Epoch 00066: val_acc did not improve from 0.80000\n",
      "Epoch 67/400\n",
      "9/9 [==============================] - 0s 5ms/step - loss: 0.0687 - acc: 0.9852 - val_loss: 0.9249 - val_acc: 0.8000\n",
      "\n",
      "Epoch 00067: val_acc did not improve from 0.80000\n",
      "Epoch 68/400\n",
      "9/9 [==============================] - 0s 5ms/step - loss: 0.1316 - acc: 0.9519 - val_loss: 1.0223 - val_acc: 0.8000\n",
      "\n",
      "Epoch 00068: val_acc did not improve from 0.80000\n",
      "Epoch 69/400\n",
      "9/9 [==============================] - 0s 8ms/step - loss: 0.0488 - acc: 0.9963 - val_loss: 0.9684 - val_acc: 0.8000\n",
      "\n",
      "Epoch 00069: val_acc did not improve from 0.80000\n",
      "Epoch 70/400\n",
      "9/9 [==============================] - 0s 6ms/step - loss: 0.1219 - acc: 0.9481 - val_loss: 0.9471 - val_acc: 0.8000\n",
      "\n",
      "Epoch 00070: val_acc did not improve from 0.80000\n",
      "Epoch 71/400\n",
      "9/9 [==============================] - 0s 5ms/step - loss: 0.0581 - acc: 0.9963 - val_loss: 0.8883 - val_acc: 0.8000\n",
      "\n",
      "Epoch 00071: val_acc did not improve from 0.80000\n",
      "Epoch 72/400\n",
      "9/9 [==============================] - 0s 5ms/step - loss: 0.0380 - acc: 1.0000 - val_loss: 0.9223 - val_acc: 0.8000\n",
      "\n",
      "Epoch 00072: val_acc did not improve from 0.80000\n",
      "Epoch 73/400\n",
      "9/9 [==============================] - 0s 5ms/step - loss: 0.1595 - acc: 0.9444 - val_loss: 0.9690 - val_acc: 0.8333\n",
      "\n",
      "Epoch 00073: val_acc improved from 0.80000 to 0.83333, saving model to optimum_DNN.h5\n",
      "Epoch 74/400\n",
      "9/9 [==============================] - 0s 5ms/step - loss: 0.0380 - acc: 1.0000 - val_loss: 0.9751 - val_acc: 0.8333\n",
      "\n",
      "Epoch 00074: val_acc did not improve from 0.83333\n",
      "Epoch 75/400\n",
      "9/9 [==============================] - 0s 6ms/step - loss: 0.0549 - acc: 0.9889 - val_loss: 0.8959 - val_acc: 0.7667\n",
      "\n",
      "Epoch 00075: val_acc did not improve from 0.83333\n",
      "Epoch 76/400\n",
      "9/9 [==============================] - 0s 6ms/step - loss: 0.2147 - acc: 0.8889 - val_loss: 0.9200 - val_acc: 0.8000\n",
      "\n",
      "Epoch 00076: val_acc did not improve from 0.83333\n",
      "Epoch 77/400\n",
      "9/9 [==============================] - 0s 5ms/step - loss: 0.0343 - acc: 1.0000 - val_loss: 1.0377 - val_acc: 0.8333\n",
      "\n",
      "Epoch 00077: val_acc did not improve from 0.83333\n",
      "Epoch 78/400\n",
      "9/9 [==============================] - 0s 7ms/step - loss: 0.0315 - acc: 1.0000 - val_loss: 1.0845 - val_acc: 0.8000\n",
      "\n",
      "Epoch 00078: val_acc did not improve from 0.83333\n",
      "Epoch 79/400\n",
      "9/9 [==============================] - 0s 5ms/step - loss: 0.0626 - acc: 0.9778 - val_loss: 1.0768 - val_acc: 0.8000\n",
      "\n",
      "Epoch 00079: val_acc did not improve from 0.83333\n",
      "Epoch 80/400\n",
      "9/9 [==============================] - 0s 5ms/step - loss: 0.0273 - acc: 1.0000 - val_loss: 1.2700 - val_acc: 0.8000\n",
      "\n",
      "Epoch 00080: val_acc did not improve from 0.83333\n",
      "Epoch 81/400\n",
      "9/9 [==============================] - 0s 5ms/step - loss: 0.1604 - acc: 0.9296 - val_loss: 1.2460 - val_acc: 0.8000\n",
      "\n",
      "Epoch 00081: val_acc did not improve from 0.83333\n",
      "Epoch 82/400\n",
      "9/9 [==============================] - 0s 5ms/step - loss: 0.0258 - acc: 1.0000 - val_loss: 1.1092 - val_acc: 0.8333\n",
      "\n",
      "Epoch 00082: val_acc did not improve from 0.83333\n",
      "Epoch 83/400\n",
      "9/9 [==============================] - 0s 5ms/step - loss: 0.0227 - acc: 1.0000 - val_loss: 1.3157 - val_acc: 0.8000\n",
      "\n",
      "Epoch 00083: val_acc did not improve from 0.83333\n",
      "Epoch 84/400\n",
      "9/9 [==============================] - 0s 5ms/step - loss: 0.1017 - acc: 0.9630 - val_loss: 1.0396 - val_acc: 0.8000\n",
      "\n",
      "Epoch 00084: val_acc did not improve from 0.83333\n",
      "Epoch 85/400\n",
      "9/9 [==============================] - 0s 6ms/step - loss: 0.0213 - acc: 1.0000 - val_loss: 1.4012 - val_acc: 0.8000\n",
      "\n",
      "Epoch 00085: val_acc did not improve from 0.83333\n",
      "Epoch 86/400\n",
      "9/9 [==============================] - 0s 6ms/step - loss: 0.0298 - acc: 1.0000 - val_loss: 1.0577 - val_acc: 0.8000\n",
      "\n",
      "Epoch 00086: val_acc did not improve from 0.83333\n",
      "Epoch 87/400\n",
      "9/9 [==============================] - 0s 5ms/step - loss: 0.1431 - acc: 0.9370 - val_loss: 1.1500 - val_acc: 0.8333\n",
      "\n",
      "Epoch 00087: val_acc did not improve from 0.83333\n",
      "Epoch 88/400\n",
      "9/9 [==============================] - 0s 6ms/step - loss: 0.0175 - acc: 1.0000 - val_loss: 1.2492 - val_acc: 0.8000\n",
      "\n",
      "Epoch 00088: val_acc did not improve from 0.83333\n",
      "Epoch 89/400\n",
      "9/9 [==============================] - 0s 8ms/step - loss: 0.0200 - acc: 1.0000 - val_loss: 1.1512 - val_acc: 0.8000\n",
      "\n",
      "Epoch 00089: val_acc did not improve from 0.83333\n",
      "Epoch 90/400\n",
      "9/9 [==============================] - 0s 7ms/step - loss: 0.0380 - acc: 0.9926 - val_loss: 1.1023 - val_acc: 0.8000\n",
      "\n",
      "Epoch 00090: val_acc did not improve from 0.83333\n",
      "Epoch 91/400\n",
      "9/9 [==============================] - 0s 7ms/step - loss: 0.0277 - acc: 1.0000 - val_loss: 1.1069 - val_acc: 0.8000\n",
      "\n",
      "Epoch 00091: val_acc did not improve from 0.83333\n",
      "Epoch 92/400\n",
      "9/9 [==============================] - 0s 8ms/step - loss: 0.1396 - acc: 0.9333 - val_loss: 1.1324 - val_acc: 0.8000\n",
      "\n",
      "Epoch 00092: val_acc did not improve from 0.83333\n",
      "Epoch 93/400\n",
      "9/9 [==============================] - 0s 7ms/step - loss: 0.0180 - acc: 1.0000 - val_loss: 1.0545 - val_acc: 0.7667\n",
      "\n",
      "Epoch 00093: val_acc did not improve from 0.83333\n",
      "Epoch 94/400\n",
      "9/9 [==============================] - 0s 6ms/step - loss: 0.0195 - acc: 1.0000 - val_loss: 1.3643 - val_acc: 0.8000\n",
      "\n",
      "Epoch 00094: val_acc did not improve from 0.83333\n",
      "Epoch 95/400\n",
      "9/9 [==============================] - 0s 6ms/step - loss: 0.0145 - acc: 1.0000 - val_loss: 1.0566 - val_acc: 0.7000\n",
      "\n",
      "Epoch 00095: val_acc did not improve from 0.83333\n",
      "Epoch 96/400\n",
      "9/9 [==============================] - 0s 7ms/step - loss: 0.0812 - acc: 0.9815 - val_loss: 1.2548 - val_acc: 0.8333\n",
      "\n",
      "Epoch 00096: val_acc did not improve from 0.83333\n",
      "Epoch 97/400\n",
      "9/9 [==============================] - 0s 6ms/step - loss: 0.0250 - acc: 0.9926 - val_loss: 2.2653 - val_acc: 0.8000\n",
      "\n",
      "Epoch 00097: val_acc did not improve from 0.83333\n",
      "Epoch 98/400\n",
      "9/9 [==============================] - 0s 6ms/step - loss: 0.0993 - acc: 0.9741 - val_loss: 1.2280 - val_acc: 0.8000\n",
      "\n",
      "Epoch 00098: val_acc did not improve from 0.83333\n",
      "Epoch 99/400\n",
      "9/9 [==============================] - 0s 5ms/step - loss: 0.0148 - acc: 1.0000 - val_loss: 1.2601 - val_acc: 0.8000\n",
      "\n",
      "Epoch 00099: val_acc did not improve from 0.83333\n",
      "Epoch 100/400\n",
      "9/9 [==============================] - 0s 6ms/step - loss: 0.0123 - acc: 1.0000 - val_loss: 1.5655 - val_acc: 0.8000\n",
      "\n",
      "Epoch 00100: val_acc did not improve from 0.83333\n",
      "Epoch 101/400\n",
      "9/9 [==============================] - 0s 6ms/step - loss: 0.1852 - acc: 0.9037 - val_loss: 1.2591 - val_acc: 0.8333\n",
      "\n",
      "Epoch 00101: val_acc did not improve from 0.83333\n",
      "Epoch 102/400\n",
      "9/9 [==============================] - 0s 6ms/step - loss: 0.0110 - acc: 1.0000 - val_loss: 1.3802 - val_acc: 0.8000\n",
      "\n",
      "Epoch 00102: val_acc did not improve from 0.83333\n",
      "Epoch 103/400\n",
      "9/9 [==============================] - 0s 6ms/step - loss: 0.0123 - acc: 1.0000 - val_loss: 1.2916 - val_acc: 0.8000\n",
      "\n",
      "Epoch 00103: ReduceLROnPlateau reducing learning rate to 0.0005120000336319208.\n",
      "\n",
      "Epoch 00103: val_acc did not improve from 0.83333\n",
      "Epoch 104/400\n",
      "9/9 [==============================] - 0s 5ms/step - loss: 0.0121 - acc: 1.0000 - val_loss: 1.3007 - val_acc: 0.8000\n",
      "\n",
      "Epoch 00104: val_acc did not improve from 0.83333\n",
      "Epoch 105/400\n",
      "9/9 [==============================] - 0s 5ms/step - loss: 0.0089 - acc: 1.0000 - val_loss: 1.4080 - val_acc: 0.8333\n",
      "\n",
      "Epoch 00105: val_acc did not improve from 0.83333\n",
      "Epoch 106/400\n",
      "9/9 [==============================] - 0s 6ms/step - loss: 0.0087 - acc: 1.0000 - val_loss: 1.2452 - val_acc: 0.8000\n",
      "\n",
      "Epoch 00106: val_acc did not improve from 0.83333\n",
      "Epoch 107/400\n",
      "9/9 [==============================] - 0s 5ms/step - loss: 0.0861 - acc: 0.9667 - val_loss: 1.4016 - val_acc: 0.8000\n",
      "\n",
      "Epoch 00107: val_acc did not improve from 0.83333\n",
      "Epoch 108/400\n",
      "9/9 [==============================] - 0s 6ms/step - loss: 0.0097 - acc: 1.0000 - val_loss: 1.3595 - val_acc: 0.8333\n",
      "\n",
      "Epoch 00108: val_acc did not improve from 0.83333\n",
      "Epoch 109/400\n",
      "9/9 [==============================] - 0s 5ms/step - loss: 0.0077 - acc: 1.0000 - val_loss: 1.4948 - val_acc: 0.8000\n",
      "\n",
      "Epoch 00109: val_acc did not improve from 0.83333\n",
      "Epoch 110/400\n",
      "9/9 [==============================] - 0s 5ms/step - loss: 0.0241 - acc: 0.9926 - val_loss: 2.2076 - val_acc: 0.8000\n",
      "\n",
      "Epoch 00110: val_acc did not improve from 0.83333\n",
      "Epoch 111/400\n",
      "9/9 [==============================] - 0s 5ms/step - loss: 0.0956 - acc: 0.9593 - val_loss: 1.4650 - val_acc: 0.8000\n",
      "\n",
      "Epoch 00111: val_acc did not improve from 0.83333\n",
      "Epoch 112/400\n",
      "9/9 [==============================] - 0s 8ms/step - loss: 0.0082 - acc: 1.0000 - val_loss: 1.4805 - val_acc: 0.8000\n",
      "\n",
      "Epoch 00112: val_acc did not improve from 0.83333\n",
      "Epoch 113/400\n",
      "9/9 [==============================] - 0s 7ms/step - loss: 0.0091 - acc: 1.0000 - val_loss: 1.4988 - val_acc: 0.8000\n",
      "\n",
      "Epoch 00113: val_acc did not improve from 0.83333\n",
      "Epoch 114/400\n",
      "9/9 [==============================] - 0s 5ms/step - loss: 0.0072 - acc: 1.0000 - val_loss: 1.4231 - val_acc: 0.8333\n",
      "\n",
      "Epoch 00114: val_acc did not improve from 0.83333\n",
      "Epoch 115/400\n",
      "9/9 [==============================] - 0s 6ms/step - loss: 0.0054 - acc: 1.0000 - val_loss: 1.5332 - val_acc: 0.8000\n",
      "\n",
      "Epoch 00115: val_acc did not improve from 0.83333\n",
      "Epoch 116/400\n",
      "9/9 [==============================] - 0s 5ms/step - loss: 0.0050 - acc: 1.0000 - val_loss: 1.2820 - val_acc: 0.8000\n",
      "\n",
      "Epoch 00116: val_acc did not improve from 0.83333\n",
      "Epoch 117/400\n",
      "9/9 [==============================] - 0s 6ms/step - loss: 0.1220 - acc: 0.9519 - val_loss: 1.3779 - val_acc: 0.8333\n",
      "\n",
      "Epoch 00117: val_acc did not improve from 0.83333\n",
      "Epoch 118/400\n",
      "9/9 [==============================] - 0s 7ms/step - loss: 0.0084 - acc: 1.0000 - val_loss: 1.4948 - val_acc: 0.8333\n",
      "\n",
      "Epoch 00118: val_acc did not improve from 0.83333\n",
      "Epoch 119/400\n",
      "9/9 [==============================] - 0s 6ms/step - loss: 0.0054 - acc: 1.0000 - val_loss: 1.5223 - val_acc: 0.8333\n",
      "\n",
      "Epoch 00119: val_acc did not improve from 0.83333\n",
      "Epoch 120/400\n",
      "9/9 [==============================] - 0s 5ms/step - loss: 0.0061 - acc: 1.0000 - val_loss: 1.5526 - val_acc: 0.8333\n",
      "\n",
      "Epoch 00120: val_acc did not improve from 0.83333\n",
      "Epoch 121/400\n",
      "9/9 [==============================] - 0s 6ms/step - loss: 0.0049 - acc: 1.0000 - val_loss: 1.4315 - val_acc: 0.8000\n",
      "\n",
      "Epoch 00121: val_acc did not improve from 0.83333\n",
      "Epoch 122/400\n",
      "9/9 [==============================] - 0s 7ms/step - loss: 0.1060 - acc: 0.9556 - val_loss: 2.0371 - val_acc: 0.8000\n",
      "\n",
      "Epoch 00122: val_acc did not improve from 0.83333\n",
      "Epoch 123/400\n",
      "9/9 [==============================] - 0s 6ms/step - loss: 0.0241 - acc: 0.9926 - val_loss: 1.5712 - val_acc: 0.8000\n",
      "\n",
      "Epoch 00123: val_acc did not improve from 0.83333\n",
      "Epoch 124/400\n",
      "9/9 [==============================] - 0s 6ms/step - loss: 0.0066 - acc: 1.0000 - val_loss: 1.5012 - val_acc: 0.8333\n",
      "\n",
      "Epoch 00124: val_acc did not improve from 0.83333\n",
      "Epoch 125/400\n",
      "9/9 [==============================] - 0s 6ms/step - loss: 0.0047 - acc: 1.0000 - val_loss: 1.5295 - val_acc: 0.8333\n",
      "\n",
      "Epoch 00125: val_acc did not improve from 0.83333\n",
      "Epoch 126/400\n",
      "9/9 [==============================] - 0s 7ms/step - loss: 0.0045 - acc: 1.0000 - val_loss: 1.5495 - val_acc: 0.8333\n",
      "\n",
      "Epoch 00126: val_acc did not improve from 0.83333\n",
      "Epoch 127/400\n",
      "9/9 [==============================] - 0s 6ms/step - loss: 0.0062 - acc: 1.0000 - val_loss: 1.4723 - val_acc: 0.8000\n",
      "\n",
      "Epoch 00127: val_acc did not improve from 0.83333\n",
      "Epoch 128/400\n",
      "9/9 [==============================] - 0s 7ms/step - loss: 0.0067 - acc: 1.0000 - val_loss: 1.6136 - val_acc: 0.8333\n",
      "\n",
      "Epoch 00128: val_acc did not improve from 0.83333\n",
      "Epoch 129/400\n",
      "9/9 [==============================] - 0s 6ms/step - loss: 0.0058 - acc: 1.0000 - val_loss: 1.9676 - val_acc: 0.8000\n",
      "\n",
      "Epoch 00129: val_acc did not improve from 0.83333\n",
      "Epoch 130/400\n",
      "9/9 [==============================] - 0s 7ms/step - loss: 0.0704 - acc: 0.9778 - val_loss: 1.5389 - val_acc: 0.8333\n",
      "\n",
      "Epoch 00130: val_acc did not improve from 0.83333\n",
      "Epoch 131/400\n",
      "9/9 [==============================] - 0s 6ms/step - loss: 0.0050 - acc: 1.0000 - val_loss: 1.5945 - val_acc: 0.8333\n",
      "\n",
      "Epoch 00131: val_acc did not improve from 0.83333\n",
      "Epoch 132/400\n",
      "9/9 [==============================] - 0s 6ms/step - loss: 0.0034 - acc: 1.0000 - val_loss: 1.6386 - val_acc: 0.8333\n",
      "\n",
      "Epoch 00132: val_acc did not improve from 0.83333\n",
      "Epoch 133/400\n",
      "9/9 [==============================] - 0s 6ms/step - loss: 0.0038 - acc: 1.0000 - val_loss: 1.6236 - val_acc: 0.8333\n",
      "\n",
      "Epoch 00133: ReduceLROnPlateau reducing learning rate to 0.00040960004553198815.\n",
      "\n",
      "Epoch 00133: val_acc did not improve from 0.83333\n",
      "Epoch 134/400\n",
      "9/9 [==============================] - 0s 6ms/step - loss: 0.0043 - acc: 1.0000 - val_loss: 1.7823 - val_acc: 0.8000\n",
      "\n",
      "Epoch 00134: val_acc did not improve from 0.83333\n",
      "Epoch 135/400\n",
      "9/9 [==============================] - 0s 6ms/step - loss: 0.0056 - acc: 1.0000 - val_loss: 1.4646 - val_acc: 0.8000\n",
      "\n",
      "Epoch 00135: val_acc did not improve from 0.83333\n",
      "Epoch 136/400\n",
      "9/9 [==============================] - 0s 6ms/step - loss: 0.0330 - acc: 0.9852 - val_loss: 1.6677 - val_acc: 0.8333\n",
      "\n",
      "Epoch 00136: val_acc did not improve from 0.83333\n",
      "Epoch 137/400\n",
      "9/9 [==============================] - 0s 5ms/step - loss: 0.0043 - acc: 1.0000 - val_loss: 1.6830 - val_acc: 0.8333\n",
      "\n",
      "Epoch 00137: val_acc did not improve from 0.83333\n",
      "Epoch 138/400\n",
      "9/9 [==============================] - 0s 7ms/step - loss: 0.0041 - acc: 1.0000 - val_loss: 1.6599 - val_acc: 0.8333\n",
      "\n",
      "Epoch 00138: val_acc did not improve from 0.83333\n",
      "Epoch 139/400\n",
      "9/9 [==============================] - 0s 5ms/step - loss: 0.0034 - acc: 1.0000 - val_loss: 1.6150 - val_acc: 0.8000\n",
      "\n",
      "Epoch 00139: val_acc did not improve from 0.83333\n",
      "Epoch 140/400\n",
      "9/9 [==============================] - 0s 5ms/step - loss: 0.0036 - acc: 1.0000 - val_loss: 1.6778 - val_acc: 0.8333\n",
      "\n",
      "Epoch 00140: val_acc did not improve from 0.83333\n",
      "Epoch 141/400\n",
      "9/9 [==============================] - 0s 5ms/step - loss: 0.0598 - acc: 0.9667 - val_loss: 2.0901 - val_acc: 0.8000\n",
      "\n",
      "Epoch 00141: val_acc did not improve from 0.83333\n",
      "Epoch 142/400\n",
      "9/9 [==============================] - 0s 5ms/step - loss: 0.0058 - acc: 1.0000 - val_loss: 1.7520 - val_acc: 0.8333\n",
      "\n",
      "Epoch 00142: val_acc did not improve from 0.83333\n",
      "Epoch 143/400\n",
      "9/9 [==============================] - 0s 6ms/step - loss: 0.0035 - acc: 1.0000 - val_loss: 1.6712 - val_acc: 0.8333\n",
      "\n",
      "Epoch 00143: val_acc did not improve from 0.83333\n",
      "Epoch 144/400\n",
      "9/9 [==============================] - 0s 5ms/step - loss: 0.0033 - acc: 1.0000 - val_loss: 1.7275 - val_acc: 0.8333\n",
      "\n",
      "Epoch 00144: val_acc did not improve from 0.83333\n",
      "Epoch 145/400\n",
      "9/9 [==============================] - 0s 7ms/step - loss: 0.0031 - acc: 1.0000 - val_loss: 1.8113 - val_acc: 0.8000\n",
      "\n",
      "Epoch 00145: val_acc did not improve from 0.83333\n",
      "Epoch 146/400\n",
      "9/9 [==============================] - 0s 6ms/step - loss: 0.0034 - acc: 1.0000 - val_loss: 1.6406 - val_acc: 0.8000\n",
      "\n",
      "Epoch 00146: val_acc did not improve from 0.83333\n",
      "Epoch 147/400\n",
      "9/9 [==============================] - 0s 6ms/step - loss: 0.0026 - acc: 1.0000 - val_loss: 1.8976 - val_acc: 0.8000\n",
      "\n",
      "Epoch 00147: val_acc did not improve from 0.83333\n",
      "Epoch 148/400\n",
      "9/9 [==============================] - 0s 5ms/step - loss: 0.0403 - acc: 0.9815 - val_loss: 1.8907 - val_acc: 0.8000\n",
      "\n",
      "Epoch 00148: val_acc did not improve from 0.83333\n",
      "Epoch 149/400\n",
      "9/9 [==============================] - 0s 6ms/step - loss: 0.0024 - acc: 1.0000 - val_loss: 1.7446 - val_acc: 0.8333\n",
      "\n",
      "Epoch 00149: val_acc did not improve from 0.83333\n",
      "Epoch 150/400\n",
      "9/9 [==============================] - 0s 7ms/step - loss: 0.0020 - acc: 1.0000 - val_loss: 1.8052 - val_acc: 0.8333\n",
      "\n",
      "Epoch 00150: val_acc did not improve from 0.83333\n",
      "Epoch 151/400\n",
      "9/9 [==============================] - 0s 6ms/step - loss: 0.0019 - acc: 1.0000 - val_loss: 1.7481 - val_acc: 0.8333\n",
      "\n",
      "Epoch 00151: val_acc did not improve from 0.83333\n",
      "Epoch 152/400\n",
      "9/9 [==============================] - 0s 7ms/step - loss: 0.0017 - acc: 1.0000 - val_loss: 1.7234 - val_acc: 0.8000\n",
      "\n",
      "Epoch 00152: val_acc did not improve from 0.83333\n",
      "Epoch 153/400\n",
      "9/9 [==============================] - 0s 7ms/step - loss: 0.0024 - acc: 1.0000 - val_loss: 1.7685 - val_acc: 0.8333\n",
      "\n",
      "Epoch 00153: val_acc did not improve from 0.83333\n",
      "Epoch 154/400\n",
      "9/9 [==============================] - 0s 6ms/step - loss: 0.0020 - acc: 1.0000 - val_loss: 1.6069 - val_acc: 0.8000\n",
      "\n",
      "Epoch 00154: val_acc did not improve from 0.83333\n",
      "Epoch 155/400\n",
      "9/9 [==============================] - 0s 9ms/step - loss: 0.0330 - acc: 0.9852 - val_loss: 1.6369 - val_acc: 0.8000\n",
      "\n",
      "Epoch 00155: val_acc did not improve from 0.83333\n",
      "Epoch 156/400\n",
      "9/9 [==============================] - 0s 6ms/step - loss: 0.0029 - acc: 1.0000 - val_loss: 1.7898 - val_acc: 0.8333\n",
      "\n",
      "Epoch 00156: val_acc did not improve from 0.83333\n",
      "Epoch 157/400\n",
      "9/9 [==============================] - 0s 6ms/step - loss: 0.0016 - acc: 1.0000 - val_loss: 1.7947 - val_acc: 0.8333\n",
      "\n",
      "Epoch 00157: val_acc did not improve from 0.83333\n",
      "Epoch 158/400\n",
      "9/9 [==============================] - 0s 7ms/step - loss: 0.0017 - acc: 1.0000 - val_loss: 1.8320 - val_acc: 0.8333\n",
      "\n",
      "Epoch 00158: val_acc did not improve from 0.83333\n",
      "Epoch 159/400\n",
      "9/9 [==============================] - 0s 6ms/step - loss: 0.0019 - acc: 1.0000 - val_loss: 1.8339 - val_acc: 0.8333\n",
      "\n",
      "Epoch 00159: val_acc did not improve from 0.83333\n",
      "Epoch 160/400\n",
      "9/9 [==============================] - 0s 7ms/step - loss: 0.0017 - acc: 1.0000 - val_loss: 1.8044 - val_acc: 0.8000\n",
      "\n",
      "Epoch 00160: val_acc did not improve from 0.83333\n",
      "Epoch 161/400\n",
      "9/9 [==============================] - 0s 8ms/step - loss: 0.0019 - acc: 1.0000 - val_loss: 1.8633 - val_acc: 0.8000\n",
      "\n",
      "Epoch 00161: val_acc did not improve from 0.83333\n",
      "Epoch 162/400\n",
      "9/9 [==============================] - 0s 6ms/step - loss: 0.0225 - acc: 0.9889 - val_loss: 1.8664 - val_acc: 0.8333\n",
      "\n",
      "Epoch 00162: val_acc did not improve from 0.83333\n",
      "Epoch 163/400\n",
      "9/9 [==============================] - 0s 6ms/step - loss: 0.0022 - acc: 1.0000 - val_loss: 1.8536 - val_acc: 0.8333\n",
      "\n",
      "Epoch 00163: ReduceLROnPlateau reducing learning rate to 0.00032768002711236477.\n",
      "\n",
      "Epoch 00163: val_acc did not improve from 0.83333\n",
      "Epoch 164/400\n",
      "9/9 [==============================] - 0s 6ms/step - loss: 0.0016 - acc: 1.0000 - val_loss: 1.8860 - val_acc: 0.8333\n",
      "\n",
      "Epoch 00164: val_acc did not improve from 0.83333\n",
      "Epoch 165/400\n",
      "9/9 [==============================] - 0s 6ms/step - loss: 0.0011 - acc: 1.0000 - val_loss: 1.8788 - val_acc: 0.8333\n",
      "\n",
      "Epoch 00165: val_acc did not improve from 0.83333\n",
      "Epoch 166/400\n",
      "9/9 [==============================] - 0s 5ms/step - loss: 0.0014 - acc: 1.0000 - val_loss: 1.7047 - val_acc: 0.8000\n",
      "\n",
      "Epoch 00166: val_acc did not improve from 0.83333\n",
      "Epoch 167/400\n",
      "9/9 [==============================] - 0s 5ms/step - loss: 0.0018 - acc: 1.0000 - val_loss: 1.9120 - val_acc: 0.8000\n",
      "\n",
      "Epoch 00167: val_acc did not improve from 0.83333\n",
      "Epoch 168/400\n",
      "9/9 [==============================] - 0s 6ms/step - loss: 0.0099 - acc: 0.9963 - val_loss: 1.9090 - val_acc: 0.8333\n",
      "\n",
      "Epoch 00168: val_acc did not improve from 0.83333\n",
      "Epoch 169/400\n",
      "9/9 [==============================] - 0s 7ms/step - loss: 0.0014 - acc: 1.0000 - val_loss: 1.9576 - val_acc: 0.8333\n",
      "\n",
      "Epoch 00169: val_acc did not improve from 0.83333\n",
      "Epoch 170/400\n",
      "9/9 [==============================] - 0s 9ms/step - loss: 0.0011 - acc: 1.0000 - val_loss: 1.9677 - val_acc: 0.8333\n",
      "\n",
      "Epoch 00170: val_acc did not improve from 0.83333\n",
      "Epoch 171/400\n",
      "9/9 [==============================] - 0s 5ms/step - loss: 0.0019 - acc: 1.0000 - val_loss: 2.4499 - val_acc: 0.8000\n",
      "\n",
      "Epoch 00171: val_acc did not improve from 0.83333\n",
      "Epoch 172/400\n",
      "9/9 [==============================] - 0s 7ms/step - loss: 0.0030 - acc: 1.0000 - val_loss: 1.7268 - val_acc: 0.8000\n",
      "\n",
      "Epoch 00172: val_acc did not improve from 0.83333\n",
      "Epoch 173/400\n",
      "9/9 [==============================] - 0s 6ms/step - loss: 0.0021 - acc: 1.0000 - val_loss: 1.9427 - val_acc: 0.8333\n",
      "\n",
      "Epoch 00173: val_acc did not improve from 0.83333\n",
      "Epoch 00173: early stopping\n"
     ]
    }
   ],
   "source": [
    "history = dnn_model.fit(scaled_x, y_b1, validation_split = .1, epochs = 400, callbacks = [es, lr, mc], verbose = 1)"
   ]
  },
  {
   "cell_type": "code",
   "execution_count": null,
   "metadata": {
    "id": "59rZr1v_Z1kd"
   },
   "outputs": [],
   "source": [
    "acc = history.history['acc']\n",
    "val_acc = history.history['val_acc']"
   ]
  },
  {
   "cell_type": "code",
   "execution_count": null,
   "metadata": {
    "colab": {
     "base_uri": "https://localhost:8080/",
     "height": 392
    },
    "id": "8PvyFJUAeD9-",
    "outputId": "2eb1dea4-f186-4f80-fc79-6ee21913f3da"
   },
   "outputs": [
    {
     "data": {
      "image/png": "[encoded data removed]",
      "text/plain": [
       "<Figure size 720x432 with 1 Axes>"
      ]
     },
     "metadata": {
      "needs_background": "light",
      "tags": []
     },
     "output_type": "display_data"
    }
   ],
   "source": [
    "plt.figure(figsize = (10, 6))\n",
    "plt.title('Train acc & Valdation acc', size = 15)\n",
    "plt.plot(acc, label = 'acc')\n",
    "plt.plot(val_acc, label = 'val_acc')\n",
    "plt.legend()\n",
    "plt.show()"
   ]
  },
  {
   "cell_type": "code",
   "execution_count": null,
   "metadata": {
    "id": "nEQXlvWfbuA_"
   },
   "outputs": [],
   "source": [
    "loss = history.history['loss']\n",
    "val_loss = history.history['val_loss']"
   ]
  },
  {
   "cell_type": "code",
   "execution_count": null,
   "metadata": {
    "colab": {
     "base_uri": "https://localhost:8080/",
     "height": 392
    },
    "id": "asn1nP4HebPX",
    "outputId": "a7134c0e-82af-4bc8-fefe-27b509c37a7a"
   },
   "outputs": [
    {
     "data": {
      "image/png": "[encoded data removed]",
      "text/plain": [
       "<Figure size 720x432 with 1 Axes>"
      ]
     },
     "metadata": {
      "needs_background": "light",
      "tags": []
     },
     "output_type": "display_data"
    }
   ],
   "source": [
    "plt.figure(figsize = (10, 6))\n",
    "plt.title('Train loss & Valdation loss', size = 15)\n",
    "plt.plot(loss, label = 'loss')\n",
    "plt.plot(val_loss, label = 'val_loss')\n",
    "plt.legend()\n",
    "plt.show()"
   ]
  },
  {
   "cell_type": "code",
   "execution_count": null,
   "metadata": {
    "id": "Hklq2Bi3rRZx"
   },
   "outputs": [],
   "source": [
    "model = load_model('DNN.h5')"
   ]
  },
  {
   "cell_type": "code",
   "execution_count": null,
   "metadata": {
    "id": "vn8GpCFnrWwe"
   },
   "outputs": [],
   "source": [
    "pred = model.predict(scaled_target)"
   ]
  },
  {
   "cell_type": "code",
   "execution_count": null,
   "metadata": {
    "id": "Pgx-96durhJ-"
   },
   "outputs": [],
   "source": [
    "label = [1 if pred[i][0] > .4 else 0 for i in range(len(pred))]"
   ]
  },
  {
   "cell_type": "code",
   "execution_count": null,
   "metadata": {
    "colab": {
     "base_uri": "https://localhost:8080/"
    },
    "id": "p3SZZF2Qr1KR",
    "outputId": "5c8fd449-63bf-4878-9cff-df82d2d216a0"
   },
   "outputs": [
    {
     "name": "stdout",
     "output_type": "stream",
     "text": [
      "DNN 모델의 test 정확도는 0.8\n"
     ]
    }
   ],
   "source": [
    "print(f'DNN 모델의 test 정확도는 {accuracy_score(target_b1, label)}')"
   ]
  },
  {
   "cell_type": "markdown",
   "metadata": {},
   "source": [
    "#### Scaling + PCA - Classfication"
   ]
  },
  {
   "cell_type": "code",
   "execution_count": null,
   "metadata": {
    "id": "TgIETDeDefIV"
   },
   "outputs": [],
   "source": [
    "dnn_model = Sequential()\n",
    "dnn_model.add(Dense(64, input_dim = 160, activation = 'relu'))\n",
    "dnn_model.add(Dense(8, activation = 'relu'))\n",
    "dnn_model.add(Dropout(.15))\n",
    "dnn_model.add(Dense(1, activation = 'sigmoid'))\n",
    "dnn_model.compile(loss = 'binary_crossentropy', metrics = ['acc'], optimizer = RMSprop(learning_rate = .001))"
   ]
  },
  {
   "cell_type": "code",
   "execution_count": null,
   "metadata": {
    "id": "VSVtyu7blwm3"
   },
   "outputs": [],
   "source": [
    "es = EarlyStopping(monitor = 'val_acc', mode = 'max', patience = 100, verbose = 1)\n",
    "lr = ReduceLROnPlateau(monitor='val_acc', factor = 0.8, patience = 30, verbose = 1, mode = 'max')\n",
    "mc = ModelCheckpoint(f'optimum_DNN.h5', save_best_only = True, verbose = 1, mode = 'max', monitor = 'val_acc')"
   ]
  },
  {
   "cell_type": "code",
   "execution_count": null,
   "metadata": {
    "colab": {
     "base_uri": "https://localhost:8080/"
    },
    "id": "QR_17ASOlyPX",
    "outputId": "59824c59-2228-4b27-cf4a-a0b468424ae7"
   },
   "outputs": [
    {
     "name": "stdout",
     "output_type": "stream",
     "text": [
      "Epoch 1/400\n",
      "9/9 [==============================] - 1s 23ms/step - loss: 0.7491 - acc: 0.4259 - val_loss: 0.7107 - val_acc: 0.6000\n",
      "\n",
      "Epoch 00001: val_acc improved from -inf to 0.60000, saving model to optimum_DNN.h5\n",
      "Epoch 2/400\n",
      "9/9 [==============================] - 0s 6ms/step - loss: 0.6036 - acc: 0.6815 - val_loss: 0.6632 - val_acc: 0.6000\n",
      "\n",
      "Epoch 00002: val_acc did not improve from 0.60000\n",
      "Epoch 3/400\n",
      "9/9 [==============================] - 0s 5ms/step - loss: 0.5402 - acc: 0.7815 - val_loss: 0.6384 - val_acc: 0.6000\n",
      "\n",
      "Epoch 00003: val_acc did not improve from 0.60000\n",
      "Epoch 4/400\n",
      "9/9 [==============================] - 0s 5ms/step - loss: 0.4868 - acc: 0.8593 - val_loss: 0.6154 - val_acc: 0.6333\n",
      "\n",
      "Epoch 00004: val_acc improved from 0.60000 to 0.63333, saving model to optimum_DNN.h5\n",
      "Epoch 5/400\n",
      "9/9 [==============================] - 0s 4ms/step - loss: 0.4564 - acc: 0.8296 - val_loss: 0.6000 - val_acc: 0.7000\n",
      "\n",
      "Epoch 00005: val_acc improved from 0.63333 to 0.70000, saving model to optimum_DNN.h5\n",
      "Epoch 6/400\n",
      "9/9 [==============================] - 0s 4ms/step - loss: 0.4075 - acc: 0.8444 - val_loss: 0.5935 - val_acc: 0.7000\n",
      "\n",
      "Epoch 00006: val_acc did not improve from 0.70000\n",
      "Epoch 7/400\n",
      "9/9 [==============================] - 0s 4ms/step - loss: 0.3691 - acc: 0.8556 - val_loss: 0.5912 - val_acc: 0.7333\n",
      "\n",
      "Epoch 00007: val_acc improved from 0.70000 to 0.73333, saving model to optimum_DNN.h5\n",
      "Epoch 8/400\n",
      "9/9 [==============================] - 0s 4ms/step - loss: 0.3300 - acc: 0.8889 - val_loss: 0.5899 - val_acc: 0.7333\n",
      "\n",
      "Epoch 00008: val_acc did not improve from 0.73333\n",
      "Epoch 9/400\n",
      "9/9 [==============================] - 0s 4ms/step - loss: 0.3098 - acc: 0.9148 - val_loss: 0.5883 - val_acc: 0.7667\n",
      "\n",
      "Epoch 00009: val_acc improved from 0.73333 to 0.76667, saving model to optimum_DNN.h5\n",
      "Epoch 10/400\n",
      "9/9 [==============================] - 0s 6ms/step - loss: 0.2882 - acc: 0.9333 - val_loss: 0.5914 - val_acc: 0.7667\n",
      "\n",
      "Epoch 00010: val_acc did not improve from 0.76667\n",
      "Epoch 11/400\n",
      "9/9 [==============================] - 0s 5ms/step - loss: 0.2548 - acc: 0.9333 - val_loss: 0.5944 - val_acc: 0.7667\n",
      "\n",
      "Epoch 00011: val_acc did not improve from 0.76667\n",
      "Epoch 12/400\n",
      "9/9 [==============================] - 0s 5ms/step - loss: 0.2505 - acc: 0.9407 - val_loss: 0.5960 - val_acc: 0.7667\n",
      "\n",
      "Epoch 00012: val_acc did not improve from 0.76667\n",
      "Epoch 13/400\n",
      "9/9 [==============================] - 0s 5ms/step - loss: 0.2218 - acc: 0.9444 - val_loss: 0.6016 - val_acc: 0.7667\n",
      "\n",
      "Epoch 00013: val_acc did not improve from 0.76667\n",
      "Epoch 14/400\n",
      "9/9 [==============================] - 0s 7ms/step - loss: 0.2027 - acc: 0.9519 - val_loss: 0.6156 - val_acc: 0.7667\n",
      "\n",
      "Epoch 00014: val_acc did not improve from 0.76667\n",
      "Epoch 15/400\n",
      "9/9 [==============================] - 0s 6ms/step - loss: 0.1809 - acc: 0.9741 - val_loss: 0.6299 - val_acc: 0.7667\n",
      "\n",
      "Epoch 00015: val_acc did not improve from 0.76667\n",
      "Epoch 16/400\n",
      "9/9 [==============================] - 0s 5ms/step - loss: 0.1521 - acc: 0.9778 - val_loss: 0.6413 - val_acc: 0.7667\n",
      "\n",
      "Epoch 00016: val_acc did not improve from 0.76667\n",
      "Epoch 17/400\n",
      "9/9 [==============================] - 0s 4ms/step - loss: 0.1289 - acc: 0.9963 - val_loss: 0.6548 - val_acc: 0.7667\n",
      "\n",
      "Epoch 00017: val_acc did not improve from 0.76667\n",
      "Epoch 18/400\n",
      "9/9 [==============================] - 0s 5ms/step - loss: 0.1225 - acc: 0.9852 - val_loss: 0.6797 - val_acc: 0.7667\n",
      "\n",
      "Epoch 00018: val_acc did not improve from 0.76667\n",
      "Epoch 19/400\n",
      "9/9 [==============================] - 0s 5ms/step - loss: 0.1096 - acc: 0.9926 - val_loss: 0.7015 - val_acc: 0.7667\n",
      "\n",
      "Epoch 00019: val_acc did not improve from 0.76667\n",
      "Epoch 20/400\n",
      "9/9 [==============================] - 0s 5ms/step - loss: 0.1262 - acc: 0.9815 - val_loss: 0.7185 - val_acc: 0.8000\n",
      "\n",
      "Epoch 00020: val_acc improved from 0.76667 to 0.80000, saving model to optimum_DNN.h5\n",
      "Epoch 21/400\n",
      "9/9 [==============================] - 0s 4ms/step - loss: 0.0864 - acc: 0.9963 - val_loss: 0.7476 - val_acc: 0.8000\n",
      "\n",
      "Epoch 00021: val_acc did not improve from 0.80000\n",
      "Epoch 22/400\n",
      "9/9 [==============================] - 0s 5ms/step - loss: 0.0786 - acc: 0.9963 - val_loss: 0.7753 - val_acc: 0.7667\n",
      "\n",
      "Epoch 00022: val_acc did not improve from 0.80000\n",
      "Epoch 23/400\n",
      "9/9 [==============================] - 0s 6ms/step - loss: 0.0923 - acc: 0.9926 - val_loss: 0.7989 - val_acc: 0.7667\n",
      "\n",
      "Epoch 00023: val_acc did not improve from 0.80000\n",
      "Epoch 24/400\n",
      "9/9 [==============================] - 0s 4ms/step - loss: 0.0728 - acc: 0.9926 - val_loss: 0.8320 - val_acc: 0.7667\n",
      "\n",
      "Epoch 00024: val_acc did not improve from 0.80000\n",
      "Epoch 25/400\n",
      "9/9 [==============================] - 0s 5ms/step - loss: 0.0643 - acc: 0.9889 - val_loss: 0.8617 - val_acc: 0.7667\n",
      "\n",
      "Epoch 00025: val_acc did not improve from 0.80000\n",
      "Epoch 26/400\n",
      "9/9 [==============================] - 0s 5ms/step - loss: 0.0469 - acc: 0.9963 - val_loss: 0.8945 - val_acc: 0.7667\n",
      "\n",
      "Epoch 00026: val_acc did not improve from 0.80000\n",
      "Epoch 27/400\n",
      "9/9 [==============================] - 0s 4ms/step - loss: 0.0461 - acc: 0.9889 - val_loss: 0.9274 - val_acc: 0.7667\n",
      "\n",
      "Epoch 00027: val_acc did not improve from 0.80000\n",
      "Epoch 28/400\n",
      "9/9 [==============================] - 0s 5ms/step - loss: 0.0421 - acc: 1.0000 - val_loss: 0.9632 - val_acc: 0.7667\n",
      "\n",
      "Epoch 00028: val_acc did not improve from 0.80000\n",
      "Epoch 29/400\n",
      "9/9 [==============================] - 0s 4ms/step - loss: 0.0437 - acc: 0.9889 - val_loss: 0.9811 - val_acc: 0.8000\n",
      "\n",
      "Epoch 00029: val_acc did not improve from 0.80000\n",
      "Epoch 30/400\n",
      "9/9 [==============================] - 0s 5ms/step - loss: 0.0429 - acc: 1.0000 - val_loss: 1.0138 - val_acc: 0.7667\n",
      "\n",
      "Epoch 00030: val_acc did not improve from 0.80000\n",
      "Epoch 31/400\n",
      "9/9 [==============================] - 0s 4ms/step - loss: 0.0312 - acc: 1.0000 - val_loss: 1.0450 - val_acc: 0.8000\n",
      "\n",
      "Epoch 00031: val_acc did not improve from 0.80000\n",
      "Epoch 32/400\n",
      "9/9 [==============================] - 0s 5ms/step - loss: 0.0277 - acc: 1.0000 - val_loss: 1.0973 - val_acc: 0.7667\n",
      "\n",
      "Epoch 00032: val_acc did not improve from 0.80000\n",
      "Epoch 33/400\n",
      "9/9 [==============================] - 0s 5ms/step - loss: 0.0436 - acc: 0.9889 - val_loss: 1.1288 - val_acc: 0.7667\n",
      "\n",
      "Epoch 00033: val_acc did not improve from 0.80000\n",
      "Epoch 34/400\n",
      "9/9 [==============================] - 0s 5ms/step - loss: 0.0255 - acc: 1.0000 - val_loss: 1.1611 - val_acc: 0.7667\n",
      "\n",
      "Epoch 00034: val_acc did not improve from 0.80000\n",
      "Epoch 35/400\n",
      "9/9 [==============================] - 0s 7ms/step - loss: 0.0271 - acc: 0.9889 - val_loss: 1.2033 - val_acc: 0.7667\n",
      "\n",
      "Epoch 00035: val_acc did not improve from 0.80000\n",
      "Epoch 36/400\n",
      "9/9 [==============================] - 0s 5ms/step - loss: 0.0348 - acc: 0.9963 - val_loss: 1.2461 - val_acc: 0.7667\n",
      "\n",
      "Epoch 00036: val_acc did not improve from 0.80000\n",
      "Epoch 37/400\n",
      "9/9 [==============================] - 0s 8ms/step - loss: 0.0238 - acc: 1.0000 - val_loss: 1.2702 - val_acc: 0.7667\n",
      "\n",
      "Epoch 00037: val_acc did not improve from 0.80000\n",
      "Epoch 38/400\n",
      "9/9 [==============================] - 0s 6ms/step - loss: 0.0218 - acc: 0.9963 - val_loss: 1.3158 - val_acc: 0.7667\n",
      "\n",
      "Epoch 00038: val_acc did not improve from 0.80000\n",
      "Epoch 39/400\n",
      "9/9 [==============================] - 0s 6ms/step - loss: 0.0131 - acc: 1.0000 - val_loss: 1.3432 - val_acc: 0.7667\n",
      "\n",
      "Epoch 00039: val_acc did not improve from 0.80000\n",
      "Epoch 40/400\n",
      "9/9 [==============================] - 0s 5ms/step - loss: 0.0158 - acc: 0.9963 - val_loss: 1.3822 - val_acc: 0.7667\n",
      "\n",
      "Epoch 00040: val_acc did not improve from 0.80000\n",
      "Epoch 41/400\n",
      "9/9 [==============================] - 0s 4ms/step - loss: 0.0178 - acc: 1.0000 - val_loss: 1.4025 - val_acc: 0.7667\n",
      "\n",
      "Epoch 00041: val_acc did not improve from 0.80000\n",
      "Epoch 42/400\n",
      "9/9 [==============================] - 0s 5ms/step - loss: 0.0160 - acc: 1.0000 - val_loss: 1.4478 - val_acc: 0.7667\n",
      "\n",
      "Epoch 00042: val_acc did not improve from 0.80000\n",
      "Epoch 43/400\n",
      "9/9 [==============================] - 0s 5ms/step - loss: 0.0165 - acc: 1.0000 - val_loss: 1.4932 - val_acc: 0.7667\n",
      "\n",
      "Epoch 00043: val_acc did not improve from 0.80000\n",
      "Epoch 44/400\n",
      "9/9 [==============================] - 0s 5ms/step - loss: 0.0155 - acc: 1.0000 - val_loss: 1.5415 - val_acc: 0.7667\n",
      "\n",
      "Epoch 00044: val_acc did not improve from 0.80000\n",
      "Epoch 45/400\n",
      "9/9 [==============================] - 0s 4ms/step - loss: 0.0177 - acc: 1.0000 - val_loss: 1.5490 - val_acc: 0.7667\n",
      "\n",
      "Epoch 00045: val_acc did not improve from 0.80000\n",
      "Epoch 46/400\n",
      "9/9 [==============================] - 0s 6ms/step - loss: 0.0155 - acc: 0.9963 - val_loss: 1.5886 - val_acc: 0.7667\n",
      "\n",
      "Epoch 00046: val_acc did not improve from 0.80000\n",
      "Epoch 47/400\n",
      "9/9 [==============================] - 0s 5ms/step - loss: 0.0155 - acc: 1.0000 - val_loss: 1.6192 - val_acc: 0.7667\n",
      "\n",
      "Epoch 00047: val_acc did not improve from 0.80000\n",
      "Epoch 48/400\n",
      "9/9 [==============================] - 0s 5ms/step - loss: 0.0020 - acc: 1.0000 - val_loss: 1.6657 - val_acc: 0.7667\n",
      "\n",
      "Epoch 00048: val_acc did not improve from 0.80000\n",
      "Epoch 49/400\n",
      "9/9 [==============================] - 0s 5ms/step - loss: 0.0151 - acc: 1.0000 - val_loss: 1.7137 - val_acc: 0.7667\n",
      "\n",
      "Epoch 00049: val_acc did not improve from 0.80000\n",
      "Epoch 50/400\n",
      "9/9 [==============================] - 0s 5ms/step - loss: 0.0207 - acc: 0.9926 - val_loss: 1.7619 - val_acc: 0.7667\n",
      "\n",
      "Epoch 00050: ReduceLROnPlateau reducing learning rate to 0.000800000037997961.\n",
      "\n",
      "Epoch 00050: val_acc did not improve from 0.80000\n",
      "Epoch 51/400\n",
      "9/9 [==============================] - 0s 5ms/step - loss: 0.0167 - acc: 1.0000 - val_loss: 1.7911 - val_acc: 0.7667\n",
      "\n",
      "Epoch 00051: val_acc did not improve from 0.80000\n",
      "Epoch 52/400\n",
      "9/9 [==============================] - 0s 5ms/step - loss: 0.0099 - acc: 1.0000 - val_loss: 1.8111 - val_acc: 0.7667\n",
      "\n",
      "Epoch 00052: val_acc did not improve from 0.80000\n",
      "Epoch 53/400\n",
      "9/9 [==============================] - 0s 6ms/step - loss: 0.0064 - acc: 1.0000 - val_loss: 1.8328 - val_acc: 0.7667\n",
      "\n",
      "Epoch 00053: val_acc did not improve from 0.80000\n",
      "Epoch 54/400\n",
      "9/9 [==============================] - 0s 5ms/step - loss: 0.0139 - acc: 0.9963 - val_loss: 1.8804 - val_acc: 0.7667\n",
      "\n",
      "Epoch 00054: val_acc did not improve from 0.80000\n",
      "Epoch 55/400\n",
      "9/9 [==============================] - 0s 4ms/step - loss: 0.0230 - acc: 1.0000 - val_loss: 1.9141 - val_acc: 0.7667\n",
      "\n",
      "Epoch 00055: val_acc did not improve from 0.80000\n",
      "Epoch 56/400\n",
      "9/9 [==============================] - 0s 5ms/step - loss: 0.0113 - acc: 1.0000 - val_loss: 1.9392 - val_acc: 0.7667\n",
      "\n",
      "Epoch 00056: val_acc did not improve from 0.80000\n",
      "Epoch 57/400\n",
      "9/9 [==============================] - 0s 5ms/step - loss: 0.0183 - acc: 0.9963 - val_loss: 1.9813 - val_acc: 0.7667\n",
      "\n",
      "Epoch 00057: val_acc did not improve from 0.80000\n",
      "Epoch 58/400\n",
      "9/9 [==============================] - 0s 7ms/step - loss: 0.0053 - acc: 1.0000 - val_loss: 2.0114 - val_acc: 0.7667\n",
      "\n",
      "Epoch 00058: val_acc did not improve from 0.80000\n",
      "Epoch 59/400\n",
      "9/9 [==============================] - 0s 5ms/step - loss: 0.0171 - acc: 1.0000 - val_loss: 2.0487 - val_acc: 0.7667\n",
      "\n",
      "Epoch 00059: val_acc did not improve from 0.80000\n",
      "Epoch 60/400\n",
      "9/9 [==============================] - 0s 6ms/step - loss: 0.0242 - acc: 1.0000 - val_loss: 2.0930 - val_acc: 0.7667\n",
      "\n",
      "Epoch 00060: val_acc did not improve from 0.80000\n",
      "Epoch 61/400\n",
      "9/9 [==============================] - 0s 4ms/step - loss: 0.0090 - acc: 1.0000 - val_loss: 2.1087 - val_acc: 0.7667\n",
      "\n",
      "Epoch 00061: val_acc did not improve from 0.80000\n",
      "Epoch 62/400\n",
      "9/9 [==============================] - 0s 5ms/step - loss: 0.0068 - acc: 1.0000 - val_loss: 2.1524 - val_acc: 0.7667\n",
      "\n",
      "Epoch 00062: val_acc did not improve from 0.80000\n",
      "Epoch 63/400\n",
      "9/9 [==============================] - 0s 4ms/step - loss: 0.0151 - acc: 1.0000 - val_loss: 2.1876 - val_acc: 0.7667\n",
      "\n",
      "Epoch 00063: val_acc did not improve from 0.80000\n",
      "Epoch 64/400\n",
      "9/9 [==============================] - 0s 5ms/step - loss: 0.0143 - acc: 1.0000 - val_loss: 2.1933 - val_acc: 0.7667\n",
      "\n",
      "Epoch 00064: val_acc did not improve from 0.80000\n",
      "Epoch 65/400\n",
      "9/9 [==============================] - 0s 4ms/step - loss: 0.0148 - acc: 1.0000 - val_loss: 2.2170 - val_acc: 0.7667\n",
      "\n",
      "Epoch 00065: val_acc did not improve from 0.80000\n",
      "Epoch 66/400\n",
      "9/9 [==============================] - 0s 5ms/step - loss: 0.0050 - acc: 1.0000 - val_loss: 2.2649 - val_acc: 0.7333\n",
      "\n",
      "Epoch 00066: val_acc did not improve from 0.80000\n",
      "Epoch 67/400\n",
      "9/9 [==============================] - 0s 5ms/step - loss: 0.0065 - acc: 1.0000 - val_loss: 2.2944 - val_acc: 0.7333\n",
      "\n",
      "Epoch 00067: val_acc did not improve from 0.80000\n",
      "Epoch 68/400\n",
      "9/9 [==============================] - 0s 5ms/step - loss: 0.0105 - acc: 1.0000 - val_loss: 2.3242 - val_acc: 0.7667\n",
      "\n",
      "Epoch 00068: val_acc did not improve from 0.80000\n",
      "Epoch 69/400\n",
      "9/9 [==============================] - 0s 7ms/step - loss: 0.0064 - acc: 1.0000 - val_loss: 2.3622 - val_acc: 0.7667\n",
      "\n",
      "Epoch 00069: val_acc did not improve from 0.80000\n",
      "Epoch 70/400\n",
      "9/9 [==============================] - 0s 5ms/step - loss: 0.0106 - acc: 1.0000 - val_loss: 2.3851 - val_acc: 0.7333\n",
      "\n",
      "Epoch 00070: val_acc did not improve from 0.80000\n",
      "Epoch 71/400\n",
      "9/9 [==============================] - 0s 6ms/step - loss: 0.0150 - acc: 0.9963 - val_loss: 2.4269 - val_acc: 0.7333\n",
      "\n",
      "Epoch 00071: val_acc did not improve from 0.80000\n",
      "Epoch 72/400\n",
      "9/9 [==============================] - 0s 5ms/step - loss: 0.0067 - acc: 1.0000 - val_loss: 2.4781 - val_acc: 0.7667\n",
      "\n",
      "Epoch 00072: val_acc did not improve from 0.80000\n",
      "Epoch 73/400\n",
      "9/9 [==============================] - 0s 5ms/step - loss: 0.0064 - acc: 1.0000 - val_loss: 2.5108 - val_acc: 0.7667\n",
      "\n",
      "Epoch 00073: val_acc did not improve from 0.80000\n",
      "Epoch 74/400\n",
      "9/9 [==============================] - 0s 5ms/step - loss: 0.0121 - acc: 1.0000 - val_loss: 2.5406 - val_acc: 0.7667\n",
      "\n",
      "Epoch 00074: val_acc did not improve from 0.80000\n",
      "Epoch 75/400\n",
      "9/9 [==============================] - 0s 5ms/step - loss: 0.0062 - acc: 1.0000 - val_loss: 2.5725 - val_acc: 0.7667\n",
      "\n",
      "Epoch 00075: val_acc did not improve from 0.80000\n",
      "Epoch 76/400\n",
      "9/9 [==============================] - 0s 5ms/step - loss: 0.0060 - acc: 1.0000 - val_loss: 2.6031 - val_acc: 0.7667\n",
      "\n",
      "Epoch 00076: val_acc did not improve from 0.80000\n",
      "Epoch 77/400\n",
      "9/9 [==============================] - 0s 5ms/step - loss: 0.0041 - acc: 1.0000 - val_loss: 2.6209 - val_acc: 0.7667\n",
      "\n",
      "Epoch 00077: val_acc did not improve from 0.80000\n",
      "Epoch 78/400\n",
      "9/9 [==============================] - 0s 8ms/step - loss: 0.0025 - acc: 1.0000 - val_loss: 2.6486 - val_acc: 0.7667\n",
      "\n",
      "Epoch 00078: val_acc did not improve from 0.80000\n",
      "Epoch 79/400\n",
      "9/9 [==============================] - 0s 4ms/step - loss: 0.0107 - acc: 1.0000 - val_loss: 2.6625 - val_acc: 0.7667\n",
      "\n",
      "Epoch 00079: val_acc did not improve from 0.80000\n",
      "Epoch 80/400\n",
      "9/9 [==============================] - 0s 4ms/step - loss: 0.0207 - acc: 0.9963 - val_loss: 2.6842 - val_acc: 0.7667\n",
      "\n",
      "Epoch 00080: ReduceLROnPlateau reducing learning rate to 0.0006400000303983689.\n",
      "\n",
      "Epoch 00080: val_acc did not improve from 0.80000\n",
      "Epoch 81/400\n",
      "9/9 [==============================] - 0s 5ms/step - loss: 0.0099 - acc: 1.0000 - val_loss: 2.7079 - val_acc: 0.7667\n",
      "\n",
      "Epoch 00081: val_acc did not improve from 0.80000\n",
      "Epoch 82/400\n",
      "9/9 [==============================] - 0s 5ms/step - loss: 0.0140 - acc: 1.0000 - val_loss: 2.7366 - val_acc: 0.7667\n",
      "\n",
      "Epoch 00082: val_acc did not improve from 0.80000\n",
      "Epoch 83/400\n",
      "9/9 [==============================] - 0s 5ms/step - loss: 0.0120 - acc: 1.0000 - val_loss: 2.7648 - val_acc: 0.7667\n",
      "\n",
      "Epoch 00083: val_acc did not improve from 0.80000\n",
      "Epoch 84/400\n",
      "9/9 [==============================] - 0s 6ms/step - loss: 0.0077 - acc: 0.9963 - val_loss: 2.7956 - val_acc: 0.7667\n",
      "\n",
      "Epoch 00084: val_acc did not improve from 0.80000\n",
      "Epoch 85/400\n",
      "9/9 [==============================] - 0s 6ms/step - loss: 0.0081 - acc: 1.0000 - val_loss: 2.8020 - val_acc: 0.7667\n",
      "\n",
      "Epoch 00085: val_acc did not improve from 0.80000\n",
      "Epoch 86/400\n",
      "9/9 [==============================] - 0s 5ms/step - loss: 0.0097 - acc: 1.0000 - val_loss: 2.8263 - val_acc: 0.7667\n",
      "\n",
      "Epoch 00086: val_acc did not improve from 0.80000\n",
      "Epoch 87/400\n",
      "9/9 [==============================] - 0s 5ms/step - loss: 0.0040 - acc: 1.0000 - val_loss: 2.8450 - val_acc: 0.7667\n",
      "\n",
      "Epoch 00087: val_acc did not improve from 0.80000\n",
      "Epoch 88/400\n",
      "9/9 [==============================] - 0s 6ms/step - loss: 0.0118 - acc: 1.0000 - val_loss: 2.8627 - val_acc: 0.7667\n",
      "\n",
      "Epoch 00088: val_acc did not improve from 0.80000\n",
      "Epoch 89/400\n",
      "9/9 [==============================] - 0s 6ms/step - loss: 0.0172 - acc: 1.0000 - val_loss: 2.8896 - val_acc: 0.7667\n",
      "\n",
      "Epoch 00089: val_acc did not improve from 0.80000\n",
      "Epoch 90/400\n",
      "9/9 [==============================] - 0s 5ms/step - loss: 0.0078 - acc: 1.0000 - val_loss: 2.9255 - val_acc: 0.7667\n",
      "\n",
      "Epoch 00090: val_acc did not improve from 0.80000\n",
      "Epoch 91/400\n",
      "9/9 [==============================] - 0s 5ms/step - loss: 0.0098 - acc: 1.0000 - val_loss: 2.9243 - val_acc: 0.7667\n",
      "\n",
      "Epoch 00091: val_acc did not improve from 0.80000\n",
      "Epoch 92/400\n",
      "9/9 [==============================] - 0s 6ms/step - loss: 0.0049 - acc: 1.0000 - val_loss: 2.9501 - val_acc: 0.7667\n",
      "\n",
      "Epoch 00092: val_acc did not improve from 0.80000\n",
      "Epoch 93/400\n",
      "9/9 [==============================] - 0s 5ms/step - loss: 0.0095 - acc: 1.0000 - val_loss: 2.9770 - val_acc: 0.7667\n",
      "\n",
      "Epoch 00093: val_acc did not improve from 0.80000\n",
      "Epoch 94/400\n",
      "9/9 [==============================] - 0s 6ms/step - loss: 0.0095 - acc: 1.0000 - val_loss: 2.9956 - val_acc: 0.7667\n",
      "\n",
      "Epoch 00094: val_acc did not improve from 0.80000\n",
      "Epoch 95/400\n",
      "9/9 [==============================] - 0s 6ms/step - loss: 0.0135 - acc: 1.0000 - val_loss: 3.0307 - val_acc: 0.7667\n",
      "\n",
      "Epoch 00095: val_acc did not improve from 0.80000\n",
      "Epoch 96/400\n",
      "9/9 [==============================] - 0s 5ms/step - loss: 0.0057 - acc: 1.0000 - val_loss: 3.0521 - val_acc: 0.7667\n",
      "\n",
      "Epoch 00096: val_acc did not improve from 0.80000\n",
      "Epoch 97/400\n",
      "9/9 [==============================] - 0s 5ms/step - loss: 0.0038 - acc: 1.0000 - val_loss: 3.0848 - val_acc: 0.7667\n",
      "\n",
      "Epoch 00097: val_acc did not improve from 0.80000\n",
      "Epoch 98/400\n",
      "9/9 [==============================] - 0s 5ms/step - loss: 0.0169 - acc: 1.0000 - val_loss: 3.0976 - val_acc: 0.7667\n",
      "\n",
      "Epoch 00098: val_acc did not improve from 0.80000\n",
      "Epoch 99/400\n",
      "9/9 [==============================] - 0s 4ms/step - loss: 0.0149 - acc: 1.0000 - val_loss: 3.1191 - val_acc: 0.7667\n",
      "\n",
      "Epoch 00099: val_acc did not improve from 0.80000\n",
      "Epoch 100/400\n",
      "9/9 [==============================] - 0s 6ms/step - loss: 0.0038 - acc: 1.0000 - val_loss: 3.1443 - val_acc: 0.7667\n",
      "\n",
      "Epoch 00100: val_acc did not improve from 0.80000\n",
      "Epoch 101/400\n",
      "9/9 [==============================] - 0s 6ms/step - loss: 0.0093 - acc: 1.0000 - val_loss: 3.1657 - val_acc: 0.7667\n",
      "\n",
      "Epoch 00101: val_acc did not improve from 0.80000\n",
      "Epoch 102/400\n",
      "9/9 [==============================] - 0s 5ms/step - loss: 0.0056 - acc: 1.0000 - val_loss: 3.1912 - val_acc: 0.7667\n",
      "\n",
      "Epoch 00102: val_acc did not improve from 0.80000\n",
      "Epoch 103/400\n",
      "9/9 [==============================] - 0s 5ms/step - loss: 0.0093 - acc: 1.0000 - val_loss: 3.2194 - val_acc: 0.7667\n",
      "\n",
      "Epoch 00103: val_acc did not improve from 0.80000\n",
      "Epoch 104/400\n",
      "9/9 [==============================] - 0s 5ms/step - loss: 0.0056 - acc: 1.0000 - val_loss: 3.2441 - val_acc: 0.7667\n",
      "\n",
      "Epoch 00104: val_acc did not improve from 0.80000\n",
      "Epoch 105/400\n",
      "9/9 [==============================] - 0s 5ms/step - loss: 0.0116 - acc: 1.0000 - val_loss: 3.2639 - val_acc: 0.7667\n",
      "\n",
      "Epoch 00105: val_acc did not improve from 0.80000\n",
      "Epoch 106/400\n",
      "9/9 [==============================] - 0s 5ms/step - loss: 0.0153 - acc: 1.0000 - val_loss: 3.2919 - val_acc: 0.7667\n",
      "\n",
      "Epoch 00106: val_acc did not improve from 0.80000\n",
      "Epoch 107/400\n",
      "9/9 [==============================] - 0s 6ms/step - loss: 0.0095 - acc: 1.0000 - val_loss: 3.3244 - val_acc: 0.7667\n",
      "\n",
      "Epoch 00107: val_acc did not improve from 0.80000\n",
      "Epoch 108/400\n",
      "9/9 [==============================] - 0s 5ms/step - loss: 0.0073 - acc: 1.0000 - val_loss: 3.3419 - val_acc: 0.7667\n",
      "\n",
      "Epoch 00108: val_acc did not improve from 0.80000\n",
      "Epoch 109/400\n",
      "9/9 [==============================] - 0s 5ms/step - loss: 0.0129 - acc: 0.9963 - val_loss: 3.3748 - val_acc: 0.7667\n",
      "\n",
      "Epoch 00109: val_acc did not improve from 0.80000\n",
      "Epoch 110/400\n",
      "9/9 [==============================] - 0s 5ms/step - loss: 0.0037 - acc: 1.0000 - val_loss: 3.3945 - val_acc: 0.7667\n",
      "\n",
      "Epoch 00110: ReduceLROnPlateau reducing learning rate to 0.0005120000336319208.\n",
      "\n",
      "Epoch 00110: val_acc did not improve from 0.80000\n",
      "Epoch 111/400\n",
      "9/9 [==============================] - 0s 6ms/step - loss: 0.0092 - acc: 1.0000 - val_loss: 3.4196 - val_acc: 0.7667\n",
      "\n",
      "Epoch 00111: val_acc did not improve from 0.80000\n",
      "Epoch 112/400\n",
      "9/9 [==============================] - 0s 6ms/step - loss: 0.0055 - acc: 1.0000 - val_loss: 3.4300 - val_acc: 0.7667\n",
      "\n",
      "Epoch 00112: val_acc did not improve from 0.80000\n",
      "Epoch 113/400\n",
      "9/9 [==============================] - 0s 6ms/step - loss: 0.0074 - acc: 1.0000 - val_loss: 3.4137 - val_acc: 0.7667\n",
      "\n",
      "Epoch 00113: val_acc did not improve from 0.80000\n",
      "Epoch 114/400\n",
      "9/9 [==============================] - 0s 6ms/step - loss: 0.0126 - acc: 1.0000 - val_loss: 3.4250 - val_acc: 0.7667\n",
      "\n",
      "Epoch 00114: val_acc did not improve from 0.80000\n",
      "Epoch 115/400\n",
      "9/9 [==============================] - 0s 5ms/step - loss: 0.0094 - acc: 1.0000 - val_loss: 3.4290 - val_acc: 0.7667\n",
      "\n",
      "Epoch 00115: val_acc did not improve from 0.80000\n",
      "Epoch 116/400\n",
      "9/9 [==============================] - 0s 5ms/step - loss: 0.0182 - acc: 1.0000 - val_loss: 3.4315 - val_acc: 0.7667\n",
      "\n",
      "Epoch 00116: val_acc did not improve from 0.80000\n",
      "Epoch 117/400\n",
      "9/9 [==============================] - 0s 6ms/step - loss: 0.0055 - acc: 1.0000 - val_loss: 3.4415 - val_acc: 0.7667\n",
      "\n",
      "Epoch 00117: val_acc did not improve from 0.80000\n",
      "Epoch 118/400\n",
      "9/9 [==============================] - 0s 5ms/step - loss: 0.0107 - acc: 1.0000 - val_loss: 3.4582 - val_acc: 0.7667\n",
      "\n",
      "Epoch 00118: val_acc did not improve from 0.80000\n",
      "Epoch 119/400\n",
      "9/9 [==============================] - 0s 5ms/step - loss: 0.0054 - acc: 0.9963 - val_loss: 3.4993 - val_acc: 0.7667\n",
      "\n",
      "Epoch 00119: val_acc did not improve from 0.80000\n",
      "Epoch 120/400\n",
      "9/9 [==============================] - 0s 5ms/step - loss: 0.0053 - acc: 1.0000 - val_loss: 3.5136 - val_acc: 0.7667\n",
      "\n",
      "Epoch 00120: val_acc did not improve from 0.80000\n",
      "Epoch 00120: early stopping\n"
     ]
    }
   ],
   "source": [
    "history = dnn_model.fit(pca_X_scaled, y_b2, validation_split = .1, epochs = 400, callbacks = [es, lr, mc], verbose = 1)"
   ]
  },
  {
   "cell_type": "code",
   "execution_count": null,
   "metadata": {
    "id": "J8ZFud60l085"
   },
   "outputs": [],
   "source": [
    "acc = history.history['acc']\n",
    "val_acc = history.history['val_acc']"
   ]
  },
  {
   "cell_type": "code",
   "execution_count": null,
   "metadata": {
    "colab": {
     "base_uri": "https://localhost:8080/",
     "height": 392
    },
    "id": "LCLyaml5m6ZS",
    "outputId": "5b11b461-ac79-4f9a-e1b9-198374904134"
   },
   "outputs": [
    {
     "data": {
      "image/png": "[encoded data removed]",
      "text/plain": [
       "<Figure size 720x432 with 1 Axes>"
      ]
     },
     "metadata": {
      "needs_background": "light",
      "tags": []
     },
     "output_type": "display_data"
    }
   ],
   "source": [
    "plt.figure(figsize = (10, 6))\n",
    "plt.title('Train acc & Valdation acc', size = 15)\n",
    "plt.plot(acc, label = 'acc')\n",
    "plt.plot(val_acc, label = 'val_acc')\n",
    "plt.legend()\n",
    "plt.show()"
   ]
  },
  {
   "cell_type": "code",
   "execution_count": null,
   "metadata": {
    "id": "tTwmEWeCm8Jw"
   },
   "outputs": [],
   "source": [
    "loss = history.history['loss']\n",
    "val_loss = history.history['val_loss']"
   ]
  },
  {
   "cell_type": "code",
   "execution_count": null,
   "metadata": {
    "colab": {
     "base_uri": "https://localhost:8080/",
     "height": 392
    },
    "id": "AAVLu8rDm9t0",
    "outputId": "758d5c42-9042-45c6-a736-b0ad8b8fc9cb"
   },
   "outputs": [
    {
     "data": {
      "image/png": "[encoded data removed]",
      "text/plain": [
       "<Figure size 720x432 with 1 Axes>"
      ]
     },
     "metadata": {
      "needs_background": "light",
      "tags": []
     },
     "output_type": "display_data"
    }
   ],
   "source": [
    "plt.figure(figsize = (10, 6))\n",
    "plt.title('Train loss & Valdation loss', size = 15)\n",
    "plt.plot(loss, label = 'loss')\n",
    "plt.plot(val_loss, label = 'val_loss')\n",
    "plt.legend()\n",
    "plt.show()"
   ]
  },
  {
   "cell_type": "code",
   "execution_count": null,
   "metadata": {
    "id": "mi8KnkWAtag8"
   },
   "outputs": [],
   "source": [
    "model = load_model('DNN.h5')"
   ]
  },
  {
   "cell_type": "code",
   "execution_count": null,
   "metadata": {
    "id": "fm_ihw10tag9"
   },
   "outputs": [],
   "source": [
    "pred = model.predict(pca_target_scaled)"
   ]
  },
  {
   "cell_type": "code",
   "execution_count": null,
   "metadata": {
    "id": "f5Sj7Exetag9"
   },
   "outputs": [],
   "source": [
    "label = [1 if pred[i][0] > .4 else 0 for i in range(len(pred))]"
   ]
  },
  {
   "cell_type": "code",
   "execution_count": null,
   "metadata": {
    "colab": {
     "base_uri": "https://localhost:8080/"
    },
    "id": "RAieSp7Xtag9",
    "outputId": "11d10960-8d8e-423d-e22e-564b8c460422"
   },
   "outputs": [
    {
     "name": "stdout",
     "output_type": "stream",
     "text": [
      "DNN 모델의 test 정확도는 0.8\n"
     ]
    }
   ],
   "source": [
    "print(f'DNN 모델의 test 정확도는 {accuracy_score(target_b2, label)}')"
   ]
  }
 ],
 "metadata": {
  "colab": {
   "collapsed_sections": [],
   "name": "Untitled.ipynb",
   "provenance": []
  },
  "kernelspec": {
   "display_name": "Python 3",
   "language": "python",
   "name": "python3"
  },
  "language_info": {
   "codemirror_mode": {
    "name": "ipython",
    "version": 3
   },
   "file_extension": ".py",
   "mimetype": "text/x-python",
   "name": "python",
   "nbconvert_exporter": "python",
   "pygments_lexer": "ipython3",
   "version": "3.8.2"
  }
 },
 "nbformat": 4,
 "nbformat_minor": 1
}
