{
 "cells": [
  {
   "cell_type": "markdown",
   "metadata": {},
   "source": [
    "# CNN Guide\n",
    "## By OPTIMUM\n",
    "***\n",
    "고객님 안녕하세요~ CNN을 활용한 딥러닝 모델링의 샘플 코드를 작성해보았습니다!\n",
    "\n",
    "공부에 많은 도움이 되시길 바라며 궁금하신 점이 있다면 언제든 문의 주세요!"
   ]
  },
  {
   "cell_type": "code",
   "execution_count": null,
   "metadata": {
    "id": "JJFlcHKF1YhM"
   },
   "outputs": [],
   "source": [
    "from tensorflow.keras.datasets import cifar10"
   ]
  },
  {
   "cell_type": "markdown",
   "metadata": {},
   "source": [
    "keras의 cifar10 데이터를 호출합니다. mnist와 마찬가지로 10개의 클래스를 가지는 데이터입니다."
   ]
  },
  {
   "cell_type": "code",
   "execution_count": 56,
   "metadata": {
    "id": "70fuM6I711fU"
   },
   "outputs": [],
   "source": [
    "(X_train, y_train), (X_test, y_test) = cifar10.load_data()"
   ]
  },
  {
   "cell_type": "markdown",
   "metadata": {},
   "source": [
    "train & test 데이터로 분리합니다."
   ]
  },
  {
   "cell_type": "code",
   "execution_count": 4,
   "metadata": {
    "colab": {
     "base_uri": "https://localhost:8080/"
    },
    "id": "8ZBJhUhg15Fh",
    "outputId": "a6e2c3ae-bbe1-47e2-d124-6edd5d9f5be3",
    "scrolled": false
   },
   "outputs": [
    {
     "name": "stdout",
     "output_type": "stream",
     "text": [
      "X_train의 데이터 크기 (50000, 32, 32, 3) / X_test의 데이터 크기 (10000, 32, 32, 3)\n",
      "y_train의 데이터 크기 (50000, 1) / y_test의 데이터 크기 (10000, 1)\n"
     ]
    }
   ],
   "source": [
    "print(f'X_train의 데이터 크기 {X_train.shape} / X_test의 데이터 크기 {X_test.shape}')\n",
    "print(f'y_train의 데이터 크기 {y_train.shape} / y_test의 데이터 크기 {y_test.shape}')"
   ]
  },
  {
   "cell_type": "markdown",
   "metadata": {},
   "source": [
    "train 데이터는 50,000개 / test 데이터는 10,000개 입니다.\n",
    "\n",
    "1개의 데이터는 32 * 32 픽셀로 되어 있고 컬러 이미지 이므로 RGB채널을 뜻하는 3을 추가로 가집니다.(흑백의 경우는 1입니다.)"
   ]
  },
  {
   "cell_type": "code",
   "execution_count": 5,
   "metadata": {
    "id": "CakRryin2BUq"
   },
   "outputs": [],
   "source": [
    "import matplotlib.pyplot as plt\n",
    "%matplotlib inline"
   ]
  },
  {
   "cell_type": "code",
   "execution_count": 57,
   "metadata": {
    "colab": {
     "base_uri": "https://localhost:8080/",
     "height": 231
    },
    "id": "70-wDfex2ShC",
    "outputId": "f0d1b50d-7abe-4c41-8571-d8d760aeb44e"
   },
   "outputs": [
    {
     "data": {
      "image/png": "[encoded data removed]",
      "text/plain": [
       "<Figure size 1080x576 with 4 Axes>"
      ]
     },
     "metadata": {
      "needs_background": "light",
      "tags": []
     },
     "output_type": "display_data"
    }
   ],
   "source": [
    "plt.figure(figsize = (15, 8))\n",
    "plt.subplot(141)\n",
    "plt.imshow(X_train[2021])\n",
    "plt.subplot(142)\n",
    "plt.imshow(X_train[6])\n",
    "plt.subplot(143)\n",
    "plt.imshow(X_train[15])\n",
    "plt.subplot(144)\n",
    "plt.imshow(X_train[23])\n",
    "plt.grid(False)\n",
    "plt.show()"
   ]
  },
  {
   "cell_type": "markdown",
   "metadata": {},
   "source": [
    "4개의 샘플 데이터로 어떤 사진이 있는지 확인합니다. 비행기, 새, 트럭, 개구리가 있네요."
   ]
  },
  {
   "cell_type": "code",
   "execution_count": null,
   "metadata": {
    "id": "TM4djpZMS-cs"
   },
   "outputs": [],
   "source": [
    "X_train = X_train.astype('float64')\n",
    "X_test = X_test.astype('float64')\n",
    "y_train = y_train.astype('float64')\n",
    "y_test = y_test.astype('float64')"
   ]
  },
  {
   "cell_type": "markdown",
   "metadata": {},
   "source": [
    "데이터를 모두 실수형으로 변환합니다."
   ]
  },
  {
   "cell_type": "code",
   "execution_count": 7,
   "metadata": {
    "id": "51GM2QmH29TN"
   },
   "outputs": [],
   "source": [
    "import numpy as np"
   ]
  },
  {
   "cell_type": "markdown",
   "metadata": {},
   "source": [
    "데이터의 정규화를 수행합니다. "
   ]
  },
  {
   "cell_type": "code",
   "execution_count": 8,
   "metadata": {
    "id": "1C6JV6El2ZgI"
   },
   "outputs": [],
   "source": [
    "mu = np.mean(X_train)\n",
    "std = np.std(X_train)"
   ]
  },
  {
   "cell_type": "code",
   "execution_count": 9,
   "metadata": {
    "id": "mGqXxqxD28Zu"
   },
   "outputs": [],
   "source": [
    "rgb_mu = []\n",
    "rgb_std = []"
   ]
  },
  {
   "cell_type": "markdown",
   "metadata": {},
   "source": [
    "각 RGB 채널 별로 평균과 편차를 저장할 빈 리스트를 생성합니다."
   ]
  },
  {
   "cell_type": "code",
   "execution_count": 10,
   "metadata": {
    "id": "N_8xBxEe34Kn"
   },
   "outputs": [],
   "source": [
    "for i in range(3) :\n",
    "  m = np.mean(X_train[:, :, :, i])\n",
    "  s = np.std(X_train[:, :, :, i])\n",
    "  rgb_mu.append(m)\n",
    "  rgb_std.append(s)"
   ]
  },
  {
   "cell_type": "markdown",
   "metadata": {},
   "source": [
    "R, G, B 채널의 각 평균과 편차를 구합니다."
   ]
  },
  {
   "cell_type": "code",
   "execution_count": 11,
   "metadata": {
    "id": "T2WS95wD4Brm"
   },
   "outputs": [],
   "source": [
    "for i in range(3) :\n",
    "  X_train[:, :, :, i] -= rgb_mu[i]\n",
    "  X_train[:, :, :, i] /= rgb_std[i]\n",
    "  X_test[:, :, :, i] -= rgb_mu[i]\n",
    "  X_test[:, :, :, i] /= rgb_std[i]"
   ]
  },
  {
   "cell_type": "markdown",
   "metadata": {},
   "source": [
    "train, test 데이터의 R, G, B 채널에 평균을 뺀 값을 편차로 나누어줍니다."
   ]
  },
  {
   "cell_type": "code",
   "execution_count": 12,
   "metadata": {
    "colab": {
     "base_uri": "https://localhost:8080/"
    },
    "id": "8zr3kc564lQm",
    "outputId": "9c030be8-349f-44ca-f85f-8aac24d1bf8a",
    "scrolled": false
   },
   "outputs": [
    {
     "data": {
      "text/plain": [
       "(5.4744357195583385e-17, 0.9999999999999978)"
      ]
     },
     "execution_count": 12,
     "metadata": {
      "tags": []
     },
     "output_type": "execute_result"
    }
   ],
   "source": [
    "X_train.mean(), X_train.std()"
   ]
  },
  {
   "cell_type": "markdown",
   "metadata": {},
   "source": [
    "평균과 편차가 매우 작아 정규화가 잘 된 것을 알 수 있습니다."
   ]
  },
  {
   "cell_type": "code",
   "execution_count": 13,
   "metadata": {
    "colab": {
     "base_uri": "https://localhost:8080/"
    },
    "id": "cF6wSgV_3ydy",
    "outputId": "d09a0b5a-1b71-436f-8b60-528a210fcbcd",
    "scrolled": false
   },
   "outputs": [
    {
     "name": "stdout",
     "output_type": "stream",
     "text": [
      "\u001b[?25l\r",
      "\u001b[K     |▌                               | 10kB 29.7MB/s eta 0:00:01\r",
      "\u001b[K     |█                               | 20kB 19.1MB/s eta 0:00:01\r",
      "\u001b[K     |█▌                              | 30kB 15.6MB/s eta 0:00:01\r",
      "\u001b[K     |██                              | 40kB 14.2MB/s eta 0:00:01\r",
      "\u001b[K     |██▍                             | 51kB 7.8MB/s eta 0:00:01\r",
      "\u001b[K     |███                             | 61kB 9.1MB/s eta 0:00:01\r",
      "\u001b[K     |███▍                            | 71kB 8.8MB/s eta 0:00:01\r",
      "\u001b[K     |███▉                            | 81kB 9.5MB/s eta 0:00:01\r",
      "\u001b[K     |████▍                           | 92kB 8.9MB/s eta 0:00:01\r",
      "\u001b[K     |████▉                           | 102kB 7.6MB/s eta 0:00:01\r",
      "\u001b[K     |█████▎                          | 112kB 7.6MB/s eta 0:00:01\r",
      "\u001b[K     |█████▉                          | 122kB 7.6MB/s eta 0:00:01\r",
      "\u001b[K     |██████▎                         | 133kB 7.6MB/s eta 0:00:01\r",
      "\u001b[K     |██████▊                         | 143kB 7.6MB/s eta 0:00:01\r",
      "\u001b[K     |███████▎                        | 153kB 7.6MB/s eta 0:00:01\r",
      "\u001b[K     |███████▊                        | 163kB 7.6MB/s eta 0:00:01\r",
      "\u001b[K     |████████▏                       | 174kB 7.6MB/s eta 0:00:01\r",
      "\u001b[K     |████████▊                       | 184kB 7.6MB/s eta 0:00:01\r",
      "\u001b[K     |█████████▏                      | 194kB 7.6MB/s eta 0:00:01\r",
      "\u001b[K     |█████████▋                      | 204kB 7.6MB/s eta 0:00:01\r",
      "\u001b[K     |██████████▏                     | 215kB 7.6MB/s eta 0:00:01\r",
      "\u001b[K     |██████████▋                     | 225kB 7.6MB/s eta 0:00:01\r",
      "\u001b[K     |███████████                     | 235kB 7.6MB/s eta 0:00:01\r",
      "\u001b[K     |███████████▋                    | 245kB 7.6MB/s eta 0:00:01\r",
      "\u001b[K     |████████████                    | 256kB 7.6MB/s eta 0:00:01\r",
      "\u001b[K     |████████████▌                   | 266kB 7.6MB/s eta 0:00:01\r",
      "\u001b[K     |█████████████                   | 276kB 7.6MB/s eta 0:00:01\r",
      "\u001b[K     |█████████████▌                  | 286kB 7.6MB/s eta 0:00:01\r",
      "\u001b[K     |██████████████                  | 296kB 7.6MB/s eta 0:00:01\r",
      "\u001b[K     |██████████████▌                 | 307kB 7.6MB/s eta 0:00:01\r",
      "\u001b[K     |███████████████                 | 317kB 7.6MB/s eta 0:00:01\r",
      "\u001b[K     |███████████████▍                | 327kB 7.6MB/s eta 0:00:01\r",
      "\u001b[K     |████████████████                | 337kB 7.6MB/s eta 0:00:01\r",
      "\u001b[K     |████████████████▍               | 348kB 7.6MB/s eta 0:00:01\r",
      "\u001b[K     |████████████████▉               | 358kB 7.6MB/s eta 0:00:01\r",
      "\u001b[K     |█████████████████▍              | 368kB 7.6MB/s eta 0:00:01\r",
      "\u001b[K     |█████████████████▉              | 378kB 7.6MB/s eta 0:00:01\r",
      "\u001b[K     |██████████████████▎             | 389kB 7.6MB/s eta 0:00:01\r",
      "\u001b[K     |██████████████████▉             | 399kB 7.6MB/s eta 0:00:01\r",
      "\u001b[K     |███████████████████▎            | 409kB 7.6MB/s eta 0:00:01\r",
      "\u001b[K     |███████████████████▊            | 419kB 7.6MB/s eta 0:00:01\r",
      "\u001b[K     |████████████████████▎           | 430kB 7.6MB/s eta 0:00:01\r",
      "\u001b[K     |████████████████████▊           | 440kB 7.6MB/s eta 0:00:01\r",
      "\u001b[K     |█████████████████████▏          | 450kB 7.6MB/s eta 0:00:01\r",
      "\u001b[K     |█████████████████████▊          | 460kB 7.6MB/s eta 0:00:01\r",
      "\u001b[K     |██████████████████████▏         | 471kB 7.6MB/s eta 0:00:01\r",
      "\u001b[K     |██████████████████████▋         | 481kB 7.6MB/s eta 0:00:01\r",
      "\u001b[K     |███████████████████████▏        | 491kB 7.6MB/s eta 0:00:01\r",
      "\u001b[K     |███████████████████████▋        | 501kB 7.6MB/s eta 0:00:01\r",
      "\u001b[K     |████████████████████████        | 512kB 7.6MB/s eta 0:00:01\r",
      "\u001b[K     |████████████████████████▋       | 522kB 7.6MB/s eta 0:00:01\r",
      "\u001b[K     |█████████████████████████       | 532kB 7.6MB/s eta 0:00:01\r",
      "\u001b[K     |█████████████████████████▌      | 542kB 7.6MB/s eta 0:00:01\r",
      "\u001b[K     |██████████████████████████      | 552kB 7.6MB/s eta 0:00:01\r",
      "\u001b[K     |██████████████████████████▌     | 563kB 7.6MB/s eta 0:00:01\r",
      "\u001b[K     |███████████████████████████     | 573kB 7.6MB/s eta 0:00:01\r",
      "\u001b[K     |███████████████████████████▌    | 583kB 7.6MB/s eta 0:00:01\r",
      "\u001b[K     |████████████████████████████    | 593kB 7.6MB/s eta 0:00:01\r",
      "\u001b[K     |████████████████████████████▍   | 604kB 7.6MB/s eta 0:00:01\r",
      "\u001b[K     |█████████████████████████████   | 614kB 7.6MB/s eta 0:00:01\r",
      "\u001b[K     |█████████████████████████████▍  | 624kB 7.6MB/s eta 0:00:01\r",
      "\u001b[K     |█████████████████████████████▉  | 634kB 7.6MB/s eta 0:00:01\r",
      "\u001b[K     |██████████████████████████████▍ | 645kB 7.6MB/s eta 0:00:01\r",
      "\u001b[K     |██████████████████████████████▉ | 655kB 7.6MB/s eta 0:00:01\r",
      "\u001b[K     |███████████████████████████████▎| 665kB 7.6MB/s eta 0:00:01\r",
      "\u001b[K     |███████████████████████████████▉| 675kB 7.6MB/s eta 0:00:01\r",
      "\u001b[K     |████████████████████████████████| 686kB 7.6MB/s \n",
      "\u001b[?25h"
     ]
    }
   ],
   "source": [
    "from tensorflow.keras.utils import to_categorical\n",
    "from tensorflow.keras.models import Sequential, load_model\n",
    "from tensorflow.keras.layers import Dense, Flatten, Dropout, BatchNormalization, Conv2D, MaxPooling2D\n",
    "from tensorflow.keras.optimizers import Adam, RMSprop\n",
    "from tensorflow.keras.callbacks import EarlyStopping, ReduceLROnPlateau, ModelCheckpoint\n",
    "!pip install -q -U tensorflow-addons\n",
    "import tensorflow_addons as tfa"
   ]
  },
  {
   "cell_type": "markdown",
   "metadata": {},
   "source": [
    "이미지 분류를 위해 사용할 라이브러리와 메서드 입니다.\n",
    "\n",
    "tensorflow_addons는 새로운 optimizer를 사용하기 위해 추가로 호출합니다."
   ]
  },
  {
   "cell_type": "code",
   "execution_count": 14,
   "metadata": {
    "id": "cb8Ulk4xCAVP"
   },
   "outputs": [],
   "source": [
    "y_train = to_categorical(y_train)\n",
    "y_test = to_categorical(y_test)"
   ]
  },
  {
   "cell_type": "markdown",
   "metadata": {},
   "source": [
    "10진 분류이기 때문에 원-핫 벡터 형태로 변환합니다."
   ]
  },
  {
   "cell_type": "code",
   "execution_count": 30,
   "metadata": {
    "id": "8m7ODYvg9Ulv"
   },
   "outputs": [],
   "source": [
    "model = Sequential()\n",
    "model.add(Conv2D(64, 3, 3, padding = 'same', activation = 'relu', input_shape = (32, 32, 3)))\n",
    "model.add(BatchNormalization())\n",
    "model.add(Dropout(.3))\n",
    "model.add(Conv2D(64, 3, 3, padding = 'same'))\n",
    "model.add(Dropout(.2))\n",
    "model.add(MaxPooling2D(2, 2))\n",
    "model.add(Flatten())\n",
    "model.add(Dense(64, activation = 'relu'))\n",
    "model.add(BatchNormalization())\n",
    "model.add(Dropout(0.2))\n",
    "model.add(Dense(10, activation = 'softmax'))"
   ]
  },
  {
   "cell_type": "markdown",
   "metadata": {},
   "source": [
    "위와 같이 네트워크를 구성하였습니다.\n",
    "- BatchNormalization : 출력값을 정규화합니다."
   ]
  },
  {
   "cell_type": "code",
   "execution_count": 31,
   "metadata": {
    "colab": {
     "base_uri": "https://localhost:8080/"
    },
    "id": "S7OP7HvECgkI",
    "outputId": "4a1eabe3-dcd7-4b5c-8db0-efa162011f1a"
   },
   "outputs": [
    {
     "name": "stdout",
     "output_type": "stream",
     "text": [
      "Model: \"sequential_5\"\n",
      "_________________________________________________________________\n",
      "Layer (type)                 Output Shape              Param #   \n",
      "=================================================================\n",
      "conv2d_14 (Conv2D)           (None, 11, 11, 64)        1792      \n",
      "_________________________________________________________________\n",
      "batch_normalization_11 (Batc (None, 11, 11, 64)        256       \n",
      "_________________________________________________________________\n",
      "dropout_17 (Dropout)         (None, 11, 11, 64)        0         \n",
      "_________________________________________________________________\n",
      "conv2d_15 (Conv2D)           (None, 4, 4, 64)          36928     \n",
      "_________________________________________________________________\n",
      "dropout_18 (Dropout)         (None, 4, 4, 64)          0         \n",
      "_________________________________________________________________\n",
      "max_pooling2d_7 (MaxPooling2 (None, 2, 2, 64)          0         \n",
      "_________________________________________________________________\n",
      "flatten_3 (Flatten)          (None, 256)               0         \n",
      "_________________________________________________________________\n",
      "dense_7 (Dense)              (None, 64)                16448     \n",
      "_________________________________________________________________\n",
      "batch_normalization_12 (Batc (None, 64)                256       \n",
      "_________________________________________________________________\n",
      "dropout_19 (Dropout)         (None, 64)                0         \n",
      "_________________________________________________________________\n",
      "dense_8 (Dense)              (None, 10)                650       \n",
      "=================================================================\n",
      "Total params: 56,330\n",
      "Trainable params: 56,074\n",
      "Non-trainable params: 256\n",
      "_________________________________________________________________\n"
     ]
    }
   ],
   "source": [
    "model.summary()"
   ]
  },
  {
   "cell_type": "code",
   "execution_count": 32,
   "metadata": {
    "id": "WVlMq92nChzE"
   },
   "outputs": [],
   "source": [
    "es = EarlyStopping(monitor = 'val_accuracy', mode = 'max', patience = 7, verbose = 1)\n",
    "rl = ReduceLROnPlateau(monitor = 'val_accuracy', factor = .75, patience = 7, verbose = 1, mode = 'max')\n",
    "mc = ModelCheckpoint('optimum_CNN.h5', monitor = 'val_accuracy', verbose = 1, save_best_only = True, mode = 'max')"
   ]
  },
  {
   "cell_type": "markdown",
   "metadata": {},
   "source": [
    "keras는 callbacks라는 기능이 있는데 학습 과정 상황에 따라 학습을 종료하거나 학습 모델을 저장하고 학습률을 조정할 수 있습니다.\n",
    "- EarlyStopping : 학습을 조기 종료하는 callback 기능으로 monitor에는 살펴볼 지표(train/val 데이터의 평가지표 혹은 loss)를 기준으로 mode(max or min)에 따라 patience만큼 더 지켜본 후 학습을 종료합니다.\n",
    "\n",
    "예를 들어 위의 경우는 검증용 데이터의 정확도를 기준으로 7epochs 동안 val_accuaracy가 올라가지 않으면 학습을 종료합니다.\n",
    "\n",
    "- ReduceLROnPlateau : 학습률을 조절하는 것으로 factor 비율 만큼 기존 학습률을 갱신합니다.\n",
    "\n",
    "예를 들어 위의 경우는 val_accuracy를 기준으로 7epochs 동안 개선되지 않으면 기존 학습률을 75%수준으로 낮춥니다.\n",
    "\n",
    "- ModelCheckpoint : 모델을 자동 저장하는 것으로 특정 조건이 만족될 때 마다 모델을 저장합니다.\n",
    "\n",
    "예를 들어 위의 경우는 val_accuracy가 좋아질 때 마다 모델을 저장합니다."
   ]
  },
  {
   "cell_type": "code",
   "execution_count": 33,
   "metadata": {
    "id": "qOPG9lHQA199"
   },
   "outputs": [],
   "source": [
    "model.compile(loss = 'categorical_crossentropy', metrics = ['accuracy'], optimizer = tfa.optimizers.RectifiedAdam(0.0005))"
   ]
  },
  {
   "cell_type": "markdown",
   "metadata": {},
   "source": [
    "원-핫 벡터형태이기 때문에 categorical_crossentropy를 loss로 사용합니다. optimizer는 tensorflow_addons의 RectifiedAdam을 사용합니다."
   ]
  },
  {
   "cell_type": "code",
   "execution_count": 34,
   "metadata": {
    "colab": {
     "base_uri": "https://localhost:8080/"
    },
    "id": "g9wHCRTnBHMi",
    "outputId": "52bc4085-0e2f-4528-cd3b-6cd57a139332"
   },
   "outputs": [
    {
     "name": "stdout",
     "output_type": "stream",
     "text": [
      "Epoch 1/200\n",
      "625/625 [==============================] - 6s 7ms/step - loss: 2.3301 - accuracy: 0.2237 - val_loss: 1.8142 - val_accuracy: 0.3491\n",
      "\n",
      "Epoch 00001: val_accuracy improved from -inf to 0.34910, saving model to optimum_CNN.h5\n",
      "Epoch 2/200\n",
      "625/625 [==============================] - 4s 7ms/step - loss: 1.8422 - accuracy: 0.3387 - val_loss: 1.6751 - val_accuracy: 0.3984\n",
      "\n",
      "Epoch 00002: val_accuracy improved from 0.34910 to 0.39840, saving model to optimum_CNN.h5\n",
      "Epoch 3/200\n",
      "625/625 [==============================] - 4s 7ms/step - loss: 1.6872 - accuracy: 0.3859 - val_loss: 1.5921 - val_accuracy: 0.4311\n",
      "\n",
      "Epoch 00003: val_accuracy improved from 0.39840 to 0.43110, saving model to optimum_CNN.h5\n",
      "Epoch 4/200\n",
      "625/625 [==============================] - 4s 6ms/step - loss: 1.5806 - accuracy: 0.4248 - val_loss: 1.5171 - val_accuracy: 0.4633\n",
      "\n",
      "Epoch 00004: val_accuracy improved from 0.43110 to 0.46330, saving model to optimum_CNN.h5\n",
      "Epoch 5/200\n",
      "625/625 [==============================] - 4s 6ms/step - loss: 1.5015 - accuracy: 0.4551 - val_loss: 1.4354 - val_accuracy: 0.4888\n",
      "\n",
      "Epoch 00005: val_accuracy improved from 0.46330 to 0.48880, saving model to optimum_CNN.h5\n",
      "Epoch 6/200\n",
      "625/625 [==============================] - 4s 7ms/step - loss: 1.4448 - accuracy: 0.4789 - val_loss: 1.4714 - val_accuracy: 0.4805\n",
      "\n",
      "Epoch 00006: val_accuracy did not improve from 0.48880\n",
      "Epoch 7/200\n",
      "625/625 [==============================] - 4s 6ms/step - loss: 1.4017 - accuracy: 0.4965 - val_loss: 1.3785 - val_accuracy: 0.5133\n",
      "\n",
      "Epoch 00007: val_accuracy improved from 0.48880 to 0.51330, saving model to optimum_CNN.h5\n",
      "Epoch 8/200\n",
      "625/625 [==============================] - 4s 7ms/step - loss: 1.3588 - accuracy: 0.5087 - val_loss: 1.3756 - val_accuracy: 0.5164\n",
      "\n",
      "Epoch 00008: val_accuracy improved from 0.51330 to 0.51640, saving model to optimum_CNN.h5\n",
      "Epoch 9/200\n",
      "625/625 [==============================] - 4s 7ms/step - loss: 1.3315 - accuracy: 0.5209 - val_loss: 1.3371 - val_accuracy: 0.5365\n",
      "\n",
      "Epoch 00009: val_accuracy improved from 0.51640 to 0.53650, saving model to optimum_CNN.h5\n",
      "Epoch 10/200\n",
      "625/625 [==============================] - 4s 6ms/step - loss: 1.2987 - accuracy: 0.5291 - val_loss: 1.3086 - val_accuracy: 0.5476\n",
      "\n",
      "Epoch 00010: val_accuracy improved from 0.53650 to 0.54760, saving model to optimum_CNN.h5\n",
      "Epoch 11/200\n",
      "625/625 [==============================] - 4s 7ms/step - loss: 1.2712 - accuracy: 0.5398 - val_loss: 1.2616 - val_accuracy: 0.5471\n",
      "\n",
      "Epoch 00011: val_accuracy did not improve from 0.54760\n",
      "Epoch 12/200\n",
      "625/625 [==============================] - 4s 6ms/step - loss: 1.2568 - accuracy: 0.5502 - val_loss: 1.2889 - val_accuracy: 0.5510\n",
      "\n",
      "Epoch 00012: val_accuracy improved from 0.54760 to 0.55100, saving model to optimum_CNN.h5\n",
      "Epoch 13/200\n",
      "625/625 [==============================] - 4s 6ms/step - loss: 1.2367 - accuracy: 0.5566 - val_loss: 1.2185 - val_accuracy: 0.5715\n",
      "\n",
      "Epoch 00013: val_accuracy improved from 0.55100 to 0.57150, saving model to optimum_CNN.h5\n",
      "Epoch 14/200\n",
      "625/625 [==============================] - 4s 7ms/step - loss: 1.2181 - accuracy: 0.5636 - val_loss: 1.1987 - val_accuracy: 0.5738\n",
      "\n",
      "Epoch 00014: val_accuracy improved from 0.57150 to 0.57380, saving model to optimum_CNN.h5\n",
      "Epoch 15/200\n",
      "625/625 [==============================] - 4s 6ms/step - loss: 1.2031 - accuracy: 0.5677 - val_loss: 1.2129 - val_accuracy: 0.5731\n",
      "\n",
      "Epoch 00015: val_accuracy did not improve from 0.57380\n",
      "Epoch 16/200\n",
      "625/625 [==============================] - 4s 6ms/step - loss: 1.1923 - accuracy: 0.5742 - val_loss: 1.2060 - val_accuracy: 0.5703\n",
      "\n",
      "Epoch 00016: val_accuracy did not improve from 0.57380\n",
      "Epoch 17/200\n",
      "625/625 [==============================] - 4s 6ms/step - loss: 1.1807 - accuracy: 0.5764 - val_loss: 1.2028 - val_accuracy: 0.5722\n",
      "\n",
      "Epoch 00017: val_accuracy did not improve from 0.57380\n",
      "Epoch 18/200\n",
      "625/625 [==============================] - 4s 6ms/step - loss: 1.1717 - accuracy: 0.5795 - val_loss: 1.1826 - val_accuracy: 0.5834\n",
      "\n",
      "Epoch 00018: val_accuracy improved from 0.57380 to 0.58340, saving model to optimum_CNN.h5\n",
      "Epoch 19/200\n",
      "625/625 [==============================] - 4s 6ms/step - loss: 1.1576 - accuracy: 0.5869 - val_loss: 1.1772 - val_accuracy: 0.5842\n",
      "\n",
      "Epoch 00019: val_accuracy improved from 0.58340 to 0.58420, saving model to optimum_CNN.h5\n",
      "Epoch 20/200\n",
      "625/625 [==============================] - 4s 7ms/step - loss: 1.1486 - accuracy: 0.5886 - val_loss: 1.1980 - val_accuracy: 0.5808\n",
      "\n",
      "Epoch 00020: val_accuracy did not improve from 0.58420\n",
      "Epoch 21/200\n",
      "625/625 [==============================] - 4s 6ms/step - loss: 1.1370 - accuracy: 0.5931 - val_loss: 1.1635 - val_accuracy: 0.5946\n",
      "\n",
      "Epoch 00021: val_accuracy improved from 0.58420 to 0.59460, saving model to optimum_CNN.h5\n",
      "Epoch 22/200\n",
      "625/625 [==============================] - 4s 7ms/step - loss: 1.1350 - accuracy: 0.5938 - val_loss: 1.1683 - val_accuracy: 0.5888\n",
      "\n",
      "Epoch 00022: val_accuracy did not improve from 0.59460\n",
      "Epoch 23/200\n",
      "625/625 [==============================] - 4s 7ms/step - loss: 1.1265 - accuracy: 0.5986 - val_loss: 1.1350 - val_accuracy: 0.5976\n",
      "\n",
      "Epoch 00023: val_accuracy improved from 0.59460 to 0.59760, saving model to optimum_CNN.h5\n",
      "Epoch 24/200\n",
      "625/625 [==============================] - 4s 6ms/step - loss: 1.1163 - accuracy: 0.6014 - val_loss: 1.1659 - val_accuracy: 0.6009\n",
      "\n",
      "Epoch 00024: val_accuracy improved from 0.59760 to 0.60090, saving model to optimum_CNN.h5\n",
      "Epoch 25/200\n",
      "625/625 [==============================] - 4s 6ms/step - loss: 1.1151 - accuracy: 0.6039 - val_loss: 1.1574 - val_accuracy: 0.5976\n",
      "\n",
      "Epoch 00025: val_accuracy did not improve from 0.60090\n",
      "Epoch 26/200\n",
      "625/625 [==============================] - 4s 6ms/step - loss: 1.1075 - accuracy: 0.6030 - val_loss: 1.1489 - val_accuracy: 0.6016\n",
      "\n",
      "Epoch 00026: val_accuracy improved from 0.60090 to 0.60160, saving model to optimum_CNN.h5\n",
      "Epoch 27/200\n",
      "625/625 [==============================] - 4s 6ms/step - loss: 1.1037 - accuracy: 0.6058 - val_loss: 1.1530 - val_accuracy: 0.5912\n",
      "\n",
      "Epoch 00027: val_accuracy did not improve from 0.60160\n",
      "Epoch 28/200\n",
      "625/625 [==============================] - 4s 6ms/step - loss: 1.0994 - accuracy: 0.6081 - val_loss: 1.1334 - val_accuracy: 0.6066\n",
      "\n",
      "Epoch 00028: val_accuracy improved from 0.60160 to 0.60660, saving model to optimum_CNN.h5\n",
      "Epoch 29/200\n",
      "625/625 [==============================] - 4s 7ms/step - loss: 1.0880 - accuracy: 0.6094 - val_loss: 1.1371 - val_accuracy: 0.6016\n",
      "\n",
      "Epoch 00029: val_accuracy did not improve from 0.60660\n",
      "Epoch 30/200\n",
      "625/625 [==============================] - 4s 7ms/step - loss: 1.0832 - accuracy: 0.6126 - val_loss: 1.1077 - val_accuracy: 0.6111\n",
      "\n",
      "Epoch 00030: val_accuracy improved from 0.60660 to 0.61110, saving model to optimum_CNN.h5\n",
      "Epoch 31/200\n",
      "625/625 [==============================] - 4s 6ms/step - loss: 1.0836 - accuracy: 0.6124 - val_loss: 1.1132 - val_accuracy: 0.6108\n",
      "\n",
      "Epoch 00031: val_accuracy did not improve from 0.61110\n",
      "Epoch 32/200\n",
      "625/625 [==============================] - 4s 6ms/step - loss: 1.0753 - accuracy: 0.6158 - val_loss: 1.1020 - val_accuracy: 0.6194\n",
      "\n",
      "Epoch 00032: val_accuracy improved from 0.61110 to 0.61940, saving model to optimum_CNN.h5\n",
      "Epoch 33/200\n",
      "625/625 [==============================] - 4s 7ms/step - loss: 1.0735 - accuracy: 0.6176 - val_loss: 1.1261 - val_accuracy: 0.6103\n",
      "\n",
      "Epoch 00033: val_accuracy did not improve from 0.61940\n",
      "Epoch 34/200\n",
      "625/625 [==============================] - 4s 7ms/step - loss: 1.0691 - accuracy: 0.6179 - val_loss: 1.1037 - val_accuracy: 0.6141\n",
      "\n",
      "Epoch 00034: val_accuracy did not improve from 0.61940\n",
      "Epoch 35/200\n",
      "625/625 [==============================] - 4s 7ms/step - loss: 1.0668 - accuracy: 0.6184 - val_loss: 1.1033 - val_accuracy: 0.6193\n",
      "\n",
      "Epoch 00035: val_accuracy did not improve from 0.61940\n",
      "Epoch 36/200\n",
      "625/625 [==============================] - 4s 7ms/step - loss: 1.0594 - accuracy: 0.6223 - val_loss: 1.1238 - val_accuracy: 0.6118\n",
      "\n",
      "Epoch 00036: val_accuracy did not improve from 0.61940\n",
      "Epoch 37/200\n",
      "625/625 [==============================] - 4s 7ms/step - loss: 1.0565 - accuracy: 0.6238 - val_loss: 1.0833 - val_accuracy: 0.6268\n",
      "\n",
      "Epoch 00037: val_accuracy improved from 0.61940 to 0.62680, saving model to optimum_CNN.h5\n",
      "Epoch 38/200\n",
      "625/625 [==============================] - 4s 7ms/step - loss: 1.0522 - accuracy: 0.6266 - val_loss: 1.0906 - val_accuracy: 0.6257\n",
      "\n",
      "Epoch 00038: val_accuracy did not improve from 0.62680\n",
      "Epoch 39/200\n",
      "625/625 [==============================] - 4s 7ms/step - loss: 1.0507 - accuracy: 0.6263 - val_loss: 1.1043 - val_accuracy: 0.6188\n",
      "\n",
      "Epoch 00039: val_accuracy did not improve from 0.62680\n",
      "Epoch 40/200\n",
      "625/625 [==============================] - 4s 7ms/step - loss: 1.0423 - accuracy: 0.6280 - val_loss: 1.0882 - val_accuracy: 0.6258\n",
      "\n",
      "Epoch 00040: val_accuracy did not improve from 0.62680\n",
      "Epoch 41/200\n",
      "625/625 [==============================] - 4s 7ms/step - loss: 1.0454 - accuracy: 0.6265 - val_loss: 1.0958 - val_accuracy: 0.6274\n",
      "\n",
      "Epoch 00041: val_accuracy improved from 0.62680 to 0.62740, saving model to optimum_CNN.h5\n",
      "Epoch 42/200\n",
      "625/625 [==============================] - 4s 7ms/step - loss: 1.0434 - accuracy: 0.6266 - val_loss: 1.0861 - val_accuracy: 0.6246\n",
      "\n",
      "Epoch 00042: val_accuracy did not improve from 0.62740\n",
      "Epoch 43/200\n",
      "625/625 [==============================] - 4s 6ms/step - loss: 1.0375 - accuracy: 0.6317 - val_loss: 1.0992 - val_accuracy: 0.6175\n",
      "\n",
      "Epoch 00043: val_accuracy did not improve from 0.62740\n",
      "Epoch 44/200\n",
      "625/625 [==============================] - 4s 7ms/step - loss: 1.0310 - accuracy: 0.6335 - val_loss: 1.1218 - val_accuracy: 0.6210\n",
      "\n",
      "Epoch 00044: val_accuracy did not improve from 0.62740\n",
      "Epoch 45/200\n",
      "625/625 [==============================] - 4s 7ms/step - loss: 1.0367 - accuracy: 0.6317 - val_loss: 1.0858 - val_accuracy: 0.6261\n",
      "\n",
      "Epoch 00045: val_accuracy did not improve from 0.62740\n",
      "Epoch 46/200\n",
      "625/625 [==============================] - 4s 7ms/step - loss: 1.0272 - accuracy: 0.6366 - val_loss: 1.0968 - val_accuracy: 0.6245\n",
      "\n",
      "Epoch 00046: val_accuracy did not improve from 0.62740\n",
      "Epoch 47/200\n",
      "625/625 [==============================] - 4s 7ms/step - loss: 1.0235 - accuracy: 0.6332 - val_loss: 1.0755 - val_accuracy: 0.6233\n",
      "\n",
      "Epoch 00047: val_accuracy did not improve from 0.62740\n",
      "Epoch 48/200\n",
      "625/625 [==============================] - 4s 6ms/step - loss: 1.0296 - accuracy: 0.6349 - val_loss: 1.1374 - val_accuracy: 0.6049\n",
      "\n",
      "Epoch 00048: ReduceLROnPlateau reducing learning rate to 0.00037500001781154424.\n",
      "\n",
      "Epoch 00048: val_accuracy did not improve from 0.62740\n",
      "Epoch 00048: early stopping\n"
     ]
    }
   ],
   "source": [
    "history = model.fit(X_train, y_train, batch_size = 64, epochs = 200, validation_split = .2, verbose = 1, shuffle = True, callbacks = [es, rl, mc])"
   ]
  },
  {
   "cell_type": "markdown",
   "metadata": {},
   "source": [
    "데이터에서 64개의 데이터를 한 묶음(batch)으로 사용하여 데이터를 총 200번 학습시킵니다. validation_split은 인풋 데이터의 해당 비율만큼을 validation으로 사용하는 것입니다."
   ]
  },
  {
   "cell_type": "code",
   "execution_count": 35,
   "metadata": {
    "id": "FtgLxvwQBRLB"
   },
   "outputs": [],
   "source": [
    "model = load_model('optimum_CNN.h5')"
   ]
  },
  {
   "cell_type": "markdown",
   "metadata": {},
   "source": [
    "ModelCheckpoint에 따라서 저장된 모델을 불러옵니다."
   ]
  },
  {
   "cell_type": "code",
   "execution_count": 37,
   "metadata": {
    "id": "5A4eAzVYRErs"
   },
   "outputs": [],
   "source": [
    "from sklearn.metrics import accuracy_score"
   ]
  },
  {
   "cell_type": "code",
   "execution_count": 44,
   "metadata": {
    "id": "BO3ciUjDSkIL"
   },
   "outputs": [],
   "source": [
    "test_label = [np.argmax(x) for x in y_test]"
   ]
  },
  {
   "cell_type": "markdown",
   "metadata": {},
   "source": [
    "원-핫 벡터이기 때문에 다시 원래 클래스로 변환합니다.\n",
    "[0, 0, 0, 0, 1]이었다면 4를 반환합니다."
   ]
  },
  {
   "cell_type": "code",
   "execution_count": 49,
   "metadata": {
    "id": "EEKs5Y0TSlv5"
   },
   "outputs": [],
   "source": [
    "pred = [np.argmax(x) for x in model.predict(X_test)]"
   ]
  },
  {
   "cell_type": "markdown",
   "metadata": {},
   "source": [
    "원-핫 벡터로 출력 되기 때문에 확률이 가장 높은 클래스를 저장합니다.\n",
    "\n",
    "예를 들어 [0.1, 0.2, 0.4, 0.2, 0.1]의 출력 값을 얻었다면 위의 코드 실행시 2를 얻습니다."
   ]
  },
  {
   "cell_type": "code",
   "execution_count": 55,
   "metadata": {
    "colab": {
     "base_uri": "https://localhost:8080/"
    },
    "id": "8851Baq9RKmu",
    "outputId": "1fff3fb5-6b6d-4f49-ad03-89be204f32ea"
   },
   "outputs": [
    {
     "name": "stdout",
     "output_type": "stream",
     "text": [
      "해당 모델의 정확도는 62.739999999999995%\n"
     ]
    }
   ],
   "source": [
    "print(f'해당 모델의 정확도는 {round(accuracy_score(test_label, pred), 4) * 100}%')"
   ]
  }
 ],
 "metadata": {
  "accelerator": "GPU",
  "colab": {
   "collapsed_sections": [],
   "name": "Untitled0.ipynb",
   "provenance": []
  },
  "kernelspec": {
   "display_name": "Python 3",
   "language": "python",
   "name": "python3"
  },
  "language_info": {
   "codemirror_mode": {
    "name": "ipython",
    "version": 3
   },
   "file_extension": ".py",
   "mimetype": "text/x-python",
   "name": "python",
   "nbconvert_exporter": "python",
   "pygments_lexer": "ipython3",
   "version": "3.8.2"
  }
 },
 "nbformat": 4,
 "nbformat_minor": 1
}
