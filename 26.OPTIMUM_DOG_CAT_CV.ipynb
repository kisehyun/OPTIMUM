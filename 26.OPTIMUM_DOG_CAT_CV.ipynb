{
 "cells": [
  {
   "cell_type": "code",
   "execution_count": 3,
   "metadata": {
    "id": "dvoCpH9Otm6Y"
   },
   "outputs": [],
   "source": [
    "import os, shutil\n",
    "import pandas as pd\n",
    "\n",
    "from sklearn.model_selection import train_test_split\n",
    "\n",
    "import tensorflow as tf\n",
    "from tensorflow.keras.models import Sequential\n",
    "from tensorflow.keras.layers import Dense, Conv2D, Flatten, Dropout, BatchNormalization, MaxPooling2D\n",
    "from keras.preprocessing.image import ImageDataGenerator\n",
    "from tensorflow.keras.callbacks import ModelCheckpoint, EarlyStopping"
   ]
  },
  {
   "cell_type": "code",
   "execution_count": 4,
   "metadata": {
    "id": "aM8srzOTxT4z"
   },
   "outputs": [],
   "source": [
    "file_path = []\n",
    "labels = []"
   ]
  },
  {
   "cell_type": "code",
   "execution_count": 5,
   "metadata": {
    "id": "wtGuRziTxZva"
   },
   "outputs": [],
   "source": [
    "cancer_dir = './Brain Tumor'\n",
    "healthy_dir = './Healthy'"
   ]
  },
  {
   "cell_type": "code",
   "execution_count": 6,
   "metadata": {
    "id": "VgLTp9KzxWSv"
   },
   "outputs": [],
   "source": [
    "dir_list = [cancer_dir, healthy_dir]"
   ]
  },
  {
   "cell_type": "code",
   "execution_count": 7,
   "metadata": {
    "id": "egEkWvGtxYmS"
   },
   "outputs": [],
   "source": [
    "for i, j in enumerate(dir_list) :\n",
    "  files = os.listdir(j)\n",
    "\n",
    "  for file in files :\n",
    "    fpath = os.path.join(j, file)\n",
    "    file_path.append(fpath)\n",
    "\n",
    "    if i == 0 :\n",
    "      labels.append('cancer')\n",
    "    else :\n",
    "      labels.append('healthy')"
   ]
  },
  {
   "cell_type": "code",
   "execution_count": 8,
   "metadata": {
    "id": "MjNjjnWBxmSC"
   },
   "outputs": [],
   "source": [
    "data = pd.DataFrame({'file_path' : file_path, 'label' : labels})"
   ]
  },
  {
   "cell_type": "code",
   "execution_count": 9,
   "metadata": {
    "colab": {
     "base_uri": "https://localhost:8080/",
     "height": 419
    },
    "id": "aQz7Ve_ryEdL",
    "outputId": "3f55840f-152a-4804-9e95-fe53a9072bfd"
   },
   "outputs": [
    {
     "data": {
      "text/html": [
       "<div>\n",
       "<style scoped>\n",
       "    .dataframe tbody tr th:only-of-type {\n",
       "        vertical-align: middle;\n",
       "    }\n",
       "\n",
       "    .dataframe tbody tr th {\n",
       "        vertical-align: top;\n",
       "    }\n",
       "\n",
       "    .dataframe thead th {\n",
       "        text-align: right;\n",
       "    }\n",
       "</style>\n",
       "<table border=\"1\" class=\"dataframe\">\n",
       "  <thead>\n",
       "    <tr style=\"text-align: right;\">\n",
       "      <th></th>\n",
       "      <th>file_path</th>\n",
       "      <th>label</th>\n",
       "    </tr>\n",
       "  </thead>\n",
       "  <tbody>\n",
       "    <tr>\n",
       "      <th>0</th>\n",
       "      <td>./Brain Tumor/Cancer (503).jpg</td>\n",
       "      <td>cancer</td>\n",
       "    </tr>\n",
       "    <tr>\n",
       "      <th>1</th>\n",
       "      <td>./Brain Tumor/Cancer (515).jpg</td>\n",
       "      <td>cancer</td>\n",
       "    </tr>\n",
       "    <tr>\n",
       "      <th>2</th>\n",
       "      <td>./Brain Tumor/Cancer (520).jpg</td>\n",
       "      <td>cancer</td>\n",
       "    </tr>\n",
       "    <tr>\n",
       "      <th>3</th>\n",
       "      <td>./Brain Tumor/Cancer (328).jpg</td>\n",
       "      <td>cancer</td>\n",
       "    </tr>\n",
       "    <tr>\n",
       "      <th>4</th>\n",
       "      <td>./Brain Tumor/Cancer (246).jpg</td>\n",
       "      <td>cancer</td>\n",
       "    </tr>\n",
       "    <tr>\n",
       "      <th>...</th>\n",
       "      <td>...</td>\n",
       "      <td>...</td>\n",
       "    </tr>\n",
       "    <tr>\n",
       "      <th>4595</th>\n",
       "      <td>./Healthy/Not Cancer  (1022).jpg</td>\n",
       "      <td>healthy</td>\n",
       "    </tr>\n",
       "    <tr>\n",
       "      <th>4596</th>\n",
       "      <td>./Healthy/Not Cancer  (1047).jpg</td>\n",
       "      <td>healthy</td>\n",
       "    </tr>\n",
       "    <tr>\n",
       "      <th>4597</th>\n",
       "      <td>./Healthy/Not Cancer  (1087).jpg</td>\n",
       "      <td>healthy</td>\n",
       "    </tr>\n",
       "    <tr>\n",
       "      <th>4598</th>\n",
       "      <td>./Healthy/Not Cancer  (103).jpg</td>\n",
       "      <td>healthy</td>\n",
       "    </tr>\n",
       "    <tr>\n",
       "      <th>4599</th>\n",
       "      <td>./Healthy/Not Cancer  (1078).jpg</td>\n",
       "      <td>healthy</td>\n",
       "    </tr>\n",
       "  </tbody>\n",
       "</table>\n",
       "<p>4600 rows × 2 columns</p>\n",
       "</div>"
      ],
      "text/plain": [
       "                             file_path    label\n",
       "0       ./Brain Tumor/Cancer (503).jpg   cancer\n",
       "1       ./Brain Tumor/Cancer (515).jpg   cancer\n",
       "2       ./Brain Tumor/Cancer (520).jpg   cancer\n",
       "3       ./Brain Tumor/Cancer (328).jpg   cancer\n",
       "4       ./Brain Tumor/Cancer (246).jpg   cancer\n",
       "...                                ...      ...\n",
       "4595  ./Healthy/Not Cancer  (1022).jpg  healthy\n",
       "4596  ./Healthy/Not Cancer  (1047).jpg  healthy\n",
       "4597  ./Healthy/Not Cancer  (1087).jpg  healthy\n",
       "4598   ./Healthy/Not Cancer  (103).jpg  healthy\n",
       "4599  ./Healthy/Not Cancer  (1078).jpg  healthy\n",
       "\n",
       "[4600 rows x 2 columns]"
      ]
     },
     "execution_count": 9,
     "metadata": {},
     "output_type": "execute_result"
    }
   ],
   "source": [
    "data"
   ]
  },
  {
   "cell_type": "code",
   "execution_count": 10,
   "metadata": {
    "id": "CNJ4AWEJyHCB"
   },
   "outputs": [],
   "source": [
    "tr_set, val_set = train_test_split(data, random_state = 42, test_size = 0.2, stratify = data['label'])"
   ]
  },
  {
   "cell_type": "code",
   "execution_count": 11,
   "metadata": {
    "id": "YvI5BzvAzJtO"
   },
   "outputs": [],
   "source": [
    "from tensorflow.keras.applications import mobilenet_v2"
   ]
  },
  {
   "cell_type": "code",
   "execution_count": 12,
   "metadata": {
    "id": "DJrN9ynWye6X"
   },
   "outputs": [],
   "source": [
    "img_gen = ImageDataGenerator(preprocessing_function = mobilenet_v2.preprocess_input)"
   ]
  },
  {
   "cell_type": "code",
   "execution_count": 13,
   "metadata": {
    "colab": {
     "base_uri": "https://localhost:8080/"
    },
    "id": "c9oPUtabzP4R",
    "outputId": "cea22aca-f906-465e-d718-8f979243d452"
   },
   "outputs": [
    {
     "name": "stdout",
     "output_type": "stream",
     "text": [
      "Found 3680 validated image filenames belonging to 2 classes.\n"
     ]
    }
   ],
   "source": [
    "tr_gen = img_gen.flow_from_dataframe(dataframe = tr_set, x_col = 'file_path', y_col = 'label',\n",
    "                                          target_size = (224, 224), color_mode = 'rgb',\n",
    "                                          class_mode = 'binary', batch_size = 64, shuffle = True)"
   ]
  },
  {
   "cell_type": "code",
   "execution_count": 14,
   "metadata": {
    "colab": {
     "base_uri": "https://localhost:8080/"
    },
    "id": "M9blAKwYzq30",
    "outputId": "a5e56eb0-3fef-43e9-e911-97e981910cf1"
   },
   "outputs": [
    {
     "name": "stdout",
     "output_type": "stream",
     "text": [
      "Found 920 validated image filenames belonging to 2 classes.\n"
     ]
    }
   ],
   "source": [
    "val_gen = img_gen.flow_from_dataframe(dataframe = val_set, x_col = 'file_path', y_col = 'label',\n",
    "                                          target_size = (224, 224), color_mode = 'rgb',\n",
    "                                          class_mode = 'binary', batch_size = 64, shuffle = True)"
   ]
  },
  {
   "cell_type": "code",
   "execution_count": null,
   "metadata": {
    "id": "kpJKNLgHz2qY"
   },
   "outputs": [],
   "source": [
    "from tensorflow.keras.applications.vgg19 import VGG19, preprocess_input"
   ]
  },
  {
   "cell_type": "code",
   "execution_count": null,
   "metadata": {
    "id": "Gkfmkvjnz8ya"
   },
   "outputs": [],
   "source": [
    "img_size = (224, 224)"
   ]
  },
  {
   "cell_type": "code",
   "execution_count": null,
   "metadata": {
    "id": "vbtR8VScz_UB"
   },
   "outputs": [],
   "source": [
    "vgg19 = VGG19(include_top = False, input_shape = img_size + (3, ))"
   ]
  },
  {
   "cell_type": "code",
   "execution_count": null,
   "metadata": {
    "colab": {
     "base_uri": "https://localhost:8080/"
    },
    "id": "5F1fzEFY0H3E",
    "outputId": "dcde713c-7d10-48cb-83d6-1791548ba4af"
   },
   "outputs": [
    {
     "name": "stdout",
     "output_type": "stream",
     "text": [
      "Model: \"vgg19\"\n",
      "_________________________________________________________________\n",
      "Layer (type)                 Output Shape              Param #   \n",
      "=================================================================\n",
      "input_2 (InputLayer)         [(None, 224, 224, 3)]     0         \n",
      "_________________________________________________________________\n",
      "block1_conv1 (Conv2D)        (None, 224, 224, 64)      1792      \n",
      "_________________________________________________________________\n",
      "block1_conv2 (Conv2D)        (None, 224, 224, 64)      36928     \n",
      "_________________________________________________________________\n",
      "block1_pool (MaxPooling2D)   (None, 112, 112, 64)      0         \n",
      "_________________________________________________________________\n",
      "block2_conv1 (Conv2D)        (None, 112, 112, 128)     73856     \n",
      "_________________________________________________________________\n",
      "block2_conv2 (Conv2D)        (None, 112, 112, 128)     147584    \n",
      "_________________________________________________________________\n",
      "block2_pool (MaxPooling2D)   (None, 56, 56, 128)       0         \n",
      "_________________________________________________________________\n",
      "block3_conv1 (Conv2D)        (None, 56, 56, 256)       295168    \n",
      "_________________________________________________________________\n",
      "block3_conv2 (Conv2D)        (None, 56, 56, 256)       590080    \n",
      "_________________________________________________________________\n",
      "block3_conv3 (Conv2D)        (None, 56, 56, 256)       590080    \n",
      "_________________________________________________________________\n",
      "block3_conv4 (Conv2D)        (None, 56, 56, 256)       590080    \n",
      "_________________________________________________________________\n",
      "block3_pool (MaxPooling2D)   (None, 28, 28, 256)       0         \n",
      "_________________________________________________________________\n",
      "block4_conv1 (Conv2D)        (None, 28, 28, 512)       1180160   \n",
      "_________________________________________________________________\n",
      "block4_conv2 (Conv2D)        (None, 28, 28, 512)       2359808   \n",
      "_________________________________________________________________\n",
      "block4_conv3 (Conv2D)        (None, 28, 28, 512)       2359808   \n",
      "_________________________________________________________________\n",
      "block4_conv4 (Conv2D)        (None, 28, 28, 512)       2359808   \n",
      "_________________________________________________________________\n",
      "block4_pool (MaxPooling2D)   (None, 14, 14, 512)       0         \n",
      "_________________________________________________________________\n",
      "block5_conv1 (Conv2D)        (None, 14, 14, 512)       2359808   \n",
      "_________________________________________________________________\n",
      "block5_conv2 (Conv2D)        (None, 14, 14, 512)       2359808   \n",
      "_________________________________________________________________\n",
      "block5_conv3 (Conv2D)        (None, 14, 14, 512)       2359808   \n",
      "_________________________________________________________________\n",
      "block5_conv4 (Conv2D)        (None, 14, 14, 512)       2359808   \n",
      "_________________________________________________________________\n",
      "block5_pool (MaxPooling2D)   (None, 7, 7, 512)         0         \n",
      "=================================================================\n",
      "Total params: 20,024,384\n",
      "Trainable params: 20,024,384\n",
      "Non-trainable params: 0\n",
      "_________________________________________________________________\n"
     ]
    }
   ],
   "source": [
    "vgg19.summary()"
   ]
  },
  {
   "cell_type": "code",
   "execution_count": null,
   "metadata": {
    "id": "_17LU_pT0Ldg"
   },
   "outputs": [],
   "source": [
    "model = Sequential()\n",
    "model.add(vgg19)\n",
    "model.add(Flatten())\n",
    "model.add(Dropout(0.3))\n",
    "model.add(Dense(1, activation = 'sigmoid'))"
   ]
  },
  {
   "cell_type": "code",
   "execution_count": null,
   "metadata": {
    "id": "kOpFp-w80VCL"
   },
   "outputs": [],
   "source": [
    "model.layers[0].trainable = False"
   ]
  },
  {
   "cell_type": "code",
   "execution_count": null,
   "metadata": {
    "id": "cEEB28ek0Xtr"
   },
   "outputs": [],
   "source": [
    "model.compile(loss = 'binary_crossentropy', optimizer = 'RMSprop', metrics = ['acc'])"
   ]
  },
  {
   "cell_type": "code",
   "execution_count": null,
   "metadata": {
    "colab": {
     "base_uri": "https://localhost:8080/"
    },
    "id": "6KlAz38_0cFt",
    "outputId": "0139f425-7e69-4045-d377-70ac2501164a"
   },
   "outputs": [
    {
     "name": "stdout",
     "output_type": "stream",
     "text": [
      "Model: \"sequential_1\"\n",
      "_________________________________________________________________\n",
      "Layer (type)                 Output Shape              Param #   \n",
      "=================================================================\n",
      "vgg19 (Functional)           (None, 7, 7, 512)         20024384  \n",
      "_________________________________________________________________\n",
      "flatten_1 (Flatten)          (None, 25088)             0         \n",
      "_________________________________________________________________\n",
      "dropout_1 (Dropout)          (None, 25088)             0         \n",
      "_________________________________________________________________\n",
      "dense_1 (Dense)              (None, 1)                 25089     \n",
      "=================================================================\n",
      "Total params: 20,049,473\n",
      "Trainable params: 25,089\n",
      "Non-trainable params: 20,024,384\n",
      "_________________________________________________________________\n"
     ]
    }
   ],
   "source": [
    "model.summary()"
   ]
  },
  {
   "cell_type": "code",
   "execution_count": null,
   "metadata": {
    "id": "nLvmx09Q8aPE"
   },
   "outputs": [],
   "source": [
    "es = EarlyStopping(monitor = 'val_acc', patience = 5, mode = 'max', verbose = 1)\n",
    "mc = ModelCheckpoint('best_vgg19.h5', patience = 5, monitor = 'val_acc', mode = 'max', save_best_only = True, verbose = 1)"
   ]
  },
  {
   "cell_type": "code",
   "execution_count": null,
   "metadata": {
    "colab": {
     "base_uri": "https://localhost:8080/"
    },
    "id": "po1RCX6P0egU",
    "outputId": "9f50fe9b-f56c-4f8f-a7b7-e0aee558ebc8"
   },
   "outputs": [
    {
     "name": "stdout",
     "output_type": "stream",
     "text": [
      "Epoch 1/50\n",
      "58/58 [==============================] - 955s 16s/step - loss: 0.7543 - acc: 0.7068 - val_loss: 0.2686 - val_acc: 0.8837\n",
      "\n",
      "Epoch 00001: val_acc improved from -inf to 0.88370, saving model to best_vgg19.h5\n",
      "Epoch 2/50\n",
      "58/58 [==============================] - 38s 660ms/step - loss: 0.3445 - acc: 0.8573 - val_loss: 0.1839 - val_acc: 0.9359\n",
      "\n",
      "Epoch 00002: val_acc improved from 0.88370 to 0.93587, saving model to best_vgg19.h5\n",
      "Epoch 3/50\n",
      "58/58 [==============================] - 39s 666ms/step - loss: 0.2792 - acc: 0.8880 - val_loss: 0.3709 - val_acc: 0.8478\n",
      "\n",
      "Epoch 00003: val_acc did not improve from 0.93587\n",
      "Epoch 4/50\n",
      "58/58 [==============================] - 39s 663ms/step - loss: 0.2237 - acc: 0.9144 - val_loss: 0.1598 - val_acc: 0.9424\n",
      "\n",
      "Epoch 00004: val_acc improved from 0.93587 to 0.94239, saving model to best_vgg19.h5\n",
      "Epoch 5/50\n",
      "58/58 [==============================] - 39s 664ms/step - loss: 0.1674 - acc: 0.9329 - val_loss: 0.1211 - val_acc: 0.9554\n",
      "\n",
      "Epoch 00005: val_acc improved from 0.94239 to 0.95543, saving model to best_vgg19.h5\n",
      "Epoch 6/50\n",
      "58/58 [==============================] - 39s 664ms/step - loss: 0.1589 - acc: 0.9351 - val_loss: 0.2291 - val_acc: 0.9174\n",
      "\n",
      "Epoch 00006: val_acc did not improve from 0.95543\n",
      "Epoch 7/50\n",
      "58/58 [==============================] - 39s 666ms/step - loss: 0.1165 - acc: 0.9546 - val_loss: 0.1045 - val_acc: 0.9609\n",
      "\n",
      "Epoch 00007: val_acc improved from 0.95543 to 0.96087, saving model to best_vgg19.h5\n",
      "Epoch 8/50\n",
      "58/58 [==============================] - 39s 663ms/step - loss: 0.0979 - acc: 0.9611 - val_loss: 0.1750 - val_acc: 0.9315\n",
      "\n",
      "Epoch 00008: val_acc did not improve from 0.96087\n",
      "Epoch 9/50\n",
      "58/58 [==============================] - 39s 663ms/step - loss: 0.0956 - acc: 0.9639 - val_loss: 0.0839 - val_acc: 0.9696\n",
      "\n",
      "Epoch 00009: val_acc improved from 0.96087 to 0.96957, saving model to best_vgg19.h5\n",
      "Epoch 10/50\n",
      "58/58 [==============================] - 39s 665ms/step - loss: 0.0906 - acc: 0.9682 - val_loss: 0.1373 - val_acc: 0.9522\n",
      "\n",
      "Epoch 00010: val_acc did not improve from 0.96957\n",
      "Epoch 11/50\n",
      "58/58 [==============================] - 39s 663ms/step - loss: 0.0796 - acc: 0.9739 - val_loss: 0.0700 - val_acc: 0.9772\n",
      "\n",
      "Epoch 00011: val_acc improved from 0.96957 to 0.97717, saving model to best_vgg19.h5\n",
      "Epoch 12/50\n",
      "58/58 [==============================] - 39s 662ms/step - loss: 0.0687 - acc: 0.9758 - val_loss: 0.0649 - val_acc: 0.9783\n",
      "\n",
      "Epoch 00012: val_acc improved from 0.97717 to 0.97826, saving model to best_vgg19.h5\n",
      "Epoch 13/50\n",
      "58/58 [==============================] - 39s 663ms/step - loss: 0.0597 - acc: 0.9804 - val_loss: 0.0629 - val_acc: 0.9793\n",
      "\n",
      "Epoch 00013: val_acc improved from 0.97826 to 0.97935, saving model to best_vgg19.h5\n",
      "Epoch 14/50\n",
      "58/58 [==============================] - 39s 663ms/step - loss: 0.0659 - acc: 0.9739 - val_loss: 0.0579 - val_acc: 0.9783\n",
      "\n",
      "Epoch 00014: val_acc did not improve from 0.97935\n",
      "Epoch 15/50\n",
      "58/58 [==============================] - 39s 663ms/step - loss: 0.0494 - acc: 0.9826 - val_loss: 0.0613 - val_acc: 0.9815\n",
      "\n",
      "Epoch 00015: val_acc improved from 0.97935 to 0.98152, saving model to best_vgg19.h5\n",
      "Epoch 16/50\n",
      "58/58 [==============================] - 39s 664ms/step - loss: 0.0611 - acc: 0.9769 - val_loss: 0.0511 - val_acc: 0.9859\n",
      "\n",
      "Epoch 00016: val_acc improved from 0.98152 to 0.98587, saving model to best_vgg19.h5\n",
      "Epoch 17/50\n",
      "58/58 [==============================] - 39s 664ms/step - loss: 0.0408 - acc: 0.9845 - val_loss: 0.0503 - val_acc: 0.9837\n",
      "\n",
      "Epoch 00017: val_acc did not improve from 0.98587\n",
      "Epoch 18/50\n",
      "58/58 [==============================] - 39s 662ms/step - loss: 0.0528 - acc: 0.9802 - val_loss: 0.0527 - val_acc: 0.9826\n",
      "\n",
      "Epoch 00018: val_acc did not improve from 0.98587\n",
      "Epoch 19/50\n",
      "58/58 [==============================] - 39s 665ms/step - loss: 0.0220 - acc: 0.9940 - val_loss: 0.1136 - val_acc: 0.9576\n",
      "\n",
      "Epoch 00019: val_acc did not improve from 0.98587\n",
      "Epoch 20/50\n",
      "58/58 [==============================] - 39s 665ms/step - loss: 0.0500 - acc: 0.9804 - val_loss: 0.0463 - val_acc: 0.9870\n",
      "\n",
      "Epoch 00020: val_acc improved from 0.98587 to 0.98696, saving model to best_vgg19.h5\n",
      "Epoch 21/50\n",
      "58/58 [==============================] - 39s 667ms/step - loss: 0.0232 - acc: 0.9927 - val_loss: 0.0814 - val_acc: 0.9717\n",
      "\n",
      "Epoch 00021: val_acc did not improve from 0.98696\n",
      "Epoch 22/50\n",
      "58/58 [==============================] - 39s 663ms/step - loss: 0.0356 - acc: 0.9889 - val_loss: 0.0441 - val_acc: 0.9880\n",
      "\n",
      "Epoch 00022: val_acc improved from 0.98696 to 0.98804, saving model to best_vgg19.h5\n",
      "Epoch 23/50\n",
      "58/58 [==============================] - 39s 664ms/step - loss: 0.0190 - acc: 0.9954 - val_loss: 0.0437 - val_acc: 0.9880\n",
      "\n",
      "Epoch 00023: val_acc did not improve from 0.98804\n",
      "Epoch 24/50\n",
      "58/58 [==============================] - 39s 663ms/step - loss: 0.0306 - acc: 0.9878 - val_loss: 0.0461 - val_acc: 0.9891\n",
      "\n",
      "Epoch 00024: val_acc improved from 0.98804 to 0.98913, saving model to best_vgg19.h5\n",
      "Epoch 25/50\n",
      "58/58 [==============================] - 39s 664ms/step - loss: 0.0150 - acc: 0.9962 - val_loss: 0.0416 - val_acc: 0.9924\n",
      "\n",
      "Epoch 00025: val_acc improved from 0.98913 to 0.99239, saving model to best_vgg19.h5\n",
      "Epoch 26/50\n",
      "58/58 [==============================] - 39s 664ms/step - loss: 0.0285 - acc: 0.9905 - val_loss: 0.0489 - val_acc: 0.9859\n",
      "\n",
      "Epoch 00026: val_acc did not improve from 0.99239\n",
      "Epoch 27/50\n",
      "58/58 [==============================] - 39s 663ms/step - loss: 0.0236 - acc: 0.9929 - val_loss: 0.0418 - val_acc: 0.9902\n",
      "\n",
      "Epoch 00027: val_acc did not improve from 0.99239\n",
      "Epoch 28/50\n",
      "58/58 [==============================] - 39s 663ms/step - loss: 0.0243 - acc: 0.9910 - val_loss: 0.0442 - val_acc: 0.9891\n",
      "\n",
      "Epoch 00028: val_acc did not improve from 0.99239\n",
      "Epoch 29/50\n",
      "58/58 [==============================] - 39s 663ms/step - loss: 0.0149 - acc: 0.9954 - val_loss: 0.0425 - val_acc: 0.9902\n",
      "\n",
      "Epoch 00029: val_acc did not improve from 0.99239\n",
      "Epoch 30/50\n",
      "58/58 [==============================] - 39s 663ms/step - loss: 0.0135 - acc: 0.9970 - val_loss: 0.0452 - val_acc: 0.9913\n",
      "\n",
      "Epoch 00030: val_acc did not improve from 0.99239\n",
      "Epoch 00030: early stopping\n"
     ]
    }
   ],
   "source": [
    "history = model.fit(tr_gen, validation_data = val_gen, epochs = 50, verbose = 1, callbacks = [es, mc])"
   ]
  },
  {
   "cell_type": "code",
   "execution_count": null,
   "metadata": {
    "id": "HL3z9zql0pGL"
   },
   "outputs": [],
   "source": [
    "acc = history.history['acc']\n",
    "val_acc = history.history['val_acc']"
   ]
  },
  {
   "cell_type": "code",
   "execution_count": 60,
   "metadata": {
    "id": "yq-mh3mBAk-k"
   },
   "outputs": [],
   "source": [
    "import matplotlib.pyplot as plt\n",
    "%matplotlib inline"
   ]
  },
  {
   "cell_type": "code",
   "execution_count": null,
   "metadata": {
    "colab": {
     "base_uri": "https://localhost:8080/",
     "height": 265
    },
    "id": "nX4hBv0CAsIJ",
    "outputId": "628ddbd6-2a15-4eba-d7cd-507d31c522bc"
   },
   "outputs": [
    {
     "data": {
      "image/png": "[encoded data removed]",
      "text/plain": [
       "<Figure size 432x288 with 1 Axes>"
      ]
     },
     "metadata": {
      "needs_background": "light"
     },
     "output_type": "display_data"
    }
   ],
   "source": [
    "plt.plot(acc, label = 'Train')\n",
    "plt.plot(val_acc, label = 'Validation')\n",
    "plt.legend()\n",
    "plt.show()"
   ]
  },
  {
   "cell_type": "code",
   "execution_count": null,
   "metadata": {
    "id": "rbHPHleB7xcW"
   },
   "outputs": [],
   "source": [
    "loss = history.history['loss']\n",
    "val_loss = history.history['val_loss']"
   ]
  },
  {
   "cell_type": "code",
   "execution_count": null,
   "metadata": {
    "colab": {
     "base_uri": "https://localhost:8080/",
     "height": 265
    },
    "id": "K7G16yKXAgTM",
    "outputId": "f1d3fd8a-4ec3-4710-c830-e8a0a718801b"
   },
   "outputs": [
    {
     "data": {
      "image/png": "[encoded data removed]",
      "text/plain": [
       "<Figure size 432x288 with 1 Axes>"
      ]
     },
     "metadata": {
      "needs_background": "light"
     },
     "output_type": "display_data"
    }
   ],
   "source": [
    "plt.plot(loss, label = 'Train')\n",
    "plt.plot(val_loss, label = 'Validation')\n",
    "plt.legend()\n",
    "plt.show()"
   ]
  },
  {
   "cell_type": "code",
   "execution_count": null,
   "metadata": {
    "id": "HNf1qZiO71Bs"
   },
   "outputs": [],
   "source": [
    "from tensorflow.keras.applications import ResNet50"
   ]
  },
  {
   "cell_type": "code",
   "execution_count": null,
   "metadata": {
    "id": "BrsNRvkw77j7"
   },
   "outputs": [],
   "source": [
    "resnet = ResNet50(include_top = False, weights = None, input_shape=(224, 224, 3), pooling = max, classes = 2)"
   ]
  },
  {
   "cell_type": "code",
   "execution_count": null,
   "metadata": {
    "id": "F7xo_n_y8a0Z"
   },
   "outputs": [],
   "source": [
    "model = Sequential()\n",
    "model.add(resnet)\n",
    "model.add(Flatten())\n",
    "model.add(Dropout(0.3))\n",
    "model.add(Dense(1, activation = 'sigmoid'))"
   ]
  },
  {
   "cell_type": "code",
   "execution_count": null,
   "metadata": {
    "id": "LV4mOqZy8iZ1"
   },
   "outputs": [],
   "source": [
    "model.layers[0].trainable = False"
   ]
  },
  {
   "cell_type": "code",
   "execution_count": null,
   "metadata": {
    "id": "lkMDmn2r8DaD"
   },
   "outputs": [],
   "source": [
    "model.compile(loss = 'binary_crossentropy', metrics = ['acc'], optimizer = 'adam') "
   ]
  },
  {
   "cell_type": "code",
   "execution_count": null,
   "metadata": {
    "colab": {
     "base_uri": "https://localhost:8080/"
    },
    "id": "gBsA5kZh8Qg0",
    "outputId": "5cc561fb-a865-44dc-9d2d-790917efda36"
   },
   "outputs": [
    {
     "name": "stdout",
     "output_type": "stream",
     "text": [
      "Model: \"sequential_3\"\n",
      "_________________________________________________________________\n",
      "Layer (type)                 Output Shape              Param #   \n",
      "=================================================================\n",
      "resnet50 (Functional)        (None, 7, 7, 2048)        23587712  \n",
      "_________________________________________________________________\n",
      "flatten_3 (Flatten)          (None, 100352)            0         \n",
      "_________________________________________________________________\n",
      "dropout_3 (Dropout)          (None, 100352)            0         \n",
      "_________________________________________________________________\n",
      "dense_3 (Dense)              (None, 1)                 100353    \n",
      "=================================================================\n",
      "Total params: 23,688,065\n",
      "Trainable params: 100,353\n",
      "Non-trainable params: 23,587,712\n",
      "_________________________________________________________________\n"
     ]
    }
   ],
   "source": [
    "model.summary()"
   ]
  },
  {
   "cell_type": "code",
   "execution_count": null,
   "metadata": {
    "id": "WpDv2kl98ROY"
   },
   "outputs": [],
   "source": [
    "es = EarlyStopping(monitor = 'val_acc', patience = 5, mode = 'max', verbose = 1)\n",
    "mc = ModelCheckpoint('best_resnet.h5', patience = 5, monitor = 'val_acc', mode = 'max', save_best_only = True, verbose = 1)"
   ]
  },
  {
   "cell_type": "code",
   "execution_count": null,
   "metadata": {
    "colab": {
     "base_uri": "https://localhost:8080/"
    },
    "id": "LCMsMHCG8UXg",
    "outputId": "eee1f980-5bb3-44cc-9612-ea3107f3fa49"
   },
   "outputs": [
    {
     "name": "stdout",
     "output_type": "stream",
     "text": [
      "Epoch 1/50\n",
      "58/58 [==============================] - 39s 579ms/step - loss: 0.7104 - acc: 0.5549 - val_loss: 0.6638 - val_acc: 0.5946\n",
      "\n",
      "Epoch 00001: val_acc improved from -inf to 0.59457, saving model to best_resnet.h5\n"
     ]
    },
    {
     "name": "stderr",
     "output_type": "stream",
     "text": [
      "/usr/local/lib/python3.7/dist-packages/keras/utils/generic_utils.py:497: CustomMaskWarning: Custom mask layers require a config and must override get_config. When loading, the custom mask layer must be passed to the custom_objects argument.\n",
      "  category=CustomMaskWarning)\n"
     ]
    },
    {
     "name": "stdout",
     "output_type": "stream",
     "text": [
      "Epoch 2/50\n",
      "58/58 [==============================] - 31s 529ms/step - loss: 0.5744 - acc: 0.7120 - val_loss: 0.5701 - val_acc: 0.6859\n",
      "\n",
      "Epoch 00002: val_acc improved from 0.59457 to 0.68587, saving model to best_resnet.h5\n",
      "Epoch 3/50\n",
      "58/58 [==============================] - 31s 526ms/step - loss: 0.5297 - acc: 0.7549 - val_loss: 0.5218 - val_acc: 0.8087\n",
      "\n",
      "Epoch 00003: val_acc improved from 0.68587 to 0.80870, saving model to best_resnet.h5\n",
      "Epoch 4/50\n",
      "58/58 [==============================] - 31s 527ms/step - loss: 0.4901 - acc: 0.7913 - val_loss: 0.4798 - val_acc: 0.7924\n",
      "\n",
      "Epoch 00004: val_acc did not improve from 0.80870\n",
      "Epoch 5/50\n",
      "58/58 [==============================] - 31s 532ms/step - loss: 0.4610 - acc: 0.8122 - val_loss: 0.4552 - val_acc: 0.8283\n",
      "\n",
      "Epoch 00005: val_acc improved from 0.80870 to 0.82826, saving model to best_resnet.h5\n",
      "Epoch 6/50\n",
      "58/58 [==============================] - 31s 536ms/step - loss: 0.4458 - acc: 0.8117 - val_loss: 0.4365 - val_acc: 0.8402\n",
      "\n",
      "Epoch 00006: val_acc improved from 0.82826 to 0.84022, saving model to best_resnet.h5\n",
      "Epoch 7/50\n",
      "58/58 [==============================] - 31s 529ms/step - loss: 0.4260 - acc: 0.8231 - val_loss: 0.4340 - val_acc: 0.8511\n",
      "\n",
      "Epoch 00007: val_acc improved from 0.84022 to 0.85109, saving model to best_resnet.h5\n",
      "Epoch 8/50\n",
      "58/58 [==============================] - 31s 529ms/step - loss: 0.4106 - acc: 0.8364 - val_loss: 0.4432 - val_acc: 0.8413\n",
      "\n",
      "Epoch 00008: val_acc did not improve from 0.85109\n",
      "Epoch 9/50\n",
      "58/58 [==============================] - 31s 524ms/step - loss: 0.4030 - acc: 0.8321 - val_loss: 0.5149 - val_acc: 0.7141\n",
      "\n",
      "Epoch 00009: val_acc did not improve from 0.85109\n",
      "Epoch 10/50\n",
      "58/58 [==============================] - 31s 524ms/step - loss: 0.3842 - acc: 0.8476 - val_loss: 0.3846 - val_acc: 0.8359\n",
      "\n",
      "Epoch 00010: val_acc did not improve from 0.85109\n",
      "Epoch 11/50\n",
      "58/58 [==============================] - 31s 525ms/step - loss: 0.3595 - acc: 0.8660 - val_loss: 0.3727 - val_acc: 0.8576\n",
      "\n",
      "Epoch 00011: val_acc improved from 0.85109 to 0.85761, saving model to best_resnet.h5\n",
      "Epoch 12/50\n",
      "58/58 [==============================] - 31s 526ms/step - loss: 0.3504 - acc: 0.8682 - val_loss: 0.3883 - val_acc: 0.8641\n",
      "\n",
      "Epoch 00012: val_acc improved from 0.85761 to 0.86413, saving model to best_resnet.h5\n",
      "Epoch 13/50\n",
      "58/58 [==============================] - 31s 526ms/step - loss: 0.3438 - acc: 0.8726 - val_loss: 0.3557 - val_acc: 0.8793\n",
      "\n",
      "Epoch 00013: val_acc improved from 0.86413 to 0.87935, saving model to best_resnet.h5\n",
      "Epoch 14/50\n",
      "58/58 [==============================] - 31s 526ms/step - loss: 0.3436 - acc: 0.8606 - val_loss: 0.3489 - val_acc: 0.8859\n",
      "\n",
      "Epoch 00014: val_acc improved from 0.87935 to 0.88587, saving model to best_resnet.h5\n",
      "Epoch 15/50\n",
      "58/58 [==============================] - 31s 527ms/step - loss: 0.3225 - acc: 0.8829 - val_loss: 0.3407 - val_acc: 0.8870\n",
      "\n",
      "Epoch 00015: val_acc improved from 0.88587 to 0.88696, saving model to best_resnet.h5\n",
      "Epoch 16/50\n",
      "58/58 [==============================] - 31s 530ms/step - loss: 0.3082 - acc: 0.8913 - val_loss: 0.3354 - val_acc: 0.8913\n",
      "\n",
      "Epoch 00016: val_acc improved from 0.88696 to 0.89130, saving model to best_resnet.h5\n",
      "Epoch 17/50\n",
      "58/58 [==============================] - 31s 527ms/step - loss: 0.3065 - acc: 0.8910 - val_loss: 0.3371 - val_acc: 0.8576\n",
      "\n",
      "Epoch 00017: val_acc did not improve from 0.89130\n",
      "Epoch 18/50\n",
      "58/58 [==============================] - 31s 525ms/step - loss: 0.3049 - acc: 0.8927 - val_loss: 0.3213 - val_acc: 0.8837\n",
      "\n",
      "Epoch 00018: val_acc did not improve from 0.89130\n",
      "Epoch 19/50\n",
      "58/58 [==============================] - 31s 523ms/step - loss: 0.2864 - acc: 0.9024 - val_loss: 0.3324 - val_acc: 0.8620\n",
      "\n",
      "Epoch 00019: val_acc did not improve from 0.89130\n",
      "Epoch 20/50\n",
      "58/58 [==============================] - 30s 520ms/step - loss: 0.2816 - acc: 0.9101 - val_loss: 0.3106 - val_acc: 0.8978\n",
      "\n",
      "Epoch 00020: val_acc improved from 0.89130 to 0.89783, saving model to best_resnet.h5\n",
      "Epoch 21/50\n",
      "58/58 [==============================] - 31s 525ms/step - loss: 0.2738 - acc: 0.9133 - val_loss: 0.3045 - val_acc: 0.8946\n",
      "\n",
      "Epoch 00021: val_acc did not improve from 0.89783\n",
      "Epoch 22/50\n",
      "58/58 [==============================] - 30s 522ms/step - loss: 0.2701 - acc: 0.9168 - val_loss: 0.3108 - val_acc: 0.8793\n",
      "\n",
      "Epoch 00022: val_acc did not improve from 0.89783\n",
      "Epoch 23/50\n",
      "58/58 [==============================] - 30s 521ms/step - loss: 0.2587 - acc: 0.9239 - val_loss: 0.3050 - val_acc: 0.8815\n",
      "\n",
      "Epoch 00023: val_acc did not improve from 0.89783\n",
      "Epoch 24/50\n",
      "58/58 [==============================] - 30s 522ms/step - loss: 0.2603 - acc: 0.9155 - val_loss: 0.2941 - val_acc: 0.9054\n",
      "\n",
      "Epoch 00024: val_acc improved from 0.89783 to 0.90543, saving model to best_resnet.h5\n",
      "Epoch 25/50\n",
      "58/58 [==============================] - 31s 527ms/step - loss: 0.2519 - acc: 0.9193 - val_loss: 0.3139 - val_acc: 0.8739\n",
      "\n",
      "Epoch 00025: val_acc did not improve from 0.90543\n",
      "Epoch 26/50\n",
      "58/58 [==============================] - 31s 524ms/step - loss: 0.2501 - acc: 0.9207 - val_loss: 0.3164 - val_acc: 0.8913\n",
      "\n",
      "Epoch 00026: val_acc did not improve from 0.90543\n",
      "Epoch 27/50\n",
      "58/58 [==============================] - 30s 523ms/step - loss: 0.2479 - acc: 0.9198 - val_loss: 0.2911 - val_acc: 0.8924\n",
      "\n",
      "Epoch 00027: val_acc did not improve from 0.90543\n",
      "Epoch 28/50\n",
      "58/58 [==============================] - 30s 521ms/step - loss: 0.2361 - acc: 0.9302 - val_loss: 0.2748 - val_acc: 0.9141\n",
      "\n",
      "Epoch 00028: val_acc improved from 0.90543 to 0.91413, saving model to best_resnet.h5\n",
      "Epoch 29/50\n",
      "58/58 [==============================] - 30s 522ms/step - loss: 0.2317 - acc: 0.9329 - val_loss: 0.2716 - val_acc: 0.9185\n",
      "\n",
      "Epoch 00029: val_acc improved from 0.91413 to 0.91848, saving model to best_resnet.h5\n",
      "Epoch 30/50\n",
      "58/58 [==============================] - 31s 524ms/step - loss: 0.2302 - acc: 0.9351 - val_loss: 0.2736 - val_acc: 0.9141\n",
      "\n",
      "Epoch 00030: val_acc did not improve from 0.91848\n",
      "Epoch 31/50\n",
      "58/58 [==============================] - 31s 524ms/step - loss: 0.2198 - acc: 0.9405 - val_loss: 0.2693 - val_acc: 0.9163\n",
      "\n",
      "Epoch 00031: val_acc did not improve from 0.91848\n",
      "Epoch 32/50\n",
      "58/58 [==============================] - 31s 526ms/step - loss: 0.2231 - acc: 0.9337 - val_loss: 0.2909 - val_acc: 0.8957\n",
      "\n",
      "Epoch 00032: val_acc did not improve from 0.91848\n",
      "Epoch 33/50\n",
      "58/58 [==============================] - 31s 526ms/step - loss: 0.2108 - acc: 0.9478 - val_loss: 0.2618 - val_acc: 0.9185\n",
      "\n",
      "Epoch 00033: val_acc did not improve from 0.91848\n",
      "Epoch 34/50\n",
      "58/58 [==============================] - 31s 526ms/step - loss: 0.2131 - acc: 0.9378 - val_loss: 0.2573 - val_acc: 0.9196\n",
      "\n",
      "Epoch 00034: val_acc improved from 0.91848 to 0.91957, saving model to best_resnet.h5\n",
      "Epoch 35/50\n",
      "58/58 [==============================] - 31s 530ms/step - loss: 0.2071 - acc: 0.9432 - val_loss: 0.2559 - val_acc: 0.9217\n",
      "\n",
      "Epoch 00035: val_acc improved from 0.91957 to 0.92174, saving model to best_resnet.h5\n",
      "Epoch 36/50\n",
      "58/58 [==============================] - 31s 535ms/step - loss: 0.2015 - acc: 0.9508 - val_loss: 0.2638 - val_acc: 0.9109\n",
      "\n",
      "Epoch 00036: val_acc did not improve from 0.92174\n",
      "Epoch 37/50\n",
      "58/58 [==============================] - 31s 526ms/step - loss: 0.2049 - acc: 0.9448 - val_loss: 0.2586 - val_acc: 0.9141\n",
      "\n",
      "Epoch 00037: val_acc did not improve from 0.92174\n",
      "Epoch 38/50\n",
      "58/58 [==============================] - 31s 525ms/step - loss: 0.2061 - acc: 0.9410 - val_loss: 0.2456 - val_acc: 0.9293\n",
      "\n",
      "Epoch 00038: val_acc improved from 0.92174 to 0.92935, saving model to best_resnet.h5\n",
      "Epoch 39/50\n",
      "58/58 [==============================] - 31s 530ms/step - loss: 0.1941 - acc: 0.9451 - val_loss: 0.2427 - val_acc: 0.9315\n",
      "\n",
      "Epoch 00039: val_acc improved from 0.92935 to 0.93152, saving model to best_resnet.h5\n",
      "Epoch 40/50\n",
      "58/58 [==============================] - 31s 527ms/step - loss: 0.1885 - acc: 0.9524 - val_loss: 0.2777 - val_acc: 0.8913\n",
      "\n",
      "Epoch 00040: val_acc did not improve from 0.93152\n",
      "Epoch 41/50\n",
      "58/58 [==============================] - 31s 523ms/step - loss: 0.1911 - acc: 0.9503 - val_loss: 0.2413 - val_acc: 0.9261\n",
      "\n",
      "Epoch 00041: val_acc did not improve from 0.93152\n",
      "Epoch 42/50\n",
      "58/58 [==============================] - 31s 526ms/step - loss: 0.1837 - acc: 0.9533 - val_loss: 0.2377 - val_acc: 0.9272\n",
      "\n",
      "Epoch 00042: val_acc did not improve from 0.93152\n",
      "Epoch 43/50\n",
      "58/58 [==============================] - 30s 523ms/step - loss: 0.1825 - acc: 0.9568 - val_loss: 0.2344 - val_acc: 0.9348\n",
      "\n",
      "Epoch 00043: val_acc improved from 0.93152 to 0.93478, saving model to best_resnet.h5\n",
      "Epoch 44/50\n",
      "58/58 [==============================] - 31s 527ms/step - loss: 0.1766 - acc: 0.9576 - val_loss: 0.2376 - val_acc: 0.9261\n",
      "\n",
      "Epoch 00044: val_acc did not improve from 0.93478\n",
      "Epoch 45/50\n",
      "58/58 [==============================] - 31s 528ms/step - loss: 0.1764 - acc: 0.9554 - val_loss: 0.2300 - val_acc: 0.9359\n",
      "\n",
      "Epoch 00045: val_acc improved from 0.93478 to 0.93587, saving model to best_resnet.h5\n",
      "Epoch 46/50\n",
      "58/58 [==============================] - 31s 535ms/step - loss: 0.1698 - acc: 0.9628 - val_loss: 0.2287 - val_acc: 0.9326\n",
      "\n",
      "Epoch 00046: val_acc did not improve from 0.93587\n",
      "Epoch 47/50\n",
      "58/58 [==============================] - 31s 528ms/step - loss: 0.1695 - acc: 0.9579 - val_loss: 0.2254 - val_acc: 0.9413\n",
      "\n",
      "Epoch 00047: val_acc improved from 0.93587 to 0.94130, saving model to best_resnet.h5\n",
      "Epoch 48/50\n",
      "58/58 [==============================] - 31s 529ms/step - loss: 0.1738 - acc: 0.9557 - val_loss: 0.2247 - val_acc: 0.9370\n",
      "\n",
      "Epoch 00048: val_acc did not improve from 0.94130\n",
      "Epoch 49/50\n",
      "58/58 [==============================] - 31s 525ms/step - loss: 0.1661 - acc: 0.9582 - val_loss: 0.2216 - val_acc: 0.9424\n",
      "\n",
      "Epoch 00049: val_acc improved from 0.94130 to 0.94239, saving model to best_resnet.h5\n",
      "Epoch 50/50\n",
      "58/58 [==============================] - 31s 527ms/step - loss: 0.1692 - acc: 0.9606 - val_loss: 0.2229 - val_acc: 0.9337\n",
      "\n",
      "Epoch 00050: val_acc did not improve from 0.94239\n"
     ]
    }
   ],
   "source": [
    "history = model.fit(tr_gen, validation_data = val_gen, epochs = 50, verbose = 1, callbacks = [es, mc])"
   ]
  },
  {
   "cell_type": "code",
   "execution_count": null,
   "metadata": {
    "id": "FncTo6rZ8Wma"
   },
   "outputs": [],
   "source": [
    "acc = history.history['acc']\n",
    "val_acc = history.history['val_acc']"
   ]
  },
  {
   "cell_type": "code",
   "execution_count": null,
   "metadata": {
    "colab": {
     "base_uri": "https://localhost:8080/",
     "height": 265
    },
    "id": "hYxtnRG5DD9q",
    "outputId": "4a4fe0bf-f3fb-4414-a492-b1c7c5f5a5d2"
   },
   "outputs": [
    {
     "data": {
      "image/png": "[encoded data removed]",
      "text/plain": [
       "<Figure size 432x288 with 1 Axes>"
      ]
     },
     "metadata": {
      "needs_background": "light"
     },
     "output_type": "display_data"
    }
   ],
   "source": [
    "plt.plot(acc, label = 'Train')\n",
    "plt.plot(val_acc, label = 'Validation')\n",
    "plt.legend()\n",
    "plt.show()"
   ]
  },
  {
   "cell_type": "code",
   "execution_count": null,
   "metadata": {
    "id": "YVkHa4okDFKX"
   },
   "outputs": [],
   "source": [
    "loss = history.history['loss']\n",
    "val_loss = history.history['val_loss']"
   ]
  },
  {
   "cell_type": "code",
   "execution_count": null,
   "metadata": {
    "colab": {
     "base_uri": "https://localhost:8080/",
     "height": 265
    },
    "id": "64g7Dgl2DpyO",
    "outputId": "65b0abb1-3702-47b9-ba43-2568eefbf18f"
   },
   "outputs": [
    {
     "data": {
      "image/png": "[encoded data removed]",
      "text/plain": [
       "<Figure size 432x288 with 1 Axes>"
      ]
     },
     "metadata": {
      "needs_background": "light"
     },
     "output_type": "display_data"
    }
   ],
   "source": [
    "plt.plot(loss, label = 'Train')\n",
    "plt.plot(val_loss, label = 'Validation')\n",
    "plt.legend()\n",
    "plt.show()"
   ]
  },
  {
   "cell_type": "code",
   "execution_count": 49,
   "metadata": {
    "id": "UEBsfdbgDqzh"
   },
   "outputs": [],
   "source": [
    "model = Sequential()\n",
    "model.add(Conv2D(64, (3, 3), activation = 'relu', input_shape = (150, 150, 3), padding = 'same'))\n",
    "model.add(MaxPooling2D(2, 2))\n",
    "model.add(BatchNormalization())\n",
    "model.add(Conv2D(64,(3, 3), activation = 'relu', padding = 'same')) \n",
    "model.add(MaxPooling2D((2, 2)))\n",
    "model.add(BatchNormalization())\n",
    "model.add(Conv2D(128, (3, 3), activation = 'relu',padding = 'same'))\n",
    "model.add(MaxPooling2D((2, 2)))\n",
    "model.add(BatchNormalization())\n",
    "model.add(Conv2D(128, (3, 3), activation = 'relu', padding = 'same')) \n",
    "model.add(MaxPooling2D((2,2)))\n",
    "model.add(BatchNormalization())\n",
    "model.add(Flatten())\n",
    "model.add(Dense(128, activation = 'relu'))\n",
    "model.add(Dropout(0.3))\n",
    "model.add(Dense(32,activation = 'relu'))\n",
    "model.add(Dropout(0.3))\n",
    "model.add(Dense(1,activation = 'sigmoid'))"
   ]
  },
  {
   "cell_type": "code",
   "execution_count": 50,
   "metadata": {
    "id": "5CsLPZwiXP5K"
   },
   "outputs": [],
   "source": [
    "model.compile(loss = 'binary_crossentropy', metrics = ['acc'], optimizer = 'adam') "
   ]
  },
  {
   "cell_type": "code",
   "execution_count": 51,
   "metadata": {
    "colab": {
     "base_uri": "https://localhost:8080/"
    },
    "id": "UTBk-d6SXWIB",
    "outputId": "e346fa9f-7cab-481a-c3ac-61092f4320d8"
   },
   "outputs": [
    {
     "name": "stdout",
     "output_type": "stream",
     "text": [
      "Model: \"sequential_7\"\n",
      "_________________________________________________________________\n",
      "Layer (type)                 Output Shape              Param #   \n",
      "=================================================================\n",
      "conv2d_33 (Conv2D)           (None, 150, 150, 64)      1792      \n",
      "_________________________________________________________________\n",
      "max_pooling2d_16 (MaxPooling (None, 75, 75, 64)        0         \n",
      "_________________________________________________________________\n",
      "batch_normalization_40 (Batc (None, 75, 75, 64)        256       \n",
      "_________________________________________________________________\n",
      "conv2d_34 (Conv2D)           (None, 75, 75, 64)        36928     \n",
      "_________________________________________________________________\n",
      "max_pooling2d_17 (MaxPooling (None, 37, 37, 64)        0         \n",
      "_________________________________________________________________\n",
      "batch_normalization_41 (Batc (None, 37, 37, 64)        256       \n",
      "_________________________________________________________________\n",
      "conv2d_35 (Conv2D)           (None, 37, 37, 128)       73856     \n",
      "_________________________________________________________________\n",
      "max_pooling2d_18 (MaxPooling (None, 18, 18, 128)       0         \n",
      "_________________________________________________________________\n",
      "batch_normalization_42 (Batc (None, 18, 18, 128)       512       \n",
      "_________________________________________________________________\n",
      "conv2d_36 (Conv2D)           (None, 18, 18, 128)       147584    \n",
      "_________________________________________________________________\n",
      "max_pooling2d_19 (MaxPooling (None, 9, 9, 128)         0         \n",
      "_________________________________________________________________\n",
      "batch_normalization_43 (Batc (None, 9, 9, 128)         512       \n",
      "_________________________________________________________________\n",
      "flatten_6 (Flatten)          (None, 10368)             0         \n",
      "_________________________________________________________________\n",
      "dense_18 (Dense)             (None, 128)               1327232   \n",
      "_________________________________________________________________\n",
      "dropout_24 (Dropout)         (None, 128)               0         \n",
      "_________________________________________________________________\n",
      "dense_19 (Dense)             (None, 32)                4128      \n",
      "_________________________________________________________________\n",
      "dropout_25 (Dropout)         (None, 32)                0         \n",
      "_________________________________________________________________\n",
      "dense_20 (Dense)             (None, 1)                 33        \n",
      "=================================================================\n",
      "Total params: 1,593,089\n",
      "Trainable params: 1,592,321\n",
      "Non-trainable params: 768\n",
      "_________________________________________________________________\n"
     ]
    }
   ],
   "source": [
    "model.summary()"
   ]
  },
  {
   "cell_type": "code",
   "execution_count": 52,
   "metadata": {
    "id": "A6B69oZaY-rj"
   },
   "outputs": [],
   "source": [
    "train_datagen = ImageDataGenerator(\n",
    "      rescale = 1./255,\n",
    "      rotation_range = 40,\n",
    "      width_shift_range = 0.2,\n",
    "      height_shift_range = 0.2,\n",
    "      shear_range = 0.2,\n",
    "      zoom_range = 0.1,\n",
    "      horizontal_flip = True,\n",
    "      fill_mode = 'nearest')"
   ]
  },
  {
   "cell_type": "code",
   "execution_count": 53,
   "metadata": {
    "colab": {
     "base_uri": "https://localhost:8080/"
    },
    "id": "4p8idvHSY09H",
    "outputId": "4569d90f-8030-4cb5-b871-7733d8faa6a4"
   },
   "outputs": [
    {
     "name": "stdout",
     "output_type": "stream",
     "text": [
      "Found 3680 validated image filenames belonging to 2 classes.\n"
     ]
    }
   ],
   "source": [
    "tr_gen = train_datagen.flow_from_dataframe(dataframe = tr_set, x_col = 'file_path', y_col = 'label',\n",
    "                                          target_size = (150, 150), color_mode = 'rgb',\n",
    "                                          class_mode = 'binary', batch_size = 64, shuffle = True)"
   ]
  },
  {
   "cell_type": "code",
   "execution_count": 54,
   "metadata": {
    "id": "ySL2jwOFZAY8"
   },
   "outputs": [],
   "source": [
    "validation_datagen = ImageDataGenerator(rescale=1/255)"
   ]
  },
  {
   "cell_type": "code",
   "execution_count": 55,
   "metadata": {
    "colab": {
     "base_uri": "https://localhost:8080/"
    },
    "id": "FmZmCZfqZAx6",
    "outputId": "c0532655-5c7e-42c1-89a4-0c99a466043b"
   },
   "outputs": [
    {
     "name": "stdout",
     "output_type": "stream",
     "text": [
      "Found 920 validated image filenames belonging to 2 classes.\n"
     ]
    }
   ],
   "source": [
    "val_gen = validation_datagen.flow_from_dataframe(dataframe = val_set, x_col = 'file_path', y_col = 'label',\n",
    "                                          target_size = (150, 150), color_mode = 'rgb',\n",
    "                                          class_mode = 'binary', batch_size = 64, shuffle = True)"
   ]
  },
  {
   "cell_type": "code",
   "execution_count": 56,
   "metadata": {
    "id": "U3xTCSfJZOzn"
   },
   "outputs": [],
   "source": [
    "es = EarlyStopping(monitor = 'val_acc', patience = 5, mode = 'max', verbose = 1)\n",
    "mc = ModelCheckpoint('best_cnn.h5', patience = 5, monitor = 'val_acc', mode = 'max', save_best_only = True, verbose = 1)"
   ]
  },
  {
   "cell_type": "code",
   "execution_count": 57,
   "metadata": {
    "colab": {
     "base_uri": "https://localhost:8080/"
    },
    "id": "gnm30XClXWKT",
    "outputId": "5eb5644c-67d0-423d-8c1e-985abdf3bfc6"
   },
   "outputs": [
    {
     "name": "stderr",
     "output_type": "stream",
     "text": [
      "/usr/local/lib/python3.7/dist-packages/keras/engine/training.py:1972: UserWarning: `Model.fit_generator` is deprecated and will be removed in a future version. Please use `Model.fit`, which supports generators.\n",
      "  warnings.warn('`Model.fit_generator` is deprecated and '\n"
     ]
    },
    {
     "name": "stdout",
     "output_type": "stream",
     "text": [
      "Epoch 1/50\n",
      "58/58 [==============================] - 42s 673ms/step - loss: 0.8183 - acc: 0.5712 - val_loss: 0.6944 - val_acc: 0.5467\n",
      "\n",
      "Epoch 00001: val_acc improved from -inf to 0.54674, saving model to best_cnn.h5\n",
      "Epoch 2/50\n",
      "58/58 [==============================] - 38s 654ms/step - loss: 0.6757 - acc: 0.6041 - val_loss: 0.7068 - val_acc: 0.5467\n",
      "\n",
      "Epoch 00002: val_acc did not improve from 0.54674\n",
      "Epoch 3/50\n",
      "58/58 [==============================] - 38s 653ms/step - loss: 0.6184 - acc: 0.6644 - val_loss: 0.9403 - val_acc: 0.5467\n",
      "\n",
      "Epoch 00003: val_acc did not improve from 0.54674\n",
      "Epoch 4/50\n",
      "58/58 [==============================] - 38s 655ms/step - loss: 0.5948 - acc: 0.6929 - val_loss: 0.6599 - val_acc: 0.5478\n",
      "\n",
      "Epoch 00004: val_acc improved from 0.54674 to 0.54783, saving model to best_cnn.h5\n",
      "Epoch 5/50\n",
      "58/58 [==============================] - 38s 649ms/step - loss: 0.5640 - acc: 0.7212 - val_loss: 0.7858 - val_acc: 0.5446\n",
      "\n",
      "Epoch 00005: val_acc did not improve from 0.54783\n",
      "Epoch 6/50\n",
      "58/58 [==============================] - 38s 648ms/step - loss: 0.5203 - acc: 0.7437 - val_loss: 0.6869 - val_acc: 0.5467\n",
      "\n",
      "Epoch 00006: val_acc did not improve from 0.54783\n",
      "Epoch 7/50\n",
      "58/58 [==============================] - 38s 648ms/step - loss: 0.4900 - acc: 0.7682 - val_loss: 0.6995 - val_acc: 0.5587\n",
      "\n",
      "Epoch 00007: val_acc improved from 0.54783 to 0.55870, saving model to best_cnn.h5\n",
      "Epoch 8/50\n",
      "58/58 [==============================] - 38s 648ms/step - loss: 0.4648 - acc: 0.7685 - val_loss: 1.2868 - val_acc: 0.5478\n",
      "\n",
      "Epoch 00008: val_acc did not improve from 0.55870\n",
      "Epoch 9/50\n",
      "58/58 [==============================] - 38s 651ms/step - loss: 0.4406 - acc: 0.7935 - val_loss: 0.4714 - val_acc: 0.7457\n",
      "\n",
      "Epoch 00009: val_acc improved from 0.55870 to 0.74565, saving model to best_cnn.h5\n",
      "Epoch 10/50\n",
      "58/58 [==============================] - 38s 655ms/step - loss: 0.4056 - acc: 0.8163 - val_loss: 0.3635 - val_acc: 0.8283\n",
      "\n",
      "Epoch 00010: val_acc improved from 0.74565 to 0.82826, saving model to best_cnn.h5\n",
      "Epoch 11/50\n",
      "58/58 [==============================] - 38s 656ms/step - loss: 0.3923 - acc: 0.8204 - val_loss: 0.4983 - val_acc: 0.7685\n",
      "\n",
      "Epoch 00011: val_acc did not improve from 0.82826\n",
      "Epoch 12/50\n",
      "58/58 [==============================] - 38s 652ms/step - loss: 0.3894 - acc: 0.8177 - val_loss: 0.4223 - val_acc: 0.8109\n",
      "\n",
      "Epoch 00012: val_acc did not improve from 0.82826\n",
      "Epoch 13/50\n",
      "58/58 [==============================] - 38s 653ms/step - loss: 0.3915 - acc: 0.8261 - val_loss: 0.9492 - val_acc: 0.5913\n",
      "\n",
      "Epoch 00013: val_acc did not improve from 0.82826\n",
      "Epoch 14/50\n",
      "58/58 [==============================] - 38s 649ms/step - loss: 0.3500 - acc: 0.8470 - val_loss: 2.9036 - val_acc: 0.4717\n",
      "\n",
      "Epoch 00014: val_acc did not improve from 0.82826\n",
      "Epoch 15/50\n",
      "58/58 [==============================] - 38s 654ms/step - loss: 0.3662 - acc: 0.8356 - val_loss: 0.7433 - val_acc: 0.6967\n",
      "\n",
      "Epoch 00015: val_acc did not improve from 0.82826\n",
      "Epoch 00015: early stopping\n"
     ]
    }
   ],
   "source": [
    "history = model.fit_generator(tr_gen, validation_data = val_gen, epochs = 50, verbose = 1, callbacks = [es, mc])"
   ]
  },
  {
   "cell_type": "code",
   "execution_count": 58,
   "metadata": {
    "id": "grZF7o0unlyV"
   },
   "outputs": [],
   "source": [
    "acc = history.history['acc']\n",
    "val_acc = history.history['val_acc']"
   ]
  },
  {
   "cell_type": "code",
   "execution_count": 62,
   "metadata": {
    "colab": {
     "base_uri": "https://localhost:8080/",
     "height": 265
    },
    "id": "c_9QWxy02FTh",
    "outputId": "1a668397-c5ca-4f8b-f377-05d227c3e3e4"
   },
   "outputs": [
    {
     "data": {
      "image/png": "[encoded data removed]",
      "text/plain": [
       "<Figure size 432x288 with 1 Axes>"
      ]
     },
     "metadata": {
      "needs_background": "light"
     },
     "output_type": "display_data"
    }
   ],
   "source": [
    "plt.plot(acc, label = 'Train')\n",
    "plt.plot(val_acc, label = 'Validation')\n",
    "plt.legend()\n",
    "plt.show()"
   ]
  },
  {
   "cell_type": "code",
   "execution_count": 61,
   "metadata": {
    "id": "mPSKRHn02Hew"
   },
   "outputs": [],
   "source": [
    "loss = history.history['loss']\n",
    "val_loss = history.history['val_loss']"
   ]
  },
  {
   "cell_type": "code",
   "execution_count": 63,
   "metadata": {
    "colab": {
     "base_uri": "https://localhost:8080/",
     "height": 267
    },
    "id": "Od-Kt7TW2MGU",
    "outputId": "5d89c6bf-a5b7-4099-b3d9-add7877399a3"
   },
   "outputs": [
    {
     "data": {
      "image/png": "[encoded data removed]",
      "text/plain": [
       "<Figure size 432x288 with 1 Axes>"
      ]
     },
     "metadata": {
      "needs_background": "light"
     },
     "output_type": "display_data"
    }
   ],
   "source": [
    "plt.plot(loss, label = 'Train')\n",
    "plt.plot(val_loss, label = 'Validation')\n",
    "plt.legend()\n",
    "plt.show()"
   ]
  }
 ],
 "metadata": {
  "accelerator": "GPU",
  "colab": {
   "collapsed_sections": [],
   "name": "Untitled0.ipynb",
   "provenance": []
  },
  "kernelspec": {
   "display_name": "Python 3",
   "language": "python",
   "name": "python3"
  },
  "language_info": {
   "codemirror_mode": {
    "name": "ipython",
    "version": 3
   },
   "file_extension": ".py",
   "mimetype": "text/x-python",
   "name": "python",
   "nbconvert_exporter": "python",
   "pygments_lexer": "ipython3",
   "version": "3.8.8"
  }
 },
 "nbformat": 4,
 "nbformat_minor": 1
}
