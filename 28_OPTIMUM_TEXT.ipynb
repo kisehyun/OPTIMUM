{
  "nbformat": 4,
  "nbformat_minor": 0,
  "metadata": {
    "colab": {
      "name": "28_OPTIMUM_TEXT.ipynb",
      "provenance": [],
      "collapsed_sections": []
    },
    "kernelspec": {
      "name": "python3",
      "display_name": "Python 3"
    },
    "language_info": {
      "name": "python"
    },
    "accelerator": "GPU"
  },
  "cells": [
    {
      "cell_type": "code",
      "metadata": {
        "colab": {
          "base_uri": "https://localhost:8080/"
        },
        "id": "fG368jjTAwJB",
        "outputId": "cc6b967a-7bf2-4719-8f05-eaba0485537e"
      },
      "source": [
        "from google.colab import drive\n",
        "drive.mount('/content/gdrive/', force_remount=  True)"
      ],
      "execution_count": 1,
      "outputs": [
        {
          "output_type": "stream",
          "name": "stdout",
          "text": [
            "Mounted at /content/gdrive/\n"
          ]
        }
      ]
    },
    {
      "cell_type": "code",
      "metadata": {
        "colab": {
          "base_uri": "https://localhost:8080/"
        },
        "id": "pAuNnqsxC-Fz",
        "outputId": "1935fc31-b15b-40b1-beec-e601266830df"
      },
      "source": [
        "%cd /content/gdrive/My Drive/optimum/20211106_TEXT/"
      ],
      "execution_count": 2,
      "outputs": [
        {
          "output_type": "stream",
          "name": "stdout",
          "text": [
            "/content/gdrive/My Drive/optimum/20211106_TEXT\n"
          ]
        }
      ]
    },
    {
      "cell_type": "code",
      "metadata": {
        "id": "ci2IaI0KEWs4"
      },
      "source": [
        "import json\n",
        "import pandas as pd\n",
        "import numpy as np\n",
        "import os\n",
        "import re"
      ],
      "execution_count": 3,
      "outputs": []
    },
    {
      "cell_type": "code",
      "metadata": {
        "id": "kCd939f3E2ZI"
      },
      "source": [
        "nf = os.listdir(os.path.join('./', '노트북'))\n",
        "wff = os.listdir(os.path.join('./', '여자 패션'))\n",
        "mff = os.listdir(os.path.join('./', '남자 패션'))\n",
        "of = os.listdir(os.path.join('./', 'OOTD'))\n",
        "mbf = os.listdir(os.path.join('./', '모바일'))\n",
        "itf = os.listdir(os.path.join('./', 'IT 제품'))"
      ],
      "execution_count": 4,
      "outputs": []
    },
    {
      "cell_type": "code",
      "metadata": {
        "id": "JBAwkdL4-_Vr"
      },
      "source": [
        "path_list = [nf, wff, mff, of, mbf, itf]"
      ],
      "execution_count": 5,
      "outputs": []
    },
    {
      "cell_type": "code",
      "metadata": {
        "id": "aeYTXMEf-xAH"
      },
      "source": [
        "folder_names = ['노트북', '여자 패션', '남자 패션', 'OOTD', '모바일', 'IT 제품']"
      ],
      "execution_count": 6,
      "outputs": []
    },
    {
      "cell_type": "code",
      "metadata": {
        "id": "jF9Wx3HdIHdV"
      },
      "source": [
        "cn_list = []\n",
        "sc_list = []\n",
        "vc_list = []\n",
        "cm_list = []\n",
        "lc_list = []\n",
        "c_list = []\n",
        "f_list = []"
      ],
      "execution_count": 7,
      "outputs": []
    },
    {
      "cell_type": "code",
      "metadata": {
        "id": "o3YCb6DIFONk"
      },
      "source": [
        "for n in range(len(folder_names)) :\n",
        "  file_folder = path_list[n]\n",
        "  folder_name = folder_names[n]\n",
        "  for f in file_folder :\n",
        "    try : \n",
        "      data = open(os.path.join('./', f'{folder_name}/{f}'))\n",
        "      data = json.loads(data.read())\n",
        "\n",
        "      cn = data['channel_name']\n",
        "      sc = data['subscribe_count']\n",
        "      vc = data['view_count']\n",
        "      cms = data['comment']\n",
        "      lc = data['like_count']\n",
        "\n",
        "      for cm in cms :\n",
        "        f_list.append(f)\n",
        "        c_list.append(folder_name)\n",
        "        cn_list.append(cn)\n",
        "        sc_list.append(sc)\n",
        "        vc_list.append(vc)\n",
        "        cm_list.append(cm)\n",
        "        lc_list.append(lc)\n",
        "    except :\n",
        "      pass"
      ],
      "execution_count": 8,
      "outputs": []
    },
    {
      "cell_type": "code",
      "metadata": {
        "id": "AdD6kg8HFy4A"
      },
      "source": [
        "df = pd.DataFrame({'카테고리' : c_list, '채널명' : cn_list, '파일명' : f_list, '구독자수' : sc_list, '조회수' : vc_list, '리뷰' : cm_list, '좋아요' : lc_list})"
      ],
      "execution_count": 9,
      "outputs": []
    },
    {
      "cell_type": "code",
      "metadata": {
        "id": "Y4_YgGkQAmnt"
      },
      "source": [
        "train = df[df.카테고리.isin(['여자 패션', '노트북'])]"
      ],
      "execution_count": 10,
      "outputs": []
    },
    {
      "cell_type": "code",
      "metadata": {
        "id": "bROLccm7A3mE"
      },
      "source": [
        "test = df.query(\"index not in @train.index\")"
      ],
      "execution_count": 11,
      "outputs": []
    },
    {
      "cell_type": "code",
      "metadata": {
        "id": "_RKHp_A_C50j"
      },
      "source": [
        "train['target'] = train.리뷰.str[-1]"
      ],
      "execution_count": null,
      "outputs": []
    },
    {
      "cell_type": "code",
      "metadata": {
        "id": "-NP8Hqw1BACa"
      },
      "source": [
        "train = train[train.target.isin(['0', '1'])]"
      ],
      "execution_count": 13,
      "outputs": []
    },
    {
      "cell_type": "code",
      "metadata": {
        "id": "IqloeTjFBDTV"
      },
      "source": [
        "train['target'] = train['target'].astype(int)"
      ],
      "execution_count": null,
      "outputs": []
    },
    {
      "cell_type": "code",
      "metadata": {
        "id": "pfqAYq78LtED"
      },
      "source": [
        "train['리뷰'] = train['리뷰'].str[:-1]"
      ],
      "execution_count": null,
      "outputs": []
    },
    {
      "cell_type": "code",
      "metadata": {
        "id": "QNuyRshXAOmI"
      },
      "source": [
        "train['length'] = train.리뷰.apply(len)"
      ],
      "execution_count": null,
      "outputs": []
    },
    {
      "cell_type": "code",
      "metadata": {
        "id": "YGowYPXlAS4c"
      },
      "source": [
        "train = train[train.length > 10]"
      ],
      "execution_count": 17,
      "outputs": []
    },
    {
      "cell_type": "code",
      "metadata": {
        "id": "kEAOplADIdzk"
      },
      "source": [
        "train.drop('length', axis = 1, inplace = True)"
      ],
      "execution_count": null,
      "outputs": []
    },
    {
      "cell_type": "code",
      "metadata": {
        "id": "-eqR_zTmDM72"
      },
      "source": [
        "train.index = range(train.shape[0])"
      ],
      "execution_count": 18,
      "outputs": []
    },
    {
      "cell_type": "code",
      "metadata": {
        "id": "KL6iZF2HLSQG"
      },
      "source": [
        "train['리뷰'] = [re.sub(r'[^가-힣]+', ' ', s) for s in train['리뷰']]\n",
        "test['리뷰'] = [re.sub(r'[^가-힣]+', ' ', s) for s in test['리뷰']]"
      ],
      "execution_count": null,
      "outputs": []
    },
    {
      "cell_type": "code",
      "metadata": {
        "id": "fE4Sr4iBM8Pg"
      },
      "source": [
        "%%bash\n",
        "apt-get update\n",
        "apt-get install g++ openjdk-8-jdk python-dev python3-dev\n",
        "pip3 install JPype1\n",
        "pip3 install konlpy"
      ],
      "execution_count": null,
      "outputs": []
    },
    {
      "cell_type": "code",
      "metadata": {
        "id": "ZAz92kyTNDfI"
      },
      "source": [
        "%env JAVA_HOME \"/usr/lib/jvm/java-8-openjdk-amd64\""
      ],
      "execution_count": null,
      "outputs": []
    },
    {
      "cell_type": "code",
      "metadata": {
        "id": "faVFs_zBNFBU"
      },
      "source": [
        "%%bash\n",
        "bash <(curl -s https://raw.githubusercontent.com/konlpy/konlpy/master/scripts/mecab.sh)\n",
        "pip3 install /tmp/mecab-python-0.996"
      ],
      "execution_count": null,
      "outputs": []
    },
    {
      "cell_type": "code",
      "metadata": {
        "id": "O7pYWoEvNGNt"
      },
      "source": [
        "import konlpy\n",
        "from konlpy.tag import Kkma, Komoran, Hannanum, Okt\n",
        "from konlpy.utils import pprint\n",
        "from konlpy.tag import Mecab\n",
        "from tqdm import tqdm"
      ],
      "execution_count": null,
      "outputs": []
    },
    {
      "cell_type": "code",
      "metadata": {
        "id": "ssz33lDNM_Ri"
      },
      "source": [
        "mecab = Mecab()"
      ],
      "execution_count": null,
      "outputs": []
    },
    {
      "cell_type": "code",
      "metadata": {
        "colab": {
          "base_uri": "https://localhost:8080/"
        },
        "id": "Xkz8-kuSOzRr",
        "outputId": "11e04cb2-a002-43b4-8156-a347bf076e45"
      },
      "source": [
        "tr_token = []\n",
        "\n",
        "text = list(train['리뷰'])\n",
        "\n",
        "for i in tqdm(range(len(text))):\n",
        "  temp_X = []\n",
        "  temp_X = mecab.pos(text[i]) # 토큰화\n",
        "  tr_token.append(temp_X)"
      ],
      "execution_count": null,
      "outputs": [
        {
          "output_type": "stream",
          "name": "stderr",
          "text": [
            "100%|██████████| 3169/3169 [00:00<00:00, 7311.10it/s]\n"
          ]
        }
      ]
    },
    {
      "cell_type": "code",
      "metadata": {
        "colab": {
          "base_uri": "https://localhost:8080/"
        },
        "id": "1EzbLk8pCeD8",
        "outputId": "acfd8980-75da-46a7-a9b5-f8a713dce283"
      },
      "source": [
        "te_token = []\n",
        "\n",
        "text = list(test['리뷰'])\n",
        "\n",
        "for i in tqdm(range(len(text))):\n",
        "  temp_X = []\n",
        "  temp_X = mecab.pos(text[i]) # 토큰화\n",
        "  te_token.append(temp_X)"
      ],
      "execution_count": null,
      "outputs": [
        {
          "output_type": "stream",
          "name": "stderr",
          "text": [
            "100%|██████████| 13787/13787 [00:01<00:00, 10649.10it/s]\n"
          ]
        }
      ]
    },
    {
      "cell_type": "code",
      "metadata": {
        "id": "XX9U9FplO9Mz"
      },
      "source": [
        "tr_pos = []\n",
        "for t in tr_token :\n",
        "  token_list = []\n",
        "  for c in np.arange(len(t)) :\n",
        "    if t[c][1] in ['VV', 'VCP', 'VCN', 'VA', 'NP', 'NNP', 'NNG', 'MM', 'MAG', 'IC'] :\n",
        "      token_list.append(t[c][0])\n",
        "    else:\n",
        "      pass\n",
        "  tr_pos.append(token_list)"
      ],
      "execution_count": null,
      "outputs": []
    },
    {
      "cell_type": "code",
      "metadata": {
        "id": "1k0mwCDPCqu_"
      },
      "source": [
        "te_pos = []\n",
        "for t in te_token :\n",
        "  token_list = []\n",
        "  for c in np.arange(len(t)) :\n",
        "    if t[c][1] in ['VV', 'VCP', 'VCN', 'VA', 'NP', 'NNP', 'NNG', 'MM', 'MAG', 'IC'] :\n",
        "      token_list.append(t[c][0])\n",
        "    else:\n",
        "      pass\n",
        "  te_pos.append(token_list)"
      ],
      "execution_count": null,
      "outputs": []
    },
    {
      "cell_type": "code",
      "metadata": {
        "id": "4Pjuy1ZqPmZV"
      },
      "source": [
        "from tensorflow.keras.preprocessing.text import Tokenizer\n",
        "from tensorflow.keras.utils import to_categorical\n",
        "from tensorflow.keras.layers import *\n",
        "from tensorflow.keras.models import Sequential, load_model, Model\n",
        "from tensorflow.keras.callbacks import EarlyStopping, ModelCheckpoint,  ReduceLROnPlateau\n",
        "from tensorflow.keras.regularizers import *\n",
        "from tensorflow.keras.preprocessing.sequence import pad_sequences\n",
        "from tensorflow.keras.optimizers import Adam, RMSprop"
      ],
      "execution_count": null,
      "outputs": []
    },
    {
      "cell_type": "code",
      "metadata": {
        "id": "tqaivb8GP98B"
      },
      "source": [
        "tokenizer = Tokenizer()\n",
        "tokenizer.fit_on_texts(tr_pos)"
      ],
      "execution_count": null,
      "outputs": []
    },
    {
      "cell_type": "code",
      "metadata": {
        "colab": {
          "base_uri": "https://localhost:8080/"
        },
        "id": "mlYeK_mYQAzX",
        "outputId": "1c99385a-bd6f-4ac9-c1c8-282d44a41ed9"
      },
      "source": [
        "threshold = 5\n",
        "total_cnt = len(tokenizer.word_index) # 단어의 수\n",
        "rare_cnt = 0 # 등장 빈도수가 threshold보다 작은 단어의 개수를 카운트\n",
        "total_freq = 0 # 훈련 데이터의 전체 단어 빈도수 총 합\n",
        "rare_freq = 0 # 등장 빈도수가 threshold보다 작은 단어의 등장 빈도수의 총 합\n",
        "\n",
        "# 단어와 빈도수의 쌍(pair)을 key와 value로 받는다.\n",
        "for key, value in tokenizer.word_counts.items():\n",
        "    total_freq = total_freq + value\n",
        "\n",
        "    # 단어의 등장 빈도수가 threshold보다 작으면\n",
        "    if(value < threshold):\n",
        "        rare_cnt = rare_cnt + 1\n",
        "        rare_freq = rare_freq + value\n",
        "\n",
        "print('단어 집합(vocabulary)의 크기 :',total_cnt)\n",
        "print('등장 빈도가 %s번 이하인 희귀 단어의 수: %s'%(threshold - 1, rare_cnt))\n",
        "print(\"단어 집합에서 희귀 단어의 비율:\", (rare_cnt / total_cnt)*100)\n",
        "print(\"전체 등장 빈도에서 희귀 단어 등장 빈도 비율:\", (rare_freq / total_freq)*100)"
      ],
      "execution_count": null,
      "outputs": [
        {
          "output_type": "stream",
          "name": "stdout",
          "text": [
            "단어 집합(vocabulary)의 크기 : 4524\n",
            "등장 빈도가 4번 이하인 희귀 단어의 수: 3416\n",
            "단어 집합에서 희귀 단어의 비율: 75.50839964633069\n",
            "전체 등장 빈도에서 희귀 단어 등장 빈도 비율: 16.334590373251775\n"
          ]
        }
      ]
    },
    {
      "cell_type": "code",
      "metadata": {
        "colab": {
          "base_uri": "https://localhost:8080/"
        },
        "id": "yz7U3olrQBwX",
        "outputId": "8f77cb46-8815-4588-d1bf-c4bf91b631ac"
      },
      "source": [
        "vocab_size = total_cnt - rare_cnt + 1 # 전체 단어 개수 중 빈도수 2이하인 단어 개수는 제거. 0번 패딩 토큰을 고려하여 +1\n",
        "print('단어 집합의 크기 :',vocab_size)"
      ],
      "execution_count": null,
      "outputs": [
        {
          "output_type": "stream",
          "name": "stdout",
          "text": [
            "단어 집합의 크기 : 1109\n"
          ]
        }
      ]
    },
    {
      "cell_type": "code",
      "metadata": {
        "id": "hq5RbW9HQDg-"
      },
      "source": [
        "tokenizer = Tokenizer(num_words = vocab_size)\n",
        "tokenizer.fit_on_texts(tr_pos)\n",
        "tr_tokenized = tokenizer.texts_to_sequences(tr_pos)\n",
        "te_tokenized = tokenizer.texts_to_sequences(te_pos)"
      ],
      "execution_count": null,
      "outputs": []
    },
    {
      "cell_type": "code",
      "metadata": {
        "id": "VRfzS2WaQHCD"
      },
      "source": [
        "def below_threshold_len(max_len, nested_list):\n",
        "    cnt = 0\n",
        "    for s in nested_list:\n",
        "        if(len(s) <= max_len):\n",
        "            cnt = cnt + 1\n",
        "    print('전체 샘플 중 길이가 %s 이하인 샘플의 비율: %s'%(max_len, (cnt / len(nested_list))*100))"
      ],
      "execution_count": null,
      "outputs": []
    },
    {
      "cell_type": "code",
      "metadata": {
        "colab": {
          "base_uri": "https://localhost:8080/"
        },
        "id": "P0px5wylQLB_",
        "outputId": "4180fe39-e604-4d82-bc28-5c6b82df9ce1"
      },
      "source": [
        "max_len = 62\n",
        "below_threshold_len(max_len, tr_tokenized)"
      ],
      "execution_count": null,
      "outputs": [
        {
          "output_type": "stream",
          "name": "stdout",
          "text": [
            "전체 샘플 중 길이가 62 이하인 샘플의 비율: 100.0\n"
          ]
        }
      ]
    },
    {
      "cell_type": "code",
      "metadata": {
        "id": "VoAe-rsvQOcb"
      },
      "source": [
        "tr_pt = pad_sequences(tr_tokenized, maxlen = max_len, padding = 'post')\n",
        "te_pt = pad_sequences(te_tokenized, maxlen = max_len, padding = 'post')"
      ],
      "execution_count": null,
      "outputs": []
    },
    {
      "cell_type": "code",
      "metadata": {
        "id": "9p577gLvQqt4"
      },
      "source": [
        "from sklearn.model_selection import train_test_split"
      ],
      "execution_count": null,
      "outputs": []
    },
    {
      "cell_type": "code",
      "metadata": {
        "id": "8FDxfk3zQunh"
      },
      "source": [
        "X_train, X_val, y_train, y_val = train_test_split(tr_pt, train.target, test_size = 0.2, random_state = 42, stratify = train['target'])"
      ],
      "execution_count": null,
      "outputs": []
    },
    {
      "cell_type": "code",
      "metadata": {
        "colab": {
          "base_uri": "https://localhost:8080/"
        },
        "id": "LGY1uPP-QZmj",
        "outputId": "43bcd3f0-dff0-4772-c7f4-9af3ca615a3a"
      },
      "source": [
        "model1 = Sequential()\n",
        "model1.add(Embedding(vocab_size, 64, input_length = max_len))\n",
        "model1.add(Dropout(.25))\n",
        "model1.add(Conv1D(64, 5, activation = 'relu', padding = 'same', kernel_regularizer = l2(0.01)))\n",
        "model1.add(GlobalMaxPooling1D())\n",
        "model1.add(Dense(1, activation = 'sigmoid'))\n",
        "model1.summary()"
      ],
      "execution_count": null,
      "outputs": [
        {
          "output_type": "stream",
          "name": "stdout",
          "text": [
            "Model: \"sequential_2\"\n",
            "_________________________________________________________________\n",
            "Layer (type)                 Output Shape              Param #   \n",
            "=================================================================\n",
            "embedding_2 (Embedding)      (None, 62, 64)            70976     \n",
            "_________________________________________________________________\n",
            "dropout_2 (Dropout)          (None, 62, 64)            0         \n",
            "_________________________________________________________________\n",
            "conv1d_2 (Conv1D)            (None, 62, 64)            20544     \n",
            "_________________________________________________________________\n",
            "global_max_pooling1d_2 (Glob (None, 64)                0         \n",
            "_________________________________________________________________\n",
            "dense_2 (Dense)              (None, 1)                 65        \n",
            "=================================================================\n",
            "Total params: 91,585\n",
            "Trainable params: 91,585\n",
            "Non-trainable params: 0\n",
            "_________________________________________________________________\n"
          ]
        }
      ]
    },
    {
      "cell_type": "code",
      "metadata": {
        "id": "c1CL3jUdQgYe"
      },
      "source": [
        "model1.compile(optimizer = RMSprop(learning_rate = .003), loss='binary_crossentropy', metrics=['accuracy'])\n",
        "reLR = ReduceLROnPlateau(patience = 5, verbose = 1, factor = .95)\n",
        "es = EarlyStopping(monitor = 'val_accuracy', mode = 'max', verbose = 1, patience = 10)\n",
        "mc = ModelCheckpoint(filepath = 'optimum_cnn.h5', monitor = 'val_accuracy', mode = 'max', verbose = 1, save_best_only = True, restore_best_weights = True)"
      ],
      "execution_count": null,
      "outputs": []
    },
    {
      "cell_type": "code",
      "metadata": {
        "id": "Hs3ct8jdQkif"
      },
      "source": [
        "history1 = model1.fit(X_train, y_train, epochs = 200, batch_size = 16, shuffle = True, validation_data = (X_val, y_val), verbose = 1, callbacks = [es, mc])"
      ],
      "execution_count": null,
      "outputs": []
    },
    {
      "cell_type": "code",
      "metadata": {
        "id": "Wn2a-8K5QIxq"
      },
      "source": [
        "best_model = load_model('optimum_cnn.h5')"
      ],
      "execution_count": null,
      "outputs": []
    },
    {
      "cell_type": "code",
      "metadata": {
        "colab": {
          "base_uri": "https://localhost:8080/"
        },
        "id": "dkF_L1L4SBw4",
        "outputId": "55451c41-dc44-4bd3-a934-6b551b56061e"
      },
      "source": [
        "valid_acc = best_model.evaluate(X_val, y_val, batch_size = 16)[1]"
      ],
      "execution_count": null,
      "outputs": [
        {
          "output_type": "stream",
          "name": "stdout",
          "text": [
            "40/40 [==============================] - 0s 3ms/step - loss: 0.3996 - accuracy: 0.8675\n"
          ]
        }
      ]
    },
    {
      "cell_type": "code",
      "metadata": {
        "colab": {
          "base_uri": "https://localhost:8080/"
        },
        "id": "1aTMpsuSSHwe",
        "outputId": "878e8559-4be5-49c6-a49d-c7f83b59fcd5"
      },
      "source": [
        "print(f'검증 데이터 정확도 = {valid_acc}')"
      ],
      "execution_count": null,
      "outputs": [
        {
          "output_type": "stream",
          "name": "stdout",
          "text": [
            "검증 데이터 정확도 = 0.8675078749656677\n"
          ]
        }
      ]
    },
    {
      "cell_type": "code",
      "metadata": {
        "id": "dhV4xxxOSMgc"
      },
      "source": [
        "### Accuracy\n",
        "acc = history1.history['accuracy']\n",
        "val_acc = history1.history['val_accuracy']\n",
        "\n",
        "### Loss\n",
        "loss = history1.history['loss']\n",
        "val_loss = history1.history['val_loss']"
      ],
      "execution_count": null,
      "outputs": []
    },
    {
      "cell_type": "code",
      "metadata": {
        "id": "aAGWLB4NSKDV"
      },
      "source": [
        "import matplotlib.pyplot as plt\n",
        "%matplotlib inline"
      ],
      "execution_count": null,
      "outputs": []
    },
    {
      "cell_type": "code",
      "metadata": {
        "colab": {
          "base_uri": "https://localhost:8080/",
          "height": 265
        },
        "id": "RuTKP2vpSabE",
        "outputId": "94b19434-de25-4cdc-b59a-bf01d7caa611"
      },
      "source": [
        "plt.plot(acc, label = 'Train')\n",
        "plt.plot(val_acc, label = 'Validation')\n",
        "plt.legend()\n",
        "plt.show()"
      ],
      "execution_count": null,
      "outputs": [
        {
          "output_type": "display_data",
          "data": {
            "image/png": "[encoded data removed]",
            "text/plain": [
              "<Figure size 432x288 with 1 Axes>"
            ]
          },
          "metadata": {
            "needs_background": "light"
          }
        }
      ]
    },
    {
      "cell_type": "code",
      "metadata": {
        "colab": {
          "base_uri": "https://localhost:8080/",
          "height": 265
        },
        "id": "q9XRBPFzSgFz",
        "outputId": "dd23ea37-87e2-4dae-cc4b-de5e8a68b56b"
      },
      "source": [
        "plt.plot(loss, label = 'Train')\n",
        "plt.plot(val_loss, label = 'Validation')\n",
        "plt.legend()\n",
        "plt.show()"
      ],
      "execution_count": null,
      "outputs": [
        {
          "output_type": "display_data",
          "data": {
            "image/png": "[encoded data removed]",
            "text/plain": [
              "<Figure size 432x288 with 1 Axes>"
            ]
          },
          "metadata": {
            "needs_background": "light"
          }
        }
      ]
    },
    {
      "cell_type": "code",
      "metadata": {
        "id": "PB9N2B4XD8nq"
      },
      "source": [
        "pred = best_model.predict(te_pt)"
      ],
      "execution_count": null,
      "outputs": []
    },
    {
      "cell_type": "code",
      "metadata": {
        "colab": {
          "base_uri": "https://localhost:8080/"
        },
        "id": "eIqjv0dKEXA1",
        "outputId": "900c196c-e656-47ec-b8da-5fa96099ba49"
      },
      "source": [
        "test['target'] = [1 if p >= 0.5 else 0 for p in pred]"
      ],
      "execution_count": null,
      "outputs": [
        {
          "output_type": "stream",
          "name": "stderr",
          "text": [
            "/usr/local/lib/python3.7/dist-packages/ipykernel_launcher.py:1: SettingWithCopyWarning: \n",
            "A value is trying to be set on a copy of a slice from a DataFrame.\n",
            "Try using .loc[row_indexer,col_indexer] = value instead\n",
            "\n",
            "See the caveats in the documentation: https://pandas.pydata.org/pandas-docs/stable/user_guide/indexing.html#returning-a-view-versus-a-copy\n",
            "  \"\"\"Entry point for launching an IPython kernel.\n"
          ]
        }
      ]
    },
    {
      "cell_type": "code",
      "metadata": {
        "id": "x_vEkmHXJnt-"
      },
      "source": [
        "test.to_csv('결과.csv', index = False)"
      ],
      "execution_count": null,
      "outputs": []
    },
    {
      "cell_type": "code",
      "metadata": {
        "id": "nuPTW_58FLVI"
      },
      "source": [
        "data = pd.concat([train, test], axis = 0, ignore_index = True)"
      ],
      "execution_count": 89,
      "outputs": []
    },
    {
      "cell_type": "code",
      "metadata": {
        "id": "z6LkPP6VJl8O"
      },
      "source": [
        "data.dropna(inplace = True)"
      ],
      "execution_count": 90,
      "outputs": []
    },
    {
      "cell_type": "code",
      "metadata": {
        "id": "gAEAsigwEhJt"
      },
      "source": [
        "data['구독자수'] = data['구독자수'].str[4:-1]"
      ],
      "execution_count": 91,
      "outputs": []
    },
    {
      "cell_type": "code",
      "metadata": {
        "id": "W3MFuew_Eh_z"
      },
      "source": [
        "data['구독자수'] = [10000 * float(x[:-1]) if x[-1] == '만' else 1000 * float(x[:-1]) for x in data['구독자수']]"
      ],
      "execution_count": 92,
      "outputs": []
    },
    {
      "cell_type": "code",
      "metadata": {
        "id": "o6XeoowlEio_"
      },
      "source": [
        "def preprocessing_num(x) :\n",
        "    if x[-2] == '만' :\n",
        "        return int(float(x[:-2]) * 10000)\n",
        "    elif x[-2] == '천' :\n",
        "        return int(float(x[:-2]) * 1000)\n",
        "    else :\n",
        "        return x[:-1]"
      ],
      "execution_count": 93,
      "outputs": []
    },
    {
      "cell_type": "code",
      "metadata": {
        "id": "1g5JOlcuEjTK"
      },
      "source": [
        "data['조회수'] = data.조회수.apply(preprocessing_num).astype(int)"
      ],
      "execution_count": 94,
      "outputs": []
    },
    {
      "cell_type": "code",
      "metadata": {
        "id": "Cdngem37EkKp"
      },
      "source": [
        "data['좋아요'] = data['좋아요'].str.replace(',', '')"
      ],
      "execution_count": 95,
      "outputs": []
    },
    {
      "cell_type": "code",
      "metadata": {
        "id": "tIxC-kv5Ek58"
      },
      "source": [
        "data['좋아요'] = data['좋아요'].str.replace('없음', '0')"
      ],
      "execution_count": 96,
      "outputs": []
    },
    {
      "cell_type": "code",
      "metadata": {
        "id": "jutKoFp1ElhX"
      },
      "source": [
        "data['좋아요'] = [int(re.sub(r'[^0-9]+', ' ', x)) for x in data['좋아요']]"
      ],
      "execution_count": 97,
      "outputs": []
    },
    {
      "cell_type": "code",
      "metadata": {
        "id": "CSZrpAfaEmMT"
      },
      "source": [
        "pn_score = data.groupby('파일명').target.agg(lambda x : sum(x) / np.size(x)).reset_index(name = '긍부정점수')"
      ],
      "execution_count": 98,
      "outputs": []
    },
    {
      "cell_type": "code",
      "metadata": {
        "id": "U0NOzw4cEnF1"
      },
      "source": [
        "l_score = data.groupby('파일명').좋아요.mean().reset_index(name = '좋아요')"
      ],
      "execution_count": 99,
      "outputs": []
    },
    {
      "cell_type": "code",
      "metadata": {
        "id": "upoGPgPnEnz2"
      },
      "source": [
        "sc_score = data.groupby('파일명').구독자수.mean().reset_index(name = '구독자')"
      ],
      "execution_count": 100,
      "outputs": []
    },
    {
      "cell_type": "code",
      "metadata": {
        "id": "OV9_oE9cEoeO"
      },
      "source": [
        "c_score =  data.groupby('파일명').조회수.mean().reset_index(name = '조회수')"
      ],
      "execution_count": 101,
      "outputs": []
    },
    {
      "cell_type": "code",
      "metadata": {
        "id": "zrGqrLyWEpE-"
      },
      "source": [
        "data = data[['카테고리', '채널명', '파일명']]"
      ],
      "execution_count": 102,
      "outputs": []
    },
    {
      "cell_type": "code",
      "metadata": {
        "id": "EZCfEqwYEpun"
      },
      "source": [
        "data = pd.merge(data, pn_score)"
      ],
      "execution_count": 103,
      "outputs": []
    },
    {
      "cell_type": "code",
      "metadata": {
        "id": "UQ2SYtS4EqbA"
      },
      "source": [
        "data = pd.merge(data, l_score)"
      ],
      "execution_count": 104,
      "outputs": []
    },
    {
      "cell_type": "code",
      "metadata": {
        "id": "_dTpY64zErRf"
      },
      "source": [
        "data = pd.merge(data, sc_score)"
      ],
      "execution_count": 105,
      "outputs": []
    },
    {
      "cell_type": "code",
      "metadata": {
        "id": "ylEDk2WGEsCJ"
      },
      "source": [
        "data = pd.merge(data, c_score)"
      ],
      "execution_count": 106,
      "outputs": []
    },
    {
      "cell_type": "code",
      "metadata": {
        "id": "ucIuTVaAEsxE"
      },
      "source": [
        "from sklearn.preprocessing import MinMaxScaler"
      ],
      "execution_count": 107,
      "outputs": []
    },
    {
      "cell_type": "code",
      "metadata": {
        "id": "EJWTAzmcEtdS"
      },
      "source": [
        "scaler = MinMaxScaler()"
      ],
      "execution_count": 108,
      "outputs": []
    },
    {
      "cell_type": "code",
      "metadata": {
        "id": "lg2AoYj8EuPt"
      },
      "source": [
        "data['긍부정점수'] = scaler.fit_transform(data[['긍부정점수']]) * 30"
      ],
      "execution_count": 109,
      "outputs": []
    },
    {
      "cell_type": "code",
      "metadata": {
        "id": "pJ48EWAJEvJ4"
      },
      "source": [
        "data['구독자'] = scaler.fit_transform(data[['구독자']]) * 25"
      ],
      "execution_count": 110,
      "outputs": []
    },
    {
      "cell_type": "code",
      "metadata": {
        "id": "ithrjNtbEx_B"
      },
      "source": [
        "data['조회수'] = scaler.fit_transform(data[['조회수']]) * 30"
      ],
      "execution_count": 111,
      "outputs": []
    },
    {
      "cell_type": "code",
      "metadata": {
        "id": "CY-eEJieEys3"
      },
      "source": [
        "data['좋아요'] = scaler.fit_transform(data[['좋아요']]) * 15"
      ],
      "execution_count": 112,
      "outputs": []
    },
    {
      "cell_type": "code",
      "metadata": {
        "id": "XXML8HseEzS3"
      },
      "source": [
        "data['종합점수'] = data.iloc[:, 3:].sum(axis = 1)"
      ],
      "execution_count": 113,
      "outputs": []
    },
    {
      "cell_type": "code",
      "metadata": {
        "id": "mBw6p5IHFhYj"
      },
      "source": [
        "result = data.groupby(['카테고리', '채널명']).종합점수.mean().reset_index()"
      ],
      "execution_count": 114,
      "outputs": []
    },
    {
      "cell_type": "code",
      "metadata": {
        "colab": {
          "base_uri": "https://localhost:8080/",
          "height": 1000
        },
        "id": "rYuCxPUTE0BE",
        "outputId": "0badfd51-b684-4685-d646-15fb1fe95d6d"
      },
      "source": [
        "for category in result['카테고리'].unique() :\n",
        "  print(f'\\n\\n{category} 종합 점수 상위 5개 채널')\n",
        "  display(result[result.카테고리 == category].sort_values(by = '종합점수', ascending = False).head(5))"
      ],
      "execution_count": 122,
      "outputs": [
        {
          "output_type": "stream",
          "name": "stdout",
          "text": [
            "\n",
            "\n",
            "IT 제품 종합 점수 상위 5개 채널\n"
          ]
        },
        {
          "output_type": "display_data",
          "data": {
            "text/html": [
              "<div>\n",
              "<style scoped>\n",
              "    .dataframe tbody tr th:only-of-type {\n",
              "        vertical-align: middle;\n",
              "    }\n",
              "\n",
              "    .dataframe tbody tr th {\n",
              "        vertical-align: top;\n",
              "    }\n",
              "\n",
              "    .dataframe thead th {\n",
              "        text-align: right;\n",
              "    }\n",
              "</style>\n",
              "<table border=\"1\" class=\"dataframe\">\n",
              "  <thead>\n",
              "    <tr style=\"text-align: right;\">\n",
              "      <th></th>\n",
              "      <th>카테고리</th>\n",
              "      <th>채널명</th>\n",
              "      <th>종합점수</th>\n",
              "    </tr>\n",
              "  </thead>\n",
              "  <tbody>\n",
              "    <tr>\n",
              "      <th>2</th>\n",
              "      <td>IT 제품</td>\n",
              "      <td>ITSub잇섭</td>\n",
              "      <td>34.430440</td>\n",
              "    </tr>\n",
              "    <tr>\n",
              "      <th>20</th>\n",
              "      <td>IT 제품</td>\n",
              "      <td>테크몽 Techmong</td>\n",
              "      <td>31.599616</td>\n",
              "    </tr>\n",
              "    <tr>\n",
              "      <th>3</th>\n",
              "      <td>IT 제품</td>\n",
              "      <td>Liah Yoo</td>\n",
              "      <td>30.922102</td>\n",
              "    </tr>\n",
              "    <tr>\n",
              "      <th>7</th>\n",
              "      <td>IT 제품</td>\n",
              "      <td>노컷브이</td>\n",
              "      <td>30.467120</td>\n",
              "    </tr>\n",
              "    <tr>\n",
              "      <th>12</th>\n",
              "      <td>IT 제품</td>\n",
              "      <td>슈퍼개미 배진한 레슨몬TV</td>\n",
              "      <td>30.271566</td>\n",
              "    </tr>\n",
              "  </tbody>\n",
              "</table>\n",
              "</div>"
            ],
            "text/plain": [
              "     카테고리             채널명       종합점수\n",
              "2   IT 제품         ITSub잇섭  34.430440\n",
              "20  IT 제품    테크몽 Techmong  31.599616\n",
              "3   IT 제품        Liah Yoo  30.922102\n",
              "7   IT 제품            노컷브이  30.467120\n",
              "12  IT 제품  슈퍼개미 배진한 레슨몬TV  30.271566"
            ]
          },
          "metadata": {}
        },
        {
          "output_type": "stream",
          "name": "stdout",
          "text": [
            "\n",
            "\n",
            "OOTD 종합 점수 상위 5개 채널\n"
          ]
        },
        {
          "output_type": "display_data",
          "data": {
            "text/html": [
              "<div>\n",
              "<style scoped>\n",
              "    .dataframe tbody tr th:only-of-type {\n",
              "        vertical-align: middle;\n",
              "    }\n",
              "\n",
              "    .dataframe tbody tr th {\n",
              "        vertical-align: top;\n",
              "    }\n",
              "\n",
              "    .dataframe thead th {\n",
              "        text-align: right;\n",
              "    }\n",
              "</style>\n",
              "<table border=\"1\" class=\"dataframe\">\n",
              "  <thead>\n",
              "    <tr style=\"text-align: right;\">\n",
              "      <th></th>\n",
              "      <th>카테고리</th>\n",
              "      <th>채널명</th>\n",
              "      <th>종합점수</th>\n",
              "    </tr>\n",
              "  </thead>\n",
              "  <tbody>\n",
              "    <tr>\n",
              "      <th>21</th>\n",
              "      <td>OOTD</td>\n",
              "      <td>1theK (원더케이)</td>\n",
              "      <td>56.049453</td>\n",
              "    </tr>\n",
              "    <tr>\n",
              "      <th>40</th>\n",
              "      <td>OOTD</td>\n",
              "      <td>TRANS7 OFFICIAL</td>\n",
              "      <td>52.681457</td>\n",
              "    </tr>\n",
              "    <tr>\n",
              "      <th>32</th>\n",
              "      <td>OOTD</td>\n",
              "      <td>KBS WORLD TV</td>\n",
              "      <td>48.058331</td>\n",
              "    </tr>\n",
              "    <tr>\n",
              "      <th>35</th>\n",
              "      <td>OOTD</td>\n",
              "      <td>NCT</td>\n",
              "      <td>45.026904</td>\n",
              "    </tr>\n",
              "    <tr>\n",
              "      <th>22</th>\n",
              "      <td>OOTD</td>\n",
              "      <td>ALL THE K-POP</td>\n",
              "      <td>36.935229</td>\n",
              "    </tr>\n",
              "  </tbody>\n",
              "</table>\n",
              "</div>"
            ],
            "text/plain": [
              "    카테고리              채널명       종합점수\n",
              "21  OOTD     1theK (원더케이)  56.049453\n",
              "40  OOTD  TRANS7 OFFICIAL  52.681457\n",
              "32  OOTD     KBS WORLD TV  48.058331\n",
              "35  OOTD              NCT  45.026904\n",
              "22  OOTD    ALL THE K-POP  36.935229"
            ]
          },
          "metadata": {}
        },
        {
          "output_type": "stream",
          "name": "stdout",
          "text": [
            "\n",
            "\n",
            "남자 패션 종합 점수 상위 5개 채널\n"
          ]
        },
        {
          "output_type": "display_data",
          "data": {
            "text/html": [
              "<div>\n",
              "<style scoped>\n",
              "    .dataframe tbody tr th:only-of-type {\n",
              "        vertical-align: middle;\n",
              "    }\n",
              "\n",
              "    .dataframe tbody tr th {\n",
              "        vertical-align: top;\n",
              "    }\n",
              "\n",
              "    .dataframe thead th {\n",
              "        text-align: right;\n",
              "    }\n",
              "</style>\n",
              "<table border=\"1\" class=\"dataframe\">\n",
              "  <thead>\n",
              "    <tr style=\"text-align: right;\">\n",
              "      <th></th>\n",
              "      <th>카테고리</th>\n",
              "      <th>채널명</th>\n",
              "      <th>종합점수</th>\n",
              "    </tr>\n",
              "  </thead>\n",
              "  <tbody>\n",
              "    <tr>\n",
              "      <th>93</th>\n",
              "      <td>남자 패션</td>\n",
              "      <td>하이틴에이저 Hi-teenager</td>\n",
              "      <td>73.199956</td>\n",
              "    </tr>\n",
              "    <tr>\n",
              "      <th>83</th>\n",
              "      <td>남자 패션</td>\n",
              "      <td>올리버쌤</td>\n",
              "      <td>37.334660</td>\n",
              "    </tr>\n",
              "    <tr>\n",
              "      <th>89</th>\n",
              "      <td>남자 패션</td>\n",
              "      <td>키작은 광자</td>\n",
              "      <td>34.767734</td>\n",
              "    </tr>\n",
              "    <tr>\n",
              "      <th>87</th>\n",
              "      <td>남자 패션</td>\n",
              "      <td>코디메이커피로</td>\n",
              "      <td>33.885979</td>\n",
              "    </tr>\n",
              "    <tr>\n",
              "      <th>68</th>\n",
              "      <td>남자 패션</td>\n",
              "      <td>깡스타일리스트</td>\n",
              "      <td>32.631773</td>\n",
              "    </tr>\n",
              "  </tbody>\n",
              "</table>\n",
              "</div>"
            ],
            "text/plain": [
              "     카테고리                 채널명       종합점수\n",
              "93  남자 패션  하이틴에이저 Hi-teenager  73.199956\n",
              "83  남자 패션                올리버쌤  37.334660\n",
              "89  남자 패션              키작은 광자  34.767734\n",
              "87  남자 패션             코디메이커피로  33.885979\n",
              "68  남자 패션             깡스타일리스트  32.631773"
            ]
          },
          "metadata": {}
        },
        {
          "output_type": "stream",
          "name": "stdout",
          "text": [
            "\n",
            "\n",
            "노트북 종합 점수 상위 5개 채널\n"
          ]
        },
        {
          "output_type": "display_data",
          "data": {
            "text/html": [
              "<div>\n",
              "<style scoped>\n",
              "    .dataframe tbody tr th:only-of-type {\n",
              "        vertical-align: middle;\n",
              "    }\n",
              "\n",
              "    .dataframe tbody tr th {\n",
              "        vertical-align: top;\n",
              "    }\n",
              "\n",
              "    .dataframe thead th {\n",
              "        text-align: right;\n",
              "    }\n",
              "</style>\n",
              "<table border=\"1\" class=\"dataframe\">\n",
              "  <thead>\n",
              "    <tr style=\"text-align: right;\">\n",
              "      <th></th>\n",
              "      <th>카테고리</th>\n",
              "      <th>채널명</th>\n",
              "      <th>종합점수</th>\n",
              "    </tr>\n",
              "  </thead>\n",
              "  <tbody>\n",
              "    <tr>\n",
              "      <th>105</th>\n",
              "      <td>노트북</td>\n",
              "      <td>주연 ZUYONI</td>\n",
              "      <td>31.860022</td>\n",
              "    </tr>\n",
              "    <tr>\n",
              "      <th>97</th>\n",
              "      <td>노트북</td>\n",
              "      <td>ITSub잇섭</td>\n",
              "      <td>30.796295</td>\n",
              "    </tr>\n",
              "    <tr>\n",
              "      <th>109</th>\n",
              "      <td>노트북</td>\n",
              "      <td>한대표</td>\n",
              "      <td>26.064085</td>\n",
              "    </tr>\n",
              "    <tr>\n",
              "      <th>103</th>\n",
              "      <td>노트북</td>\n",
              "      <td>이퓨</td>\n",
              "      <td>24.834830</td>\n",
              "    </tr>\n",
              "    <tr>\n",
              "      <th>106</th>\n",
              "      <td>노트북</td>\n",
              "      <td>탐구생활 - 돈이 되는 삶의 이야기</td>\n",
              "      <td>23.485946</td>\n",
              "    </tr>\n",
              "  </tbody>\n",
              "</table>\n",
              "</div>"
            ],
            "text/plain": [
              "    카테고리                  채널명       종합점수\n",
              "105  노트북            주연 ZUYONI  31.860022\n",
              "97   노트북              ITSub잇섭  30.796295\n",
              "109  노트북                  한대표  26.064085\n",
              "103  노트북                   이퓨  24.834830\n",
              "106  노트북  탐구생활 - 돈이 되는 삶의 이야기  23.485946"
            ]
          },
          "metadata": {}
        },
        {
          "output_type": "stream",
          "name": "stdout",
          "text": [
            "\n",
            "\n",
            "모바일 종합 점수 상위 5개 채널\n"
          ]
        },
        {
          "output_type": "display_data",
          "data": {
            "text/html": [
              "<div>\n",
              "<style scoped>\n",
              "    .dataframe tbody tr th:only-of-type {\n",
              "        vertical-align: middle;\n",
              "    }\n",
              "\n",
              "    .dataframe tbody tr th {\n",
              "        vertical-align: top;\n",
              "    }\n",
              "\n",
              "    .dataframe thead th {\n",
              "        text-align: right;\n",
              "    }\n",
              "</style>\n",
              "<table border=\"1\" class=\"dataframe\">\n",
              "  <thead>\n",
              "    <tr style=\"text-align: right;\">\n",
              "      <th></th>\n",
              "      <th>카테고리</th>\n",
              "      <th>채널명</th>\n",
              "      <th>종합점수</th>\n",
              "    </tr>\n",
              "  </thead>\n",
              "  <tbody>\n",
              "    <tr>\n",
              "      <th>117</th>\n",
              "      <td>모바일</td>\n",
              "      <td>김시선</td>\n",
              "      <td>61.649785</td>\n",
              "    </tr>\n",
              "    <tr>\n",
              "      <th>128</th>\n",
              "      <td>모바일</td>\n",
              "      <td>비누TV</td>\n",
              "      <td>36.490987</td>\n",
              "    </tr>\n",
              "    <tr>\n",
              "      <th>138</th>\n",
              "      <td>모바일</td>\n",
              "      <td>키에커</td>\n",
              "      <td>33.756348</td>\n",
              "    </tr>\n",
              "    <tr>\n",
              "      <th>110</th>\n",
              "      <td>모바일</td>\n",
              "      <td>Betosky</td>\n",
              "      <td>32.755903</td>\n",
              "    </tr>\n",
              "    <tr>\n",
              "      <th>112</th>\n",
              "      <td>모바일</td>\n",
              "      <td>Mobile Moba</td>\n",
              "      <td>30.984203</td>\n",
              "    </tr>\n",
              "  </tbody>\n",
              "</table>\n",
              "</div>"
            ],
            "text/plain": [
              "    카테고리          채널명       종합점수\n",
              "117  모바일          김시선  61.649785\n",
              "128  모바일         비누TV  36.490987\n",
              "138  모바일          키에커  33.756348\n",
              "110  모바일      Betosky  32.755903\n",
              "112  모바일  Mobile Moba  30.984203"
            ]
          },
          "metadata": {}
        },
        {
          "output_type": "stream",
          "name": "stdout",
          "text": [
            "\n",
            "\n",
            "여자 패션 종합 점수 상위 5개 채널\n"
          ]
        },
        {
          "output_type": "display_data",
          "data": {
            "text/html": [
              "<div>\n",
              "<style scoped>\n",
              "    .dataframe tbody tr th:only-of-type {\n",
              "        vertical-align: middle;\n",
              "    }\n",
              "\n",
              "    .dataframe tbody tr th {\n",
              "        vertical-align: top;\n",
              "    }\n",
              "\n",
              "    .dataframe thead th {\n",
              "        text-align: right;\n",
              "    }\n",
              "</style>\n",
              "<table border=\"1\" class=\"dataframe\">\n",
              "  <thead>\n",
              "    <tr style=\"text-align: right;\">\n",
              "      <th></th>\n",
              "      <th>카테고리</th>\n",
              "      <th>채널명</th>\n",
              "      <th>종합점수</th>\n",
              "    </tr>\n",
              "  </thead>\n",
              "  <tbody>\n",
              "    <tr>\n",
              "      <th>163</th>\n",
              "      <td>여자 패션</td>\n",
              "      <td>짤툰</td>\n",
              "      <td>38.881757</td>\n",
              "    </tr>\n",
              "    <tr>\n",
              "      <th>159</th>\n",
              "      <td>여자 패션</td>\n",
              "      <td>우왁굳의 게임방송</td>\n",
              "      <td>35.937224</td>\n",
              "    </tr>\n",
              "    <tr>\n",
              "      <th>161</th>\n",
              "      <td>여자 패션</td>\n",
              "      <td>잼스터</td>\n",
              "      <td>35.791365</td>\n",
              "    </tr>\n",
              "    <tr>\n",
              "      <th>165</th>\n",
              "      <td>여자 패션</td>\n",
              "      <td>코리안브로스</td>\n",
              "      <td>35.683273</td>\n",
              "    </tr>\n",
              "    <tr>\n",
              "      <th>147</th>\n",
              "      <td>여자 패션</td>\n",
              "      <td>깡스타일리스트</td>\n",
              "      <td>33.628820</td>\n",
              "    </tr>\n",
              "  </tbody>\n",
              "</table>\n",
              "</div>"
            ],
            "text/plain": [
              "      카테고리        채널명       종합점수\n",
              "163  여자 패션         짤툰  38.881757\n",
              "159  여자 패션  우왁굳의 게임방송  35.937224\n",
              "161  여자 패션        잼스터  35.791365\n",
              "165  여자 패션     코리안브로스  35.683273\n",
              "147  여자 패션    깡스타일리스트  33.628820"
            ]
          },
          "metadata": {}
        }
      ]
    }
  ]
}