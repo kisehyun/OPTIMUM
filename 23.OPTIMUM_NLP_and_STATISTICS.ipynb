{
 "cells": [
  {
   "cell_type": "code",
   "execution_count": 301,
   "id": "a7e846f0",
   "metadata": {},
   "outputs": [],
   "source": [
    "import pandas as pd\n",
    "import numpy as np\n",
    "from konlpy.tag import Mecab\n",
    "from collections import Counter\n",
    "import warnings\n",
    "warnings.filterwarnings('ignore')\n",
    "import re"
   ]
  },
  {
   "cell_type": "code",
   "execution_count": 187,
   "id": "d0773a35",
   "metadata": {},
   "outputs": [],
   "source": [
    "mecab = Mecab()"
   ]
  },
  {
   "cell_type": "code",
   "execution_count": 188,
   "id": "e8a9bac3",
   "metadata": {},
   "outputs": [],
   "source": [
    "def make_tokens(data) :\n",
    "    all_tokens = []\n",
    "    for r in data['review'] :\n",
    "        tokens = mecab.pos(r)\n",
    "        pos_token = []\n",
    "        for token in tokens :\n",
    "            if token[1].startswith('N') or token[1].startswith('V') or token[1].startswith('M') :\n",
    "                pos_token.append(token[0])\n",
    "            else :\n",
    "                pass\n",
    "        all_tokens.append(pos_token)\n",
    "        \n",
    "    data['token'] = all_tokens\n",
    "    \n",
    "    return data"
   ]
  },
  {
   "cell_type": "markdown",
   "id": "84414fbf",
   "metadata": {},
   "source": [
    "- Mecab 형태소 분석기를 활용해서 동사(V), 부사(M), 명사(N)만 추출합니다."
   ]
  },
  {
   "cell_type": "code",
   "execution_count": 265,
   "id": "c5253c66",
   "metadata": {},
   "outputs": [],
   "source": [
    "price = pd.read_excel('가격.xlsx')\n",
    "price['리뷰카테고리'] = '가격'"
   ]
  },
  {
   "cell_type": "markdown",
   "id": "b04b5ea5",
   "metadata": {},
   "source": [
    "- 가격 데이터를 불러오고 리뷰카테고리 열을 만들어 '가격'이라는 문자로 채웁니다."
   ]
  },
  {
   "cell_type": "code",
   "execution_count": 266,
   "id": "9934d2ca",
   "metadata": {},
   "outputs": [],
   "source": [
    "price = make_tokens(price)"
   ]
  },
  {
   "cell_type": "code",
   "execution_count": 267,
   "id": "173df638",
   "metadata": {
    "scrolled": true
   },
   "outputs": [
    {
     "data": {
      "text/html": [
       "<div>\n",
       "<style scoped>\n",
       "    .dataframe tbody tr th:only-of-type {\n",
       "        vertical-align: middle;\n",
       "    }\n",
       "\n",
       "    .dataframe tbody tr th {\n",
       "        vertical-align: top;\n",
       "    }\n",
       "\n",
       "    .dataframe thead th {\n",
       "        text-align: right;\n",
       "    }\n",
       "</style>\n",
       "<table border=\"1\" class=\"dataframe\">\n",
       "  <thead>\n",
       "    <tr style=\"text-align: right;\">\n",
       "      <th></th>\n",
       "      <th>score</th>\n",
       "      <th>review</th>\n",
       "      <th>y</th>\n",
       "      <th>리뷰카테고리</th>\n",
       "      <th>token</th>\n",
       "    </tr>\n",
       "  </thead>\n",
       "  <tbody>\n",
       "    <tr>\n",
       "      <th>0</th>\n",
       "      <td>5</td>\n",
       "      <td>넘버즈인 클렌징오일도 정말 제가 애정하는 인생템입니다~~!! 처음에 넘버즈인이라는 ...</td>\n",
       "      <td>1</td>\n",
       "      <td>가격</td>\n",
       "      <td>[넘버, 즈인, 클렌징, 오일, 정말, 제, 애정, 인생, 템, 입니다, 처음, 넘...</td>\n",
       "    </tr>\n",
       "    <tr>\n",
       "      <th>1</th>\n",
       "      <td>5</td>\n",
       "      <td>저는 복합성 피부를 가지고 있는데요, 이 클렌징 오일은 정말 인생템이에요~~!! 사...</td>\n",
       "      <td>1</td>\n",
       "      <td>가격</td>\n",
       "      <td>[저, 복합, 피부, 가지, 있, 클렌징, 오일, 정말, 인생, 템, 이, 사실, ...</td>\n",
       "    </tr>\n",
       "    <tr>\n",
       "      <th>2</th>\n",
       "      <td>5</td>\n",
       "      <td>클렌징폼이 지겨울때쯤 유투버의 추천으로 사용하게\\n\\n됐습니다. 기름은 기름으로 지...</td>\n",
       "      <td>1</td>\n",
       "      <td>가격</td>\n",
       "      <td>[클렌징, 폼, 지겨울, 때, 유투, 버, 추천, 사용, 됐, 기름, 기름, 지워야...</td>\n",
       "    </tr>\n",
       "  </tbody>\n",
       "</table>\n",
       "</div>"
      ],
      "text/plain": [
       "   score                                             review  y 리뷰카테고리  \\\n",
       "0      5  넘버즈인 클렌징오일도 정말 제가 애정하는 인생템입니다~~!! 처음에 넘버즈인이라는 ...  1     가격   \n",
       "1      5  저는 복합성 피부를 가지고 있는데요, 이 클렌징 오일은 정말 인생템이에요~~!! 사...  1     가격   \n",
       "2      5  클렌징폼이 지겨울때쯤 유투버의 추천으로 사용하게\\n\\n됐습니다. 기름은 기름으로 지...  1     가격   \n",
       "\n",
       "                                               token  \n",
       "0  [넘버, 즈인, 클렌징, 오일, 정말, 제, 애정, 인생, 템, 입니다, 처음, 넘...  \n",
       "1  [저, 복합, 피부, 가지, 있, 클렌징, 오일, 정말, 인생, 템, 이, 사실, ...  \n",
       "2  [클렌징, 폼, 지겨울, 때, 유투, 버, 추천, 사용, 됐, 기름, 기름, 지워야...  "
      ]
     },
     "execution_count": 267,
     "metadata": {},
     "output_type": "execute_result"
    }
   ],
   "source": [
    "price.head(3)"
   ]
  },
  {
   "cell_type": "markdown",
   "id": "5c54c653",
   "metadata": {},
   "source": [
    "***"
   ]
  },
  {
   "cell_type": "code",
   "execution_count": 268,
   "id": "b5a6ca72",
   "metadata": {},
   "outputs": [],
   "source": [
    "cap = pd.read_excel('용량.xlsx')\n",
    "cap['리뷰카테고리'] = '용량'"
   ]
  },
  {
   "cell_type": "markdown",
   "id": "47e90561",
   "metadata": {},
   "source": [
    "- 용량 데이터를 불러오고 리뷰카테고리 열을 만들어 '용량'이라는 문자로 채웁니다."
   ]
  },
  {
   "cell_type": "code",
   "execution_count": 269,
   "id": "c630f22e",
   "metadata": {},
   "outputs": [],
   "source": [
    "cap['y'] = cap.iloc[:, -2]\n",
    "cap.drop('Unnamed: 2', axis = 1, inplace = True)"
   ]
  },
  {
   "cell_type": "markdown",
   "id": "f34e8b46",
   "metadata": {},
   "source": [
    "- \"Unnmaed: 2\" 컬럼이 y 값을 의미하므로 \"y\" 변수를 만들어주고 기존의 \"Unnamed: 2\" 변수를 삭제합니다."
   ]
  },
  {
   "cell_type": "code",
   "execution_count": 270,
   "id": "0ece08ea",
   "metadata": {
    "scrolled": true
   },
   "outputs": [],
   "source": [
    "cap = make_tokens(cap)"
   ]
  },
  {
   "cell_type": "code",
   "execution_count": 271,
   "id": "e6a2112a",
   "metadata": {},
   "outputs": [
    {
     "data": {
      "text/html": [
       "<div>\n",
       "<style scoped>\n",
       "    .dataframe tbody tr th:only-of-type {\n",
       "        vertical-align: middle;\n",
       "    }\n",
       "\n",
       "    .dataframe tbody tr th {\n",
       "        vertical-align: top;\n",
       "    }\n",
       "\n",
       "    .dataframe thead th {\n",
       "        text-align: right;\n",
       "    }\n",
       "</style>\n",
       "<table border=\"1\" class=\"dataframe\">\n",
       "  <thead>\n",
       "    <tr style=\"text-align: right;\">\n",
       "      <th></th>\n",
       "      <th>score</th>\n",
       "      <th>review</th>\n",
       "      <th>리뷰카테고리</th>\n",
       "      <th>y</th>\n",
       "      <th>token</th>\n",
       "    </tr>\n",
       "  </thead>\n",
       "  <tbody>\n",
       "    <tr>\n",
       "      <th>0</th>\n",
       "      <td>5.0</td>\n",
       "      <td>??방랑생활?끝?피지타파?새?인생클렌징오일??\\n\\n메이크업을?즐기는?편이라?클렌징...</td>\n",
       "      <td>용량</td>\n",
       "      <td>1</td>\n",
       "      <td>[방랑, 생활, 끝, 피지, 타파, 새, 인생, 클렌징, 오, 일, 메이크업, 즐기...</td>\n",
       "    </tr>\n",
       "    <tr>\n",
       "      <th>1</th>\n",
       "      <td>4.0</td>\n",
       "      <td>유튜버분?영상?보고?한?번?구매해보자~하는?마음에?샀는데?무슨일이에요….?너무?좋아...</td>\n",
       "      <td>용량</td>\n",
       "      <td>1</td>\n",
       "      <td>[유, 튜버, 분, 영상, 보, 한, 번, 구매, 보, 하, 마음, 샀, 무슨, 일...</td>\n",
       "    </tr>\n",
       "    <tr>\n",
       "      <th>2</th>\n",
       "      <td>5.0</td>\n",
       "      <td>넘버즈인이?SNS에?광고?정말?많이?하죠.?비슷한?시기에?쭉?풀리는가?싶다가도?또?...</td>\n",
       "      <td>용량</td>\n",
       "      <td>1</td>\n",
       "      <td>[넘버, 즈인, 이, 광고, 정말, 많이, 하, 시기, 쭉, 풀리, 싶, 또, 시간...</td>\n",
       "    </tr>\n",
       "  </tbody>\n",
       "</table>\n",
       "</div>"
      ],
      "text/plain": [
       "   score                                             review 리뷰카테고리  y  \\\n",
       "0    5.0  ??방랑생활?끝?피지타파?새?인생클렌징오일??\\n\\n메이크업을?즐기는?편이라?클렌징...     용량  1   \n",
       "1    4.0  유튜버분?영상?보고?한?번?구매해보자~하는?마음에?샀는데?무슨일이에요….?너무?좋아...     용량  1   \n",
       "2    5.0  넘버즈인이?SNS에?광고?정말?많이?하죠.?비슷한?시기에?쭉?풀리는가?싶다가도?또?...     용량  1   \n",
       "\n",
       "                                               token  \n",
       "0  [방랑, 생활, 끝, 피지, 타파, 새, 인생, 클렌징, 오, 일, 메이크업, 즐기...  \n",
       "1  [유, 튜버, 분, 영상, 보, 한, 번, 구매, 보, 하, 마음, 샀, 무슨, 일...  \n",
       "2  [넘버, 즈인, 이, 광고, 정말, 많이, 하, 시기, 쭉, 풀리, 싶, 또, 시간...  "
      ]
     },
     "execution_count": 271,
     "metadata": {},
     "output_type": "execute_result"
    }
   ],
   "source": [
    "cap.head(3)"
   ]
  },
  {
   "cell_type": "markdown",
   "id": "64fdfb01",
   "metadata": {},
   "source": [
    "***"
   ]
  },
  {
   "cell_type": "code",
   "execution_count": 272,
   "id": "d5254546",
   "metadata": {},
   "outputs": [],
   "source": [
    "brand = pd.read_excel('브랜드.xlsx').dropna()\n",
    "brand['리뷰카테고리'] = '브랜드'"
   ]
  },
  {
   "cell_type": "markdown",
   "id": "0dbe1a09",
   "metadata": {},
   "source": [
    "- 브랜드 데이터를 불러오고 리뷰카테고리 변수에 '브랜드'라는 문자열로 채워줍니다."
   ]
  },
  {
   "cell_type": "code",
   "execution_count": 273,
   "id": "a1e2db58",
   "metadata": {
    "scrolled": true
   },
   "outputs": [],
   "source": [
    "brand = make_tokens(brand)"
   ]
  },
  {
   "cell_type": "code",
   "execution_count": 274,
   "id": "416b8a14",
   "metadata": {},
   "outputs": [
    {
     "data": {
      "text/html": [
       "<div>\n",
       "<style scoped>\n",
       "    .dataframe tbody tr th:only-of-type {\n",
       "        vertical-align: middle;\n",
       "    }\n",
       "\n",
       "    .dataframe tbody tr th {\n",
       "        vertical-align: top;\n",
       "    }\n",
       "\n",
       "    .dataframe thead th {\n",
       "        text-align: right;\n",
       "    }\n",
       "</style>\n",
       "<table border=\"1\" class=\"dataframe\">\n",
       "  <thead>\n",
       "    <tr style=\"text-align: right;\">\n",
       "      <th></th>\n",
       "      <th>score</th>\n",
       "      <th>review</th>\n",
       "      <th>y</th>\n",
       "      <th>리뷰카테고리</th>\n",
       "      <th>token</th>\n",
       "    </tr>\n",
       "  </thead>\n",
       "  <tbody>\n",
       "    <tr>\n",
       "      <th>0</th>\n",
       "      <td>4.0</td>\n",
       "      <td>시트는 안 두껍고, 얼굴에 잘 밀착되고 에센스의 양도 미친듯이 많은 것은 아니지만 ...</td>\n",
       "      <td>1.0</td>\n",
       "      <td>브랜드</td>\n",
       "      <td>[시트, 안, 두껍, 얼굴, 잘, 밀착, 에센스, 양도, 미친, 듯이, 많, 것, ...</td>\n",
       "    </tr>\n",
       "    <tr>\n",
       "      <th>1</th>\n",
       "      <td>5.0</td>\n",
       "      <td>메디힐 팩 유명한거야 말할필요도 없고 늘 쟁여놓고 쓰는 브랜드입니당 \\n메디힐이 워...</td>\n",
       "      <td>1.0</td>\n",
       "      <td>브랜드</td>\n",
       "      <td>[메디, 힐, 팩, 거, 야, 말, 필요, 없, 늘, 쟁여, 놓, 쓰, 브랜드, 입...</td>\n",
       "    </tr>\n",
       "    <tr>\n",
       "      <th>2</th>\n",
       "      <td>5.0</td>\n",
       "      <td>아마 장수로 따지면 .. 500장 넘게 썼다해도 과언이 아닐만큼 죽어라고 쓰고있는 ...</td>\n",
       "      <td>1.0</td>\n",
       "      <td>브랜드</td>\n",
       "      <td>[아마, 장수로, 따지, 장, 넘, 썼, 해도, 과언, 아닐, 만큼, 죽, 쓰, 있...</td>\n",
       "    </tr>\n",
       "  </tbody>\n",
       "</table>\n",
       "</div>"
      ],
      "text/plain": [
       "   score                                             review    y 리뷰카테고리  \\\n",
       "0    4.0  시트는 안 두껍고, 얼굴에 잘 밀착되고 에센스의 양도 미친듯이 많은 것은 아니지만 ...  1.0    브랜드   \n",
       "1    5.0  메디힐 팩 유명한거야 말할필요도 없고 늘 쟁여놓고 쓰는 브랜드입니당 \\n메디힐이 워...  1.0    브랜드   \n",
       "2    5.0  아마 장수로 따지면 .. 500장 넘게 썼다해도 과언이 아닐만큼 죽어라고 쓰고있는 ...  1.0    브랜드   \n",
       "\n",
       "                                               token  \n",
       "0  [시트, 안, 두껍, 얼굴, 잘, 밀착, 에센스, 양도, 미친, 듯이, 많, 것, ...  \n",
       "1  [메디, 힐, 팩, 거, 야, 말, 필요, 없, 늘, 쟁여, 놓, 쓰, 브랜드, 입...  \n",
       "2  [아마, 장수로, 따지, 장, 넘, 썼, 해도, 과언, 아닐, 만큼, 죽, 쓰, 있...  "
      ]
     },
     "execution_count": 274,
     "metadata": {},
     "output_type": "execute_result"
    }
   ],
   "source": [
    "brand.head(3)"
   ]
  },
  {
   "cell_type": "markdown",
   "id": "7adbd59c",
   "metadata": {},
   "source": [
    "***"
   ]
  },
  {
   "cell_type": "code",
   "execution_count": 275,
   "id": "d44bd499",
   "metadata": {},
   "outputs": [],
   "source": [
    "sent = pd.read_excel('향.xlsx').dropna()\n",
    "sent['리뷰카테고리'] = '향'"
   ]
  },
  {
   "cell_type": "markdown",
   "id": "d624e748",
   "metadata": {},
   "source": [
    "- 향 데이터를 불러오고 리뷰카테고리 변수에 '향'이라는 문자열로 채워줍니다."
   ]
  },
  {
   "cell_type": "code",
   "execution_count": 276,
   "id": "aa78d811",
   "metadata": {
    "scrolled": true
   },
   "outputs": [],
   "source": [
    "sent = make_tokens(sent)"
   ]
  },
  {
   "cell_type": "code",
   "execution_count": 277,
   "id": "0fac55e7",
   "metadata": {},
   "outputs": [
    {
     "data": {
      "text/html": [
       "<div>\n",
       "<style scoped>\n",
       "    .dataframe tbody tr th:only-of-type {\n",
       "        vertical-align: middle;\n",
       "    }\n",
       "\n",
       "    .dataframe tbody tr th {\n",
       "        vertical-align: top;\n",
       "    }\n",
       "\n",
       "    .dataframe thead th {\n",
       "        text-align: right;\n",
       "    }\n",
       "</style>\n",
       "<table border=\"1\" class=\"dataframe\">\n",
       "  <thead>\n",
       "    <tr style=\"text-align: right;\">\n",
       "      <th></th>\n",
       "      <th>score</th>\n",
       "      <th>review</th>\n",
       "      <th>y</th>\n",
       "      <th>리뷰카테고리</th>\n",
       "      <th>token</th>\n",
       "    </tr>\n",
       "  </thead>\n",
       "  <tbody>\n",
       "    <tr>\n",
       "      <th>0</th>\n",
       "      <td>5.0</td>\n",
       "      <td>🌼방랑생활 끝 피지타파 새 인생클렌징오일🌼\\n\\n메이크업을 즐기는 편이라 클렌징은 ...</td>\n",
       "      <td>1.0</td>\n",
       "      <td>향</td>\n",
       "      <td>[방랑, 생활, 끝, 피지, 타파, 새, 인생, 클렌징, 오일, 메이크업, 즐기, ...</td>\n",
       "    </tr>\n",
       "    <tr>\n",
       "      <th>1</th>\n",
       "      <td>5.0</td>\n",
       "      <td>넘버즈인이 SNS에 광고 정말 많이 하죠. 비슷한 시기에 쭉 풀리는가 싶다가도 또 ...</td>\n",
       "      <td>1.0</td>\n",
       "      <td>향</td>\n",
       "      <td>[넘버, 즈인, 이, 광고, 정말, 많이, 하, 시기, 쭉, 풀리, 싶, 또, 시간...</td>\n",
       "    </tr>\n",
       "    <tr>\n",
       "      <th>2</th>\n",
       "      <td>5.0</td>\n",
       "      <td>엄청 유명하길래\\n한번사봣어요\\n제가자주보는 유튜버분이\\n광고하면서 엄청엄청엄총나게...</td>\n",
       "      <td>1.0</td>\n",
       "      <td>향</td>\n",
       "      <td>[엄청, 유명, 한, 번, 사, 제, 자주, 보, 유, 튜버, 분, 광고, 엄청, ...</td>\n",
       "    </tr>\n",
       "  </tbody>\n",
       "</table>\n",
       "</div>"
      ],
      "text/plain": [
       "   score                                             review    y 리뷰카테고리  \\\n",
       "0    5.0  🌼방랑생활 끝 피지타파 새 인생클렌징오일🌼\\n\\n메이크업을 즐기는 편이라 클렌징은 ...  1.0      향   \n",
       "1    5.0  넘버즈인이 SNS에 광고 정말 많이 하죠. 비슷한 시기에 쭉 풀리는가 싶다가도 또 ...  1.0      향   \n",
       "2    5.0  엄청 유명하길래\\n한번사봣어요\\n제가자주보는 유튜버분이\\n광고하면서 엄청엄청엄총나게...  1.0      향   \n",
       "\n",
       "                                               token  \n",
       "0  [방랑, 생활, 끝, 피지, 타파, 새, 인생, 클렌징, 오일, 메이크업, 즐기, ...  \n",
       "1  [넘버, 즈인, 이, 광고, 정말, 많이, 하, 시기, 쭉, 풀리, 싶, 또, 시간...  \n",
       "2  [엄청, 유명, 한, 번, 사, 제, 자주, 보, 유, 튜버, 분, 광고, 엄청, ...  "
      ]
     },
     "execution_count": 277,
     "metadata": {},
     "output_type": "execute_result"
    }
   ],
   "source": [
    "sent.head(3)"
   ]
  },
  {
   "cell_type": "markdown",
   "id": "8de15ef9",
   "metadata": {},
   "source": [
    "***"
   ]
  },
  {
   "cell_type": "code",
   "execution_count": 198,
   "id": "621443b7",
   "metadata": {},
   "outputs": [],
   "source": [
    "comp = pd.read_excel('성분.xlsx').dropna()\n",
    "comp['리뷰카테고리'] = '성분'"
   ]
  },
  {
   "cell_type": "markdown",
   "id": "4feeffde",
   "metadata": {},
   "source": [
    "- 성분 데이터를 불러오고 리뷰카테고리 변수에 '성분' 이라는 문자열로 채워줍니다."
   ]
  },
  {
   "cell_type": "code",
   "execution_count": 278,
   "id": "e5481e70",
   "metadata": {
    "scrolled": true
   },
   "outputs": [],
   "source": [
    "comp = make_tokens(comp)"
   ]
  },
  {
   "cell_type": "code",
   "execution_count": 279,
   "id": "eb101d64",
   "metadata": {
    "scrolled": true
   },
   "outputs": [
    {
     "data": {
      "text/html": [
       "<div>\n",
       "<style scoped>\n",
       "    .dataframe tbody tr th:only-of-type {\n",
       "        vertical-align: middle;\n",
       "    }\n",
       "\n",
       "    .dataframe tbody tr th {\n",
       "        vertical-align: top;\n",
       "    }\n",
       "\n",
       "    .dataframe thead th {\n",
       "        text-align: right;\n",
       "    }\n",
       "</style>\n",
       "<table border=\"1\" class=\"dataframe\">\n",
       "  <thead>\n",
       "    <tr style=\"text-align: right;\">\n",
       "      <th></th>\n",
       "      <th>score</th>\n",
       "      <th>review</th>\n",
       "      <th>y</th>\n",
       "      <th>리뷰카테고리</th>\n",
       "      <th>token</th>\n",
       "    </tr>\n",
       "  </thead>\n",
       "  <tbody>\n",
       "    <tr>\n",
       "      <th>0</th>\n",
       "      <td>5</td>\n",
       "      <td>유튜브에서 리뷰보고 구매했는데 너무 맘에 들어요!!!순한 제품을 찾고 있었는데 일주...</td>\n",
       "      <td>1</td>\n",
       "      <td>성분</td>\n",
       "      <td>[유튜브, 리뷰, 보, 구매, 너무, 맘, 들, 순한, 제품, 찾, 있, 일주일, ...</td>\n",
       "    </tr>\n",
       "    <tr>\n",
       "      <th>1</th>\n",
       "      <td>5</td>\n",
       "      <td>오일성분의 클렌징은 \\n솔직히 세정력은 좋을지 몰라도 폼클린징까지해야하는 \\n두번씩...</td>\n",
       "      <td>1</td>\n",
       "      <td>성분</td>\n",
       "      <td>[오일, 성분, 클렌징, 솔직히, 세정력, 좋, 몰라도, 폼, 클린, 징, 해야, ...</td>\n",
       "    </tr>\n",
       "    <tr>\n",
       "      <th>2</th>\n",
       "      <td>5</td>\n",
       "      <td>클렌징폼이 지겨울때쯤 유투버의 추천으로 사용하게\\n\\n됐습니다. 기름은 기름으로 지...</td>\n",
       "      <td>1</td>\n",
       "      <td>성분</td>\n",
       "      <td>[클렌징, 폼, 지겨울, 때, 유투, 버, 추천, 사용, 됐, 기름, 기름, 지워야...</td>\n",
       "    </tr>\n",
       "  </tbody>\n",
       "</table>\n",
       "</div>"
      ],
      "text/plain": [
       "   score                                             review  y 리뷰카테고리  \\\n",
       "0      5  유튜브에서 리뷰보고 구매했는데 너무 맘에 들어요!!!순한 제품을 찾고 있었는데 일주...  1     성분   \n",
       "1      5  오일성분의 클렌징은 \\n솔직히 세정력은 좋을지 몰라도 폼클린징까지해야하는 \\n두번씩...  1     성분   \n",
       "2      5  클렌징폼이 지겨울때쯤 유투버의 추천으로 사용하게\\n\\n됐습니다. 기름은 기름으로 지...  1     성분   \n",
       "\n",
       "                                               token  \n",
       "0  [유튜브, 리뷰, 보, 구매, 너무, 맘, 들, 순한, 제품, 찾, 있, 일주일, ...  \n",
       "1  [오일, 성분, 클렌징, 솔직히, 세정력, 좋, 몰라도, 폼, 클린, 징, 해야, ...  \n",
       "2  [클렌징, 폼, 지겨울, 때, 유투, 버, 추천, 사용, 됐, 기름, 기름, 지워야...  "
      ]
     },
     "execution_count": 279,
     "metadata": {},
     "output_type": "execute_result"
    }
   ],
   "source": [
    "comp.head(3)"
   ]
  },
  {
   "cell_type": "markdown",
   "id": "589cde18",
   "metadata": {},
   "source": [
    "***\n",
    "#### 가격, 브랜드, 성분, 용량, 향 데이터를 하나의 데이터로 합쳐줍니다."
   ]
  },
  {
   "cell_type": "code",
   "execution_count": 280,
   "id": "625e5516",
   "metadata": {},
   "outputs": [],
   "source": [
    "data = pd.concat([price, brand, comp, sent, cap], axis = 0, ignore_index = True)"
   ]
  },
  {
   "cell_type": "code",
   "execution_count": 283,
   "id": "4f290bd2",
   "metadata": {
    "scrolled": true
   },
   "outputs": [
    {
     "data": {
      "text/html": [
       "<div>\n",
       "<style scoped>\n",
       "    .dataframe tbody tr th:only-of-type {\n",
       "        vertical-align: middle;\n",
       "    }\n",
       "\n",
       "    .dataframe tbody tr th {\n",
       "        vertical-align: top;\n",
       "    }\n",
       "\n",
       "    .dataframe thead th {\n",
       "        text-align: right;\n",
       "    }\n",
       "</style>\n",
       "<table border=\"1\" class=\"dataframe\">\n",
       "  <thead>\n",
       "    <tr style=\"text-align: right;\">\n",
       "      <th></th>\n",
       "      <th>score</th>\n",
       "      <th>review</th>\n",
       "      <th>y</th>\n",
       "      <th>리뷰카테고리</th>\n",
       "      <th>token</th>\n",
       "    </tr>\n",
       "  </thead>\n",
       "  <tbody>\n",
       "    <tr>\n",
       "      <th>1223</th>\n",
       "      <td>5.0</td>\n",
       "      <td>마녀공장 거의 나올 때부터 쓰고 있는 제품인데 정말 늘 만족스럽습니다\\n\\nㅁ 자극...</td>\n",
       "      <td>1.0</td>\n",
       "      <td>향</td>\n",
       "      <td>[마녀, 공장, 거의, 나올, 때, 쓰, 있, 제품, 인데, 정말, 늘, 만족, ㅁ...</td>\n",
       "    </tr>\n",
       "    <tr>\n",
       "      <th>1153</th>\n",
       "      <td>5.0</td>\n",
       "      <td>일단 성분이 순해서 그런지 저희 가족이 사용해도 괜찮아요\\n제가 화장품을 사면 다들...</td>\n",
       "      <td>1.0</td>\n",
       "      <td>성분</td>\n",
       "      <td>[일단, 성분, 순, 그런지, 저희, 가족, 사용, 괜찮, 제, 화장품, 사면, 다...</td>\n",
       "    </tr>\n",
       "    <tr>\n",
       "      <th>1798</th>\n",
       "      <td>4.0</td>\n",
       "      <td>요즘 방송에서 이게 얼마나 많이 나오는지 엄마가 사달래요,,\\nㅋㅋㅋㅋㅋ후기 좋으면...</td>\n",
       "      <td>1.0</td>\n",
       "      <td>용량</td>\n",
       "      <td>[요즘, 방송, 이게, 얼마나, 많이, 나오, 엄마, 사달, 래요, 후기, 좋, 사...</td>\n",
       "    </tr>\n",
       "    <tr>\n",
       "      <th>1732</th>\n",
       "      <td>5.0</td>\n",
       "      <td>세안 후 토너로만 가볍게 얼굴을 닦은 뒤 시트를 부착했습니다. 시트 크기는 적당하여...</td>\n",
       "      <td>1.0</td>\n",
       "      <td>용량</td>\n",
       "      <td>[세안, 후, 토너, 가볍, 얼굴, 닦, 뒤, 시트, 부착, 시트, 크기, 얼굴, ...</td>\n",
       "    </tr>\n",
       "    <tr>\n",
       "      <th>1487</th>\n",
       "      <td>4.0</td>\n",
       "      <td>목주름 케어로 유명한 멀티밤입니다. 이걸바른다고 목주름이 과연 없어질까 의문이지만 ...</td>\n",
       "      <td>1.0</td>\n",
       "      <td>향</td>\n",
       "      <td>[목주름, 케어, 멀티, 밤, 입니다, 이걸, 바른다고, 목주름, 과연, 없, 질까...</td>\n",
       "    </tr>\n",
       "    <tr>\n",
       "      <th>950</th>\n",
       "      <td>5.0</td>\n",
       "      <td>여드름에 딱히좋은건모르겠지만 자극없이순해요\\n에센스양도 적당하고 잘밀착되요</td>\n",
       "      <td>1.0</td>\n",
       "      <td>성분</td>\n",
       "      <td>[여드름, 딱히, 좋, 건, 모르, 자극, 없이, 순해요, 에센스, 양도, 잘, 밀착]</td>\n",
       "    </tr>\n",
       "    <tr>\n",
       "      <th>225</th>\n",
       "      <td>5.0</td>\n",
       "      <td>작년 봄에 써보고 좋아서 구매했어요.\\n아침 저녁으로 날씨가 쌀쌀해지니 입가주위가 ...</td>\n",
       "      <td>1.0</td>\n",
       "      <td>가격</td>\n",
       "      <td>[작년, 봄, 써, 보, 좋, 구매, 아침, 저녁, 날씨, 쌀, 쌀, 지, 입가, ...</td>\n",
       "    </tr>\n",
       "    <tr>\n",
       "      <th>1221</th>\n",
       "      <td>5.0</td>\n",
       "      <td>평소 한*킨 클렌징 오일만 매일 썼었는데 항상 쓰다보면 통 맨 밑부분에 물이 들어가...</td>\n",
       "      <td>1.0</td>\n",
       "      <td>향</td>\n",
       "      <td>[평소, 한, 킨, 클렌징, 오일, 매일, 썼었, 항상, 쓰, 보, 통, 맨, 밑부...</td>\n",
       "    </tr>\n",
       "    <tr>\n",
       "      <th>1647</th>\n",
       "      <td>5.0</td>\n",
       "      <td>저는?블랙헤드?없애려고?샀는데요,?진짜...?최고네요...?자극도?없고?코팩했을?때...</td>\n",
       "      <td>1.0</td>\n",
       "      <td>용량</td>\n",
       "      <td>[저, 블랙, 헤드, 없애, 샀, 진짜, 최고, 네요, 자극, 없, 코, 팩, 때,...</td>\n",
       "    </tr>\n",
       "    <tr>\n",
       "      <th>444</th>\n",
       "      <td>5.0</td>\n",
       "      <td>복합성, 수부지 피부를 가지고 있습니다. 평소에는 메디힐 제품을 사용했고 이번에 올...</td>\n",
       "      <td>1.0</td>\n",
       "      <td>브랜드</td>\n",
       "      <td>[복합, 수부, 지, 피부, 가지, 있, 평소, 메디, 힐, 제품, 사용, 이번, ...</td>\n",
       "    </tr>\n",
       "  </tbody>\n",
       "</table>\n",
       "</div>"
      ],
      "text/plain": [
       "      score                                             review    y 리뷰카테고리  \\\n",
       "1223    5.0  마녀공장 거의 나올 때부터 쓰고 있는 제품인데 정말 늘 만족스럽습니다\\n\\nㅁ 자극...  1.0      향   \n",
       "1153    5.0  일단 성분이 순해서 그런지 저희 가족이 사용해도 괜찮아요\\n제가 화장품을 사면 다들...  1.0     성분   \n",
       "1798    4.0  요즘 방송에서 이게 얼마나 많이 나오는지 엄마가 사달래요,,\\nㅋㅋㅋㅋㅋ후기 좋으면...  1.0     용량   \n",
       "1732    5.0  세안 후 토너로만 가볍게 얼굴을 닦은 뒤 시트를 부착했습니다. 시트 크기는 적당하여...  1.0     용량   \n",
       "1487    4.0  목주름 케어로 유명한 멀티밤입니다. 이걸바른다고 목주름이 과연 없어질까 의문이지만 ...  1.0      향   \n",
       "950     5.0          여드름에 딱히좋은건모르겠지만 자극없이순해요\\n에센스양도 적당하고 잘밀착되요  1.0     성분   \n",
       "225     5.0  작년 봄에 써보고 좋아서 구매했어요.\\n아침 저녁으로 날씨가 쌀쌀해지니 입가주위가 ...  1.0     가격   \n",
       "1221    5.0  평소 한*킨 클렌징 오일만 매일 썼었는데 항상 쓰다보면 통 맨 밑부분에 물이 들어가...  1.0      향   \n",
       "1647    5.0  저는?블랙헤드?없애려고?샀는데요,?진짜...?최고네요...?자극도?없고?코팩했을?때...  1.0     용량   \n",
       "444     5.0  복합성, 수부지 피부를 가지고 있습니다. 평소에는 메디힐 제품을 사용했고 이번에 올...  1.0    브랜드   \n",
       "\n",
       "                                                  token  \n",
       "1223  [마녀, 공장, 거의, 나올, 때, 쓰, 있, 제품, 인데, 정말, 늘, 만족, ㅁ...  \n",
       "1153  [일단, 성분, 순, 그런지, 저희, 가족, 사용, 괜찮, 제, 화장품, 사면, 다...  \n",
       "1798  [요즘, 방송, 이게, 얼마나, 많이, 나오, 엄마, 사달, 래요, 후기, 좋, 사...  \n",
       "1732  [세안, 후, 토너, 가볍, 얼굴, 닦, 뒤, 시트, 부착, 시트, 크기, 얼굴, ...  \n",
       "1487  [목주름, 케어, 멀티, 밤, 입니다, 이걸, 바른다고, 목주름, 과연, 없, 질까...  \n",
       "950    [여드름, 딱히, 좋, 건, 모르, 자극, 없이, 순해요, 에센스, 양도, 잘, 밀착]  \n",
       "225   [작년, 봄, 써, 보, 좋, 구매, 아침, 저녁, 날씨, 쌀, 쌀, 지, 입가, ...  \n",
       "1221  [평소, 한, 킨, 클렌징, 오일, 매일, 썼었, 항상, 쓰, 보, 통, 맨, 밑부...  \n",
       "1647  [저, 블랙, 헤드, 없애, 샀, 진짜, 최고, 네요, 자극, 없, 코, 팩, 때,...  \n",
       "444   [복합, 수부, 지, 피부, 가지, 있, 평소, 메디, 힐, 제품, 사용, 이번, ...  "
      ]
     },
     "execution_count": 283,
     "metadata": {},
     "output_type": "execute_result"
    }
   ],
   "source": [
    "data.sample(10)"
   ]
  },
  {
   "cell_type": "markdown",
   "id": "c09b2f1b",
   "metadata": {},
   "source": [
    "데이터 중 10개만 샘플로 확인합니다."
   ]
  },
  {
   "cell_type": "markdown",
   "id": "689a7f19",
   "metadata": {},
   "source": [
    "***\n",
    "\n",
    "### 제품 데이터 처리"
   ]
  },
  {
   "cell_type": "code",
   "execution_count": 201,
   "id": "87f6c2dc",
   "metadata": {},
   "outputs": [],
   "source": [
    "mask = pd.read_csv('mask.csv')\n",
    "mask['제품명'] = '마스크'"
   ]
  },
  {
   "cell_type": "markdown",
   "id": "ee8eca0c",
   "metadata": {},
   "source": [
    "마스크 데이터를 불러오고 제품명이라는 변수에 '마스크'라는 문자열로 채워줍니다."
   ]
  },
  {
   "cell_type": "code",
   "execution_count": 284,
   "id": "62f12373",
   "metadata": {},
   "outputs": [
    {
     "data": {
      "text/html": [
       "<div>\n",
       "<style scoped>\n",
       "    .dataframe tbody tr th:only-of-type {\n",
       "        vertical-align: middle;\n",
       "    }\n",
       "\n",
       "    .dataframe tbody tr th {\n",
       "        vertical-align: top;\n",
       "    }\n",
       "\n",
       "    .dataframe thead th {\n",
       "        text-align: right;\n",
       "    }\n",
       "</style>\n",
       "<table border=\"1\" class=\"dataframe\">\n",
       "  <thead>\n",
       "    <tr style=\"text-align: right;\">\n",
       "      <th></th>\n",
       "      <th>score</th>\n",
       "      <th>review</th>\n",
       "      <th>y</th>\n",
       "      <th>제품명</th>\n",
       "    </tr>\n",
       "  </thead>\n",
       "  <tbody>\n",
       "    <tr>\n",
       "      <th>0</th>\n",
       "      <td>5</td>\n",
       "      <td>언제 뒤집어질지 모르는 예민하고 민감한 피부, \\n메디힐 티트리팩으로 항시대비하세요...</td>\n",
       "      <td>1</td>\n",
       "      <td>마스크</td>\n",
       "    </tr>\n",
       "    <tr>\n",
       "      <th>1</th>\n",
       "      <td>5</td>\n",
       "      <td>🖤가성비 좋게 구매한 믿고 사는 메디힐🖤\\n\\n- 복합성 / 민감성 피부\\n- 요즘...</td>\n",
       "      <td>1</td>\n",
       "      <td>마스크</td>\n",
       "    </tr>\n",
       "    <tr>\n",
       "      <th>2</th>\n",
       "      <td>5</td>\n",
       "      <td>말해뭐해... 말모말모... 내 인생 마스크팩입니다☺️\\n화장품 성분 분석해주는 어...</td>\n",
       "      <td>1</td>\n",
       "      <td>마스크</td>\n",
       "    </tr>\n",
       "  </tbody>\n",
       "</table>\n",
       "</div>"
      ],
      "text/plain": [
       "   score                                             review  y  제품명\n",
       "0      5  언제 뒤집어질지 모르는 예민하고 민감한 피부, \\n메디힐 티트리팩으로 항시대비하세요...  1  마스크\n",
       "1      5  🖤가성비 좋게 구매한 믿고 사는 메디힐🖤\\n\\n- 복합성 / 민감성 피부\\n- 요즘...  1  마스크\n",
       "2      5  말해뭐해... 말모말모... 내 인생 마스크팩입니다☺️\\n화장품 성분 분석해주는 어...  1  마스크"
      ]
     },
     "execution_count": 284,
     "metadata": {},
     "output_type": "execute_result"
    }
   ],
   "source": [
    "mask.head(3)"
   ]
  },
  {
   "cell_type": "code",
   "execution_count": 286,
   "id": "347bfb24",
   "metadata": {},
   "outputs": [],
   "source": [
    "suncream = pd.read_csv('suncream.csv')\n",
    "suncream['제품명'] = '선크림'"
   ]
  },
  {
   "cell_type": "markdown",
   "id": "eb87f855",
   "metadata": {},
   "source": [
    "선크림 데이터를 불러오고 제품명이라는 변수에 '선크림'라는 문자열로 채워줍니다."
   ]
  },
  {
   "cell_type": "code",
   "execution_count": 287,
   "id": "86255829",
   "metadata": {},
   "outputs": [
    {
     "data": {
      "text/html": [
       "<div>\n",
       "<style scoped>\n",
       "    .dataframe tbody tr th:only-of-type {\n",
       "        vertical-align: middle;\n",
       "    }\n",
       "\n",
       "    .dataframe tbody tr th {\n",
       "        vertical-align: top;\n",
       "    }\n",
       "\n",
       "    .dataframe thead th {\n",
       "        text-align: right;\n",
       "    }\n",
       "</style>\n",
       "<table border=\"1\" class=\"dataframe\">\n",
       "  <thead>\n",
       "    <tr style=\"text-align: right;\">\n",
       "      <th></th>\n",
       "      <th>score</th>\n",
       "      <th>review</th>\n",
       "      <th>y</th>\n",
       "      <th>제품명</th>\n",
       "    </tr>\n",
       "  </thead>\n",
       "  <tbody>\n",
       "    <tr>\n",
       "      <th>0</th>\n",
       "      <td>5</td>\n",
       "      <td>★구성: 1+1 구성 기획으로 구매했어요. 하나는 남자친구 주고 1개는 제가 사용하...</td>\n",
       "      <td>1</td>\n",
       "      <td>선크림</td>\n",
       "    </tr>\n",
       "    <tr>\n",
       "      <th>1</th>\n",
       "      <td>5</td>\n",
       "      <td>또×재구매템이에영♡♡\\n이건 정말거의 열통도 넘게사용하고잇는것같아영^^*\\n\\n제가...</td>\n",
       "      <td>1</td>\n",
       "      <td>선크림</td>\n",
       "    </tr>\n",
       "    <tr>\n",
       "      <th>2</th>\n",
       "      <td>5</td>\n",
       "      <td>사실 닥터지 선크림 초록색 제품 이용중이었는데 요즘따라 바르는데 너무 건조해지더라고...</td>\n",
       "      <td>1</td>\n",
       "      <td>선크림</td>\n",
       "    </tr>\n",
       "  </tbody>\n",
       "</table>\n",
       "</div>"
      ],
      "text/plain": [
       "   score                                             review  y  제품명\n",
       "0      5  ★구성: 1+1 구성 기획으로 구매했어요. 하나는 남자친구 주고 1개는 제가 사용하...  1  선크림\n",
       "1      5  또×재구매템이에영♡♡\\n이건 정말거의 열통도 넘게사용하고잇는것같아영^^*\\n\\n제가...  1  선크림\n",
       "2      5  사실 닥터지 선크림 초록색 제품 이용중이었는데 요즘따라 바르는데 너무 건조해지더라고...  1  선크림"
      ]
     },
     "execution_count": 287,
     "metadata": {},
     "output_type": "execute_result"
    }
   ],
   "source": [
    "suncream.head(3)"
   ]
  },
  {
   "cell_type": "code",
   "execution_count": 288,
   "id": "e280b924",
   "metadata": {},
   "outputs": [],
   "source": [
    "skincare = pd.read_csv('skincare.csv')\n",
    "skincare['제품명'] = '스킨케어'"
   ]
  },
  {
   "cell_type": "markdown",
   "id": "158190f7",
   "metadata": {},
   "source": [
    "스킨케어 데이터를 불러오고 제품명이라는 변수에 '스킨케어'라는 문자열로 채워줍니다."
   ]
  },
  {
   "cell_type": "code",
   "execution_count": 289,
   "id": "cf2546b0",
   "metadata": {},
   "outputs": [
    {
     "data": {
      "text/html": [
       "<div>\n",
       "<style scoped>\n",
       "    .dataframe tbody tr th:only-of-type {\n",
       "        vertical-align: middle;\n",
       "    }\n",
       "\n",
       "    .dataframe tbody tr th {\n",
       "        vertical-align: top;\n",
       "    }\n",
       "\n",
       "    .dataframe thead th {\n",
       "        text-align: right;\n",
       "    }\n",
       "</style>\n",
       "<table border=\"1\" class=\"dataframe\">\n",
       "  <thead>\n",
       "    <tr style=\"text-align: right;\">\n",
       "      <th></th>\n",
       "      <th>score</th>\n",
       "      <th>review</th>\n",
       "      <th>y</th>\n",
       "      <th>제품명</th>\n",
       "    </tr>\n",
       "  </thead>\n",
       "  <tbody>\n",
       "    <tr>\n",
       "      <th>0</th>\n",
       "      <td>5</td>\n",
       "      <td>언제 어디서든 간편하게 꺼내 스윽슥 펴바르면 맑고 투명하게 올라오는 광은 덤으로 얻...</td>\n",
       "      <td>1</td>\n",
       "      <td>스킨케어</td>\n",
       "    </tr>\n",
       "    <tr>\n",
       "      <th>1</th>\n",
       "      <td>4</td>\n",
       "      <td>3~5년 전쯤 멀티밤의 유행이 시작할때 타사 브랜드에서 비슷한 스틱의 멀티밤의 제품...</td>\n",
       "      <td>1</td>\n",
       "      <td>스킨케어</td>\n",
       "    </tr>\n",
       "    <tr>\n",
       "      <th>2</th>\n",
       "      <td>5</td>\n",
       "      <td>가히 디자인팀 분들 덕분에 정말 포장부터 감동했잖아요😭\\n처음에 편지가 들어있길래 ...</td>\n",
       "      <td>1</td>\n",
       "      <td>스킨케어</td>\n",
       "    </tr>\n",
       "  </tbody>\n",
       "</table>\n",
       "</div>"
      ],
      "text/plain": [
       "   score                                             review  y   제품명\n",
       "0      5  언제 어디서든 간편하게 꺼내 스윽슥 펴바르면 맑고 투명하게 올라오는 광은 덤으로 얻...  1  스킨케어\n",
       "1      4  3~5년 전쯤 멀티밤의 유행이 시작할때 타사 브랜드에서 비슷한 스틱의 멀티밤의 제품...  1  스킨케어\n",
       "2      5  가히 디자인팀 분들 덕분에 정말 포장부터 감동했잖아요😭\\n처음에 편지가 들어있길래 ...  1  스킨케어"
      ]
     },
     "execution_count": 289,
     "metadata": {},
     "output_type": "execute_result"
    }
   ],
   "source": [
    "skincare.head(3)"
   ]
  },
  {
   "cell_type": "code",
   "execution_count": 291,
   "id": "baa52885",
   "metadata": {},
   "outputs": [],
   "source": [
    "cleansing = pd.read_csv(\"cleaning.csv\")\n",
    "cleansing['제품명'] = '클렌징오일'"
   ]
  },
  {
   "cell_type": "markdown",
   "id": "139599ee",
   "metadata": {},
   "source": [
    "클렌징오일 데이터를 불러오고 제품명이라는 변수에 '클렌징오일'라는 문자열로 채워줍니다."
   ]
  },
  {
   "cell_type": "code",
   "execution_count": 292,
   "id": "c78893a5",
   "metadata": {},
   "outputs": [
    {
     "data": {
      "text/html": [
       "<div>\n",
       "<style scoped>\n",
       "    .dataframe tbody tr th:only-of-type {\n",
       "        vertical-align: middle;\n",
       "    }\n",
       "\n",
       "    .dataframe tbody tr th {\n",
       "        vertical-align: top;\n",
       "    }\n",
       "\n",
       "    .dataframe thead th {\n",
       "        text-align: right;\n",
       "    }\n",
       "</style>\n",
       "<table border=\"1\" class=\"dataframe\">\n",
       "  <thead>\n",
       "    <tr style=\"text-align: right;\">\n",
       "      <th></th>\n",
       "      <th>score</th>\n",
       "      <th>review</th>\n",
       "      <th>y</th>\n",
       "      <th>제품명</th>\n",
       "    </tr>\n",
       "  </thead>\n",
       "  <tbody>\n",
       "    <tr>\n",
       "      <th>0</th>\n",
       "      <td>5</td>\n",
       "      <td>🌼방랑생활 끝 피지타파 새 인생클렌징오일🌼\\n\\n메이크업을 즐기는 편이라 클렌징은 ...</td>\n",
       "      <td>1</td>\n",
       "      <td>클렌징오일</td>\n",
       "    </tr>\n",
       "    <tr>\n",
       "      <th>1</th>\n",
       "      <td>5</td>\n",
       "      <td>메이크업 클렌징이 너무 귀찮으신분들!\\n마스카라 까지 메이크업 원샷 원킬!\\n눈시림...</td>\n",
       "      <td>1</td>\n",
       "      <td>클렌징오일</td>\n",
       "    </tr>\n",
       "    <tr>\n",
       "      <th>2</th>\n",
       "      <td>5</td>\n",
       "      <td>🖤 피부 : 좁쌀여드름 + 부분적으로 화농성 여드름 \\n\\n2통 째 사용중 \\n\\n...</td>\n",
       "      <td>1</td>\n",
       "      <td>클렌징오일</td>\n",
       "    </tr>\n",
       "  </tbody>\n",
       "</table>\n",
       "</div>"
      ],
      "text/plain": [
       "   score                                             review  y    제품명\n",
       "0      5  🌼방랑생활 끝 피지타파 새 인생클렌징오일🌼\\n\\n메이크업을 즐기는 편이라 클렌징은 ...  1  클렌징오일\n",
       "1      5  메이크업 클렌징이 너무 귀찮으신분들!\\n마스카라 까지 메이크업 원샷 원킬!\\n눈시림...  1  클렌징오일\n",
       "2      5  🖤 피부 : 좁쌀여드름 + 부분적으로 화농성 여드름 \\n\\n2통 째 사용중 \\n\\n...  1  클렌징오일"
      ]
     },
     "execution_count": 292,
     "metadata": {},
     "output_type": "execute_result"
    }
   ],
   "source": [
    "cleansing.head(3)"
   ]
  },
  {
   "cell_type": "markdown",
   "id": "ebb12de9",
   "metadata": {},
   "source": [
    "#### 마스크, 선크림, 스킨케어, 클렌징오일 데이터를 하나로 합쳐줍니다."
   ]
  },
  {
   "cell_type": "code",
   "execution_count": 205,
   "id": "58bec592",
   "metadata": {},
   "outputs": [],
   "source": [
    "items = pd.concat([mask, suncream, skincare, cleansing], axis = 0, ignore_index = True)"
   ]
  },
  {
   "cell_type": "markdown",
   "id": "4456c131",
   "metadata": {},
   "source": [
    "***\n",
    "#### 기본성분 데이터와 제품 데이터를 매칭시켜 기본 성분 데이터에 제품명을 입력시켜줍니다."
   ]
  },
  {
   "cell_type": "code",
   "execution_count": 296,
   "id": "38be2917",
   "metadata": {},
   "outputs": [],
   "source": [
    "merged = pd.merge(data, items, how = 'left')"
   ]
  },
  {
   "cell_type": "code",
   "execution_count": 297,
   "id": "874b0630",
   "metadata": {},
   "outputs": [
    {
     "data": {
      "text/html": [
       "<div>\n",
       "<style scoped>\n",
       "    .dataframe tbody tr th:only-of-type {\n",
       "        vertical-align: middle;\n",
       "    }\n",
       "\n",
       "    .dataframe tbody tr th {\n",
       "        vertical-align: top;\n",
       "    }\n",
       "\n",
       "    .dataframe thead th {\n",
       "        text-align: right;\n",
       "    }\n",
       "</style>\n",
       "<table border=\"1\" class=\"dataframe\">\n",
       "  <thead>\n",
       "    <tr style=\"text-align: right;\">\n",
       "      <th></th>\n",
       "      <th>score</th>\n",
       "      <th>review</th>\n",
       "      <th>y</th>\n",
       "      <th>리뷰카테고리</th>\n",
       "      <th>token</th>\n",
       "      <th>제품명</th>\n",
       "    </tr>\n",
       "  </thead>\n",
       "  <tbody>\n",
       "    <tr>\n",
       "      <th>99</th>\n",
       "      <td>5.0</td>\n",
       "      <td>클렌징 크림이 안맞아서 오일러 바꿨어요\\n후기가 많고 가격도 적당한 마녀 오일 건성...</td>\n",
       "      <td>1.0</td>\n",
       "      <td>가격</td>\n",
       "      <td>[클렌징, 크림, 안, 맞, 오일러, 바꿨, 후기, 많, 가격, 마녀, 오일, 건성...</td>\n",
       "      <td>클렌징오일</td>\n",
       "    </tr>\n",
       "    <tr>\n",
       "      <th>703</th>\n",
       "      <td>5.0</td>\n",
       "      <td>장점\\n1. 피부 전문 관리 후, 민감해진 피부를 건강하게 케어 해주는 저자극 선크...</td>\n",
       "      <td>1.0</td>\n",
       "      <td>브랜드</td>\n",
       "      <td>[장점, 피부, 전문, 관리, 후, 피부, 건강, 케어, 해, 주, 저, 자극, 선...</td>\n",
       "      <td>선크림</td>\n",
       "    </tr>\n",
       "    <tr>\n",
       "      <th>1649</th>\n",
       "      <td>5.0</td>\n",
       "      <td>전?얼굴에?뾰루지도?잘나고?민감한?피부라?화장품?고를때만큼?클렌징제품도?꼼꼼하게?살...</td>\n",
       "      <td>1.0</td>\n",
       "      <td>용량</td>\n",
       "      <td>[전, 얼굴, 뾰루지, 잘나, 피부, 라, 화장품, 때, 클렌징, 제품, 꼼꼼, 하...</td>\n",
       "      <td>NaN</td>\n",
       "    </tr>\n",
       "  </tbody>\n",
       "</table>\n",
       "</div>"
      ],
      "text/plain": [
       "      score                                             review    y 리뷰카테고리  \\\n",
       "99      5.0  클렌징 크림이 안맞아서 오일러 바꿨어요\\n후기가 많고 가격도 적당한 마녀 오일 건성...  1.0     가격   \n",
       "703     5.0  장점\\n1. 피부 전문 관리 후, 민감해진 피부를 건강하게 케어 해주는 저자극 선크...  1.0    브랜드   \n",
       "1649    5.0  전?얼굴에?뾰루지도?잘나고?민감한?피부라?화장품?고를때만큼?클렌징제품도?꼼꼼하게?살...  1.0     용량   \n",
       "\n",
       "                                                  token    제품명  \n",
       "99    [클렌징, 크림, 안, 맞, 오일러, 바꿨, 후기, 많, 가격, 마녀, 오일, 건성...  클렌징오일  \n",
       "703   [장점, 피부, 전문, 관리, 후, 피부, 건강, 케어, 해, 주, 저, 자극, 선...    선크림  \n",
       "1649  [전, 얼굴, 뾰루지, 잘나, 피부, 라, 화장품, 때, 클렌징, 제품, 꼼꼼, 하...    NaN  "
      ]
     },
     "execution_count": 297,
     "metadata": {},
     "output_type": "execute_result"
    }
   ],
   "source": [
    "merged.sample(3)"
   ]
  },
  {
   "cell_type": "code",
   "execution_count": 298,
   "id": "4bfc151e",
   "metadata": {},
   "outputs": [],
   "source": [
    "merged_not_null = merged[merged.제품명.notnull()]\n",
    "merged_null = merged[merged.제품명.isnull()]"
   ]
  },
  {
   "cell_type": "code",
   "execution_count": 299,
   "id": "10de4636",
   "metadata": {},
   "outputs": [
    {
     "data": {
      "text/html": [
       "<div>\n",
       "<style scoped>\n",
       "    .dataframe tbody tr th:only-of-type {\n",
       "        vertical-align: middle;\n",
       "    }\n",
       "\n",
       "    .dataframe tbody tr th {\n",
       "        vertical-align: top;\n",
       "    }\n",
       "\n",
       "    .dataframe thead th {\n",
       "        text-align: right;\n",
       "    }\n",
       "</style>\n",
       "<table border=\"1\" class=\"dataframe\">\n",
       "  <thead>\n",
       "    <tr style=\"text-align: right;\">\n",
       "      <th></th>\n",
       "      <th>score</th>\n",
       "      <th>review</th>\n",
       "      <th>y</th>\n",
       "      <th>리뷰카테고리</th>\n",
       "      <th>token</th>\n",
       "      <th>제품명</th>\n",
       "    </tr>\n",
       "  </thead>\n",
       "  <tbody>\n",
       "    <tr>\n",
       "      <th>0</th>\n",
       "      <td>5.0</td>\n",
       "      <td>넘버즈인 클렌징오일도 정말 제가 애정하는 인생템입니다~~!! 처음에 넘버즈인이라는 ...</td>\n",
       "      <td>1.0</td>\n",
       "      <td>가격</td>\n",
       "      <td>[넘버, 즈인, 클렌징, 오일, 정말, 제, 애정, 인생, 템, 입니다, 처음, 넘...</td>\n",
       "      <td>클렌징오일</td>\n",
       "    </tr>\n",
       "    <tr>\n",
       "      <th>1</th>\n",
       "      <td>5.0</td>\n",
       "      <td>저는 복합성 피부를 가지고 있는데요, 이 클렌징 오일은 정말 인생템이에요~~!! 사...</td>\n",
       "      <td>1.0</td>\n",
       "      <td>가격</td>\n",
       "      <td>[저, 복합, 피부, 가지, 있, 클렌징, 오일, 정말, 인생, 템, 이, 사실, ...</td>\n",
       "      <td>클렌징오일</td>\n",
       "    </tr>\n",
       "    <tr>\n",
       "      <th>2</th>\n",
       "      <td>5.0</td>\n",
       "      <td>클렌징폼이 지겨울때쯤 유투버의 추천으로 사용하게\\n\\n됐습니다. 기름은 기름으로 지...</td>\n",
       "      <td>1.0</td>\n",
       "      <td>가격</td>\n",
       "      <td>[클렌징, 폼, 지겨울, 때, 유투, 버, 추천, 사용, 됐, 기름, 기름, 지워야...</td>\n",
       "      <td>클렌징오일</td>\n",
       "    </tr>\n",
       "  </tbody>\n",
       "</table>\n",
       "</div>"
      ],
      "text/plain": [
       "   score                                             review    y 리뷰카테고리  \\\n",
       "0    5.0  넘버즈인 클렌징오일도 정말 제가 애정하는 인생템입니다~~!! 처음에 넘버즈인이라는 ...  1.0     가격   \n",
       "1    5.0  저는 복합성 피부를 가지고 있는데요, 이 클렌징 오일은 정말 인생템이에요~~!! 사...  1.0     가격   \n",
       "2    5.0  클렌징폼이 지겨울때쯤 유투버의 추천으로 사용하게\\n\\n됐습니다. 기름은 기름으로 지...  1.0     가격   \n",
       "\n",
       "                                               token    제품명  \n",
       "0  [넘버, 즈인, 클렌징, 오일, 정말, 제, 애정, 인생, 템, 입니다, 처음, 넘...  클렌징오일  \n",
       "1  [저, 복합, 피부, 가지, 있, 클렌징, 오일, 정말, 인생, 템, 이, 사실, ...  클렌징오일  \n",
       "2  [클렌징, 폼, 지겨울, 때, 유투, 버, 추천, 사용, 됐, 기름, 기름, 지워야...  클렌징오일  "
      ]
     },
     "execution_count": 299,
     "metadata": {},
     "output_type": "execute_result"
    }
   ],
   "source": [
    "merged_not_null.head(3)"
   ]
  },
  {
   "cell_type": "markdown",
   "id": "4e56e60a",
   "metadata": {},
   "source": [
    "- 누락된 값이 없는 데이터 입니다."
   ]
  },
  {
   "cell_type": "code",
   "execution_count": 300,
   "id": "d53464c0",
   "metadata": {},
   "outputs": [
    {
     "data": {
      "text/html": [
       "<div>\n",
       "<style scoped>\n",
       "    .dataframe tbody tr th:only-of-type {\n",
       "        vertical-align: middle;\n",
       "    }\n",
       "\n",
       "    .dataframe tbody tr th {\n",
       "        vertical-align: top;\n",
       "    }\n",
       "\n",
       "    .dataframe thead th {\n",
       "        text-align: right;\n",
       "    }\n",
       "</style>\n",
       "<table border=\"1\" class=\"dataframe\">\n",
       "  <thead>\n",
       "    <tr style=\"text-align: right;\">\n",
       "      <th></th>\n",
       "      <th>score</th>\n",
       "      <th>review</th>\n",
       "      <th>y</th>\n",
       "      <th>리뷰카테고리</th>\n",
       "      <th>token</th>\n",
       "      <th>제품명</th>\n",
       "    </tr>\n",
       "  </thead>\n",
       "  <tbody>\n",
       "    <tr>\n",
       "      <th>1592</th>\n",
       "      <td>5.0</td>\n",
       "      <td>??방랑생활?끝?피지타파?새?인생클렌징오일??\\n\\n메이크업을?즐기는?편이라?클렌징...</td>\n",
       "      <td>1.0</td>\n",
       "      <td>용량</td>\n",
       "      <td>[방랑, 생활, 끝, 피지, 타파, 새, 인생, 클렌징, 오, 일, 메이크업, 즐기...</td>\n",
       "      <td>NaN</td>\n",
       "    </tr>\n",
       "    <tr>\n",
       "      <th>1593</th>\n",
       "      <td>4.0</td>\n",
       "      <td>유튜버분?영상?보고?한?번?구매해보자~하는?마음에?샀는데?무슨일이에요….?너무?좋아...</td>\n",
       "      <td>1.0</td>\n",
       "      <td>용량</td>\n",
       "      <td>[유, 튜버, 분, 영상, 보, 한, 번, 구매, 보, 하, 마음, 샀, 무슨, 일...</td>\n",
       "      <td>NaN</td>\n",
       "    </tr>\n",
       "    <tr>\n",
       "      <th>1594</th>\n",
       "      <td>5.0</td>\n",
       "      <td>넘버즈인이?SNS에?광고?정말?많이?하죠.?비슷한?시기에?쭉?풀리는가?싶다가도?또?...</td>\n",
       "      <td>1.0</td>\n",
       "      <td>용량</td>\n",
       "      <td>[넘버, 즈인, 이, 광고, 정말, 많이, 하, 시기, 쭉, 풀리, 싶, 또, 시간...</td>\n",
       "      <td>NaN</td>\n",
       "    </tr>\n",
       "  </tbody>\n",
       "</table>\n",
       "</div>"
      ],
      "text/plain": [
       "      score                                             review    y 리뷰카테고리  \\\n",
       "1592    5.0  ??방랑생활?끝?피지타파?새?인생클렌징오일??\\n\\n메이크업을?즐기는?편이라?클렌징...  1.0     용량   \n",
       "1593    4.0  유튜버분?영상?보고?한?번?구매해보자~하는?마음에?샀는데?무슨일이에요….?너무?좋아...  1.0     용량   \n",
       "1594    5.0  넘버즈인이?SNS에?광고?정말?많이?하죠.?비슷한?시기에?쭉?풀리는가?싶다가도?또?...  1.0     용량   \n",
       "\n",
       "                                                  token  제품명  \n",
       "1592  [방랑, 생활, 끝, 피지, 타파, 새, 인생, 클렌징, 오, 일, 메이크업, 즐기...  NaN  \n",
       "1593  [유, 튜버, 분, 영상, 보, 한, 번, 구매, 보, 하, 마음, 샀, 무슨, 일...  NaN  \n",
       "1594  [넘버, 즈인, 이, 광고, 정말, 많이, 하, 시기, 쭉, 풀리, 싶, 또, 시간...  NaN  "
      ]
     },
     "execution_count": 300,
     "metadata": {},
     "output_type": "execute_result"
    }
   ],
   "source": [
    "merged_null.head(3)"
   ]
  },
  {
   "cell_type": "markdown",
   "id": "769f9880",
   "metadata": {},
   "source": [
    "- 제품명이 누락된 데이터 입니다."
   ]
  },
  {
   "cell_type": "code",
   "execution_count": 208,
   "id": "38c41d1f",
   "metadata": {},
   "outputs": [],
   "source": [
    "def fill_item(x) :\n",
    "    if '클렌징오일' in x or '오일' in x or '클렌징폼' in x :\n",
    "        return '클렌징오일'\n",
    "    elif '선크림' in x or '썬크림' in x :\n",
    "        return '선크림'\n",
    "    elif '마스크' in x :\n",
    "        return '마스크'\n",
    "    elif '스킨케어' in x :\n",
    "        return '스킨케어'\n",
    "    else :\n",
    "        return np.nan"
   ]
  },
  {
   "cell_type": "markdown",
   "id": "ab5bace2",
   "metadata": {},
   "source": [
    "- 제품명이 누락된 데이터는 제품 관련 문자열을 찾아 값을 채워줍니다."
   ]
  },
  {
   "cell_type": "code",
   "execution_count": 209,
   "id": "f3b667e2",
   "metadata": {
    "scrolled": true
   },
   "outputs": [],
   "source": [
    "merged_null.제품명 = merged.review.apply(fill_item)"
   ]
  },
  {
   "cell_type": "code",
   "execution_count": 210,
   "id": "4eab5ebf",
   "metadata": {
    "scrolled": false
   },
   "outputs": [],
   "source": [
    "merged_null.dropna(inplace = True)"
   ]
  },
  {
   "cell_type": "markdown",
   "id": "5bc5c602",
   "metadata": {},
   "source": [
    "- 그래도 누락된 값이 있는 데이터는 삭제합니다."
   ]
  },
  {
   "cell_type": "code",
   "execution_count": 211,
   "id": "4679d934",
   "metadata": {},
   "outputs": [],
   "source": [
    "df = pd.concat([merged_not_null, merged_null], axis = 0, ignore_index = True)"
   ]
  },
  {
   "cell_type": "markdown",
   "id": "d0212825",
   "metadata": {},
   "source": [
    "- 나뉘어졌던 데이터를 다시 하나로 합칩니다."
   ]
  },
  {
   "cell_type": "code",
   "execution_count": 213,
   "id": "55444ae4",
   "metadata": {},
   "outputs": [],
   "source": [
    "df['review'] = [re.sub(r'[^가-힣]+', ' ', s) for s in df['review']]"
   ]
  },
  {
   "cell_type": "markdown",
   "id": "9a32df5c",
   "metadata": {},
   "source": [
    "- 리뷰에서 한글과 숫자만 빼고 나머지(특수문자, 영문 등)는 삭제합니다."
   ]
  },
  {
   "cell_type": "code",
   "execution_count": 214,
   "id": "bc33549d",
   "metadata": {},
   "outputs": [],
   "source": [
    "total_word = []\n",
    "for token in df['token'] :\n",
    "    s = ''\n",
    "    for word in token :\n",
    "\n",
    "        s += f' {word}'\n",
    "    total_word.append(s)"
   ]
  },
  {
   "cell_type": "markdown",
   "id": "f60592ec",
   "metadata": {},
   "source": [
    "- Tfidf 적용을 위해 각 토큰을 문자열로 합쳐줍니다."
   ]
  },
  {
   "cell_type": "code",
   "execution_count": 215,
   "id": "223d1b69",
   "metadata": {
    "scrolled": true
   },
   "outputs": [],
   "source": [
    "df['token'] = total_word"
   ]
  },
  {
   "cell_type": "code",
   "execution_count": 303,
   "id": "6f4074b6",
   "metadata": {
    "scrolled": true
   },
   "outputs": [
    {
     "data": {
      "text/plain": [
       "0     넘버 즈인 클렌징 오일 정말 제 애정 인생 템 입니다 처음 넘버 즈인 이 브랜드 ...\n",
       "1     저 복합 피부 가지 있 클렌징 오일 정말 인생 템 이 사실 광고 많이 하 브랜드 ...\n",
       "2     클렌징 폼 지겨울 때 유투 버 추천 사용 됐 기름 기름 지워야 잘 지워진다는 말 ...\n",
       "3     좋 후기 많 가격 조금 나가 큰 마음 먹 구매 했 역시 나 너무 좋 일단 이거 하...\n",
       "4     방랑 생활 끝 피지 타파 새 인생 클렌징 오일 메이크업 즐기 편 이 클렌징 무족 ...\n",
       "Name: token, dtype: object"
      ]
     },
     "execution_count": 303,
     "metadata": {},
     "output_type": "execute_result"
    }
   ],
   "source": [
    "df['token'].head()"
   ]
  },
  {
   "cell_type": "markdown",
   "id": "8013528d",
   "metadata": {},
   "source": [
    "***\n",
    "### 감성극성값 예측 모델링\n",
    "\n",
    "- 감성극성값을 예측하는 모델을 만들기 위해 원본데이터에서 샘플링된 데이터(기본특성)를 뺀 데이터를 모델 학습에 사용합니다."
   ]
  },
  {
   "cell_type": "code",
   "execution_count": 216,
   "id": "92206c43",
   "metadata": {},
   "outputs": [],
   "source": [
    "model_input = pd.merge(items, data, how = 'left')"
   ]
  },
  {
   "cell_type": "code",
   "execution_count": 217,
   "id": "f09d1ac8",
   "metadata": {},
   "outputs": [],
   "source": [
    "model_input = model_input[(model_input.token.isnull()) & (model_input.review.notnull())]"
   ]
  },
  {
   "cell_type": "code",
   "execution_count": 218,
   "id": "81773073",
   "metadata": {},
   "outputs": [],
   "source": [
    "model_input['review'] = [re.sub(r'[^0-9가-힣]+', ' ', s) for s in model_input['review']]"
   ]
  },
  {
   "cell_type": "code",
   "execution_count": 219,
   "id": "49fce9cf",
   "metadata": {},
   "outputs": [],
   "source": [
    "model_input = make_tokens(model_input)"
   ]
  },
  {
   "cell_type": "code",
   "execution_count": 220,
   "id": "77ec0fc0",
   "metadata": {},
   "outputs": [],
   "source": [
    "total_word = []\n",
    "for token in model_input['token'] :\n",
    "    s = ''\n",
    "    for word in token :\n",
    "\n",
    "        s += f' {word}'\n",
    "    total_word.append(s)"
   ]
  },
  {
   "cell_type": "code",
   "execution_count": 221,
   "id": "c832677d",
   "metadata": {},
   "outputs": [],
   "source": [
    "model_input['token'] = total_word"
   ]
  },
  {
   "cell_type": "code",
   "execution_count": 222,
   "id": "ee24bcd4",
   "metadata": {},
   "outputs": [],
   "source": [
    "from sklearn.feature_extraction.text import TfidfVectorizer\n",
    "from sklearn.model_selection import train_test_split"
   ]
  },
  {
   "cell_type": "code",
   "execution_count": 223,
   "id": "74bae05e",
   "metadata": {},
   "outputs": [],
   "source": [
    "tfidf = TfidfVectorizer(max_features = 1000, lowercase = False)"
   ]
  },
  {
   "cell_type": "markdown",
   "id": "c8c47af1",
   "metadata": {},
   "source": [
    "- tfidf를 1000차원으로 설정하고 사용합니다."
   ]
  },
  {
   "cell_type": "code",
   "execution_count": 253,
   "id": "fe66f7c9",
   "metadata": {},
   "outputs": [],
   "source": [
    "X = model_input['token']\n",
    "y = model_input.y"
   ]
  },
  {
   "cell_type": "markdown",
   "id": "293ebbc5",
   "metadata": {},
   "source": [
    "- 독립변수로 데이터의 리뷰 토큰, 종속변수로 긍/부정 여부를 지정합니다."
   ]
  },
  {
   "cell_type": "code",
   "execution_count": 225,
   "id": "75b586e9",
   "metadata": {},
   "outputs": [],
   "source": [
    "X = tfidf.fit_transform(X)"
   ]
  },
  {
   "cell_type": "markdown",
   "id": "d77bfbda",
   "metadata": {},
   "source": [
    "- 리뷰 토큰을 tfidf에 적용합니다."
   ]
  },
  {
   "cell_type": "code",
   "execution_count": 226,
   "id": "f9b72ae8",
   "metadata": {},
   "outputs": [],
   "source": [
    "X_train, X_val, y_train, y_val = train_test_split(X, y, random_state = 42, stratify = y, shuffle = True, test_size = 0.2)"
   ]
  },
  {
   "cell_type": "markdown",
   "id": "175de94e",
   "metadata": {},
   "source": [
    "- tfidf로 바꾼 리뷰토큰을 학습용 데이터(80%) , 검증용 데이터(20%)로 분할합니다.\n",
    "- 이 때 분류 문제를 풀기 때문에 층화추출 기법을 사용합니다."
   ]
  },
  {
   "cell_type": "code",
   "execution_count": 227,
   "id": "766ba48b",
   "metadata": {},
   "outputs": [],
   "source": [
    "from lightgbm import LGBMClassifier"
   ]
  },
  {
   "cell_type": "markdown",
   "id": "9a58399c",
   "metadata": {},
   "source": [
    "- 학습속도가 빠르고 대량 데이터에 적합한 Lightgbm 알고리즘을 사용합니다."
   ]
  },
  {
   "cell_type": "code",
   "execution_count": 228,
   "id": "b436882d",
   "metadata": {},
   "outputs": [],
   "source": [
    "lgbm = LGBMClassifier(random_state = 42)"
   ]
  },
  {
   "cell_type": "code",
   "execution_count": 229,
   "id": "519160ac",
   "metadata": {
    "scrolled": true
   },
   "outputs": [
    {
     "data": {
      "text/plain": [
       "LGBMClassifier(random_state=42)"
      ]
     },
     "execution_count": 229,
     "metadata": {},
     "output_type": "execute_result"
    }
   ],
   "source": [
    "lgbm.fit(X_train, y_train)"
   ]
  },
  {
   "cell_type": "markdown",
   "id": "2c52ad87",
   "metadata": {},
   "source": [
    "- 학습용 리뷰토큰과 긍/부정 여부를 학습합니다."
   ]
  },
  {
   "cell_type": "code",
   "execution_count": 230,
   "id": "276f92df",
   "metadata": {},
   "outputs": [],
   "source": [
    "pred = lgbm.predict_proba(X_val)[:, 1]"
   ]
  },
  {
   "cell_type": "markdown",
   "id": "b8f992dd",
   "metadata": {},
   "source": [
    "- 예측을 통해 긍/부정 확률을 산출합니다."
   ]
  },
  {
   "cell_type": "code",
   "execution_count": 231,
   "id": "d20ceeaf",
   "metadata": {},
   "outputs": [],
   "source": [
    "from sklearn.metrics import roc_auc_score"
   ]
  },
  {
   "cell_type": "markdown",
   "id": "f1482a53",
   "metadata": {},
   "source": [
    "- 분류모델 평가지표인 roc_auc 지표로 성능을 확인합니다."
   ]
  },
  {
   "cell_type": "code",
   "execution_count": 232,
   "id": "9eeb8ef5",
   "metadata": {},
   "outputs": [],
   "source": [
    "roc_auc = roc_auc_score(y_val, pred)"
   ]
  },
  {
   "cell_type": "markdown",
   "id": "d7ac72eb",
   "metadata": {},
   "source": [
    "- 검증용 데이터와 예측값을 평가합니다."
   ]
  },
  {
   "cell_type": "code",
   "execution_count": 233,
   "id": "ac224cbe",
   "metadata": {
    "scrolled": true
   },
   "outputs": [
    {
     "data": {
      "text/plain": [
       "0.7837383453547593"
      ]
     },
     "execution_count": 233,
     "metadata": {},
     "output_type": "execute_result"
    }
   ],
   "source": [
    "roc_auc"
   ]
  },
  {
   "cell_type": "markdown",
   "id": "6d9448b1",
   "metadata": {},
   "source": [
    "- 약 78.37%의 성능을 얻었습니다."
   ]
  },
  {
   "cell_type": "code",
   "execution_count": 234,
   "id": "7b205bf9",
   "metadata": {},
   "outputs": [],
   "source": [
    "target = tfidf.transform(df['token'])"
   ]
  },
  {
   "cell_type": "markdown",
   "id": "aa003920",
   "metadata": {},
   "source": [
    "- 우리가 최종적으로 예측해야할 기본특성 데이터의 감성극성값을 예측하기위해 리뷰 토큰을 tfidf에 적용합니다."
   ]
  },
  {
   "cell_type": "code",
   "execution_count": 235,
   "id": "e3db4a9d",
   "metadata": {},
   "outputs": [],
   "source": [
    "df['감성극성값'] = lgbm.predict_proba(target)[:, 1]"
   ]
  },
  {
   "cell_type": "markdown",
   "id": "e2bce5f6",
   "metadata": {},
   "source": [
    "- 감성극성값을 산출합니다."
   ]
  },
  {
   "cell_type": "code",
   "execution_count": 236,
   "id": "616557ce",
   "metadata": {},
   "outputs": [
    {
     "data": {
      "text/plain": [
       "0.8059424379232507"
      ]
     },
     "execution_count": 236,
     "metadata": {},
     "output_type": "execute_result"
    }
   ],
   "source": [
    "roc_auc_score(df['y'], df['감성극성값'])"
   ]
  },
  {
   "cell_type": "markdown",
   "id": "d6f4388c",
   "metadata": {},
   "source": [
    "- 실제로 기본특성데이터의 긍/부정 여부와 예측한 감성극성값의 roc_auc성능은 약 81%의 성능을 보입니다.\n",
    "***\n",
    "### 통계 분석 "
   ]
  },
  {
   "cell_type": "code",
   "execution_count": 237,
   "id": "de4485d6",
   "metadata": {},
   "outputs": [],
   "source": [
    "from statsmodels.formula.api import ols\n",
    "from statsmodels.stats.anova import anova_lm\n",
    "from statsmodels.stats.multicomp import pairwise_tukeyhsd\n",
    "from scipy.stats import ttest_ind\n",
    "from statsmodels.sandbox.stats.multicomp import MultiComparison"
   ]
  },
  {
   "cell_type": "markdown",
   "id": "05930ef9",
   "metadata": {},
   "source": [
    "- 통계분석을 위해 ANOVA, Tuekey, Bonferroni 검정 패키지를 불러옵니다."
   ]
  },
  {
   "cell_type": "code",
   "execution_count": null,
   "id": "c773f463",
   "metadata": {},
   "outputs": [],
   "source": [
    "df['제품명'] = df['제품명'].astype('category')"
   ]
  },
  {
   "cell_type": "markdown",
   "id": "10a7acc6",
   "metadata": {},
   "source": [
    "- 문자열인 제품명을 카테고리 형태로 바꿔줍니다.,"
   ]
  },
  {
   "cell_type": "code",
   "execution_count": 258,
   "id": "d521ecdd",
   "metadata": {},
   "outputs": [],
   "source": [
    "price_df = df[df.리뷰카테고리 == '가격']\n",
    "sent_df = df[df.리뷰카테고리 == '향']\n",
    "comp_df = df[df.리뷰카테고리 == '성분']\n",
    "brand_df = df[df.리뷰카테고리 == '브랜드']\n",
    "cap_df = df[df.리뷰카테고리 == '용량']"
   ]
  },
  {
   "cell_type": "markdown",
   "id": "4db62b5a",
   "metadata": {},
   "source": [
    "- 각 기본특성별로 데이터를 분할합니다."
   ]
  },
  {
   "cell_type": "code",
   "execution_count": 240,
   "id": "6a8f0f06",
   "metadata": {},
   "outputs": [],
   "source": [
    "def get_analysis_result(data) :\n",
    "    model = ols('감성극성값 ~ C(제품명)', data = data).fit()\n",
    "    print('< ANOVA 검정 >')\n",
    "    display(anova_lm(model))\n",
    "    \n",
    "    tukey = pairwise_tukeyhsd(data.y, data.제품명, alpha = 0.1)\n",
    "    print('\\n < Tukey 검정 >\\n')\n",
    "    print(tukey)\n",
    "    \n",
    "    comp = MultiComparison(data.y, data.제품명)\n",
    "    result = comp.allpairtest(ttest_ind, method='bonf')\n",
    "    print('\\n < Bonferroni 검정 >')\n",
    "    display(result[0])"
   ]
  },
  {
   "cell_type": "markdown",
   "id": "ed3271da",
   "metadata": {},
   "source": [
    "- 자동으로 ANNOVA, Tuekey, Bonferroni 검정을 수행하는 함수를 만듭니다."
   ]
  },
  {
   "cell_type": "code",
   "execution_count": 259,
   "id": "aab8d576",
   "metadata": {},
   "outputs": [
    {
     "name": "stdout",
     "output_type": "stream",
     "text": [
      "< ANOVA 검정 >\n"
     ]
    },
    {
     "data": {
      "text/html": [
       "<div>\n",
       "<style scoped>\n",
       "    .dataframe tbody tr th:only-of-type {\n",
       "        vertical-align: middle;\n",
       "    }\n",
       "\n",
       "    .dataframe tbody tr th {\n",
       "        vertical-align: top;\n",
       "    }\n",
       "\n",
       "    .dataframe thead th {\n",
       "        text-align: right;\n",
       "    }\n",
       "</style>\n",
       "<table border=\"1\" class=\"dataframe\">\n",
       "  <thead>\n",
       "    <tr style=\"text-align: right;\">\n",
       "      <th></th>\n",
       "      <th>df</th>\n",
       "      <th>sum_sq</th>\n",
       "      <th>mean_sq</th>\n",
       "      <th>F</th>\n",
       "      <th>PR(&gt;F)</th>\n",
       "    </tr>\n",
       "  </thead>\n",
       "  <tbody>\n",
       "    <tr>\n",
       "      <th>C(제품명)</th>\n",
       "      <td>3.0</td>\n",
       "      <td>0.022045</td>\n",
       "      <td>0.007348</td>\n",
       "      <td>2.35846</td>\n",
       "      <td>0.071297</td>\n",
       "    </tr>\n",
       "    <tr>\n",
       "      <th>Residual</th>\n",
       "      <td>376.0</td>\n",
       "      <td>1.171494</td>\n",
       "      <td>0.003116</td>\n",
       "      <td>NaN</td>\n",
       "      <td>NaN</td>\n",
       "    </tr>\n",
       "  </tbody>\n",
       "</table>\n",
       "</div>"
      ],
      "text/plain": [
       "             df    sum_sq   mean_sq        F    PR(>F)\n",
       "C(제품명)      3.0  0.022045  0.007348  2.35846  0.071297\n",
       "Residual  376.0  1.171494  0.003116      NaN       NaN"
      ]
     },
     "metadata": {},
     "output_type": "display_data"
    },
    {
     "name": "stdout",
     "output_type": "stream",
     "text": [
      "\n",
      " < Tukey 검정 >\n",
      "\n",
      "Multiple Comparison of Means - Tukey HSD, FWER=0.10\n",
      "===================================================\n",
      "group1 group2 meandiff p-adj   lower  upper  reject\n",
      "---------------------------------------------------\n",
      "   마스크    선크림  -0.0405  0.708  -0.131   0.05  False\n",
      "   마스크   스킨케어  -0.1105 0.0269  -0.201  -0.02   True\n",
      "   마스크  클렌징오일   0.0115    0.9 -0.0848 0.1079  False\n",
      "   선크림   스킨케어    -0.07 0.2877 -0.1607 0.0207  False\n",
      "   선크림  클렌징오일    0.052 0.5904 -0.0445 0.1486  False\n",
      "  스킨케어  클렌징오일    0.122 0.0202  0.0255 0.2186   True\n",
      "---------------------------------------------------\n",
      "\n",
      " < Bonferroni 검정 >\n"
     ]
    },
    {
     "data": {
      "text/html": [
       "<table class=\"simpletable\">\n",
       "<caption>Test Multiple Comparison ttest_ind \n",
       "FWER=0.05 method=bonf\n",
       "alphacSidak=0.01, alphacBonf=0.008</caption>\n",
       "<tr>\n",
       "  <th>group1</th> <th>group2</th>  <th>stat</th>    <th>pval</th>  <th>pval_corr</th> <th>reject</th>\n",
       "</tr>\n",
       "<tr>\n",
       "    <td>마스크</td>    <td>선크림</td>  <td>1.1256</td>  <td>0.2617</td>    <td>1.0</td>     <td>False</td>\n",
       "</tr>\n",
       "<tr>\n",
       "    <td>마스크</td>   <td>스킨케어</td>  <td>2.5905</td>  <td>0.0103</td>  <td>0.0618</td>    <td>False</td>\n",
       "</tr>\n",
       "<tr>\n",
       "    <td>마스크</td>   <td>클렌징오일</td> <td>-0.3706</td> <td>0.7114</td>    <td>1.0</td>     <td>False</td>\n",
       "</tr>\n",
       "<tr>\n",
       "    <td>선크림</td>   <td>스킨케어</td>  <td>1.4976</td>  <td>0.1358</td>   <td>0.815</td>    <td>False</td>\n",
       "</tr>\n",
       "<tr>\n",
       "    <td>선크림</td>   <td>클렌징오일</td> <td>-1.3816</td> <td>0.1688</td>    <td>1.0</td>     <td>False</td>\n",
       "</tr>\n",
       "<tr>\n",
       "   <td>스킨케어</td>   <td>클렌징오일</td> <td>-2.6692</td> <td>0.0083</td>  <td>0.0499</td>    <td>True</td> \n",
       "</tr>\n",
       "</table>"
      ],
      "text/plain": [
       "<class 'statsmodels.iolib.table.SimpleTable'>"
      ]
     },
     "metadata": {},
     "output_type": "display_data"
    }
   ],
   "source": [
    "get_analysis_result(cap_df)"
   ]
  },
  {
   "cell_type": "code",
   "execution_count": 241,
   "id": "223fe62a",
   "metadata": {},
   "outputs": [
    {
     "name": "stdout",
     "output_type": "stream",
     "text": [
      "< ANOVA 검정 >\n"
     ]
    },
    {
     "data": {
      "text/html": [
       "<div>\n",
       "<style scoped>\n",
       "    .dataframe tbody tr th:only-of-type {\n",
       "        vertical-align: middle;\n",
       "    }\n",
       "\n",
       "    .dataframe tbody tr th {\n",
       "        vertical-align: top;\n",
       "    }\n",
       "\n",
       "    .dataframe thead th {\n",
       "        text-align: right;\n",
       "    }\n",
       "</style>\n",
       "<table border=\"1\" class=\"dataframe\">\n",
       "  <thead>\n",
       "    <tr style=\"text-align: right;\">\n",
       "      <th></th>\n",
       "      <th>df</th>\n",
       "      <th>sum_sq</th>\n",
       "      <th>mean_sq</th>\n",
       "      <th>F</th>\n",
       "      <th>PR(&gt;F)</th>\n",
       "    </tr>\n",
       "  </thead>\n",
       "  <tbody>\n",
       "    <tr>\n",
       "      <th>C(제품명)</th>\n",
       "      <td>3.0</td>\n",
       "      <td>0.005949</td>\n",
       "      <td>0.001983</td>\n",
       "      <td>0.864537</td>\n",
       "      <td>0.459524</td>\n",
       "    </tr>\n",
       "    <tr>\n",
       "      <th>Residual</th>\n",
       "      <td>396.0</td>\n",
       "      <td>0.908333</td>\n",
       "      <td>0.002294</td>\n",
       "      <td>NaN</td>\n",
       "      <td>NaN</td>\n",
       "    </tr>\n",
       "  </tbody>\n",
       "</table>\n",
       "</div>"
      ],
      "text/plain": [
       "             df    sum_sq   mean_sq         F    PR(>F)\n",
       "C(제품명)      3.0  0.005949  0.001983  0.864537  0.459524\n",
       "Residual  396.0  0.908333  0.002294       NaN       NaN"
      ]
     },
     "metadata": {},
     "output_type": "display_data"
    },
    {
     "name": "stdout",
     "output_type": "stream",
     "text": [
      "\n",
      " < Tukey 검정 >\n",
      "\n",
      "Multiple Comparison of Means - Tukey HSD, FWER=0.10 \n",
      "====================================================\n",
      "group1 group2 meandiff p-adj   lower   upper  reject\n",
      "----------------------------------------------------\n",
      "   마스크    선크림    -0.09 0.0956 -0.1793 -0.0007   True\n",
      "   마스크   스킨케어    -0.03 0.8516 -0.1193  0.0593  False\n",
      "   마스크  클렌징오일    -0.05 0.5629 -0.1393  0.0393  False\n",
      "   선크림   스킨케어     0.06 0.4128 -0.0293  0.1493  False\n",
      "   선크림  클렌징오일     0.04 0.7073 -0.0493  0.1293  False\n",
      "  스킨케어  클렌징오일    -0.02    0.9 -0.1093  0.0693  False\n",
      "----------------------------------------------------\n",
      "\n",
      " < Bonferroni 검정 >\n"
     ]
    },
    {
     "data": {
      "text/html": [
       "<table class=\"simpletable\">\n",
       "<caption>Test Multiple Comparison ttest_ind \n",
       "FWER=0.05 method=bonf\n",
       "alphacSidak=0.01, alphacBonf=0.008</caption>\n",
       "<tr>\n",
       "  <th>group1</th> <th>group2</th>  <th>stat</th>    <th>pval</th>  <th>pval_corr</th> <th>reject</th>\n",
       "</tr>\n",
       "<tr>\n",
       "    <td>마스크</td>    <td>선크림</td>  <td>2.3007</td>  <td>0.0225</td>  <td>0.1347</td>    <td>False</td>\n",
       "</tr>\n",
       "<tr>\n",
       "    <td>마스크</td>   <td>스킨케어</td>  <td>0.9278</td>  <td>0.3546</td>    <td>1.0</td>     <td>False</td>\n",
       "</tr>\n",
       "<tr>\n",
       "    <td>마스크</td>   <td>클렌징오일</td> <td>1.4343</td>  <td>0.1531</td>  <td>0.9183</td>    <td>False</td>\n",
       "</tr>\n",
       "<tr>\n",
       "    <td>선크림</td>   <td>스킨케어</td>  <td>-1.4142</td> <td>0.1589</td>  <td>0.9532</td>    <td>False</td>\n",
       "</tr>\n",
       "<tr>\n",
       "    <td>선크림</td>   <td>클렌징오일</td> <td>-0.9013</td> <td>0.3685</td>    <td>1.0</td>     <td>False</td>\n",
       "</tr>\n",
       "<tr>\n",
       "   <td>스킨케어</td>   <td>클렌징오일</td>  <td>0.519</td>  <td>0.6043</td>    <td>1.0</td>     <td>False</td>\n",
       "</tr>\n",
       "</table>"
      ],
      "text/plain": [
       "<class 'statsmodels.iolib.table.SimpleTable'>"
      ]
     },
     "metadata": {},
     "output_type": "display_data"
    }
   ],
   "source": [
    "get_analysis_result(price_df)"
   ]
  },
  {
   "cell_type": "code",
   "execution_count": 242,
   "id": "9d41ccac",
   "metadata": {},
   "outputs": [
    {
     "name": "stdout",
     "output_type": "stream",
     "text": [
      "< ANOVA 검정 >\n"
     ]
    },
    {
     "data": {
      "text/html": [
       "<div>\n",
       "<style scoped>\n",
       "    .dataframe tbody tr th:only-of-type {\n",
       "        vertical-align: middle;\n",
       "    }\n",
       "\n",
       "    .dataframe tbody tr th {\n",
       "        vertical-align: top;\n",
       "    }\n",
       "\n",
       "    .dataframe thead th {\n",
       "        text-align: right;\n",
       "    }\n",
       "</style>\n",
       "<table border=\"1\" class=\"dataframe\">\n",
       "  <thead>\n",
       "    <tr style=\"text-align: right;\">\n",
       "      <th></th>\n",
       "      <th>df</th>\n",
       "      <th>sum_sq</th>\n",
       "      <th>mean_sq</th>\n",
       "      <th>F</th>\n",
       "      <th>PR(&gt;F)</th>\n",
       "    </tr>\n",
       "  </thead>\n",
       "  <tbody>\n",
       "    <tr>\n",
       "      <th>C(제품명)</th>\n",
       "      <td>3.0</td>\n",
       "      <td>0.017172</td>\n",
       "      <td>0.005724</td>\n",
       "      <td>1.714231</td>\n",
       "      <td>0.16351</td>\n",
       "    </tr>\n",
       "    <tr>\n",
       "      <th>Residual</th>\n",
       "      <td>393.0</td>\n",
       "      <td>1.312266</td>\n",
       "      <td>0.003339</td>\n",
       "      <td>NaN</td>\n",
       "      <td>NaN</td>\n",
       "    </tr>\n",
       "  </tbody>\n",
       "</table>\n",
       "</div>"
      ],
      "text/plain": [
       "             df    sum_sq   mean_sq         F   PR(>F)\n",
       "C(제품명)      3.0  0.017172  0.005724  1.714231  0.16351\n",
       "Residual  393.0  1.312266  0.003339       NaN      NaN"
      ]
     },
     "metadata": {},
     "output_type": "display_data"
    },
    {
     "name": "stdout",
     "output_type": "stream",
     "text": [
      "\n",
      " < Tukey 검정 >\n",
      "\n",
      "Multiple Comparison of Means - Tukey HSD, FWER=0.10 \n",
      "====================================================\n",
      "group1 group2 meandiff p-adj   lower   upper  reject\n",
      "----------------------------------------------------\n",
      "   마스크    선크림   -0.071 0.3667 -0.1715  0.0295  False\n",
      "   마스크   스킨케어  -0.1231 0.0268 -0.2238 -0.0223   True\n",
      "   마스크  클렌징오일    -0.12 0.0314 -0.2202 -0.0198   True\n",
      "   선크림   스킨케어  -0.0521 0.6206  -0.153  0.0489  False\n",
      "   선크림  클렌징오일   -0.049 0.6565 -0.1495  0.0515  False\n",
      "  스킨케어  클렌징오일   0.0031    0.9 -0.0977  0.1038  False\n",
      "----------------------------------------------------\n",
      "\n",
      " < Bonferroni 검정 >\n"
     ]
    },
    {
     "data": {
      "text/html": [
       "<table class=\"simpletable\">\n",
       "<caption>Test Multiple Comparison ttest_ind \n",
       "FWER=0.05 method=bonf\n",
       "alphacSidak=0.01, alphacBonf=0.008</caption>\n",
       "<tr>\n",
       "  <th>group1</th> <th>group2</th>  <th>stat</th>    <th>pval</th>  <th>pval_corr</th> <th>reject</th>\n",
       "</tr>\n",
       "<tr>\n",
       "    <td>마스크</td>    <td>선크림</td>  <td>2.0379</td>  <td>0.0429</td>  <td>0.2574</td>    <td>False</td>\n",
       "</tr>\n",
       "<tr>\n",
       "    <td>마스크</td>   <td>스킨케어</td>  <td>3.0674</td>  <td>0.0025</td>  <td>0.0148</td>    <td>True</td> \n",
       "</tr>\n",
       "<tr>\n",
       "    <td>마스크</td>   <td>클렌징오일</td> <td>3.0172</td>  <td>0.0029</td>  <td>0.0173</td>    <td>True</td> \n",
       "</tr>\n",
       "<tr>\n",
       "    <td>선크림</td>   <td>스킨케어</td>  <td>1.0952</td>  <td>0.2748</td>    <td>1.0</td>     <td>False</td>\n",
       "</tr>\n",
       "<tr>\n",
       "    <td>선크림</td>   <td>클렌징오일</td> <td>1.0402</td>  <td>0.2995</td>    <td>1.0</td>     <td>False</td>\n",
       "</tr>\n",
       "<tr>\n",
       "   <td>스킨케어</td>   <td>클렌징오일</td> <td>-0.0598</td> <td>0.9524</td>    <td>1.0</td>     <td>False</td>\n",
       "</tr>\n",
       "</table>"
      ],
      "text/plain": [
       "<class 'statsmodels.iolib.table.SimpleTable'>"
      ]
     },
     "metadata": {},
     "output_type": "display_data"
    }
   ],
   "source": [
    "get_analysis_result(sent_df)"
   ]
  },
  {
   "cell_type": "code",
   "execution_count": 243,
   "id": "30b570ca",
   "metadata": {},
   "outputs": [
    {
     "name": "stdout",
     "output_type": "stream",
     "text": [
      "< ANOVA 검정 >\n"
     ]
    },
    {
     "data": {
      "text/html": [
       "<div>\n",
       "<style scoped>\n",
       "    .dataframe tbody tr th:only-of-type {\n",
       "        vertical-align: middle;\n",
       "    }\n",
       "\n",
       "    .dataframe tbody tr th {\n",
       "        vertical-align: top;\n",
       "    }\n",
       "\n",
       "    .dataframe thead th {\n",
       "        text-align: right;\n",
       "    }\n",
       "</style>\n",
       "<table border=\"1\" class=\"dataframe\">\n",
       "  <thead>\n",
       "    <tr style=\"text-align: right;\">\n",
       "      <th></th>\n",
       "      <th>df</th>\n",
       "      <th>sum_sq</th>\n",
       "      <th>mean_sq</th>\n",
       "      <th>F</th>\n",
       "      <th>PR(&gt;F)</th>\n",
       "    </tr>\n",
       "  </thead>\n",
       "  <tbody>\n",
       "    <tr>\n",
       "      <th>C(제품명)</th>\n",
       "      <td>3.0</td>\n",
       "      <td>0.064253</td>\n",
       "      <td>0.021418</td>\n",
       "      <td>9.05329</td>\n",
       "      <td>0.000008</td>\n",
       "    </tr>\n",
       "    <tr>\n",
       "      <th>Residual</th>\n",
       "      <td>391.0</td>\n",
       "      <td>0.925007</td>\n",
       "      <td>0.002366</td>\n",
       "      <td>NaN</td>\n",
       "      <td>NaN</td>\n",
       "    </tr>\n",
       "  </tbody>\n",
       "</table>\n",
       "</div>"
      ],
      "text/plain": [
       "             df    sum_sq   mean_sq        F    PR(>F)\n",
       "C(제품명)      3.0  0.064253  0.021418  9.05329  0.000008\n",
       "Residual  391.0  0.925007  0.002366      NaN       NaN"
      ]
     },
     "metadata": {},
     "output_type": "display_data"
    },
    {
     "name": "stdout",
     "output_type": "stream",
     "text": [
      "\n",
      " < Tukey 검정 >\n",
      "\n",
      "Multiple Comparison of Means - Tukey HSD, FWER=0.10 \n",
      "====================================================\n",
      "group1 group2 meandiff p-adj   lower   upper  reject\n",
      "----------------------------------------------------\n",
      "   마스크    선크림  -0.0514  0.593 -0.1472  0.0444  False\n",
      "   마스크   스킨케어  -0.1313 0.0092 -0.2269 -0.0357   True\n",
      "   마스크  클렌징오일  -0.0404 0.7399  -0.136  0.0552  False\n",
      "   선크림   스킨케어  -0.0799 0.2228 -0.1757  0.0159  False\n",
      "   선크림  클렌징오일    0.011    0.9 -0.0848  0.1068  False\n",
      "  스킨케어  클렌징오일   0.0909 0.1285 -0.0047  0.1865  False\n",
      "----------------------------------------------------\n",
      "\n",
      " < Bonferroni 검정 >\n"
     ]
    },
    {
     "data": {
      "text/html": [
       "<table class=\"simpletable\">\n",
       "<caption>Test Multiple Comparison ttest_ind \n",
       "FWER=0.05 method=bonf\n",
       "alphacSidak=0.01, alphacBonf=0.008</caption>\n",
       "<tr>\n",
       "  <th>group1</th> <th>group2</th>  <th>stat</th>    <th>pval</th>  <th>pval_corr</th> <th>reject</th>\n",
       "</tr>\n",
       "<tr>\n",
       "    <td>마스크</td>    <td>선크림</td>  <td>1.4543</td>  <td>0.1475</td>  <td>0.8849</td>    <td>False</td>\n",
       "</tr>\n",
       "<tr>\n",
       "    <td>마스크</td>   <td>스킨케어</td>  <td>3.0555</td>  <td>0.0026</td>  <td>0.0154</td>    <td>True</td> \n",
       "</tr>\n",
       "<tr>\n",
       "    <td>마스크</td>   <td>클렌징오일</td> <td>1.1896</td>  <td>0.2356</td>    <td>1.0</td>     <td>False</td>\n",
       "</tr>\n",
       "<tr>\n",
       "    <td>선크림</td>   <td>스킨케어</td>  <td>1.6594</td>  <td>0.0986</td>  <td>0.5919</td>    <td>False</td>\n",
       "</tr>\n",
       "<tr>\n",
       "    <td>선크림</td>   <td>클렌징오일</td> <td>-0.2743</td> <td>0.7842</td>    <td>1.0</td>     <td>False</td>\n",
       "</tr>\n",
       "<tr>\n",
       "   <td>스킨케어</td>   <td>클렌징오일</td> <td>-1.9341</td> <td>0.0545</td>  <td>0.3272</td>    <td>False</td>\n",
       "</tr>\n",
       "</table>"
      ],
      "text/plain": [
       "<class 'statsmodels.iolib.table.SimpleTable'>"
      ]
     },
     "metadata": {},
     "output_type": "display_data"
    }
   ],
   "source": [
    "get_analysis_result(brand_df)"
   ]
  },
  {
   "cell_type": "code",
   "execution_count": 244,
   "id": "d1bfc15a",
   "metadata": {},
   "outputs": [
    {
     "name": "stdout",
     "output_type": "stream",
     "text": [
      "< ANOVA 검정 >\n"
     ]
    },
    {
     "data": {
      "text/html": [
       "<div>\n",
       "<style scoped>\n",
       "    .dataframe tbody tr th:only-of-type {\n",
       "        vertical-align: middle;\n",
       "    }\n",
       "\n",
       "    .dataframe tbody tr th {\n",
       "        vertical-align: top;\n",
       "    }\n",
       "\n",
       "    .dataframe thead th {\n",
       "        text-align: right;\n",
       "    }\n",
       "</style>\n",
       "<table border=\"1\" class=\"dataframe\">\n",
       "  <thead>\n",
       "    <tr style=\"text-align: right;\">\n",
       "      <th></th>\n",
       "      <th>df</th>\n",
       "      <th>sum_sq</th>\n",
       "      <th>mean_sq</th>\n",
       "      <th>F</th>\n",
       "      <th>PR(&gt;F)</th>\n",
       "    </tr>\n",
       "  </thead>\n",
       "  <tbody>\n",
       "    <tr>\n",
       "      <th>C(제품명)</th>\n",
       "      <td>3.0</td>\n",
       "      <td>0.129698</td>\n",
       "      <td>0.043233</td>\n",
       "      <td>8.599017</td>\n",
       "      <td>0.000015</td>\n",
       "    </tr>\n",
       "    <tr>\n",
       "      <th>Residual</th>\n",
       "      <td>396.0</td>\n",
       "      <td>1.990946</td>\n",
       "      <td>0.005028</td>\n",
       "      <td>NaN</td>\n",
       "      <td>NaN</td>\n",
       "    </tr>\n",
       "  </tbody>\n",
       "</table>\n",
       "</div>"
      ],
      "text/plain": [
       "             df    sum_sq   mean_sq         F    PR(>F)\n",
       "C(제품명)      3.0  0.129698  0.043233  8.599017  0.000015\n",
       "Residual  396.0  1.990946  0.005028       NaN       NaN"
      ]
     },
     "metadata": {},
     "output_type": "display_data"
    },
    {
     "name": "stdout",
     "output_type": "stream",
     "text": [
      "\n",
      " < Tukey 검정 >\n",
      "\n",
      "Multiple Comparison of Means - Tukey HSD, FWER=0.10 \n",
      "====================================================\n",
      "group1 group2 meandiff p-adj   lower   upper  reject\n",
      "----------------------------------------------------\n",
      "   마스크    선크림    -0.07 0.4565 -0.1793  0.0393  False\n",
      "   마스크   스킨케어    -0.15 0.0093 -0.2593 -0.0407   True\n",
      "   마스크  클렌징오일    -0.11 0.0965 -0.2193 -0.0007   True\n",
      "   선크림   스킨케어    -0.08 0.3343 -0.1893  0.0293  False\n",
      "   선크림  클렌징오일    -0.04 0.8131 -0.1493  0.0693  False\n",
      "  스킨케어  클렌징오일     0.04 0.8131 -0.0693  0.1493  False\n",
      "----------------------------------------------------\n",
      "\n",
      " < Bonferroni 검정 >\n"
     ]
    },
    {
     "data": {
      "text/html": [
       "<table class=\"simpletable\">\n",
       "<caption>Test Multiple Comparison ttest_ind \n",
       "FWER=0.05 method=bonf\n",
       "alphacSidak=0.01, alphacBonf=0.008</caption>\n",
       "<tr>\n",
       "  <th>group1</th> <th>group2</th>  <th>stat</th>    <th>pval</th>  <th>pval_corr</th> <th>reject</th>\n",
       "</tr>\n",
       "<tr>\n",
       "    <td>마스크</td>    <td>선크림</td>   <td>1.78</td>   <td>0.0766</td>  <td>0.4596</td>    <td>False</td>\n",
       "</tr>\n",
       "<tr>\n",
       "    <td>마스크</td>   <td>스킨케어</td>  <td>3.2764</td>  <td>0.0012</td>  <td>0.0074</td>    <td>True</td> \n",
       "</tr>\n",
       "<tr>\n",
       "    <td>마스크</td>   <td>클렌징오일</td> <td>2.5662</td>   <td>0.011</td>  <td>0.0661</td>    <td>False</td>\n",
       "</tr>\n",
       "<tr>\n",
       "    <td>선크림</td>   <td>스킨케어</td>  <td>1.5445</td>  <td>0.1241</td>  <td>0.7444</td>    <td>False</td>\n",
       "</tr>\n",
       "<tr>\n",
       "    <td>선크림</td>   <td>클렌징오일</td> <td>0.8124</td>  <td>0.4175</td>    <td>1.0</td>     <td>False</td>\n",
       "</tr>\n",
       "<tr>\n",
       "   <td>스킨케어</td>   <td>클렌징오일</td> <td>-0.7335</td> <td>0.4641</td>    <td>1.0</td>     <td>False</td>\n",
       "</tr>\n",
       "</table>"
      ],
      "text/plain": [
       "<class 'statsmodels.iolib.table.SimpleTable'>"
      ]
     },
     "metadata": {},
     "output_type": "display_data"
    }
   ],
   "source": [
    "get_analysis_result(comp_df)"
   ]
  },
  {
   "cell_type": "markdown",
   "id": "e03178cb",
   "metadata": {},
   "source": [
    "***\n",
    "\n",
    "### 상관분석\n",
    "\n",
    "- 각 기본특성 데이터에서 감성극성값과 평가score의 상관관계를 구합니다."
   ]
  },
  {
   "cell_type": "code",
   "execution_count": 245,
   "id": "115ed658",
   "metadata": {},
   "outputs": [
    {
     "data": {
      "text/html": [
       "<div>\n",
       "<style scoped>\n",
       "    .dataframe tbody tr th:only-of-type {\n",
       "        vertical-align: middle;\n",
       "    }\n",
       "\n",
       "    .dataframe tbody tr th {\n",
       "        vertical-align: top;\n",
       "    }\n",
       "\n",
       "    .dataframe thead th {\n",
       "        text-align: right;\n",
       "    }\n",
       "</style>\n",
       "<table border=\"1\" class=\"dataframe\">\n",
       "  <thead>\n",
       "    <tr style=\"text-align: right;\">\n",
       "      <th></th>\n",
       "      <th>score</th>\n",
       "      <th>감성극성값</th>\n",
       "    </tr>\n",
       "  </thead>\n",
       "  <tbody>\n",
       "    <tr>\n",
       "      <th>score</th>\n",
       "      <td>1.000000</td>\n",
       "      <td>0.281783</td>\n",
       "    </tr>\n",
       "    <tr>\n",
       "      <th>감성극성값</th>\n",
       "      <td>0.281783</td>\n",
       "      <td>1.000000</td>\n",
       "    </tr>\n",
       "  </tbody>\n",
       "</table>\n",
       "</div>"
      ],
      "text/plain": [
       "          score     감성극성값\n",
       "score  1.000000  0.281783\n",
       "감성극성값  0.281783  1.000000"
      ]
     },
     "execution_count": 245,
     "metadata": {},
     "output_type": "execute_result"
    }
   ],
   "source": [
    "price_df[['score', '감성극성값']].corr()"
   ]
  },
  {
   "cell_type": "code",
   "execution_count": 260,
   "id": "3d915078",
   "metadata": {},
   "outputs": [
    {
     "data": {
      "text/html": [
       "<div>\n",
       "<style scoped>\n",
       "    .dataframe tbody tr th:only-of-type {\n",
       "        vertical-align: middle;\n",
       "    }\n",
       "\n",
       "    .dataframe tbody tr th {\n",
       "        vertical-align: top;\n",
       "    }\n",
       "\n",
       "    .dataframe thead th {\n",
       "        text-align: right;\n",
       "    }\n",
       "</style>\n",
       "<table border=\"1\" class=\"dataframe\">\n",
       "  <thead>\n",
       "    <tr style=\"text-align: right;\">\n",
       "      <th></th>\n",
       "      <th>score</th>\n",
       "      <th>감성극성값</th>\n",
       "    </tr>\n",
       "  </thead>\n",
       "  <tbody>\n",
       "    <tr>\n",
       "      <th>score</th>\n",
       "      <td>1.000000</td>\n",
       "      <td>0.334487</td>\n",
       "    </tr>\n",
       "    <tr>\n",
       "      <th>감성극성값</th>\n",
       "      <td>0.334487</td>\n",
       "      <td>1.000000</td>\n",
       "    </tr>\n",
       "  </tbody>\n",
       "</table>\n",
       "</div>"
      ],
      "text/plain": [
       "          score     감성극성값\n",
       "score  1.000000  0.334487\n",
       "감성극성값  0.334487  1.000000"
      ]
     },
     "execution_count": 260,
     "metadata": {},
     "output_type": "execute_result"
    }
   ],
   "source": [
    "cap_df[['score', '감성극성값']].corr()"
   ]
  },
  {
   "cell_type": "code",
   "execution_count": 246,
   "id": "a69b8b3d",
   "metadata": {},
   "outputs": [
    {
     "data": {
      "text/html": [
       "<div>\n",
       "<style scoped>\n",
       "    .dataframe tbody tr th:only-of-type {\n",
       "        vertical-align: middle;\n",
       "    }\n",
       "\n",
       "    .dataframe tbody tr th {\n",
       "        vertical-align: top;\n",
       "    }\n",
       "\n",
       "    .dataframe thead th {\n",
       "        text-align: right;\n",
       "    }\n",
       "</style>\n",
       "<table border=\"1\" class=\"dataframe\">\n",
       "  <thead>\n",
       "    <tr style=\"text-align: right;\">\n",
       "      <th></th>\n",
       "      <th>score</th>\n",
       "      <th>감성극성값</th>\n",
       "    </tr>\n",
       "  </thead>\n",
       "  <tbody>\n",
       "    <tr>\n",
       "      <th>score</th>\n",
       "      <td>1.000000</td>\n",
       "      <td>0.359392</td>\n",
       "    </tr>\n",
       "    <tr>\n",
       "      <th>감성극성값</th>\n",
       "      <td>0.359392</td>\n",
       "      <td>1.000000</td>\n",
       "    </tr>\n",
       "  </tbody>\n",
       "</table>\n",
       "</div>"
      ],
      "text/plain": [
       "          score     감성극성값\n",
       "score  1.000000  0.359392\n",
       "감성극성값  0.359392  1.000000"
      ]
     },
     "execution_count": 246,
     "metadata": {},
     "output_type": "execute_result"
    }
   ],
   "source": [
    "brand_df[['score', '감성극성값']].corr()"
   ]
  },
  {
   "cell_type": "code",
   "execution_count": 247,
   "id": "c24e7c56",
   "metadata": {},
   "outputs": [
    {
     "data": {
      "text/html": [
       "<div>\n",
       "<style scoped>\n",
       "    .dataframe tbody tr th:only-of-type {\n",
       "        vertical-align: middle;\n",
       "    }\n",
       "\n",
       "    .dataframe tbody tr th {\n",
       "        vertical-align: top;\n",
       "    }\n",
       "\n",
       "    .dataframe thead th {\n",
       "        text-align: right;\n",
       "    }\n",
       "</style>\n",
       "<table border=\"1\" class=\"dataframe\">\n",
       "  <thead>\n",
       "    <tr style=\"text-align: right;\">\n",
       "      <th></th>\n",
       "      <th>score</th>\n",
       "      <th>감성극성값</th>\n",
       "    </tr>\n",
       "  </thead>\n",
       "  <tbody>\n",
       "    <tr>\n",
       "      <th>score</th>\n",
       "      <td>1.000000</td>\n",
       "      <td>0.401674</td>\n",
       "    </tr>\n",
       "    <tr>\n",
       "      <th>감성극성값</th>\n",
       "      <td>0.401674</td>\n",
       "      <td>1.000000</td>\n",
       "    </tr>\n",
       "  </tbody>\n",
       "</table>\n",
       "</div>"
      ],
      "text/plain": [
       "          score     감성극성값\n",
       "score  1.000000  0.401674\n",
       "감성극성값  0.401674  1.000000"
      ]
     },
     "execution_count": 247,
     "metadata": {},
     "output_type": "execute_result"
    }
   ],
   "source": [
    "sent_df[['score', '감성극성값']].corr()"
   ]
  },
  {
   "cell_type": "code",
   "execution_count": 248,
   "id": "53b21a5f",
   "metadata": {},
   "outputs": [
    {
     "data": {
      "text/html": [
       "<div>\n",
       "<style scoped>\n",
       "    .dataframe tbody tr th:only-of-type {\n",
       "        vertical-align: middle;\n",
       "    }\n",
       "\n",
       "    .dataframe tbody tr th {\n",
       "        vertical-align: top;\n",
       "    }\n",
       "\n",
       "    .dataframe thead th {\n",
       "        text-align: right;\n",
       "    }\n",
       "</style>\n",
       "<table border=\"1\" class=\"dataframe\">\n",
       "  <thead>\n",
       "    <tr style=\"text-align: right;\">\n",
       "      <th></th>\n",
       "      <th>score</th>\n",
       "      <th>감성극성값</th>\n",
       "    </tr>\n",
       "  </thead>\n",
       "  <tbody>\n",
       "    <tr>\n",
       "      <th>score</th>\n",
       "      <td>1.000000</td>\n",
       "      <td>0.458503</td>\n",
       "    </tr>\n",
       "    <tr>\n",
       "      <th>감성극성값</th>\n",
       "      <td>0.458503</td>\n",
       "      <td>1.000000</td>\n",
       "    </tr>\n",
       "  </tbody>\n",
       "</table>\n",
       "</div>"
      ],
      "text/plain": [
       "          score     감성극성값\n",
       "score  1.000000  0.458503\n",
       "감성극성값  0.458503  1.000000"
      ]
     },
     "execution_count": 248,
     "metadata": {},
     "output_type": "execute_result"
    }
   ],
   "source": [
    "comp_df[['score', '감성극성값']].corr()"
   ]
  }
 ],
 "metadata": {
  "kernelspec": {
   "display_name": "Python 3",
   "language": "python",
   "name": "python3"
  },
  "language_info": {
   "codemirror_mode": {
    "name": "ipython",
    "version": 3
   },
   "file_extension": ".py",
   "mimetype": "text/x-python",
   "name": "python",
   "nbconvert_exporter": "python",
   "pygments_lexer": "ipython3",
   "version": "3.8.8"
  }
 },
 "nbformat": 4,
 "nbformat_minor": 5
}
