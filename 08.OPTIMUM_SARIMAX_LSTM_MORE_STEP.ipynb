{
 "cells": [
  {
   "cell_type": "markdown",
   "metadata": {
    "id": "r5YjPCZQrlrm"
   },
   "source": [
    "# 시계열 분석.ver2\n",
    "\n",
    "## By OPTIMUM\n",
    "***\n",
    "고객님 안녕하세요~ 요청하신 작업물입니다~ 최대한 고객님의 요청 사항을 반영해보았습니다!\n",
    "\n",
    "기존에 보내드린 시계열 분석 코드에 데이터의 정상성 여부 검정 등 여러 과정이 포함 되어 있기 때문에 해당 과정은 과감히 생략하고 모델링에 집중하였습니다!\n",
    "\n",
    "보시고 궁금하거나 질문 있으시면 문의 주세요:)"
   ]
  },
  {
   "cell_type": "code",
   "execution_count": 1,
   "metadata": {
    "colab": {
     "base_uri": "https://localhost:8080/"
    },
    "id": "5aq87khnsOh4",
    "outputId": "35467b68-e8f8-4f8e-c0b2-a333c4228a70"
   },
   "outputs": [
    {
     "name": "stdout",
     "output_type": "stream",
     "text": [
      "Mounted at /content/gdrive/\n"
     ]
    }
   ],
   "source": [
    "from google.colab import drive\n",
    "drive.mount('/content/gdrive/', force_remount = True)"
   ]
  },
  {
   "cell_type": "code",
   "execution_count": 2,
   "metadata": {
    "colab": {
     "base_uri": "https://localhost:8080/"
    },
    "id": "BqRgRr-wtrWa",
    "outputId": "89ec0cd1-af8f-4744-c071-b1ced1f864f7"
   },
   "outputs": [
    {
     "name": "stdout",
     "output_type": "stream",
     "text": [
      "/content/gdrive/My Drive/optimum/timeseries\n"
     ]
    }
   ],
   "source": [
    "%cd /content/gdrive/My Drive/optimum/timeseries"
   ]
  },
  {
   "cell_type": "code",
   "execution_count": 3,
   "metadata": {
    "colab": {
     "base_uri": "https://localhost:8080/"
    },
    "id": "wMBdcF1urlro",
    "outputId": "c77f3ae9-6d5e-4407-df06-6c285ad349d6"
   },
   "outputs": [
    {
     "name": "stderr",
     "output_type": "stream",
     "text": [
      "/usr/local/lib/python3.7/dist-packages/statsmodels/tools/_testing.py:19: FutureWarning: pandas.util.testing is deprecated. Use the functions in the public API at pandas.testing instead.\n",
      "  import pandas.util.testing as tm\n"
     ]
    }
   ],
   "source": [
    "import pandas as pd\n",
    "import numpy as np\n",
    "from sklearn.metrics import mean_squared_error # RMSE 계산을 위해 MSE 메서드 호출\n",
    "from itertools import product, combinations # SARIMAX 최적의 파라미터 탐색을 위해 호출\n",
    "from tqdm import tqdm # 시간에 따른 진행과정 시각화\n",
    "from statsmodels.tsa.api import SARIMAX\n",
    "import matplotlib.pyplot as plt\n",
    "%matplotlib inline\n",
    "import warnings\n",
    "warnings.filterwarnings('ignore')"
   ]
  },
  {
   "cell_type": "code",
   "execution_count": 4,
   "metadata": {
    "id": "clpi7j8-rlro"
   },
   "outputs": [],
   "source": [
    "data = pd.read_csv('ETHUSDT-1h-data-original.csv')"
   ]
  },
  {
   "cell_type": "markdown",
   "metadata": {
    "id": "XAfU9oUnrlro"
   },
   "source": [
    " 고객님께서 보내주신 파일을 활용하였습니다!"
   ]
  },
  {
   "cell_type": "code",
   "execution_count": null,
   "metadata": {
    "id": "mqLmEfXmrlrp",
    "outputId": "1352ea6a-700b-4800-fd38-3290d839ab75"
   },
   "outputs": [
    {
     "data": {
      "text/html": [
       "<div>\n",
       "<style scoped>\n",
       "    .dataframe tbody tr th:only-of-type {\n",
       "        vertical-align: middle;\n",
       "    }\n",
       "\n",
       "    .dataframe tbody tr th {\n",
       "        vertical-align: top;\n",
       "    }\n",
       "\n",
       "    .dataframe thead th {\n",
       "        text-align: right;\n",
       "    }\n",
       "</style>\n",
       "<table border=\"1\" class=\"dataframe\">\n",
       "  <thead>\n",
       "    <tr style=\"text-align: right;\">\n",
       "      <th></th>\n",
       "      <th>timestamp</th>\n",
       "      <th>open</th>\n",
       "      <th>high</th>\n",
       "      <th>low</th>\n",
       "      <th>close</th>\n",
       "      <th>volume</th>\n",
       "      <th>quote_av</th>\n",
       "      <th>trades</th>\n",
       "      <th>tb_base_av</th>\n",
       "      <th>tb_quote_av</th>\n",
       "      <th>ma9</th>\n",
       "      <th>ma26</th>\n",
       "      <th>change_price</th>\n",
       "      <th>ohlc/4</th>\n",
       "      <th>updown</th>\n",
       "    </tr>\n",
       "  </thead>\n",
       "  <tbody>\n",
       "    <tr>\n",
       "      <th>0</th>\n",
       "      <td>2018-09-03 9:00</td>\n",
       "      <td>289.55</td>\n",
       "      <td>289.80</td>\n",
       "      <td>286.31</td>\n",
       "      <td>286.86</td>\n",
       "      <td>11630.11093</td>\n",
       "      <td>3343136.845</td>\n",
       "      <td>6260</td>\n",
       "      <td>5876.21622</td>\n",
       "      <td>1689315.860</td>\n",
       "      <td>290.272222</td>\n",
       "      <td>292.576154</td>\n",
       "      <td>-2.69</td>\n",
       "      <td>288.1300</td>\n",
       "      <td>-1</td>\n",
       "    </tr>\n",
       "    <tr>\n",
       "      <th>1</th>\n",
       "      <td>2018-09-03 10:00</td>\n",
       "      <td>286.91</td>\n",
       "      <td>287.65</td>\n",
       "      <td>285.99</td>\n",
       "      <td>287.38</td>\n",
       "      <td>8827.35845</td>\n",
       "      <td>2531254.623</td>\n",
       "      <td>4961</td>\n",
       "      <td>4178.38041</td>\n",
       "      <td>1198399.919</td>\n",
       "      <td>289.727778</td>\n",
       "      <td>292.171154</td>\n",
       "      <td>0.47</td>\n",
       "      <td>286.9825</td>\n",
       "      <td>1</td>\n",
       "    </tr>\n",
       "    <tr>\n",
       "      <th>2</th>\n",
       "      <td>2018-09-03 11:00</td>\n",
       "      <td>287.31</td>\n",
       "      <td>288.29</td>\n",
       "      <td>286.65</td>\n",
       "      <td>286.90</td>\n",
       "      <td>8182.48395</td>\n",
       "      <td>2351962.006</td>\n",
       "      <td>4791</td>\n",
       "      <td>4370.10789</td>\n",
       "      <td>1256081.643</td>\n",
       "      <td>289.037778</td>\n",
       "      <td>291.826923</td>\n",
       "      <td>-0.41</td>\n",
       "      <td>287.2875</td>\n",
       "      <td>-1</td>\n",
       "    </tr>\n",
       "    <tr>\n",
       "      <th>3</th>\n",
       "      <td>2018-09-03 12:00</td>\n",
       "      <td>286.90</td>\n",
       "      <td>289.27</td>\n",
       "      <td>286.36</td>\n",
       "      <td>288.49</td>\n",
       "      <td>13256.42630</td>\n",
       "      <td>3821600.569</td>\n",
       "      <td>5212</td>\n",
       "      <td>7376.84000</td>\n",
       "      <td>2127019.818</td>\n",
       "      <td>288.600000</td>\n",
       "      <td>291.622308</td>\n",
       "      <td>1.59</td>\n",
       "      <td>287.7550</td>\n",
       "      <td>1</td>\n",
       "    </tr>\n",
       "    <tr>\n",
       "      <th>4</th>\n",
       "      <td>2018-09-03 13:00</td>\n",
       "      <td>288.47</td>\n",
       "      <td>290.78</td>\n",
       "      <td>288.28</td>\n",
       "      <td>289.68</td>\n",
       "      <td>12459.64935</td>\n",
       "      <td>3612807.260</td>\n",
       "      <td>6020</td>\n",
       "      <td>6611.20044</td>\n",
       "      <td>1916764.497</td>\n",
       "      <td>288.773333</td>\n",
       "      <td>291.588461</td>\n",
       "      <td>1.21</td>\n",
       "      <td>289.3025</td>\n",
       "      <td>1</td>\n",
       "    </tr>\n",
       "  </tbody>\n",
       "</table>\n",
       "</div>"
      ],
      "text/plain": [
       "          timestamp    open    high     low   close       volume     quote_av  \\\n",
       "0   2018-09-03 9:00  289.55  289.80  286.31  286.86  11630.11093  3343136.845   \n",
       "1  2018-09-03 10:00  286.91  287.65  285.99  287.38   8827.35845  2531254.623   \n",
       "2  2018-09-03 11:00  287.31  288.29  286.65  286.90   8182.48395  2351962.006   \n",
       "3  2018-09-03 12:00  286.90  289.27  286.36  288.49  13256.42630  3821600.569   \n",
       "4  2018-09-03 13:00  288.47  290.78  288.28  289.68  12459.64935  3612807.260   \n",
       "\n",
       "   trades  tb_base_av  tb_quote_av         ma9        ma26  change_price  \\\n",
       "0    6260  5876.21622  1689315.860  290.272222  292.576154         -2.69   \n",
       "1    4961  4178.38041  1198399.919  289.727778  292.171154          0.47   \n",
       "2    4791  4370.10789  1256081.643  289.037778  291.826923         -0.41   \n",
       "3    5212  7376.84000  2127019.818  288.600000  291.622308          1.59   \n",
       "4    6020  6611.20044  1916764.497  288.773333  291.588461          1.21   \n",
       "\n",
       "     ohlc/4  updown  \n",
       "0  288.1300      -1  \n",
       "1  286.9825       1  \n",
       "2  287.2875      -1  \n",
       "3  287.7550       1  \n",
       "4  289.3025       1  "
      ]
     },
     "execution_count": 4,
     "metadata": {
      "tags": []
     },
     "output_type": "execute_result"
    }
   ],
   "source": [
    "data.head()"
   ]
  },
  {
   "cell_type": "code",
   "execution_count": 5,
   "metadata": {
    "id": "ls-VF_OKrlrp"
   },
   "outputs": [],
   "source": [
    "data['timestamp'] = pd.to_datetime(data['timestamp'])"
   ]
  },
  {
   "cell_type": "markdown",
   "metadata": {
    "id": "eYC2IKJirlrp"
   },
   "source": [
    "timestamp 컬럼을 datetime 형태로 변환합니다"
   ]
  },
  {
   "cell_type": "code",
   "execution_count": 6,
   "metadata": {
    "id": "OLqvXpq1rlrq"
   },
   "outputs": [],
   "source": [
    "data.set_index('timestamp', inplace = True)"
   ]
  },
  {
   "cell_type": "markdown",
   "metadata": {
    "id": "BOjkLzTirlrq"
   },
   "source": [
    "data의 index를 datetime으로 변환된 timestamp로 지정합니다."
   ]
  },
  {
   "cell_type": "code",
   "execution_count": 7,
   "metadata": {
    "id": "uzZxN9Jbrlrq"
   },
   "outputs": [],
   "source": [
    "data1 = data.resample('D').mean()"
   ]
  },
  {
   "cell_type": "markdown",
   "metadata": {
    "id": "ePZJSeV2rlrq"
   },
   "source": [
    "1일간격으로 설정하기 위해 데이터를 1일 간격으로 조정하고 각 변수의 값을 1일 평균값으로 설정합니다."
   ]
  },
  {
   "cell_type": "code",
   "execution_count": 8,
   "metadata": {
    "colab": {
     "base_uri": "https://localhost:8080/"
    },
    "id": "77oup5QOrlrq",
    "outputId": "ddc96038-81e2-47a5-cb5d-b48dde75fdcb"
   },
   "outputs": [
    {
     "data": {
      "text/plain": [
       "DatetimeIndex(['2018-09-03', '2018-09-04', '2018-09-05', '2018-09-06',\n",
       "               '2018-09-07', '2018-09-08', '2018-09-09', '2018-09-10',\n",
       "               '2018-09-11', '2018-09-12',\n",
       "               ...\n",
       "               '2021-05-30', '2021-05-31', '2021-06-01', '2021-06-02',\n",
       "               '2021-06-03', '2021-06-04', '2021-06-05', '2021-06-06',\n",
       "               '2021-06-07', '2021-06-08'],\n",
       "              dtype='datetime64[ns]', name='timestamp', length=1010, freq='D')"
      ]
     },
     "execution_count": 8,
     "metadata": {
      "tags": []
     },
     "output_type": "execute_result"
    }
   ],
   "source": [
    "data1.index"
   ]
  },
  {
   "cell_type": "markdown",
   "metadata": {
    "id": "mJRy3H11rlrr"
   },
   "source": [
    "index를 확인하여 보니 D 간격으로 설정되어 있는 것을 알 수 있습니다."
   ]
  },
  {
   "cell_type": "code",
   "execution_count": 9,
   "metadata": {
    "id": "_dFgIXPyrlrr"
   },
   "outputs": [],
   "source": [
    "data1 = data1.asfreq('D')"
   ]
  },
  {
   "cell_type": "code",
   "execution_count": null,
   "metadata": {
    "id": "355_PeF3rlrr",
    "outputId": "3c8bd680-6402-4302-b944-dd2eaf9d2229",
    "scrolled": true
   },
   "outputs": [
    {
     "data": {
      "text/html": [
       "<div>\n",
       "<style scoped>\n",
       "    .dataframe tbody tr th:only-of-type {\n",
       "        vertical-align: middle;\n",
       "    }\n",
       "\n",
       "    .dataframe tbody tr th {\n",
       "        vertical-align: top;\n",
       "    }\n",
       "\n",
       "    .dataframe thead th {\n",
       "        text-align: right;\n",
       "    }\n",
       "</style>\n",
       "<table border=\"1\" class=\"dataframe\">\n",
       "  <thead>\n",
       "    <tr style=\"text-align: right;\">\n",
       "      <th></th>\n",
       "      <th>open</th>\n",
       "      <th>high</th>\n",
       "      <th>low</th>\n",
       "      <th>close</th>\n",
       "      <th>volume</th>\n",
       "      <th>quote_av</th>\n",
       "      <th>trades</th>\n",
       "      <th>tb_base_av</th>\n",
       "      <th>tb_quote_av</th>\n",
       "      <th>ma9</th>\n",
       "      <th>ma26</th>\n",
       "      <th>change_price</th>\n",
       "      <th>ohlc/4</th>\n",
       "      <th>updown</th>\n",
       "    </tr>\n",
       "    <tr>\n",
       "      <th>timestamp</th>\n",
       "      <th></th>\n",
       "      <th></th>\n",
       "      <th></th>\n",
       "      <th></th>\n",
       "      <th></th>\n",
       "      <th></th>\n",
       "      <th></th>\n",
       "      <th></th>\n",
       "      <th></th>\n",
       "      <th></th>\n",
       "      <th></th>\n",
       "      <th></th>\n",
       "      <th></th>\n",
       "      <th></th>\n",
       "    </tr>\n",
       "  </thead>\n",
       "  <tbody>\n",
       "    <tr>\n",
       "      <th>2018-09-03</th>\n",
       "      <td>289.250667</td>\n",
       "      <td>290.452000</td>\n",
       "      <td>287.986000</td>\n",
       "      <td>289.222000</td>\n",
       "      <td>12708.858988</td>\n",
       "      <td>3.677694e+06</td>\n",
       "      <td>5173.133333</td>\n",
       "      <td>7191.297774</td>\n",
       "      <td>2.081192e+06</td>\n",
       "      <td>289.227185</td>\n",
       "      <td>291.266154</td>\n",
       "      <td>-0.028667</td>\n",
       "      <td>289.227667</td>\n",
       "      <td>0.200000</td>\n",
       "    </tr>\n",
       "    <tr>\n",
       "      <th>2018-09-04</th>\n",
       "      <td>287.641250</td>\n",
       "      <td>288.628333</td>\n",
       "      <td>286.226250</td>\n",
       "      <td>287.490000</td>\n",
       "      <td>13754.257917</td>\n",
       "      <td>3.955040e+06</td>\n",
       "      <td>5372.333333</td>\n",
       "      <td>8048.879036</td>\n",
       "      <td>2.315098e+06</td>\n",
       "      <td>288.235602</td>\n",
       "      <td>288.836362</td>\n",
       "      <td>-0.151250</td>\n",
       "      <td>287.496458</td>\n",
       "      <td>0.083333</td>\n",
       "    </tr>\n",
       "    <tr>\n",
       "      <th>2018-09-05</th>\n",
       "      <td>265.532083</td>\n",
       "      <td>266.729167</td>\n",
       "      <td>261.085000</td>\n",
       "      <td>263.158333</td>\n",
       "      <td>22030.596650</td>\n",
       "      <td>5.692505e+06</td>\n",
       "      <td>9093.458333</td>\n",
       "      <td>11935.467323</td>\n",
       "      <td>3.091415e+06</td>\n",
       "      <td>270.728704</td>\n",
       "      <td>280.322548</td>\n",
       "      <td>-2.373750</td>\n",
       "      <td>264.126146</td>\n",
       "      <td>-0.250000</td>\n",
       "    </tr>\n",
       "    <tr>\n",
       "      <th>2018-09-06</th>\n",
       "      <td>226.494583</td>\n",
       "      <td>228.842083</td>\n",
       "      <td>223.319583</td>\n",
       "      <td>226.564583</td>\n",
       "      <td>23041.536070</td>\n",
       "      <td>5.202532e+06</td>\n",
       "      <td>10048.583333</td>\n",
       "      <td>12387.264634</td>\n",
       "      <td>2.798636e+06</td>\n",
       "      <td>228.920833</td>\n",
       "      <td>241.077083</td>\n",
       "      <td>0.070000</td>\n",
       "      <td>226.305208</td>\n",
       "      <td>-0.083333</td>\n",
       "    </tr>\n",
       "    <tr>\n",
       "      <th>2018-09-07</th>\n",
       "      <td>222.839583</td>\n",
       "      <td>224.367500</td>\n",
       "      <td>220.633333</td>\n",
       "      <td>222.212500</td>\n",
       "      <td>16599.159059</td>\n",
       "      <td>3.694601e+06</td>\n",
       "      <td>6767.916667</td>\n",
       "      <td>9198.494907</td>\n",
       "      <td>2.048890e+06</td>\n",
       "      <td>223.794074</td>\n",
       "      <td>225.718061</td>\n",
       "      <td>-0.627083</td>\n",
       "      <td>222.513229</td>\n",
       "      <td>-0.416667</td>\n",
       "    </tr>\n",
       "  </tbody>\n",
       "</table>\n",
       "</div>"
      ],
      "text/plain": [
       "                  open        high         low       close        volume  \\\n",
       "timestamp                                                                  \n",
       "2018-09-03  289.250667  290.452000  287.986000  289.222000  12708.858988   \n",
       "2018-09-04  287.641250  288.628333  286.226250  287.490000  13754.257917   \n",
       "2018-09-05  265.532083  266.729167  261.085000  263.158333  22030.596650   \n",
       "2018-09-06  226.494583  228.842083  223.319583  226.564583  23041.536070   \n",
       "2018-09-07  222.839583  224.367500  220.633333  222.212500  16599.159059   \n",
       "\n",
       "                quote_av        trades    tb_base_av   tb_quote_av  \\\n",
       "timestamp                                                            \n",
       "2018-09-03  3.677694e+06   5173.133333   7191.297774  2.081192e+06   \n",
       "2018-09-04  3.955040e+06   5372.333333   8048.879036  2.315098e+06   \n",
       "2018-09-05  5.692505e+06   9093.458333  11935.467323  3.091415e+06   \n",
       "2018-09-06  5.202532e+06  10048.583333  12387.264634  2.798636e+06   \n",
       "2018-09-07  3.694601e+06   6767.916667   9198.494907  2.048890e+06   \n",
       "\n",
       "                   ma9        ma26  change_price      ohlc/4    updown  \n",
       "timestamp                                                               \n",
       "2018-09-03  289.227185  291.266154     -0.028667  289.227667  0.200000  \n",
       "2018-09-04  288.235602  288.836362     -0.151250  287.496458  0.083333  \n",
       "2018-09-05  270.728704  280.322548     -2.373750  264.126146 -0.250000  \n",
       "2018-09-06  228.920833  241.077083      0.070000  226.305208 -0.083333  \n",
       "2018-09-07  223.794074  225.718061     -0.627083  222.513229 -0.416667  "
      ]
     },
     "execution_count": 10,
     "metadata": {
      "tags": []
     },
     "output_type": "execute_result"
    }
   ],
   "source": [
    "data1.head()"
   ]
  },
  {
   "cell_type": "code",
   "execution_count": null,
   "metadata": {
    "id": "FFaRKeLDrlrr"
   },
   "outputs": [],
   "source": [
    "y_train = data1.close.iloc[:950]\n",
    "y_test = data1.close.iloc[950:]"
   ]
  },
  {
   "cell_type": "code",
   "execution_count": null,
   "metadata": {
    "id": "vB9qUmkerlrr"
   },
   "outputs": [],
   "source": [
    "from statsmodels.tsa.seasonal import seasonal_decompose"
   ]
  },
  {
   "cell_type": "code",
   "execution_count": null,
   "metadata": {
    "id": "o2GySrQGrlrs",
    "outputId": "146d5777-1849-4d9f-f07a-01587bd3c420"
   },
   "outputs": [
    {
     "data": {
      "image/png": "[encoded data removed]",
      "text/plain": [
       "<Figure size 720x360 with 4 Axes>"
      ]
     },
     "metadata": {
      "needs_background": "light",
      "tags": []
     },
     "output_type": "display_data"
    }
   ],
   "source": [
    "plt.rcParams['figure.figsize'] = (10, 5)\n",
    "decomposed = seasonal_decompose(y_train, model = 'additive')\n",
    "decomposed.plot()\n",
    "plt.show()"
   ]
  },
  {
   "cell_type": "markdown",
   "metadata": {
    "id": "CKXs1gzxrlrs"
   },
   "source": [
    "ARIMA의 모수 p, d, q를 아래의 범위로 지정합니다."
   ]
  },
  {
   "cell_type": "code",
   "execution_count": null,
   "metadata": {
    "id": "plOER4r9rlrs"
   },
   "outputs": [],
   "source": [
    "p, q = range(1,3), range(1,3)\n",
    "d = range(0, 2)"
   ]
  },
  {
   "cell_type": "markdown",
   "metadata": {
    "id": "a-SeTsLnrlrs"
   },
   "source": [
    "SARIMAX의 모수 P, D, Q, S를 아래의 범위로 지정합니다.\n",
    "\n",
    "S를 4로 지정한 이유는 딱히 없습니다! 고객님께서 임의로 지정하셔도 되며 range로 범위를 지정해서 사용하셔도 됩니다!"
   ]
  },
  {
   "cell_type": "code",
   "execution_count": null,
   "metadata": {
    "id": "tmJsr5BTrlrs"
   },
   "outputs": [],
   "source": [
    "P, Q = range(1,3), range(1,3)\n",
    "D = range(0, 2)\n",
    "S = 4"
   ]
  },
  {
   "cell_type": "markdown",
   "metadata": {
    "id": "FBVfszB-rlrt"
   },
   "source": [
    "y_train의 추이를 살펴보겠습니다."
   ]
  },
  {
   "cell_type": "code",
   "execution_count": null,
   "metadata": {
    "id": "PECY4icyrlrt",
    "outputId": "f4fdad29-5e04-47ce-a55b-9272cc5bfdf4"
   },
   "outputs": [
    {
     "data": {
      "image/png": "[encoded data removed]",
      "text/plain": [
       "<Figure size 720x360 with 1 Axes>"
      ]
     },
     "metadata": {
      "needs_background": "light",
      "tags": []
     },
     "output_type": "display_data"
    }
   ],
   "source": [
    "ax = y_train.plot(label = 'train')\n",
    "y_test.plot(label = 'test')\n",
    "plt.legend()\n",
    "plt.show()"
   ]
  },
  {
   "cell_type": "markdown",
   "metadata": {
    "id": "NUsnw5aarlrt"
   },
   "source": [
    "### 단일 변수인 close만의 시계열 분석을 통해서 더 먼 미래의 step을 예측하여 보겠습니다.\n",
    "\n",
    "- exog = None으로 지정하여 진행합니다!"
   ]
  },
  {
   "cell_type": "code",
   "execution_count": null,
   "metadata": {
    "id": "o8O4eNqirlrt",
    "outputId": "6f78b24e-f5cb-472f-d180-cb3f53371390",
    "scrolled": true
   },
   "outputs": [
    {
     "name": "stderr",
     "output_type": "stream",
     "text": [
      "100%|██████████| 8/8 [01:32<00:00, 11.57s/it]"
     ]
    },
    {
     "name": "stdout",
     "output_type": "stream",
     "text": [
      "The smallest AIC is 8653.245827617446 for model SARIMAX(2, 1, 2)x(2, 1, 2, 4)\n"
     ]
    },
    {
     "name": "stderr",
     "output_type": "stream",
     "text": [
      "\n"
     ]
    }
   ],
   "source": [
    "trend_pdq = list(product(p, d, q))\n",
    "seasonal_pdq = [(candi[0], candi[1], candi[2], S) for candi in list(product(P, D, Q))]\n",
    "## SARIMAX\n",
    "AIC = []\n",
    "SARIMAX_order = []\n",
    "for trend_param in tqdm(trend_pdq):\n",
    "    for seasonal_params in seasonal_pdq:\n",
    "        try:\n",
    "            result = SARIMAX(y_train, trend = 'c', \n",
    "                                   order = trend_param, seasonal_order = seasonal_params, exog = None).fit()\n",
    "            AIC.append(result.aic)\n",
    "            SARIMAX_order.append([trend_param, seasonal_params])\n",
    "        except:\n",
    "            continue\n",
    "## Parameter Selection\n",
    "print('The smallest AIC is {} for model SARIMAX{}x{}'.format(min(AIC), SARIMAX_order[AIC.index(min(AIC))][0], SARIMAX_order[AIC.index(min(AIC))][1]))"
   ]
  },
  {
   "cell_type": "markdown",
   "metadata": {
    "id": "xd3V1QfSrlrt"
   },
   "source": [
    "AIC 점수가 가장 낮은 SARIMAX 모형의 파라미터는 p = 2, d = 1, q = 2, P = 2, D = 1, Q = 2, S = 4입니다.\n",
    "\n",
    "해당 파라미터로 SARIMAX 모델을 학습시켜보겠습니다. 동일하게 exog = None으로 지정합니다."
   ]
  },
  {
   "cell_type": "code",
   "execution_count": null,
   "metadata": {
    "id": "uUv7gyvnrlru",
    "outputId": "4a4ad9aa-b4fa-49e2-a515-4e0700c65494"
   },
   "outputs": [
    {
     "data": {
      "text/html": [
       "<table class=\"simpletable\">\n",
       "<caption>SARIMAX Results</caption>\n",
       "<tr>\n",
       "  <th>Dep. Variable:</th>               <td>close</td>             <th>  No. Observations:  </th>    <td>950</td>   \n",
       "</tr>\n",
       "<tr>\n",
       "  <th>Model:</th>           <td>SARIMAX(2, 1, 2)x(2, 1, 2, 4)</td> <th>  Log Likelihood     </th> <td>-4316.623</td>\n",
       "</tr>\n",
       "<tr>\n",
       "  <th>Date:</th>                  <td>Wed, 16 Jun 2021</td>        <th>  AIC                </th> <td>8653.246</td> \n",
       "</tr>\n",
       "<tr>\n",
       "  <th>Time:</th>                      <td>20:04:26</td>            <th>  BIC                </th> <td>8701.758</td> \n",
       "</tr>\n",
       "<tr>\n",
       "  <th>Sample:</th>                   <td>09-03-2018</td>           <th>  HQIC               </th> <td>8671.734</td> \n",
       "</tr>\n",
       "<tr>\n",
       "  <th></th>                         <td>- 04-09-2021</td>          <th>                     </th>     <td> </td>    \n",
       "</tr>\n",
       "<tr>\n",
       "  <th>Covariance Type:</th>              <td>opg</td>              <th>                     </th>     <td> </td>    \n",
       "</tr>\n",
       "</table>\n",
       "<table class=\"simpletable\">\n",
       "<tr>\n",
       "      <td></td>         <th>coef</th>     <th>std err</th>      <th>z</th>      <th>P>|z|</th>  <th>[0.025</th>    <th>0.975]</th>  \n",
       "</tr>\n",
       "<tr>\n",
       "  <th>intercept</th> <td>    0.0505</td> <td>    0.040</td> <td>    1.260</td> <td> 0.208</td> <td>   -0.028</td> <td>    0.129</td>\n",
       "</tr>\n",
       "<tr>\n",
       "  <th>ar.L1</th>     <td>    0.4750</td> <td>    0.039</td> <td>   12.318</td> <td> 0.000</td> <td>    0.399</td> <td>    0.551</td>\n",
       "</tr>\n",
       "<tr>\n",
       "  <th>ar.L2</th>     <td>   -0.7742</td> <td>    0.029</td> <td>  -26.571</td> <td> 0.000</td> <td>   -0.831</td> <td>   -0.717</td>\n",
       "</tr>\n",
       "<tr>\n",
       "  <th>ma.L1</th>     <td>   -0.3206</td> <td>    0.037</td> <td>   -8.743</td> <td> 0.000</td> <td>   -0.393</td> <td>   -0.249</td>\n",
       "</tr>\n",
       "<tr>\n",
       "  <th>ma.L2</th>     <td>    0.7791</td> <td>    0.030</td> <td>   25.766</td> <td> 0.000</td> <td>    0.720</td> <td>    0.838</td>\n",
       "</tr>\n",
       "<tr>\n",
       "  <th>ar.S.L4</th>   <td>    0.4127</td> <td>    0.085</td> <td>    4.874</td> <td> 0.000</td> <td>    0.247</td> <td>    0.579</td>\n",
       "</tr>\n",
       "<tr>\n",
       "  <th>ar.S.L8</th>   <td>   -0.1629</td> <td>    0.017</td> <td>   -9.560</td> <td> 0.000</td> <td>   -0.196</td> <td>   -0.129</td>\n",
       "</tr>\n",
       "<tr>\n",
       "  <th>ma.S.L4</th>   <td>   -1.3936</td> <td>    0.082</td> <td>  -16.971</td> <td> 0.000</td> <td>   -1.555</td> <td>   -1.233</td>\n",
       "</tr>\n",
       "<tr>\n",
       "  <th>ma.S.L8</th>   <td>    0.4197</td> <td>    0.081</td> <td>    5.182</td> <td> 0.000</td> <td>    0.261</td> <td>    0.578</td>\n",
       "</tr>\n",
       "<tr>\n",
       "  <th>sigma2</th>    <td>  537.4653</td> <td>    7.061</td> <td>   76.116</td> <td> 0.000</td> <td>  523.626</td> <td>  551.305</td>\n",
       "</tr>\n",
       "</table>\n",
       "<table class=\"simpletable\">\n",
       "<tr>\n",
       "  <th>Ljung-Box (L1) (Q):</th>     <td>1.70</td>  <th>  Jarque-Bera (JB):  </th> <td>38240.40</td>\n",
       "</tr>\n",
       "<tr>\n",
       "  <th>Prob(Q):</th>                <td>0.19</td>  <th>  Prob(JB):          </th>   <td>0.00</td>  \n",
       "</tr>\n",
       "<tr>\n",
       "  <th>Heteroskedasticity (H):</th> <td>21.83</td> <th>  Skew:              </th>   <td>-2.07</td> \n",
       "</tr>\n",
       "<tr>\n",
       "  <th>Prob(H) (two-sided):</th>    <td>0.00</td>  <th>  Kurtosis:          </th>   <td>33.89</td> \n",
       "</tr>\n",
       "</table><br/><br/>Warnings:<br/>[1] Covariance matrix calculated using the outer product of gradients (complex-step)."
      ],
      "text/plain": [
       "<class 'statsmodels.iolib.summary.Summary'>\n",
       "\"\"\"\n",
       "                                     SARIMAX Results                                     \n",
       "=========================================================================================\n",
       "Dep. Variable:                             close   No. Observations:                  950\n",
       "Model:             SARIMAX(2, 1, 2)x(2, 1, 2, 4)   Log Likelihood               -4316.623\n",
       "Date:                           Wed, 16 Jun 2021   AIC                           8653.246\n",
       "Time:                                   20:04:26   BIC                           8701.758\n",
       "Sample:                               09-03-2018   HQIC                          8671.734\n",
       "                                    - 04-09-2021                                         \n",
       "Covariance Type:                             opg                                         \n",
       "==============================================================================\n",
       "                 coef    std err          z      P>|z|      [0.025      0.975]\n",
       "------------------------------------------------------------------------------\n",
       "intercept      0.0505      0.040      1.260      0.208      -0.028       0.129\n",
       "ar.L1          0.4750      0.039     12.318      0.000       0.399       0.551\n",
       "ar.L2         -0.7742      0.029    -26.571      0.000      -0.831      -0.717\n",
       "ma.L1         -0.3206      0.037     -8.743      0.000      -0.393      -0.249\n",
       "ma.L2          0.7791      0.030     25.766      0.000       0.720       0.838\n",
       "ar.S.L4        0.4127      0.085      4.874      0.000       0.247       0.579\n",
       "ar.S.L8       -0.1629      0.017     -9.560      0.000      -0.196      -0.129\n",
       "ma.S.L4       -1.3936      0.082    -16.971      0.000      -1.555      -1.233\n",
       "ma.S.L8        0.4197      0.081      5.182      0.000       0.261       0.578\n",
       "sigma2       537.4653      7.061     76.116      0.000     523.626     551.305\n",
       "===================================================================================\n",
       "Ljung-Box (L1) (Q):                   1.70   Jarque-Bera (JB):             38240.40\n",
       "Prob(Q):                              0.19   Prob(JB):                         0.00\n",
       "Heteroskedasticity (H):              21.83   Skew:                            -2.07\n",
       "Prob(H) (two-sided):                  0.00   Kurtosis:                        33.89\n",
       "===================================================================================\n",
       "\n",
       "Warnings:\n",
       "[1] Covariance matrix calculated using the outer product of gradients (complex-step).\n",
       "\"\"\""
      ]
     },
     "metadata": {
      "tags": []
     },
     "output_type": "display_data"
    }
   ],
   "source": [
    "model = SARIMAX(y_train, trend = 'c', order = SARIMAX_order[AIC.index(min(AIC))][0], \n",
    "                                seasonal_order = SARIMAX_order[AIC.index(min(AIC))][1], exog = None).fit()\n",
    "display(model.summary())"
   ]
  },
  {
   "cell_type": "markdown",
   "metadata": {
    "id": "mui4QJHyrlru"
   },
   "source": [
    "y_test는 60개의 데이터만 존재하지만 이보다 더 먼 미래인 150(60 + 90)step의 예측치를 뽑아보겠습니다."
   ]
  },
  {
   "cell_type": "code",
   "execution_count": null,
   "metadata": {
    "id": "EqNHqCosrlru"
   },
   "outputs": [],
   "source": [
    "pred = model.get_forecast(150) # 150 = 60 + 90steps"
   ]
  },
  {
   "cell_type": "code",
   "execution_count": null,
   "metadata": {
    "id": "F3o-5k0Irlrv",
    "outputId": "01c0fa32-4e4c-494c-af8a-6a2dc9207f5b"
   },
   "outputs": [
    {
     "data": {
      "image/png": "[encoded data removed]",
      "text/plain": [
       "<Figure size 720x360 with 1 Axes>"
      ]
     },
     "metadata": {
      "needs_background": "light",
      "tags": []
     },
     "output_type": "display_data"
    }
   ],
   "source": [
    "ax = y_train.plot(label = 'train')\n",
    "pred_ci = pred.conf_int()\n",
    "pred.predicted_mean.plot(color = '#ff0086', label = 'prediction', linestyle = '--')\n",
    "y_test.plot(label = 'test', linestyle = ':')\n",
    "ax.fill_between(pred_ci.index, pred_ci.iloc[:, 0], pred_ci.iloc[:, 1], color = '#ff0086', alpha = .2)\n",
    "plt.legend()\n",
    "plt.show()"
   ]
  },
  {
   "cell_type": "markdown",
   "metadata": {
    "id": "U2lUIYNArlrv"
   },
   "source": [
    "외생변수를 사용하지 않은채 추가적인 steps의 예측치를 출력하여 plotting한 결과는 위와 같습니다. 단순히 상승하는 추세만 반영이 된 것 같습니다. 아무래도 시계열에 다양한 요인이 고려되지 않고 단일변량(y)만을 사용하였기 때문인 것 같습니다.\n",
    "\n",
    "그렇다면 일단 더 먼 step이 아닌 test만을 사용하여 성능을 평가하여 보겠습니다."
   ]
  },
  {
   "cell_type": "code",
   "execution_count": null,
   "metadata": {
    "id": "8XP18aQFrlrv"
   },
   "outputs": [],
   "source": [
    "pred = model.get_forecast(60)"
   ]
  },
  {
   "cell_type": "code",
   "execution_count": null,
   "metadata": {
    "id": "LcxzYER1rlrw"
   },
   "outputs": [],
   "source": [
    "rmse = np.sqrt(mean_squared_error(y_test, pred.predicted_mean))"
   ]
  },
  {
   "cell_type": "code",
   "execution_count": null,
   "metadata": {
    "id": "ZV_gr9B9rlrx",
    "outputId": "62463eec-fdaf-4ab2-837f-b7c3404ba5f6",
    "scrolled": false
   },
   "outputs": [
    {
     "name": "stdout",
     "output_type": "stream",
     "text": [
      "SARIMAX 모델의 RMSE = 710.2100395573556\n"
     ]
    }
   ],
   "source": [
    "print(f'SARIMAX 모델의 RMSE = {rmse}')"
   ]
  },
  {
   "cell_type": "markdown",
   "metadata": {
    "id": "nVd_bvDgrlry"
   },
   "source": [
    "## 외생변수를 고려하여 데이터셋에 없는 추가 step에 대한 예측치 생성\n",
    "\n",
    "- 외생변수를 사용하여 데이터셋에 존재하지 않는 step에 대한 예측치 생성의 경우 n step 이후의 예측치를 얻고자할 때 학습 데이터를 외생변수에는 t시점의 값을 그리고 종속변수에는 t+n시점의 값을 지정하면 됩니다.\n",
    "- 예를 들어 1월 1일부터 1월 31일까지의 데이터로 2월 1,2,3,4,5일의 5일치 예측을 얻고자 하는 경우 1월 1일 종속변수는 1월 6일의 종속변수....1월 15일 종속변수는 1월 20일 종속변수....1월 26일 종속변수는 1월 31일 종속변수를 넣어줍니다.\n",
    "- 이후 위의 데이터를 학습한 후 남은 1월 27, 28, 29, 30, 31일 데이터를 predict하게 되면 동일하게 5일 뒤의 종속변수 값을 출력하여 2월 1,2,3,4,5일의 예측치를 반환합니다.\n",
    "\n",
    "#### 이번에는 데이터에 없는 6월 9일 ~ 6월 18일 예측치를 생성해보겠습니다."
   ]
  },
  {
   "cell_type": "code",
   "execution_count": null,
   "metadata": {
    "id": "2zoLqaHDrlrz"
   },
   "outputs": [],
   "source": [
    "data1['close_1'] = data1['close'].shift(-10) # 10일 이후의 값을 close_1 컬럼에 지정합니다."
   ]
  },
  {
   "cell_type": "markdown",
   "metadata": {
    "id": "M4npSGB3rlrz"
   },
   "source": [
    "5월 30일부터 6월 8일까지는 close_1 값이 NaN으로 되어있습니다. 이 날짜의 독립변수 값들은 predict시 exog에 사용됩니다!"
   ]
  },
  {
   "cell_type": "code",
   "execution_count": null,
   "metadata": {
    "id": "GuuXm8a_rlrz"
   },
   "outputs": [],
   "source": [
    "y_train = data1.close_1.iloc[:950]\n",
    "y_test = data1.close_1.iloc[950:-10] # 마지막 10일은 close_1 컬럼이 NaN이기 때문에 최종 예측에 사용하기 위해 인덱싱에서 제외합니다."
   ]
  },
  {
   "cell_type": "code",
   "execution_count": null,
   "metadata": {
    "id": "OYCkCWyqrlrz"
   },
   "outputs": [],
   "source": [
    "p, q = range(1,3), range(1,3)\n",
    "d = range(0, 2)"
   ]
  },
  {
   "cell_type": "code",
   "execution_count": null,
   "metadata": {
    "id": "PvkfeO73rlr0"
   },
   "outputs": [],
   "source": [
    "P, Q = range(1,3), range(1,3)\n",
    "D = range(0, 2)\n",
    "S = 7"
   ]
  },
  {
   "cell_type": "markdown",
   "metadata": {
    "id": "Q7-ilU6drlr0"
   },
   "source": [
    "사용 exog 변수는 Open, volume, trades, ma9, ohlc/4 입니다.\n",
    "\n",
    "iloc 인덱싱을 하면 0, 4, 6, 9, -3 번째 column입니다."
   ]
  },
  {
   "cell_type": "code",
   "execution_count": null,
   "metadata": {
    "id": "71VscAmCrlr0",
    "outputId": "e7eb5d8a-ae92-40a7-de0c-ff5d40a581b4"
   },
   "outputs": [
    {
     "name": "stderr",
     "output_type": "stream",
     "text": [
      "100%|██████████| 8/8 [04:11<00:00, 31.40s/it]"
     ]
    },
    {
     "name": "stdout",
     "output_type": "stream",
     "text": [
      "The smallest AIC is 8834.21433799715 for model SARIMAX(2, 1, 2)x(2, 0, 2, 7)\n"
     ]
    },
    {
     "name": "stderr",
     "output_type": "stream",
     "text": [
      "\n"
     ]
    }
   ],
   "source": [
    "trend_pdq = list(product(p, d, q))\n",
    "seasonal_pdq = [(candi[0], candi[1], candi[2], S) for candi in list(product(P, D, Q))]\n",
    "## SARIMAX\n",
    "AIC = []\n",
    "SARIMAX_order = []\n",
    "for trend_param in tqdm(trend_pdq):\n",
    "    for seasonal_params in seasonal_pdq:\n",
    "        try:\n",
    "            result = SARIMAX(y_train, trend = 'c', \n",
    "                                   order = trend_param, seasonal_order = seasonal_params, exog = data1.iloc[:950, [0, 4, 6, 9, -3]]).fit()\n",
    "            AIC.append(result.aic)\n",
    "            SARIMAX_order.append([trend_param, seasonal_params])\n",
    "        except:\n",
    "            continue\n",
    "## Parameter Selection\n",
    "print('The smallest AIC is {} for model SARIMAX{}x{}'.format(min(AIC), SARIMAX_order[AIC.index(min(AIC))][0], SARIMAX_order[AIC.index(min(AIC))][1]))"
   ]
  },
  {
   "cell_type": "code",
   "execution_count": null,
   "metadata": {
    "id": "E_Z4eQFCrlr1",
    "outputId": "d9b8f93d-316e-4d18-c833-fffee6beee57"
   },
   "outputs": [
    {
     "data": {
      "text/html": [
       "<table class=\"simpletable\">\n",
       "<caption>SARIMAX Results</caption>\n",
       "<tr>\n",
       "  <th>Dep. Variable:</th>              <td>close_1</td>            <th>  No. Observations:  </th>    <td>950</td>   \n",
       "</tr>\n",
       "<tr>\n",
       "  <th>Model:</th>           <td>SARIMAX(2, 1, 2)x(2, 0, 2, 7)</td> <th>  Log Likelihood     </th> <td>-4402.107</td>\n",
       "</tr>\n",
       "<tr>\n",
       "  <th>Date:</th>                  <td>Wed, 16 Jun 2021</td>        <th>  AIC                </th> <td>8834.214</td> \n",
       "</tr>\n",
       "<tr>\n",
       "  <th>Time:</th>                      <td>20:46:18</td>            <th>  BIC                </th> <td>8907.045</td> \n",
       "</tr>\n",
       "<tr>\n",
       "  <th>Sample:</th>                   <td>09-03-2018</td>           <th>  HQIC               </th> <td>8861.965</td> \n",
       "</tr>\n",
       "<tr>\n",
       "  <th></th>                         <td>- 04-09-2021</td>          <th>                     </th>     <td> </td>    \n",
       "</tr>\n",
       "<tr>\n",
       "  <th>Covariance Type:</th>              <td>opg</td>              <th>                     </th>     <td> </td>    \n",
       "</tr>\n",
       "</table>\n",
       "<table class=\"simpletable\">\n",
       "<tr>\n",
       "      <td></td>         <th>coef</th>     <th>std err</th>      <th>z</th>      <th>P>|z|</th>  <th>[0.025</th>    <th>0.975]</th>  \n",
       "</tr>\n",
       "<tr>\n",
       "  <th>intercept</th> <td>    1.4543</td> <td>    2.125</td> <td>    0.685</td> <td> 0.494</td> <td>   -2.710</td> <td>    5.618</td>\n",
       "</tr>\n",
       "<tr>\n",
       "  <th>open</th>      <td>    2.5128</td> <td>    0.992</td> <td>    2.533</td> <td> 0.011</td> <td>    0.569</td> <td>    4.457</td>\n",
       "</tr>\n",
       "<tr>\n",
       "  <th>volume</th>    <td>    0.0001</td> <td>    0.000</td> <td>    0.998</td> <td> 0.318</td> <td>   -0.000</td> <td>    0.000</td>\n",
       "</tr>\n",
       "<tr>\n",
       "  <th>trades</th>    <td>   -0.0004</td> <td>    0.000</td> <td>   -2.160</td> <td> 0.031</td> <td>   -0.001</td> <td>-4.03e-05</td>\n",
       "</tr>\n",
       "<tr>\n",
       "  <th>ma9</th>       <td>   -0.1548</td> <td>    0.185</td> <td>   -0.839</td> <td> 0.401</td> <td>   -0.516</td> <td>    0.207</td>\n",
       "</tr>\n",
       "<tr>\n",
       "  <th>ohlc/4</th>    <td>   -2.1720</td> <td>    0.839</td> <td>   -2.587</td> <td> 0.010</td> <td>   -3.817</td> <td>   -0.527</td>\n",
       "</tr>\n",
       "<tr>\n",
       "  <th>ar.L1</th>     <td>    0.2466</td> <td>    0.221</td> <td>    1.113</td> <td> 0.266</td> <td>   -0.188</td> <td>    0.681</td>\n",
       "</tr>\n",
       "<tr>\n",
       "  <th>ar.L2</th>     <td>   -0.3067</td> <td>    0.091</td> <td>   -3.385</td> <td> 0.001</td> <td>   -0.484</td> <td>   -0.129</td>\n",
       "</tr>\n",
       "<tr>\n",
       "  <th>ma.L1</th>     <td>   -0.0316</td> <td>    0.220</td> <td>   -0.143</td> <td> 0.886</td> <td>   -0.463</td> <td>    0.400</td>\n",
       "</tr>\n",
       "<tr>\n",
       "  <th>ma.L2</th>     <td>    0.3284</td> <td>    0.060</td> <td>    5.502</td> <td> 0.000</td> <td>    0.211</td> <td>    0.445</td>\n",
       "</tr>\n",
       "<tr>\n",
       "  <th>ar.S.L7</th>   <td>   -0.3530</td> <td>    0.158</td> <td>   -2.233</td> <td> 0.026</td> <td>   -0.663</td> <td>   -0.043</td>\n",
       "</tr>\n",
       "<tr>\n",
       "  <th>ar.S.L14</th>  <td>   -0.2131</td> <td>    0.134</td> <td>   -1.585</td> <td> 0.113</td> <td>   -0.477</td> <td>    0.050</td>\n",
       "</tr>\n",
       "<tr>\n",
       "  <th>ma.S.L7</th>   <td>    0.3629</td> <td>    0.159</td> <td>    2.288</td> <td> 0.022</td> <td>    0.052</td> <td>    0.674</td>\n",
       "</tr>\n",
       "<tr>\n",
       "  <th>ma.S.L14</th>  <td>    0.0652</td> <td>    0.141</td> <td>    0.462</td> <td> 0.644</td> <td>   -0.211</td> <td>    0.342</td>\n",
       "</tr>\n",
       "<tr>\n",
       "  <th>sigma2</th>    <td>  646.5090</td> <td>   10.543</td> <td>   61.323</td> <td> 0.000</td> <td>  625.846</td> <td>  667.172</td>\n",
       "</tr>\n",
       "</table>\n",
       "<table class=\"simpletable\">\n",
       "<tr>\n",
       "  <th>Ljung-Box (L1) (Q):</th>     <td>0.23</td>  <th>  Jarque-Bera (JB):  </th> <td>32084.95</td>\n",
       "</tr>\n",
       "<tr>\n",
       "  <th>Prob(Q):</th>                <td>0.63</td>  <th>  Prob(JB):          </th>   <td>0.00</td>  \n",
       "</tr>\n",
       "<tr>\n",
       "  <th>Heteroskedasticity (H):</th> <td>29.83</td> <th>  Skew:              </th>   <td>-1.67</td> \n",
       "</tr>\n",
       "<tr>\n",
       "  <th>Prob(H) (two-sided):</th>    <td>0.00</td>  <th>  Kurtosis:          </th>   <td>31.29</td> \n",
       "</tr>\n",
       "</table><br/><br/>Warnings:<br/>[1] Covariance matrix calculated using the outer product of gradients (complex-step)."
      ],
      "text/plain": [
       "<class 'statsmodels.iolib.summary.Summary'>\n",
       "\"\"\"\n",
       "                                     SARIMAX Results                                     \n",
       "=========================================================================================\n",
       "Dep. Variable:                           close_1   No. Observations:                  950\n",
       "Model:             SARIMAX(2, 1, 2)x(2, 0, 2, 7)   Log Likelihood               -4402.107\n",
       "Date:                           Wed, 16 Jun 2021   AIC                           8834.214\n",
       "Time:                                   20:46:18   BIC                           8907.045\n",
       "Sample:                               09-03-2018   HQIC                          8861.965\n",
       "                                    - 04-09-2021                                         \n",
       "Covariance Type:                             opg                                         \n",
       "==============================================================================\n",
       "                 coef    std err          z      P>|z|      [0.025      0.975]\n",
       "------------------------------------------------------------------------------\n",
       "intercept      1.4543      2.125      0.685      0.494      -2.710       5.618\n",
       "open           2.5128      0.992      2.533      0.011       0.569       4.457\n",
       "volume         0.0001      0.000      0.998      0.318      -0.000       0.000\n",
       "trades        -0.0004      0.000     -2.160      0.031      -0.001   -4.03e-05\n",
       "ma9           -0.1548      0.185     -0.839      0.401      -0.516       0.207\n",
       "ohlc/4        -2.1720      0.839     -2.587      0.010      -3.817      -0.527\n",
       "ar.L1          0.2466      0.221      1.113      0.266      -0.188       0.681\n",
       "ar.L2         -0.3067      0.091     -3.385      0.001      -0.484      -0.129\n",
       "ma.L1         -0.0316      0.220     -0.143      0.886      -0.463       0.400\n",
       "ma.L2          0.3284      0.060      5.502      0.000       0.211       0.445\n",
       "ar.S.L7       -0.3530      0.158     -2.233      0.026      -0.663      -0.043\n",
       "ar.S.L14      -0.2131      0.134     -1.585      0.113      -0.477       0.050\n",
       "ma.S.L7        0.3629      0.159      2.288      0.022       0.052       0.674\n",
       "ma.S.L14       0.0652      0.141      0.462      0.644      -0.211       0.342\n",
       "sigma2       646.5090     10.543     61.323      0.000     625.846     667.172\n",
       "===================================================================================\n",
       "Ljung-Box (L1) (Q):                   0.23   Jarque-Bera (JB):             32084.95\n",
       "Prob(Q):                              0.63   Prob(JB):                         0.00\n",
       "Heteroskedasticity (H):              29.83   Skew:                            -1.67\n",
       "Prob(H) (two-sided):                  0.00   Kurtosis:                        31.29\n",
       "===================================================================================\n",
       "\n",
       "Warnings:\n",
       "[1] Covariance matrix calculated using the outer product of gradients (complex-step).\n",
       "\"\"\""
      ]
     },
     "metadata": {
      "tags": []
     },
     "output_type": "display_data"
    }
   ],
   "source": [
    "model = SARIMAX(y_train, trend = 'c', order = SARIMAX_order[AIC.index(min(AIC))][0], \n",
    "                                seasonal_order = SARIMAX_order[AIC.index(min(AIC))][1], exog = data1.iloc[:950, [0, 4, 6, 9, -3]]).fit()\n",
    "display(model.summary())"
   ]
  },
  {
   "cell_type": "code",
   "execution_count": null,
   "metadata": {
    "id": "OLKMyKVgrlr1"
   },
   "outputs": [],
   "source": [
    "forecast = model.get_forecast(50, exog = data1[['open', 'volume', 'trades', 'ma9', 'ohlc/4']].iloc[950:-10])"
   ]
  },
  {
   "cell_type": "markdown",
   "metadata": {
    "id": "u7Un3Zu-rlr1"
   },
   "source": [
    "y_test의 step만큼 산출합니다."
   ]
  },
  {
   "cell_type": "code",
   "execution_count": null,
   "metadata": {
    "id": "IKJEw_t7rlr1"
   },
   "outputs": [],
   "source": [
    "pred = forecast.predicted_mean"
   ]
  },
  {
   "cell_type": "markdown",
   "metadata": {
    "id": "DO2TU-Z7rlr1"
   },
   "source": [
    "예측 값을 반환합니다."
   ]
  },
  {
   "cell_type": "code",
   "execution_count": null,
   "metadata": {
    "id": "1y3Y8A1urlr1"
   },
   "outputs": [],
   "source": [
    "pred10 = forecast.predicted_mean.iloc[-10:]"
   ]
  },
  {
   "cell_type": "markdown",
   "metadata": {
    "id": "CV-1L_oirlr2"
   },
   "source": [
    "10일 이후의 관측치를 예측했으므로 뒤에서 10개를 잘라냅니다."
   ]
  },
  {
   "cell_type": "code",
   "execution_count": null,
   "metadata": {
    "id": "9EvreBebrlr2"
   },
   "outputs": [],
   "source": [
    "actual = y_test.iloc[-10:]"
   ]
  },
  {
   "cell_type": "markdown",
   "metadata": {
    "id": "i0umTMV6rlr2"
   },
   "source": [
    "실제 y_test에서 뒤에서 10개를 잘라냅니다."
   ]
  },
  {
   "cell_type": "code",
   "execution_count": null,
   "metadata": {
    "id": "BRCEuthwrlr2"
   },
   "outputs": [],
   "source": [
    "rmse = np.sqrt(mean_squared_error(actual.tolist(), pred10.tolist()))"
   ]
  },
  {
   "cell_type": "markdown",
   "metadata": {
    "id": "291rI9dcrlr2"
   },
   "source": [
    "두 값의 RMSE를 계산합니다."
   ]
  },
  {
   "cell_type": "code",
   "execution_count": null,
   "metadata": {
    "id": "i0Jp4biprlr2",
    "outputId": "76587649-f2ef-4c4e-f5ff-1b108c24f42b"
   },
   "outputs": [
    {
     "name": "stdout",
     "output_type": "stream",
     "text": [
      "10일 이전의 종속변수로 예측한 10일 뒤 예측치의 RMSE는 333.50830872573897\n"
     ]
    }
   ],
   "source": [
    "print(f'10일 이전의 종속변수로 예측한 10일 뒤 예측치의 RMSE는 {rmse}')"
   ]
  },
  {
   "cell_type": "markdown",
   "metadata": {
    "id": "bZ6Mgvptrlr2"
   },
   "source": [
    "이전 단일변량으로 예측했을 때 보다 RMSE가 절반 이상 감소하였습니다."
   ]
  },
  {
   "cell_type": "code",
   "execution_count": null,
   "metadata": {
    "id": "N4olteWMrlr2"
   },
   "outputs": [],
   "source": [
    "more_step = model.get_forecast(10, exog = data1[['open', 'volume', 'trades', 'ma9', 'ohlc/4']].iloc[1000:]).predicted_mean"
   ]
  },
  {
   "cell_type": "markdown",
   "metadata": {
    "id": "n9cFFk85rlr3"
   },
   "source": [
    "데이터에 존재하지 않는 10일 간의 예측치를 산출합니다. train & test 어디에도 사용되지 않은 5월 30일 ~ 6월 8일 데이터를 사용합니다."
   ]
  },
  {
   "cell_type": "code",
   "execution_count": null,
   "metadata": {
    "id": "bknc1RAerlr3"
   },
   "outputs": [],
   "source": [
    "more_step = pd.Series(more_step.tolist(), index = pd.date_range('2021-06-09', '2021-06-18'))"
   ]
  },
  {
   "cell_type": "markdown",
   "metadata": {
    "id": "kUFlN6LHrlr3"
   },
   "source": [
    "인덱스를 6월 9일 ~ 6월 18일로 조정합니다."
   ]
  },
  {
   "cell_type": "code",
   "execution_count": null,
   "metadata": {
    "id": "FJCnJ56erlr3",
    "outputId": "1e3dbecd-cd8c-41bc-c1b4-7ba3a1f76dff"
   },
   "outputs": [
    {
     "data": {
      "image/png": "[encoded data removed]",
      "text/plain": [
       "<Figure size 720x360 with 1 Axes>"
      ]
     },
     "metadata": {
      "needs_background": "light",
      "tags": []
     },
     "output_type": "display_data"
    }
   ],
   "source": [
    "ax = data1['close'].plot(label = 'actual')\n",
    "more_step.plot(label = 'prediction')\n",
    "plt.legend()\n",
    "plt.show()"
   ]
  },
  {
   "cell_type": "markdown",
   "metadata": {
    "id": "gSbhhaF7rlr3"
   },
   "source": [
    "10일 뒤에는 close가 대폭 감소하는 것으로 예측하고 있습니다!"
   ]
  },
  {
   "cell_type": "markdown",
   "metadata": {
    "id": "STYVTf_5tf3n"
   },
   "source": [
    "## LSTM"
   ]
  },
  {
   "cell_type": "code",
   "execution_count": 125,
   "metadata": {
    "id": "S2o__U1wtg1N"
   },
   "outputs": [],
   "source": [
    "from tensorflow.keras.layers import LSTM, GRU, Dense, Dropout\n",
    "from tensorflow.keras.models import Sequential\n",
    "from tensorflow.keras.optimizers import Adam, RMSprop"
   ]
  },
  {
   "cell_type": "code",
   "execution_count": 11,
   "metadata": {
    "id": "veM5Jw_kwiGB"
   },
   "outputs": [],
   "source": [
    "from sklearn.preprocessing import MinMaxScaler"
   ]
  },
  {
   "cell_type": "code",
   "execution_count": 12,
   "metadata": {
    "id": "WfiZG5-cwkik"
   },
   "outputs": [],
   "source": [
    "scaler = MinMaxScaler()"
   ]
  },
  {
   "cell_type": "code",
   "execution_count": 83,
   "metadata": {
    "id": "i6YXzWHx1fT3"
   },
   "outputs": [],
   "source": [
    "target = data1.iloc[:, [3, 0, 4, 6, 9, -3]]\n",
    "close = data1.close"
   ]
  },
  {
   "cell_type": "code",
   "execution_count": 67,
   "metadata": {
    "colab": {
     "base_uri": "https://localhost:8080/"
    },
    "id": "GbN-YxzJcUKn",
    "outputId": "cb1f4d05-7c03-4bef-bec6-5a76f5f18f5b"
   },
   "outputs": [
    {
     "data": {
      "text/plain": [
       "['close', 'open', 'volume', 'trades', 'ma9', 'change_price']"
      ]
     },
     "execution_count": 67,
     "metadata": {
      "tags": []
     },
     "output_type": "execute_result"
    }
   ],
   "source": [
    "target.columns.tolist()"
   ]
  },
  {
   "cell_type": "markdown",
   "metadata": {},
   "source": [
    "LSTM의 외생 변수는 위의 변수들을 사용하였습니다."
   ]
  },
  {
   "cell_type": "code",
   "execution_count": 68,
   "metadata": {
    "id": "3PZoXTi-wl4a"
   },
   "outputs": [],
   "source": [
    "scaled = pd.DataFrame(scaler.fit_transform(target), columns = target.columns)"
   ]
  },
  {
   "cell_type": "markdown",
   "metadata": {},
   "source": [
    "변수들을 스케일링을 해줍니다."
   ]
  },
  {
   "cell_type": "code",
   "execution_count": 62,
   "metadata": {
    "id": "kfbOrizgy5G7"
   },
   "outputs": [],
   "source": [
    "def get_series_for_modeling(data, n_in = 5, n_out = 5, dropna = True) :\n",
    "  df = pd.DataFrame(data)\n",
    "\n",
    "  cols, names = [], []\n",
    "  for i in range(0, 6) :\n",
    "    cols.append(df.shift(i))\n",
    "    names += [f'{x}_{i}' for x in df.columns]\n",
    "\n",
    "  for i in range(1, 6) :\n",
    "    cols.append(df.shift(-i))\n",
    "    names += [f'{x}_{-i}' for x in df.columns]\n",
    "\n",
    "  agg = pd.concat(cols, axis = 1)\n",
    "  agg.columns = names\n",
    "  agg.dropna(inplace = True)\n",
    "  return agg"
   ]
  },
  {
   "cell_type": "markdown",
   "metadata": {},
   "source": [
    "기본적으로 LSTM의 다변량 시계열은 현재 시점 t를 기준으로 과거 n시점과 미래 n시점의 데이터 값이 한 행에 같이 들어갑니다."
   ]
  },
  {
   "cell_type": "code",
   "execution_count": 69,
   "metadata": {
    "id": "iWbfcVZpzmcY"
   },
   "outputs": [],
   "source": [
    "lstm_input = get_series_for_modeling(scaled)"
   ]
  },
  {
   "cell_type": "code",
   "execution_count": 70,
   "metadata": {
    "colab": {
     "base_uri": "https://localhost:8080/"
    },
    "id": "m9wOjM5n10cX",
    "outputId": "2910284b-6e0f-4777-ea08-611831fc9ea2",
    "scrolled": true
   },
   "outputs": [
    {
     "data": {
      "text/plain": [
       "(1000, 66)"
      ]
     },
     "execution_count": 70,
     "metadata": {
      "tags": []
     },
     "output_type": "execute_result"
    }
   ],
   "source": [
    "lstm_input.shape"
   ]
  },
  {
   "cell_type": "code",
   "execution_count": 71,
   "metadata": {
    "colab": {
     "base_uri": "https://localhost:8080/",
     "height": 439
    },
    "id": "B3WTagUqfqUf",
    "outputId": "b914e39f-0b98-4808-a25e-0a187bf34e83",
    "scrolled": true
   },
   "outputs": [
    {
     "data": {
      "text/html": [
       "<div>\n",
       "<style scoped>\n",
       "    .dataframe tbody tr th:only-of-type {\n",
       "        vertical-align: middle;\n",
       "    }\n",
       "\n",
       "    .dataframe tbody tr th {\n",
       "        vertical-align: top;\n",
       "    }\n",
       "\n",
       "    .dataframe thead th {\n",
       "        text-align: right;\n",
       "    }\n",
       "</style>\n",
       "<table border=\"1\" class=\"dataframe\">\n",
       "  <thead>\n",
       "    <tr style=\"text-align: right;\">\n",
       "      <th></th>\n",
       "      <th>close_0</th>\n",
       "      <th>open_0</th>\n",
       "      <th>volume_0</th>\n",
       "      <th>trades_0</th>\n",
       "      <th>ma9_0</th>\n",
       "      <th>change_price_0</th>\n",
       "      <th>close_1</th>\n",
       "      <th>open_1</th>\n",
       "      <th>volume_1</th>\n",
       "      <th>trades_1</th>\n",
       "      <th>ma9_1</th>\n",
       "      <th>change_price_1</th>\n",
       "      <th>close_2</th>\n",
       "      <th>open_2</th>\n",
       "      <th>volume_2</th>\n",
       "      <th>trades_2</th>\n",
       "      <th>ma9_2</th>\n",
       "      <th>change_price_2</th>\n",
       "      <th>close_3</th>\n",
       "      <th>open_3</th>\n",
       "      <th>volume_3</th>\n",
       "      <th>trades_3</th>\n",
       "      <th>ma9_3</th>\n",
       "      <th>change_price_3</th>\n",
       "      <th>close_4</th>\n",
       "      <th>open_4</th>\n",
       "      <th>volume_4</th>\n",
       "      <th>trades_4</th>\n",
       "      <th>ma9_4</th>\n",
       "      <th>change_price_4</th>\n",
       "      <th>close_5</th>\n",
       "      <th>open_5</th>\n",
       "      <th>volume_5</th>\n",
       "      <th>trades_5</th>\n",
       "      <th>ma9_5</th>\n",
       "      <th>change_price_5</th>\n",
       "      <th>close_-1</th>\n",
       "      <th>open_-1</th>\n",
       "      <th>volume_-1</th>\n",
       "      <th>trades_-1</th>\n",
       "      <th>ma9_-1</th>\n",
       "      <th>change_price_-1</th>\n",
       "      <th>close_-2</th>\n",
       "      <th>open_-2</th>\n",
       "      <th>volume_-2</th>\n",
       "      <th>trades_-2</th>\n",
       "      <th>ma9_-2</th>\n",
       "      <th>change_price_-2</th>\n",
       "      <th>close_-3</th>\n",
       "      <th>open_-3</th>\n",
       "      <th>volume_-3</th>\n",
       "      <th>trades_-3</th>\n",
       "      <th>ma9_-3</th>\n",
       "      <th>change_price_-3</th>\n",
       "      <th>close_-4</th>\n",
       "      <th>open_-4</th>\n",
       "      <th>volume_-4</th>\n",
       "      <th>trades_-4</th>\n",
       "      <th>ma9_-4</th>\n",
       "      <th>change_price_-4</th>\n",
       "      <th>close_-5</th>\n",
       "      <th>open_-5</th>\n",
       "      <th>volume_-5</th>\n",
       "      <th>trades_-5</th>\n",
       "      <th>ma9_-5</th>\n",
       "      <th>change_price_-5</th>\n",
       "    </tr>\n",
       "  </thead>\n",
       "  <tbody>\n",
       "    <tr>\n",
       "      <th>5</th>\n",
       "      <td>0.030916</td>\n",
       "      <td>0.030989</td>\n",
       "      <td>0.059423</td>\n",
       "      <td>0.014893</td>\n",
       "      <td>0.031640</td>\n",
       "      <td>0.616865</td>\n",
       "      <td>0.033552</td>\n",
       "      <td>0.033584</td>\n",
       "      <td>0.076639</td>\n",
       "      <td>0.024050</td>\n",
       "      <td>0.033861</td>\n",
       "      <td>0.618946</td>\n",
       "      <td>0.034606</td>\n",
       "      <td>0.034467</td>\n",
       "      <td>0.110115</td>\n",
       "      <td>0.038315</td>\n",
       "      <td>0.035100</td>\n",
       "      <td>0.630212</td>\n",
       "      <td>0.043471</td>\n",
       "      <td>0.043891</td>\n",
       "      <td>0.104862</td>\n",
       "      <td>0.034162</td>\n",
       "      <td>0.045207</td>\n",
       "      <td>0.590716</td>\n",
       "      <td>0.049366</td>\n",
       "      <td>0.049228</td>\n",
       "      <td>0.061857</td>\n",
       "      <td>0.017981</td>\n",
       "      <td>0.049439</td>\n",
       "      <td>0.626636</td>\n",
       "      <td>0.049786</td>\n",
       "      <td>0.049617</td>\n",
       "      <td>0.056425</td>\n",
       "      <td>0.017115</td>\n",
       "      <td>0.049679</td>\n",
       "      <td>0.628618</td>\n",
       "      <td>0.027399</td>\n",
       "      <td>0.027313</td>\n",
       "      <td>0.083324</td>\n",
       "      <td>0.020856</td>\n",
       "      <td>0.027294</td>\n",
       "      <td>0.628327</td>\n",
       "      <td>0.027261</td>\n",
       "      <td>0.027158</td>\n",
       "      <td>0.080993</td>\n",
       "      <td>0.021202</td>\n",
       "      <td>0.027318</td>\n",
       "      <td>0.629519</td>\n",
       "      <td>0.025679</td>\n",
       "      <td>0.025711</td>\n",
       "      <td>0.093606</td>\n",
       "      <td>0.024327</td>\n",
       "      <td>0.026072</td>\n",
       "      <td>0.620872</td>\n",
       "      <td>0.022322</td>\n",
       "      <td>0.022258</td>\n",
       "      <td>0.099517</td>\n",
       "      <td>0.021948</td>\n",
       "      <td>0.022385</td>\n",
       "      <td>0.628078</td>\n",
       "      <td>0.027595</td>\n",
       "      <td>0.027218</td>\n",
       "      <td>0.150494</td>\n",
       "      <td>0.034866</td>\n",
       "      <td>0.026498</td>\n",
       "      <td>0.647741</td>\n",
       "    </tr>\n",
       "    <tr>\n",
       "      <th>6</th>\n",
       "      <td>0.027399</td>\n",
       "      <td>0.027313</td>\n",
       "      <td>0.083324</td>\n",
       "      <td>0.020856</td>\n",
       "      <td>0.027294</td>\n",
       "      <td>0.628327</td>\n",
       "      <td>0.030916</td>\n",
       "      <td>0.030989</td>\n",
       "      <td>0.059423</td>\n",
       "      <td>0.014893</td>\n",
       "      <td>0.031640</td>\n",
       "      <td>0.616865</td>\n",
       "      <td>0.033552</td>\n",
       "      <td>0.033584</td>\n",
       "      <td>0.076639</td>\n",
       "      <td>0.024050</td>\n",
       "      <td>0.033861</td>\n",
       "      <td>0.618946</td>\n",
       "      <td>0.034606</td>\n",
       "      <td>0.034467</td>\n",
       "      <td>0.110115</td>\n",
       "      <td>0.038315</td>\n",
       "      <td>0.035100</td>\n",
       "      <td>0.630212</td>\n",
       "      <td>0.043471</td>\n",
       "      <td>0.043891</td>\n",
       "      <td>0.104862</td>\n",
       "      <td>0.034162</td>\n",
       "      <td>0.045207</td>\n",
       "      <td>0.590716</td>\n",
       "      <td>0.049366</td>\n",
       "      <td>0.049228</td>\n",
       "      <td>0.061857</td>\n",
       "      <td>0.017981</td>\n",
       "      <td>0.049439</td>\n",
       "      <td>0.626636</td>\n",
       "      <td>0.027261</td>\n",
       "      <td>0.027158</td>\n",
       "      <td>0.080993</td>\n",
       "      <td>0.021202</td>\n",
       "      <td>0.027318</td>\n",
       "      <td>0.629519</td>\n",
       "      <td>0.025679</td>\n",
       "      <td>0.025711</td>\n",
       "      <td>0.093606</td>\n",
       "      <td>0.024327</td>\n",
       "      <td>0.026072</td>\n",
       "      <td>0.620872</td>\n",
       "      <td>0.022322</td>\n",
       "      <td>0.022258</td>\n",
       "      <td>0.099517</td>\n",
       "      <td>0.021948</td>\n",
       "      <td>0.022385</td>\n",
       "      <td>0.628078</td>\n",
       "      <td>0.027595</td>\n",
       "      <td>0.027218</td>\n",
       "      <td>0.150494</td>\n",
       "      <td>0.034866</td>\n",
       "      <td>0.026498</td>\n",
       "      <td>0.647741</td>\n",
       "      <td>0.031154</td>\n",
       "      <td>0.031062</td>\n",
       "      <td>0.170941</td>\n",
       "      <td>0.039906</td>\n",
       "      <td>0.030778</td>\n",
       "      <td>0.627902</td>\n",
       "    </tr>\n",
       "    <tr>\n",
       "      <th>7</th>\n",
       "      <td>0.027261</td>\n",
       "      <td>0.027158</td>\n",
       "      <td>0.080993</td>\n",
       "      <td>0.021202</td>\n",
       "      <td>0.027318</td>\n",
       "      <td>0.629519</td>\n",
       "      <td>0.027399</td>\n",
       "      <td>0.027313</td>\n",
       "      <td>0.083324</td>\n",
       "      <td>0.020856</td>\n",
       "      <td>0.027294</td>\n",
       "      <td>0.628327</td>\n",
       "      <td>0.030916</td>\n",
       "      <td>0.030989</td>\n",
       "      <td>0.059423</td>\n",
       "      <td>0.014893</td>\n",
       "      <td>0.031640</td>\n",
       "      <td>0.616865</td>\n",
       "      <td>0.033552</td>\n",
       "      <td>0.033584</td>\n",
       "      <td>0.076639</td>\n",
       "      <td>0.024050</td>\n",
       "      <td>0.033861</td>\n",
       "      <td>0.618946</td>\n",
       "      <td>0.034606</td>\n",
       "      <td>0.034467</td>\n",
       "      <td>0.110115</td>\n",
       "      <td>0.038315</td>\n",
       "      <td>0.035100</td>\n",
       "      <td>0.630212</td>\n",
       "      <td>0.043471</td>\n",
       "      <td>0.043891</td>\n",
       "      <td>0.104862</td>\n",
       "      <td>0.034162</td>\n",
       "      <td>0.045207</td>\n",
       "      <td>0.590716</td>\n",
       "      <td>0.025679</td>\n",
       "      <td>0.025711</td>\n",
       "      <td>0.093606</td>\n",
       "      <td>0.024327</td>\n",
       "      <td>0.026072</td>\n",
       "      <td>0.620872</td>\n",
       "      <td>0.022322</td>\n",
       "      <td>0.022258</td>\n",
       "      <td>0.099517</td>\n",
       "      <td>0.021948</td>\n",
       "      <td>0.022385</td>\n",
       "      <td>0.628078</td>\n",
       "      <td>0.027595</td>\n",
       "      <td>0.027218</td>\n",
       "      <td>0.150494</td>\n",
       "      <td>0.034866</td>\n",
       "      <td>0.026498</td>\n",
       "      <td>0.647741</td>\n",
       "      <td>0.031154</td>\n",
       "      <td>0.031062</td>\n",
       "      <td>0.170941</td>\n",
       "      <td>0.039906</td>\n",
       "      <td>0.030778</td>\n",
       "      <td>0.627902</td>\n",
       "      <td>0.032685</td>\n",
       "      <td>0.032444</td>\n",
       "      <td>0.085877</td>\n",
       "      <td>0.017326</td>\n",
       "      <td>0.032297</td>\n",
       "      <td>0.637431</td>\n",
       "    </tr>\n",
       "    <tr>\n",
       "      <th>8</th>\n",
       "      <td>0.025679</td>\n",
       "      <td>0.025711</td>\n",
       "      <td>0.093606</td>\n",
       "      <td>0.024327</td>\n",
       "      <td>0.026072</td>\n",
       "      <td>0.620872</td>\n",
       "      <td>0.027261</td>\n",
       "      <td>0.027158</td>\n",
       "      <td>0.080993</td>\n",
       "      <td>0.021202</td>\n",
       "      <td>0.027318</td>\n",
       "      <td>0.629519</td>\n",
       "      <td>0.027399</td>\n",
       "      <td>0.027313</td>\n",
       "      <td>0.083324</td>\n",
       "      <td>0.020856</td>\n",
       "      <td>0.027294</td>\n",
       "      <td>0.628327</td>\n",
       "      <td>0.030916</td>\n",
       "      <td>0.030989</td>\n",
       "      <td>0.059423</td>\n",
       "      <td>0.014893</td>\n",
       "      <td>0.031640</td>\n",
       "      <td>0.616865</td>\n",
       "      <td>0.033552</td>\n",
       "      <td>0.033584</td>\n",
       "      <td>0.076639</td>\n",
       "      <td>0.024050</td>\n",
       "      <td>0.033861</td>\n",
       "      <td>0.618946</td>\n",
       "      <td>0.034606</td>\n",
       "      <td>0.034467</td>\n",
       "      <td>0.110115</td>\n",
       "      <td>0.038315</td>\n",
       "      <td>0.035100</td>\n",
       "      <td>0.630212</td>\n",
       "      <td>0.022322</td>\n",
       "      <td>0.022258</td>\n",
       "      <td>0.099517</td>\n",
       "      <td>0.021948</td>\n",
       "      <td>0.022385</td>\n",
       "      <td>0.628078</td>\n",
       "      <td>0.027595</td>\n",
       "      <td>0.027218</td>\n",
       "      <td>0.150494</td>\n",
       "      <td>0.034866</td>\n",
       "      <td>0.026498</td>\n",
       "      <td>0.647741</td>\n",
       "      <td>0.031154</td>\n",
       "      <td>0.031062</td>\n",
       "      <td>0.170941</td>\n",
       "      <td>0.039906</td>\n",
       "      <td>0.030778</td>\n",
       "      <td>0.627902</td>\n",
       "      <td>0.032685</td>\n",
       "      <td>0.032444</td>\n",
       "      <td>0.085877</td>\n",
       "      <td>0.017326</td>\n",
       "      <td>0.032297</td>\n",
       "      <td>0.637431</td>\n",
       "      <td>0.032576</td>\n",
       "      <td>0.032484</td>\n",
       "      <td>0.082519</td>\n",
       "      <td>0.018334</td>\n",
       "      <td>0.032598</td>\n",
       "      <td>0.627532</td>\n",
       "    </tr>\n",
       "    <tr>\n",
       "      <th>9</th>\n",
       "      <td>0.022322</td>\n",
       "      <td>0.022258</td>\n",
       "      <td>0.099517</td>\n",
       "      <td>0.021948</td>\n",
       "      <td>0.022385</td>\n",
       "      <td>0.628078</td>\n",
       "      <td>0.025679</td>\n",
       "      <td>0.025711</td>\n",
       "      <td>0.093606</td>\n",
       "      <td>0.024327</td>\n",
       "      <td>0.026072</td>\n",
       "      <td>0.620872</td>\n",
       "      <td>0.027261</td>\n",
       "      <td>0.027158</td>\n",
       "      <td>0.080993</td>\n",
       "      <td>0.021202</td>\n",
       "      <td>0.027318</td>\n",
       "      <td>0.629519</td>\n",
       "      <td>0.027399</td>\n",
       "      <td>0.027313</td>\n",
       "      <td>0.083324</td>\n",
       "      <td>0.020856</td>\n",
       "      <td>0.027294</td>\n",
       "      <td>0.628327</td>\n",
       "      <td>0.030916</td>\n",
       "      <td>0.030989</td>\n",
       "      <td>0.059423</td>\n",
       "      <td>0.014893</td>\n",
       "      <td>0.031640</td>\n",
       "      <td>0.616865</td>\n",
       "      <td>0.033552</td>\n",
       "      <td>0.033584</td>\n",
       "      <td>0.076639</td>\n",
       "      <td>0.024050</td>\n",
       "      <td>0.033861</td>\n",
       "      <td>0.618946</td>\n",
       "      <td>0.027595</td>\n",
       "      <td>0.027218</td>\n",
       "      <td>0.150494</td>\n",
       "      <td>0.034866</td>\n",
       "      <td>0.026498</td>\n",
       "      <td>0.647741</td>\n",
       "      <td>0.031154</td>\n",
       "      <td>0.031062</td>\n",
       "      <td>0.170941</td>\n",
       "      <td>0.039906</td>\n",
       "      <td>0.030778</td>\n",
       "      <td>0.627902</td>\n",
       "      <td>0.032685</td>\n",
       "      <td>0.032444</td>\n",
       "      <td>0.085877</td>\n",
       "      <td>0.017326</td>\n",
       "      <td>0.032297</td>\n",
       "      <td>0.637431</td>\n",
       "      <td>0.032576</td>\n",
       "      <td>0.032484</td>\n",
       "      <td>0.082519</td>\n",
       "      <td>0.018334</td>\n",
       "      <td>0.032598</td>\n",
       "      <td>0.627532</td>\n",
       "      <td>0.031137</td>\n",
       "      <td>0.031265</td>\n",
       "      <td>0.169009</td>\n",
       "      <td>0.035237</td>\n",
       "      <td>0.031976</td>\n",
       "      <td>0.613128</td>\n",
       "    </tr>\n",
       "    <tr>\n",
       "      <th>...</th>\n",
       "      <td>...</td>\n",
       "      <td>...</td>\n",
       "      <td>...</td>\n",
       "      <td>...</td>\n",
       "      <td>...</td>\n",
       "      <td>...</td>\n",
       "      <td>...</td>\n",
       "      <td>...</td>\n",
       "      <td>...</td>\n",
       "      <td>...</td>\n",
       "      <td>...</td>\n",
       "      <td>...</td>\n",
       "      <td>...</td>\n",
       "      <td>...</td>\n",
       "      <td>...</td>\n",
       "      <td>...</td>\n",
       "      <td>...</td>\n",
       "      <td>...</td>\n",
       "      <td>...</td>\n",
       "      <td>...</td>\n",
       "      <td>...</td>\n",
       "      <td>...</td>\n",
       "      <td>...</td>\n",
       "      <td>...</td>\n",
       "      <td>...</td>\n",
       "      <td>...</td>\n",
       "      <td>...</td>\n",
       "      <td>...</td>\n",
       "      <td>...</td>\n",
       "      <td>...</td>\n",
       "      <td>...</td>\n",
       "      <td>...</td>\n",
       "      <td>...</td>\n",
       "      <td>...</td>\n",
       "      <td>...</td>\n",
       "      <td>...</td>\n",
       "      <td>...</td>\n",
       "      <td>...</td>\n",
       "      <td>...</td>\n",
       "      <td>...</td>\n",
       "      <td>...</td>\n",
       "      <td>...</td>\n",
       "      <td>...</td>\n",
       "      <td>...</td>\n",
       "      <td>...</td>\n",
       "      <td>...</td>\n",
       "      <td>...</td>\n",
       "      <td>...</td>\n",
       "      <td>...</td>\n",
       "      <td>...</td>\n",
       "      <td>...</td>\n",
       "      <td>...</td>\n",
       "      <td>...</td>\n",
       "      <td>...</td>\n",
       "      <td>...</td>\n",
       "      <td>...</td>\n",
       "      <td>...</td>\n",
       "      <td>...</td>\n",
       "      <td>...</td>\n",
       "      <td>...</td>\n",
       "      <td>...</td>\n",
       "      <td>...</td>\n",
       "      <td>...</td>\n",
       "      <td>...</td>\n",
       "      <td>...</td>\n",
       "      <td>...</td>\n",
       "    </tr>\n",
       "    <tr>\n",
       "      <th>1000</th>\n",
       "      <td>0.556820</td>\n",
       "      <td>0.553795</td>\n",
       "      <td>0.239609</td>\n",
       "      <td>0.269838</td>\n",
       "      <td>0.549641</td>\n",
       "      <td>0.699810</td>\n",
       "      <td>0.560633</td>\n",
       "      <td>0.559986</td>\n",
       "      <td>0.289040</td>\n",
       "      <td>0.336646</td>\n",
       "      <td>0.565802</td>\n",
       "      <td>0.539685</td>\n",
       "      <td>0.595462</td>\n",
       "      <td>0.596694</td>\n",
       "      <td>0.326963</td>\n",
       "      <td>0.390369</td>\n",
       "      <td>0.607416</td>\n",
       "      <td>0.405661</td>\n",
       "      <td>0.649261</td>\n",
       "      <td>0.648398</td>\n",
       "      <td>0.228333</td>\n",
       "      <td>0.308450</td>\n",
       "      <td>0.650083</td>\n",
       "      <td>0.533193</td>\n",
       "      <td>0.657293</td>\n",
       "      <td>0.653156</td>\n",
       "      <td>0.333288</td>\n",
       "      <td>0.488623</td>\n",
       "      <td>0.648465</td>\n",
       "      <td>0.750444</td>\n",
       "      <td>0.605730</td>\n",
       "      <td>0.603018</td>\n",
       "      <td>0.448371</td>\n",
       "      <td>0.533977</td>\n",
       "      <td>0.603515</td>\n",
       "      <td>0.667244</td>\n",
       "      <td>0.586532</td>\n",
       "      <td>0.581249</td>\n",
       "      <td>0.273567</td>\n",
       "      <td>0.329660</td>\n",
       "      <td>0.576289</td>\n",
       "      <td>0.843942</td>\n",
       "      <td>0.612247</td>\n",
       "      <td>0.610823</td>\n",
       "      <td>0.245772</td>\n",
       "      <td>0.318972</td>\n",
       "      <td>0.613007</td>\n",
       "      <td>0.579551</td>\n",
       "      <td>0.632247</td>\n",
       "      <td>0.629287</td>\n",
       "      <td>0.200413</td>\n",
       "      <td>0.239078</td>\n",
       "      <td>0.625421</td>\n",
       "      <td>0.677628</td>\n",
       "      <td>0.658052</td>\n",
       "      <td>0.654195</td>\n",
       "      <td>0.212152</td>\n",
       "      <td>0.288199</td>\n",
       "      <td>0.652557</td>\n",
       "      <td>0.731555</td>\n",
       "      <td>0.629391</td>\n",
       "      <td>0.628845</td>\n",
       "      <td>0.247663</td>\n",
       "      <td>0.316392</td>\n",
       "      <td>0.633005</td>\n",
       "      <td>0.516660</td>\n",
       "    </tr>\n",
       "    <tr>\n",
       "      <th>1001</th>\n",
       "      <td>0.586532</td>\n",
       "      <td>0.581249</td>\n",
       "      <td>0.273567</td>\n",
       "      <td>0.329660</td>\n",
       "      <td>0.576289</td>\n",
       "      <td>0.843942</td>\n",
       "      <td>0.556820</td>\n",
       "      <td>0.553795</td>\n",
       "      <td>0.239609</td>\n",
       "      <td>0.269838</td>\n",
       "      <td>0.549641</td>\n",
       "      <td>0.699810</td>\n",
       "      <td>0.560633</td>\n",
       "      <td>0.559986</td>\n",
       "      <td>0.289040</td>\n",
       "      <td>0.336646</td>\n",
       "      <td>0.565802</td>\n",
       "      <td>0.539685</td>\n",
       "      <td>0.595462</td>\n",
       "      <td>0.596694</td>\n",
       "      <td>0.326963</td>\n",
       "      <td>0.390369</td>\n",
       "      <td>0.607416</td>\n",
       "      <td>0.405661</td>\n",
       "      <td>0.649261</td>\n",
       "      <td>0.648398</td>\n",
       "      <td>0.228333</td>\n",
       "      <td>0.308450</td>\n",
       "      <td>0.650083</td>\n",
       "      <td>0.533193</td>\n",
       "      <td>0.657293</td>\n",
       "      <td>0.653156</td>\n",
       "      <td>0.333288</td>\n",
       "      <td>0.488623</td>\n",
       "      <td>0.648465</td>\n",
       "      <td>0.750444</td>\n",
       "      <td>0.612247</td>\n",
       "      <td>0.610823</td>\n",
       "      <td>0.245772</td>\n",
       "      <td>0.318972</td>\n",
       "      <td>0.613007</td>\n",
       "      <td>0.579551</td>\n",
       "      <td>0.632247</td>\n",
       "      <td>0.629287</td>\n",
       "      <td>0.200413</td>\n",
       "      <td>0.239078</td>\n",
       "      <td>0.625421</td>\n",
       "      <td>0.677628</td>\n",
       "      <td>0.658052</td>\n",
       "      <td>0.654195</td>\n",
       "      <td>0.212152</td>\n",
       "      <td>0.288199</td>\n",
       "      <td>0.652557</td>\n",
       "      <td>0.731555</td>\n",
       "      <td>0.629391</td>\n",
       "      <td>0.628845</td>\n",
       "      <td>0.247663</td>\n",
       "      <td>0.316392</td>\n",
       "      <td>0.633005</td>\n",
       "      <td>0.516660</td>\n",
       "      <td>0.630013</td>\n",
       "      <td>0.628407</td>\n",
       "      <td>0.198627</td>\n",
       "      <td>0.297286</td>\n",
       "      <td>0.632633</td>\n",
       "      <td>0.587484</td>\n",
       "    </tr>\n",
       "    <tr>\n",
       "      <th>1002</th>\n",
       "      <td>0.612247</td>\n",
       "      <td>0.610823</td>\n",
       "      <td>0.245772</td>\n",
       "      <td>0.318972</td>\n",
       "      <td>0.613007</td>\n",
       "      <td>0.579551</td>\n",
       "      <td>0.586532</td>\n",
       "      <td>0.581249</td>\n",
       "      <td>0.273567</td>\n",
       "      <td>0.329660</td>\n",
       "      <td>0.576289</td>\n",
       "      <td>0.843942</td>\n",
       "      <td>0.556820</td>\n",
       "      <td>0.553795</td>\n",
       "      <td>0.239609</td>\n",
       "      <td>0.269838</td>\n",
       "      <td>0.549641</td>\n",
       "      <td>0.699810</td>\n",
       "      <td>0.560633</td>\n",
       "      <td>0.559986</td>\n",
       "      <td>0.289040</td>\n",
       "      <td>0.336646</td>\n",
       "      <td>0.565802</td>\n",
       "      <td>0.539685</td>\n",
       "      <td>0.595462</td>\n",
       "      <td>0.596694</td>\n",
       "      <td>0.326963</td>\n",
       "      <td>0.390369</td>\n",
       "      <td>0.607416</td>\n",
       "      <td>0.405661</td>\n",
       "      <td>0.649261</td>\n",
       "      <td>0.648398</td>\n",
       "      <td>0.228333</td>\n",
       "      <td>0.308450</td>\n",
       "      <td>0.650083</td>\n",
       "      <td>0.533193</td>\n",
       "      <td>0.632247</td>\n",
       "      <td>0.629287</td>\n",
       "      <td>0.200413</td>\n",
       "      <td>0.239078</td>\n",
       "      <td>0.625421</td>\n",
       "      <td>0.677628</td>\n",
       "      <td>0.658052</td>\n",
       "      <td>0.654195</td>\n",
       "      <td>0.212152</td>\n",
       "      <td>0.288199</td>\n",
       "      <td>0.652557</td>\n",
       "      <td>0.731555</td>\n",
       "      <td>0.629391</td>\n",
       "      <td>0.628845</td>\n",
       "      <td>0.247663</td>\n",
       "      <td>0.316392</td>\n",
       "      <td>0.633005</td>\n",
       "      <td>0.516660</td>\n",
       "      <td>0.630013</td>\n",
       "      <td>0.628407</td>\n",
       "      <td>0.198627</td>\n",
       "      <td>0.297286</td>\n",
       "      <td>0.632633</td>\n",
       "      <td>0.587484</td>\n",
       "      <td>0.632329</td>\n",
       "      <td>0.629247</td>\n",
       "      <td>0.136267</td>\n",
       "      <td>0.236764</td>\n",
       "      <td>0.627006</td>\n",
       "      <td>0.685742</td>\n",
       "    </tr>\n",
       "    <tr>\n",
       "      <th>1003</th>\n",
       "      <td>0.632247</td>\n",
       "      <td>0.629287</td>\n",
       "      <td>0.200413</td>\n",
       "      <td>0.239078</td>\n",
       "      <td>0.625421</td>\n",
       "      <td>0.677628</td>\n",
       "      <td>0.612247</td>\n",
       "      <td>0.610823</td>\n",
       "      <td>0.245772</td>\n",
       "      <td>0.318972</td>\n",
       "      <td>0.613007</td>\n",
       "      <td>0.579551</td>\n",
       "      <td>0.586532</td>\n",
       "      <td>0.581249</td>\n",
       "      <td>0.273567</td>\n",
       "      <td>0.329660</td>\n",
       "      <td>0.576289</td>\n",
       "      <td>0.843942</td>\n",
       "      <td>0.556820</td>\n",
       "      <td>0.553795</td>\n",
       "      <td>0.239609</td>\n",
       "      <td>0.269838</td>\n",
       "      <td>0.549641</td>\n",
       "      <td>0.699810</td>\n",
       "      <td>0.560633</td>\n",
       "      <td>0.559986</td>\n",
       "      <td>0.289040</td>\n",
       "      <td>0.336646</td>\n",
       "      <td>0.565802</td>\n",
       "      <td>0.539685</td>\n",
       "      <td>0.595462</td>\n",
       "      <td>0.596694</td>\n",
       "      <td>0.326963</td>\n",
       "      <td>0.390369</td>\n",
       "      <td>0.607416</td>\n",
       "      <td>0.405661</td>\n",
       "      <td>0.658052</td>\n",
       "      <td>0.654195</td>\n",
       "      <td>0.212152</td>\n",
       "      <td>0.288199</td>\n",
       "      <td>0.652557</td>\n",
       "      <td>0.731555</td>\n",
       "      <td>0.629391</td>\n",
       "      <td>0.628845</td>\n",
       "      <td>0.247663</td>\n",
       "      <td>0.316392</td>\n",
       "      <td>0.633005</td>\n",
       "      <td>0.516660</td>\n",
       "      <td>0.630013</td>\n",
       "      <td>0.628407</td>\n",
       "      <td>0.198627</td>\n",
       "      <td>0.297286</td>\n",
       "      <td>0.632633</td>\n",
       "      <td>0.587484</td>\n",
       "      <td>0.632329</td>\n",
       "      <td>0.629247</td>\n",
       "      <td>0.136267</td>\n",
       "      <td>0.236764</td>\n",
       "      <td>0.627006</td>\n",
       "      <td>0.685742</td>\n",
       "      <td>0.645406</td>\n",
       "      <td>0.644326</td>\n",
       "      <td>0.239829</td>\n",
       "      <td>0.343629</td>\n",
       "      <td>0.646260</td>\n",
       "      <td>0.548567</td>\n",
       "    </tr>\n",
       "    <tr>\n",
       "      <th>1004</th>\n",
       "      <td>0.658052</td>\n",
       "      <td>0.654195</td>\n",
       "      <td>0.212152</td>\n",
       "      <td>0.288199</td>\n",
       "      <td>0.652557</td>\n",
       "      <td>0.731555</td>\n",
       "      <td>0.632247</td>\n",
       "      <td>0.629287</td>\n",
       "      <td>0.200413</td>\n",
       "      <td>0.239078</td>\n",
       "      <td>0.625421</td>\n",
       "      <td>0.677628</td>\n",
       "      <td>0.612247</td>\n",
       "      <td>0.610823</td>\n",
       "      <td>0.245772</td>\n",
       "      <td>0.318972</td>\n",
       "      <td>0.613007</td>\n",
       "      <td>0.579551</td>\n",
       "      <td>0.586532</td>\n",
       "      <td>0.581249</td>\n",
       "      <td>0.273567</td>\n",
       "      <td>0.329660</td>\n",
       "      <td>0.576289</td>\n",
       "      <td>0.843942</td>\n",
       "      <td>0.556820</td>\n",
       "      <td>0.553795</td>\n",
       "      <td>0.239609</td>\n",
       "      <td>0.269838</td>\n",
       "      <td>0.549641</td>\n",
       "      <td>0.699810</td>\n",
       "      <td>0.560633</td>\n",
       "      <td>0.559986</td>\n",
       "      <td>0.289040</td>\n",
       "      <td>0.336646</td>\n",
       "      <td>0.565802</td>\n",
       "      <td>0.539685</td>\n",
       "      <td>0.629391</td>\n",
       "      <td>0.628845</td>\n",
       "      <td>0.247663</td>\n",
       "      <td>0.316392</td>\n",
       "      <td>0.633005</td>\n",
       "      <td>0.516660</td>\n",
       "      <td>0.630013</td>\n",
       "      <td>0.628407</td>\n",
       "      <td>0.198627</td>\n",
       "      <td>0.297286</td>\n",
       "      <td>0.632633</td>\n",
       "      <td>0.587484</td>\n",
       "      <td>0.632329</td>\n",
       "      <td>0.629247</td>\n",
       "      <td>0.136267</td>\n",
       "      <td>0.236764</td>\n",
       "      <td>0.627006</td>\n",
       "      <td>0.685742</td>\n",
       "      <td>0.645406</td>\n",
       "      <td>0.644326</td>\n",
       "      <td>0.239829</td>\n",
       "      <td>0.343629</td>\n",
       "      <td>0.646260</td>\n",
       "      <td>0.548567</td>\n",
       "      <td>0.590407</td>\n",
       "      <td>0.592472</td>\n",
       "      <td>0.410073</td>\n",
       "      <td>0.436610</td>\n",
       "      <td>0.608341</td>\n",
       "      <td>0.351071</td>\n",
       "    </tr>\n",
       "  </tbody>\n",
       "</table>\n",
       "<p>1000 rows × 66 columns</p>\n",
       "</div>"
      ],
      "text/plain": [
       "       close_0    open_0  volume_0  ...  trades_-5    ma9_-5  change_price_-5\n",
       "5     0.030916  0.030989  0.059423  ...   0.034866  0.026498         0.647741\n",
       "6     0.027399  0.027313  0.083324  ...   0.039906  0.030778         0.627902\n",
       "7     0.027261  0.027158  0.080993  ...   0.017326  0.032297         0.637431\n",
       "8     0.025679  0.025711  0.093606  ...   0.018334  0.032598         0.627532\n",
       "9     0.022322  0.022258  0.099517  ...   0.035237  0.031976         0.613128\n",
       "...        ...       ...       ...  ...        ...       ...              ...\n",
       "1000  0.556820  0.553795  0.239609  ...   0.316392  0.633005         0.516660\n",
       "1001  0.586532  0.581249  0.273567  ...   0.297286  0.632633         0.587484\n",
       "1002  0.612247  0.610823  0.245772  ...   0.236764  0.627006         0.685742\n",
       "1003  0.632247  0.629287  0.200413  ...   0.343629  0.646260         0.548567\n",
       "1004  0.658052  0.654195  0.212152  ...   0.436610  0.608341         0.351071\n",
       "\n",
       "[1000 rows x 66 columns]"
      ]
     },
     "execution_count": 71,
     "metadata": {
      "tags": []
     },
     "output_type": "execute_result"
    }
   ],
   "source": [
    "lstm_input"
   ]
  },
  {
   "cell_type": "markdown",
   "metadata": {},
   "source": [
    "예를 들어 1월 6일이라면 행에 1월 1,2,3,4,5일 그리고 1월 7,8,9,10,11일 데이터 값이 같이 들어가게 됩니다. LSTM과 같은 sequence형 알고리즘은 데이터 행에 값이 순차적인 시계열 특성이 존재해야 합니다. 텍스트 분석에서 어순을 고려해야하는 것과 같은 맥락입니다."
   ]
  },
  {
   "cell_type": "code",
   "execution_count": 72,
   "metadata": {
    "id": "RMqgV3DOvNha"
   },
   "outputs": [],
   "source": [
    "train = lstm_input.iloc[:950, 1:].values\n",
    "test = lstm_input.iloc[950:, 1:].values"
   ]
  },
  {
   "cell_type": "markdown",
   "metadata": {},
   "source": [
    "예측 대상 변수가 close이기 때문에 close_0 변수를 제외한 데이터를 독립변수로 사용합니다."
   ]
  },
  {
   "cell_type": "code",
   "execution_count": 73,
   "metadata": {
    "id": "MtQSLgxI19UB"
   },
   "outputs": [],
   "source": [
    "y_train = lstm_input.close_0.iloc[:950]\n",
    "y_test = lstm_input.close_0.iloc[950:]"
   ]
  },
  {
   "cell_type": "code",
   "execution_count": 74,
   "metadata": {
    "colab": {
     "base_uri": "https://localhost:8080/"
    },
    "id": "c_GS4TpMfiqN",
    "outputId": "5f3e9b3b-0589-4489-b2f9-3d0b858690d4"
   },
   "outputs": [
    {
     "data": {
      "text/plain": [
       "((950,), (50,), (1010, 14))"
      ]
     },
     "execution_count": 74,
     "metadata": {
      "tags": []
     },
     "output_type": "execute_result"
    }
   ],
   "source": [
    "y_train.shape, y_test.shape, data1.shape"
   ]
  },
  {
   "cell_type": "code",
   "execution_count": 75,
   "metadata": {
    "id": "w0U7iN922D7R"
   },
   "outputs": [],
   "source": [
    "train = train.reshape(train.shape[0], 1, train.shape[1])\n",
    "test = test.reshape(test.shape[0], 1, test.shape[1])"
   ]
  },
  {
   "cell_type": "markdown",
   "metadata": {},
   "source": [
    "다변량 시계열 LSTM을 사용하기 위해서는 데이터의 shape을(행, 1, 열)로 맞춰주어야 합니다."
   ]
  },
  {
   "cell_type": "code",
   "execution_count": 76,
   "metadata": {
    "id": "0k0tIzhb2O4b"
   },
   "outputs": [],
   "source": [
    "model = Sequential()\n",
    "model.add(LSTM(32, input_shape = (train.shape[1], train.shape[2]), activation = 'relu'))\n",
    "model.add(Dense(1))"
   ]
  },
  {
   "cell_type": "markdown",
   "metadata": {},
   "source": [
    "간단한 LSTM(32) 모형을 만들었습니다."
   ]
  },
  {
   "cell_type": "code",
   "execution_count": 77,
   "metadata": {
    "id": "70Sw6UVM2kdQ"
   },
   "outputs": [],
   "source": [
    "model.compile(loss = 'mse', optimizer = RMSprop(lr = .0003))"
   ]
  },
  {
   "cell_type": "markdown",
   "metadata": {},
   "source": [
    "연속형 숫자를 예측하므로 loss를 mse로 지정합니다."
   ]
  },
  {
   "cell_type": "code",
   "execution_count": 78,
   "metadata": {
    "colab": {
     "base_uri": "https://localhost:8080/"
    },
    "id": "Ln86dWRw2UWZ",
    "outputId": "36e1bb6c-3aea-4c0b-d877-3f8e063a8ca6"
   },
   "outputs": [
    {
     "name": "stdout",
     "output_type": "stream",
     "text": [
      "Epoch 1/10\n",
      "14/14 [==============================] - 2s 20ms/step - loss: 0.0012 - val_loss: 0.0990\n",
      "Epoch 2/10\n",
      "14/14 [==============================] - 0s 4ms/step - loss: 5.8773e-04 - val_loss: 0.0634\n",
      "Epoch 3/10\n",
      "14/14 [==============================] - 0s 4ms/step - loss: 3.4018e-04 - val_loss: 0.0381\n",
      "Epoch 4/10\n",
      "14/14 [==============================] - 0s 4ms/step - loss: 2.0404e-04 - val_loss: 0.0228\n",
      "Epoch 5/10\n",
      "14/14 [==============================] - 0s 4ms/step - loss: 1.2736e-04 - val_loss: 0.0124\n",
      "Epoch 6/10\n",
      "14/14 [==============================] - 0s 4ms/step - loss: 9.2171e-05 - val_loss: 0.0090\n",
      "Epoch 7/10\n",
      "14/14 [==============================] - 0s 4ms/step - loss: 6.1634e-05 - val_loss: 0.0040\n",
      "Epoch 8/10\n",
      "14/14 [==============================] - 0s 4ms/step - loss: 5.1442e-05 - val_loss: 0.0024\n",
      "Epoch 9/10\n",
      "14/14 [==============================] - 0s 4ms/step - loss: 4.3803e-05 - val_loss: 0.0014\n",
      "Epoch 10/10\n",
      "14/14 [==============================] - 0s 4ms/step - loss: 3.6700e-05 - val_loss: 0.0012\n"
     ]
    }
   ],
   "source": [
    "history = model.fit(train, y_train, epochs = 10, batch_size = 64, validation_split = 0.1)"
   ]
  },
  {
   "cell_type": "markdown",
   "metadata": {},
   "source": [
    "간단한 성능을 보기 위해 epochs를 10으로 지정합니다."
   ]
  },
  {
   "cell_type": "code",
   "execution_count": 79,
   "metadata": {
    "id": "fmmcWhzl2xNm"
   },
   "outputs": [],
   "source": [
    "pred = model.predict(test)"
   ]
  },
  {
   "cell_type": "markdown",
   "metadata": {},
   "source": [
    "test데이터를 활용해 예측합니다."
   ]
  },
  {
   "cell_type": "code",
   "execution_count": 134,
   "metadata": {
    "id": "1-ynI01Ydylr"
   },
   "outputs": [],
   "source": [
    "close_scaled = scaler.fit_transform(data1[['close']])"
   ]
  },
  {
   "cell_type": "markdown",
   "metadata": {},
   "source": [
    "데이터의 close만을 스케일링 합니다. 후에 스케일링 된 예측 값을 복원하기 위해서 입니다!"
   ]
  },
  {
   "cell_type": "code",
   "execution_count": 90,
   "metadata": {
    "id": "vZpKVfQ1emc3"
   },
   "outputs": [],
   "source": [
    "actual = close.iloc[955 : 1005]"
   ]
  },
  {
   "cell_type": "markdown",
   "metadata": {},
   "source": [
    "과거 5일 미래 5일의 데이터 값을 사용하였기 때문에 앞 뒤로 5개씩 NaN이 발생했기 때문에 결측값이 없는 50개 부분의 실제 데이터 값을 저장합니다."
   ]
  },
  {
   "cell_type": "code",
   "execution_count": 101,
   "metadata": {
    "id": "jLS1Rcqg4L_U"
   },
   "outputs": [],
   "source": [
    "pred = [x[0] for x in scaler.inverse_transform(pd.DataFrame(pred)).tolist()]"
   ]
  },
  {
   "cell_type": "markdown",
   "metadata": {},
   "source": [
    "실제 예측 값의 스케일링을 복원하여 저장합니다."
   ]
  },
  {
   "cell_type": "code",
   "execution_count": 102,
   "metadata": {
    "id": "C0f0Rx-fhKup"
   },
   "outputs": [],
   "source": [
    "rmse = np.sqrt(mean_squared_error(actual, pred))"
   ]
  },
  {
   "cell_type": "code",
   "execution_count": 104,
   "metadata": {
    "colab": {
     "base_uri": "https://localhost:8080/"
    },
    "id": "yYrWuUogheuy",
    "outputId": "030d6e15-c627-4ac5-8983-371d4ffe178f",
    "scrolled": true
   },
   "outputs": [
    {
     "name": "stdout",
     "output_type": "stream",
     "text": [
      "LSTM 모델의 RMSE = 283.5201499029702\n"
     ]
    }
   ],
   "source": [
    "print(f'LSTM 모델의 RMSE = {rmse}')"
   ]
  },
  {
   "cell_type": "markdown",
   "metadata": {},
   "source": [
    "***\n",
    "\n",
    "하지만 위와 같은 경우는 데이터 셋에 존재하지 않는 시간대의 예측은 불가능합니다. 1시점 이후의 예측만 하게 될 경우 lstm의 모델 구조상 예측의 성능이 매우 낮을 수 있습니다. 직접 확인해보겠습니다."
   ]
  },
  {
   "cell_type": "code",
   "execution_count": 108,
   "metadata": {
    "id": "MNMMZzjKhq1C"
   },
   "outputs": [],
   "source": [
    "target['close_1'] = target.close.shift(-1)"
   ]
  },
  {
   "cell_type": "markdown",
   "metadata": {},
   "source": [
    "close_1 컬럼에 1시점 뒤의 close값을 저장합니다."
   ]
  },
  {
   "cell_type": "code",
   "execution_count": 111,
   "metadata": {
    "colab": {
     "base_uri": "https://localhost:8080/",
     "height": 470
    },
    "id": "USODEOnxlsN0",
    "outputId": "a3ec3c68-6152-475e-dcf0-ae186bcaa094"
   },
   "outputs": [
    {
     "data": {
      "text/html": [
       "<div>\n",
       "<style scoped>\n",
       "    .dataframe tbody tr th:only-of-type {\n",
       "        vertical-align: middle;\n",
       "    }\n",
       "\n",
       "    .dataframe tbody tr th {\n",
       "        vertical-align: top;\n",
       "    }\n",
       "\n",
       "    .dataframe thead th {\n",
       "        text-align: right;\n",
       "    }\n",
       "</style>\n",
       "<table border=\"1\" class=\"dataframe\">\n",
       "  <thead>\n",
       "    <tr style=\"text-align: right;\">\n",
       "      <th></th>\n",
       "      <th>close</th>\n",
       "      <th>open</th>\n",
       "      <th>volume</th>\n",
       "      <th>trades</th>\n",
       "      <th>ma9</th>\n",
       "      <th>change_price</th>\n",
       "      <th>close_1</th>\n",
       "    </tr>\n",
       "    <tr>\n",
       "      <th>timestamp</th>\n",
       "      <th></th>\n",
       "      <th></th>\n",
       "      <th></th>\n",
       "      <th></th>\n",
       "      <th></th>\n",
       "      <th></th>\n",
       "      <th></th>\n",
       "    </tr>\n",
       "  </thead>\n",
       "  <tbody>\n",
       "    <tr>\n",
       "      <th>2018-09-03</th>\n",
       "      <td>289.222000</td>\n",
       "      <td>289.250667</td>\n",
       "      <td>12708.858988</td>\n",
       "      <td>5173.133333</td>\n",
       "      <td>289.227185</td>\n",
       "      <td>-0.028667</td>\n",
       "      <td>287.490000</td>\n",
       "    </tr>\n",
       "    <tr>\n",
       "      <th>2018-09-04</th>\n",
       "      <td>287.490000</td>\n",
       "      <td>287.641250</td>\n",
       "      <td>13754.257917</td>\n",
       "      <td>5372.333333</td>\n",
       "      <td>288.235602</td>\n",
       "      <td>-0.151250</td>\n",
       "      <td>263.158333</td>\n",
       "    </tr>\n",
       "    <tr>\n",
       "      <th>2018-09-05</th>\n",
       "      <td>263.158333</td>\n",
       "      <td>265.532083</td>\n",
       "      <td>22030.596650</td>\n",
       "      <td>9093.458333</td>\n",
       "      <td>270.728704</td>\n",
       "      <td>-2.373750</td>\n",
       "      <td>226.564583</td>\n",
       "    </tr>\n",
       "    <tr>\n",
       "      <th>2018-09-06</th>\n",
       "      <td>226.564583</td>\n",
       "      <td>226.494583</td>\n",
       "      <td>23041.536070</td>\n",
       "      <td>10048.583333</td>\n",
       "      <td>228.920833</td>\n",
       "      <td>0.070000</td>\n",
       "      <td>222.212500</td>\n",
       "    </tr>\n",
       "    <tr>\n",
       "      <th>2018-09-07</th>\n",
       "      <td>222.212500</td>\n",
       "      <td>222.839583</td>\n",
       "      <td>16599.159059</td>\n",
       "      <td>6767.916667</td>\n",
       "      <td>223.794074</td>\n",
       "      <td>-0.627083</td>\n",
       "      <td>211.332917</td>\n",
       "    </tr>\n",
       "    <tr>\n",
       "      <th>...</th>\n",
       "      <td>...</td>\n",
       "      <td>...</td>\n",
       "      <td>...</td>\n",
       "      <td>...</td>\n",
       "      <td>...</td>\n",
       "      <td>...</td>\n",
       "      <td>...</td>\n",
       "    </tr>\n",
       "    <tr>\n",
       "      <th>2021-06-04</th>\n",
       "      <td>2681.664583</td>\n",
       "      <td>2688.620417</td>\n",
       "      <td>49513.087996</td>\n",
       "      <td>73997.750000</td>\n",
       "      <td>2702.223009</td>\n",
       "      <td>-6.955833</td>\n",
       "      <td>2684.232917</td>\n",
       "    </tr>\n",
       "    <tr>\n",
       "      <th>2021-06-05</th>\n",
       "      <td>2684.232917</td>\n",
       "      <td>2686.806667</td>\n",
       "      <td>40076.005170</td>\n",
       "      <td>69604.083333</td>\n",
       "      <td>2700.684722</td>\n",
       "      <td>-2.573750</td>\n",
       "      <td>2693.789167</td>\n",
       "    </tr>\n",
       "    <tr>\n",
       "      <th>2021-06-06</th>\n",
       "      <td>2693.789167</td>\n",
       "      <td>2690.283333</td>\n",
       "      <td>28074.695570</td>\n",
       "      <td>55685.833333</td>\n",
       "      <td>2677.407824</td>\n",
       "      <td>3.505833</td>\n",
       "      <td>2747.767500</td>\n",
       "    </tr>\n",
       "    <tr>\n",
       "      <th>2021-06-07</th>\n",
       "      <td>2747.767500</td>\n",
       "      <td>2752.749167</td>\n",
       "      <td>48005.336608</td>\n",
       "      <td>80261.458333</td>\n",
       "      <td>2757.053194</td>\n",
       "      <td>-4.981667</td>\n",
       "      <td>2520.747143</td>\n",
       "    </tr>\n",
       "    <tr>\n",
       "      <th>2021-06-08</th>\n",
       "      <td>2520.747143</td>\n",
       "      <td>2537.948571</td>\n",
       "      <td>80769.128757</td>\n",
       "      <td>101644.428571</td>\n",
       "      <td>2600.200317</td>\n",
       "      <td>-17.201429</td>\n",
       "      <td>NaN</td>\n",
       "    </tr>\n",
       "  </tbody>\n",
       "</table>\n",
       "<p>1010 rows × 7 columns</p>\n",
       "</div>"
      ],
      "text/plain": [
       "                  close         open  ...  change_price      close_1\n",
       "timestamp                             ...                           \n",
       "2018-09-03   289.222000   289.250667  ...     -0.028667   287.490000\n",
       "2018-09-04   287.490000   287.641250  ...     -0.151250   263.158333\n",
       "2018-09-05   263.158333   265.532083  ...     -2.373750   226.564583\n",
       "2018-09-06   226.564583   226.494583  ...      0.070000   222.212500\n",
       "2018-09-07   222.212500   222.839583  ...     -0.627083   211.332917\n",
       "...                 ...          ...  ...           ...          ...\n",
       "2021-06-04  2681.664583  2688.620417  ...     -6.955833  2684.232917\n",
       "2021-06-05  2684.232917  2686.806667  ...     -2.573750  2693.789167\n",
       "2021-06-06  2693.789167  2690.283333  ...      3.505833  2747.767500\n",
       "2021-06-07  2747.767500  2752.749167  ...     -4.981667  2520.747143\n",
       "2021-06-08  2520.747143  2537.948571  ...    -17.201429          NaN\n",
       "\n",
       "[1010 rows x 7 columns]"
      ]
     },
     "execution_count": 111,
     "metadata": {
      "tags": []
     },
     "output_type": "execute_result"
    }
   ],
   "source": [
    "target"
   ]
  },
  {
   "cell_type": "markdown",
   "metadata": {},
   "source": [
    "6월 9일은 close 값이 없어 6월 8일의 close_1은 결측치로 되어있습니다."
   ]
  },
  {
   "cell_type": "code",
   "execution_count": 110,
   "metadata": {
    "id": "keHmRrcXhuXX"
   },
   "outputs": [],
   "source": [
    "scaled = scaler.fit_transform(target)"
   ]
  },
  {
   "cell_type": "markdown",
   "metadata": {},
   "source": [
    "스케일링을 진행합니다."
   ]
  },
  {
   "cell_type": "code",
   "execution_count": 119,
   "metadata": {
    "id": "y_fFp_bHiPv0"
   },
   "outputs": [],
   "source": [
    "train = scaled[:950, :-1].reshape(-1, 1, 6)\n",
    "test = scaled[950:1009, :-1].reshape(-1, 1, 6)"
   ]
  },
  {
   "cell_type": "markdown",
   "metadata": {},
   "source": [
    "1010번째 행인 6월 8일은 결측치가 존재하고 해당 행으로 6월 9일을 예측할 것이기 때문에 6월 7일까지만 사용하겠습니다."
   ]
  },
  {
   "cell_type": "code",
   "execution_count": 128,
   "metadata": {
    "id": "hWu_8WhSmZrh"
   },
   "outputs": [],
   "source": [
    "y_train = scaled[:950, -1]\n",
    "y_test = scaled[950:1009, -1]"
   ]
  },
  {
   "cell_type": "code",
   "execution_count": 120,
   "metadata": {
    "colab": {
     "base_uri": "https://localhost:8080/"
    },
    "id": "QwM9XJk7mApq",
    "outputId": "bc4e203b-e49d-4702-c170-98a1b8dc9e78"
   },
   "outputs": [
    {
     "data": {
      "text/plain": [
       "((950, 1, 6), (59, 1, 6))"
      ]
     },
     "execution_count": 120,
     "metadata": {
      "tags": []
     },
     "output_type": "execute_result"
    }
   ],
   "source": [
    "train.shape, test.shape"
   ]
  },
  {
   "cell_type": "code",
   "execution_count": 126,
   "metadata": {
    "id": "-IJaLcK2h-ye"
   },
   "outputs": [],
   "source": [
    "model = Sequential()\n",
    "model.add(GRU(32, input_shape = (train.shape[1], train.shape[2]), activation = 'relu'))\n",
    "model.add(Dropout(.2))\n",
    "model.add(Dense(1))"
   ]
  },
  {
   "cell_type": "markdown",
   "metadata": {},
   "source": [
    "lstm대신 GRU를 사용해 보았습니다."
   ]
  },
  {
   "cell_type": "code",
   "execution_count": 127,
   "metadata": {
    "id": "JgR7O80hhzCl"
   },
   "outputs": [],
   "source": [
    "model.compile(loss = 'mse', optimizer = RMSprop(lr = .0003))"
   ]
  },
  {
   "cell_type": "code",
   "execution_count": 129,
   "metadata": {
    "colab": {
     "base_uri": "https://localhost:8080/"
    },
    "id": "C8lq6_LBmELA",
    "outputId": "5a607ca8-53c3-474d-bc80-aad0c275bb30"
   },
   "outputs": [
    {
     "name": "stdout",
     "output_type": "stream",
     "text": [
      "Epoch 1/10\n",
      "14/14 [==============================] - 2s 20ms/step - loss: 0.0013 - val_loss: 0.1068\n",
      "Epoch 2/10\n",
      "14/14 [==============================] - 0s 4ms/step - loss: 0.0011 - val_loss: 0.1007\n",
      "Epoch 3/10\n",
      "14/14 [==============================] - 0s 3ms/step - loss: 0.0010 - val_loss: 0.0950\n",
      "Epoch 4/10\n",
      "14/14 [==============================] - 0s 3ms/step - loss: 9.7769e-04 - val_loss: 0.0890\n",
      "Epoch 5/10\n",
      "14/14 [==============================] - 0s 5ms/step - loss: 9.2450e-04 - val_loss: 0.0863\n",
      "Epoch 6/10\n",
      "14/14 [==============================] - 0s 4ms/step - loss: 8.1649e-04 - val_loss: 0.0841\n",
      "Epoch 7/10\n",
      "14/14 [==============================] - 0s 3ms/step - loss: 7.5616e-04 - val_loss: 0.0793\n",
      "Epoch 8/10\n",
      "14/14 [==============================] - 0s 3ms/step - loss: 7.3456e-04 - val_loss: 0.0765\n",
      "Epoch 9/10\n",
      "14/14 [==============================] - 0s 3ms/step - loss: 6.5128e-04 - val_loss: 0.0721\n",
      "Epoch 10/10\n",
      "14/14 [==============================] - 0s 4ms/step - loss: 6.7074e-04 - val_loss: 0.0682\n"
     ]
    }
   ],
   "source": [
    "history = model.fit(train, y_train, epochs = 10, batch_size = 64, validation_split = 0.1)"
   ]
  },
  {
   "cell_type": "code",
   "execution_count": 130,
   "metadata": {
    "id": "gP6jAI3Hmf4T"
   },
   "outputs": [],
   "source": [
    "pred = model.predict(test)"
   ]
  },
  {
   "cell_type": "code",
   "execution_count": 132,
   "metadata": {
    "id": "colUWsMgmiXk"
   },
   "outputs": [],
   "source": [
    "actual = data1.close.iloc[951:]"
   ]
  },
  {
   "cell_type": "code",
   "execution_count": 135,
   "metadata": {
    "id": "-QwmZFNmnEMF"
   },
   "outputs": [],
   "source": [
    "pred = [x[0] for x in scaler.inverse_transform(pd.DataFrame(pred)).tolist()]"
   ]
  },
  {
   "cell_type": "code",
   "execution_count": 141,
   "metadata": {
    "id": "6esU4jQznIT4"
   },
   "outputs": [],
   "source": [
    "rmse = np.sqrt(mean_squared_error(actual, pred))"
   ]
  },
  {
   "cell_type": "code",
   "execution_count": 142,
   "metadata": {
    "colab": {
     "base_uri": "https://localhost:8080/"
    },
    "id": "l4PnlbdtnScB",
    "outputId": "0848659d-b313-4d96-b5f7-e1aa7b3be0b7"
   },
   "outputs": [
    {
     "data": {
      "text/plain": [
       "2013.2240248873538"
      ]
     },
     "execution_count": 142,
     "metadata": {
      "tags": []
     },
     "output_type": "execute_result"
    }
   ],
   "source": [
    "rmse"
   ]
  },
  {
   "cell_type": "markdown",
   "metadata": {},
   "source": [
    "rmse가 매우 큰 것을 알 수 있습니다. 기본적으로 시계열 정보가 고려되지 않은채 모델이 구성되었기 때문입니다. 기본적으로 다변량 시계열은 t시점을 기준으로 n_in, n_out 시점의 데이터 값을 한 행에 주입하여 시계열 시퀀스를 생성한 후 분석을 진행합니다. 제가 전에 말씀드렸던 데이터에 없는 시점의 경우 어떤 값도 존재하지 않기 때문에 외생변수를 사용할수 없다고 한 이유가 이러한 이유 때문입니다!\n",
    "\n",
    "결론적으로 시계열의 기본 전제인 n시점 이후의 값을 예측하기 위해서는 n시점 이후의 독립변수 값이 존재해야 합니다! 예측은 가능하지만 성능은 매우 낮다는 점을 항상 유의해야합니다!"
   ]
  }
 ],
 "metadata": {
  "colab": {
   "collapsed_sections": [
    "NUsnw5aarlrt"
   ],
   "name": "OPTIMUM_SARIMAX_LSTM_MORE_STEP.ipynb",
   "provenance": []
  },
  "kernelspec": {
   "display_name": "Python 3",
   "language": "python",
   "name": "python3"
  },
  "language_info": {
   "codemirror_mode": {
    "name": "ipython",
    "version": 3
   },
   "file_extension": ".py",
   "mimetype": "text/x-python",
   "name": "python",
   "nbconvert_exporter": "python",
   "pygments_lexer": "ipython3",
   "version": "3.8.2"
  }
 },
 "nbformat": 4,
 "nbformat_minor": 1
}
