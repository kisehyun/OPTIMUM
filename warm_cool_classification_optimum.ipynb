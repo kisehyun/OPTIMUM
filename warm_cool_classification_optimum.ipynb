{
 "cells": [
  {
   "cell_type": "markdown",
   "metadata": {},
   "source": [
    "# Deep Learning을 활용한 웜톤 & 쿨톤 Classification\n",
    "\n",
    "## By OPTIMUM\n",
    "***\n",
    "우선 저희를 찾아주셔서 감사드리며 분석 진행 프로세스를 간단하게 설명드리겠습니다.\n",
    "\n",
    "- 1. 데이터 수집(웜톤 & 쿨톤 - 총 000장)\n",
    "- 2. 데이터 전처리(중복 사진 제거 + 무관한 사진 제거)\n",
    "- 3. 데이터 분할(학습 / 검증 / 시험)\n",
    "- 4. CNN 모델링(학습 & 검증 데이터 활용)\n",
    "- 5. 최고 성능을 기록한 모델로 시험 데이터를 예측 후 평가\n",
    "\n",
    "위와 같은 순으로 진행되었으며 코드 환경은 Google의 Colab을 활용하였습니다.\n",
    "\n",
    "colab 활용법은 아래 url을 참고하시길 바랍니다!\n",
    "\n",
    "https://velog.io/@s6820w/colab1"
   ]
  },
  {
   "cell_type": "code",
   "execution_count": 1,
   "metadata": {
    "colab": {
     "base_uri": "https://localhost:8080/"
    },
    "collapsed": true,
    "id": "j8VOqQYiNKYV",
    "outputId": "c6ec0a99-fe74-4264-8cdc-d97b39a4103d"
   },
   "outputs": [
    {
     "name": "stdout",
     "output_type": "stream",
     "text": [
      "Mounted at /content/gdrive/\n"
     ]
    }
   ],
   "source": [
    "from google.colab import drive\n",
    "drive.mount('/content/gdrive/', force_remount = True)"
   ]
  },
  {
   "cell_type": "markdown",
   "metadata": {},
   "source": [
    "colab에서 ipynb를 사용하는데 file을 호출하기 위해 위의 코드를 실행시켜주고 url에 접속하여 비밀번호를 복사해 공란에 입력합니다."
   ]
  },
  {
   "cell_type": "code",
   "execution_count": 2,
   "metadata": {
    "id": "WChM6stgTc5Y"
   },
   "outputs": [],
   "source": [
    "import pandas as pd\n",
    "import os, shutil"
   ]
  },
  {
   "cell_type": "code",
   "execution_count": null,
   "metadata": {},
   "outputs": [],
   "source": [
    "사진들을 학습 / 검증 / 시험용으로 분리하기 위해 위의 두 라이브러리를 호출합니다."
   ]
  },
  {
   "cell_type": "code",
   "execution_count": null,
   "metadata": {
    "id": "Q1cr8GMJTRv5"
   },
   "outputs": [],
   "source": [
    "filenames = os.listdir(\"/content/gdrive/My Drive/optimum/warm_cool/\")\n",
    "categories = []\n",
    "for filename in filenames:\n",
    "  if filename[:3] == '웜':\n",
    "      categories.append(1)\n",
    "  else:\n",
    "      categories.append(0)\n",
    "\n",
    "df = pd.DataFrame({\n",
    "    'filename': filenames,\n",
    "    'category': categories\n",
    "})"
   ]
  },
  {
   "cell_type": "markdown",
   "metadata": {},
   "source": [
    "사진 저장을 웜톤000, 쿨톤000으로 저장했기 때문에 \"웜\"이라는 글자가 들어간 파일명의 category를 1로 그렇지 않은 것을 0으로 처리하였습니다.\n",
    "\n",
    "위의 warm_cool 디렉토리는 맨 처음에 모든 사진이 저장된 디렉토리 입니다. 중복 사진 및 무관한 사진을 제거한 후 폴더를 업로드 하신 후에 진행하셔도 되고 우선 폴더를 업로드 한 후 google drive에서 삭제하셔도 됩니다."
   ]
  },
  {
   "cell_type": "code",
   "execution_count": null,
   "metadata": {
    "colab": {
     "base_uri": "https://localhost:8080/",
     "height": 419
    },
    "id": "uLmUZ_GZVotW",
    "outputId": "1d3b5306-82ae-44b8-ed37-bc8caa7c65d2"
   },
   "outputs": [
    {
     "data": {
      "text/html": [
       "<div>\n",
       "<style scoped>\n",
       "    .dataframe tbody tr th:only-of-type {\n",
       "        vertical-align: middle;\n",
       "    }\n",
       "\n",
       "    .dataframe tbody tr th {\n",
       "        vertical-align: top;\n",
       "    }\n",
       "\n",
       "    .dataframe thead th {\n",
       "        text-align: right;\n",
       "    }\n",
       "</style>\n",
       "<table border=\"1\" class=\"dataframe\">\n",
       "  <thead>\n",
       "    <tr style=\"text-align: right;\">\n",
       "      <th></th>\n",
       "      <th>filename</th>\n",
       "      <th>category</th>\n",
       "    </tr>\n",
       "  </thead>\n",
       "  <tbody>\n",
       "    <tr>\n",
       "      <th>0</th>\n",
       "      <td>웜톤131.jpg</td>\n",
       "      <td>1</td>\n",
       "    </tr>\n",
       "    <tr>\n",
       "      <th>1</th>\n",
       "      <td>웜톤130.jpg</td>\n",
       "      <td>1</td>\n",
       "    </tr>\n",
       "    <tr>\n",
       "      <th>2</th>\n",
       "      <td>웜톤13.jpg</td>\n",
       "      <td>1</td>\n",
       "    </tr>\n",
       "    <tr>\n",
       "      <th>3</th>\n",
       "      <td>웜톤129.jpg</td>\n",
       "      <td>1</td>\n",
       "    </tr>\n",
       "    <tr>\n",
       "      <th>4</th>\n",
       "      <td>웜톤127.jpg</td>\n",
       "      <td>1</td>\n",
       "    </tr>\n",
       "    <tr>\n",
       "      <th>...</th>\n",
       "      <td>...</td>\n",
       "      <td>...</td>\n",
       "    </tr>\n",
       "    <tr>\n",
       "      <th>1988</th>\n",
       "      <td>쿨톤972.jpg</td>\n",
       "      <td>0</td>\n",
       "    </tr>\n",
       "    <tr>\n",
       "      <th>1989</th>\n",
       "      <td>쿨톤971.jpg</td>\n",
       "      <td>0</td>\n",
       "    </tr>\n",
       "    <tr>\n",
       "      <th>1990</th>\n",
       "      <td>쿨톤969.jpg</td>\n",
       "      <td>0</td>\n",
       "    </tr>\n",
       "    <tr>\n",
       "      <th>1991</th>\n",
       "      <td>쿨톤970.jpg</td>\n",
       "      <td>0</td>\n",
       "    </tr>\n",
       "    <tr>\n",
       "      <th>1992</th>\n",
       "      <td>쿨톤968.jpg</td>\n",
       "      <td>0</td>\n",
       "    </tr>\n",
       "  </tbody>\n",
       "</table>\n",
       "<p>1993 rows × 2 columns</p>\n",
       "</div>"
      ],
      "text/plain": [
       "           filename  category\n",
       "0     웜톤131.jpg         1\n",
       "1     웜톤130.jpg         1\n",
       "2      웜톤13.jpg         1\n",
       "3     웜톤129.jpg         1\n",
       "4     웜톤127.jpg         1\n",
       "...             ...       ...\n",
       "1988  쿨톤972.jpg         0\n",
       "1989  쿨톤971.jpg         0\n",
       "1990  쿨톤969.jpg         0\n",
       "1991  쿨톤970.jpg         0\n",
       "1992  쿨톤968.jpg         0\n",
       "\n",
       "[1993 rows x 2 columns]"
      ]
     },
     "execution_count": 195,
     "metadata": {
      "tags": []
     },
     "output_type": "execute_result"
    }
   ],
   "source": [
    "df"
   ]
  },
  {
   "cell_type": "markdown",
   "metadata": {},
   "source": [
    "실제 사진 별로 웜톤 or 쿨톤 여부를 category 열에 표시해 두었습니다.\n",
    "\n",
    "#### 사진 데이터 분할 후 디렉토리에 저장"
   ]
  },
  {
   "cell_type": "code",
   "execution_count": 1,
   "metadata": {
    "colab": {
     "base_uri": "https://localhost:8080/",
     "height": 190
    },
    "id": "Ydl4Oz2pXcJK",
    "outputId": "a94cbbaa-cca8-44a8-9e7d-11aecb322d21"
   },
   "outputs": [],
   "source": [
    "base_dir = '/content/gdrive/My Drive/optimum/wc2'\n",
    "os.mkdir(base_dir)"
   ]
  },
  {
   "cell_type": "markdown",
   "metadata": {},
   "source": [
    "google drive 내에 고객님께서 사진을 분할하여 저장할 가장 상위 폴더를 생성합니다.\n",
    "\n",
    "/content/gdrive/My Drive는 고정이며 뒤에 고객님만의 디렉토리 주소를 생성하시면 됩니다!"
   ]
  },
  {
   "cell_type": "code",
   "execution_count": null,
   "metadata": {
    "id": "LWNJJHreX5P5"
   },
   "outputs": [],
   "source": [
    "train_dir = os.path.join(base_dir, 'train')\n",
    "os.mkdir(train_dir)"
   ]
  },
  {
   "cell_type": "markdown",
   "metadata": {},
   "source": [
    "학습데이터 전체가 들어갈 폴더를 train이라는 이름으로 생성합니다.\n",
    "\n",
    "현재 폴더 주소는 /content/gdrive/My Drive/optimum/wc2/train 입니다."
   ]
  },
  {
   "cell_type": "code",
   "execution_count": null,
   "metadata": {
    "id": "9LmyouGEX9cP"
   },
   "outputs": [],
   "source": [
    "val_dir = os.path.join(base_dir, 'val')\n",
    "os.mkdir(val_dir)"
   ]
  },
  {
   "cell_type": "markdown",
   "metadata": {},
   "source": [
    "검증데이터 전체가 들어갈 폴더를 val이라는 이름으로 생성합니다.\n",
    "\n",
    "현재 폴더 주소는 /content/gdrive/My Drive/optimum/wc2/val 입니다."
   ]
  },
  {
   "cell_type": "code",
   "execution_count": null,
   "metadata": {
    "id": "zvtsTooNgt1Z"
   },
   "outputs": [],
   "source": [
    "test_dir = os.path.join(base_dir, 'test')\n",
    "os.mkdir(test_dir)"
   ]
  },
  {
   "cell_type": "markdown",
   "metadata": {},
   "source": [
    "시험데이터 전체가 들어갈 폴더를 test이라는 이름으로 생성합니다.\n",
    "\n",
    "현재 폴더 주소는 /content/gdrive/My Drive/optimum/wc2/test 입니다."
   ]
  },
  {
   "cell_type": "code",
   "execution_count": null,
   "metadata": {
    "id": "55OoegaDXmmt"
   },
   "outputs": [],
   "source": [
    "train_cool_dir = os.path.join(train_dir, 'cool')\n",
    "os.mkdir(train_cool_dir)"
   ]
  },
  {
   "cell_type": "markdown",
   "metadata": {},
   "source": [
    "쿨톤 사진 중 훈련 데이터로 사용할 데이터를 cool이라는 폴더에 저장합니다.\n",
    "\n",
    "해당 폴더 주소는 /content/gdrive/My Drive/optimum/wc2/train/cool 입니다."
   ]
  },
  {
   "cell_type": "code",
   "execution_count": null,
   "metadata": {
    "id": "EP8p9n3MXxZ1"
   },
   "outputs": [],
   "source": [
    "train_warm_dir = os.path.join(train_dir, 'warm')\n",
    "os.mkdir(train_warm_dir)"
   ]
  },
  {
   "cell_type": "markdown",
   "metadata": {},
   "source": [
    "웜톤 사진 중 훈련 데이터로 사용할 데이터를 warm이라는 폴더에 저장합니다.\n",
    "\n",
    "해당 폴더 주소는 /content/gdrive/My Drive/optimum/wc2/train/warm 입니다."
   ]
  },
  {
   "cell_type": "code",
   "execution_count": null,
   "metadata": {
    "id": "AsmbUUDVYDmx"
   },
   "outputs": [],
   "source": [
    "val_cool_dir = os.path.join(val_dir, 'cool')\n",
    "os.mkdir(val_cool_dir)"
   ]
  },
  {
   "cell_type": "markdown",
   "metadata": {},
   "source": [
    "쿨톤 사진 중 검증 데이터로 사용할 데이터를 cool이라는 폴더에 저장합니다.\n",
    "\n",
    "해당 폴더 주소는 /content/gdrive/My Drive/optimum/wc2/val/cool 입니다."
   ]
  },
  {
   "cell_type": "code",
   "execution_count": null,
   "metadata": {
    "id": "_MqEUzOeYGYj"
   },
   "outputs": [],
   "source": [
    "val_warm_dir = os.path.join(val_dir, 'warm')\n",
    "os.mkdir(val_warm_dir)"
   ]
  },
  {
   "cell_type": "markdown",
   "metadata": {},
   "source": [
    "웜톤 사진 중 검증 데이터로 사용할 데이터를 warm이라는 폴더에 저장합니다.\n",
    "\n",
    "해당 폴더 주소는 /content/gdrive/My Drive/optimum/wc2/val/warm 입니다."
   ]
  },
  {
   "cell_type": "code",
   "execution_count": null,
   "metadata": {
    "id": "3QbUF6cPgoJi"
   },
   "outputs": [],
   "source": [
    "test_cool_dir = os.path.join(test_dir, 'cool')\n",
    "os.mkdir(test_cool_dir)"
   ]
  },
  {
   "cell_type": "markdown",
   "metadata": {},
   "source": [
    "쿨톤 사진 중 시험 데이터로 사용할 데이터를 cool이라는 폴더에 저장합니다.\n",
    "\n",
    "해당 폴더 주소는 /content/gdrive/My Drive/optimum/wc2/test/cool 입니다."
   ]
  },
  {
   "cell_type": "code",
   "execution_count": null,
   "metadata": {
    "id": "9VDk4k19gq9h"
   },
   "outputs": [],
   "source": [
    "test_warm_dir = os.path.join(test_dir, 'warm')\n",
    "os.mkdir(test_warm_dir)"
   ]
  },
  {
   "cell_type": "markdown",
   "metadata": {},
   "source": [
    "웜톤 사진 중 시험 데이터로 사용할 데이터를 warm이라는 폴더에 저장합니다.\n",
    "\n",
    "해당 폴더 주소는 /content/gdrive/My Drive/optimum/wc2/test/warm 입니다.\n",
    "\n",
    "위 코드를 모두 실행하면 저장해둔 사진들이 자동으로 훈련 / 검증 / 시험 폴더에 카테고리 별로 분리가 되어 저장됩니다.\n",
    "***"
   ]
  },
  {
   "cell_type": "code",
   "execution_count": null,
   "metadata": {
    "id": "2D1MF8UvYcFQ"
   },
   "outputs": [],
   "source": [
    "for fname in sorted(filenames)[:750] :\n",
    "  src = os.path.join('/content/gdrive/My Drive/optimum/warm_cool', fname)\n",
    "  dst = os.path.join(train_warm_dir, fname)\n",
    "  shutil.copyfile(src, dst)"
   ]
  },
  {
   "cell_type": "markdown",
   "metadata": {},
   "source": [
    "전체 파일명을 오름차순으로 정렬한 후 처음 750개의 데이터(웜톤1 ~ 750)를 위에서 만들어둔 /content/gdrive/My Drive/optimum/wc2/train/warm에 실제로 저장합니다."
   ]
  },
  {
   "cell_type": "code",
   "execution_count": null,
   "metadata": {
    "id": "G4lNh21Cf-u7"
   },
   "outputs": [],
   "source": [
    "for fname in sorted(filenames)[750:900] :\n",
    "  src = os.path.join('/content/gdrive/My Drive/optimum/warm_cool', fname)\n",
    "  dst = os.path.join(val_warm_dir, fname)\n",
    "  shutil.copyfile(src, dst)"
   ]
  },
  {
   "cell_type": "markdown",
   "metadata": {},
   "source": [
    "전체 파일명을 오름차순으로 정렬한 후 이후 150개의 데이터(웜톤750 ~ 900)를 위에서 만들어둔 /content/gdrive/My Drive/optimum/wc2/val/warm에 실제로 저장합니다."
   ]
  },
  {
   "cell_type": "code",
   "execution_count": null,
   "metadata": {
    "id": "SCuzLeHscuyu"
   },
   "outputs": [],
   "source": [
    "for fname in sorted(filenames)[900:996] :\n",
    "  src = os.path.join('/content/gdrive/My Drive/optimum/warm_cool', fname)\n",
    "  dst = os.path.join(test_warm_dir, fname)\n",
    "  shutil.copyfile(src, dst)"
   ]
  },
  {
   "cell_type": "markdown",
   "metadata": {},
   "source": [
    "전체 파일명을 오름차순으로 정렬한 후 이후 96개의 데이터(웜톤900 ~ 996)를 위에서 만들어둔 /content/gdrive/My Drive/optimum/wc2/test/warm에 실제로 저장합니다.\n",
    "\n",
    "이렇게 해서 웜톤 사진들은 모두 분할을 완료하였습니다."
   ]
  },
  {
   "cell_type": "code",
   "execution_count": null,
   "metadata": {
    "id": "-Pr_8Oc4blgX"
   },
   "outputs": [],
   "source": [
    "for fname in sorted(filenames)[996:1746] :\n",
    "  src = os.path.join('/content/gdrive/My Drive/optimum/warm_cool', fname)\n",
    "  dst = os.path.join(train_cool_dir, fname)\n",
    "  shutil.copyfile(src, dst)"
   ]
  },
  {
   "cell_type": "markdown",
   "metadata": {},
   "source": [
    "전체 파일명을 오름차순으로 정렬한 후 처음 750개의 데이터(쿨톤1 ~ 750)를 위에서 만들어둔 /content/gdrive/My Drive/optimum/wc2/train/cool에 실제로 저장합니다."
   ]
  },
  {
   "cell_type": "code",
   "execution_count": null,
   "metadata": {
    "id": "9jOoHuP6hZkN"
   },
   "outputs": [],
   "source": [
    "for fname in sorted(filenames)[1746:1896] :\n",
    "  src = os.path.join('/content/gdrive/My Drive/optimum/warm_cool', fname)\n",
    "  dst = os.path.join(val_cool_dir, fname)\n",
    "  shutil.copyfile(src, dst)"
   ]
  },
  {
   "cell_type": "markdown",
   "metadata": {},
   "source": [
    "전체 파일명을 오름차순으로 정렬한 후 이후 150개의 데이터(쿨톤750 ~ 900)를 위에서 만들어둔 /content/gdrive/My Drive/optimum/wc2/val/cool에 실제로 저장합니다."
   ]
  },
  {
   "cell_type": "code",
   "execution_count": null,
   "metadata": {
    "id": "2Eey-NZyhZm6"
   },
   "outputs": [],
   "source": [
    "for fname in sorted(filenames)[1896:] :\n",
    "  src = os.path.join('/content/gdrive/My Drive/optimum/warm_cool', fname)\n",
    "  dst = os.path.join(test_cool_dir, fname)\n",
    "  shutil.copyfile(src, dst)"
   ]
  },
  {
   "cell_type": "markdown",
   "metadata": {},
   "source": [
    "전체 파일명을 오름차순으로 정렬한 후 나머지 모든 쿨톤 데이터를 위에서 만들어둔 /content/gdrive/My Drive/optimum/wc2/test/cool에 실제로 저장합니다.\n",
    "\n",
    "이렇게 해서 모든 데이터 분할을 완료되었습니다.\n",
    "\n",
    "이제 모델링을 진행하겠습니다."
   ]
  },
  {
   "cell_type": "code",
   "execution_count": null,
   "metadata": {
    "colab": {
     "base_uri": "https://localhost:8080/"
    },
    "id": "j87LCHgoVzRO",
    "outputId": "a736a9d4-f3ca-483b-af29-5d72714fd2b9"
   },
   "outputs": [],
   "source": [
    "import warnings\n",
    "warnings.filterwarnings('ignore')\n",
    "\n",
    "from tensorflow.keras.models import *\n",
    "from tensorflow.keras.layers import Conv2D, MaxPooling2D, Dense, Flatten, Dropout, BatchNormalization\n",
    "from tensorflow.keras.optimizers import Adam, RMSprop\n",
    "from tensorflow.keras.regularizers import *\n",
    "from tensorflow.keras.callbacks import ModelCheckpoint, EarlyStopping, ReduceLROnPlateau\n",
    "from tensorflow.keras.preprocessing.image import ImageDataGeneratorㅠㅡ"
   ]
  },
  {
   "cell_type": "markdown",
   "metadata": {},
   "source": [
    "딥러닝 활용을 위해 tensorflow 프레임워크의 keras 라이브러리의 하위 메서드를 호출합니다."
   ]
  },
  {
   "cell_type": "code",
   "execution_count": 4,
   "metadata": {
    "colab": {
     "base_uri": "https://localhost:8080/"
    },
    "id": "b9R8Bh0WV_56",
    "outputId": "06d2c983-e735-4fd0-b267-d0f47933d5e2"
   },
   "outputs": [
    {
     "name": "stdout",
     "output_type": "stream",
     "text": [
      "Found 1413 images belonging to 2 classes.\n"
     ]
    }
   ],
   "source": [
    "train_datagen = ImageDataGenerator(\n",
    "    rotation_range = 35,\n",
    "    rescale=1./255,\n",
    "    shear_range = 0.2,\n",
    "    zoom_range = 0.4,\n",
    "    horizontal_flip = True,\n",
    "    width_shift_range = 0.15,\n",
    "    height_shift_range = 0.15\n",
    ")\n",
    "\n",
    "train_generator = train_datagen.flow_from_directory(\n",
    "    '/content/gdrive/My Drive/optimum/wc2/train/', \n",
    "    target_size = (150, 150),\n",
    "    class_mode = 'binary',\n",
    "    batch_size = 16\n",
    ")"
   ]
  },
  {
   "cell_type": "markdown",
   "metadata": {},
   "source": [
    "앞서 쿨톤 웜톤의 훈련용 데이터 중에서 중복 사진과 무관한 사진을  제거한 후 1500개의 샘플에서 1413개의 샘플이 있는 것을 확인하였고 해당 사진들로 훈련용 데이터를 만들었습니다.\n",
    "\n",
    "데이터 수가 적어 데이터 증강을 위해 사진별로 각도 변환, 줌 인-아웃 등 다양한 방법을 적용할 수 있는 ImageGenerator 메서드를 사용해 훈련용 데이터의 양을 늘렸습니다."
   ]
  },
  {
   "cell_type": "code",
   "execution_count": 5,
   "metadata": {
    "colab": {
     "base_uri": "https://localhost:8080/"
    },
    "id": "UBqkKrvnurcp",
    "outputId": "8ba085b6-8d16-4b04-8027-853ca911e61f"
   },
   "outputs": [
    {
     "name": "stdout",
     "output_type": "stream",
     "text": [
      "Found 291 images belonging to 2 classes.\n"
     ]
    }
   ],
   "source": [
    "test_datagen = ImageDataGenerator(rescale = 1 / 255)\n",
    "\n",
    "validation_generator = test_datagen.flow_from_directory(\n",
    "    '/content/gdrive/My Drive/optimum/wc2/val/',\n",
    "    target_size = (150, 150),\n",
    "    batch_size = 16,\n",
    "    class_mode = 'binary'\n",
    ")"
   ]
  },
  {
   "cell_type": "code",
   "execution_count": 6,
   "metadata": {
    "colab": {
     "base_uri": "https://localhost:8080/"
    },
    "id": "qDNWqMMOLKlF",
    "outputId": "682bf7f4-c2e9-43d5-b867-c3f0391d70d9",
    "scrolled": true
   },
   "outputs": [
    {
     "name": "stdout",
     "output_type": "stream",
     "text": [
      "Found 174 images belonging to 2 classes.\n"
     ]
    }
   ],
   "source": [
    "test_generator = test_datagen.flow_from_directory(\n",
    "    '/content/gdrive/My Drive/optimum/wc2/test/',\n",
    "    target_size = (150, 150),\n",
    "    batch_size = 16,\n",
    "    class_mode = 'binary'\n",
    ")"
   ]
  },
  {
   "cell_type": "markdown",
   "metadata": {},
   "source": [
    "검증용과 시험용의 경우 미지의 데이터이어야 하기 때문에 위와 같은 처리는 하지 않고 스케일만 맞춰주었습니다.\n",
    "\n",
    "target_size는 사진을 150 * 150 픽셀로 분할한 것입니다.\n",
    "\n",
    "keras의 간단한 설명과 예제가 첨부된 tensorflow 공식 가이드 url을 첨부해드립니다.\n",
    "[https://www.tensorflow.org/tutorials/keras/classification?hl=ko]\n",
    "\n",
    "이제  실제로 모델링을 진행하겠습니다. 이미지 인식에 좋은 성능을 보이는 CNN을 사용하였으며 데이터가 적기 때문에 딥러닝 네트워크의 층을 간단하게 쌓았습니다.\n",
    "\n",
    "keras의 모델 구성 방식은 아래와 같은 Sequential 방식과 Functional 방식이 있습니다. 전자의 경우 위에서 아래로 직관적인 네트워크 구조 생성이 가능하며 후자의 경우 더 많은 가용성(여러 네트워크를 활용)을 활용할 수 있습니다."
   ]
  },
  {
   "cell_type": "code",
   "execution_count": 81,
   "metadata": {
    "colab": {
     "base_uri": "https://localhost:8080/"
    },
    "id": "TU06hVl5vOSJ",
    "outputId": "db10cea4-32f3-4c61-cded-1a3023c2e13f",
    "scrolled": true
   },
   "outputs": [
    {
     "name": "stdout",
     "output_type": "stream",
     "text": [
      "Model: \"sequential_7\"\n",
      "_________________________________________________________________\n",
      "Layer (type)                 Output Shape              Param #   \n",
      "=================================================================\n",
      "conv2d_18 (Conv2D)           (None, 150, 150, 64)      1792      \n",
      "_________________________________________________________________\n",
      "max_pooling2d_18 (MaxPooling (None, 75, 75, 64)        0         \n",
      "_________________________________________________________________\n",
      "dropout_17 (Dropout)         (None, 75, 75, 64)        0         \n",
      "_________________________________________________________________\n",
      "conv2d_19 (Conv2D)           (None, 75, 75, 64)        36928     \n",
      "_________________________________________________________________\n",
      "batch_normalization_11 (Batc (None, 75, 75, 64)        256       \n",
      "_________________________________________________________________\n",
      "max_pooling2d_19 (MaxPooling (None, 37, 37, 64)        0         \n",
      "_________________________________________________________________\n",
      "flatten_7 (Flatten)          (None, 87616)             0         \n",
      "_________________________________________________________________\n",
      "dense_14 (Dense)             (None, 32)                2803744   \n",
      "_________________________________________________________________\n",
      "dense_15 (Dense)             (None, 1)                 33        \n",
      "=================================================================\n",
      "Total params: 2,842,753\n",
      "Trainable params: 2,842,625\n",
      "Non-trainable params: 128\n",
      "_________________________________________________________________\n"
     ]
    }
   ],
   "source": [
    " model = Sequential([\n",
    "  Conv2D(64, 3, padding='same', activation='relu', input_shape=(150, 150, 3)),\n",
    "  MaxPooling2D(),\n",
    "  Dropout(.2), # 과적합 방지를 위해 Dropout을 적용하였습니다.\n",
    "  Conv2D(64, 3, padding='same', activation='relu'),\n",
    "  BatchNormalization(), # 과적합 방지를 위해 정규화를 적용합니다.\n",
    "  MaxPooling2D(),\n",
    "  Flatten(), # 네트워크를 통해 출력된 값들을 1줄로 펼쳐줍니다.\n",
    "  Dense(32, activation='relu'), # 펼쳐진 값들을 32개의 노드로 축소시킵니다.\n",
    "  Dense(1, activation='sigmoid') # 0 혹은 1에 대한 확률을 출력하기 위해 숫자 1을 지정하고 이때 활성화 함수는 이진 분류에 사용하는 sigmoid를 적용하였습니다.\n",
    "])\n",
    "\n",
    "model.compile(loss = \"binary_crossentropy\", # loss 함수로 binary loss에 해당하는 binary_crossentropy를 설정하였습니다.\n",
    "              optimizer = Adam(lr = .0002), # optimizer는 Adam으로 설정하였고 학습률을 0.0002로 설정했습니다.\n",
    "              metrics = ['acc']) # 평가지표는 acc로 정확도입니다.\n",
    "model.summary() # 전체 모델의 개요를 살펴봅니다."
   ]
  },
  {
   "cell_type": "markdown",
   "metadata": {},
   "source": [
    "위의 total params는 딥러닝 네트워크가 학습해야 하는 가중치 파라미터 개수입니다. 값이 클수록 학습파라미터가 많다고 할 수 있습니다."
   ]
  },
  {
   "cell_type": "code",
   "execution_count": 8,
   "metadata": {
    "colab": {
     "base_uri": "https://localhost:8080/"
    },
    "id": "qjGX5AGuWVEJ",
    "outputId": "bc003937-f804-4ea9-918b-b856fd5d7d5a"
   },
   "outputs": [
    {
     "name": "stdout",
     "output_type": "stream",
     "text": [
      "/content/gdrive/My Drive/optimum\n"
     ]
    }
   ],
   "source": [
    "%cd /content/gdrive/My Drive/optimum"
   ]
  },
  {
   "cell_type": "markdown",
   "metadata": {},
   "source": [
    "최고 성능을 보이는 모델을 저장하기 위해 현재 디렉토리를 위의 주소로 변환하였습니다."
   ]
  },
  {
   "cell_type": "code",
   "execution_count": 82,
   "metadata": {
    "id": "3Nr-JCBvQd1d"
   },
   "outputs": [],
   "source": [
    "mc = ModelCheckpoint('optimum_warm_cool_model.h5', save_best_only=True, verbose=1, monitor = 'val_acc', mode = 'max')"
   ]
  },
  {
   "cell_type": "markdown",
   "metadata": {},
   "source": [
    "검증용 정확도가 가장 높을 때의 모델을 저장하기 위해 ModelCheckpoint 메서드를 사용하였습니다.\n",
    "\n",
    "h5는 모델 확장자명이며 save_best_only는 가장 성능이 뛰어날 때만 저장하겠다는 의미입니다. monitor는 체크할 평가지표를 의미하며 mode는 최대인 경우를 의미합니다.\n",
    "\n",
    "즉, 검증 데이터의 정확도가 최대일 때의 모델만 'optimum_warm_cool_model.h5'로 저장하겠다는 것입니다."
   ]
  },
  {
   "cell_type": "code",
   "execution_count": 83,
   "metadata": {
    "colab": {
     "base_uri": "https://localhost:8080/"
    },
    "id": "b1vOzoApvG77",
    "outputId": "89b20a4f-c57a-4b7e-e8ea-4a55ef2aaf94"
   },
   "outputs": [
    {
     "name": "stdout",
     "output_type": "stream",
     "text": [
      "Epoch 1/15\n",
      "89/89 [==============================] - 12s 130ms/step - loss: 0.8795 - acc: 0.4996 - val_loss: 0.7081 - val_acc: 0.5361\n",
      "\n",
      "Epoch 00001: val_acc improved from -inf to 0.53608, saving model to optimum_warm_cool_model.h5\n",
      "Epoch 2/15\n",
      "89/89 [==============================] - 12s 130ms/step - loss: 0.6787 - acc: 0.5782 - val_loss: 0.7897 - val_acc: 0.5704\n",
      "\n",
      "Epoch 00002: val_acc improved from 0.53608 to 0.57045, saving model to optimum_warm_cool_model.h5\n",
      "Epoch 3/15\n",
      "89/89 [==============================] - 12s 130ms/step - loss: 0.6462 - acc: 0.6723 - val_loss: 0.8817 - val_acc: 0.5498\n",
      "\n",
      "Epoch 00003: val_acc did not improve from 0.57045\n",
      "Epoch 4/15\n",
      "89/89 [==============================] - 12s 130ms/step - loss: 0.6566 - acc: 0.6341 - val_loss: 0.9987 - val_acc: 0.5498\n",
      "\n",
      "Epoch 00004: val_acc did not improve from 0.57045\n",
      "Epoch 5/15\n",
      "89/89 [==============================] - 11s 128ms/step - loss: 0.6382 - acc: 0.6539 - val_loss: 1.0885 - val_acc: 0.5361\n",
      "\n",
      "Epoch 00005: val_acc did not improve from 0.57045\n"
     ]
    }
   ],
   "source": [
    "history = model.fit_generator(train_generator, epochs = 15, validation_data = validation_generator, validation_steps = 19, callbacks = [mc, EarlyStopping(monitor='val_acc', patience = 3)])"
   ]
  },
  {
   "cell_type": "markdown",
   "metadata": {},
   "source": [
    "전체 15회 학습을 시도했는데 학습 및 검증을 통해서 향후 2번 동안 검증용 정확도가 개선되지 않으면 학습을 종료시키고 가장 뛰어난 모델을 저장하였습니다."
   ]
  },
  {
   "cell_type": "code",
   "execution_count": 84,
   "metadata": {
    "id": "S7hhsa_2WDFp"
   },
   "outputs": [],
   "source": [
    "final_model = load_model('optimum_warm_cool_model.h5')"
   ]
  },
  {
   "cell_type": "markdown",
   "metadata": {},
   "source": [
    "성능이 가장 좋았던 모델을 불러옵니다."
   ]
  },
  {
   "cell_type": "code",
   "execution_count": 85,
   "metadata": {
    "id": "1VVs0T3-wdR9"
   },
   "outputs": [],
   "source": [
    "pred = final_model.predict_generator(test_generator)"
   ]
  },
  {
   "cell_type": "markdown",
   "metadata": {},
   "source": [
    "불러온 모델로 미지의 시험용 데이터를 예측합니다."
   ]
  },
  {
   "cell_type": "code",
   "execution_count": 36,
   "metadata": {
    "id": "u1uMvkX50BNL"
   },
   "outputs": [],
   "source": [
    "actual = [1 if 'warm' in x  else 0 for x in list(test_generator.filenames)]"
   ]
  },
  {
   "cell_type": "markdown",
   "metadata": {},
   "source": [
    "시험용 데이터의 실제 웜&쿨 여부를 warm폴더에 속하는 사진은 1로 그렇지 않은 사진은 0으로 할당하였습니다."
   ]
  },
  {
   "cell_type": "code",
   "execution_count": 86,
   "metadata": {
    "colab": {
     "base_uri": "https://localhost:8080/"
    },
    "id": "x861rNT2MpcF",
    "outputId": "fad386d4-f877-401d-f694-9b3b53131955"
   },
   "outputs": [
    {
     "name": "stdout",
     "output_type": "stream",
     "text": [
      "딥러닝 모델의 정확도는 54.598%\n"
     ]
    }
   ],
   "source": [
    "from sklearn.metrics import accuracy_score\n",
    "\n",
    "acc = accuracy_score(actual, (pred > .5).astype(int))\n",
    "\n",
    "print(f'딥러닝 모델의 정확도는 {round(acc * 100, 3)}%')"
   ]
  },
  {
   "cell_type": "markdown",
   "metadata": {},
   "source": [
    "실제로 모델이 예측한 웜&쿨 여부와 실제 웜&쿨 여부의 정확도를 예측한 결과 54.598%를 달성하였습니다."
   ]
  },
  {
   "cell_type": "code",
   "execution_count": 87,
   "metadata": {
    "id": "JNdKNPtmyXYz"
   },
   "outputs": [],
   "source": [
    "from IPython.display import Image\n",
    "import matplotlib.pyplot as plt\n",
    "%matplotlib inline"
   ]
  },
  {
   "cell_type": "markdown",
   "metadata": {},
   "source": [
    "시각화를 위해 패키지를 불러옵니다."
   ]
  },
  {
   "cell_type": "code",
   "execution_count": 121,
   "metadata": {
    "id": "soucJFVI2fsC"
   },
   "outputs": [],
   "source": [
    "def get_image_description() :\n",
    "  print(f'사진 개수는 총 {len(test_generator.filenames)}개로 0과 173 사이의 숫자를 입력해주세요.')\n",
    "  num = input('숫자를 입력하세요 : ')\n",
    "  num = int(num)\n",
    "  img = '/content/gdrive/My Drive/optimum/wc2/test/' + test_generator.filenames[num]\n",
    "  print(f\"\\n사진명 : {img.split('/')[-1]}\")\n",
    "  sample_label = '웜톤' if int(pred[num] > .5) == 1 else \"쿨톤\"\n",
    "  sample_actual = '웜톤' if actual[num] == 1 else \"쿨톤\"\n",
    "  print(f'모델링 결과 이 사진은 {sample_label}입니다.')\n",
    "  print(f'실제 결과 이 사진은 {sample_actual}입니다.')\n",
    "  display(Image(img))"
   ]
  },
  {
   "cell_type": "markdown",
   "metadata": {},
   "source": [
    "사진을 불러오고 해당 사진에 대한 예측 값과 실제 값을 한번에 보여주는 커스텀 함수입니다."
   ]
  },
  {
   "cell_type": "code",
   "execution_count": 122,
   "metadata": {
    "colab": {
     "base_uri": "https://localhost:8080/",
     "height": 374
    },
    "id": "T3gZfAmq3hC3",
    "outputId": "d7abccce-5493-412f-8f76-7f81a5388c71"
   },
   "outputs": [
    {
     "name": "stdout",
     "output_type": "stream",
     "text": [
      "사진 개수는 총 174개로 0과 173 사이의 숫자를 입력해주세요.\n",
      "숫자를 입력하세요 : 15\n",
      "\n",
      "사진명 : 쿨톤925.jpg\n",
      "모델링 결과 이 사진은 쿨톤입니다.\n",
      "실제 결과 이 사진은 쿨톤입니다.\n"
     ]
    },
    {
     "data": {
      "image/jpeg": "[encoded data removed]",
      "text/plain": [
       "<IPython.core.display.Image object>"
      ]
     },
     "metadata": {
      "tags": []
     },
     "output_type": "display_data"
    }
   ],
   "source": [
    "get_image_description()"
   ]
  },
  {
   "cell_type": "markdown",
   "metadata": {},
   "source": [
    "함수를 실행하면 숫자를 입력하라는 칸이 뜹니다.\n",
    "\n",
    "이때 0 ~ 173 사이의 정수 n을 입력하면 test데이터중 n+1번째 사진을 출력하고 이 사진의 톤 여부와 예측값을 제시해줍니다."
   ]
  }
 ],
 "metadata": {
  "accelerator": "GPU",
  "colab": {
   "collapsed_sections": [],
   "name": "Untitled0.ipynb",
   "provenance": []
  },
  "kernelspec": {
   "display_name": "Python 3",
   "language": "python",
   "name": "python3"
  },
  "language_info": {
   "codemirror_mode": {
    "name": "ipython",
    "version": 3
   },
   "file_extension": ".py",
   "mimetype": "text/x-python",
   "name": "python",
   "nbconvert_exporter": "python",
   "pygments_lexer": "ipython3",
   "version": "3.8.2"
  }
 },
 "nbformat": 4,
 "nbformat_minor": 1
}
