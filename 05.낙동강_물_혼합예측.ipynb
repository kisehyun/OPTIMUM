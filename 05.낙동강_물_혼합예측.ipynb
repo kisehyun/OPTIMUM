{
 "cells": [
  {
   "cell_type": "markdown",
   "metadata": {},
   "source": [
    "# 낙동강 수질 항목을 활용한 물 혼합 여부 예측\n",
    "\n",
    "## By OPTIMUM\n",
    "***\n",
    "고객님 찾아주셔서 감사합니다. 최선을 다해 모델링을 진행하였으며 코드는 아래와 같습니다.\n",
    "\n",
    "궁금하신점은 언제나 연락주시면 감사하곘습니다!"
   ]
  },
  {
   "cell_type": "code",
   "execution_count": 224,
   "metadata": {},
   "outputs": [],
   "source": [
    "import pandas as pd\n",
    "import warnings\n",
    "warnings.filterwarnings('ignore')"
   ]
  },
  {
   "cell_type": "code",
   "execution_count": 225,
   "metadata": {},
   "outputs": [],
   "source": [
    "data = pd.read_csv('혼합.csv', encoding = 'cp949')"
   ]
  },
  {
   "cell_type": "code",
   "execution_count": 226,
   "metadata": {
    "scrolled": true
   },
   "outputs": [
    {
     "data": {
      "text/html": [
       "<div>\n",
       "<style scoped>\n",
       "    .dataframe tbody tr th:only-of-type {\n",
       "        vertical-align: middle;\n",
       "    }\n",
       "\n",
       "    .dataframe tbody tr th {\n",
       "        vertical-align: top;\n",
       "    }\n",
       "\n",
       "    .dataframe thead th {\n",
       "        text-align: right;\n",
       "    }\n",
       "</style>\n",
       "<table border=\"1\" class=\"dataframe\">\n",
       "  <thead>\n",
       "    <tr style=\"text-align: right;\">\n",
       "      <th></th>\n",
       "      <th>Unnamed: 0</th>\n",
       "      <th>BOD</th>\n",
       "      <th>T-P</th>\n",
       "      <th>T-N</th>\n",
       "      <th>TOC</th>\n",
       "      <th>혼합</th>\n",
       "    </tr>\n",
       "  </thead>\n",
       "  <tbody>\n",
       "    <tr>\n",
       "      <th>0</th>\n",
       "      <td>NG1좌</td>\n",
       "      <td>4.22</td>\n",
       "      <td>4.03</td>\n",
       "      <td>0.086</td>\n",
       "      <td>3.5</td>\n",
       "      <td>0</td>\n",
       "    </tr>\n",
       "    <tr>\n",
       "      <th>1</th>\n",
       "      <td>NG1중</td>\n",
       "      <td>3.04</td>\n",
       "      <td>2.31</td>\n",
       "      <td>0.079</td>\n",
       "      <td>3.0</td>\n",
       "      <td>1</td>\n",
       "    </tr>\n",
       "    <tr>\n",
       "      <th>2</th>\n",
       "      <td>NG1우</td>\n",
       "      <td>2.67</td>\n",
       "      <td>1.78</td>\n",
       "      <td>0.069</td>\n",
       "      <td>2.9</td>\n",
       "      <td>0</td>\n",
       "    </tr>\n",
       "    <tr>\n",
       "      <th>3</th>\n",
       "      <td>NG2좌</td>\n",
       "      <td>3.81</td>\n",
       "      <td>2.24</td>\n",
       "      <td>0.075</td>\n",
       "      <td>3.0</td>\n",
       "      <td>2</td>\n",
       "    </tr>\n",
       "    <tr>\n",
       "      <th>4</th>\n",
       "      <td>NG2중</td>\n",
       "      <td>2.79</td>\n",
       "      <td>2.00</td>\n",
       "      <td>0.081</td>\n",
       "      <td>2.9</td>\n",
       "      <td>0</td>\n",
       "    </tr>\n",
       "  </tbody>\n",
       "</table>\n",
       "</div>"
      ],
      "text/plain": [
       "  Unnamed: 0   BOD   T-P    T-N  TOC  혼합\n",
       "0       NG1좌  4.22  4.03  0.086  3.5   0\n",
       "1       NG1중  3.04  2.31  0.079  3.0   1\n",
       "2       NG1우  2.67  1.78  0.069  2.9   0\n",
       "3       NG2좌  3.81  2.24  0.075  3.0   2\n",
       "4       NG2중  2.79  2.00  0.081  2.9   0"
      ]
     },
     "execution_count": 226,
     "metadata": {},
     "output_type": "execute_result"
    }
   ],
   "source": [
    "data.head()"
   ]
  },
  {
   "cell_type": "code",
   "execution_count": 227,
   "metadata": {},
   "outputs": [],
   "source": [
    "import re"
   ]
  },
  {
   "cell_type": "code",
   "execution_count": 228,
   "metadata": {},
   "outputs": [],
   "source": [
    "data['Unnamed: 0'] = data['Unnamed: 0'].str.replace('4', '5')\n",
    "data['Unnamed: 0'] = data['Unnamed: 0'].str.replace('3', '4')\n",
    "data['Unnamed: 0'] = data['Unnamed: 0'].str.replace('p', '3')"
   ]
  },
  {
   "cell_type": "markdown",
   "metadata": {},
   "source": [
    "Unnamed: 0 컬럼에 p 변수를 3으로 바꾸고 기존의 3, 4를 각각 4, 5로 변환해 줍니다."
   ]
  },
  {
   "cell_type": "code",
   "execution_count": 229,
   "metadata": {},
   "outputs": [],
   "source": [
    "data['상하류'] = [int(re.sub(r'[^0-9]', '', x)) for x in data['Unnamed: 0']]"
   ]
  },
  {
   "cell_type": "markdown",
   "metadata": {},
   "source": [
    "상하류 변수를 만들어 줍니다. Unnamed: 0 컬럼에서 숫자만 추출"
   ]
  },
  {
   "cell_type": "code",
   "execution_count": 230,
   "metadata": {},
   "outputs": [],
   "source": [
    "data['T-P'] = np.log1p(data['T-P'])"
   ]
  },
  {
   "cell_type": "markdown",
   "metadata": {},
   "source": [
    "T-P 컬럼은 로그 변환시 정규분포를 만족하므로 로그변환을 해줍니다."
   ]
  },
  {
   "cell_type": "code",
   "execution_count": 231,
   "metadata": {},
   "outputs": [],
   "source": [
    "import matplotlib.pyplot as plt\n",
    "import seaborn as sns\n",
    "%matplotlib inline"
   ]
  },
  {
   "cell_type": "code",
   "execution_count": 232,
   "metadata": {
    "scrolled": false
   },
   "outputs": [
    {
     "data": {
      "image/png": "[encoded data removed]",
      "text/plain": [
       "<Figure size 432x288 with 1 Axes>"
      ]
     },
     "metadata": {
      "needs_background": "light"
     },
     "output_type": "display_data"
    }
   ],
   "source": [
    "sns.countplot(data.혼합, edgecolor = (0, 0, 0))\n",
    "plt.xlabel('Class')\n",
    "plt.show()"
   ]
  },
  {
   "cell_type": "markdown",
   "metadata": {},
   "source": [
    "#### feature와 target을 분리합니다."
   ]
  },
  {
   "cell_type": "code",
   "execution_count": 233,
   "metadata": {},
   "outputs": [],
   "source": [
    "X = data.drop(['Unnamed: 0', '혼합'], axis = 1)\n",
    "y = data.혼합"
   ]
  },
  {
   "cell_type": "code",
   "execution_count": 234,
   "metadata": {},
   "outputs": [],
   "source": [
    "from sklearn.svm import SVC\n",
    "from sklearn.ensemble import RandomForestClassifier, GradientBoostingClassifier\n",
    "from sklearn.tree import DecisionTreeClassifier\n",
    "from sklearn.metrics import accuracy_score\n",
    "from sklearn.model_selection import StratifiedKFold"
   ]
  },
  {
   "cell_type": "code",
   "execution_count": 235,
   "metadata": {},
   "outputs": [],
   "source": [
    "skf = StratifiedKFold(n_splits = 10, random_state = 611, shuffle = True)"
   ]
  },
  {
   "cell_type": "markdown",
   "metadata": {},
   "source": [
    "학습 및 검증을 동시에 하기 위해 KFold를 사용하는데 분류 문제이므로 StratifiedKFold를 사용합니다.\n",
    "\n",
    "데이터를 총 10개로 나눈 후 9개의 묶음에 속하는 데이터로 학습을 진행하고 1개 묶음의 데이터로 검증을 진행합니다.\n",
    "\n",
    "### SVC"
   ]
  },
  {
   "cell_type": "code",
   "execution_count": 236,
   "metadata": {},
   "outputs": [],
   "source": [
    "svc = SVC(C = 10, probability= True)"
   ]
  },
  {
   "cell_type": "code",
   "execution_count": 237,
   "metadata": {
    "scrolled": true
   },
   "outputs": [
    {
     "name": "stdout",
     "output_type": "stream",
     "text": [
      "1 FOLD의 정확도는 0.375\n",
      "2 FOLD의 정확도는 0.625\n",
      "3 FOLD의 정확도는 0.571\n",
      "4 FOLD의 정확도는 0.286\n",
      "5 FOLD의 정확도는 0.571\n",
      "6 FOLD의 정확도는 0.429\n",
      "7 FOLD의 정확도는 0.571\n",
      "8 FOLD의 정확도는 0.857\n",
      "9 FOLD의 정확도는 0.714\n",
      "10 FOLD의 정확도는 0.857\n",
      "\n",
      "10FOLD 평균 정확도는 58.599999999999994%\n"
     ]
    }
   ],
   "source": [
    "acc_list = []\n",
    "i = 0\n",
    "for tr_idx, val_idx in skf.split(data, y) :\n",
    "    i += 1\n",
    "    tr_x, tr_y = X.iloc[tr_idx], y.iloc[tr_idx]\n",
    "    val_x, val_y = X.iloc[val_idx], y.iloc[val_idx]\n",
    "    \n",
    "    svc.fit(tr_x, tr_y)\n",
    "    \n",
    "    pred = svc.predict(val_x)\n",
    "    \n",
    "    acc = round(accuracy_score(val_y, pred), 3)\n",
    "    acc_list.append(acc)\n",
    "    print(f'{i} FOLD의 정확도는 {acc}')\n",
    "print(f'\\n10FOLD 평균 정확도는 {round(np.mean(acc_list), 3) * 100}%')"
   ]
  },
  {
   "cell_type": "markdown",
   "metadata": {},
   "source": [
    "### DecisionTreeRegressor"
   ]
  },
  {
   "cell_type": "code",
   "execution_count": 238,
   "metadata": {},
   "outputs": [],
   "source": [
    "dtr = DecisionTreeClassifier(random_state = 611, max_depth = 3)"
   ]
  },
  {
   "cell_type": "code",
   "execution_count": 239,
   "metadata": {
    "scrolled": false
   },
   "outputs": [
    {
     "name": "stdout",
     "output_type": "stream",
     "text": [
      "1 FOLD의 정확도는 0.25\n",
      "2 FOLD의 정확도는 0.5\n",
      "3 FOLD의 정확도는 0.714\n",
      "4 FOLD의 정확도는 0.429\n",
      "5 FOLD의 정확도는 0.429\n",
      "6 FOLD의 정확도는 0.429\n",
      "7 FOLD의 정확도는 0.571\n",
      "8 FOLD의 정확도는 0.571\n",
      "9 FOLD의 정확도는 0.714\n",
      "10 FOLD의 정확도는 0.571\n",
      "\n",
      "10FOLD 평균 정확도는 51.800000000000004%\n"
     ]
    }
   ],
   "source": [
    "acc_list = []\n",
    "i = 0\n",
    "for tr_idx, val_idx in skf.split(data, y) :\n",
    "    i += 1\n",
    "    tr_x, tr_y = X.iloc[tr_idx], y.iloc[tr_idx]\n",
    "    val_x, val_y = X.iloc[val_idx], y.iloc[val_idx]\n",
    "    \n",
    "    dtr.fit(tr_x, tr_y)\n",
    "    \n",
    "    pred = dtr.predict(val_x)\n",
    "    \n",
    "    acc = round(accuracy_score(val_y, pred), 3)\n",
    "    acc_list.append(acc)\n",
    "    print(f'{i} FOLD의 정확도는 {acc}')\n",
    "print(f'\\n10FOLD 평균 정확도는 {round(np.mean(acc_list), 3) * 100}%')"
   ]
  },
  {
   "cell_type": "code",
   "execution_count": 240,
   "metadata": {},
   "outputs": [
    {
     "data": {
      "image/png": "[encoded data removed]",
      "text/plain": [
       "<Figure size 1080x720 with 1 Axes>"
      ]
     },
     "metadata": {
      "needs_background": "light"
     },
     "output_type": "display_data"
    }
   ],
   "source": [
    "from sklearn.tree import plot_tree\n",
    "plt.figure(figsize = (15, 10))\n",
    "plot_tree(dtr)\n",
    "plt.show()"
   ]
  },
  {
   "cell_type": "markdown",
   "metadata": {},
   "source": [
    "### RandomForestClassifier"
   ]
  },
  {
   "cell_type": "code",
   "execution_count": 241,
   "metadata": {},
   "outputs": [],
   "source": [
    "rf = RandomForestClassifier(random_state = 611, max_depth = 4)"
   ]
  },
  {
   "cell_type": "code",
   "execution_count": 242,
   "metadata": {},
   "outputs": [
    {
     "name": "stdout",
     "output_type": "stream",
     "text": [
      "1 FOLD의 정확도는 0.25\n",
      "2 FOLD의 정확도는 0.625\n",
      "3 FOLD의 정확도는 0.857\n",
      "4 FOLD의 정확도는 0.571\n",
      "5 FOLD의 정확도는 0.571\n",
      "6 FOLD의 정확도는 0.714\n",
      "7 FOLD의 정확도는 0.714\n",
      "8 FOLD의 정확도는 0.571\n",
      "9 FOLD의 정확도는 0.714\n",
      "10 FOLD의 정확도는 0.714\n",
      "\n",
      "10FOLD 평균 정확도는 63.0%\n"
     ]
    }
   ],
   "source": [
    "acc_list = []\n",
    "i = 0\n",
    "for tr_idx, val_idx in skf.split(data, y) :\n",
    "    i += 1\n",
    "    tr_x, tr_y = X.iloc[tr_idx], y.iloc[tr_idx]\n",
    "    val_x, val_y = X.iloc[val_idx], y.iloc[val_idx]\n",
    "    \n",
    "    rf.fit(tr_x, tr_y)\n",
    "    \n",
    "    pred = rf.predict(val_x)\n",
    "    \n",
    "    acc = round(accuracy_score(val_y, pred), 3)\n",
    "    acc_list.append(acc)\n",
    "    print(f'{i} FOLD의 정확도는 {acc}')\n",
    "print(f'\\n10FOLD 평균 정확도는 {round(np.mean(acc_list), 3) * 100}%')"
   ]
  },
  {
   "cell_type": "markdown",
   "metadata": {},
   "source": [
    "### GradientBoostingClassifier"
   ]
  },
  {
   "cell_type": "code",
   "execution_count": 243,
   "metadata": {},
   "outputs": [],
   "source": [
    "gb = GradientBoostingClassifier(random_state = 611, max_depth = 4)"
   ]
  },
  {
   "cell_type": "code",
   "execution_count": 244,
   "metadata": {},
   "outputs": [
    {
     "name": "stdout",
     "output_type": "stream",
     "text": [
      "1 FOLD의 정확도는 0.25\n",
      "2 FOLD의 정확도는 0.75\n",
      "3 FOLD의 정확도는 0.857\n",
      "4 FOLD의 정확도는 0.429\n",
      "5 FOLD의 정확도는 0.571\n",
      "6 FOLD의 정확도는 0.429\n",
      "7 FOLD의 정확도는 0.286\n",
      "8 FOLD의 정확도는 0.571\n",
      "9 FOLD의 정확도는 0.571\n",
      "10 FOLD의 정확도는 0.571\n",
      "\n",
      "10FOLD 평균 정확도는 52.800000000000004%\n"
     ]
    }
   ],
   "source": [
    "acc_list = []\n",
    "i = 0\n",
    "for tr_idx, val_idx in skf.split(data, y) :\n",
    "    i += 1\n",
    "    tr_x, tr_y = X.iloc[tr_idx], y.iloc[tr_idx]\n",
    "    val_x, val_y = X.iloc[val_idx], y.iloc[val_idx]\n",
    "    \n",
    "    gb.fit(tr_x, tr_y)\n",
    "    \n",
    "    pred = gb.predict(val_x)\n",
    "    \n",
    "    acc = round(accuracy_score(val_y, pred), 3)\n",
    "    acc_list.append(acc)\n",
    "    print(f'{i} FOLD의 정확도는 {acc}')\n",
    "print(f'\\n10FOLD 평균 정확도는 {round(np.mean(acc_list), 3) * 100}%')"
   ]
  },
  {
   "cell_type": "markdown",
   "metadata": {},
   "source": [
    "#### 추가 권장 사항\n",
    "\n",
    "고객님 우선 성능을 향상시키기 위해서는 데이터의 수가 절대적으로 중요합니다. 향후 계획에서 데이터를 추가로 확보하실 수 있으시다면 지금 보다 훨씬 더 좋은 성능을 낼 수 있을 것 입니다. 또한 단일 모델이 아닌 앙상블이라는 기법을 활용한다면 일반적으로 성능을 더 올릴 수 있는데 아래 예시를 참고해 주세요! \n",
    "\n",
    "SVM 모델을 앙상블에 활용하기 위해서는 인자에 probability = True가 추가 되어야 합니다!"
   ]
  },
  {
   "cell_type": "code",
   "execution_count": 245,
   "metadata": {},
   "outputs": [],
   "source": [
    "from sklearn.ensemble import VotingClassifier"
   ]
  },
  {
   "cell_type": "code",
   "execution_count": 246,
   "metadata": {},
   "outputs": [],
   "source": [
    "vot = VotingClassifier(estimators = [('svc', svc), ('rf', rf), ('dtr', dtr)], voting = 'soft')"
   ]
  },
  {
   "cell_type": "code",
   "execution_count": 247,
   "metadata": {},
   "outputs": [
    {
     "name": "stdout",
     "output_type": "stream",
     "text": [
      "1 FOLD의 정확도는 0.25\n",
      "2 FOLD의 정확도는 0.5\n",
      "3 FOLD의 정확도는 0.857\n",
      "4 FOLD의 정확도는 0.429\n",
      "5 FOLD의 정확도는 0.571\n",
      "6 FOLD의 정확도는 0.429\n",
      "7 FOLD의 정확도는 0.571\n",
      "8 FOLD의 정확도는 0.571\n",
      "9 FOLD의 정확도는 0.714\n",
      "10 FOLD의 정확도는 0.571\n",
      "\n",
      "10FOLD 평균 정확도는 54.6%\n"
     ]
    }
   ],
   "source": [
    "acc_list = []\n",
    "i = 0\n",
    "for tr_idx, val_idx in skf.split(data, y) :\n",
    "    i += 1\n",
    "    tr_x, tr_y = X.iloc[tr_idx], y.iloc[tr_idx]\n",
    "    val_x, val_y = X.iloc[val_idx], y.iloc[val_idx]\n",
    "    \n",
    "    vot.fit(tr_x, tr_y)\n",
    "    \n",
    "    pred = vot.predict(val_x)\n",
    "    \n",
    "    acc = round(accuracy_score(val_y, pred), 3)\n",
    "    acc_list.append(acc)\n",
    "    print(f'{i} FOLD의 정확도는 {acc}')\n",
    "print(f'\\n10FOLD 평균 정확도는 {round(np.mean(acc_list), 3) * 100}%')"
   ]
  },
  {
   "cell_type": "markdown",
   "metadata": {},
   "source": [
    "데이터가 많이 확보된 이후 만든 모델로 미지의 데이터의 혼합 값을 예측하려면 지금과 같이 이진 분류가 아닌 예측값의 종류가 3개 이상인 경우 다음과 같은 코드를 사용할 수 있습니다."
   ]
  },
  {
   "cell_type": "code",
   "execution_count": 248,
   "metadata": {},
   "outputs": [],
   "source": [
    "X_train, X_test, y_train, y_test = train_test_split(X, y, test_size = .2, random_state = 611, stratify = y)"
   ]
  },
  {
   "cell_type": "markdown",
   "metadata": {},
   "source": [
    "고객님께서 학습에 사용할 데이터를 X_train, y_train라고 가정하고\n",
    "\n",
    "미지의 데이터를 X_test라고 가정하겠습니다.\n",
    "\n",
    "변수 이름에는 집중하지 마세요!\n",
    "\n",
    "예측 변수는 3가지 값을 가지므로 우선 최종 예측 파일을 (예측 데이터의 행 수) * (3) 모양의 모든 값이 0인 행렬을 만들어줍니다."
   ]
  },
  {
   "cell_type": "code",
   "execution_count": 249,
   "metadata": {},
   "outputs": [
    {
     "name": "stdout",
     "output_type": "stream",
     "text": [
      "1 FOLD의 정확도는 0.333\n",
      "2 FOLD의 정확도는 0.667\n",
      "3 FOLD의 정확도는 0.667\n",
      "4 FOLD의 정확도는 0.5\n",
      "5 FOLD의 정확도는 0.333\n",
      "6 FOLD의 정확도는 0.333\n",
      "7 FOLD의 정확도는 0.333\n",
      "8 FOLD의 정확도는 0.8\n",
      "9 FOLD의 정확도는 0.2\n",
      "10 FOLD의 정확도는 0.6\n",
      "\n",
      "10FOLD 평균 정확도는 47.699999999999996%\n"
     ]
    }
   ],
   "source": [
    "acc_list = []\n",
    "i = 0\n",
    "sub_pred = np.zeros((X_test.shape[0], 3)) # (예측 데이터의 행 수) * (3) 모양의 0행렬 생성\n",
    "for tr_idx, val_idx in skf.split(X_train, y_train) :\n",
    "    i += 1\n",
    "    tr_x, tr_y = X_train.iloc[tr_idx], y_train.iloc[tr_idx]\n",
    "    val_x, val_y = X_train.iloc[val_idx], y_train.iloc[val_idx]\n",
    "    \n",
    "    rf.fit(tr_x, tr_y)\n",
    "    \n",
    "    pred = rf.predict_proba(val_x) # 클래스별 예측 확률을 구해줍니다.\n",
    "    pred = [np.argmax(x) for x in pred] # 클래스별 예측 확률 중 가장 높은 값의 클래스를 최종 값으로 지정합니다.\n",
    "    \n",
    "    acc = round(accuracy_score(val_y, pred), 3)\n",
    "    acc_list.append(acc)\n",
    "    print(f'{i} FOLD의 정확도는 {acc}') # 실제 고객님께서 혼합 여부까지 가지고 있는 데이터로 학습한 모델의 정확도 입니다.\n",
    "    \n",
    "    rf_pred = rf.predict_proba(X_test) # 이제 혼합 여부가 존재하지 않는 미지의 데이터에 대해서 클래스별 확률을 예측합니다.\n",
    "    rf_pred = rf_pred / 10 # 데이터를 10개로 나누어서 학습을 했으므로 앙상블을 위해 값을 10으로 나누어 줍니다.\n",
    "    sub_pred += rf_pred # 0행렬에 값을 더해줍니다.\n",
    "print(f'\\n10FOLD 평균 정확도는 {round(np.mean(acc_list), 3) * 100}%')"
   ]
  },
  {
   "cell_type": "code",
   "execution_count": 250,
   "metadata": {},
   "outputs": [
    {
     "data": {
      "text/plain": [
       "array([[0.64149033, 0.04928302, 0.30922665],\n",
       "       [0.24508437, 0.20191104, 0.55300459],\n",
       "       [0.44439357, 0.37223387, 0.18337256],\n",
       "       [0.04901758, 0.30672189, 0.64426054],\n",
       "       [0.42866667, 0.11419051, 0.45714282],\n",
       "       [0.08381963, 0.17826818, 0.73791218],\n",
       "       [0.06969631, 0.24086463, 0.68943907],\n",
       "       [0.06911006, 0.23989223, 0.69099771],\n",
       "       [0.22583333, 0.16684578, 0.60732089],\n",
       "       [0.19477823, 0.51916274, 0.28605903],\n",
       "       [0.06869549, 0.29707625, 0.63422826],\n",
       "       [0.22384889, 0.15701465, 0.61913646],\n",
       "       [0.34363007, 0.15293261, 0.50343732],\n",
       "       [0.4046093 , 0.16469685, 0.43069385],\n",
       "       [0.2752221 , 0.22451039, 0.50026751]])"
      ]
     },
     "execution_count": 250,
     "metadata": {},
     "output_type": "execute_result"
    }
   ],
   "source": [
    "sub_pred # 고객님께서 추후에 예측하고자 하는 미지의 데이터의 클래스별 확률입니다."
   ]
  },
  {
   "cell_type": "code",
   "execution_count": 251,
   "metadata": {},
   "outputs": [
    {
     "data": {
      "text/plain": [
       "[0, 2, 0, 2, 2, 2, 2, 2, 2, 1, 2, 2, 2, 2, 2]"
      ]
     },
     "execution_count": 251,
     "metadata": {},
     "output_type": "execute_result"
    }
   ],
   "source": [
    "sub_label = [np.argmax(x) for x in sub_pred]\n",
    "sub_label"
   ]
  },
  {
   "cell_type": "markdown",
   "metadata": {},
   "source": [
    "이제 각 클래스별 확률 중 가장 높은 확률의 클래스를 지정합니다.\n",
    "\n",
    "예를 들어 위의 첫 행의 경우 0.6414, 0.049, 0.309 중에서 0.6414가 가장 높으므로 해당 클래스는 0으로 예측됩니다.\n",
    "\n",
    "미지의 데이터는 정답 값이 없으므로 정답을 확인할 수 없겠지만 지금은 예시이므로 한번 비교를 해보곘습니다."
   ]
  },
  {
   "cell_type": "code",
   "execution_count": 252,
   "metadata": {
    "scrolled": true
   },
   "outputs": [
    {
     "name": "stdout",
     "output_type": "stream",
     "text": [
      "앙상블을 활용해 미지의 데이터 예측 결과 정확도는 60.0%\n"
     ]
    }
   ],
   "source": [
    "print(f'앙상블을 활용해 미지의 데이터 예측 결과 정확도는 {(accuracy_score(y_test, sub_label) * 100)}%')"
   ]
  },
  {
   "cell_type": "markdown",
   "metadata": {},
   "source": [
    "앙상블 후 학습때의 정확도 47.699% 보다 더 높은 정확도를 보였습니다.\n",
    "\n",
    "고객님께서 진행하고자 하는 모델링 방향에 따라 다양한 시도를 해볼 것을 추천드립니다!"
   ]
  }
 ],
 "metadata": {
  "kernelspec": {
   "display_name": "Python 3",
   "language": "python",
   "name": "python3"
  },
  "language_info": {
   "codemirror_mode": {
    "name": "ipython",
    "version": 3
   },
   "file_extension": ".py",
   "mimetype": "text/x-python",
   "name": "python",
   "nbconvert_exporter": "python",
   "pygments_lexer": "ipython3",
   "version": "3.8.2"
  }
 },
 "nbformat": 4,
 "nbformat_minor": 4
}
