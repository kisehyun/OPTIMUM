{
 "cells": [
  {
   "cell_type": "code",
   "execution_count": 6,
   "metadata": {},
   "outputs": [],
   "source": [
    "import pandas as pd\n",
    "import numpy as np\n",
    "import warnings\n",
    "warnings.filterwarnings('ignore')\n",
    "\n",
    "import matplotlib.pyplot as plt\n",
    "import seaborn as sns\n",
    "%matplotlib inline"
   ]
  },
  {
   "cell_type": "code",
   "execution_count": 7,
   "metadata": {},
   "outputs": [],
   "source": [
    "train = pd.read_csv('train.csv')\n",
    "test = pd.read_csv(\"test.csv\")"
   ]
  },
  {
   "cell_type": "code",
   "execution_count": 8,
   "metadata": {},
   "outputs": [
    {
     "data": {
      "text/html": [
       "<div>\n",
       "<style scoped>\n",
       "    .dataframe tbody tr th:only-of-type {\n",
       "        vertical-align: middle;\n",
       "    }\n",
       "\n",
       "    .dataframe tbody tr th {\n",
       "        vertical-align: top;\n",
       "    }\n",
       "\n",
       "    .dataframe thead th {\n",
       "        text-align: right;\n",
       "    }\n",
       "</style>\n",
       "<table border=\"1\" class=\"dataframe\">\n",
       "  <thead>\n",
       "    <tr style=\"text-align: right;\">\n",
       "      <th></th>\n",
       "      <th>index</th>\n",
       "      <th>gender</th>\n",
       "      <th>car</th>\n",
       "      <th>reality</th>\n",
       "      <th>child_num</th>\n",
       "      <th>income_total</th>\n",
       "      <th>income_type</th>\n",
       "      <th>edu_type</th>\n",
       "      <th>family_type</th>\n",
       "      <th>house_type</th>\n",
       "      <th>DAYS_BIRTH</th>\n",
       "      <th>DAYS_EMPLOYED</th>\n",
       "      <th>FLAG_MOBIL</th>\n",
       "      <th>work_phone</th>\n",
       "      <th>phone</th>\n",
       "      <th>email</th>\n",
       "      <th>occyp_type</th>\n",
       "      <th>family_size</th>\n",
       "      <th>begin_month</th>\n",
       "      <th>credit</th>\n",
       "    </tr>\n",
       "  </thead>\n",
       "  <tbody>\n",
       "    <tr>\n",
       "      <th>0</th>\n",
       "      <td>0</td>\n",
       "      <td>F</td>\n",
       "      <td>N</td>\n",
       "      <td>N</td>\n",
       "      <td>0</td>\n",
       "      <td>202500.0</td>\n",
       "      <td>Commercial associate</td>\n",
       "      <td>Higher education</td>\n",
       "      <td>Married</td>\n",
       "      <td>Municipal apartment</td>\n",
       "      <td>-13899</td>\n",
       "      <td>-4709</td>\n",
       "      <td>1</td>\n",
       "      <td>0</td>\n",
       "      <td>0</td>\n",
       "      <td>0</td>\n",
       "      <td>NaN</td>\n",
       "      <td>2.0</td>\n",
       "      <td>-6.0</td>\n",
       "      <td>1.0</td>\n",
       "    </tr>\n",
       "    <tr>\n",
       "      <th>1</th>\n",
       "      <td>1</td>\n",
       "      <td>F</td>\n",
       "      <td>N</td>\n",
       "      <td>Y</td>\n",
       "      <td>1</td>\n",
       "      <td>247500.0</td>\n",
       "      <td>Commercial associate</td>\n",
       "      <td>Secondary / secondary special</td>\n",
       "      <td>Civil marriage</td>\n",
       "      <td>House / apartment</td>\n",
       "      <td>-11380</td>\n",
       "      <td>-1540</td>\n",
       "      <td>1</td>\n",
       "      <td>0</td>\n",
       "      <td>0</td>\n",
       "      <td>1</td>\n",
       "      <td>Laborers</td>\n",
       "      <td>3.0</td>\n",
       "      <td>-5.0</td>\n",
       "      <td>1.0</td>\n",
       "    </tr>\n",
       "    <tr>\n",
       "      <th>2</th>\n",
       "      <td>2</td>\n",
       "      <td>M</td>\n",
       "      <td>Y</td>\n",
       "      <td>Y</td>\n",
       "      <td>0</td>\n",
       "      <td>450000.0</td>\n",
       "      <td>Working</td>\n",
       "      <td>Higher education</td>\n",
       "      <td>Married</td>\n",
       "      <td>House / apartment</td>\n",
       "      <td>-19087</td>\n",
       "      <td>-4434</td>\n",
       "      <td>1</td>\n",
       "      <td>0</td>\n",
       "      <td>1</td>\n",
       "      <td>0</td>\n",
       "      <td>Managers</td>\n",
       "      <td>2.0</td>\n",
       "      <td>-22.0</td>\n",
       "      <td>2.0</td>\n",
       "    </tr>\n",
       "  </tbody>\n",
       "</table>\n",
       "</div>"
      ],
      "text/plain": [
       "   index gender car reality  child_num  income_total           income_type  \\\n",
       "0      0      F   N       N          0      202500.0  Commercial associate   \n",
       "1      1      F   N       Y          1      247500.0  Commercial associate   \n",
       "2      2      M   Y       Y          0      450000.0               Working   \n",
       "\n",
       "                        edu_type     family_type           house_type  \\\n",
       "0               Higher education         Married  Municipal apartment   \n",
       "1  Secondary / secondary special  Civil marriage    House / apartment   \n",
       "2               Higher education         Married    House / apartment   \n",
       "\n",
       "   DAYS_BIRTH  DAYS_EMPLOYED  FLAG_MOBIL  work_phone  phone  email occyp_type  \\\n",
       "0      -13899          -4709           1           0      0      0        NaN   \n",
       "1      -11380          -1540           1           0      0      1   Laborers   \n",
       "2      -19087          -4434           1           0      1      0   Managers   \n",
       "\n",
       "   family_size  begin_month  credit  \n",
       "0          2.0         -6.0     1.0  \n",
       "1          3.0         -5.0     1.0  \n",
       "2          2.0        -22.0     2.0  "
      ]
     },
     "execution_count": 8,
     "metadata": {},
     "output_type": "execute_result"
    }
   ],
   "source": [
    "train.head(3)"
   ]
  },
  {
   "cell_type": "code",
   "execution_count": 9,
   "metadata": {},
   "outputs": [
    {
     "data": {
      "text/html": [
       "<div>\n",
       "<style scoped>\n",
       "    .dataframe tbody tr th:only-of-type {\n",
       "        vertical-align: middle;\n",
       "    }\n",
       "\n",
       "    .dataframe tbody tr th {\n",
       "        vertical-align: top;\n",
       "    }\n",
       "\n",
       "    .dataframe thead th {\n",
       "        text-align: right;\n",
       "    }\n",
       "</style>\n",
       "<table border=\"1\" class=\"dataframe\">\n",
       "  <thead>\n",
       "    <tr style=\"text-align: right;\">\n",
       "      <th></th>\n",
       "      <th>index</th>\n",
       "      <th>gender</th>\n",
       "      <th>car</th>\n",
       "      <th>reality</th>\n",
       "      <th>child_num</th>\n",
       "      <th>income_total</th>\n",
       "      <th>income_type</th>\n",
       "      <th>edu_type</th>\n",
       "      <th>family_type</th>\n",
       "      <th>house_type</th>\n",
       "      <th>DAYS_BIRTH</th>\n",
       "      <th>DAYS_EMPLOYED</th>\n",
       "      <th>FLAG_MOBIL</th>\n",
       "      <th>work_phone</th>\n",
       "      <th>phone</th>\n",
       "      <th>email</th>\n",
       "      <th>occyp_type</th>\n",
       "      <th>family_size</th>\n",
       "      <th>begin_month</th>\n",
       "    </tr>\n",
       "  </thead>\n",
       "  <tbody>\n",
       "    <tr>\n",
       "      <th>0</th>\n",
       "      <td>26457</td>\n",
       "      <td>M</td>\n",
       "      <td>Y</td>\n",
       "      <td>N</td>\n",
       "      <td>0</td>\n",
       "      <td>112500.0</td>\n",
       "      <td>Pensioner</td>\n",
       "      <td>Secondary / secondary special</td>\n",
       "      <td>Civil marriage</td>\n",
       "      <td>House / apartment</td>\n",
       "      <td>-21990</td>\n",
       "      <td>365243</td>\n",
       "      <td>1</td>\n",
       "      <td>0</td>\n",
       "      <td>1</td>\n",
       "      <td>0</td>\n",
       "      <td>NaN</td>\n",
       "      <td>2.0</td>\n",
       "      <td>-60.0</td>\n",
       "    </tr>\n",
       "    <tr>\n",
       "      <th>1</th>\n",
       "      <td>26458</td>\n",
       "      <td>F</td>\n",
       "      <td>N</td>\n",
       "      <td>Y</td>\n",
       "      <td>0</td>\n",
       "      <td>135000.0</td>\n",
       "      <td>State servant</td>\n",
       "      <td>Higher education</td>\n",
       "      <td>Married</td>\n",
       "      <td>House / apartment</td>\n",
       "      <td>-18964</td>\n",
       "      <td>-8671</td>\n",
       "      <td>1</td>\n",
       "      <td>0</td>\n",
       "      <td>1</td>\n",
       "      <td>0</td>\n",
       "      <td>Core staff</td>\n",
       "      <td>2.0</td>\n",
       "      <td>-36.0</td>\n",
       "    </tr>\n",
       "    <tr>\n",
       "      <th>2</th>\n",
       "      <td>26459</td>\n",
       "      <td>F</td>\n",
       "      <td>N</td>\n",
       "      <td>Y</td>\n",
       "      <td>0</td>\n",
       "      <td>69372.0</td>\n",
       "      <td>Working</td>\n",
       "      <td>Secondary / secondary special</td>\n",
       "      <td>Married</td>\n",
       "      <td>House / apartment</td>\n",
       "      <td>-15887</td>\n",
       "      <td>-217</td>\n",
       "      <td>1</td>\n",
       "      <td>1</td>\n",
       "      <td>1</td>\n",
       "      <td>0</td>\n",
       "      <td>Laborers</td>\n",
       "      <td>2.0</td>\n",
       "      <td>-40.0</td>\n",
       "    </tr>\n",
       "  </tbody>\n",
       "</table>\n",
       "</div>"
      ],
      "text/plain": [
       "   index gender car reality  child_num  income_total    income_type  \\\n",
       "0  26457      M   Y       N          0      112500.0      Pensioner   \n",
       "1  26458      F   N       Y          0      135000.0  State servant   \n",
       "2  26459      F   N       Y          0       69372.0        Working   \n",
       "\n",
       "                        edu_type     family_type         house_type  \\\n",
       "0  Secondary / secondary special  Civil marriage  House / apartment   \n",
       "1               Higher education         Married  House / apartment   \n",
       "2  Secondary / secondary special         Married  House / apartment   \n",
       "\n",
       "   DAYS_BIRTH  DAYS_EMPLOYED  FLAG_MOBIL  work_phone  phone  email  \\\n",
       "0      -21990         365243           1           0      1      0   \n",
       "1      -18964          -8671           1           0      1      0   \n",
       "2      -15887           -217           1           1      1      0   \n",
       "\n",
       "   occyp_type  family_size  begin_month  \n",
       "0         NaN          2.0        -60.0  \n",
       "1  Core staff          2.0        -36.0  \n",
       "2    Laborers          2.0        -40.0  "
      ]
     },
     "execution_count": 9,
     "metadata": {},
     "output_type": "execute_result"
    }
   ],
   "source": [
    "test.head(3)"
   ]
  },
  {
   "cell_type": "markdown",
   "metadata": {},
   "source": [
    "## EDA - 데이터 시각화"
   ]
  },
  {
   "cell_type": "code",
   "execution_count": 10,
   "metadata": {},
   "outputs": [
    {
     "data": {
      "image/png": "[encoded data removed]",
      "text/plain": [
       "<Figure size 576x432 with 1 Axes>"
      ]
     },
     "metadata": {
      "needs_background": "light"
     },
     "output_type": "display_data"
    }
   ],
   "source": [
    "plt.figure(figsize = (8, 6))\n",
    "sns.countplot(train['credit'], hue = train['gender'], edgecolor = (0, 0, 0))\n",
    "plt.legend(loc = 'lower center', bbox_to_anchor = (.5, -.2), ncol = 2)\n",
    "plt.show()"
   ]
  },
  {
   "cell_type": "markdown",
   "metadata": {},
   "source": [
    "모든 성별에서 2 클래스 비중이 높은 것을 알 수 있습니다."
   ]
  },
  {
   "cell_type": "code",
   "execution_count": 11,
   "metadata": {},
   "outputs": [
    {
     "data": {
      "image/png": "[encoded data removed]",
      "text/plain": [
       "<Figure size 576x432 with 1 Axes>"
      ]
     },
     "metadata": {
      "needs_background": "light"
     },
     "output_type": "display_data"
    }
   ],
   "source": [
    "plt.figure(figsize = (8, 6))\n",
    "sns.countplot(train['credit'], hue = train['family_type'], edgecolor = (0, 0, 0))\n",
    "plt.legend(loc = 'lower center', bbox_to_anchor = (.5, -.2), ncol = 5)\n",
    "plt.show()"
   ]
  },
  {
   "cell_type": "markdown",
   "metadata": {},
   "source": [
    "\"Married\" 고객이 비중이 가장 높았고 \"Single / not married\" 고객이 그 다음으로 높은 것을 알 수 있습니다."
   ]
  },
  {
   "cell_type": "code",
   "execution_count": 12,
   "metadata": {
    "scrolled": false
   },
   "outputs": [
    {
     "data": {
      "image/png": "[encoded data removed]",
      "text/plain": [
       "<Figure size 576x432 with 1 Axes>"
      ]
     },
     "metadata": {
      "needs_background": "light"
     },
     "output_type": "display_data"
    }
   ],
   "source": [
    "plt.figure(figsize = (8, 6))\n",
    "sns.boxplot(train['credit'], train['income_total'])\n",
    "plt.show()"
   ]
  },
  {
   "cell_type": "markdown",
   "metadata": {},
   "source": [
    "각 credit 등급에 따른 income_total의 박스 플롯 결과 2 credit의 고객의 소득이 높은 편임을 알 수 있습니다."
   ]
  },
  {
   "cell_type": "code",
   "execution_count": 13,
   "metadata": {
    "scrolled": false
   },
   "outputs": [
    {
     "data": {
      "image/png": "[encoded data removed]",
      "text/plain": [
       "<Figure size 720x432 with 1 Axes>"
      ]
     },
     "metadata": {},
     "output_type": "display_data"
    }
   ],
   "source": [
    "plt.figure(figsize = (10, 6))\n",
    "ft = train.groupby('house_type').count()['index']\n",
    "my_circle = plt.Circle((0,0), 0.7, color = 'white')\n",
    "plt.pie(ft,labels = ft.index, wedgeprops = {'linewidth' : 10, 'edgecolor' : 'white'}, autopct = '%1.1f%%', textprops = {'color' : \"b\", 'fontsize' : 10})\n",
    "p = plt.gcf()\n",
    "p.gca().add_artist(my_circle)\n",
    "plt.title('House type distribution', color = 'black', size = 15)\n",
    "plt.show()"
   ]
  },
  {
   "cell_type": "markdown",
   "metadata": {},
   "source": [
    "주택 타입 분포를 살펴보면 자가/아파트 비중이 가장 높은 것을 알 수 있습니다."
   ]
  },
  {
   "cell_type": "code",
   "execution_count": 14,
   "metadata": {},
   "outputs": [],
   "source": [
    "train['DAYS_BIRTH'] = np.abs(train['DAYS_BIRTH'])\n",
    "test['DAYS_BIRTH'] = np.abs(test['DAYS_BIRTH'])\n",
    "\n",
    "train['AGE'] = train['DAYS_BIRTH'] / 365\n",
    "test['AGE'] = test['DAYS_BIRTH'] / 365"
   ]
  },
  {
   "cell_type": "code",
   "execution_count": 15,
   "metadata": {
    "scrolled": false
   },
   "outputs": [
    {
     "data": {
      "image/png": "[encoded data removed]",
      "text/plain": [
       "<Figure size 576x432 with 1 Axes>"
      ]
     },
     "metadata": {
      "needs_background": "light"
     },
     "output_type": "display_data"
    }
   ],
   "source": [
    "plt.figure(figsize = (8, 6))\n",
    "sns.distplot(train[train.credit == 0]['AGE'], color = 'b', hist = False, label = 'credit : 0')\n",
    "sns.distplot(train[train.credit == 1]['AGE'], color = 'g', hist = False, label = 'credit : 1')\n",
    "sns.distplot(train[train.credit == 2]['AGE'], color = 'r', hist = False, label = 'credit : 2')\n",
    "plt.legend(loc = 'lower center', bbox_to_anchor = (.5, -.2), ncol = 3)\n",
    "plt.show()"
   ]
  },
  {
   "cell_type": "markdown",
   "metadata": {},
   "source": [
    "## Feature Engineering - 변수 선정 & 전처리\n",
    "\n",
    "- 불필요한 컬럼 삭제\n",
    "- 결측치를 NA로 대체\n",
    "- 일수와 관련된 feature를 음수를 양수로 변환\n",
    "- 일수에서 연수를 추출"
   ]
  },
  {
   "cell_type": "code",
   "execution_count": 16,
   "metadata": {},
   "outputs": [],
   "source": [
    "train.drop(['index', 'FLAG_MOBIL'], axis=1, inplace=True)\n",
    "test.drop(['index', 'FLAG_MOBIL'], axis=1, inplace=True)"
   ]
  },
  {
   "cell_type": "code",
   "execution_count": 17,
   "metadata": {},
   "outputs": [],
   "source": [
    "train.fillna('NA', inplace = True)\n",
    "test.fillna('NA', inplace = True)"
   ]
  },
  {
   "cell_type": "code",
   "execution_count": 18,
   "metadata": {},
   "outputs": [],
   "source": [
    "train['DAYS_EMPLOYED'] = [0 if x >= 0 else x for x in train['DAYS_EMPLOYED']]\n",
    "test['DAYS_EMPLOYED'] = [0 if x >= 0 else x for x in test['DAYS_EMPLOYED']]"
   ]
  },
  {
   "cell_type": "code",
   "execution_count": 19,
   "metadata": {},
   "outputs": [],
   "source": [
    "feats = ['DAYS_BIRTH', 'begin_month', 'DAYS_EMPLOYED']\n",
    "for feat in feats:\n",
    "    train[feat]=np.abs(train[feat])\n",
    "    test[feat]=np.abs(test[feat])"
   ]
  },
  {
   "cell_type": "code",
   "execution_count": 20,
   "metadata": {},
   "outputs": [],
   "source": [
    "train['gap_b_e'] = train['DAYS_BIRTH'] - train['DAYS_EMPLOYED']\n",
    "test['gap_b_e'] = test['DAYS_BIRTH'] - test['DAYS_EMPLOYED']"
   ]
  },
  {
   "cell_type": "code",
   "execution_count": 21,
   "metadata": {},
   "outputs": [],
   "source": [
    "train['E_YEAR'] = train['DAYS_EMPLOYED'] // 365\n",
    "test['E_YEAR'] = test['DAYS_EMPLOYED'] // 365"
   ]
  },
  {
   "cell_type": "code",
   "execution_count": 22,
   "metadata": {},
   "outputs": [],
   "source": [
    "train['mean_income'] = train['income_total'] / (train['DAYS_BIRTH'] + train['DAYS_EMPLOYED'])\n",
    "test['mean_income'] = test['income_total'] / (test['DAYS_BIRTH'] + test['DAYS_EMPLOYED'])"
   ]
  },
  {
   "cell_type": "code",
   "execution_count": 23,
   "metadata": {},
   "outputs": [],
   "source": [
    "train.loc[(train['DAYS_EMPLOYED'] == 0) & (train['occyp_type'] == 'NA'), 'occyp_type'] = 'NO_WORK'\n",
    "test.loc[(test['DAYS_EMPLOYED'] == 0) & (test['occyp_type'] == 'NA'), 'occyp_type'] = 'NO_WORK'"
   ]
  },
  {
   "cell_type": "markdown",
   "metadata": {},
   "source": [
    "## Modeling\n",
    "\n",
    "- 데이터 분석 기법 : 분류(Classification)\n",
    "\n",
    "#### 더 많은 학습 데이터를 사용하기 위해 중복 데이터는 처리하지 않았습니다.\n",
    "\n",
    "종속변수는 credit, 독립변수는 credit을 제외한 나머지로 따로 지정합니다."
   ]
  },
  {
   "cell_type": "code",
   "execution_count": 56,
   "metadata": {},
   "outputs": [],
   "source": [
    "X = train.drop('credit', axis = 1)\n",
    "y = train['credit']"
   ]
  },
  {
   "cell_type": "code",
   "execution_count": 57,
   "metadata": {},
   "outputs": [],
   "source": [
    "target = test.copy()"
   ]
  },
  {
   "cell_type": "markdown",
   "metadata": {},
   "source": [
    "Catboost 알고리즘은 범주형 변수를 따로 처리할 수 있기 때문에 cat_cols에 범주형 변수인 feature이름을 저장합니다."
   ]
  },
  {
   "cell_type": "code",
   "execution_count": 58,
   "metadata": {},
   "outputs": [],
   "source": [
    "cat_cols = [c for c in X.columns if X[c].dtype == 'object']"
   ]
  },
  {
   "cell_type": "code",
   "execution_count": 59,
   "metadata": {},
   "outputs": [
    {
     "data": {
      "text/plain": [
       "['gender',\n",
       " 'car',\n",
       " 'reality',\n",
       " 'income_type',\n",
       " 'edu_type',\n",
       " 'family_type',\n",
       " 'house_type',\n",
       " 'occyp_type']"
      ]
     },
     "execution_count": 59,
     "metadata": {},
     "output_type": "execute_result"
    }
   ],
   "source": [
    "cat_cols"
   ]
  },
  {
   "cell_type": "code",
   "execution_count": 28,
   "metadata": {},
   "outputs": [],
   "source": [
    "from sklearn.model_selection import StratifiedKFold\n",
    "from sklearn.metrics import log_loss\n",
    "from sklearn.preprocessing import OneHotEncoder\n",
    "from catboost import CatBoostClassifier, Pool\n",
    "from lightgbm import LGBMClassifier\n",
    "from xgboost import XGBClassifier"
   ]
  },
  {
   "cell_type": "markdown",
   "metadata": {},
   "source": [
    "- 정확도 향상 기법 : StratifiedKFold로 앙상블을 통해 Overfitting 방지"
   ]
  },
  {
   "cell_type": "code",
   "execution_count": 29,
   "metadata": {},
   "outputs": [],
   "source": [
    "skf = StratifiedKFold(n_splits = 10, random_state = 42, shuffle = True)"
   ]
  },
  {
   "cell_type": "markdown",
   "metadata": {},
   "source": [
    "### 사용 Model : 트리 계열 보다 앙상블 방식을 사용한 부스팅 계열 알고리즘 사용\n",
    "- Catboost\n",
    "- XGBoost\n",
    "- Lightgbm"
   ]
  },
  {
   "cell_type": "code",
   "execution_count": 184,
   "metadata": {
    "scrolled": true
   },
   "outputs": [
    {
     "name": "stdout",
     "output_type": "stream",
     "text": [
      "0:\tlearn: 1.0698975\ttest: 1.0698975\ttest1: 1.0693063\tbest: 1.0693063 (0)\ttotal: 29.8ms\tremaining: 2m 28s\n",
      "1000:\tlearn: 0.7258235\ttest: 0.7350674\ttest1: 0.7620967\tbest: 0.7620967 (1000)\ttotal: 21.3s\tremaining: 1m 24s\n",
      "2000:\tlearn: 0.6673077\ttest: 0.6859511\ttest1: 0.7439207\tbest: 0.7439040 (1998)\ttotal: 43.1s\tremaining: 1m 4s\n",
      "3000:\tlearn: 0.6200860\ttest: 0.6471109\ttest1: 0.7320525\tbest: 0.7320525 (3000)\ttotal: 1m 4s\tremaining: 42.9s\n",
      "4000:\tlearn: 0.5804770\ttest: 0.6149326\ttest1: 0.7244479\tbest: 0.7244479 (4000)\ttotal: 1m 26s\tremaining: 21.6s\n",
      "Stopped by overfitting detector  (100 iterations wait)\n",
      "\n",
      "bestTest = 0.7226842801\n",
      "bestIteration = 4362\n",
      "\n",
      "Shrink model to first 4363 iterations.\n",
      "0:\tlearn: 1.0697270\ttest: 1.0697270\ttest1: 1.0700545\tbest: 1.0700545 (0)\ttotal: 23.1ms\tremaining: 1m 55s\n",
      "1000:\tlearn: 0.7226030\ttest: 0.7311295\ttest1: 0.7792871\tbest: 0.7792331 (990)\ttotal: 21.3s\tremaining: 1m 25s\n",
      "2000:\tlearn: 0.6631011\ttest: 0.6814194\ttest1: 0.7609244\tbest: 0.7609009 (1998)\ttotal: 42.9s\tremaining: 1m 4s\n",
      "3000:\tlearn: 0.6164479\ttest: 0.6438703\ttest1: 0.7501076\tbest: 0.7500595 (2995)\ttotal: 1m 4s\tremaining: 42.6s\n",
      "4000:\tlearn: 0.5763352\ttest: 0.6117535\ttest1: 0.7426671\tbest: 0.7425804 (3986)\ttotal: 1m 25s\tremaining: 21.3s\n",
      "4999:\tlearn: 0.5422678\ttest: 0.5852974\ttest1: 0.7359373\tbest: 0.7359373 (4999)\ttotal: 1m 46s\tremaining: 0us\n",
      "\n",
      "bestTest = 0.7359373063\n",
      "bestIteration = 4999\n",
      "\n",
      "0:\tlearn: 1.0697113\ttest: 1.0697113\ttest1: 1.0701375\tbest: 1.0701375 (0)\ttotal: 24.9ms\tremaining: 2m 4s\n",
      "1000:\tlearn: 0.7231556\ttest: 0.7312146\ttest1: 0.7850885\tbest: 0.7850816 (999)\ttotal: 20.7s\tremaining: 1m 22s\n",
      "2000:\tlearn: 0.6636134\ttest: 0.6822478\ttest1: 0.7696954\tbest: 0.7696954 (2000)\ttotal: 42.2s\tremaining: 1m 3s\n",
      "3000:\tlearn: 0.6161959\ttest: 0.6440404\ttest1: 0.7588606\tbest: 0.7588606 (3000)\ttotal: 1m 4s\tremaining: 42.6s\n",
      "4000:\tlearn: 0.5759676\ttest: 0.6117878\ttest1: 0.7525586\tbest: 0.7525330 (3993)\ttotal: 1m 25s\tremaining: 21.4s\n",
      "Stopped by overfitting detector  (100 iterations wait)\n",
      "\n",
      "bestTest = 0.7480737921\n",
      "bestIteration = 4795\n",
      "\n",
      "Shrink model to first 4796 iterations.\n",
      "0:\tlearn: 1.0697872\ttest: 1.0697872\ttest1: 1.0697978\tbest: 1.0697978 (0)\ttotal: 26.7ms\tremaining: 2m 13s\n",
      "1000:\tlearn: 0.7230134\ttest: 0.7311592\ttest1: 0.7805478\tbest: 0.7805453 (999)\ttotal: 20.8s\tremaining: 1m 23s\n",
      "2000:\tlearn: 0.6635124\ttest: 0.6813941\ttest1: 0.7644720\tbest: 0.7644564 (1991)\ttotal: 42.3s\tremaining: 1m 3s\n",
      "3000:\tlearn: 0.6163943\ttest: 0.6435144\ttest1: 0.7534462\tbest: 0.7534462 (3000)\ttotal: 1m 3s\tremaining: 42.6s\n",
      "4000:\tlearn: 0.5762487\ttest: 0.6119433\ttest1: 0.7470363\tbest: 0.7470032 (3980)\ttotal: 1m 25s\tremaining: 21.4s\n",
      "Stopped by overfitting detector  (100 iterations wait)\n",
      "\n",
      "bestTest = 0.745929398\n",
      "bestIteration = 4142\n",
      "\n",
      "Shrink model to first 4143 iterations.\n",
      "0:\tlearn: 1.0698297\ttest: 1.0698297\ttest1: 1.0695536\tbest: 1.0695536 (0)\ttotal: 26.8ms\tremaining: 2m 14s\n",
      "1000:\tlearn: 0.7267219\ttest: 0.7350806\ttest1: 0.7701693\tbest: 0.7701391 (998)\ttotal: 21.5s\tremaining: 1m 25s\n",
      "2000:\tlearn: 0.6643857\ttest: 0.6815842\ttest1: 0.7535992\tbest: 0.7535992 (2000)\ttotal: 42.4s\tremaining: 1m 3s\n",
      "3000:\tlearn: 0.6166410\ttest: 0.6424465\ttest1: 0.7453160\tbest: 0.7452334 (2993)\ttotal: 1m 3s\tremaining: 42.1s\n",
      "4000:\tlearn: 0.5771775\ttest: 0.6112933\ttest1: 0.7388329\tbest: 0.7388222 (3999)\ttotal: 1m 24s\tremaining: 21s\n",
      "Stopped by overfitting detector  (100 iterations wait)\n",
      "\n",
      "bestTest = 0.7378437017\n",
      "bestIteration = 4235\n",
      "\n",
      "Shrink model to first 4236 iterations.\n",
      "0:\tlearn: 1.0697145\ttest: 1.0697145\ttest1: 1.0701626\tbest: 1.0701626 (0)\ttotal: 26.4ms\tremaining: 2m 11s\n",
      "1000:\tlearn: 0.7246697\ttest: 0.7332188\ttest1: 0.7804098\tbest: 0.7804098 (1000)\ttotal: 19.8s\tremaining: 1m 19s\n",
      "2000:\tlearn: 0.6624670\ttest: 0.6801694\ttest1: 0.7644731\tbest: 0.7644307 (1994)\ttotal: 40.5s\tremaining: 1m\n",
      "3000:\tlearn: 0.6150120\ttest: 0.6409238\ttest1: 0.7559347\tbest: 0.7558640 (2978)\ttotal: 1m 2s\tremaining: 41.8s\n",
      "4000:\tlearn: 0.5754296\ttest: 0.6088751\ttest1: 0.7503152\tbest: 0.7503120 (3997)\ttotal: 1m 25s\tremaining: 21.2s\n",
      "Stopped by overfitting detector  (100 iterations wait)\n",
      "\n",
      "bestTest = 0.748253646\n",
      "bestIteration = 4392\n",
      "\n",
      "Shrink model to first 4393 iterations.\n",
      "0:\tlearn: 1.0697784\ttest: 1.0697784\ttest1: 1.0697533\tbest: 1.0697533 (0)\ttotal: 23.7ms\tremaining: 1m 58s\n",
      "1000:\tlearn: 0.7226192\ttest: 0.7336509\ttest1: 0.7774564\tbest: 0.7774564 (1000)\ttotal: 21.2s\tremaining: 1m 24s\n",
      "2000:\tlearn: 0.6607998\ttest: 0.6832476\ttest1: 0.7588493\tbest: 0.7588221 (1999)\ttotal: 43.3s\tremaining: 1m 4s\n",
      "3000:\tlearn: 0.6126460\ttest: 0.6444709\ttest1: 0.7464299\tbest: 0.7464091 (2997)\ttotal: 1m 5s\tremaining: 43.7s\n",
      "4000:\tlearn: 0.5741562\ttest: 0.6147592\ttest1: 0.7400384\tbest: 0.7400384 (4000)\ttotal: 1m 27s\tremaining: 21.9s\n",
      "4999:\tlearn: 0.5395649\ttest: 0.5876770\ttest1: 0.7343190\tbest: 0.7343055 (4980)\ttotal: 1m 49s\tremaining: 0us\n",
      "\n",
      "bestTest = 0.7343054904\n",
      "bestIteration = 4980\n",
      "\n",
      "Shrink model to first 4981 iterations.\n",
      "0:\tlearn: 1.0702336\ttest: 1.0702336\ttest1: 1.0699204\tbest: 1.0699204 (0)\ttotal: 21.1ms\tremaining: 1m 45s\n",
      "1000:\tlearn: 0.7239473\ttest: 0.7339414\ttest1: 0.7767960\tbest: 0.7767960 (1000)\ttotal: 21.8s\tremaining: 1m 27s\n",
      "2000:\tlearn: 0.6612629\ttest: 0.6818144\ttest1: 0.7600447\tbest: 0.7600202 (1999)\ttotal: 43.9s\tremaining: 1m 5s\n",
      "3000:\tlearn: 0.6122366\ttest: 0.6416723\ttest1: 0.7506343\tbest: 0.7506343 (3000)\ttotal: 1m 5s\tremaining: 43.5s\n",
      "4000:\tlearn: 0.5717744\ttest: 0.6100692\ttest1: 0.7451295\tbest: 0.7449505 (3988)\ttotal: 1m 26s\tremaining: 21.5s\n",
      "4999:\tlearn: 0.5379172\ttest: 0.5839888\ttest1: 0.7408797\tbest: 0.7408497 (4969)\ttotal: 1m 47s\tremaining: 0us\n",
      "\n",
      "bestTest = 0.740849677\n",
      "bestIteration = 4969\n",
      "\n",
      "Shrink model to first 4970 iterations.\n",
      "0:\tlearn: 1.0701434\ttest: 1.0701434\ttest1: 1.0704872\tbest: 1.0704872 (0)\ttotal: 21.8ms\tremaining: 1m 48s\n",
      "1000:\tlearn: 0.7242877\ttest: 0.7310904\ttest1: 0.7828816\tbest: 0.7828718 (998)\ttotal: 20s\tremaining: 1m 20s\n",
      "2000:\tlearn: 0.6633082\ttest: 0.6798873\ttest1: 0.7647656\tbest: 0.7647656 (2000)\ttotal: 40.8s\tremaining: 1m 1s\n",
      "3000:\tlearn: 0.6162910\ttest: 0.6420015\ttest1: 0.7555153\tbest: 0.7555153 (3000)\ttotal: 1m 1s\tremaining: 41.1s\n",
      "4000:\tlearn: 0.5756425\ttest: 0.6085882\ttest1: 0.7483618\tbest: 0.7483618 (4000)\ttotal: 1m 22s\tremaining: 20.7s\n",
      "4999:\tlearn: 0.5410757\ttest: 0.5814530\ttest1: 0.7439123\tbest: 0.7439089 (4984)\ttotal: 1m 43s\tremaining: 0us\n",
      "\n",
      "bestTest = 0.7439089074\n",
      "bestIteration = 4984\n",
      "\n",
      "Shrink model to first 4985 iterations.\n",
      "0:\tlearn: 1.0703423\ttest: 1.0703423\ttest1: 1.0696328\tbest: 1.0696328 (0)\ttotal: 21.8ms\tremaining: 1m 49s\n",
      "1000:\tlearn: 0.7260420\ttest: 0.7348541\ttest1: 0.7613783\tbest: 0.7613734 (995)\ttotal: 20s\tremaining: 1m 19s\n",
      "2000:\tlearn: 0.6638531\ttest: 0.6825304\ttest1: 0.7448207\tbest: 0.7447948 (1965)\ttotal: 40.7s\tremaining: 1m 1s\n",
      "3000:\tlearn: 0.6164675\ttest: 0.6438382\ttest1: 0.7362181\tbest: 0.7362159 (2997)\ttotal: 1m 1s\tremaining: 41s\n",
      "4000:\tlearn: 0.5766598\ttest: 0.6127379\ttest1: 0.7298204\tbest: 0.7298069 (3993)\ttotal: 1m 22s\tremaining: 20.6s\n",
      "4999:\tlearn: 0.5415918\ttest: 0.5848288\ttest1: 0.7256614\tbest: 0.7256370 (4998)\ttotal: 1m 43s\tremaining: 0us\n",
      "\n",
      "bestTest = 0.7256370328\n",
      "bestIteration = 4998\n",
      "\n",
      "Shrink model to first 4999 iterations.\n"
     ]
    }
   ],
   "source": [
    "cb_pred = np.zeros((target.shape[0], 3))\n",
    "for tr_idx, val_idx in skf.split(X, y) :\n",
    "    tr_x, tr_y = X.iloc[tr_idx], y.iloc[tr_idx]\n",
    "    val_x, val_y = X.iloc[val_idx], y.iloc[val_idx]\n",
    "    \n",
    "    cb = CatBoostClassifier(random_state = 42, n_estimators = 5000, max_depth = 5, learning_rate = .05, bootstrap_type = 'Bernoulli')\n",
    "    \n",
    "    cb.fit(tr_x, tr_y, eval_set = [(tr_x, tr_y), (val_x, val_y)], early_stopping_rounds = 100, cat_features = cat_cols, verbose = 1000)\n",
    "    \n",
    "    pred = cb.predict_proba(target) / 10\n",
    "    \n",
    "    cb_pred += pred"
   ]
  },
  {
   "cell_type": "markdown",
   "metadata": {},
   "source": [
    "Lightgbm, XGBoost는 변수가 모두 숫자여야 하기 때문에 Catboost와 달리 모든 범주형, 문자형 변수를 숫자로 변환합니다."
   ]
  },
  {
   "cell_type": "code",
   "execution_count": 32,
   "metadata": {},
   "outputs": [],
   "source": [
    "X['gender'] = [1 if x == 'F' else 0 for x in X['gender']]\n",
    "X['car'] = [1 if x == 'F' else 0 for x in X['car']]\n",
    "X['reality'] = [1 if x == 'F' else 0 for x in X['reality']]"
   ]
  },
  {
   "cell_type": "code",
   "execution_count": 33,
   "metadata": {},
   "outputs": [],
   "source": [
    "target['gender'] = [1 if x == 'F' else 0 for x in target['gender']]\n",
    "target['car'] = [1 if x == 'F' else 0 for x in target['car']]\n",
    "target['reality'] = [1 if x == 'F' else 0 for x in target['reality']]"
   ]
  },
  {
   "cell_type": "markdown",
   "metadata": {},
   "source": [
    "종류가 많은 범주형 변수에 대해 원-핫 인코딩을 취해줍니다."
   ]
  },
  {
   "cell_type": "code",
   "execution_count": 62,
   "metadata": {},
   "outputs": [],
   "source": [
    "X = pd.get_dummies(columns = X.columns[X.dtypes == object].tolist(), data = X)"
   ]
  },
  {
   "cell_type": "code",
   "execution_count": 63,
   "metadata": {},
   "outputs": [],
   "source": [
    "target = pd.get_dummies(columns = target.columns[target.dtypes == object].tolist(), data = target)"
   ]
  },
  {
   "cell_type": "code",
   "execution_count": 64,
   "metadata": {
    "scrolled": true
   },
   "outputs": [
    {
     "data": {
      "text/plain": [
       "((26457, 60), (10000, 60))"
      ]
     },
     "execution_count": 64,
     "metadata": {},
     "output_type": "execute_result"
    }
   ],
   "source": [
    "X.shape, target.shape"
   ]
  },
  {
   "cell_type": "code",
   "execution_count": 65,
   "metadata": {
    "scrolled": true
   },
   "outputs": [
    {
     "name": "stdout",
     "output_type": "stream",
     "text": [
      "0:\tlearn: 1.0698981\ttest: 1.0698981\ttest1: 1.0692561\tbest: 1.0692561 (0)\ttotal: 66.1ms\tremaining: 5m 30s\n",
      "1000:\tlearn: 0.7076008\ttest: 0.7076008\ttest1: 0.7521137\tbest: 0.7521137 (1000)\ttotal: 7.55s\tremaining: 30.2s\n",
      "2000:\tlearn: 0.6476568\ttest: 0.6476568\ttest1: 0.7343707\tbest: 0.7343392 (1999)\ttotal: 15.5s\tremaining: 23.3s\n",
      "3000:\tlearn: 0.6035682\ttest: 0.6035682\ttest1: 0.7251736\tbest: 0.7251561 (2998)\ttotal: 23.5s\tremaining: 15.6s\n",
      "4000:\tlearn: 0.5698217\ttest: 0.5698217\ttest1: 0.7188019\tbest: 0.7187307 (3986)\ttotal: 31.3s\tremaining: 7.83s\n",
      "Stopped by overfitting detector  (100 iterations wait)\n",
      "\n",
      "bestTest = 0.7178487644\n",
      "bestIteration = 4234\n",
      "\n",
      "Shrink model to first 4235 iterations.\n",
      "0:\tlearn: 1.0697463\ttest: 1.0697463\ttest1: 1.0699854\tbest: 1.0699854 (0)\ttotal: 6.79ms\tremaining: 34s\n",
      "1000:\tlearn: 0.7046517\ttest: 0.7046517\ttest1: 0.7723523\tbest: 0.7723390 (999)\ttotal: 7.37s\tremaining: 29.5s\n",
      "2000:\tlearn: 0.6445544\ttest: 0.6445544\ttest1: 0.7543455\tbest: 0.7543455 (2000)\ttotal: 15.7s\tremaining: 23.5s\n",
      "3000:\tlearn: 0.6008101\ttest: 0.6008101\ttest1: 0.7439835\tbest: 0.7438778 (2979)\ttotal: 23.5s\tremaining: 15.6s\n",
      "4000:\tlearn: 0.5669047\ttest: 0.5669047\ttest1: 0.7347419\tbest: 0.7347419 (4000)\ttotal: 31.3s\tremaining: 7.81s\n",
      "4999:\tlearn: 0.5387030\ttest: 0.5387030\ttest1: 0.7303241\tbest: 0.7302894 (4995)\ttotal: 39.2s\tremaining: 0us\n",
      "\n",
      "bestTest = 0.7302893683\n",
      "bestIteration = 4995\n",
      "\n",
      "Shrink model to first 4996 iterations.\n",
      "0:\tlearn: 1.0696943\ttest: 1.0696943\ttest1: 1.0702234\tbest: 1.0702234 (0)\ttotal: 8.7ms\tremaining: 43.5s\n",
      "1000:\tlearn: 0.7048004\ttest: 0.7048004\ttest1: 0.7790826\tbest: 0.7790675 (996)\ttotal: 7.71s\tremaining: 30.8s\n",
      "2000:\tlearn: 0.6457370\ttest: 0.6457370\ttest1: 0.7616414\tbest: 0.7616414 (2000)\ttotal: 15.5s\tremaining: 23.3s\n",
      "3000:\tlearn: 0.6018489\ttest: 0.6018489\ttest1: 0.7499621\tbest: 0.7499419 (2996)\ttotal: 23.6s\tremaining: 15.7s\n",
      "4000:\tlearn: 0.5664794\ttest: 0.5664794\ttest1: 0.7432691\tbest: 0.7432128 (3996)\ttotal: 31s\tremaining: 7.75s\n",
      "Stopped by overfitting detector  (100 iterations wait)\n",
      "\n",
      "bestTest = 0.7400208356\n",
      "bestIteration = 4622\n",
      "\n",
      "Shrink model to first 4623 iterations.\n",
      "0:\tlearn: 1.0697938\ttest: 1.0697938\ttest1: 1.0697796\tbest: 1.0697796 (0)\ttotal: 7.01ms\tremaining: 35s\n",
      "1000:\tlearn: 0.7048803\ttest: 0.7048803\ttest1: 0.7703733\tbest: 0.7703733 (1000)\ttotal: 7.59s\tremaining: 30.3s\n",
      "2000:\tlearn: 0.6452629\ttest: 0.6452629\ttest1: 0.7539686\tbest: 0.7539686 (2000)\ttotal: 15.4s\tremaining: 23s\n",
      "3000:\tlearn: 0.6015168\ttest: 0.6015168\ttest1: 0.7461553\tbest: 0.7461024 (2991)\ttotal: 23.1s\tremaining: 15.4s\n",
      "4000:\tlearn: 0.5665152\ttest: 0.5665152\ttest1: 0.7417031\tbest: 0.7415068 (3985)\ttotal: 31s\tremaining: 7.74s\n",
      "Stopped by overfitting detector  (100 iterations wait)\n",
      "\n",
      "bestTest = 0.7415068241\n",
      "bestIteration = 3985\n",
      "\n",
      "Shrink model to first 3986 iterations.\n",
      "0:\tlearn: 1.0698509\ttest: 1.0698509\ttest1: 1.0695333\tbest: 1.0695333 (0)\ttotal: 7.97ms\tremaining: 39.9s\n",
      "1000:\tlearn: 0.7056825\ttest: 0.7056825\ttest1: 0.7663799\tbest: 0.7663799 (1000)\ttotal: 7.94s\tremaining: 31.7s\n",
      "2000:\tlearn: 0.6457014\ttest: 0.6457014\ttest1: 0.7502307\tbest: 0.7502307 (2000)\ttotal: 15.9s\tremaining: 23.9s\n",
      "3000:\tlearn: 0.6021398\ttest: 0.6021398\ttest1: 0.7430031\tbest: 0.7429772 (2995)\ttotal: 23.4s\tremaining: 15.6s\n",
      "4000:\tlearn: 0.5668406\ttest: 0.5668406\ttest1: 0.7379296\tbest: 0.7379284 (3996)\ttotal: 31.7s\tremaining: 7.91s\n",
      "4999:\tlearn: 0.5378927\ttest: 0.5378927\ttest1: 0.7344475\tbest: 0.7344145 (4995)\ttotal: 40.1s\tremaining: 0us\n",
      "\n",
      "bestTest = 0.7344144858\n",
      "bestIteration = 4995\n",
      "\n",
      "Shrink model to first 4996 iterations.\n",
      "0:\tlearn: 1.0696859\ttest: 1.0696859\ttest1: 1.0703567\tbest: 1.0703567 (0)\ttotal: 8.27ms\tremaining: 41.4s\n",
      "1000:\tlearn: 0.7043438\ttest: 0.7043438\ttest1: 0.7703166\tbest: 0.7703166 (1000)\ttotal: 8.41s\tremaining: 33.6s\n",
      "2000:\tlearn: 0.6429946\ttest: 0.6429946\ttest1: 0.7565148\tbest: 0.7565148 (2000)\ttotal: 16s\tremaining: 24s\n",
      "3000:\tlearn: 0.6006558\ttest: 0.6006558\ttest1: 0.7487838\tbest: 0.7487799 (2992)\ttotal: 23.7s\tremaining: 15.8s\n",
      "4000:\tlearn: 0.5656575\ttest: 0.5656575\ttest1: 0.7444672\tbest: 0.7444672 (4000)\ttotal: 31.3s\tremaining: 7.82s\n",
      "Stopped by overfitting detector  (100 iterations wait)\n",
      "\n",
      "bestTest = 0.7441419123\n",
      "bestIteration = 4067\n",
      "\n",
      "Shrink model to first 4068 iterations.\n",
      "0:\tlearn: 1.0697783\ttest: 1.0697783\ttest1: 1.0697945\tbest: 1.0697945 (0)\ttotal: 7.33ms\tremaining: 36.6s\n",
      "1000:\tlearn: 0.7051233\ttest: 0.7051233\ttest1: 0.7677900\tbest: 0.7677900 (1000)\ttotal: 7.43s\tremaining: 29.7s\n",
      "2000:\tlearn: 0.6464070\ttest: 0.6464070\ttest1: 0.7466082\tbest: 0.7466082 (2000)\ttotal: 15.6s\tremaining: 23.4s\n",
      "3000:\tlearn: 0.6031769\ttest: 0.6031769\ttest1: 0.7356590\tbest: 0.7356486 (2998)\ttotal: 23.4s\tremaining: 15.6s\n",
      "4000:\tlearn: 0.5686533\ttest: 0.5686533\ttest1: 0.7291941\tbest: 0.7291740 (3996)\ttotal: 30.9s\tremaining: 7.72s\n",
      "4999:\tlearn: 0.5394486\ttest: 0.5394486\ttest1: 0.7242741\tbest: 0.7241815 (4995)\ttotal: 38.8s\tremaining: 0us\n",
      "\n",
      "bestTest = 0.7241814589\n",
      "bestIteration = 4995\n",
      "\n",
      "Shrink model to first 4996 iterations.\n",
      "0:\tlearn: 1.0697466\ttest: 1.0697466\ttest1: 1.0699798\tbest: 1.0699798 (0)\ttotal: 7.26ms\tremaining: 36.3s\n",
      "1000:\tlearn: 0.7047677\ttest: 0.7047677\ttest1: 0.7698101\tbest: 0.7698101 (1000)\ttotal: 8.05s\tremaining: 32.2s\n",
      "2000:\tlearn: 0.6450809\ttest: 0.6450809\ttest1: 0.7547144\tbest: 0.7547144 (2000)\ttotal: 16s\tremaining: 23.9s\n",
      "3000:\tlearn: 0.6014102\ttest: 0.6014102\ttest1: 0.7471844\tbest: 0.7471031 (2977)\ttotal: 24s\tremaining: 16s\n",
      "4000:\tlearn: 0.5659803\ttest: 0.5659803\ttest1: 0.7433370\tbest: 0.7432646 (3981)\ttotal: 32.3s\tremaining: 8.06s\n",
      "Stopped by overfitting detector  (100 iterations wait)\n",
      "\n",
      "bestTest = 0.7429034488\n",
      "bestIteration = 4043\n",
      "\n",
      "Shrink model to first 4044 iterations.\n",
      "0:\tlearn: 1.0697124\ttest: 1.0697124\ttest1: 1.0701337\tbest: 1.0701337 (0)\ttotal: 9.65ms\tremaining: 48.2s\n",
      "1000:\tlearn: 0.7043114\ttest: 0.7043114\ttest1: 0.7738809\tbest: 0.7738450 (996)\ttotal: 8.13s\tremaining: 32.5s\n",
      "2000:\tlearn: 0.6453165\ttest: 0.6453165\ttest1: 0.7570106\tbest: 0.7570012 (1999)\ttotal: 16.1s\tremaining: 24.1s\n",
      "3000:\tlearn: 0.6013752\ttest: 0.6013752\ttest1: 0.7479449\tbest: 0.7479449 (3000)\ttotal: 24.1s\tremaining: 16s\n",
      "4000:\tlearn: 0.5661493\ttest: 0.5661493\ttest1: 0.7421777\tbest: 0.7420191 (3989)\ttotal: 31.8s\tremaining: 7.95s\n",
      "4999:\tlearn: 0.5372797\ttest: 0.5372797\ttest1: 0.7395628\tbest: 0.7395366 (4982)\ttotal: 39.7s\tremaining: 0us\n",
      "\n",
      "bestTest = 0.7395365708\n",
      "bestIteration = 4982\n",
      "\n",
      "Shrink model to first 4983 iterations.\n",
      "0:\tlearn: 1.0699079\ttest: 1.0699079\ttest1: 1.0692338\tbest: 1.0692338 (0)\ttotal: 8.59ms\tremaining: 43s\n",
      "1000:\tlearn: 0.7072431\ttest: 0.7072431\ttest1: 0.7551606\tbest: 0.7551353 (999)\ttotal: 8.26s\tremaining: 33s\n",
      "2000:\tlearn: 0.6457696\ttest: 0.6457696\ttest1: 0.7388121\tbest: 0.7388121 (2000)\ttotal: 15.9s\tremaining: 23.9s\n",
      "3000:\tlearn: 0.6016550\ttest: 0.6016550\ttest1: 0.7303863\tbest: 0.7303491 (2998)\ttotal: 23.8s\tremaining: 15.9s\n",
      "4000:\tlearn: 0.5663243\ttest: 0.5663243\ttest1: 0.7250810\tbest: 0.7250810 (4000)\ttotal: 31.6s\tremaining: 7.88s\n",
      "4999:\tlearn: 0.5370465\ttest: 0.5370465\ttest1: 0.7222524\tbest: 0.7222423 (4998)\ttotal: 39.7s\tremaining: 0us\n",
      "\n",
      "bestTest = 0.722242332\n",
      "bestIteration = 4998\n",
      "\n",
      "Shrink model to first 4999 iterations.\n"
     ]
    }
   ],
   "source": [
    "xgb_pred = np.zeros((target.shape[0], 3))\n",
    "for tr_idx, val_idx in skf.split(X, y) :\n",
    "    tr_x, tr_y = X.iloc[tr_idx], y.iloc[tr_idx]\n",
    "    val_x, val_y = X.iloc[val_idx], y.iloc[val_idx]\n",
    "    \n",
    "    xgb = CatBoostClassifier(random_state = 42, n_estimators = 5000, max_depth = 5, learning_rate = .05)\n",
    "    \n",
    "    xgb.fit(tr_x, tr_y, eval_set = [(tr_x, tr_y), (val_x, val_y)], early_stopping_rounds = 100, verbose = 1000)\n",
    "    \n",
    "    pred = xgb.predict_proba(target) / 10\n",
    "    \n",
    "    xgb_pred += pred"
   ]
  },
  {
   "cell_type": "code",
   "execution_count": 66,
   "metadata": {
    "scrolled": true
   },
   "outputs": [
    {
     "name": "stdout",
     "output_type": "stream",
     "text": [
      "0:\tlearn: 1.0698981\ttest: 1.0698981\ttest1: 1.0692561\tbest: 1.0692561 (0)\ttotal: 7.8ms\tremaining: 39s\n",
      "1000:\tlearn: 0.7076008\ttest: 0.7076008\ttest1: 0.7521137\tbest: 0.7521137 (1000)\ttotal: 7.56s\tremaining: 30.2s\n",
      "2000:\tlearn: 0.6476568\ttest: 0.6476568\ttest1: 0.7343707\tbest: 0.7343392 (1999)\ttotal: 15.3s\tremaining: 23s\n",
      "3000:\tlearn: 0.6035682\ttest: 0.6035682\ttest1: 0.7251736\tbest: 0.7251561 (2998)\ttotal: 23s\tremaining: 15.3s\n",
      "4000:\tlearn: 0.5698217\ttest: 0.5698217\ttest1: 0.7188019\tbest: 0.7187307 (3986)\ttotal: 30.6s\tremaining: 7.64s\n",
      "Stopped by overfitting detector  (100 iterations wait)\n",
      "\n",
      "bestTest = 0.7178487644\n",
      "bestIteration = 4234\n",
      "\n",
      "Shrink model to first 4235 iterations.\n",
      "0:\tlearn: 1.0697463\ttest: 1.0697463\ttest1: 1.0699854\tbest: 1.0699854 (0)\ttotal: 7.77ms\tremaining: 38.8s\n",
      "1000:\tlearn: 0.7046517\ttest: 0.7046517\ttest1: 0.7723523\tbest: 0.7723390 (999)\ttotal: 8.12s\tremaining: 32.4s\n",
      "2000:\tlearn: 0.6445544\ttest: 0.6445544\ttest1: 0.7543455\tbest: 0.7543455 (2000)\ttotal: 16.3s\tremaining: 24.5s\n",
      "3000:\tlearn: 0.6008101\ttest: 0.6008101\ttest1: 0.7439835\tbest: 0.7438778 (2979)\ttotal: 24s\tremaining: 16s\n",
      "4000:\tlearn: 0.5669047\ttest: 0.5669047\ttest1: 0.7347419\tbest: 0.7347419 (4000)\ttotal: 31.7s\tremaining: 7.91s\n",
      "4999:\tlearn: 0.5387030\ttest: 0.5387030\ttest1: 0.7303241\tbest: 0.7302894 (4995)\ttotal: 39.6s\tremaining: 0us\n",
      "\n",
      "bestTest = 0.7302893683\n",
      "bestIteration = 4995\n",
      "\n",
      "Shrink model to first 4996 iterations.\n",
      "0:\tlearn: 1.0696943\ttest: 1.0696943\ttest1: 1.0702234\tbest: 1.0702234 (0)\ttotal: 8.43ms\tremaining: 42.1s\n",
      "1000:\tlearn: 0.7048004\ttest: 0.7048004\ttest1: 0.7790826\tbest: 0.7790675 (996)\ttotal: 7.46s\tremaining: 29.8s\n",
      "2000:\tlearn: 0.6457370\ttest: 0.6457370\ttest1: 0.7616414\tbest: 0.7616414 (2000)\ttotal: 15.4s\tremaining: 23.1s\n",
      "3000:\tlearn: 0.6018489\ttest: 0.6018489\ttest1: 0.7499621\tbest: 0.7499419 (2996)\ttotal: 23s\tremaining: 15.3s\n",
      "4000:\tlearn: 0.5664794\ttest: 0.5664794\ttest1: 0.7432691\tbest: 0.7432128 (3996)\ttotal: 30.5s\tremaining: 7.62s\n",
      "Stopped by overfitting detector  (100 iterations wait)\n",
      "\n",
      "bestTest = 0.7400208356\n",
      "bestIteration = 4622\n",
      "\n",
      "Shrink model to first 4623 iterations.\n",
      "0:\tlearn: 1.0697938\ttest: 1.0697938\ttest1: 1.0697796\tbest: 1.0697796 (0)\ttotal: 7.78ms\tremaining: 38.9s\n",
      "1000:\tlearn: 0.7048803\ttest: 0.7048803\ttest1: 0.7703733\tbest: 0.7703733 (1000)\ttotal: 7.92s\tremaining: 31.6s\n",
      "2000:\tlearn: 0.6452629\ttest: 0.6452629\ttest1: 0.7539686\tbest: 0.7539686 (2000)\ttotal: 15.6s\tremaining: 23.3s\n",
      "3000:\tlearn: 0.6015168\ttest: 0.6015168\ttest1: 0.7461553\tbest: 0.7461024 (2991)\ttotal: 23s\tremaining: 15.3s\n",
      "4000:\tlearn: 0.5665152\ttest: 0.5665152\ttest1: 0.7417031\tbest: 0.7415068 (3985)\ttotal: 31.1s\tremaining: 7.78s\n",
      "Stopped by overfitting detector  (100 iterations wait)\n",
      "\n",
      "bestTest = 0.7415068241\n",
      "bestIteration = 3985\n",
      "\n",
      "Shrink model to first 3986 iterations.\n",
      "0:\tlearn: 1.0698509\ttest: 1.0698509\ttest1: 1.0695333\tbest: 1.0695333 (0)\ttotal: 10.8ms\tremaining: 54.2s\n",
      "1000:\tlearn: 0.7056825\ttest: 0.7056825\ttest1: 0.7663799\tbest: 0.7663799 (1000)\ttotal: 8.09s\tremaining: 32.3s\n",
      "2000:\tlearn: 0.6457014\ttest: 0.6457014\ttest1: 0.7502307\tbest: 0.7502307 (2000)\ttotal: 15.6s\tremaining: 23.4s\n",
      "3000:\tlearn: 0.6021398\ttest: 0.6021398\ttest1: 0.7430031\tbest: 0.7429772 (2995)\ttotal: 23.3s\tremaining: 15.5s\n",
      "4000:\tlearn: 0.5668406\ttest: 0.5668406\ttest1: 0.7379296\tbest: 0.7379284 (3996)\ttotal: 31.4s\tremaining: 7.85s\n",
      "4999:\tlearn: 0.5378927\ttest: 0.5378927\ttest1: 0.7344475\tbest: 0.7344145 (4995)\ttotal: 39.3s\tremaining: 0us\n",
      "\n",
      "bestTest = 0.7344144858\n",
      "bestIteration = 4995\n",
      "\n",
      "Shrink model to first 4996 iterations.\n",
      "0:\tlearn: 1.0696859\ttest: 1.0696859\ttest1: 1.0703567\tbest: 1.0703567 (0)\ttotal: 9.69ms\tremaining: 48.4s\n",
      "1000:\tlearn: 0.7043438\ttest: 0.7043438\ttest1: 0.7703166\tbest: 0.7703166 (1000)\ttotal: 8.35s\tremaining: 33.4s\n",
      "2000:\tlearn: 0.6429946\ttest: 0.6429946\ttest1: 0.7565148\tbest: 0.7565148 (2000)\ttotal: 16.4s\tremaining: 24.6s\n",
      "3000:\tlearn: 0.6006558\ttest: 0.6006558\ttest1: 0.7487838\tbest: 0.7487799 (2992)\ttotal: 24.4s\tremaining: 16.3s\n",
      "4000:\tlearn: 0.5656575\ttest: 0.5656575\ttest1: 0.7444672\tbest: 0.7444672 (4000)\ttotal: 32.1s\tremaining: 8.01s\n",
      "Stopped by overfitting detector  (100 iterations wait)\n",
      "\n",
      "bestTest = 0.7441419123\n",
      "bestIteration = 4067\n",
      "\n",
      "Shrink model to first 4068 iterations.\n",
      "0:\tlearn: 1.0697783\ttest: 1.0697783\ttest1: 1.0697945\tbest: 1.0697945 (0)\ttotal: 8.96ms\tremaining: 44.8s\n",
      "1000:\tlearn: 0.7051233\ttest: 0.7051233\ttest1: 0.7677900\tbest: 0.7677900 (1000)\ttotal: 7.78s\tremaining: 31.1s\n",
      "2000:\tlearn: 0.6464070\ttest: 0.6464070\ttest1: 0.7466082\tbest: 0.7466082 (2000)\ttotal: 15.8s\tremaining: 23.7s\n",
      "3000:\tlearn: 0.6031769\ttest: 0.6031769\ttest1: 0.7356590\tbest: 0.7356486 (2998)\ttotal: 23.4s\tremaining: 15.6s\n",
      "4000:\tlearn: 0.5686533\ttest: 0.5686533\ttest1: 0.7291941\tbest: 0.7291740 (3996)\ttotal: 30.8s\tremaining: 7.68s\n",
      "4999:\tlearn: 0.5394486\ttest: 0.5394486\ttest1: 0.7242741\tbest: 0.7241815 (4995)\ttotal: 38.4s\tremaining: 0us\n",
      "\n",
      "bestTest = 0.7241814589\n",
      "bestIteration = 4995\n",
      "\n",
      "Shrink model to first 4996 iterations.\n",
      "0:\tlearn: 1.0697466\ttest: 1.0697466\ttest1: 1.0699798\tbest: 1.0699798 (0)\ttotal: 8.65ms\tremaining: 43.2s\n",
      "1000:\tlearn: 0.7047677\ttest: 0.7047677\ttest1: 0.7698101\tbest: 0.7698101 (1000)\ttotal: 7.42s\tremaining: 29.6s\n",
      "2000:\tlearn: 0.6450809\ttest: 0.6450809\ttest1: 0.7547144\tbest: 0.7547144 (2000)\ttotal: 14.9s\tremaining: 22.3s\n",
      "3000:\tlearn: 0.6014102\ttest: 0.6014102\ttest1: 0.7471844\tbest: 0.7471031 (2977)\ttotal: 22.2s\tremaining: 14.8s\n",
      "4000:\tlearn: 0.5659803\ttest: 0.5659803\ttest1: 0.7433370\tbest: 0.7432646 (3981)\ttotal: 30s\tremaining: 7.48s\n",
      "Stopped by overfitting detector  (100 iterations wait)\n",
      "\n",
      "bestTest = 0.7429034488\n",
      "bestIteration = 4043\n",
      "\n",
      "Shrink model to first 4044 iterations.\n",
      "0:\tlearn: 1.0697124\ttest: 1.0697124\ttest1: 1.0701337\tbest: 1.0701337 (0)\ttotal: 10.2ms\tremaining: 50.9s\n",
      "1000:\tlearn: 0.7043114\ttest: 0.7043114\ttest1: 0.7738809\tbest: 0.7738450 (996)\ttotal: 7.93s\tremaining: 31.7s\n",
      "2000:\tlearn: 0.6453165\ttest: 0.6453165\ttest1: 0.7570106\tbest: 0.7570012 (1999)\ttotal: 16.1s\tremaining: 24.1s\n",
      "3000:\tlearn: 0.6013752\ttest: 0.6013752\ttest1: 0.7479449\tbest: 0.7479449 (3000)\ttotal: 24.2s\tremaining: 16.1s\n",
      "4000:\tlearn: 0.5661493\ttest: 0.5661493\ttest1: 0.7421777\tbest: 0.7420191 (3989)\ttotal: 32.1s\tremaining: 8.01s\n",
      "4999:\tlearn: 0.5372797\ttest: 0.5372797\ttest1: 0.7395628\tbest: 0.7395366 (4982)\ttotal: 40.1s\tremaining: 0us\n",
      "\n",
      "bestTest = 0.7395365708\n",
      "bestIteration = 4982\n",
      "\n",
      "Shrink model to first 4983 iterations.\n",
      "0:\tlearn: 1.0699079\ttest: 1.0699079\ttest1: 1.0692338\tbest: 1.0692338 (0)\ttotal: 6.92ms\tremaining: 34.6s\n",
      "1000:\tlearn: 0.7072431\ttest: 0.7072431\ttest1: 0.7551606\tbest: 0.7551353 (999)\ttotal: 8.21s\tremaining: 32.8s\n",
      "2000:\tlearn: 0.6457696\ttest: 0.6457696\ttest1: 0.7388121\tbest: 0.7388121 (2000)\ttotal: 17s\tremaining: 25.4s\n",
      "3000:\tlearn: 0.6016550\ttest: 0.6016550\ttest1: 0.7303863\tbest: 0.7303491 (2998)\ttotal: 25.2s\tremaining: 16.8s\n",
      "4000:\tlearn: 0.5663243\ttest: 0.5663243\ttest1: 0.7250810\tbest: 0.7250810 (4000)\ttotal: 32.6s\tremaining: 8.14s\n",
      "4999:\tlearn: 0.5370465\ttest: 0.5370465\ttest1: 0.7222524\tbest: 0.7222423 (4998)\ttotal: 40s\tremaining: 0us\n",
      "\n",
      "bestTest = 0.722242332\n",
      "bestIteration = 4998\n",
      "\n",
      "Shrink model to first 4999 iterations.\n"
     ]
    }
   ],
   "source": [
    "lgbm_pred = np.zeros((target.shape[0], 3))\n",
    "for tr_idx, val_idx in skf.split(X, y) :\n",
    "    tr_x, tr_y = X.iloc[tr_idx], y.iloc[tr_idx]\n",
    "    val_x, val_y = X.iloc[val_idx], y.iloc[val_idx]\n",
    "    \n",
    "    lgbm = CatBoostClassifier(random_state = 42, n_estimators = 5000, max_depth = 5, learning_rate = .05)\n",
    "    \n",
    "    lgbm.fit(tr_x, tr_y, eval_set = [(tr_x, tr_y), (val_x, val_y)], early_stopping_rounds = 100, verbose = 1000)\n",
    "    \n",
    "    pred = lgbm.predict_proba(target) / 10\n",
    "    \n",
    "    lgbm_pred += pred"
   ]
  }
 ],
 "metadata": {
  "kernelspec": {
   "display_name": "Python 3",
   "language": "python",
   "name": "python3"
  },
  "language_info": {
   "codemirror_mode": {
    "name": "ipython",
    "version": 3
   },
   "file_extension": ".py",
   "mimetype": "text/x-python",
   "name": "python",
   "nbconvert_exporter": "python",
   "pygments_lexer": "ipython3",
   "version": "3.8.2"
  }
 },
 "nbformat": 4,
 "nbformat_minor": 4
}
