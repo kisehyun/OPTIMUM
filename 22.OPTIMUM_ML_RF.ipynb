{
 "cells": [
  {
   "cell_type": "code",
   "execution_count": 209,
   "id": "877c8887",
   "metadata": {},
   "outputs": [],
   "source": [
    "import pandas as pd\n",
    "import numpy as np"
   ]
  },
  {
   "cell_type": "code",
   "execution_count": 210,
   "id": "cb54fd7a",
   "metadata": {},
   "outputs": [
    {
     "name": "stdout",
     "output_type": "stream",
     "text": [
      "<class 'pandas.core.frame.DataFrame'>\n",
      "Int64Index: 876032 entries, 0 to 261675\n",
      "Data columns (total 9 columns):\n",
      " #   Column       Non-Null Count   Dtype \n",
      "---  ------       --------------   ----- \n",
      " 0   datetime     876032 non-null  object\n",
      " 1   custid       876032 non-null  int64 \n",
      " 2   store        876032 non-null  object\n",
      " 3   product      876032 non-null  int64 \n",
      " 4   brand        876032 non-null  object\n",
      " 5   corner       876032 non-null  object\n",
      " 6   import       876032 non-null  int64 \n",
      " 7   amount       876032 non-null  int64 \n",
      " 8   installment  876032 non-null  int64 \n",
      "dtypes: int64(5), object(4)\n",
      "memory usage: 66.8+ MB\n"
     ]
    }
   ],
   "source": [
    "train = pd.read_pickle('Transactions.pkl')\n",
    "train.info()"
   ]
  },
  {
   "cell_type": "code",
   "execution_count": 211,
   "id": "e7e5e437",
   "metadata": {
    "scrolled": true
   },
   "outputs": [
    {
     "data": {
      "text/html": [
       "<div>\n",
       "<style scoped>\n",
       "    .dataframe tbody tr th:only-of-type {\n",
       "        vertical-align: middle;\n",
       "    }\n",
       "\n",
       "    .dataframe tbody tr th {\n",
       "        vertical-align: top;\n",
       "    }\n",
       "\n",
       "    .dataframe thead th {\n",
       "        text-align: right;\n",
       "    }\n",
       "</style>\n",
       "<table border=\"1\" class=\"dataframe\">\n",
       "  <thead>\n",
       "    <tr style=\"text-align: right;\">\n",
       "      <th></th>\n",
       "      <th>datetime</th>\n",
       "      <th>custid</th>\n",
       "      <th>store</th>\n",
       "      <th>product</th>\n",
       "      <th>brand</th>\n",
       "      <th>corner</th>\n",
       "      <th>import</th>\n",
       "      <th>amount</th>\n",
       "      <th>installment</th>\n",
       "    </tr>\n",
       "  </thead>\n",
       "  <tbody>\n",
       "    <tr>\n",
       "      <th>0</th>\n",
       "      <td>2000-10-17 18:33:00</td>\n",
       "      <td>16</td>\n",
       "      <td>천호점</td>\n",
       "      <td>4100110001100</td>\n",
       "      <td>비비안스타킹</td>\n",
       "      <td>섬유</td>\n",
       "      <td>0</td>\n",
       "      <td>25000</td>\n",
       "      <td>1</td>\n",
       "    </tr>\n",
       "    <tr>\n",
       "      <th>1</th>\n",
       "      <td>2001-01-09 17:43:00</td>\n",
       "      <td>16</td>\n",
       "      <td>신촌점</td>\n",
       "      <td>2139143008000</td>\n",
       "      <td>비오뗌</td>\n",
       "      <td>화장품</td>\n",
       "      <td>0</td>\n",
       "      <td>30000</td>\n",
       "      <td>1</td>\n",
       "    </tr>\n",
       "    <tr>\n",
       "      <th>2</th>\n",
       "      <td>2001-01-08 18:50:00</td>\n",
       "      <td>16</td>\n",
       "      <td>천호점</td>\n",
       "      <td>4218410011030</td>\n",
       "      <td>예스비</td>\n",
       "      <td>영캐주얼</td>\n",
       "      <td>0</td>\n",
       "      <td>131000</td>\n",
       "      <td>6</td>\n",
       "    </tr>\n",
       "    <tr>\n",
       "      <th>3</th>\n",
       "      <td>2001-03-21 19:13:00</td>\n",
       "      <td>16</td>\n",
       "      <td>천호점</td>\n",
       "      <td>4209563011000</td>\n",
       "      <td>SJ</td>\n",
       "      <td>영캐주얼</td>\n",
       "      <td>0</td>\n",
       "      <td>330000</td>\n",
       "      <td>5</td>\n",
       "    </tr>\n",
       "    <tr>\n",
       "      <th>4</th>\n",
       "      <td>2001-04-10 12:00:00</td>\n",
       "      <td>16</td>\n",
       "      <td>천호점</td>\n",
       "      <td>4242470011010</td>\n",
       "      <td>올리브</td>\n",
       "      <td>영캐주얼</td>\n",
       "      <td>0</td>\n",
       "      <td>214200</td>\n",
       "      <td>3</td>\n",
       "    </tr>\n",
       "  </tbody>\n",
       "</table>\n",
       "</div>"
      ],
      "text/plain": [
       "              datetime  custid store        product   brand corner  import  \\\n",
       "0  2000-10-17 18:33:00      16   천호점  4100110001100  비비안스타킹     섬유       0   \n",
       "1  2001-01-09 17:43:00      16   신촌점  2139143008000     비오뗌    화장품       0   \n",
       "2  2001-01-08 18:50:00      16   천호점  4218410011030     예스비   영캐주얼       0   \n",
       "3  2001-03-21 19:13:00      16   천호점  4209563011000      SJ   영캐주얼       0   \n",
       "4  2001-04-10 12:00:00      16   천호점  4242470011010     올리브   영캐주얼       0   \n",
       "\n",
       "   amount  installment  \n",
       "0   25000            1  \n",
       "1   30000            1  \n",
       "2  131000            6  \n",
       "3  330000            5  \n",
       "4  214200            3  "
      ]
     },
     "execution_count": 211,
     "metadata": {},
     "output_type": "execute_result"
    }
   ],
   "source": [
    "train.head()"
   ]
  },
  {
   "cell_type": "markdown",
   "id": "3b654f13",
   "metadata": {},
   "source": [
    "#### object -> datetime"
   ]
  },
  {
   "cell_type": "code",
   "execution_count": 212,
   "id": "0c015afc",
   "metadata": {},
   "outputs": [],
   "source": [
    "train['datetime'] = pd.to_datetime(train['datetime'])"
   ]
  },
  {
   "cell_type": "code",
   "execution_count": 213,
   "id": "c0a8e87e",
   "metadata": {
    "scrolled": true
   },
   "outputs": [],
   "source": [
    "train['month'] = train['datetime'].dt.month\n",
    "train['hour'] = train['datetime'].dt.hour\n",
    "train['day'] = train['datetime'].dt.day_name().str[:3]"
   ]
  },
  {
   "cell_type": "code",
   "execution_count": 214,
   "id": "bef315cc",
   "metadata": {},
   "outputs": [],
   "source": [
    "train['weekend'] = [\"주말\" if value in ['Sun', 'Sat'] else \"평일\" for value in train['day']]"
   ]
  },
  {
   "cell_type": "markdown",
   "id": "d8acf445",
   "metadata": {},
   "source": [
    "### Make Features"
   ]
  },
  {
   "cell_type": "code",
   "execution_count": 216,
   "id": "a97db2c7",
   "metadata": {},
   "outputs": [],
   "source": [
    "id_g = train.groupby('custid')"
   ]
  },
  {
   "cell_type": "markdown",
   "id": "7b2e6c40",
   "metadata": {},
   "source": [
    "#### 1. 구매횟수"
   ]
  },
  {
   "cell_type": "code",
   "execution_count": 217,
   "id": "94911490",
   "metadata": {
    "scrolled": true
   },
   "outputs": [
    {
     "data": {
      "text/html": [
       "<div>\n",
       "<style scoped>\n",
       "    .dataframe tbody tr th:only-of-type {\n",
       "        vertical-align: middle;\n",
       "    }\n",
       "\n",
       "    .dataframe tbody tr th {\n",
       "        vertical-align: top;\n",
       "    }\n",
       "\n",
       "    .dataframe thead th {\n",
       "        text-align: right;\n",
       "    }\n",
       "</style>\n",
       "<table border=\"1\" class=\"dataframe\">\n",
       "  <thead>\n",
       "    <tr style=\"text-align: right;\">\n",
       "      <th></th>\n",
       "      <th>custid</th>\n",
       "      <th>구매횟수</th>\n",
       "    </tr>\n",
       "  </thead>\n",
       "  <tbody>\n",
       "    <tr>\n",
       "      <th>0</th>\n",
       "      <td>16</td>\n",
       "      <td>34</td>\n",
       "    </tr>\n",
       "    <tr>\n",
       "      <th>1</th>\n",
       "      <td>29</td>\n",
       "      <td>19</td>\n",
       "    </tr>\n",
       "    <tr>\n",
       "      <th>2</th>\n",
       "      <td>33</td>\n",
       "      <td>56</td>\n",
       "    </tr>\n",
       "    <tr>\n",
       "      <th>3</th>\n",
       "      <td>34</td>\n",
       "      <td>23</td>\n",
       "    </tr>\n",
       "    <tr>\n",
       "      <th>4</th>\n",
       "      <td>50</td>\n",
       "      <td>36</td>\n",
       "    </tr>\n",
       "  </tbody>\n",
       "</table>\n",
       "</div>"
      ],
      "text/plain": [
       "   custid  구매횟수\n",
       "0      16    34\n",
       "1      29    19\n",
       "2      33    56\n",
       "3      34    23\n",
       "4      50    36"
      ]
     },
     "execution_count": 217,
     "metadata": {},
     "output_type": "execute_result"
    }
   ],
   "source": [
    "cp1 = id_g.size().reset_index(name = '구매횟수')\n",
    "cp1.head()"
   ]
  },
  {
   "cell_type": "markdown",
   "id": "8340921b",
   "metadata": {},
   "source": [
    "#### 2. 구매 브랜드 수"
   ]
  },
  {
   "cell_type": "code",
   "execution_count": 218,
   "id": "6de1ba90",
   "metadata": {},
   "outputs": [
    {
     "data": {
      "text/html": [
       "<div>\n",
       "<style scoped>\n",
       "    .dataframe tbody tr th:only-of-type {\n",
       "        vertical-align: middle;\n",
       "    }\n",
       "\n",
       "    .dataframe tbody tr th {\n",
       "        vertical-align: top;\n",
       "    }\n",
       "\n",
       "    .dataframe thead th {\n",
       "        text-align: right;\n",
       "    }\n",
       "</style>\n",
       "<table border=\"1\" class=\"dataframe\">\n",
       "  <thead>\n",
       "    <tr style=\"text-align: right;\">\n",
       "      <th></th>\n",
       "      <th>custid</th>\n",
       "      <th>구매브랜드수</th>\n",
       "    </tr>\n",
       "  </thead>\n",
       "  <tbody>\n",
       "    <tr>\n",
       "      <th>0</th>\n",
       "      <td>16</td>\n",
       "      <td>23</td>\n",
       "    </tr>\n",
       "    <tr>\n",
       "      <th>1</th>\n",
       "      <td>29</td>\n",
       "      <td>9</td>\n",
       "    </tr>\n",
       "    <tr>\n",
       "      <th>2</th>\n",
       "      <td>33</td>\n",
       "      <td>27</td>\n",
       "    </tr>\n",
       "    <tr>\n",
       "      <th>3</th>\n",
       "      <td>34</td>\n",
       "      <td>16</td>\n",
       "    </tr>\n",
       "    <tr>\n",
       "      <th>4</th>\n",
       "      <td>50</td>\n",
       "      <td>27</td>\n",
       "    </tr>\n",
       "  </tbody>\n",
       "</table>\n",
       "</div>"
      ],
      "text/plain": [
       "   custid  구매브랜드수\n",
       "0      16      23\n",
       "1      29       9\n",
       "2      33      27\n",
       "3      34      16\n",
       "4      50      27"
      ]
     },
     "execution_count": 218,
     "metadata": {},
     "output_type": "execute_result"
    }
   ],
   "source": [
    "cp2 = id_g.brand.nunique().reset_index(name = '구매브랜드수')\n",
    "cp2.head()"
   ]
  },
  {
   "cell_type": "markdown",
   "id": "f6762f8a",
   "metadata": {},
   "source": [
    "#### 3. 구매 코너 수"
   ]
  },
  {
   "cell_type": "code",
   "execution_count": 219,
   "id": "57f3ee84",
   "metadata": {},
   "outputs": [
    {
     "data": {
      "text/html": [
       "<div>\n",
       "<style scoped>\n",
       "    .dataframe tbody tr th:only-of-type {\n",
       "        vertical-align: middle;\n",
       "    }\n",
       "\n",
       "    .dataframe tbody tr th {\n",
       "        vertical-align: top;\n",
       "    }\n",
       "\n",
       "    .dataframe thead th {\n",
       "        text-align: right;\n",
       "    }\n",
       "</style>\n",
       "<table border=\"1\" class=\"dataframe\">\n",
       "  <thead>\n",
       "    <tr style=\"text-align: right;\">\n",
       "      <th></th>\n",
       "      <th>custid</th>\n",
       "      <th>구매코너수</th>\n",
       "    </tr>\n",
       "  </thead>\n",
       "  <tbody>\n",
       "    <tr>\n",
       "      <th>0</th>\n",
       "      <td>16</td>\n",
       "      <td>10</td>\n",
       "    </tr>\n",
       "    <tr>\n",
       "      <th>1</th>\n",
       "      <td>29</td>\n",
       "      <td>6</td>\n",
       "    </tr>\n",
       "    <tr>\n",
       "      <th>2</th>\n",
       "      <td>33</td>\n",
       "      <td>12</td>\n",
       "    </tr>\n",
       "    <tr>\n",
       "      <th>3</th>\n",
       "      <td>34</td>\n",
       "      <td>10</td>\n",
       "    </tr>\n",
       "    <tr>\n",
       "      <th>4</th>\n",
       "      <td>50</td>\n",
       "      <td>13</td>\n",
       "    </tr>\n",
       "  </tbody>\n",
       "</table>\n",
       "</div>"
      ],
      "text/plain": [
       "   custid  구매코너수\n",
       "0      16     10\n",
       "1      29      6\n",
       "2      33     12\n",
       "3      34     10\n",
       "4      50     13"
      ]
     },
     "execution_count": 219,
     "metadata": {},
     "output_type": "execute_result"
    }
   ],
   "source": [
    "cp3 = id_g.corner.nunique().reset_index(name = '구매코너수')\n",
    "cp3.head()"
   ]
  },
  {
   "cell_type": "markdown",
   "id": "0fe0286c",
   "metadata": {},
   "source": [
    "#### 4. 주말 방문 비율"
   ]
  },
  {
   "cell_type": "code",
   "execution_count": 220,
   "id": "fc9f6af4",
   "metadata": {},
   "outputs": [],
   "source": [
    "cp4 = pd.crosstab(train.custid, train['weekend']).reset_index()\n",
    "cp4.index.name = None\n",
    "cp4.columns.name = None"
   ]
  },
  {
   "cell_type": "code",
   "execution_count": 221,
   "id": "c028af34",
   "metadata": {},
   "outputs": [],
   "source": [
    "cp4['주말비율'] = cp4.주말 / cp1.구매횟수"
   ]
  },
  {
   "cell_type": "code",
   "execution_count": 222,
   "id": "072c0b68",
   "metadata": {},
   "outputs": [],
   "source": [
    "cp4.drop(['주말', '평일'], axis = 1, inplace = True)"
   ]
  },
  {
   "cell_type": "code",
   "execution_count": 223,
   "id": "172d6125",
   "metadata": {},
   "outputs": [
    {
     "data": {
      "text/html": [
       "<div>\n",
       "<style scoped>\n",
       "    .dataframe tbody tr th:only-of-type {\n",
       "        vertical-align: middle;\n",
       "    }\n",
       "\n",
       "    .dataframe tbody tr th {\n",
       "        vertical-align: top;\n",
       "    }\n",
       "\n",
       "    .dataframe thead th {\n",
       "        text-align: right;\n",
       "    }\n",
       "</style>\n",
       "<table border=\"1\" class=\"dataframe\">\n",
       "  <thead>\n",
       "    <tr style=\"text-align: right;\">\n",
       "      <th></th>\n",
       "      <th>custid</th>\n",
       "      <th>주말비율</th>\n",
       "    </tr>\n",
       "  </thead>\n",
       "  <tbody>\n",
       "    <tr>\n",
       "      <th>0</th>\n",
       "      <td>16</td>\n",
       "      <td>0.147059</td>\n",
       "    </tr>\n",
       "    <tr>\n",
       "      <th>1</th>\n",
       "      <td>29</td>\n",
       "      <td>0.894737</td>\n",
       "    </tr>\n",
       "    <tr>\n",
       "      <th>2</th>\n",
       "      <td>33</td>\n",
       "      <td>0.642857</td>\n",
       "    </tr>\n",
       "    <tr>\n",
       "      <th>3</th>\n",
       "      <td>34</td>\n",
       "      <td>0.826087</td>\n",
       "    </tr>\n",
       "    <tr>\n",
       "      <th>4</th>\n",
       "      <td>50</td>\n",
       "      <td>0.500000</td>\n",
       "    </tr>\n",
       "  </tbody>\n",
       "</table>\n",
       "</div>"
      ],
      "text/plain": [
       "   custid      주말비율\n",
       "0      16  0.147059\n",
       "1      29  0.894737\n",
       "2      33  0.642857\n",
       "3      34  0.826087\n",
       "4      50  0.500000"
      ]
     },
     "execution_count": 223,
     "metadata": {},
     "output_type": "execute_result"
    }
   ],
   "source": [
    "cp4.head()"
   ]
  },
  {
   "cell_type": "markdown",
   "id": "1126297a",
   "metadata": {},
   "source": [
    "#### 5. 수입상품비율"
   ]
  },
  {
   "cell_type": "code",
   "execution_count": 224,
   "id": "d0ac55ce",
   "metadata": {},
   "outputs": [],
   "source": [
    "cp5 = pd.crosstab(train.custid, train['import']).reset_index()\n",
    "cp5.index.name = None\n",
    "cp5.columns.name = None"
   ]
  },
  {
   "cell_type": "code",
   "execution_count": 225,
   "id": "d9b60361",
   "metadata": {},
   "outputs": [],
   "source": [
    "cp5['수입상품비율'] = cp5.iloc[:, 2] / cp1.구매횟수"
   ]
  },
  {
   "cell_type": "code",
   "execution_count": 226,
   "id": "420e0117",
   "metadata": {},
   "outputs": [],
   "source": [
    "cp5 = cp5.iloc[:, [0, -1]]"
   ]
  },
  {
   "cell_type": "code",
   "execution_count": 227,
   "id": "b4be95a8",
   "metadata": {
    "scrolled": false
   },
   "outputs": [
    {
     "data": {
      "text/html": [
       "<div>\n",
       "<style scoped>\n",
       "    .dataframe tbody tr th:only-of-type {\n",
       "        vertical-align: middle;\n",
       "    }\n",
       "\n",
       "    .dataframe tbody tr th {\n",
       "        vertical-align: top;\n",
       "    }\n",
       "\n",
       "    .dataframe thead th {\n",
       "        text-align: right;\n",
       "    }\n",
       "</style>\n",
       "<table border=\"1\" class=\"dataframe\">\n",
       "  <thead>\n",
       "    <tr style=\"text-align: right;\">\n",
       "      <th></th>\n",
       "      <th>custid</th>\n",
       "      <th>수입상품비율</th>\n",
       "    </tr>\n",
       "  </thead>\n",
       "  <tbody>\n",
       "    <tr>\n",
       "      <th>0</th>\n",
       "      <td>16</td>\n",
       "      <td>0.176471</td>\n",
       "    </tr>\n",
       "    <tr>\n",
       "      <th>1</th>\n",
       "      <td>29</td>\n",
       "      <td>0.052632</td>\n",
       "    </tr>\n",
       "    <tr>\n",
       "      <th>2</th>\n",
       "      <td>33</td>\n",
       "      <td>0.142857</td>\n",
       "    </tr>\n",
       "    <tr>\n",
       "      <th>3</th>\n",
       "      <td>34</td>\n",
       "      <td>0.086957</td>\n",
       "    </tr>\n",
       "    <tr>\n",
       "      <th>4</th>\n",
       "      <td>50</td>\n",
       "      <td>0.000000</td>\n",
       "    </tr>\n",
       "  </tbody>\n",
       "</table>\n",
       "</div>"
      ],
      "text/plain": [
       "   custid    수입상품비율\n",
       "0      16  0.176471\n",
       "1      29  0.052632\n",
       "2      33  0.142857\n",
       "3      34  0.086957\n",
       "4      50  0.000000"
      ]
     },
     "execution_count": 227,
     "metadata": {},
     "output_type": "execute_result"
    }
   ],
   "source": [
    "cp5.head()"
   ]
  },
  {
   "cell_type": "markdown",
   "id": "eddf6fbb",
   "metadata": {},
   "source": [
    "#### 6. 평균 구매 시간"
   ]
  },
  {
   "cell_type": "code",
   "execution_count": 228,
   "id": "07382aa3",
   "metadata": {},
   "outputs": [
    {
     "data": {
      "text/html": [
       "<div>\n",
       "<style scoped>\n",
       "    .dataframe tbody tr th:only-of-type {\n",
       "        vertical-align: middle;\n",
       "    }\n",
       "\n",
       "    .dataframe tbody tr th {\n",
       "        vertical-align: top;\n",
       "    }\n",
       "\n",
       "    .dataframe thead th {\n",
       "        text-align: right;\n",
       "    }\n",
       "</style>\n",
       "<table border=\"1\" class=\"dataframe\">\n",
       "  <thead>\n",
       "    <tr style=\"text-align: right;\">\n",
       "      <th></th>\n",
       "      <th>custid</th>\n",
       "      <th>평균구매시간</th>\n",
       "    </tr>\n",
       "  </thead>\n",
       "  <tbody>\n",
       "    <tr>\n",
       "      <th>0</th>\n",
       "      <td>16</td>\n",
       "      <td>15.911765</td>\n",
       "    </tr>\n",
       "    <tr>\n",
       "      <th>1</th>\n",
       "      <td>29</td>\n",
       "      <td>16.473684</td>\n",
       "    </tr>\n",
       "    <tr>\n",
       "      <th>2</th>\n",
       "      <td>33</td>\n",
       "      <td>15.446429</td>\n",
       "    </tr>\n",
       "    <tr>\n",
       "      <th>3</th>\n",
       "      <td>34</td>\n",
       "      <td>16.391304</td>\n",
       "    </tr>\n",
       "    <tr>\n",
       "      <th>4</th>\n",
       "      <td>50</td>\n",
       "      <td>16.388889</td>\n",
       "    </tr>\n",
       "  </tbody>\n",
       "</table>\n",
       "</div>"
      ],
      "text/plain": [
       "   custid     평균구매시간\n",
       "0      16  15.911765\n",
       "1      29  16.473684\n",
       "2      33  15.446429\n",
       "3      34  16.391304\n",
       "4      50  16.388889"
      ]
     },
     "execution_count": 228,
     "metadata": {},
     "output_type": "execute_result"
    }
   ],
   "source": [
    "cp6 = id_g.hour.mean().reset_index(name = '평균구매시간')\n",
    "cp6.head()"
   ]
  },
  {
   "cell_type": "markdown",
   "id": "f0079725",
   "metadata": {},
   "source": [
    "#### 7. 평균 할부 개월 수"
   ]
  },
  {
   "cell_type": "code",
   "execution_count": 229,
   "id": "66496163",
   "metadata": {
    "scrolled": true
   },
   "outputs": [
    {
     "data": {
      "text/html": [
       "<div>\n",
       "<style scoped>\n",
       "    .dataframe tbody tr th:only-of-type {\n",
       "        vertical-align: middle;\n",
       "    }\n",
       "\n",
       "    .dataframe tbody tr th {\n",
       "        vertical-align: top;\n",
       "    }\n",
       "\n",
       "    .dataframe thead th {\n",
       "        text-align: right;\n",
       "    }\n",
       "</style>\n",
       "<table border=\"1\" class=\"dataframe\">\n",
       "  <thead>\n",
       "    <tr style=\"text-align: right;\">\n",
       "      <th></th>\n",
       "      <th>custid</th>\n",
       "      <th>평균할부개월수</th>\n",
       "    </tr>\n",
       "  </thead>\n",
       "  <tbody>\n",
       "    <tr>\n",
       "      <th>0</th>\n",
       "      <td>16</td>\n",
       "      <td>3.470588</td>\n",
       "    </tr>\n",
       "    <tr>\n",
       "      <th>1</th>\n",
       "      <td>29</td>\n",
       "      <td>2.157895</td>\n",
       "    </tr>\n",
       "    <tr>\n",
       "      <th>2</th>\n",
       "      <td>33</td>\n",
       "      <td>2.107143</td>\n",
       "    </tr>\n",
       "    <tr>\n",
       "      <th>3</th>\n",
       "      <td>34</td>\n",
       "      <td>2.565217</td>\n",
       "    </tr>\n",
       "    <tr>\n",
       "      <th>4</th>\n",
       "      <td>50</td>\n",
       "      <td>2.416667</td>\n",
       "    </tr>\n",
       "  </tbody>\n",
       "</table>\n",
       "</div>"
      ],
      "text/plain": [
       "   custid   평균할부개월수\n",
       "0      16  3.470588\n",
       "1      29  2.157895\n",
       "2      33  2.107143\n",
       "3      34  2.565217\n",
       "4      50  2.416667"
      ]
     },
     "execution_count": 229,
     "metadata": {},
     "output_type": "execute_result"
    }
   ],
   "source": [
    "cp7 = id_g.installment.mean().reset_index(name = '평균할부개월수')\n",
    "cp7.head()"
   ]
  },
  {
   "cell_type": "markdown",
   "id": "74fbf92a",
   "metadata": {},
   "source": [
    "#### 8. 구매 주기"
   ]
  },
  {
   "cell_type": "code",
   "execution_count": 230,
   "id": "6d6ddbd7",
   "metadata": {},
   "outputs": [],
   "source": [
    "cp8 = id_g.datetime.agg([('최근방문', 'max'), ('첫방문', 'min')]).reset_index()"
   ]
  },
  {
   "cell_type": "code",
   "execution_count": 231,
   "id": "7620429e",
   "metadata": {},
   "outputs": [],
   "source": [
    "cp8['경과일수'] = (cp8.최근방문 - cp8.첫방문).dt.days"
   ]
  },
  {
   "cell_type": "code",
   "execution_count": 232,
   "id": "836f35eb",
   "metadata": {},
   "outputs": [],
   "source": [
    "cp8['평균방문주기'] = cp8.경과일수 / cp1.구매횟수"
   ]
  },
  {
   "cell_type": "code",
   "execution_count": 233,
   "id": "b311d853",
   "metadata": {},
   "outputs": [],
   "source": [
    "cp8 = cp8.iloc[:, [0,3,4]]"
   ]
  },
  {
   "cell_type": "code",
   "execution_count": 234,
   "id": "93a93735",
   "metadata": {
    "scrolled": true
   },
   "outputs": [
    {
     "data": {
      "text/html": [
       "<div>\n",
       "<style scoped>\n",
       "    .dataframe tbody tr th:only-of-type {\n",
       "        vertical-align: middle;\n",
       "    }\n",
       "\n",
       "    .dataframe tbody tr th {\n",
       "        vertical-align: top;\n",
       "    }\n",
       "\n",
       "    .dataframe thead th {\n",
       "        text-align: right;\n",
       "    }\n",
       "</style>\n",
       "<table border=\"1\" class=\"dataframe\">\n",
       "  <thead>\n",
       "    <tr style=\"text-align: right;\">\n",
       "      <th></th>\n",
       "      <th>custid</th>\n",
       "      <th>경과일수</th>\n",
       "      <th>평균방문주기</th>\n",
       "    </tr>\n",
       "  </thead>\n",
       "  <tbody>\n",
       "    <tr>\n",
       "      <th>0</th>\n",
       "      <td>16</td>\n",
       "      <td>174</td>\n",
       "      <td>5.117647</td>\n",
       "    </tr>\n",
       "    <tr>\n",
       "      <th>1</th>\n",
       "      <td>29</td>\n",
       "      <td>169</td>\n",
       "      <td>8.894737</td>\n",
       "    </tr>\n",
       "    <tr>\n",
       "      <th>2</th>\n",
       "      <td>33</td>\n",
       "      <td>126</td>\n",
       "      <td>2.250000</td>\n",
       "    </tr>\n",
       "    <tr>\n",
       "      <th>3</th>\n",
       "      <td>34</td>\n",
       "      <td>139</td>\n",
       "      <td>6.043478</td>\n",
       "    </tr>\n",
       "    <tr>\n",
       "      <th>4</th>\n",
       "      <td>50</td>\n",
       "      <td>331</td>\n",
       "      <td>9.194444</td>\n",
       "    </tr>\n",
       "  </tbody>\n",
       "</table>\n",
       "</div>"
      ],
      "text/plain": [
       "   custid  경과일수    평균방문주기\n",
       "0      16   174  5.117647\n",
       "1      29   169  8.894737\n",
       "2      33   126  2.250000\n",
       "3      34   139  6.043478\n",
       "4      50   331  9.194444"
      ]
     },
     "execution_count": 234,
     "metadata": {},
     "output_type": "execute_result"
    }
   ],
   "source": [
    "cp8.head()"
   ]
  },
  {
   "cell_type": "markdown",
   "id": "c246be3c",
   "metadata": {},
   "source": [
    "#### 9. 평균 구매 금액"
   ]
  },
  {
   "cell_type": "code",
   "execution_count": 235,
   "id": "c93c8df5",
   "metadata": {},
   "outputs": [
    {
     "data": {
      "text/html": [
       "<div>\n",
       "<style scoped>\n",
       "    .dataframe tbody tr th:only-of-type {\n",
       "        vertical-align: middle;\n",
       "    }\n",
       "\n",
       "    .dataframe tbody tr th {\n",
       "        vertical-align: top;\n",
       "    }\n",
       "\n",
       "    .dataframe thead th {\n",
       "        text-align: right;\n",
       "    }\n",
       "</style>\n",
       "<table border=\"1\" class=\"dataframe\">\n",
       "  <thead>\n",
       "    <tr style=\"text-align: right;\">\n",
       "      <th></th>\n",
       "      <th>custid</th>\n",
       "      <th>평균구매금액</th>\n",
       "    </tr>\n",
       "  </thead>\n",
       "  <tbody>\n",
       "    <tr>\n",
       "      <th>0</th>\n",
       "      <td>16</td>\n",
       "      <td>83148.058824</td>\n",
       "    </tr>\n",
       "    <tr>\n",
       "      <th>1</th>\n",
       "      <td>29</td>\n",
       "      <td>50891.052632</td>\n",
       "    </tr>\n",
       "    <tr>\n",
       "      <th>2</th>\n",
       "      <td>33</td>\n",
       "      <td>90706.589286</td>\n",
       "    </tr>\n",
       "    <tr>\n",
       "      <th>3</th>\n",
       "      <td>34</td>\n",
       "      <td>72302.173913</td>\n",
       "    </tr>\n",
       "    <tr>\n",
       "      <th>4</th>\n",
       "      <td>50</td>\n",
       "      <td>99450.000000</td>\n",
       "    </tr>\n",
       "  </tbody>\n",
       "</table>\n",
       "</div>"
      ],
      "text/plain": [
       "   custid        평균구매금액\n",
       "0      16  83148.058824\n",
       "1      29  50891.052632\n",
       "2      33  90706.589286\n",
       "3      34  72302.173913\n",
       "4      50  99450.000000"
      ]
     },
     "execution_count": 235,
     "metadata": {},
     "output_type": "execute_result"
    }
   ],
   "source": [
    "cp9 = id_g.amount.mean().reset_index(name = '평균구매금액')\n",
    "cp9.head()"
   ]
  },
  {
   "cell_type": "markdown",
   "id": "c53349e8",
   "metadata": {},
   "source": [
    "#### 10. 할부 구매 건수"
   ]
  },
  {
   "cell_type": "code",
   "execution_count": 236,
   "id": "3d794d38",
   "metadata": {},
   "outputs": [],
   "source": [
    "ins_cnt = pd.crosstab(train['custid'], train['installment']).reset_index()\n",
    "ins_cnt.index.name = None\n",
    "ins_cnt.columns.name = None"
   ]
  },
  {
   "cell_type": "code",
   "execution_count": 237,
   "id": "bfb741ea",
   "metadata": {},
   "outputs": [],
   "source": [
    "ins_cnt['할부구매비율'] = ins_cnt.iloc[:, 1] / ins_cnt.iloc[:, 1:].sum(axis = 1)"
   ]
  },
  {
   "cell_type": "code",
   "execution_count": 238,
   "id": "6f8e4675",
   "metadata": {},
   "outputs": [],
   "source": [
    "cp10 = ins_cnt.iloc[:, [0, -1]]"
   ]
  },
  {
   "cell_type": "code",
   "execution_count": 277,
   "id": "383fefa0",
   "metadata": {},
   "outputs": [
    {
     "data": {
      "text/html": [
       "<div>\n",
       "<style scoped>\n",
       "    .dataframe tbody tr th:only-of-type {\n",
       "        vertical-align: middle;\n",
       "    }\n",
       "\n",
       "    .dataframe tbody tr th {\n",
       "        vertical-align: top;\n",
       "    }\n",
       "\n",
       "    .dataframe thead th {\n",
       "        text-align: right;\n",
       "    }\n",
       "</style>\n",
       "<table border=\"1\" class=\"dataframe\">\n",
       "  <thead>\n",
       "    <tr style=\"text-align: right;\">\n",
       "      <th></th>\n",
       "      <th>custid</th>\n",
       "      <th>할부구매비율</th>\n",
       "    </tr>\n",
       "  </thead>\n",
       "  <tbody>\n",
       "    <tr>\n",
       "      <th>0</th>\n",
       "      <td>16</td>\n",
       "      <td>0.264706</td>\n",
       "    </tr>\n",
       "    <tr>\n",
       "      <th>1</th>\n",
       "      <td>29</td>\n",
       "      <td>0.421053</td>\n",
       "    </tr>\n",
       "    <tr>\n",
       "      <th>2</th>\n",
       "      <td>33</td>\n",
       "      <td>0.517857</td>\n",
       "    </tr>\n",
       "    <tr>\n",
       "      <th>3</th>\n",
       "      <td>34</td>\n",
       "      <td>0.217391</td>\n",
       "    </tr>\n",
       "    <tr>\n",
       "      <th>4</th>\n",
       "      <td>50</td>\n",
       "      <td>0.333333</td>\n",
       "    </tr>\n",
       "  </tbody>\n",
       "</table>\n",
       "</div>"
      ],
      "text/plain": [
       "   custid    할부구매비율\n",
       "0      16  0.264706\n",
       "1      29  0.421053\n",
       "2      33  0.517857\n",
       "3      34  0.217391\n",
       "4      50  0.333333"
      ]
     },
     "execution_count": 277,
     "metadata": {},
     "output_type": "execute_result"
    }
   ],
   "source": [
    "cp10.head()"
   ]
  },
  {
   "cell_type": "markdown",
   "id": "cd40c67b",
   "metadata": {},
   "source": [
    "***\n",
    "\n",
    "### Make Data Set"
   ]
  },
  {
   "cell_type": "code",
   "execution_count": 239,
   "id": "da8b02e0",
   "metadata": {},
   "outputs": [],
   "source": [
    "df = pd.merge(cp1, cp2, how = 'left')\n",
    "df = pd.merge(df, cp3, how = 'left')\n",
    "df = pd.merge(df, cp4, how = 'left')\n",
    "df = pd.merge(df, cp5, how = 'left')\n",
    "df = pd.merge(df, cp6, how = 'left')\n",
    "df = pd.merge(df, cp7, how = 'left')\n",
    "df = pd.merge(df, cp8, how = 'left')\n",
    "df = pd.merge(df, cp9, how = 'left')\n",
    "df = pd.merge(df, cp10, how = 'left')"
   ]
  },
  {
   "cell_type": "code",
   "execution_count": 256,
   "id": "7448569d",
   "metadata": {
    "scrolled": true
   },
   "outputs": [
    {
     "name": "stdout",
     "output_type": "stream",
     "text": [
      "<class 'pandas.core.frame.DataFrame'>\n",
      "Int64Index: 18341 entries, 0 to 5501\n",
      "Data columns (total 7 columns):\n",
      " #   Column       Non-Null Count  Dtype  \n",
      "---  ------       --------------  -----  \n",
      " 0   custid       18341 non-null  int64  \n",
      " 1   gender       18341 non-null  int64  \n",
      " 2   birth        18341 non-null  object \n",
      " 3   house_type1  18341 non-null  object \n",
      " 4   house_type2  18341 non-null  int64  \n",
      " 5   hobby        18341 non-null  int64  \n",
      " 6   marriage     12839 non-null  float64\n",
      "dtypes: float64(1), int64(4), object(2)\n",
      "memory usage: 1.1+ MB\n"
     ]
    }
   ],
   "source": [
    "cs = pd.read_pickle('Customers.pkl')\n",
    "cs.info()"
   ]
  },
  {
   "cell_type": "code",
   "execution_count": 241,
   "id": "3cb27217",
   "metadata": {},
   "outputs": [],
   "source": [
    "cs['age'] = 2021 - cs['birth'].str[:4].astype(int)"
   ]
  },
  {
   "cell_type": "code",
   "execution_count": 242,
   "id": "7f1b8508",
   "metadata": {},
   "outputs": [],
   "source": [
    "cs = cs.drop('birth', axis = 1)"
   ]
  },
  {
   "cell_type": "code",
   "execution_count": 243,
   "id": "262344de",
   "metadata": {},
   "outputs": [],
   "source": [
    "df = pd.merge(df, cs, how = 'left')"
   ]
  },
  {
   "cell_type": "markdown",
   "id": "39fba69e",
   "metadata": {},
   "source": [
    "***\n",
    "### Split Train & Test"
   ]
  },
  {
   "cell_type": "code",
   "execution_count": 260,
   "id": "7f33bc86",
   "metadata": {},
   "outputs": [],
   "source": [
    "train = df[df.marriage.notnull()]"
   ]
  },
  {
   "cell_type": "code",
   "execution_count": 261,
   "id": "ab99d10f",
   "metadata": {},
   "outputs": [],
   "source": [
    "test = df[df.marriage.isnull()]"
   ]
  },
  {
   "cell_type": "code",
   "execution_count": 262,
   "id": "5d9ea467",
   "metadata": {},
   "outputs": [],
   "source": [
    "train = pd.get_dummies(train)"
   ]
  },
  {
   "cell_type": "code",
   "execution_count": 263,
   "id": "482b91b7",
   "metadata": {},
   "outputs": [],
   "source": [
    "test = pd.get_dummies(test)"
   ]
  },
  {
   "cell_type": "code",
   "execution_count": 267,
   "id": "89b2ace1",
   "metadata": {},
   "outputs": [],
   "source": [
    "train['house_type1_$null$'] = 0\n",
    "train['house_type1_H'] = 0"
   ]
  },
  {
   "cell_type": "markdown",
   "id": "f4555a0a",
   "metadata": {},
   "source": [
    "***\n",
    "### Modeling"
   ]
  },
  {
   "cell_type": "code",
   "execution_count": 198,
   "id": "28bc8d65",
   "metadata": {},
   "outputs": [],
   "source": [
    "from sklearn.model_selection import train_test_split, StratifiedKFold\n",
    "from sklearn.model_selection import RandomizedSearchCV\n",
    "from sklearn.ensemble import RandomForestClassifier\n",
    "from sklearn.metrics import log_loss"
   ]
  },
  {
   "cell_type": "code",
   "execution_count": 272,
   "id": "fa741459",
   "metadata": {},
   "outputs": [],
   "source": [
    "X = train.drop(['custid', 'marriage'], axis = 1)\n",
    "y = train['marriage']"
   ]
  },
  {
   "cell_type": "markdown",
   "id": "47527e1a",
   "metadata": {},
   "source": [
    "- 모델링에 불필요한 컬럼인 custid와 종속변수인 marriage를 제외한 학습용 데이터를 X 변수에 지정한다.\n",
    "- 예측 대상인 marriage 변수를 y 변수에 지정한다."
   ]
  },
  {
   "cell_type": "code",
   "execution_count": 273,
   "id": "fa14cd6a",
   "metadata": {},
   "outputs": [],
   "source": [
    "target = test.drop(['custid', 'marriage'], axis = 1)"
   ]
  },
  {
   "cell_type": "markdown",
   "id": "748f3d81",
   "metadata": {},
   "source": [
    "- 마찬가지로 모델링에 불필요한 컬럼인 custid와 종속변수인 marriage를 제외한 테스트 데이터를 target 변수에 지정한다."
   ]
  },
  {
   "cell_type": "code",
   "execution_count": 274,
   "id": "541d5f2d",
   "metadata": {
    "scrolled": true
   },
   "outputs": [],
   "source": [
    "X_train, X_val, y_train, y_val = train_test_split(X, y, test_size = 0.2, random_state = 42, stratify = y)"
   ]
  },
  {
   "cell_type": "markdown",
   "id": "78f8208f",
   "metadata": {},
   "source": [
    "- X의 80%를 학습용으로 사용하고 20%를 검증용으로 사용한다. 이 때 분류이기 때문에 클래스 비율을 맞추기 위해 stratify = y로 지정해준다."
   ]
  },
  {
   "cell_type": "code",
   "execution_count": 283,
   "id": "ff43401d",
   "metadata": {},
   "outputs": [],
   "source": [
    "skf = StratifiedKFold(n_splits = 5, random_state = 42, shuffle = True)"
   ]
  },
  {
   "cell_type": "markdown",
   "id": "0932c443",
   "metadata": {},
   "source": [
    "- 일반적인 KFold와 달리 분류의 경우 StratifiedKFold(층화추출)을 교차검증에 사용한다. 데이터를 총 5개의 FOLD로 나누기 위해 세팅한다."
   ]
  },
  {
   "cell_type": "markdown",
   "id": "c7203670",
   "metadata": {},
   "source": [
    "***\n",
    "### HyperParameter Tuning\n",
    "-  Only Using X/y train"
   ]
  },
  {
   "cell_type": "code",
   "execution_count": null,
   "id": "af9aea90",
   "metadata": {},
   "outputs": [],
   "source": [
    "params = {\n",
    "    'n_estimators': [10, 300, 500, 750, 1000],\n",
    "    'max_depth': [3, 4, 5, 6, 7],\n",
    "    'max_features': [3, 4, 5, 6, 7]\n",
    "}"
   ]
  },
  {
   "cell_type": "markdown",
   "id": "fa208ea8",
   "metadata": {},
   "source": [
    "- 탐색할 파라미터 조합을 의미한다. RandomForest의 파라미터는 굉장히 많으며 대표적인 3개의 파라미터에 대해 탐색할 값을 지정한다."
   ]
  },
  {
   "cell_type": "code",
   "execution_count": null,
   "id": "6dce9416",
   "metadata": {},
   "outputs": [],
   "source": [
    "rf = RandomForestClassifier(random_state = 42, n_jobs = -1)"
   ]
  },
  {
   "cell_type": "markdown",
   "id": "52872d67",
   "metadata": {},
   "source": [
    "- 탐색할 모델을 지정한다."
   ]
  },
  {
   "cell_type": "code",
   "execution_count": null,
   "id": "e96e1e57",
   "metadata": {},
   "outputs": [],
   "source": [
    "rand_search = RandomizedSearchCV(rf, params, scoring = 'neg_log_loss', cv = skf)"
   ]
  },
  {
   "cell_type": "markdown",
   "id": "b99cbfff",
   "metadata": {},
   "source": [
    "- 랜덤하게 파라미터 조합을 찾도록 RandomizedSearchCV를 이용한다. 이 때 평가지표인 log_loss를 사용한다. \n",
    "- 앞에 neg_가 붙는 이유는 일반적으로 파라미터 튜닝은 값이 크게 나오도록 모델을 탐색한다. log_loss의 경우 값이 낮을수록 좋은 성능을 의미하기 때문에 앞에 neg가 붙는다.\n",
    "- log loss가 각각 0.3, 0.7인 경우에 파라미터튜닝 결과는 더 큰 값인 0.7을 성능으로 제시한다. 하지만 log_loss는 값이 작은 것이 좋은 성능이다. 따라서 앞에 음수를 붙이면 -0.3, -0.7이기 때문에 더 큰 값인 -0.3이라는 결과를 반환하기 위해 파라미터를 튜닝한다.\n",
    "- cv는 cross_validation으로 앞서 지정한 StratifiedKFold를 사용하겠다는 의미이다."
   ]
  },
  {
   "cell_type": "code",
   "execution_count": 297,
   "id": "f5522583",
   "metadata": {},
   "outputs": [
    {
     "data": {
      "text/plain": [
       "RandomizedSearchCV(cv=StratifiedKFold(n_splits=5, random_state=42, shuffle=True),\n",
       "                   estimator=RandomForestClassifier(n_jobs=-1, random_state=42),\n",
       "                   param_distributions={'max_depth': [3, 4, 5, 6, 7],\n",
       "                                        'max_features': [3, 4, 5, 6, 7],\n",
       "                                        'n_estimators': [10, 300, 500, 750,\n",
       "                                                         1000]},\n",
       "                   scoring='neg_log_loss')"
      ]
     },
     "execution_count": 297,
     "metadata": {},
     "output_type": "execute_result"
    }
   ],
   "source": [
    "rand_search.fit(X_train, y_train)"
   ]
  },
  {
   "cell_type": "markdown",
   "id": "ec72c203",
   "metadata": {},
   "source": [
    "- 실제로 학습데이터로 파라미터 조합을 탐색한다."
   ]
  },
  {
   "cell_type": "code",
   "execution_count": 298,
   "id": "476564da",
   "metadata": {},
   "outputs": [],
   "source": [
    "best_params = rand_search.best_params_"
   ]
  },
  {
   "cell_type": "code",
   "execution_count": 299,
   "id": "84b2cd96",
   "metadata": {},
   "outputs": [
    {
     "data": {
      "text/plain": [
       "{'n_estimators': 10, 'max_features': 6, 'max_depth': 7}"
      ]
     },
     "execution_count": 299,
     "metadata": {},
     "output_type": "execute_result"
    }
   ],
   "source": [
    "best_params"
   ]
  },
  {
   "cell_type": "markdown",
   "id": "43904507",
   "metadata": {},
   "source": [
    "- best_params_라는 메서드에 최적의 파라미터 조합이 저장되어 있다."
   ]
  },
  {
   "cell_type": "code",
   "execution_count": 300,
   "id": "c6a35f0c",
   "metadata": {
    "scrolled": true
   },
   "outputs": [
    {
     "name": "stdout",
     "output_type": "stream",
     "text": [
      "Log Loss in Cross Validation:  0.3436128446955919\n"
     ]
    }
   ],
   "source": [
    "pred_proba = rand_search.predict_proba(X_val)\n",
    "score = log_loss(y_val, pred_proba)\n",
    "print(f'Log Loss in Cross Validation : {score}')"
   ]
  },
  {
   "cell_type": "markdown",
   "id": "1bd38940",
   "metadata": {},
   "source": [
    "- 최적의 파라미터 조합이 세팅되어 있는 모델로 검증용 데이터를 활용하여 예측값을 도출한다.\n",
    "- 검증용 y 데이터와 log_loss를 계산한다."
   ]
  },
  {
   "cell_type": "markdown",
   "id": "1fa8ba3a",
   "metadata": {},
   "source": [
    "***\n",
    "### Experiments"
   ]
  },
  {
   "cell_type": "code",
   "execution_count": 313,
   "id": "fe5300ca",
   "metadata": {
    "scrolled": true
   },
   "outputs": [
    {
     "name": "stdout",
     "output_type": "stream",
     "text": [
      "Expected Log Loss1:  0.3274405609868347\n",
      "Expected Log Loss2:  0.33481299255824637\n",
      "Expected Log Loss3:  0.3560934202495027\n"
     ]
    }
   ],
   "source": [
    "rf1 = RandomForestClassifier(n_estimators = 100, max_features = 6, max_depth = 5, random_state = 42, n_jobs =- 1)\n",
    "rf2 = RandomForestClassifier(n_estimators = 500, max_features = 7, max_depth = 4, random_state = 42, n_jobs =- 1)\n",
    "rf3 = RandomForestClassifier(n_estimators = 1000, max_features = 4, max_depth = 3, random_state = 42, n_jobs =- 1)\n",
    "\n",
    "pred1 = rf1.fit(X, y).predict_proba(X_val)\n",
    "pred2 = rf2.fit(X, y).predict_proba(X_val)\n",
    "pred3 = rf3.fit(X, y).predict_proba(X_val)\n",
    "\n",
    "print(f'Expected Log Loss1: ', log_loss(y_val, pred1))\n",
    "print(f'Expected Log Loss2: ', log_loss(y_val, pred2))\n",
    "print(f'Expected Log Loss3: ', log_loss(y_val, pred3))"
   ]
  },
  {
   "cell_type": "markdown",
   "id": "95ee598f",
   "metadata": {},
   "source": [
    "***\n",
    "### Final Decision & Prediction\n",
    "\n",
    "- RandomizedSearchCV Using All Data(not X/y train)"
   ]
  },
  {
   "cell_type": "code",
   "execution_count": null,
   "id": "6af24022",
   "metadata": {},
   "outputs": [],
   "source": [
    "params = {\n",
    "    'n_estimators': [10, 300, 500, 750, 1000],\n",
    "    'max_depth': [3, 4, 5, 6, 7],\n",
    "    'max_features': [3, 4, 5, 6, 7]\n",
    "}"
   ]
  },
  {
   "cell_type": "code",
   "execution_count": null,
   "id": "2fa8bf62",
   "metadata": {},
   "outputs": [],
   "source": [
    "rf = RandomForestClassifier(random_state = 42, n_jobs = -1)"
   ]
  },
  {
   "cell_type": "code",
   "execution_count": null,
   "id": "6f538f5f",
   "metadata": {},
   "outputs": [],
   "source": [
    "rand_search = RandomizedSearchCV(rf, params, scoring = 'neg_log_loss', cv = skf)"
   ]
  },
  {
   "cell_type": "code",
   "execution_count": 314,
   "id": "daa9f029",
   "metadata": {},
   "outputs": [
    {
     "data": {
      "text/plain": [
       "RandomizedSearchCV(cv=StratifiedKFold(n_splits=5, random_state=42, shuffle=True),\n",
       "                   estimator=RandomForestClassifier(n_jobs=-1, random_state=42),\n",
       "                   param_distributions={'max_depth': [3, 4, 5, 6, 7],\n",
       "                                        'max_features': [3, 4, 5, 6, 7],\n",
       "                                        'n_estimators': [10, 300, 500, 750,\n",
       "                                                         1000]},\n",
       "                   scoring='neg_log_loss')"
      ]
     },
     "execution_count": 314,
     "metadata": {},
     "output_type": "execute_result"
    }
   ],
   "source": [
    "rand_search.fit(X, y) # Use All Data for Train"
   ]
  },
  {
   "cell_type": "markdown",
   "id": "febe79bd",
   "metadata": {},
   "source": [
    "- 최종 예측을 할 때는 전체 데이터를 cross_validation으로 사용하며 모든 데이터를 활용한다."
   ]
  },
  {
   "cell_type": "code",
   "execution_count": 315,
   "id": "d45d29e0",
   "metadata": {},
   "outputs": [],
   "source": [
    "final_params = rand_search.best_params_"
   ]
  },
  {
   "cell_type": "markdown",
   "id": "13e54053",
   "metadata": {},
   "source": [
    "- 최적의 파라미터 조합이 세팅되어 있다."
   ]
  },
  {
   "cell_type": "code",
   "execution_count": null,
   "id": "a701dbc0",
   "metadata": {},
   "outputs": [],
   "source": [
    "final_model = RandomForestClassifier(**final_params, random_state = 42, n_jobs =- 1)"
   ]
  },
  {
   "cell_type": "markdown",
   "id": "e44ed45e",
   "metadata": {},
   "source": [
    "- **params를 인자로 지정하면 우리가 찾았던 파라미터 조합이 알맞게 자동으로 세팅된다."
   ]
  },
  {
   "cell_type": "code",
   "execution_count": 317,
   "id": "2d539353",
   "metadata": {
    "scrolled": true
   },
   "outputs": [
    {
     "data": {
      "text/plain": [
       "RandomForestClassifier(max_depth=7, max_features=5, n_estimators=1000,\n",
       "                       n_jobs=-1, random_state=42)"
      ]
     },
     "execution_count": 317,
     "metadata": {},
     "output_type": "execute_result"
    }
   ],
   "source": [
    "final_model.fit(X,y)"
   ]
  },
  {
   "cell_type": "code",
   "execution_count": 318,
   "id": "1f43446e",
   "metadata": {},
   "outputs": [],
   "source": [
    "final_pred = final_model.predict_proba(target)"
   ]
  },
  {
   "cell_type": "markdown",
   "id": "584099df",
   "metadata": {},
   "source": [
    "- 최종적으로 테스트 데이터로 예측 값을 도출한다."
   ]
  },
  {
   "cell_type": "code",
   "execution_count": 319,
   "id": "e0f757ab",
   "metadata": {},
   "outputs": [],
   "source": [
    "submission_jeonchihong1 = pd.DataFrame(final_pred, index = test.custid)"
   ]
  },
  {
   "cell_type": "markdown",
   "id": "b20ddb07",
   "metadata": {},
   "source": [
    "- 데이터 프레임에 값은 결혼여부 0, 1에 대한 확률값이 들어가고 인덱스는 테스트 데이터의 custid로 지정한다."
   ]
  },
  {
   "cell_type": "code",
   "execution_count": 320,
   "id": "b31302dd",
   "metadata": {
    "scrolled": true
   },
   "outputs": [
    {
     "data": {
      "text/html": [
       "<div>\n",
       "<style scoped>\n",
       "    .dataframe tbody tr th:only-of-type {\n",
       "        vertical-align: middle;\n",
       "    }\n",
       "\n",
       "    .dataframe tbody tr th {\n",
       "        vertical-align: top;\n",
       "    }\n",
       "\n",
       "    .dataframe thead th {\n",
       "        text-align: right;\n",
       "    }\n",
       "</style>\n",
       "<table border=\"1\" class=\"dataframe\">\n",
       "  <thead>\n",
       "    <tr style=\"text-align: right;\">\n",
       "      <th></th>\n",
       "      <th>0</th>\n",
       "      <th>1</th>\n",
       "    </tr>\n",
       "    <tr>\n",
       "      <th>custid</th>\n",
       "      <th></th>\n",
       "      <th></th>\n",
       "    </tr>\n",
       "  </thead>\n",
       "  <tbody>\n",
       "    <tr>\n",
       "      <th>80</th>\n",
       "      <td>0.598373</td>\n",
       "      <td>0.401627</td>\n",
       "    </tr>\n",
       "    <tr>\n",
       "      <th>81</th>\n",
       "      <td>0.624771</td>\n",
       "      <td>0.375229</td>\n",
       "    </tr>\n",
       "    <tr>\n",
       "      <th>93</th>\n",
       "      <td>0.619603</td>\n",
       "      <td>0.380397</td>\n",
       "    </tr>\n",
       "    <tr>\n",
       "      <th>117</th>\n",
       "      <td>0.661774</td>\n",
       "      <td>0.338226</td>\n",
       "    </tr>\n",
       "    <tr>\n",
       "      <th>129</th>\n",
       "      <td>0.794925</td>\n",
       "      <td>0.205075</td>\n",
       "    </tr>\n",
       "  </tbody>\n",
       "</table>\n",
       "</div>"
      ],
      "text/plain": [
       "               0         1\n",
       "custid                    \n",
       "80      0.598373  0.401627\n",
       "81      0.624771  0.375229\n",
       "93      0.619603  0.380397\n",
       "117     0.661774  0.338226\n",
       "129     0.794925  0.205075"
      ]
     },
     "execution_count": 320,
     "metadata": {},
     "output_type": "execute_result"
    }
   ],
   "source": [
    "submission_jeonchihong1.head()"
   ]
  },
  {
   "cell_type": "code",
   "execution_count": null,
   "id": "886ffbf1",
   "metadata": {},
   "outputs": [],
   "source": [
    "submission_jeonchihong1.to_csv('data/Submission_JeonChihong.csv', index = False)"
   ]
  },
  {
   "cell_type": "markdown",
   "id": "e320f8e5",
   "metadata": {},
   "source": [
    "- 위의 데이터 프레임을 최종 정답 제출용 파일로 저장한다."
   ]
  }
 ],
 "metadata": {
  "kernelspec": {
   "display_name": "Python 3",
   "language": "python",
   "name": "python3"
  },
  "language_info": {
   "codemirror_mode": {
    "name": "ipython",
    "version": 3
   },
   "file_extension": ".py",
   "mimetype": "text/x-python",
   "name": "python",
   "nbconvert_exporter": "python",
   "pygments_lexer": "ipython3",
   "version": "3.8.8"
  }
 },
 "nbformat": 4,
 "nbformat_minor": 5
}
