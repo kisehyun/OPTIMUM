{
 "cells": [
  {
   "cell_type": "code",
   "execution_count": 3,
   "metadata": {
    "id": "Qob5b4NAUDSj"
   },
   "outputs": [],
   "source": [
    "import numpy as np\n",
    "import pandas as pd\n",
    "\n",
    "import matplotlib.pyplot as plt\n",
    "%matplotlib inline"
   ]
  },
  {
   "cell_type": "code",
   "execution_count": 4,
   "metadata": {
    "id": "-jO2Ds7MUFCQ"
   },
   "outputs": [],
   "source": [
    "data = np.load('Wafer_Map_Datasets.npz')"
   ]
  },
  {
   "cell_type": "markdown",
   "metadata": {},
   "source": [
    "데이터를 불러옵니다."
   ]
  },
  {
   "cell_type": "code",
   "execution_count": 5,
   "metadata": {
    "id": "FgJ9VvAIWDnz"
   },
   "outputs": [],
   "source": [
    "X = data['arr_0']\n",
    "y = data['arr_1']"
   ]
  },
  {
   "cell_type": "markdown",
   "metadata": {},
   "source": [
    "\"arr_0\"이 이미지 데이터 \"arr_1\"이 결함 여부에 대한 데이터 입니다."
   ]
  },
  {
   "cell_type": "code",
   "execution_count": 6,
   "metadata": {
    "id": "o4NX0f29fwEd"
   },
   "outputs": [],
   "source": [
    "X = X.reshape(X.shape[0], 52, 52, 1).astype('float32') / 255"
   ]
  },
  {
   "cell_type": "markdown",
   "metadata": {},
   "source": [
    "이미지의 채널을 맞추기 위해 reshape(이미지 수, 행, 열, 채널)을 지정한 후 각 값을 255로 나누어줍니다. 딥러닝은 0 ~ 1 사이의 값일 때 학습 및 예측이 잘됩니다. 이미지 픽셀이 0 ~ 255 사이의 값을 가지므로 255로 나누어 줍니다."
   ]
  },
  {
   "cell_type": "code",
   "execution_count": 7,
   "metadata": {
    "colab": {
     "base_uri": "https://localhost:8080/"
    },
    "id": "2aupFOU5e05P",
    "outputId": "25320a32-f8b6-4e6a-a511-9be18e056905",
    "scrolled": false
   },
   "outputs": [
    {
     "data": {
      "text/plain": [
       "((38015, 52, 52, 1), (38015, 8))"
      ]
     },
     "execution_count": 7,
     "metadata": {},
     "output_type": "execute_result"
    }
   ],
   "source": [
    "X.shape, y.shape"
   ]
  },
  {
   "cell_type": "code",
   "execution_count": 8,
   "metadata": {
    "id": "1pjBlVuge17D"
   },
   "outputs": [],
   "source": [
    "from sklearn.model_selection import train_test_split\n",
    "from tensorflow.keras.models import Sequential\n",
    "from tensorflow.keras.layers import Dense, Conv2D, MaxPooling2D, Dropout, Flatten, BatchNormalization, load_model\n",
    "from tensorflow.keras.callbacks import ModelCheckpoint, EarlyStopping\n",
    "from tensorflow.keras.optimizers import Adam, RMSprop"
   ]
  },
  {
   "cell_type": "markdown",
   "metadata": {},
   "source": [
    "모델링에 필요한 패키지들을 불러옵니다."
   ]
  },
  {
   "cell_type": "code",
   "execution_count": 9,
   "metadata": {
    "id": "qnz8bGNme7gv"
   },
   "outputs": [],
   "source": [
    "X_train, X_val, y_train, y_val = train_test_split(X, y, stratify = y, random_state = 42, test_size = 0.2)"
   ]
  },
  {
   "cell_type": "markdown",
   "metadata": {},
   "source": [
    "학습 데이터를 80%, 검증 데이터를 20%로 나누어 줍니다. 이 때 층화추출 방식을 활용해 학습 및 검증 데이터 내에 클래스 비중을 맞춰줍니다."
   ]
  },
  {
   "cell_type": "code",
   "execution_count": 130,
   "metadata": {
    "id": "e4uNgDAUfI6e"
   },
   "outputs": [],
   "source": [
    "model = Sequential()\n",
    "model.add(Conv2D(64, kernel_size = (3, 3), input_shape=(52, 52, 1), activation='relu'))\n",
    "model.add(BatchNormalization())\n",
    "model.add(Dropout(0.3))\n",
    "model.add(Conv2D(64, (3, 3), activation='relu'))\n",
    "model.add(MaxPooling2D(pool_size=2))\n",
    "model.add(Dropout(0.25))\n",
    "model.add(Conv2D(64, (3, 3), activation='relu'))\n",
    "model.add(BatchNormalization())\n",
    "model.add(MaxPooling2D(pool_size = 2))\n",
    "model.add(Dropout(0.25))\n",
    "model.add(Flatten())\n",
    "model.add(Dense(32, activation = 'relu'))\n",
    "model.add(Dense(16, activation = 'relu'))\n",
    "model.add(Dropout(0.5))\n",
    "model.add(Dense(8, activation = 'sigmoid'))"
   ]
  },
  {
   "cell_type": "markdown",
   "metadata": {},
   "source": [
    "CNN을 활용해 네트워크를 구성합니다. 예측 대상인 y값은 총 8개 컬럼을 가지므로 출력층의 노드 수를 8로 설정합니다. 또한 다중 분류(multi label)의 경우 활성화 함수를 sigmoid를 사용합니다."
   ]
  },
  {
   "cell_type": "code",
   "execution_count": 131,
   "metadata": {
    "id": "cEf8ycdNfMUH"
   },
   "outputs": [],
   "source": [
    "model.compile(loss = 'binary_crossentropy',\n",
    "              optimizer = Adam(learning_rate = 0.003),\n",
    "              metrics = ['accuracy'])"
   ]
  },
  {
   "cell_type": "markdown",
   "metadata": {},
   "source": [
    "활성화 함수를 sigmoid를 사용했기 때문에 손실 함수 또한 이진 분류 문제에 사용되는 binary_crossentropy를 사용합니다. 최적화 함수는 Adam을 사용하고 이 때 학습률은 0.003으로 지정합니다. 평가 지표는 정확도를 사용하겠습니다."
   ]
  },
  {
   "cell_type": "code",
   "execution_count": 132,
   "metadata": {
    "id": "oP7qngZvkNdq"
   },
   "outputs": [],
   "source": [
    "es = EarlyStopping(monitor = 'val_accuracy', mode=  'max', patience = 5, verbose = 1)\n",
    "mc = ModelCheckpoint('best_model.h5', monitor = 'val_accuracy', mode = 'max', patience = 5, verbose = 1, save_best_only = True)"
   ]
  },
  {
   "cell_type": "markdown",
   "metadata": {},
   "source": [
    "과적합이 발생할 경우 더는 학습을 진행할 필요가 없기 때문에 학습 조기 종료(Early Stopping)와 모델 저장(ModelCheckpoint)을 사용합니다. 검증 정확도를 기준으로 5 에포크 내에 max값이 갱신되지 않으면 학습을 종료하고 검증 정확도가 가장 높을 떄의 모델만을 best_model로 저장합니다."
   ]
  },
  {
   "cell_type": "code",
   "execution_count": null,
   "metadata": {
    "id": "5bj32NXUfbHK"
   },
   "outputs": [],
   "source": [
    "history = model.fit(X_train, y_train, validation_data = (X_val, y_val), epochs = 100, batch_size = 32, callbacks = [es, mc])"
   ]
  },
  {
   "cell_type": "markdown",
   "metadata": {},
   "source": [
    "총 100에포크 동안 매 에포크 마다 32개의 배치로 학습을 진행합니다."
   ]
  },
  {
   "cell_type": "code",
   "execution_count": null,
   "metadata": {
    "id": "GwYml0XoordG"
   },
   "outputs": [],
   "source": [
    "best_model = load_model('best_model.h5')"
   ]
  },
  {
   "cell_type": "markdown",
   "metadata": {},
   "source": [
    "학습을 통해 도출된 최고 성능 달성 모델을 불러옵니다."
   ]
  },
  {
   "cell_type": "code",
   "execution_count": null,
   "metadata": {
    "id": "Pcmrkvc3o5mU"
   },
   "outputs": [],
   "source": [
    "valid_acc = model.evaluate(X_val)[1]"
   ]
  },
  {
   "cell_type": "markdown",
   "metadata": {},
   "source": [
    "검증용 데이터에 대해 정확도를 구합니다."
   ]
  },
  {
   "cell_type": "code",
   "execution_count": null,
   "metadata": {
    "id": "BPVXQNARotrP"
   },
   "outputs": [],
   "source": [
    "print(f'검증용 데이터에 대한 정확도 = {valid_acc}')"
   ]
  },
  {
   "cell_type": "code",
   "execution_count": null,
   "metadata": {
    "id": "w-aktea7kbos"
   },
   "outputs": [],
   "source": [
    "acc = history.history['accuracy']\n",
    "val_acc = history.history['val_accuracy']"
   ]
  },
  {
   "cell_type": "markdown",
   "metadata": {},
   "source": [
    "학습 및 검증 정확도를 지정합니다."
   ]
  },
  {
   "cell_type": "code",
   "execution_count": null,
   "metadata": {
    "id": "a1Ash8J3fjrd"
   },
   "outputs": [],
   "source": [
    "plt.figure(figsize = (10, 8))\n",
    "plt.title('Accuracy of Train & Validation', size = 15)\n",
    "plt.plot(acc, label = 'Train')\n",
    "plt.plot(val_acc, label = 'Validation')\n",
    "plt.show()"
   ]
  },
  {
   "cell_type": "markdown",
   "metadata": {},
   "source": [
    "에포크가 진행되며 변화한 학습 및 검증 데이터의 정확도를 plotting합니다."
   ]
  },
  {
   "cell_type": "code",
   "execution_count": null,
   "metadata": {
    "id": "mtY3vCtlWxr_"
   },
   "outputs": [],
   "source": [
    "loss = history.history['loss']\n",
    "val_loss = history.history['val_loss']"
   ]
  },
  {
   "cell_type": "markdown",
   "metadata": {},
   "source": [
    "학습 및 검증 Loss를 지정합니다."
   ]
  },
  {
   "cell_type": "code",
   "execution_count": null,
   "metadata": {
    "id": "S9vQp_h7W98H"
   },
   "outputs": [],
   "source": [
    "plt.figure(figsize = (10, 8))\n",
    "plt.title('Loss of Train & Validation', size = 15)\n",
    "plt.plot(loss, label = 'Train')\n",
    "plt.plot(val_loss, label = 'Validation')\n",
    "plt.show()"
   ]
  },
  {
   "cell_type": "markdown",
   "metadata": {},
   "source": [
    "에포크가 진행되며 변화한 학습 및 검증 데이터의 Loss를 plotting합니다."
   ]
  }
 ],
 "metadata": {
  "accelerator": "GPU",
  "colab": {
   "collapsed_sections": [],
   "name": "27_OPTIMUM_CV_WAFER.ipynb",
   "provenance": []
  },
  "kernelspec": {
   "display_name": "Python 3",
   "language": "python",
   "name": "python3"
  },
  "language_info": {
   "codemirror_mode": {
    "name": "ipython",
    "version": 3
   },
   "file_extension": ".py",
   "mimetype": "text/x-python",
   "name": "python",
   "nbconvert_exporter": "python",
   "pygments_lexer": "ipython3",
   "version": "3.8.8"
  }
 },
 "nbformat": 4,
 "nbformat_minor": 1
}
