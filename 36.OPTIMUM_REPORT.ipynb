{
 "cells": [
  {
   "cell_type": "code",
   "execution_count": 201,
   "id": "546be23e",
   "metadata": {},
   "outputs": [],
   "source": [
    "import pandas as pd\n",
    "import numpy as np\n",
    "\n",
    "import matplotlib.pyplot as plt\n",
    "import seaborn as sns\n",
    "%matplotlib inline\n",
    "\n",
    "import warnings\n",
    "warnings.filterwarnings('ignore')\n",
    "\n",
    "from sklearn.metrics import accuracy_score\n",
    "\n",
    "from lightgbm import LGBMClassifier\n",
    "from xgboost import XGBClassifier\n",
    "!pip install catboost\n",
    "from catboost import CatBoostClassifier\n",
    "from sklearn.ensemble import RandomForestClassifier, VotingClassifier, StackingClassifier\n",
    "from sklearn.linear_model import LogisticRegression\n",
    "from sklearn.svm import SVC\n",
    "from sklearn.neighbors import KNeighborsClassifier\n",
    "from sklearn.neural_network import MLPClassifier\n",
    "from sklearn.naive_bayes import GaussianNB\n",
    "from sklearn.model_selection import StratifiedKFold, GridSearchCV, train_test_split"
   ]
  },
  {
   "cell_type": "code",
   "execution_count": 202,
   "id": "de673ec5",
   "metadata": {},
   "outputs": [],
   "source": [
    "data = pd.read_csv('churn.csv')"
   ]
  },
  {
   "cell_type": "code",
   "execution_count": 203,
   "id": "9e463f1c",
   "metadata": {
    "scrolled": true
   },
   "outputs": [
    {
     "data": {
      "text/html": [
       "<div>\n",
       "<style scoped>\n",
       "    .dataframe tbody tr th:only-of-type {\n",
       "        vertical-align: middle;\n",
       "    }\n",
       "\n",
       "    .dataframe tbody tr th {\n",
       "        vertical-align: top;\n",
       "    }\n",
       "\n",
       "    .dataframe thead th {\n",
       "        text-align: right;\n",
       "    }\n",
       "</style>\n",
       "<table border=\"1\" class=\"dataframe\">\n",
       "  <thead>\n",
       "    <tr style=\"text-align: right;\">\n",
       "      <th></th>\n",
       "      <th>RowNumber</th>\n",
       "      <th>CustomerId</th>\n",
       "      <th>Surname</th>\n",
       "      <th>CreditScore</th>\n",
       "      <th>Geography</th>\n",
       "      <th>Gender</th>\n",
       "      <th>Age</th>\n",
       "      <th>Tenure</th>\n",
       "      <th>Balance</th>\n",
       "      <th>NumOfProducts</th>\n",
       "      <th>HasCrCard</th>\n",
       "      <th>IsActiveMember</th>\n",
       "      <th>EstimatedSalary</th>\n",
       "      <th>Exited</th>\n",
       "    </tr>\n",
       "  </thead>\n",
       "  <tbody>\n",
       "    <tr>\n",
       "      <th>0</th>\n",
       "      <td>1</td>\n",
       "      <td>15634602</td>\n",
       "      <td>Hargrave</td>\n",
       "      <td>619</td>\n",
       "      <td>France</td>\n",
       "      <td>Female</td>\n",
       "      <td>42</td>\n",
       "      <td>2</td>\n",
       "      <td>0.00</td>\n",
       "      <td>1</td>\n",
       "      <td>1</td>\n",
       "      <td>1</td>\n",
       "      <td>101348.88</td>\n",
       "      <td>1</td>\n",
       "    </tr>\n",
       "    <tr>\n",
       "      <th>1</th>\n",
       "      <td>2</td>\n",
       "      <td>15647311</td>\n",
       "      <td>Hill</td>\n",
       "      <td>608</td>\n",
       "      <td>Spain</td>\n",
       "      <td>Female</td>\n",
       "      <td>41</td>\n",
       "      <td>1</td>\n",
       "      <td>83807.86</td>\n",
       "      <td>1</td>\n",
       "      <td>0</td>\n",
       "      <td>1</td>\n",
       "      <td>112542.58</td>\n",
       "      <td>0</td>\n",
       "    </tr>\n",
       "    <tr>\n",
       "      <th>2</th>\n",
       "      <td>3</td>\n",
       "      <td>15619304</td>\n",
       "      <td>Onio</td>\n",
       "      <td>502</td>\n",
       "      <td>France</td>\n",
       "      <td>Female</td>\n",
       "      <td>42</td>\n",
       "      <td>8</td>\n",
       "      <td>159660.80</td>\n",
       "      <td>3</td>\n",
       "      <td>1</td>\n",
       "      <td>0</td>\n",
       "      <td>113931.57</td>\n",
       "      <td>1</td>\n",
       "    </tr>\n",
       "    <tr>\n",
       "      <th>3</th>\n",
       "      <td>4</td>\n",
       "      <td>15701354</td>\n",
       "      <td>Boni</td>\n",
       "      <td>699</td>\n",
       "      <td>France</td>\n",
       "      <td>Female</td>\n",
       "      <td>39</td>\n",
       "      <td>1</td>\n",
       "      <td>0.00</td>\n",
       "      <td>2</td>\n",
       "      <td>0</td>\n",
       "      <td>0</td>\n",
       "      <td>93826.63</td>\n",
       "      <td>0</td>\n",
       "    </tr>\n",
       "    <tr>\n",
       "      <th>4</th>\n",
       "      <td>5</td>\n",
       "      <td>15737888</td>\n",
       "      <td>Mitchell</td>\n",
       "      <td>850</td>\n",
       "      <td>Spain</td>\n",
       "      <td>Female</td>\n",
       "      <td>43</td>\n",
       "      <td>2</td>\n",
       "      <td>125510.82</td>\n",
       "      <td>1</td>\n",
       "      <td>1</td>\n",
       "      <td>1</td>\n",
       "      <td>79084.10</td>\n",
       "      <td>0</td>\n",
       "    </tr>\n",
       "  </tbody>\n",
       "</table>\n",
       "</div>"
      ],
      "text/plain": [
       "   RowNumber  CustomerId   Surname  CreditScore Geography  Gender  Age  \\\n",
       "0          1    15634602  Hargrave          619    France  Female   42   \n",
       "1          2    15647311      Hill          608     Spain  Female   41   \n",
       "2          3    15619304      Onio          502    France  Female   42   \n",
       "3          4    15701354      Boni          699    France  Female   39   \n",
       "4          5    15737888  Mitchell          850     Spain  Female   43   \n",
       "\n",
       "   Tenure    Balance  NumOfProducts  HasCrCard  IsActiveMember  \\\n",
       "0       2       0.00              1          1               1   \n",
       "1       1   83807.86              1          0               1   \n",
       "2       8  159660.80              3          1               0   \n",
       "3       1       0.00              2          0               0   \n",
       "4       2  125510.82              1          1               1   \n",
       "\n",
       "   EstimatedSalary  Exited  \n",
       "0        101348.88       1  \n",
       "1        112542.58       0  \n",
       "2        113931.57       1  \n",
       "3         93826.63       0  \n",
       "4         79084.10       0  "
      ]
     },
     "execution_count": 203,
     "metadata": {},
     "output_type": "execute_result"
    }
   ],
   "source": [
    "data.head()"
   ]
  },
  {
   "cell_type": "code",
   "execution_count": 204,
   "id": "83bc06c5",
   "metadata": {},
   "outputs": [],
   "source": [
    "data.drop(['RowNumber', 'CustomerId', 'Surname'], axis = 1, inplace = True)"
   ]
  },
  {
   "cell_type": "code",
   "execution_count": 205,
   "id": "804890cb",
   "metadata": {},
   "outputs": [],
   "source": [
    "data['Gender'] = [1 if g == 'Male' else 0 for g in data['Gender']]"
   ]
  },
  {
   "cell_type": "code",
   "execution_count": 206,
   "id": "2c7cdc81",
   "metadata": {},
   "outputs": [],
   "source": [
    "data.Geography = data.Geography.map({'Germany' : 3, 'Spain' : 2, 'France' : 1})"
   ]
  },
  {
   "cell_type": "code",
   "execution_count": 207,
   "id": "66e38b95",
   "metadata": {},
   "outputs": [],
   "source": []
  },
  {
   "cell_type": "code",
   "execution_count": 208,
   "id": "4ebd4a29",
   "metadata": {},
   "outputs": [],
   "source": [
    "X = data.drop('Exited', axis = 1)\n",
    "y = data.Exited"
   ]
  },
  {
   "cell_type": "code",
   "execution_count": 209,
   "id": "4184db8b",
   "metadata": {},
   "outputs": [],
   "source": [
    "X_train, X_test, y_train, y_test = train_test_split(X, y, test_size = 0.2 ,random_state = 42, stratify = y)"
   ]
  },
  {
   "cell_type": "code",
   "execution_count": 210,
   "id": "4feb26a6",
   "metadata": {},
   "outputs": [],
   "source": [
    "lgbm = LGBMClassifier(random_state = 42)\n",
    "xgb = XGBClassifier(random_state = 42)\n",
    "cb = CatBoostClassifier(random_state = 42, verbose = 0)\n",
    "rf = RandomForestClassifier(random_state = 42)\n",
    "LR = LogisticRegression(random_state = 42)\n",
    "svc = SVC(random_state = 42)\n",
    "knn = KNeighborsClassifier()\n",
    "mlp = MLPClassifier(random_state = 42)\n",
    "gnb = GaussianNB()"
   ]
  },
  {
   "cell_type": "code",
   "execution_count": 43,
   "id": "25086cee",
   "metadata": {},
   "outputs": [],
   "source": [
    "models = [lgbm, xgb, cb, rf, LR, svc, knn, mlp, gnb]"
   ]
  },
  {
   "cell_type": "code",
   "execution_count": 44,
   "id": "c6d68d3f",
   "metadata": {},
   "outputs": [],
   "source": [
    "acc_list = []"
   ]
  },
  {
   "cell_type": "code",
   "execution_count": 45,
   "id": "598b2626",
   "metadata": {},
   "outputs": [],
   "source": [
    "model_names = [model.__class__.__name__ for model in models]"
   ]
  },
  {
   "cell_type": "code",
   "execution_count": 46,
   "id": "2f95aafd",
   "metadata": {},
   "outputs": [
    {
     "name": "stdout",
     "output_type": "stream",
     "text": [
      "[21:54:06] WARNING: /Users/travis/build/dmlc/xgboost/src/learner.cc:1095: Starting in XGBoost 1.3.0, the default evaluation metric used with the objective 'binary:logistic' was changed from 'error' to 'logloss'. Explicitly set eval_metric if you'd like to restore the old behavior.\n"
     ]
    }
   ],
   "source": [
    "for model in models :\n",
    "    model.fit(X_train, y_train)\n",
    "    pred = model.predict(X_test)\n",
    "    acc = accuracy_score(y_test, pred)\n",
    "    acc_list.append(acc)"
   ]
  },
  {
   "cell_type": "code",
   "execution_count": 47,
   "id": "f90f85a7",
   "metadata": {},
   "outputs": [],
   "source": [
    "result = pd.DataFrame({'MODEL' : model_names, 'ACCURACY' : acc_list}).sort_values(by = 'ACCURACY', ascending = False)"
   ]
  },
  {
   "cell_type": "code",
   "execution_count": 53,
   "id": "84369964",
   "metadata": {},
   "outputs": [
    {
     "data": {
      "text/html": [
       "<div>\n",
       "<style scoped>\n",
       "    .dataframe tbody tr th:only-of-type {\n",
       "        vertical-align: middle;\n",
       "    }\n",
       "\n",
       "    .dataframe tbody tr th {\n",
       "        vertical-align: top;\n",
       "    }\n",
       "\n",
       "    .dataframe thead th {\n",
       "        text-align: right;\n",
       "    }\n",
       "</style>\n",
       "<table border=\"1\" class=\"dataframe\">\n",
       "  <thead>\n",
       "    <tr style=\"text-align: right;\">\n",
       "      <th></th>\n",
       "      <th>MODEL</th>\n",
       "      <th>ACCURACY</th>\n",
       "    </tr>\n",
       "  </thead>\n",
       "  <tbody>\n",
       "    <tr>\n",
       "      <th>2</th>\n",
       "      <td>CatBoostClassifier</td>\n",
       "      <td>0.8720</td>\n",
       "    </tr>\n",
       "    <tr>\n",
       "      <th>0</th>\n",
       "      <td>LGBMClassifier</td>\n",
       "      <td>0.8640</td>\n",
       "    </tr>\n",
       "    <tr>\n",
       "      <th>3</th>\n",
       "      <td>RandomForestClassifier</td>\n",
       "      <td>0.8625</td>\n",
       "    </tr>\n",
       "    <tr>\n",
       "      <th>1</th>\n",
       "      <td>XGBClassifier</td>\n",
       "      <td>0.8465</td>\n",
       "    </tr>\n",
       "    <tr>\n",
       "      <th>4</th>\n",
       "      <td>LogisticRegression</td>\n",
       "      <td>0.7965</td>\n",
       "    </tr>\n",
       "    <tr>\n",
       "      <th>5</th>\n",
       "      <td>SVC</td>\n",
       "      <td>0.7965</td>\n",
       "    </tr>\n",
       "    <tr>\n",
       "      <th>8</th>\n",
       "      <td>GaussianNB</td>\n",
       "      <td>0.7875</td>\n",
       "    </tr>\n",
       "    <tr>\n",
       "      <th>6</th>\n",
       "      <td>KNeighborsClassifier</td>\n",
       "      <td>0.7640</td>\n",
       "    </tr>\n",
       "    <tr>\n",
       "      <th>7</th>\n",
       "      <td>MLPClassifier</td>\n",
       "      <td>0.7155</td>\n",
       "    </tr>\n",
       "  </tbody>\n",
       "</table>\n",
       "</div>"
      ],
      "text/plain": [
       "                    MODEL  ACCURACY\n",
       "2      CatBoostClassifier    0.8720\n",
       "0          LGBMClassifier    0.8640\n",
       "3  RandomForestClassifier    0.8625\n",
       "1           XGBClassifier    0.8465\n",
       "4      LogisticRegression    0.7965\n",
       "5                     SVC    0.7965\n",
       "8              GaussianNB    0.7875\n",
       "6    KNeighborsClassifier    0.7640\n",
       "7           MLPClassifier    0.7155"
      ]
     },
     "execution_count": 53,
     "metadata": {},
     "output_type": "execute_result"
    }
   ],
   "source": [
    "result"
   ]
  },
  {
   "cell_type": "code",
   "execution_count": 48,
   "id": "87bc1c3f",
   "metadata": {},
   "outputs": [
    {
     "data": {
      "image/png": "[encoded data removed]",
      "text/plain": [
       "<Figure size 576x432 with 1 Axes>"
      ]
     },
     "metadata": {
      "needs_background": "light"
     },
     "output_type": "display_data"
    }
   ],
   "source": [
    "plt.figure(figsize = (8, 6))\n",
    "plt.title('ACCURACY of Each Model\\n', size = 12)\n",
    "sns.barplot(y = result.MODEL, x = result.ACCURACY, edgecolor = (0, 0, 0))\n",
    "plt.show()"
   ]
  },
  {
   "cell_type": "markdown",
   "id": "64c97fb3",
   "metadata": {},
   "source": [
    "## Voting - Soft"
   ]
  },
  {
   "cell_type": "code",
   "execution_count": 211,
   "id": "36151e99",
   "metadata": {},
   "outputs": [
    {
     "data": {
      "text/plain": [
       "0.8675"
      ]
     },
     "execution_count": 211,
     "metadata": {},
     "output_type": "execute_result"
    }
   ],
   "source": [
    "vot = VotingClassifier(estimators = [('lgbm', lgbm), ('cat', cb), ('rf', rf)],\n",
    "                       voting = 'soft', weights = [0.35, 0.4, 0.25])\n",
    "vot.fit(X_train, y_train)\n",
    "vot_pred = vot.predict(X_test)\n",
    "accuracy_score(y_test, vot_pred)"
   ]
  },
  {
   "cell_type": "code",
   "execution_count": 212,
   "id": "c01e6f08",
   "metadata": {},
   "outputs": [
    {
     "data": {
      "text/plain": [
       "0.869"
      ]
     },
     "execution_count": 212,
     "metadata": {},
     "output_type": "execute_result"
    }
   ],
   "source": [
    "vot = VotingClassifier(estimators = [('lgbm', lgbm), ('cat', cb), ('rf', rf)],\n",
    "                       voting = 'hard', weights = [0.35, 0.4, 0.25])\n",
    "vot.fit(X_train, y_train)\n",
    "vot_pred = vot.predict(X_test)\n",
    "accuracy_score(y_test, vot_pred)"
   ]
  },
  {
   "cell_type": "markdown",
   "id": "a423c561",
   "metadata": {},
   "source": [
    "## Stacking"
   ]
  },
  {
   "cell_type": "code",
   "execution_count": 213,
   "id": "0e6d60fc",
   "metadata": {},
   "outputs": [
    {
     "data": {
      "text/plain": [
       "0.858"
      ]
     },
     "execution_count": 213,
     "metadata": {},
     "output_type": "execute_result"
    }
   ],
   "source": [
    "stc = StackingClassifier(estimators = [('lgbm', lgbm), ('rf', rf)],\n",
    "                         final_estimator = cb)\n",
    "stc.fit(X_train, y_train)\n",
    "stc_pred = stc.predict(X_test)\n",
    "accuracy_score(y_test, stc_pred)"
   ]
  },
  {
   "cell_type": "markdown",
   "id": "30c85423",
   "metadata": {},
   "source": [
    "***\n",
    "## Parameter Tuning"
   ]
  },
  {
   "cell_type": "code",
   "execution_count": 76,
   "id": "0b0a350a",
   "metadata": {},
   "outputs": [],
   "source": [
    "skf = StratifiedKFold(n_splits = 5, random_state = 42, shuffle = True)"
   ]
  },
  {
   "cell_type": "markdown",
   "id": "f2c9269c",
   "metadata": {},
   "source": [
    "### - RandomForest"
   ]
  },
  {
   "cell_type": "code",
   "execution_count": 214,
   "id": "5eaa1c42",
   "metadata": {},
   "outputs": [],
   "source": [
    "rf_params = {'max_depth' : [4, 5, 6, 7, 8], 'n_estimators' : [100, 200, 250, 300, 500]}"
   ]
  },
  {
   "cell_type": "code",
   "execution_count": 215,
   "id": "80f2a476",
   "metadata": {},
   "outputs": [
    {
     "data": {
      "text/plain": [
       "0.867"
      ]
     },
     "execution_count": 215,
     "metadata": {},
     "output_type": "execute_result"
    }
   ],
   "source": [
    "rf_grid = GridSearchCV(rf, rf_params, cv = skf, scoring = 'accuracy')\n",
    "rf_grid.fit(X_train, y_train)\n",
    "rf = RandomForestClassifier(random_state = 42, **rf_grid.best_params_)\n",
    "rf.fit(X_train, y_train)\n",
    "pred = rf.predict(X_test)\n",
    "accuracy_score(y_test, pred)"
   ]
  },
  {
   "cell_type": "code",
   "execution_count": 82,
   "id": "861c5554",
   "metadata": {
    "scrolled": true
   },
   "outputs": [
    {
     "data": {
      "text/plain": [
       "{'max_depth': 8, 'n_estimators': 500}"
      ]
     },
     "execution_count": 82,
     "metadata": {},
     "output_type": "execute_result"
    }
   ],
   "source": [
    "rf_grid.best_params_"
   ]
  },
  {
   "cell_type": "markdown",
   "id": "6fd5a398",
   "metadata": {},
   "source": [
    "### - LightGBM"
   ]
  },
  {
   "cell_type": "code",
   "execution_count": 216,
   "id": "e49d1aea",
   "metadata": {},
   "outputs": [],
   "source": [
    "lgbm_params = {'max_depth' : [3, 4, 5, 6, 7], 'learning_rate' : [0.05, 0.1, 0.15, 0.2],\n",
    "              'n_estimators' : [100, 200, 250, 300, 500]}"
   ]
  },
  {
   "cell_type": "code",
   "execution_count": 217,
   "id": "fc5cab9e",
   "metadata": {},
   "outputs": [
    {
     "data": {
      "text/plain": [
       "0.8645"
      ]
     },
     "execution_count": 217,
     "metadata": {},
     "output_type": "execute_result"
    }
   ],
   "source": [
    "lgbm_grid = GridSearchCV(lgbm, lgbm_params, cv = skf, scoring = 'accuracy')\n",
    "lgbm_grid.fit(X_train, y_train)\n",
    "lgbm = LGBMClassifier(random_state = 42, **lgbm_grid.best_params_)\n",
    "lgbm.fit(X_train, y_train)\n",
    "pred = lgbm.predict(X_test)\n",
    "accuracy_score(y_test, pred)"
   ]
  },
  {
   "cell_type": "code",
   "execution_count": 218,
   "id": "9fc8ed28",
   "metadata": {
    "scrolled": true
   },
   "outputs": [
    {
     "data": {
      "text/plain": [
       "{'learning_rate': 0.05, 'max_depth': 3, 'n_estimators': 300}"
      ]
     },
     "execution_count": 218,
     "metadata": {},
     "output_type": "execute_result"
    }
   ],
   "source": [
    "lgbm_grid.best_params_"
   ]
  },
  {
   "cell_type": "markdown",
   "id": "e235482a",
   "metadata": {},
   "source": [
    "### - CatBoost"
   ]
  },
  {
   "cell_type": "code",
   "execution_count": 219,
   "id": "dfbbe7bc",
   "metadata": {},
   "outputs": [],
   "source": [
    "cb_params = {'max_depth' : [3, 4, 5, 6, 7], 'learning_rate' : [0.05, 0.1, 0.15, 0.2],\n",
    "              'iterations' : [100, 200, 250, 300, 500]}"
   ]
  },
  {
   "cell_type": "code",
   "execution_count": 220,
   "id": "745ef6ca",
   "metadata": {},
   "outputs": [
    {
     "data": {
      "text/plain": [
       "0.869"
      ]
     },
     "execution_count": 220,
     "metadata": {},
     "output_type": "execute_result"
    }
   ],
   "source": [
    "cb_grid = GridSearchCV(cb, cb_params, cv = skf, scoring = 'accuracy')\n",
    "cb_grid.fit(X_train, y_train)\n",
    "cb = CatBoostClassifier(random_state = 42, **cb_grid.best_params_, verbose = 0)\n",
    "cb.fit(X_train, y_train)\n",
    "pred = cb.predict(X_test)\n",
    "accuracy_score(y_test, pred)"
   ]
  },
  {
   "cell_type": "code",
   "execution_count": 221,
   "id": "b9859fd4",
   "metadata": {
    "scrolled": true
   },
   "outputs": [
    {
     "data": {
      "text/plain": [
       "{'iterations': 200, 'learning_rate': 0.2, 'max_depth': 3}"
      ]
     },
     "execution_count": 221,
     "metadata": {},
     "output_type": "execute_result"
    }
   ],
   "source": [
    "cb_grid.best_params_"
   ]
  },
  {
   "cell_type": "markdown",
   "id": "04d32ce0",
   "metadata": {},
   "source": [
    "***\n",
    "## Blending"
   ]
  },
  {
   "cell_type": "code",
   "execution_count": 160,
   "id": "2f608cef",
   "metadata": {},
   "outputs": [],
   "source": [
    "lgbm = LGBMClassifier(random_state = 42, **lgbm_grid.best_params_)\n",
    "rf = RandomForestClassifier(random_state = 42, **rf_grid.best_params_)\n",
    "cb = CatBoostClassifier(random_state = 42, verbose = 0)"
   ]
  },
  {
   "cell_type": "code",
   "execution_count": 163,
   "id": "714838c4",
   "metadata": {},
   "outputs": [
    {
     "data": {
      "text/plain": [
       "<catboost.core.CatBoostClassifier at 0x17aab2f40>"
      ]
     },
     "execution_count": 163,
     "metadata": {},
     "output_type": "execute_result"
    }
   ],
   "source": [
    "lgbm.fit(X_train, y_train)\n",
    "rf.fit(X_train, y_train)\n",
    "cb.fit(X_train, y_train)"
   ]
  },
  {
   "cell_type": "code",
   "execution_count": 164,
   "id": "7e594f02",
   "metadata": {},
   "outputs": [],
   "source": [
    "pred1 = lgbm.predict_proba(X_test)[:, 1]\n",
    "pred2 = rf.predict_proba(X_test)[:, 1]\n",
    "pred3 = cb.predict_proba(X_test)[:, 1]"
   ]
  },
  {
   "cell_type": "code",
   "execution_count": 177,
   "id": "31c98e0d",
   "metadata": {},
   "outputs": [],
   "source": [
    "final_pred = pred1 * 0.35 + pred2 * 0.25 + pred3 * 0.4"
   ]
  },
  {
   "cell_type": "code",
   "execution_count": 178,
   "id": "1f84bf18",
   "metadata": {},
   "outputs": [],
   "source": [
    "predictions = [1 if p >= 0.5 else 0 for p in final_pred]"
   ]
  },
  {
   "cell_type": "code",
   "execution_count": 179,
   "id": "6a365788",
   "metadata": {
    "scrolled": true
   },
   "outputs": [
    {
     "data": {
      "text/plain": [
       "0.8715"
      ]
     },
     "execution_count": 179,
     "metadata": {},
     "output_type": "execute_result"
    }
   ],
   "source": [
    "accuracy_score(y_test, predictions)"
   ]
  }
 ],
 "metadata": {
  "kernelspec": {
   "display_name": "Python 3",
   "language": "python",
   "name": "python3"
  },
  "language_info": {
   "codemirror_mode": {
    "name": "ipython",
    "version": 3
   },
   "file_extension": ".py",
   "mimetype": "text/x-python",
   "name": "python",
   "nbconvert_exporter": "python",
   "pygments_lexer": "ipython3",
   "version": "3.8.8"
  }
 },
 "nbformat": 4,
 "nbformat_minor": 5
}
