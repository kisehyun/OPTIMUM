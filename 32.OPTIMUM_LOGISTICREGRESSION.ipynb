{
 "cells": [
  {
   "cell_type": "code",
   "execution_count": 59,
   "id": "df9cc16b",
   "metadata": {},
   "outputs": [
    {
     "name": "stdout",
     "output_type": "stream",
     "text": [
      "LogisticRegression의 ACCURACY는 0.956\n",
      "LogisticRegression의 ROC_AUC는 0.995\n"
     ]
    }
   ],
   "source": [
    "import pandas as pd\n",
    "import numpy as np\n",
    "\n",
    "from sklearn.linear_model import LogisticRegression\n",
    "from sklearn.metrics import accuracy_score, roc_auc_score\n",
    "from sklearn.model_selection import train_test_split\n",
    "\n",
    "import warnings\n",
    "warnings.filterwarnings('ignore')\n",
    "\n",
    "### 분석 대상인 student_health 데이터 로드\n",
    "data = pd.read_csv('student_health_3.csv', encoding = 'cp949')\n",
    "\n",
    "### 사용할 독립변수(키, 몸무게, 수축기, 이완기)와 종속변수(학년)만을 추출\n",
    "data = data[['키', '몸무게', '수축기', '이완기', '학년']]\n",
    "\n",
    "### 독립변수(X)에 학년을 제외한 feature 지정 및 종속변수(y)에 학년을 지정\n",
    "X = data.drop('학년', axis = 1)\n",
    "y = data.학년\n",
    "\n",
    "### 전체 데이터의 80%를 학습용, 20%를 검증용 데이터로 분할하고 이 때 층화추출을 위해 stratify 인자 지정\n",
    "X_train, X_val, y_train, y_val = train_test_split(X, y, test_size = 0.2, random_state = 42, stratify = y)\n",
    "\n",
    "### 사용할 모델인 LogisticRegression 지정\n",
    "model = LogisticRegression(random_state = 42)\n",
    "\n",
    "### 분할해 둔 학습 데이터를 이용하여 모델 학습\n",
    "model.fit(X_train, y_train)\n",
    "\n",
    "### 검증용 데이터를 이용하여 예측값 생성(클래스 예측)\n",
    "pred = model.predict(X_val)\n",
    "\n",
    "### 모델의 정확도 계산\n",
    "acc = accuracy_score(y_val, pred)\n",
    "print(f'{model.__class__.__name__}의 ACCURACY는 {round(acc, 3)}')\n",
    "\n",
    "### 검증용 데이터를 이용하여 예측 확률값 생성\n",
    "proba = model.predict_proba(X_val)[:, 1]\n",
    "\n",
    "### 모델의 ROC_AUC 계산\n",
    "roc_auc = roc_auc_score(y_val, proba)\n",
    "print(f'{model.__class__.__name__}의 ROC_AUC는 {round(roc_auc, 3)}')"
   ]
  }
 ],
 "metadata": {
  "kernelspec": {
   "display_name": "Python 3",
   "language": "python",
   "name": "python3"
  },
  "language_info": {
   "codemirror_mode": {
    "name": "ipython",
    "version": 3
   },
   "file_extension": ".py",
   "mimetype": "text/x-python",
   "name": "python",
   "nbconvert_exporter": "python",
   "pygments_lexer": "ipython3",
   "version": "3.8.8"
  }
 },
 "nbformat": 4,
 "nbformat_minor": 5
}
