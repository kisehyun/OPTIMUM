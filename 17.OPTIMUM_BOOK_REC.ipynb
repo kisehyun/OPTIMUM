{
 "cells": [
  {
   "cell_type": "code",
   "execution_count": 1,
   "metadata": {},
   "outputs": [],
   "source": [
    "import pandas as pd\n",
    "import numpy as np"
   ]
  },
  {
   "cell_type": "code",
   "execution_count": 2,
   "metadata": {},
   "outputs": [],
   "source": [
    "df = pd.read_csv(\"book_cross_data.csv\")"
   ]
  },
  {
   "cell_type": "code",
   "execution_count": 3,
   "metadata": {},
   "outputs": [
    {
     "data": {
      "text/html": [
       "<div>\n",
       "<style scoped>\n",
       "    .dataframe tbody tr th:only-of-type {\n",
       "        vertical-align: middle;\n",
       "    }\n",
       "\n",
       "    .dataframe tbody tr th {\n",
       "        vertical-align: top;\n",
       "    }\n",
       "\n",
       "    .dataframe thead th {\n",
       "        text-align: right;\n",
       "    }\n",
       "</style>\n",
       "<table border=\"1\" class=\"dataframe\">\n",
       "  <thead>\n",
       "    <tr style=\"text-align: right;\">\n",
       "      <th></th>\n",
       "      <th>Unnamed: 0</th>\n",
       "      <th>user_id</th>\n",
       "      <th>age</th>\n",
       "      <th>rating</th>\n",
       "      <th>year_of_publication</th>\n",
       "    </tr>\n",
       "  </thead>\n",
       "  <tbody>\n",
       "    <tr>\n",
       "      <th>count</th>\n",
       "      <td>5.960220e+05</td>\n",
       "      <td>596022.000000</td>\n",
       "      <td>596022.000000</td>\n",
       "      <td>596022.000000</td>\n",
       "      <td>596022.000000</td>\n",
       "    </tr>\n",
       "    <tr>\n",
       "      <th>mean</th>\n",
       "      <td>4.943426e+05</td>\n",
       "      <td>142399.932893</td>\n",
       "      <td>36.480281</td>\n",
       "      <td>2.786885</td>\n",
       "      <td>1995.829989</td>\n",
       "    </tr>\n",
       "    <tr>\n",
       "      <th>std</th>\n",
       "      <td>2.928122e+05</td>\n",
       "      <td>79753.113338</td>\n",
       "      <td>10.410328</td>\n",
       "      <td>3.843312</td>\n",
       "      <td>6.772836</td>\n",
       "    </tr>\n",
       "    <tr>\n",
       "      <th>min</th>\n",
       "      <td>0.000000e+00</td>\n",
       "      <td>2.000000</td>\n",
       "      <td>5.000000</td>\n",
       "      <td>0.000000</td>\n",
       "      <td>1378.000000</td>\n",
       "    </tr>\n",
       "    <tr>\n",
       "      <th>25%</th>\n",
       "      <td>2.401482e+05</td>\n",
       "      <td>73694.000000</td>\n",
       "      <td>31.000000</td>\n",
       "      <td>0.000000</td>\n",
       "      <td>1993.000000</td>\n",
       "    </tr>\n",
       "    <tr>\n",
       "      <th>50%</th>\n",
       "      <td>4.912045e+05</td>\n",
       "      <td>143175.000000</td>\n",
       "      <td>34.743900</td>\n",
       "      <td>0.000000</td>\n",
       "      <td>1997.000000</td>\n",
       "    </tr>\n",
       "    <tr>\n",
       "      <th>75%</th>\n",
       "      <td>7.403948e+05</td>\n",
       "      <td>212898.000000</td>\n",
       "      <td>41.000000</td>\n",
       "      <td>7.000000</td>\n",
       "      <td>2001.000000</td>\n",
       "    </tr>\n",
       "    <tr>\n",
       "      <th>max</th>\n",
       "      <td>1.031173e+06</td>\n",
       "      <td>278854.000000</td>\n",
       "      <td>99.000000</td>\n",
       "      <td>10.000000</td>\n",
       "      <td>2008.000000</td>\n",
       "    </tr>\n",
       "  </tbody>\n",
       "</table>\n",
       "</div>"
      ],
      "text/plain": [
       "         Unnamed: 0        user_id            age         rating  \\\n",
       "count  5.960220e+05  596022.000000  596022.000000  596022.000000   \n",
       "mean   4.943426e+05  142399.932893      36.480281       2.786885   \n",
       "std    2.928122e+05   79753.113338      10.410328       3.843312   \n",
       "min    0.000000e+00       2.000000       5.000000       0.000000   \n",
       "25%    2.401482e+05   73694.000000      31.000000       0.000000   \n",
       "50%    4.912045e+05  143175.000000      34.743900       0.000000   \n",
       "75%    7.403948e+05  212898.000000      41.000000       7.000000   \n",
       "max    1.031173e+06  278854.000000      99.000000      10.000000   \n",
       "\n",
       "       year_of_publication  \n",
       "count        596022.000000  \n",
       "mean           1995.829989  \n",
       "std               6.772836  \n",
       "min            1378.000000  \n",
       "25%            1993.000000  \n",
       "50%            1997.000000  \n",
       "75%            2001.000000  \n",
       "max            2008.000000  "
      ]
     },
     "execution_count": 3,
     "metadata": {},
     "output_type": "execute_result"
    }
   ],
   "source": [
    "df.describe()"
   ]
  },
  {
   "cell_type": "code",
   "execution_count": 4,
   "metadata": {},
   "outputs": [],
   "source": [
    "def sep_age(x) :\n",
    "    if x < 10 :\n",
    "        return '아동'\n",
    "    elif 10 <= x < 20 :\n",
    "        return '10대'\n",
    "    elif 20 <= x < 30 :\n",
    "        return '20대'\n",
    "    elif 30 <= x < 40 :\n",
    "        return '30대'\n",
    "    elif 40 <= x < 50 :\n",
    "        return '40대'\n",
    "    elif 50 <= x < 60 :\n",
    "        return '50대'\n",
    "    elif 60 <= x < 70 :\n",
    "        return '60대'\n",
    "    elif 70 <= x < 80 :\n",
    "        return '70대'\n",
    "    elif 80 <= x < 90 :\n",
    "        return '80대'\n",
    "    else : \n",
    "        return '90대'"
   ]
  },
  {
   "cell_type": "code",
   "execution_count": 5,
   "metadata": {},
   "outputs": [],
   "source": [
    "df['age_group'] = df['age'].apply(sep_age)"
   ]
  },
  {
   "cell_type": "code",
   "execution_count": 6,
   "metadata": {},
   "outputs": [],
   "source": [
    "from sklearn.feature_extraction.text import TfidfVectorizer\n",
    "from ast import literal_eval\n",
    "from sklearn.metrics.pairwise import linear_kernel"
   ]
  },
  {
   "cell_type": "code",
   "execution_count": 7,
   "metadata": {},
   "outputs": [],
   "source": [
    "df['Information'] = df['Category'] + ' ' + df['Summary']"
   ]
  },
  {
   "cell_type": "code",
   "execution_count": 8,
   "metadata": {},
   "outputs": [],
   "source": [
    "df['Information'] = df['Information'].str.lower()"
   ]
  },
  {
   "cell_type": "code",
   "execution_count": 9,
   "metadata": {},
   "outputs": [],
   "source": [
    "import re"
   ]
  },
  {
   "cell_type": "code",
   "execution_count": 10,
   "metadata": {},
   "outputs": [],
   "source": [
    "df['Information'] = [re.sub(r'[^a-z]+', ' ', x) for x in df['Information']]"
   ]
  },
  {
   "cell_type": "code",
   "execution_count": 12,
   "metadata": {},
   "outputs": [],
   "source": [
    "book_df = df[['book_title', 'Category', 'Information', 'age_group']].drop_duplicates()"
   ]
  },
  {
   "cell_type": "code",
   "execution_count": 104,
   "metadata": {},
   "outputs": [],
   "source": [
    "def get_rec_book(user_id) :\n",
    "    info = df[df.user_id == user_id]\n",
    "    \n",
    "    user_books = info.book_title.unique()\n",
    "    \n",
    "    user_age = info.age_group.unique()[0]\n",
    "    \n",
    "    user_most_category = info.Category.value_counts().index[0]\n",
    "    \n",
    "    user_info = info[info.Category == user_most_category]\n",
    "    \n",
    "    user_sum_info = user_info['Information'].sum()\n",
    "    \n",
    "    find_books = book_df[(book_df.Category == user_most_category) & (book_df.age_group == user_age)]['Information']\n",
    "    \n",
    "    total_info = find_books.tolist() + [user_sum_info]\n",
    "    \n",
    "    tfidf = TfidfVectorizer(stop_words='english', lowercase= False, max_features = 2000)\n",
    "    \n",
    "    tfidf_matrix = tfidf.fit_transform(total_info)\n",
    "    \n",
    "    cosine_sim = linear_kernel(tfidf_matrix, tfidf_matrix)[0][1:]\n",
    "    \n",
    "    rec10 = book_df[(book_df.Category == user_most_category) & (book_df.age_group == user_age)]\n",
    "    \n",
    "    rec10['cos_sim'] = cosine_sim\n",
    "    \n",
    "    final_rec10 = rec10.query('book_title not in @user_books').sort_values(by = 'cos_sim', ascending = False)[:5]\n",
    "    \n",
    "    \n",
    "    return final_rec10"
   ]
  },
  {
   "cell_type": "code",
   "execution_count": 105,
   "metadata": {
    "scrolled": false
   },
   "outputs": [
    {
     "name": "stderr",
     "output_type": "stream",
     "text": [
      "<ipython-input-104-3ebdd95193f7>:26: SettingWithCopyWarning: \n",
      "A value is trying to be set on a copy of a slice from a DataFrame.\n",
      "Try using .loc[row_indexer,col_indexer] = value instead\n",
      "\n",
      "See the caveats in the documentation: https://pandas.pydata.org/pandas-docs/stable/user_guide/indexing.html#returning-a-view-versus-a-copy\n",
      "  rec10['cos_sim'] = cosine_sim\n"
     ]
    },
    {
     "data": {
      "text/html": [
       "<div>\n",
       "<style scoped>\n",
       "    .dataframe tbody tr th:only-of-type {\n",
       "        vertical-align: middle;\n",
       "    }\n",
       "\n",
       "    .dataframe tbody tr th {\n",
       "        vertical-align: top;\n",
       "    }\n",
       "\n",
       "    .dataframe thead th {\n",
       "        text-align: right;\n",
       "    }\n",
       "</style>\n",
       "<table border=\"1\" class=\"dataframe\">\n",
       "  <thead>\n",
       "    <tr style=\"text-align: right;\">\n",
       "      <th></th>\n",
       "      <th>book_title</th>\n",
       "      <th>Category</th>\n",
       "      <th>Information</th>\n",
       "      <th>age_group</th>\n",
       "      <th>cos_sim</th>\n",
       "    </tr>\n",
       "  </thead>\n",
       "  <tbody>\n",
       "    <tr>\n",
       "      <th>567697</th>\n",
       "      <td>At Point Blank: A Suspense Novel</td>\n",
       "      <td>['Fiction']</td>\n",
       "      <td>fiction in a series as danger stalks point bl...</td>\n",
       "      <td>30대</td>\n",
       "      <td>1.000000</td>\n",
       "    </tr>\n",
       "    <tr>\n",
       "      <th>566902</th>\n",
       "      <td>All Men Are Brothers / Shui Hu Chuan</td>\n",
       "      <td>['Fiction']</td>\n",
       "      <td>fiction a band of men become robbers when the...</td>\n",
       "      <td>30대</td>\n",
       "      <td>1.000000</td>\n",
       "    </tr>\n",
       "    <tr>\n",
       "      <th>313239</th>\n",
       "      <td>Killer's Wake</td>\n",
       "      <td>['Fiction']</td>\n",
       "      <td>fiction despite the lure of the sea the heir ...</td>\n",
       "      <td>30대</td>\n",
       "      <td>0.774078</td>\n",
       "    </tr>\n",
       "    <tr>\n",
       "      <th>408839</th>\n",
       "      <td>The Vampire Papers</td>\n",
       "      <td>['Fiction']</td>\n",
       "      <td>fiction the sequel to i vampire finds the mal...</td>\n",
       "      <td>30대</td>\n",
       "      <td>0.593977</td>\n",
       "    </tr>\n",
       "    <tr>\n",
       "      <th>566209</th>\n",
       "      <td>Queer Fear: Gay Horror Fiction</td>\n",
       "      <td>['Fiction']</td>\n",
       "      <td>fiction a lambda award nominated anthology of...</td>\n",
       "      <td>30대</td>\n",
       "      <td>0.431756</td>\n",
       "    </tr>\n",
       "  </tbody>\n",
       "</table>\n",
       "</div>"
      ],
      "text/plain": [
       "                                  book_title     Category  \\\n",
       "567697      At Point Blank: A Suspense Novel  ['Fiction']   \n",
       "566902  All Men Are Brothers / Shui Hu Chuan  ['Fiction']   \n",
       "313239                         Killer's Wake  ['Fiction']   \n",
       "408839                    The Vampire Papers  ['Fiction']   \n",
       "566209        Queer Fear: Gay Horror Fiction  ['Fiction']   \n",
       "\n",
       "                                              Information age_group   cos_sim  \n",
       "567697   fiction in a series as danger stalks point bl...       30대  1.000000  \n",
       "566902   fiction a band of men become robbers when the...       30대  1.000000  \n",
       "313239   fiction despite the lure of the sea the heir ...       30대  0.774078  \n",
       "408839   fiction the sequel to i vampire finds the mal...       30대  0.593977  \n",
       "566209   fiction a lambda award nominated anthology of...       30대  0.431756  "
      ]
     },
     "execution_count": 105,
     "metadata": {},
     "output_type": "execute_result"
    }
   ],
   "source": [
    "get_rec_book(278854)"
   ]
  }
 ],
 "metadata": {
  "kernelspec": {
   "display_name": "Python 3",
   "language": "python",
   "name": "python3"
  },
  "language_info": {
   "codemirror_mode": {
    "name": "ipython",
    "version": 3
   },
   "file_extension": ".py",
   "mimetype": "text/x-python",
   "name": "python",
   "nbconvert_exporter": "python",
   "pygments_lexer": "ipython3",
   "version": "3.8.2"
  }
 },
 "nbformat": 4,
 "nbformat_minor": 4
}
