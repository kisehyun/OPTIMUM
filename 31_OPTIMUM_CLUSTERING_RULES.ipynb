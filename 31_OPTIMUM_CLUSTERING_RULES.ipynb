{
 "cells": [
  {
   "cell_type": "code",
   "execution_count": 286,
   "id": "212ad57c",
   "metadata": {},
   "outputs": [],
   "source": [
    "import pandas as pd\n",
    "import numpy as np\n",
    "\n",
    "from mlxtend.preprocessing import TransactionEncoder\n",
    "from mlxtend.frequent_patterns import apriori, association_rules\n",
    "\n",
    "from sklearn.cluster import KMeans\n",
    "\n",
    "import warnings\n",
    "warnings.filterwarnings('ignore')\n",
    "\n",
    "import matplotlib.pyplot as plt\n",
    "import matplotlib.cm as cm\n",
    "import seaborn as sns\n",
    "from matplotlib import rc\n",
    "rc('font', family='AppleGothic') \n",
    "plt.rcParams['axes.unicode_minus'] = False\n",
    "%matplotlib inline\n",
    "\n",
    "from sklearn.metrics import silhouette_samples, silhouette_score\n",
    "\n",
    "import math"
   ]
  },
  {
   "cell_type": "markdown",
   "id": "9fd2229c",
   "metadata": {},
   "source": [
    "# 군집분석"
   ]
  },
  {
   "cell_type": "code",
   "execution_count": 164,
   "id": "126fbbda",
   "metadata": {},
   "outputs": [],
   "source": [
    "cus = pd.read_pickle('Customers.pkl')"
   ]
  },
  {
   "cell_type": "code",
   "execution_count": 165,
   "id": "5048fc6e",
   "metadata": {},
   "outputs": [],
   "source": [
    "ts = pd.read_pickle('Transactions.pkl')"
   ]
  },
  {
   "cell_type": "code",
   "execution_count": 166,
   "id": "82bfd059",
   "metadata": {},
   "outputs": [],
   "source": [
    "ts.index = range(ts.shape[0])"
   ]
  },
  {
   "cell_type": "code",
   "execution_count": 167,
   "id": "58d0b7b9",
   "metadata": {},
   "outputs": [],
   "source": [
    "data = pd.merge(ts, cus)"
   ]
  },
  {
   "cell_type": "markdown",
   "id": "976d282f",
   "metadata": {},
   "source": [
    "### Feature 생성"
   ]
  },
  {
   "cell_type": "code",
   "execution_count": 168,
   "id": "a1430eb4",
   "metadata": {},
   "outputs": [],
   "source": [
    "data['datetime'] = pd.to_datetime(data['datetime'])"
   ]
  },
  {
   "cell_type": "code",
   "execution_count": 169,
   "id": "f87287aa",
   "metadata": {},
   "outputs": [],
   "source": [
    "data['month'] = data['datetime'].dt.month\n",
    "data['hour'] = data['datetime'].dt.hour\n",
    "data['day'] = data['datetime'].dt.day_name().str[:3]"
   ]
  },
  {
   "cell_type": "code",
   "execution_count": 170,
   "id": "e724aa64",
   "metadata": {},
   "outputs": [],
   "source": [
    "data['weekend'] = [\"주말\" if value in ['Sun', 'Sat'] else \"평일\" for value in data['day']]"
   ]
  },
  {
   "cell_type": "code",
   "execution_count": 171,
   "id": "6246cc52",
   "metadata": {},
   "outputs": [],
   "source": [
    "id_g = data.groupby('custid')"
   ]
  },
  {
   "cell_type": "code",
   "execution_count": 174,
   "id": "d944c849",
   "metadata": {},
   "outputs": [],
   "source": [
    "cp1 = id_g.size().reset_index(name = '구매횟수')"
   ]
  },
  {
   "cell_type": "code",
   "execution_count": 175,
   "id": "bd554b09",
   "metadata": {},
   "outputs": [],
   "source": [
    "cp2 = id_g.brand.nunique().reset_index(name = '구매브랜드수')"
   ]
  },
  {
   "cell_type": "code",
   "execution_count": 185,
   "id": "d5605811",
   "metadata": {},
   "outputs": [],
   "source": [
    "cp3 = id_g.corner.nunique().reset_index(name = '구매코너수')"
   ]
  },
  {
   "cell_type": "code",
   "execution_count": 178,
   "id": "697456cc",
   "metadata": {},
   "outputs": [],
   "source": [
    "cp4 = pd.crosstab(data.custid, data['weekend']).reset_index()\n",
    "cp4.index.name = None\n",
    "cp4.columns.name = None"
   ]
  },
  {
   "cell_type": "code",
   "execution_count": 179,
   "id": "2b527c82",
   "metadata": {},
   "outputs": [],
   "source": [
    "cp4['주말비율'] = cp4.주말 / cp1.구매횟수"
   ]
  },
  {
   "cell_type": "code",
   "execution_count": 180,
   "id": "c0d81716",
   "metadata": {},
   "outputs": [],
   "source": [
    "cp4.drop(['주말', '평일'], axis = 1, inplace = True)"
   ]
  },
  {
   "cell_type": "code",
   "execution_count": 182,
   "id": "1c097e97",
   "metadata": {
    "scrolled": true
   },
   "outputs": [],
   "source": [
    "cp5 = pd.crosstab(data.custid, data['import']).reset_index()\n",
    "cp5.index.name = None\n",
    "cp5.columns.name = None"
   ]
  },
  {
   "cell_type": "code",
   "execution_count": 183,
   "id": "3072d266",
   "metadata": {},
   "outputs": [],
   "source": [
    "cp5['수입상품비율'] = cp5.iloc[:, 2] / cp1.구매횟수"
   ]
  },
  {
   "cell_type": "code",
   "execution_count": 184,
   "id": "7735c46c",
   "metadata": {},
   "outputs": [],
   "source": [
    "cp5 = cp5.iloc[:, [0, -1]]"
   ]
  },
  {
   "cell_type": "code",
   "execution_count": 187,
   "id": "7cf8dd98",
   "metadata": {},
   "outputs": [],
   "source": [
    "cp6 = id_g.hour.mean().reset_index(name = '평균구매시간')"
   ]
  },
  {
   "cell_type": "code",
   "execution_count": 188,
   "id": "7aab7d2e",
   "metadata": {},
   "outputs": [],
   "source": [
    "cp7 = id_g.installment.mean().reset_index(name = '평균할부개월수')"
   ]
  },
  {
   "cell_type": "code",
   "execution_count": 205,
   "id": "aa5b8155",
   "metadata": {},
   "outputs": [],
   "source": [
    "cp8 = id_g.datetime.agg(lambda x : (x.max() - x.min()).days).reset_index(name = '경과일수')"
   ]
  },
  {
   "cell_type": "code",
   "execution_count": 206,
   "id": "e51c1564",
   "metadata": {},
   "outputs": [],
   "source": [
    "cp8['평균방문주기'] = cp8.경과일수 / cp1.구매횟수"
   ]
  },
  {
   "cell_type": "code",
   "execution_count": 219,
   "id": "5342784d",
   "metadata": {},
   "outputs": [],
   "source": [
    "cp9 = id_g.amount.mean().reset_index(name = '평균구매금액')"
   ]
  },
  {
   "cell_type": "code",
   "execution_count": 220,
   "id": "c10aa685",
   "metadata": {},
   "outputs": [],
   "source": [
    "ins_cnt = pd.crosstab(data['custid'], data['installment']).reset_index()\n",
    "ins_cnt.index.name = None\n",
    "ins_cnt.columns.name = None"
   ]
  },
  {
   "cell_type": "code",
   "execution_count": 221,
   "id": "1e382180",
   "metadata": {},
   "outputs": [],
   "source": [
    "ins_cnt['할부구매비율'] = ins_cnt.iloc[:, 1] / ins_cnt.iloc[:, 1:].sum(axis = 1)"
   ]
  },
  {
   "cell_type": "code",
   "execution_count": 222,
   "id": "c511e5b5",
   "metadata": {},
   "outputs": [],
   "source": [
    "cp10 = ins_cnt.iloc[:, [0, -1]]"
   ]
  },
  {
   "cell_type": "markdown",
   "id": "82fe960f",
   "metadata": {},
   "source": [
    "### Data 병합"
   ]
  },
  {
   "cell_type": "code",
   "execution_count": 223,
   "id": "b11bbe63",
   "metadata": {},
   "outputs": [],
   "source": [
    "df = pd.merge(cp1, cp2, how = 'left')\n",
    "df = pd.merge(df, cp3, how = 'left')\n",
    "df = pd.merge(df, cp4, how = 'left')\n",
    "df = pd.merge(df, cp5, how = 'left')\n",
    "df = pd.merge(df, cp6, how = 'left')\n",
    "df = pd.merge(df, cp7, how = 'left')\n",
    "df = pd.merge(df, cp8, how = 'left')\n",
    "df = pd.merge(df, cp9, how = 'left')\n",
    "df = pd.merge(df, cp10, how = 'left')"
   ]
  },
  {
   "cell_type": "code",
   "execution_count": 224,
   "id": "5ddb9a68",
   "metadata": {},
   "outputs": [],
   "source": [
    "data['age'] = 2021 - data['birth'].str[:4].astype(int)"
   ]
  },
  {
   "cell_type": "code",
   "execution_count": 225,
   "id": "d40a0675",
   "metadata": {},
   "outputs": [],
   "source": [
    "data = data.drop('birth', axis = 1)"
   ]
  },
  {
   "cell_type": "markdown",
   "id": "ad772f31",
   "metadata": {},
   "source": [
    "### 데이터 스케일링"
   ]
  },
  {
   "cell_type": "code",
   "execution_count": 226,
   "id": "6840ecd7",
   "metadata": {},
   "outputs": [],
   "source": [
    "from sklearn.preprocessing import MinMaxScaler"
   ]
  },
  {
   "cell_type": "code",
   "execution_count": 227,
   "id": "ed59a670",
   "metadata": {},
   "outputs": [],
   "source": [
    "scaler = MinMaxScaler()"
   ]
  },
  {
   "cell_type": "code",
   "execution_count": 260,
   "id": "cdd270e4",
   "metadata": {},
   "outputs": [],
   "source": [
    "data = pd.DataFrame(scaler.fit_transform(df.iloc[:, 1:]), columns = df.columns[1:], index = df.custid)"
   ]
  },
  {
   "cell_type": "code",
   "execution_count": 262,
   "id": "35ed3823",
   "metadata": {},
   "outputs": [
    {
     "data": {
      "text/html": [
       "<div>\n",
       "<style scoped>\n",
       "    .dataframe tbody tr th:only-of-type {\n",
       "        vertical-align: middle;\n",
       "    }\n",
       "\n",
       "    .dataframe tbody tr th {\n",
       "        vertical-align: top;\n",
       "    }\n",
       "\n",
       "    .dataframe thead th {\n",
       "        text-align: right;\n",
       "    }\n",
       "</style>\n",
       "<table border=\"1\" class=\"dataframe\">\n",
       "  <thead>\n",
       "    <tr style=\"text-align: right;\">\n",
       "      <th></th>\n",
       "      <th>구매횟수</th>\n",
       "      <th>구매브랜드수</th>\n",
       "      <th>구매코너수</th>\n",
       "      <th>주말비율</th>\n",
       "      <th>수입상품비율</th>\n",
       "      <th>평균구매시간</th>\n",
       "      <th>평균할부개월수</th>\n",
       "      <th>경과일수</th>\n",
       "      <th>평균방문주기</th>\n",
       "      <th>평균구매금액</th>\n",
       "      <th>할부구매비율</th>\n",
       "    </tr>\n",
       "    <tr>\n",
       "      <th>custid</th>\n",
       "      <th></th>\n",
       "      <th></th>\n",
       "      <th></th>\n",
       "      <th></th>\n",
       "      <th></th>\n",
       "      <th></th>\n",
       "      <th></th>\n",
       "      <th></th>\n",
       "      <th></th>\n",
       "      <th></th>\n",
       "      <th></th>\n",
       "    </tr>\n",
       "  </thead>\n",
       "  <tbody>\n",
       "    <tr>\n",
       "      <th>16</th>\n",
       "      <td>0.038128</td>\n",
       "      <td>0.116667</td>\n",
       "      <td>0.391304</td>\n",
       "      <td>0.147059</td>\n",
       "      <td>0.184492</td>\n",
       "      <td>0.651584</td>\n",
       "      <td>0.323255</td>\n",
       "      <td>0.477901</td>\n",
       "      <td>0.168927</td>\n",
       "      <td>0.056181</td>\n",
       "      <td>0.264706</td>\n",
       "    </tr>\n",
       "    <tr>\n",
       "      <th>29</th>\n",
       "      <td>0.012132</td>\n",
       "      <td>0.038889</td>\n",
       "      <td>0.217391</td>\n",
       "      <td>0.894737</td>\n",
       "      <td>0.055024</td>\n",
       "      <td>0.714980</td>\n",
       "      <td>0.151500</td>\n",
       "      <td>0.464088</td>\n",
       "      <td>0.295506</td>\n",
       "      <td>0.044830</td>\n",
       "      <td>0.421053</td>\n",
       "    </tr>\n",
       "    <tr>\n",
       "      <th>33</th>\n",
       "      <td>0.076256</td>\n",
       "      <td>0.138889</td>\n",
       "      <td>0.478261</td>\n",
       "      <td>0.642857</td>\n",
       "      <td>0.149351</td>\n",
       "      <td>0.599084</td>\n",
       "      <td>0.144860</td>\n",
       "      <td>0.345304</td>\n",
       "      <td>0.072825</td>\n",
       "      <td>0.058841</td>\n",
       "      <td>0.517857</td>\n",
       "    </tr>\n",
       "    <tr>\n",
       "      <th>34</th>\n",
       "      <td>0.019064</td>\n",
       "      <td>0.077778</td>\n",
       "      <td>0.391304</td>\n",
       "      <td>0.826087</td>\n",
       "      <td>0.090909</td>\n",
       "      <td>0.705686</td>\n",
       "      <td>0.204795</td>\n",
       "      <td>0.381215</td>\n",
       "      <td>0.199953</td>\n",
       "      <td>0.052365</td>\n",
       "      <td>0.217391</td>\n",
       "    </tr>\n",
       "    <tr>\n",
       "      <th>50</th>\n",
       "      <td>0.041594</td>\n",
       "      <td>0.138889</td>\n",
       "      <td>0.521739</td>\n",
       "      <td>0.500000</td>\n",
       "      <td>0.000000</td>\n",
       "      <td>0.705413</td>\n",
       "      <td>0.185358</td>\n",
       "      <td>0.911602</td>\n",
       "      <td>0.305550</td>\n",
       "      <td>0.061918</td>\n",
       "      <td>0.333333</td>\n",
       "    </tr>\n",
       "  </tbody>\n",
       "</table>\n",
       "</div>"
      ],
      "text/plain": [
       "            구매횟수    구매브랜드수     구매코너수      주말비율    수입상품비율    평균구매시간   평균할부개월수  \\\n",
       "custid                                                                         \n",
       "16      0.038128  0.116667  0.391304  0.147059  0.184492  0.651584  0.323255   \n",
       "29      0.012132  0.038889  0.217391  0.894737  0.055024  0.714980  0.151500   \n",
       "33      0.076256  0.138889  0.478261  0.642857  0.149351  0.599084  0.144860   \n",
       "34      0.019064  0.077778  0.391304  0.826087  0.090909  0.705686  0.204795   \n",
       "50      0.041594  0.138889  0.521739  0.500000  0.000000  0.705413  0.185358   \n",
       "\n",
       "            경과일수    평균방문주기    평균구매금액    할부구매비율  \n",
       "custid                                          \n",
       "16      0.477901  0.168927  0.056181  0.264706  \n",
       "29      0.464088  0.295506  0.044830  0.421053  \n",
       "33      0.345304  0.072825  0.058841  0.517857  \n",
       "34      0.381215  0.199953  0.052365  0.217391  \n",
       "50      0.911602  0.305550  0.061918  0.333333  "
      ]
     },
     "execution_count": 262,
     "metadata": {},
     "output_type": "execute_result"
    }
   ],
   "source": [
    "data.head()"
   ]
  },
  {
   "cell_type": "markdown",
   "id": "c054640f",
   "metadata": {},
   "source": [
    "### 군집화 결과 시각화"
   ]
  },
  {
   "cell_type": "code",
   "execution_count": 258,
   "id": "ec393e50",
   "metadata": {},
   "outputs": [],
   "source": [
    "def visualize_silhouette(cluster_list, X) : \n",
    "\n",
    "    for n_cluster in cluster_list :\n",
    "\n",
    "        plt.xlim([-0.1, 1])\n",
    "        plt.ylim([0, len(X) + (n_cluster + 1) * 10])\n",
    "        clusterer = KMeans(n_clusters = n_cluster, random_state = 42)\n",
    "        cluster_labels = clusterer.fit_predict(X)\n",
    "\n",
    "        silhouette_avg = silhouette_score(X, cluster_labels)\n",
    "        print(\"For n_clusters =\", n_cluster,\n",
    "              \"The average silhouette_score is :\", silhouette_avg)\n",
    "\n",
    "        sample_silhouette_values = silhouette_samples(X, cluster_labels)\n",
    "\n",
    "        y_lower = 10\n",
    "        for i in range(n_cluster):\n",
    "            ith_cluster_silhouette_values = \\\n",
    "                sample_silhouette_values[cluster_labels == i]\n",
    "\n",
    "            ith_cluster_silhouette_values.sort()\n",
    "\n",
    "            size_cluster_i = ith_cluster_silhouette_values.shape[0]\n",
    "            y_upper = y_lower + size_cluster_i\n",
    "\n",
    "            color = cm.nipy_spectral(float(i) / n_cluster)\n",
    "            plt.fill_betweenx(np.arange(y_lower, y_upper),\n",
    "                              0, ith_cluster_silhouette_values,\n",
    "                              facecolor = color, edgecolor = color, alpha = 0.7)\n",
    "\n",
    "            plt.text(-0.05, y_lower + 0.5 * size_cluster_i, str(i))\n",
    "\n",
    "            y_lower = y_upper + 10\n",
    "\n",
    "            plt.title(\"The silhouette plot for the various clusters.\")\n",
    "            plt.xlabel(\"The silhouette coefficient values\")\n",
    "            plt.ylabel(\"Cluster label\")\n",
    "            plt.axvline(x = silhouette_avg, color = \"red\", linestyle = \"--\")\n",
    "            plt.yticks([])\n",
    "            plt.xticks([-0.1, 0, 0.2, 0.4, 0.6, 0.8, 1])\n",
    "\n",
    "        plt.show()"
   ]
  },
  {
   "cell_type": "code",
   "execution_count": 259,
   "id": "728a9b68",
   "metadata": {},
   "outputs": [
    {
     "name": "stdout",
     "output_type": "stream",
     "text": [
      "For n_clusters = 5 The average silhouette_score is : 0.5189018433401442\n"
     ]
    },
    {
     "data": {
      "image/png": "[encoded data removed]",
      "text/plain": [
       "<Figure size 432x288 with 1 Axes>"
      ]
     },
     "metadata": {
      "needs_background": "light"
     },
     "output_type": "display_data"
    },
    {
     "name": "stdout",
     "output_type": "stream",
     "text": [
      "For n_clusters = 7 The average silhouette_score is : 0.6195650635665254\n"
     ]
    },
    {
     "data": {
      "image/png": "[encoded data removed]",
      "text/plain": [
       "<Figure size 432x288 with 1 Axes>"
      ]
     },
     "metadata": {
      "needs_background": "light"
     },
     "output_type": "display_data"
    }
   ],
   "source": [
    "visualize_silhouette([5, 7], data)"
   ]
  },
  {
   "cell_type": "markdown",
   "id": "41cbbf38",
   "metadata": {},
   "source": [
    "군집 갯수가 7일 때 실루엣 계수가 더 높은 것을 알 수 있습니다.\n",
    "\n",
    "이후 군집 수를 7로 설정하고 군집화를 진행합니다."
   ]
  },
  {
   "cell_type": "code",
   "execution_count": 265,
   "id": "81db5d35",
   "metadata": {},
   "outputs": [],
   "source": [
    "km = KMeans(n_clusters = 7, random_state = 42)"
   ]
  },
  {
   "cell_type": "code",
   "execution_count": 268,
   "id": "ac49a080",
   "metadata": {},
   "outputs": [],
   "source": [
    "data['cluster'] = km.fit_predict(data)"
   ]
  },
  {
   "cell_type": "code",
   "execution_count": 287,
   "id": "702dfa60",
   "metadata": {
    "scrolled": false
   },
   "outputs": [
    {
     "data": {
      "image/png": "[encoded data removed]",
      "text/plain": [
       "<Figure size 432x288 with 1 Axes>"
      ]
     },
     "metadata": {
      "needs_background": "light"
     },
     "output_type": "display_data"
    },
    {
     "data": {
      "image/png": "[encoded data removed]",
      "text/plain": [
       "<Figure size 432x288 with 1 Axes>"
      ]
     },
     "metadata": {
      "needs_background": "light"
     },
     "output_type": "display_data"
    },
    {
     "data": {
      "image/png": "[encoded data removed]",
      "text/plain": [
       "<Figure size 432x288 with 1 Axes>"
      ]
     },
     "metadata": {
      "needs_background": "light"
     },
     "output_type": "display_data"
    },
    {
     "data": {
      "image/png": "[encoded data removed]",
      "text/plain": [
       "<Figure size 432x288 with 1 Axes>"
      ]
     },
     "metadata": {
      "needs_background": "light"
     },
     "output_type": "display_data"
    },
    {
     "data": {
      "image/png": "[encoded data removed]",
      "text/plain": [
       "<Figure size 432x288 with 1 Axes>"
      ]
     },
     "metadata": {
      "needs_background": "light"
     },
     "output_type": "display_data"
    },
    {
     "data": {
      "image/png": "[encoded data removed]",
      "text/plain": [
       "<Figure size 432x288 with 1 Axes>"
      ]
     },
     "metadata": {
      "needs_background": "light"
     },
     "output_type": "display_data"
    },
    {
     "data": {
      "image/png": "[encoded data removed]",
      "text/plain": [
       "<Figure size 432x288 with 1 Axes>"
      ]
     },
     "metadata": {
      "needs_background": "light"
     },
     "output_type": "display_data"
    },
    {
     "data": {
      "image/png": "[encoded data removed]",
      "text/plain": [
       "<Figure size 432x288 with 1 Axes>"
      ]
     },
     "metadata": {
      "needs_background": "light"
     },
     "output_type": "display_data"
    },
    {
     "data": {
      "image/png": "[encoded data removed]",
      "text/plain": [
       "<Figure size 432x288 with 1 Axes>"
      ]
     },
     "metadata": {
      "needs_background": "light"
     },
     "output_type": "display_data"
    },
    {
     "data": {
      "image/png": "[encoded data removed]",
      "text/plain": [
       "<Figure size 432x288 with 1 Axes>"
      ]
     },
     "metadata": {
      "needs_background": "light"
     },
     "output_type": "display_data"
    },
    {
     "data": {
      "image/png": "[encoded data removed]",
      "text/plain": [
       "<Figure size 432x288 with 1 Axes>"
      ]
     },
     "metadata": {
      "needs_background": "light"
     },
     "output_type": "display_data"
    }
   ],
   "source": [
    "for col in data.columns[:-1] :\n",
    "    plt.title(f'군집별 {col} 비교')\n",
    "    result = data.groupby('cluster')[col].mean().reset_index()\n",
    "    sns.barplot(result.cluster, result[col], edgecolor = (0, 0, 0))\n",
    "    plt.show()"
   ]
  },
  {
   "cell_type": "code",
   "execution_count": 288,
   "id": "ac030b26",
   "metadata": {},
   "outputs": [
    {
     "data": {
      "text/html": [
       "<div>\n",
       "<style scoped>\n",
       "    .dataframe tbody tr th:only-of-type {\n",
       "        vertical-align: middle;\n",
       "    }\n",
       "\n",
       "    .dataframe tbody tr th {\n",
       "        vertical-align: top;\n",
       "    }\n",
       "\n",
       "    .dataframe thead th {\n",
       "        text-align: right;\n",
       "    }\n",
       "</style>\n",
       "<table border=\"1\" class=\"dataframe\">\n",
       "  <thead>\n",
       "    <tr style=\"text-align: right;\">\n",
       "      <th></th>\n",
       "      <th>구매횟수</th>\n",
       "      <th>구매브랜드수</th>\n",
       "      <th>구매코너수</th>\n",
       "      <th>주말비율</th>\n",
       "      <th>수입상품비율</th>\n",
       "      <th>평균구매시간</th>\n",
       "      <th>평균할부개월수</th>\n",
       "      <th>경과일수</th>\n",
       "      <th>평균방문주기</th>\n",
       "      <th>평균구매금액</th>\n",
       "      <th>할부구매비율</th>\n",
       "      <th>cluster</th>\n",
       "    </tr>\n",
       "    <tr>\n",
       "      <th>custid</th>\n",
       "      <th></th>\n",
       "      <th></th>\n",
       "      <th></th>\n",
       "      <th></th>\n",
       "      <th></th>\n",
       "      <th></th>\n",
       "      <th></th>\n",
       "      <th></th>\n",
       "      <th></th>\n",
       "      <th></th>\n",
       "      <th></th>\n",
       "      <th></th>\n",
       "    </tr>\n",
       "  </thead>\n",
       "  <tbody>\n",
       "    <tr>\n",
       "      <th>16</th>\n",
       "      <td>0.038128</td>\n",
       "      <td>0.116667</td>\n",
       "      <td>0.391304</td>\n",
       "      <td>0.147059</td>\n",
       "      <td>0.184492</td>\n",
       "      <td>0.651584</td>\n",
       "      <td>0.323255</td>\n",
       "      <td>0.477901</td>\n",
       "      <td>0.168927</td>\n",
       "      <td>0.056181</td>\n",
       "      <td>0.264706</td>\n",
       "      <td>0</td>\n",
       "    </tr>\n",
       "    <tr>\n",
       "      <th>29</th>\n",
       "      <td>0.012132</td>\n",
       "      <td>0.038889</td>\n",
       "      <td>0.217391</td>\n",
       "      <td>0.894737</td>\n",
       "      <td>0.055024</td>\n",
       "      <td>0.714980</td>\n",
       "      <td>0.151500</td>\n",
       "      <td>0.464088</td>\n",
       "      <td>0.295506</td>\n",
       "      <td>0.044830</td>\n",
       "      <td>0.421053</td>\n",
       "      <td>6</td>\n",
       "    </tr>\n",
       "    <tr>\n",
       "      <th>33</th>\n",
       "      <td>0.076256</td>\n",
       "      <td>0.138889</td>\n",
       "      <td>0.478261</td>\n",
       "      <td>0.642857</td>\n",
       "      <td>0.149351</td>\n",
       "      <td>0.599084</td>\n",
       "      <td>0.144860</td>\n",
       "      <td>0.345304</td>\n",
       "      <td>0.072825</td>\n",
       "      <td>0.058841</td>\n",
       "      <td>0.517857</td>\n",
       "      <td>0</td>\n",
       "    </tr>\n",
       "    <tr>\n",
       "      <th>34</th>\n",
       "      <td>0.019064</td>\n",
       "      <td>0.077778</td>\n",
       "      <td>0.391304</td>\n",
       "      <td>0.826087</td>\n",
       "      <td>0.090909</td>\n",
       "      <td>0.705686</td>\n",
       "      <td>0.204795</td>\n",
       "      <td>0.381215</td>\n",
       "      <td>0.199953</td>\n",
       "      <td>0.052365</td>\n",
       "      <td>0.217391</td>\n",
       "      <td>6</td>\n",
       "    </tr>\n",
       "    <tr>\n",
       "      <th>50</th>\n",
       "      <td>0.041594</td>\n",
       "      <td>0.138889</td>\n",
       "      <td>0.521739</td>\n",
       "      <td>0.500000</td>\n",
       "      <td>0.000000</td>\n",
       "      <td>0.705413</td>\n",
       "      <td>0.185358</td>\n",
       "      <td>0.911602</td>\n",
       "      <td>0.305550</td>\n",
       "      <td>0.061918</td>\n",
       "      <td>0.333333</td>\n",
       "      <td>2</td>\n",
       "    </tr>\n",
       "    <tr>\n",
       "      <th>...</th>\n",
       "      <td>...</td>\n",
       "      <td>...</td>\n",
       "      <td>...</td>\n",
       "      <td>...</td>\n",
       "      <td>...</td>\n",
       "      <td>...</td>\n",
       "      <td>...</td>\n",
       "      <td>...</td>\n",
       "      <td>...</td>\n",
       "      <td>...</td>\n",
       "      <td>...</td>\n",
       "      <td>...</td>\n",
       "    </tr>\n",
       "    <tr>\n",
       "      <th>49985</th>\n",
       "      <td>0.095321</td>\n",
       "      <td>0.088889</td>\n",
       "      <td>0.478261</td>\n",
       "      <td>0.283582</td>\n",
       "      <td>0.046811</td>\n",
       "      <td>0.420742</td>\n",
       "      <td>0.062491</td>\n",
       "      <td>0.953039</td>\n",
       "      <td>0.170486</td>\n",
       "      <td>0.054857</td>\n",
       "      <td>0.761194</td>\n",
       "      <td>3</td>\n",
       "    </tr>\n",
       "    <tr>\n",
       "      <th>49992</th>\n",
       "      <td>0.008666</td>\n",
       "      <td>0.033333</td>\n",
       "      <td>0.217391</td>\n",
       "      <td>0.235294</td>\n",
       "      <td>0.676471</td>\n",
       "      <td>0.429261</td>\n",
       "      <td>0.015393</td>\n",
       "      <td>0.814917</td>\n",
       "      <td>0.580931</td>\n",
       "      <td>0.046659</td>\n",
       "      <td>0.941176</td>\n",
       "      <td>5</td>\n",
       "    </tr>\n",
       "    <tr>\n",
       "      <th>49994</th>\n",
       "      <td>0.169844</td>\n",
       "      <td>0.266667</td>\n",
       "      <td>0.565217</td>\n",
       "      <td>0.263636</td>\n",
       "      <td>0.209091</td>\n",
       "      <td>0.432821</td>\n",
       "      <td>0.443670</td>\n",
       "      <td>0.997238</td>\n",
       "      <td>0.107708</td>\n",
       "      <td>0.062512</td>\n",
       "      <td>0.245455</td>\n",
       "      <td>2</td>\n",
       "    </tr>\n",
       "    <tr>\n",
       "      <th>49997</th>\n",
       "      <td>0.058925</td>\n",
       "      <td>0.105556</td>\n",
       "      <td>0.434783</td>\n",
       "      <td>0.434783</td>\n",
       "      <td>0.295455</td>\n",
       "      <td>0.610033</td>\n",
       "      <td>0.034132</td>\n",
       "      <td>0.977901</td>\n",
       "      <td>0.256050</td>\n",
       "      <td>0.091373</td>\n",
       "      <td>0.869565</td>\n",
       "      <td>3</td>\n",
       "    </tr>\n",
       "    <tr>\n",
       "      <th>49998</th>\n",
       "      <td>0.043328</td>\n",
       "      <td>0.111111</td>\n",
       "      <td>0.434783</td>\n",
       "      <td>0.567568</td>\n",
       "      <td>0.056511</td>\n",
       "      <td>0.688981</td>\n",
       "      <td>0.077797</td>\n",
       "      <td>0.944751</td>\n",
       "      <td>0.308091</td>\n",
       "      <td>0.044286</td>\n",
       "      <td>0.702703</td>\n",
       "      <td>6</td>\n",
       "    </tr>\n",
       "  </tbody>\n",
       "</table>\n",
       "<p>18341 rows × 12 columns</p>\n",
       "</div>"
      ],
      "text/plain": [
       "            구매횟수    구매브랜드수     구매코너수      주말비율    수입상품비율    평균구매시간   평균할부개월수  \\\n",
       "custid                                                                         \n",
       "16      0.038128  0.116667  0.391304  0.147059  0.184492  0.651584  0.323255   \n",
       "29      0.012132  0.038889  0.217391  0.894737  0.055024  0.714980  0.151500   \n",
       "33      0.076256  0.138889  0.478261  0.642857  0.149351  0.599084  0.144860   \n",
       "34      0.019064  0.077778  0.391304  0.826087  0.090909  0.705686  0.204795   \n",
       "50      0.041594  0.138889  0.521739  0.500000  0.000000  0.705413  0.185358   \n",
       "...          ...       ...       ...       ...       ...       ...       ...   \n",
       "49985   0.095321  0.088889  0.478261  0.283582  0.046811  0.420742  0.062491   \n",
       "49992   0.008666  0.033333  0.217391  0.235294  0.676471  0.429261  0.015393   \n",
       "49994   0.169844  0.266667  0.565217  0.263636  0.209091  0.432821  0.443670   \n",
       "49997   0.058925  0.105556  0.434783  0.434783  0.295455  0.610033  0.034132   \n",
       "49998   0.043328  0.111111  0.434783  0.567568  0.056511  0.688981  0.077797   \n",
       "\n",
       "            경과일수    평균방문주기    평균구매금액    할부구매비율  cluster  \n",
       "custid                                                   \n",
       "16      0.477901  0.168927  0.056181  0.264706        0  \n",
       "29      0.464088  0.295506  0.044830  0.421053        6  \n",
       "33      0.345304  0.072825  0.058841  0.517857        0  \n",
       "34      0.381215  0.199953  0.052365  0.217391        6  \n",
       "50      0.911602  0.305550  0.061918  0.333333        2  \n",
       "...          ...       ...       ...       ...      ...  \n",
       "49985   0.953039  0.170486  0.054857  0.761194        3  \n",
       "49992   0.814917  0.580931  0.046659  0.941176        5  \n",
       "49994   0.997238  0.107708  0.062512  0.245455        2  \n",
       "49997   0.977901  0.256050  0.091373  0.869565        3  \n",
       "49998   0.944751  0.308091  0.044286  0.702703        6  \n",
       "\n",
       "[18341 rows x 12 columns]"
      ]
     },
     "execution_count": 288,
     "metadata": {},
     "output_type": "execute_result"
    }
   ],
   "source": [
    "data"
   ]
  },
  {
   "cell_type": "markdown",
   "id": "309b2255",
   "metadata": {},
   "source": [
    "\n",
    "***\n",
    "# 연관분석"
   ]
  },
  {
   "cell_type": "code",
   "execution_count": 142,
   "id": "c13ece36",
   "metadata": {},
   "outputs": [],
   "source": [
    "def get_time(x) :\n",
    "    if x <= 12 :\n",
    "        return '아침'\n",
    "    elif 13 <= x < 18 :\n",
    "        return '오후'\n",
    "    else :\n",
    "        return '저녁'"
   ]
  },
  {
   "cell_type": "code",
   "execution_count": 143,
   "id": "310305e1",
   "metadata": {},
   "outputs": [],
   "source": [
    "ts['datetime'] = pd.to_datetime(ts['datetime'])"
   ]
  },
  {
   "cell_type": "code",
   "execution_count": 144,
   "id": "cc06421a",
   "metadata": {},
   "outputs": [],
   "source": [
    "ts['hour'] = ts.datetime.dt.hour"
   ]
  },
  {
   "cell_type": "code",
   "execution_count": 145,
   "id": "e490c685",
   "metadata": {},
   "outputs": [],
   "source": [
    "ts['hour'] = ts['hour'].apply(get_time)"
   ]
  },
  {
   "cell_type": "code",
   "execution_count": 146,
   "id": "dbcacda1",
   "metadata": {},
   "outputs": [],
   "source": [
    "m = ts[ts.hour == '아침']\n",
    "a = ts[ts.hour == '오후']\n",
    "d = ts[ts.hour == '저녁']"
   ]
  },
  {
   "cell_type": "code",
   "execution_count": 154,
   "id": "33c6c021",
   "metadata": {},
   "outputs": [],
   "source": [
    "def get_rules(data) :\n",
    "    record = data.groupby('custid').corner.apply(lambda x : list(x)).reset_index()\n",
    "    record['cn_cnt'] = record.corner.apply(len)\n",
    "    record = record[record.cn_cnt >= 3]\n",
    "    \n",
    "    te = TransactionEncoder()\n",
    "    te_array = te.fit_transform(record.corner)\n",
    "    df = pd.DataFrame(te_array, columns = te.columns_)\n",
    "    \n",
    "    freq_items = apriori(df, min_support = 0.1, use_colnames = True)\n",
    "    rules = association_rules(freq_items, metric = \"confidence\", min_threshold = .1)\n",
    "    \n",
    "    return freq_items, rules"
   ]
  },
  {
   "cell_type": "code",
   "execution_count": 155,
   "id": "16373d7b",
   "metadata": {},
   "outputs": [],
   "source": [
    "m_f, m_rules = get_rules(m)"
   ]
  },
  {
   "cell_type": "code",
   "execution_count": 156,
   "id": "b8f21566",
   "metadata": {},
   "outputs": [
    {
     "data": {
      "text/html": [
       "<div>\n",
       "<style scoped>\n",
       "    .dataframe tbody tr th:only-of-type {\n",
       "        vertical-align: middle;\n",
       "    }\n",
       "\n",
       "    .dataframe tbody tr th {\n",
       "        vertical-align: top;\n",
       "    }\n",
       "\n",
       "    .dataframe thead th {\n",
       "        text-align: right;\n",
       "    }\n",
       "</style>\n",
       "<table border=\"1\" class=\"dataframe\">\n",
       "  <thead>\n",
       "    <tr style=\"text-align: right;\">\n",
       "      <th></th>\n",
       "      <th>support</th>\n",
       "      <th>itemsets</th>\n",
       "    </tr>\n",
       "  </thead>\n",
       "  <tbody>\n",
       "    <tr>\n",
       "      <th>0</th>\n",
       "      <td>0.128748</td>\n",
       "      <td>(가전)</td>\n",
       "    </tr>\n",
       "    <tr>\n",
       "      <th>1</th>\n",
       "      <td>0.107317</td>\n",
       "      <td>(기타바이어)</td>\n",
       "    </tr>\n",
       "    <tr>\n",
       "      <th>2</th>\n",
       "      <td>0.294980</td>\n",
       "      <td>(니트단품)</td>\n",
       "    </tr>\n",
       "    <tr>\n",
       "      <th>3</th>\n",
       "      <td>0.108540</td>\n",
       "      <td>(도자기크리스탈)</td>\n",
       "    </tr>\n",
       "    <tr>\n",
       "      <th>4</th>\n",
       "      <td>0.224250</td>\n",
       "      <td>(문화완구)</td>\n",
       "    </tr>\n",
       "    <tr>\n",
       "      <th>...</th>\n",
       "      <td>...</td>\n",
       "      <td>...</td>\n",
       "    </tr>\n",
       "    <tr>\n",
       "      <th>76</th>\n",
       "      <td>0.110495</td>\n",
       "      <td>(스포츠, 유아동복, 화장품)</td>\n",
       "    </tr>\n",
       "    <tr>\n",
       "      <th>77</th>\n",
       "      <td>0.154824</td>\n",
       "      <td>(스포츠, 일반식품, 화장품)</td>\n",
       "    </tr>\n",
       "    <tr>\n",
       "      <th>78</th>\n",
       "      <td>0.107399</td>\n",
       "      <td>(영캐주얼, 일반식품, 화장품)</td>\n",
       "    </tr>\n",
       "    <tr>\n",
       "      <th>79</th>\n",
       "      <td>0.124919</td>\n",
       "      <td>(일반식품, 유니캐주얼, 화장품)</td>\n",
       "    </tr>\n",
       "    <tr>\n",
       "      <th>80</th>\n",
       "      <td>0.153276</td>\n",
       "      <td>(일반식품, 유아동복, 화장품)</td>\n",
       "    </tr>\n",
       "  </tbody>\n",
       "</table>\n",
       "<p>81 rows × 2 columns</p>\n",
       "</div>"
      ],
      "text/plain": [
       "     support            itemsets\n",
       "0   0.128748                (가전)\n",
       "1   0.107317             (기타바이어)\n",
       "2   0.294980              (니트단품)\n",
       "3   0.108540           (도자기크리스탈)\n",
       "4   0.224250              (문화완구)\n",
       "..       ...                 ...\n",
       "76  0.110495    (스포츠, 유아동복, 화장품)\n",
       "77  0.154824    (스포츠, 일반식품, 화장품)\n",
       "78  0.107399   (영캐주얼, 일반식품, 화장품)\n",
       "79  0.124919  (일반식품, 유니캐주얼, 화장품)\n",
       "80  0.153276   (일반식품, 유아동복, 화장품)\n",
       "\n",
       "[81 rows x 2 columns]"
      ]
     },
     "execution_count": 156,
     "metadata": {},
     "output_type": "execute_result"
    }
   ],
   "source": [
    "m_f"
   ]
  },
  {
   "cell_type": "code",
   "execution_count": 157,
   "id": "d1818c24",
   "metadata": {
    "scrolled": true
   },
   "outputs": [
    {
     "data": {
      "text/html": [
       "<div>\n",
       "<style scoped>\n",
       "    .dataframe tbody tr th:only-of-type {\n",
       "        vertical-align: middle;\n",
       "    }\n",
       "\n",
       "    .dataframe tbody tr th {\n",
       "        vertical-align: top;\n",
       "    }\n",
       "\n",
       "    .dataframe thead th {\n",
       "        text-align: right;\n",
       "    }\n",
       "</style>\n",
       "<table border=\"1\" class=\"dataframe\">\n",
       "  <thead>\n",
       "    <tr style=\"text-align: right;\">\n",
       "      <th></th>\n",
       "      <th>antecedents</th>\n",
       "      <th>consequents</th>\n",
       "      <th>antecedent support</th>\n",
       "      <th>consequent support</th>\n",
       "      <th>support</th>\n",
       "      <th>confidence</th>\n",
       "      <th>lift</th>\n",
       "      <th>leverage</th>\n",
       "      <th>conviction</th>\n",
       "    </tr>\n",
       "  </thead>\n",
       "  <tbody>\n",
       "    <tr>\n",
       "      <th>0</th>\n",
       "      <td>(섬유)</td>\n",
       "      <td>(니트단품)</td>\n",
       "      <td>0.284795</td>\n",
       "      <td>0.294980</td>\n",
       "      <td>0.114488</td>\n",
       "      <td>0.402003</td>\n",
       "      <td>1.362812</td>\n",
       "      <td>0.030479</td>\n",
       "      <td>1.178968</td>\n",
       "    </tr>\n",
       "    <tr>\n",
       "      <th>1</th>\n",
       "      <td>(니트단품)</td>\n",
       "      <td>(섬유)</td>\n",
       "      <td>0.294980</td>\n",
       "      <td>0.284795</td>\n",
       "      <td>0.114488</td>\n",
       "      <td>0.388122</td>\n",
       "      <td>1.362812</td>\n",
       "      <td>0.030479</td>\n",
       "      <td>1.168868</td>\n",
       "    </tr>\n",
       "    <tr>\n",
       "      <th>2</th>\n",
       "      <td>(니트단품)</td>\n",
       "      <td>(스포츠)</td>\n",
       "      <td>0.294980</td>\n",
       "      <td>0.377934</td>\n",
       "      <td>0.137712</td>\n",
       "      <td>0.466851</td>\n",
       "      <td>1.235272</td>\n",
       "      <td>0.026229</td>\n",
       "      <td>1.166778</td>\n",
       "    </tr>\n",
       "    <tr>\n",
       "      <th>3</th>\n",
       "      <td>(스포츠)</td>\n",
       "      <td>(니트단품)</td>\n",
       "      <td>0.377934</td>\n",
       "      <td>0.294980</td>\n",
       "      <td>0.137712</td>\n",
       "      <td>0.364381</td>\n",
       "      <td>1.235272</td>\n",
       "      <td>0.026229</td>\n",
       "      <td>1.109186</td>\n",
       "    </tr>\n",
       "    <tr>\n",
       "      <th>4</th>\n",
       "      <td>(유니캐주얼)</td>\n",
       "      <td>(니트단품)</td>\n",
       "      <td>0.309485</td>\n",
       "      <td>0.294980</td>\n",
       "      <td>0.111473</td>\n",
       "      <td>0.360190</td>\n",
       "      <td>1.221063</td>\n",
       "      <td>0.020181</td>\n",
       "      <td>1.101919</td>\n",
       "    </tr>\n",
       "    <tr>\n",
       "      <th>...</th>\n",
       "      <td>...</td>\n",
       "      <td>...</td>\n",
       "      <td>...</td>\n",
       "      <td>...</td>\n",
       "      <td>...</td>\n",
       "      <td>...</td>\n",
       "      <td>...</td>\n",
       "      <td>...</td>\n",
       "      <td>...</td>\n",
       "    </tr>\n",
       "    <tr>\n",
       "      <th>163</th>\n",
       "      <td>(일반식품, 화장품)</td>\n",
       "      <td>(유아동복)</td>\n",
       "      <td>0.342324</td>\n",
       "      <td>0.368970</td>\n",
       "      <td>0.153276</td>\n",
       "      <td>0.447751</td>\n",
       "      <td>1.213515</td>\n",
       "      <td>0.026968</td>\n",
       "      <td>1.142654</td>\n",
       "    </tr>\n",
       "    <tr>\n",
       "      <th>164</th>\n",
       "      <td>(유아동복, 화장품)</td>\n",
       "      <td>(일반식품)</td>\n",
       "      <td>0.224495</td>\n",
       "      <td>0.588657</td>\n",
       "      <td>0.153276</td>\n",
       "      <td>0.682759</td>\n",
       "      <td>1.159858</td>\n",
       "      <td>0.021125</td>\n",
       "      <td>1.296624</td>\n",
       "    </tr>\n",
       "    <tr>\n",
       "      <th>165</th>\n",
       "      <td>(일반식품)</td>\n",
       "      <td>(유아동복, 화장품)</td>\n",
       "      <td>0.588657</td>\n",
       "      <td>0.224495</td>\n",
       "      <td>0.153276</td>\n",
       "      <td>0.260382</td>\n",
       "      <td>1.159858</td>\n",
       "      <td>0.021125</td>\n",
       "      <td>1.048521</td>\n",
       "    </tr>\n",
       "    <tr>\n",
       "      <th>166</th>\n",
       "      <td>(유아동복)</td>\n",
       "      <td>(일반식품, 화장품)</td>\n",
       "      <td>0.368970</td>\n",
       "      <td>0.342324</td>\n",
       "      <td>0.153276</td>\n",
       "      <td>0.415415</td>\n",
       "      <td>1.213515</td>\n",
       "      <td>0.026968</td>\n",
       "      <td>1.125031</td>\n",
       "    </tr>\n",
       "    <tr>\n",
       "      <th>167</th>\n",
       "      <td>(화장품)</td>\n",
       "      <td>(일반식품, 유아동복)</td>\n",
       "      <td>0.559485</td>\n",
       "      <td>0.237533</td>\n",
       "      <td>0.153276</td>\n",
       "      <td>0.273959</td>\n",
       "      <td>1.153352</td>\n",
       "      <td>0.020380</td>\n",
       "      <td>1.050171</td>\n",
       "    </tr>\n",
       "  </tbody>\n",
       "</table>\n",
       "<p>168 rows × 9 columns</p>\n",
       "</div>"
      ],
      "text/plain": [
       "     antecedents   consequents  antecedent support  consequent support  \\\n",
       "0           (섬유)        (니트단품)            0.284795            0.294980   \n",
       "1         (니트단품)          (섬유)            0.294980            0.284795   \n",
       "2         (니트단품)         (스포츠)            0.294980            0.377934   \n",
       "3          (스포츠)        (니트단품)            0.377934            0.294980   \n",
       "4        (유니캐주얼)        (니트단품)            0.309485            0.294980   \n",
       "..           ...           ...                 ...                 ...   \n",
       "163  (일반식품, 화장품)        (유아동복)            0.342324            0.368970   \n",
       "164  (유아동복, 화장품)        (일반식품)            0.224495            0.588657   \n",
       "165       (일반식품)   (유아동복, 화장품)            0.588657            0.224495   \n",
       "166       (유아동복)   (일반식품, 화장품)            0.368970            0.342324   \n",
       "167        (화장품)  (일반식품, 유아동복)            0.559485            0.237533   \n",
       "\n",
       "      support  confidence      lift  leverage  conviction  \n",
       "0    0.114488    0.402003  1.362812  0.030479    1.178968  \n",
       "1    0.114488    0.388122  1.362812  0.030479    1.168868  \n",
       "2    0.137712    0.466851  1.235272  0.026229    1.166778  \n",
       "3    0.137712    0.364381  1.235272  0.026229    1.109186  \n",
       "4    0.111473    0.360190  1.221063  0.020181    1.101919  \n",
       "..        ...         ...       ...       ...         ...  \n",
       "163  0.153276    0.447751  1.213515  0.026968    1.142654  \n",
       "164  0.153276    0.682759  1.159858  0.021125    1.296624  \n",
       "165  0.153276    0.260382  1.159858  0.021125    1.048521  \n",
       "166  0.153276    0.415415  1.213515  0.026968    1.125031  \n",
       "167  0.153276    0.273959  1.153352  0.020380    1.050171  \n",
       "\n",
       "[168 rows x 9 columns]"
      ]
     },
     "execution_count": 157,
     "metadata": {},
     "output_type": "execute_result"
    }
   ],
   "source": [
    "m_rules"
   ]
  },
  {
   "cell_type": "code",
   "execution_count": 158,
   "id": "4a9043be",
   "metadata": {},
   "outputs": [],
   "source": [
    "a_f, a_rules = get_rules(a)"
   ]
  },
  {
   "cell_type": "code",
   "execution_count": 159,
   "id": "b5394599",
   "metadata": {},
   "outputs": [
    {
     "data": {
      "text/html": [
       "<div>\n",
       "<style scoped>\n",
       "    .dataframe tbody tr th:only-of-type {\n",
       "        vertical-align: middle;\n",
       "    }\n",
       "\n",
       "    .dataframe tbody tr th {\n",
       "        vertical-align: top;\n",
       "    }\n",
       "\n",
       "    .dataframe thead th {\n",
       "        text-align: right;\n",
       "    }\n",
       "</style>\n",
       "<table border=\"1\" class=\"dataframe\">\n",
       "  <thead>\n",
       "    <tr style=\"text-align: right;\">\n",
       "      <th></th>\n",
       "      <th>support</th>\n",
       "      <th>itemsets</th>\n",
       "    </tr>\n",
       "  </thead>\n",
       "  <tbody>\n",
       "    <tr>\n",
       "      <th>0</th>\n",
       "      <td>0.221465</td>\n",
       "      <td>(가전)</td>\n",
       "    </tr>\n",
       "    <tr>\n",
       "      <th>1</th>\n",
       "      <td>0.182008</td>\n",
       "      <td>(기타바이어)</td>\n",
       "    </tr>\n",
       "    <tr>\n",
       "      <th>2</th>\n",
       "      <td>0.494202</td>\n",
       "      <td>(니트단품)</td>\n",
       "    </tr>\n",
       "    <tr>\n",
       "      <th>3</th>\n",
       "      <td>0.182338</td>\n",
       "      <td>(도자기크리스탈)</td>\n",
       "    </tr>\n",
       "    <tr>\n",
       "      <th>4</th>\n",
       "      <td>0.141837</td>\n",
       "      <td>(디자이너부띠끄)</td>\n",
       "    </tr>\n",
       "    <tr>\n",
       "      <th>...</th>\n",
       "      <td>...</td>\n",
       "      <td>...</td>\n",
       "    </tr>\n",
       "    <tr>\n",
       "      <th>1215</th>\n",
       "      <td>0.103259</td>\n",
       "      <td>(일반식품, 화장품, 니트단품, 피혁A, 섬유, 스포츠)</td>\n",
       "    </tr>\n",
       "    <tr>\n",
       "      <th>1216</th>\n",
       "      <td>0.108919</td>\n",
       "      <td>(일반식품, 유니캐주얼, 화장품, 니트단품, 영캐주얼, 스포츠)</td>\n",
       "    </tr>\n",
       "    <tr>\n",
       "      <th>1217</th>\n",
       "      <td>0.100621</td>\n",
       "      <td>(일반식품, 유니캐주얼, 화장품, 니트단품, 트래디셔널캐주얼, 스포츠)</td>\n",
       "    </tr>\n",
       "    <tr>\n",
       "      <th>1218</th>\n",
       "      <td>0.102709</td>\n",
       "      <td>(일반식품, 유니캐주얼, 화장품, 니트단품, 피혁A, 스포츠)</td>\n",
       "    </tr>\n",
       "    <tr>\n",
       "      <th>1219</th>\n",
       "      <td>0.103808</td>\n",
       "      <td>(일반식품, 유니캐주얼, 화장품, 영캐주얼, 섬유, 스포츠)</td>\n",
       "    </tr>\n",
       "  </tbody>\n",
       "</table>\n",
       "<p>1220 rows × 2 columns</p>\n",
       "</div>"
      ],
      "text/plain": [
       "       support                                 itemsets\n",
       "0     0.221465                                     (가전)\n",
       "1     0.182008                                  (기타바이어)\n",
       "2     0.494202                                   (니트단품)\n",
       "3     0.182338                                (도자기크리스탈)\n",
       "4     0.141837                                (디자이너부띠끄)\n",
       "...        ...                                      ...\n",
       "1215  0.103259          (일반식품, 화장품, 니트단품, 피혁A, 섬유, 스포츠)\n",
       "1216  0.108919      (일반식품, 유니캐주얼, 화장품, 니트단품, 영캐주얼, 스포츠)\n",
       "1217  0.100621  (일반식품, 유니캐주얼, 화장품, 니트단품, 트래디셔널캐주얼, 스포츠)\n",
       "1218  0.102709       (일반식품, 유니캐주얼, 화장품, 니트단품, 피혁A, 스포츠)\n",
       "1219  0.103808        (일반식품, 유니캐주얼, 화장품, 영캐주얼, 섬유, 스포츠)\n",
       "\n",
       "[1220 rows x 2 columns]"
      ]
     },
     "execution_count": 159,
     "metadata": {},
     "output_type": "execute_result"
    }
   ],
   "source": [
    "a_f"
   ]
  },
  {
   "cell_type": "code",
   "execution_count": 160,
   "id": "81c58e3d",
   "metadata": {
    "scrolled": false
   },
   "outputs": [
    {
     "data": {
      "text/html": [
       "<div>\n",
       "<style scoped>\n",
       "    .dataframe tbody tr th:only-of-type {\n",
       "        vertical-align: middle;\n",
       "    }\n",
       "\n",
       "    .dataframe tbody tr th {\n",
       "        vertical-align: top;\n",
       "    }\n",
       "\n",
       "    .dataframe thead th {\n",
       "        text-align: right;\n",
       "    }\n",
       "</style>\n",
       "<table border=\"1\" class=\"dataframe\">\n",
       "  <thead>\n",
       "    <tr style=\"text-align: right;\">\n",
       "      <th></th>\n",
       "      <th>antecedents</th>\n",
       "      <th>consequents</th>\n",
       "      <th>antecedent support</th>\n",
       "      <th>consequent support</th>\n",
       "      <th>support</th>\n",
       "      <th>confidence</th>\n",
       "      <th>lift</th>\n",
       "      <th>leverage</th>\n",
       "      <th>conviction</th>\n",
       "    </tr>\n",
       "  </thead>\n",
       "  <tbody>\n",
       "    <tr>\n",
       "      <th>0</th>\n",
       "      <td>(가전)</td>\n",
       "      <td>(니트단품)</td>\n",
       "      <td>0.221465</td>\n",
       "      <td>0.494202</td>\n",
       "      <td>0.134033</td>\n",
       "      <td>0.605211</td>\n",
       "      <td>1.224622</td>\n",
       "      <td>0.024585</td>\n",
       "      <td>1.281185</td>\n",
       "    </tr>\n",
       "    <tr>\n",
       "      <th>1</th>\n",
       "      <td>(니트단품)</td>\n",
       "      <td>(가전)</td>\n",
       "      <td>0.494202</td>\n",
       "      <td>0.221465</td>\n",
       "      <td>0.134033</td>\n",
       "      <td>0.271211</td>\n",
       "      <td>1.224622</td>\n",
       "      <td>0.024585</td>\n",
       "      <td>1.068258</td>\n",
       "    </tr>\n",
       "    <tr>\n",
       "      <th>2</th>\n",
       "      <td>(가전)</td>\n",
       "      <td>(섬유)</td>\n",
       "      <td>0.221465</td>\n",
       "      <td>0.488707</td>\n",
       "      <td>0.130571</td>\n",
       "      <td>0.589578</td>\n",
       "      <td>1.206404</td>\n",
       "      <td>0.022339</td>\n",
       "      <td>1.245775</td>\n",
       "    </tr>\n",
       "    <tr>\n",
       "      <th>3</th>\n",
       "      <td>(섬유)</td>\n",
       "      <td>(가전)</td>\n",
       "      <td>0.488707</td>\n",
       "      <td>0.221465</td>\n",
       "      <td>0.130571</td>\n",
       "      <td>0.267176</td>\n",
       "      <td>1.206404</td>\n",
       "      <td>0.022339</td>\n",
       "      <td>1.062377</td>\n",
       "    </tr>\n",
       "    <tr>\n",
       "      <th>4</th>\n",
       "      <td>(가전)</td>\n",
       "      <td>(스포츠)</td>\n",
       "      <td>0.221465</td>\n",
       "      <td>0.574985</td>\n",
       "      <td>0.152992</td>\n",
       "      <td>0.690819</td>\n",
       "      <td>1.201456</td>\n",
       "      <td>0.025653</td>\n",
       "      <td>1.374648</td>\n",
       "    </tr>\n",
       "    <tr>\n",
       "      <th>...</th>\n",
       "      <td>...</td>\n",
       "      <td>...</td>\n",
       "      <td>...</td>\n",
       "      <td>...</td>\n",
       "      <td>...</td>\n",
       "      <td>...</td>\n",
       "      <td>...</td>\n",
       "      <td>...</td>\n",
       "      <td>...</td>\n",
       "    </tr>\n",
       "    <tr>\n",
       "      <th>13233</th>\n",
       "      <td>(유니캐주얼)</td>\n",
       "      <td>(일반식품, 화장품, 영캐주얼, 섬유, 스포츠)</td>\n",
       "      <td>0.518767</td>\n",
       "      <td>0.137715</td>\n",
       "      <td>0.103808</td>\n",
       "      <td>0.200106</td>\n",
       "      <td>1.453044</td>\n",
       "      <td>0.032366</td>\n",
       "      <td>1.077999</td>\n",
       "    </tr>\n",
       "    <tr>\n",
       "      <th>13234</th>\n",
       "      <td>(화장품)</td>\n",
       "      <td>(일반식품, 유니캐주얼, 영캐주얼, 섬유, 스포츠)</td>\n",
       "      <td>0.852283</td>\n",
       "      <td>0.111557</td>\n",
       "      <td>0.103808</td>\n",
       "      <td>0.121800</td>\n",
       "      <td>1.091822</td>\n",
       "      <td>0.008730</td>\n",
       "      <td>1.011664</td>\n",
       "    </tr>\n",
       "    <tr>\n",
       "      <th>13235</th>\n",
       "      <td>(영캐주얼)</td>\n",
       "      <td>(일반식품, 유니캐주얼, 화장품, 섬유, 스포츠)</td>\n",
       "      <td>0.450404</td>\n",
       "      <td>0.153762</td>\n",
       "      <td>0.103808</td>\n",
       "      <td>0.230478</td>\n",
       "      <td>1.498933</td>\n",
       "      <td>0.034553</td>\n",
       "      <td>1.099694</td>\n",
       "    </tr>\n",
       "    <tr>\n",
       "      <th>13236</th>\n",
       "      <td>(섬유)</td>\n",
       "      <td>(일반식품, 유니캐주얼, 화장품, 영캐주얼, 스포츠)</td>\n",
       "      <td>0.488707</td>\n",
       "      <td>0.151454</td>\n",
       "      <td>0.103808</td>\n",
       "      <td>0.212414</td>\n",
       "      <td>1.402504</td>\n",
       "      <td>0.029792</td>\n",
       "      <td>1.077402</td>\n",
       "    </tr>\n",
       "    <tr>\n",
       "      <th>13237</th>\n",
       "      <td>(스포츠)</td>\n",
       "      <td>(일반식품, 유니캐주얼, 화장품, 영캐주얼, 섬유)</td>\n",
       "      <td>0.574985</td>\n",
       "      <td>0.133703</td>\n",
       "      <td>0.103808</td>\n",
       "      <td>0.180541</td>\n",
       "      <td>1.350310</td>\n",
       "      <td>0.026931</td>\n",
       "      <td>1.057157</td>\n",
       "    </tr>\n",
       "  </tbody>\n",
       "</table>\n",
       "<p>13238 rows × 9 columns</p>\n",
       "</div>"
      ],
      "text/plain": [
       "      antecedents                    consequents  antecedent support  \\\n",
       "0            (가전)                         (니트단품)            0.221465   \n",
       "1          (니트단품)                           (가전)            0.494202   \n",
       "2            (가전)                           (섬유)            0.221465   \n",
       "3            (섬유)                           (가전)            0.488707   \n",
       "4            (가전)                          (스포츠)            0.221465   \n",
       "...           ...                            ...                 ...   \n",
       "13233     (유니캐주얼)     (일반식품, 화장품, 영캐주얼, 섬유, 스포츠)            0.518767   \n",
       "13234       (화장품)   (일반식품, 유니캐주얼, 영캐주얼, 섬유, 스포츠)            0.852283   \n",
       "13235      (영캐주얼)    (일반식품, 유니캐주얼, 화장품, 섬유, 스포츠)            0.450404   \n",
       "13236        (섬유)  (일반식품, 유니캐주얼, 화장품, 영캐주얼, 스포츠)            0.488707   \n",
       "13237       (스포츠)   (일반식품, 유니캐주얼, 화장품, 영캐주얼, 섬유)            0.574985   \n",
       "\n",
       "       consequent support   support  confidence      lift  leverage  \\\n",
       "0                0.494202  0.134033    0.605211  1.224622  0.024585   \n",
       "1                0.221465  0.134033    0.271211  1.224622  0.024585   \n",
       "2                0.488707  0.130571    0.589578  1.206404  0.022339   \n",
       "3                0.221465  0.130571    0.267176  1.206404  0.022339   \n",
       "4                0.574985  0.152992    0.690819  1.201456  0.025653   \n",
       "...                   ...       ...         ...       ...       ...   \n",
       "13233            0.137715  0.103808    0.200106  1.453044  0.032366   \n",
       "13234            0.111557  0.103808    0.121800  1.091822  0.008730   \n",
       "13235            0.153762  0.103808    0.230478  1.498933  0.034553   \n",
       "13236            0.151454  0.103808    0.212414  1.402504  0.029792   \n",
       "13237            0.133703  0.103808    0.180541  1.350310  0.026931   \n",
       "\n",
       "       conviction  \n",
       "0        1.281185  \n",
       "1        1.068258  \n",
       "2        1.245775  \n",
       "3        1.062377  \n",
       "4        1.374648  \n",
       "...           ...  \n",
       "13233    1.077999  \n",
       "13234    1.011664  \n",
       "13235    1.099694  \n",
       "13236    1.077402  \n",
       "13237    1.057157  \n",
       "\n",
       "[13238 rows x 9 columns]"
      ]
     },
     "execution_count": 160,
     "metadata": {},
     "output_type": "execute_result"
    }
   ],
   "source": [
    "a_rules"
   ]
  },
  {
   "cell_type": "code",
   "execution_count": 161,
   "id": "9b48e800",
   "metadata": {},
   "outputs": [],
   "source": [
    "d_f, d_rules = get_rules(d)"
   ]
  },
  {
   "cell_type": "code",
   "execution_count": 162,
   "id": "a2544f72",
   "metadata": {},
   "outputs": [
    {
     "data": {
      "text/html": [
       "<div>\n",
       "<style scoped>\n",
       "    .dataframe tbody tr th:only-of-type {\n",
       "        vertical-align: middle;\n",
       "    }\n",
       "\n",
       "    .dataframe tbody tr th {\n",
       "        vertical-align: top;\n",
       "    }\n",
       "\n",
       "    .dataframe thead th {\n",
       "        text-align: right;\n",
       "    }\n",
       "</style>\n",
       "<table border=\"1\" class=\"dataframe\">\n",
       "  <thead>\n",
       "    <tr style=\"text-align: right;\">\n",
       "      <th></th>\n",
       "      <th>support</th>\n",
       "      <th>itemsets</th>\n",
       "    </tr>\n",
       "  </thead>\n",
       "  <tbody>\n",
       "    <tr>\n",
       "      <th>0</th>\n",
       "      <td>0.101334</td>\n",
       "      <td>(가전)</td>\n",
       "    </tr>\n",
       "    <tr>\n",
       "      <th>1</th>\n",
       "      <td>0.274151</td>\n",
       "      <td>(니트단품)</td>\n",
       "    </tr>\n",
       "    <tr>\n",
       "      <th>2</th>\n",
       "      <td>0.177159</td>\n",
       "      <td>(문화완구)</td>\n",
       "    </tr>\n",
       "    <tr>\n",
       "      <th>3</th>\n",
       "      <td>0.290278</td>\n",
       "      <td>(섬유)</td>\n",
       "    </tr>\n",
       "    <tr>\n",
       "      <th>4</th>\n",
       "      <td>0.133199</td>\n",
       "      <td>(수입명품)</td>\n",
       "    </tr>\n",
       "    <tr>\n",
       "      <th>...</th>\n",
       "      <td>...</td>\n",
       "      <td>...</td>\n",
       "    </tr>\n",
       "    <tr>\n",
       "      <th>74</th>\n",
       "      <td>0.125523</td>\n",
       "      <td>(영캐주얼, 일반식품, 화장품)</td>\n",
       "    </tr>\n",
       "    <tr>\n",
       "      <th>75</th>\n",
       "      <td>0.140177</td>\n",
       "      <td>(일반식품, 유니캐주얼, 화장품)</td>\n",
       "    </tr>\n",
       "    <tr>\n",
       "      <th>76</th>\n",
       "      <td>0.114591</td>\n",
       "      <td>(일반식품, 유아동복, 화장품)</td>\n",
       "    </tr>\n",
       "    <tr>\n",
       "      <th>77</th>\n",
       "      <td>0.104125</td>\n",
       "      <td>(일반식품, 캐릭터캐주얼, 화장품)</td>\n",
       "    </tr>\n",
       "    <tr>\n",
       "      <th>78</th>\n",
       "      <td>0.105598</td>\n",
       "      <td>(피혁A, 일반식품, 화장품)</td>\n",
       "    </tr>\n",
       "  </tbody>\n",
       "</table>\n",
       "<p>79 rows × 2 columns</p>\n",
       "</div>"
      ],
      "text/plain": [
       "     support             itemsets\n",
       "0   0.101334                 (가전)\n",
       "1   0.274151               (니트단품)\n",
       "2   0.177159               (문화완구)\n",
       "3   0.290278                 (섬유)\n",
       "4   0.133199               (수입명품)\n",
       "..       ...                  ...\n",
       "74  0.125523    (영캐주얼, 일반식품, 화장품)\n",
       "75  0.140177   (일반식품, 유니캐주얼, 화장품)\n",
       "76  0.114591    (일반식품, 유아동복, 화장품)\n",
       "77  0.104125  (일반식품, 캐릭터캐주얼, 화장품)\n",
       "78  0.105598     (피혁A, 일반식품, 화장품)\n",
       "\n",
       "[79 rows x 2 columns]"
      ]
     },
     "execution_count": 162,
     "metadata": {},
     "output_type": "execute_result"
    }
   ],
   "source": [
    "d_f"
   ]
  },
  {
   "cell_type": "code",
   "execution_count": 163,
   "id": "f61a6d3b",
   "metadata": {
    "scrolled": false
   },
   "outputs": [
    {
     "data": {
      "text/html": [
       "<div>\n",
       "<style scoped>\n",
       "    .dataframe tbody tr th:only-of-type {\n",
       "        vertical-align: middle;\n",
       "    }\n",
       "\n",
       "    .dataframe tbody tr th {\n",
       "        vertical-align: top;\n",
       "    }\n",
       "\n",
       "    .dataframe thead th {\n",
       "        text-align: right;\n",
       "    }\n",
       "</style>\n",
       "<table border=\"1\" class=\"dataframe\">\n",
       "  <thead>\n",
       "    <tr style=\"text-align: right;\">\n",
       "      <th></th>\n",
       "      <th>antecedents</th>\n",
       "      <th>consequents</th>\n",
       "      <th>antecedent support</th>\n",
       "      <th>consequent support</th>\n",
       "      <th>support</th>\n",
       "      <th>confidence</th>\n",
       "      <th>lift</th>\n",
       "      <th>leverage</th>\n",
       "      <th>conviction</th>\n",
       "    </tr>\n",
       "  </thead>\n",
       "  <tbody>\n",
       "    <tr>\n",
       "      <th>0</th>\n",
       "      <td>(섬유)</td>\n",
       "      <td>(니트단품)</td>\n",
       "      <td>0.290278</td>\n",
       "      <td>0.274151</td>\n",
       "      <td>0.106683</td>\n",
       "      <td>0.367521</td>\n",
       "      <td>1.340580</td>\n",
       "      <td>0.027103</td>\n",
       "      <td>1.147626</td>\n",
       "    </tr>\n",
       "    <tr>\n",
       "      <th>1</th>\n",
       "      <td>(니트단품)</td>\n",
       "      <td>(섬유)</td>\n",
       "      <td>0.274151</td>\n",
       "      <td>0.290278</td>\n",
       "      <td>0.106683</td>\n",
       "      <td>0.389140</td>\n",
       "      <td>1.340580</td>\n",
       "      <td>0.027103</td>\n",
       "      <td>1.161842</td>\n",
       "    </tr>\n",
       "    <tr>\n",
       "      <th>2</th>\n",
       "      <td>(니트단품)</td>\n",
       "      <td>(스포츠)</td>\n",
       "      <td>0.274151</td>\n",
       "      <td>0.357187</td>\n",
       "      <td>0.118546</td>\n",
       "      <td>0.432410</td>\n",
       "      <td>1.210596</td>\n",
       "      <td>0.020622</td>\n",
       "      <td>1.132529</td>\n",
       "    </tr>\n",
       "    <tr>\n",
       "      <th>3</th>\n",
       "      <td>(스포츠)</td>\n",
       "      <td>(니트단품)</td>\n",
       "      <td>0.357187</td>\n",
       "      <td>0.274151</td>\n",
       "      <td>0.118546</td>\n",
       "      <td>0.331886</td>\n",
       "      <td>1.210596</td>\n",
       "      <td>0.020622</td>\n",
       "      <td>1.086415</td>\n",
       "    </tr>\n",
       "    <tr>\n",
       "      <th>4</th>\n",
       "      <td>(영캐주얼)</td>\n",
       "      <td>(니트단품)</td>\n",
       "      <td>0.294852</td>\n",
       "      <td>0.274151</td>\n",
       "      <td>0.108854</td>\n",
       "      <td>0.369182</td>\n",
       "      <td>1.346638</td>\n",
       "      <td>0.028020</td>\n",
       "      <td>1.150648</td>\n",
       "    </tr>\n",
       "    <tr>\n",
       "      <th>...</th>\n",
       "      <td>...</td>\n",
       "      <td>...</td>\n",
       "      <td>...</td>\n",
       "      <td>...</td>\n",
       "      <td>...</td>\n",
       "      <td>...</td>\n",
       "      <td>...</td>\n",
       "      <td>...</td>\n",
       "      <td>...</td>\n",
       "    </tr>\n",
       "    <tr>\n",
       "      <th>159</th>\n",
       "      <td>(피혁A, 화장품)</td>\n",
       "      <td>(일반식품)</td>\n",
       "      <td>0.159637</td>\n",
       "      <td>0.632889</td>\n",
       "      <td>0.105598</td>\n",
       "      <td>0.661486</td>\n",
       "      <td>1.045185</td>\n",
       "      <td>0.004565</td>\n",
       "      <td>1.084479</td>\n",
       "    </tr>\n",
       "    <tr>\n",
       "      <th>160</th>\n",
       "      <td>(일반식품, 화장품)</td>\n",
       "      <td>(피혁A)</td>\n",
       "      <td>0.352845</td>\n",
       "      <td>0.248256</td>\n",
       "      <td>0.105598</td>\n",
       "      <td>0.299275</td>\n",
       "      <td>1.205511</td>\n",
       "      <td>0.018002</td>\n",
       "      <td>1.072809</td>\n",
       "    </tr>\n",
       "    <tr>\n",
       "      <th>161</th>\n",
       "      <td>(피혁A)</td>\n",
       "      <td>(일반식품, 화장품)</td>\n",
       "      <td>0.248256</td>\n",
       "      <td>0.352845</td>\n",
       "      <td>0.105598</td>\n",
       "      <td>0.425359</td>\n",
       "      <td>1.205511</td>\n",
       "      <td>0.018002</td>\n",
       "      <td>1.126190</td>\n",
       "    </tr>\n",
       "    <tr>\n",
       "      <th>162</th>\n",
       "      <td>(일반식품)</td>\n",
       "      <td>(피혁A, 화장품)</td>\n",
       "      <td>0.632889</td>\n",
       "      <td>0.159637</td>\n",
       "      <td>0.105598</td>\n",
       "      <td>0.166850</td>\n",
       "      <td>1.045185</td>\n",
       "      <td>0.004565</td>\n",
       "      <td>1.008658</td>\n",
       "    </tr>\n",
       "    <tr>\n",
       "      <th>163</th>\n",
       "      <td>(화장품)</td>\n",
       "      <td>(피혁A, 일반식품)</td>\n",
       "      <td>0.555435</td>\n",
       "      <td>0.156768</td>\n",
       "      <td>0.105598</td>\n",
       "      <td>0.190117</td>\n",
       "      <td>1.212726</td>\n",
       "      <td>0.018523</td>\n",
       "      <td>1.041177</td>\n",
       "    </tr>\n",
       "  </tbody>\n",
       "</table>\n",
       "<p>164 rows × 9 columns</p>\n",
       "</div>"
      ],
      "text/plain": [
       "     antecedents  consequents  antecedent support  consequent support  \\\n",
       "0           (섬유)       (니트단품)            0.290278            0.274151   \n",
       "1         (니트단품)         (섬유)            0.274151            0.290278   \n",
       "2         (니트단품)        (스포츠)            0.274151            0.357187   \n",
       "3          (스포츠)       (니트단품)            0.357187            0.274151   \n",
       "4         (영캐주얼)       (니트단품)            0.294852            0.274151   \n",
       "..           ...          ...                 ...                 ...   \n",
       "159   (피혁A, 화장품)       (일반식품)            0.159637            0.632889   \n",
       "160  (일반식품, 화장품)        (피혁A)            0.352845            0.248256   \n",
       "161        (피혁A)  (일반식품, 화장품)            0.248256            0.352845   \n",
       "162       (일반식품)   (피혁A, 화장품)            0.632889            0.159637   \n",
       "163        (화장품)  (피혁A, 일반식품)            0.555435            0.156768   \n",
       "\n",
       "      support  confidence      lift  leverage  conviction  \n",
       "0    0.106683    0.367521  1.340580  0.027103    1.147626  \n",
       "1    0.106683    0.389140  1.340580  0.027103    1.161842  \n",
       "2    0.118546    0.432410  1.210596  0.020622    1.132529  \n",
       "3    0.118546    0.331886  1.210596  0.020622    1.086415  \n",
       "4    0.108854    0.369182  1.346638  0.028020    1.150648  \n",
       "..        ...         ...       ...       ...         ...  \n",
       "159  0.105598    0.661486  1.045185  0.004565    1.084479  \n",
       "160  0.105598    0.299275  1.205511  0.018002    1.072809  \n",
       "161  0.105598    0.425359  1.205511  0.018002    1.126190  \n",
       "162  0.105598    0.166850  1.045185  0.004565    1.008658  \n",
       "163  0.105598    0.190117  1.212726  0.018523    1.041177  \n",
       "\n",
       "[164 rows x 9 columns]"
      ]
     },
     "execution_count": 163,
     "metadata": {},
     "output_type": "execute_result"
    }
   ],
   "source": [
    "d_rules"
   ]
  }
 ],
 "metadata": {
  "kernelspec": {
   "display_name": "Python 3",
   "language": "python",
   "name": "python3"
  },
  "language_info": {
   "codemirror_mode": {
    "name": "ipython",
    "version": 3
   },
   "file_extension": ".py",
   "mimetype": "text/x-python",
   "name": "python",
   "nbconvert_exporter": "python",
   "pygments_lexer": "ipython3",
   "version": "3.8.8"
  }
 },
 "nbformat": 4,
 "nbformat_minor": 5
}
