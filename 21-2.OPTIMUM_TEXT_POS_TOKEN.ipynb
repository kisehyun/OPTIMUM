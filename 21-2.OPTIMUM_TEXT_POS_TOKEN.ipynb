{
  "nbformat": 4,
  "nbformat_minor": 0,
  "metadata": {
    "colab": {
      "name": "22.OPTIMUM_TEXT_POS_TOKEN.ipynb",
      "provenance": [],
      "collapsed_sections": []
    },
    "kernelspec": {
      "name": "python3",
      "display_name": "Python 3"
    },
    "language_info": {
      "name": "python"
    }
  },
  "cells": [
    {
      "cell_type": "code",
      "metadata": {
        "colab": {
          "base_uri": "https://localhost:8080/"
        },
        "id": "MOlxFz7KZkG2",
        "outputId": "b26cfe28-517f-4e78-ee74-7e14af56f8f8"
      },
      "source": [
        "from google.colab import drive\n",
        "drive.mount('/content/gdrive/', force_remount = True)"
      ],
      "execution_count": 1,
      "outputs": [
        {
          "output_type": "stream",
          "name": "stdout",
          "text": [
            "Mounted at /content/gdrive/\n"
          ]
        }
      ]
    },
    {
      "cell_type": "code",
      "metadata": {
        "colab": {
          "base_uri": "https://localhost:8080/"
        },
        "id": "c-faepTf7eKi",
        "outputId": "57d2f73f-b4d0-4c37-be13-964692e17f41"
      },
      "source": [
        "%cd /content/gdrive/My Drive/optimum/20211019_text"
      ],
      "execution_count": 2,
      "outputs": [
        {
          "output_type": "stream",
          "name": "stdout",
          "text": [
            "/content/gdrive/My Drive/optimum/20211019_text\n"
          ]
        }
      ]
    },
    {
      "cell_type": "code",
      "metadata": {
        "colab": {
          "base_uri": "https://localhost:8080/"
        },
        "id": "KviLoSC_wPtU",
        "outputId": "44cde6f0-3b2a-4528-cbfa-b6c372c4c824"
      },
      "source": [
        "!pip install PyKomoran"
      ],
      "execution_count": 4,
      "outputs": [
        {
          "output_type": "stream",
          "name": "stdout",
          "text": [
            "Collecting PyKomoran\n",
            "  Downloading PyKomoran-0.1.6.post1-py3-none-any.whl (6.4 MB)\n",
            "\u001b[K     |████████████████████████████████| 6.4 MB 4.5 MB/s \n",
            "\u001b[?25hCollecting py4j==0.10.9.2\n",
            "  Downloading py4j-0.10.9.2-py2.py3-none-any.whl (198 kB)\n",
            "\u001b[K     |████████████████████████████████| 198 kB 65.7 MB/s \n",
            "\u001b[?25hInstalling collected packages: py4j, PyKomoran\n",
            "Successfully installed PyKomoran-0.1.6.post1 py4j-0.10.9.2\n"
          ]
        }
      ]
    },
    {
      "cell_type": "code",
      "metadata": {
        "id": "FbzfnkfraNCb"
      },
      "source": [
        "import json\n",
        "from HW2_util import NLP_util\n",
        "from TEXT import HW2"
      ],
      "execution_count": 5,
      "outputs": []
    },
    {
      "cell_type": "code",
      "metadata": {
        "id": "5SQqcHqpE53P"
      },
      "source": [
        "util = HW2()"
      ],
      "execution_count": null,
      "outputs": []
    },
    {
      "cell_type": "code",
      "metadata": {
        "id": "Cd9RE9xZrBe0"
      },
      "source": [
        "data = util.load_data(path = \"./NLP_train_6000.json\")"
      ],
      "execution_count": null,
      "outputs": []
    },
    {
      "cell_type": "code",
      "metadata": {
        "id": "OFPNvDFKE_t3"
      },
      "source": [
        "tokenized_sentence = util.tokenize(data)"
      ],
      "execution_count": null,
      "outputs": []
    },
    {
      "cell_type": "code",
      "metadata": {
        "id": "hp5wuwSGTlu9"
      },
      "source": [
        "word2idx = util.make_word2idx(data = tokenized_sentence)"
      ],
      "execution_count": null,
      "outputs": []
    },
    {
      "cell_type": "code",
      "metadata": {
        "id": "HbafAzpUGDg0"
      },
      "source": [
        "converted_data = util.convert_tokens_to_idx(data = tokenized_sentence)"
      ],
      "execution_count": null,
      "outputs": []
    },
    {
      "cell_type": "code",
      "metadata": {
        "id": "Ngu0y65UTjrA"
      },
      "source": [
        "result = util.result(converted_data, 0)"
      ],
      "execution_count": null,
      "outputs": []
    },
    {
      "cell_type": "code",
      "metadata": {
        "id": "jboFGDpQhU_Z"
      },
      "source": [
        "util.save_result(30, '메시', result, 0)"
      ],
      "execution_count": null,
      "outputs": []
    },
    {
      "cell_type": "code",
      "metadata": {
        "colab": {
          "base_uri": "https://localhost:8080/"
        },
        "id": "ULZJDLYhwW4U",
        "outputId": "daaaf4c2-28c6-4201-ca2e-272bec268555"
      },
      "source": [
        "result"
      ],
      "execution_count": null,
      "outputs": [
        {
          "output_type": "execute_result",
          "data": {
            "text/plain": [
              "('이렇게 각종 그 그 승가학교를 복원 복원을 해서 지금 한국에서 교학하는 사람들이 다 그의 제자.',\n",
              " ['각종/NNG',\n",
              "  '승가/NNP',\n",
              "  '학교/NNG',\n",
              "  '복원/NNG',\n",
              "  '복원/NNG',\n",
              "  '하/VV',\n",
              "  '한국/NNP',\n",
              "  '교학/NNG',\n",
              "  '사람/NNG',\n",
              "  '제자/NNG'],\n",
              " [3, 13, 24, 11, 11, 22, 25, 4, 12, 20])"
            ]
          },
          "metadata": {},
          "execution_count": 14
        }
      ]
    }
  ]
}