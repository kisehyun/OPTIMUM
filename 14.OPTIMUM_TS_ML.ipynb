{
 "cells": [
  {
   "cell_type": "markdown",
   "metadata": {},
   "source": [
    "## TimeSeries & ML for Regression\n",
    "\n",
    "### By OPTIMUM\n",
    "***\n",
    "\n",
    "두 가지 방식을 활용하여 작성하였습니다. 혹시라도 궁금하신 점이 있으시면 언제든 말씀해주세요!"
   ]
  },
  {
   "cell_type": "code",
   "execution_count": 1,
   "metadata": {},
   "outputs": [],
   "source": [
    "import pandas as pd\n",
    "import numpy as np\n",
    "import warnings\n",
    "warnings.filterwarnings('ignore')\n",
    "\n",
    "import matplotlib.pyplot as plt\n",
    "import seaborn\n",
    "%matplotlib inline\n",
    "\n",
    "from statsmodels.tsa.stattools import kpss\n",
    "from statsmodels.tsa.stattools import adfuller\n",
    "\n",
    "from itertools import product, combinations\n",
    "from tqdm import tqdm\n",
    "from statsmodels.tsa.api import SARIMAX\n",
    "from statsmodels.tsa.api import seasonal_decompose\n",
    "\n",
    "from sklearn.metrics import mean_squared_error\n",
    "\n",
    "from statsmodels.stats.stattools import durbin_watson"
   ]
  },
  {
   "cell_type": "code",
   "execution_count": 2,
   "metadata": {},
   "outputs": [],
   "source": [
    "d2019 = pd.read_excel('농가DB_2019.xlsx', header = 1)\n",
    "d2020 = pd.read_excel('농가DB_2020.xlsx', header = 1)"
   ]
  },
  {
   "cell_type": "code",
   "execution_count": 41,
   "metadata": {},
   "outputs": [
    {
     "data": {
      "text/html": [
       "<div>\n",
       "<style scoped>\n",
       "    .dataframe tbody tr th:only-of-type {\n",
       "        vertical-align: middle;\n",
       "    }\n",
       "\n",
       "    .dataframe tbody tr th {\n",
       "        vertical-align: top;\n",
       "    }\n",
       "\n",
       "    .dataframe thead th {\n",
       "        text-align: right;\n",
       "    }\n",
       "</style>\n",
       "<table border=\"1\" class=\"dataframe\">\n",
       "  <thead>\n",
       "    <tr style=\"text-align: right;\">\n",
       "      <th></th>\n",
       "      <th>Unnamed: 0</th>\n",
       "      <th>년도</th>\n",
       "      <th>주차</th>\n",
       "      <th>줄기길이</th>\n",
       "      <th>Unnamed: 4</th>\n",
       "      <th>Unnamed: 5</th>\n",
       "      <th>마디간격</th>\n",
       "      <th>Unnamed: 7</th>\n",
       "      <th>Unnamed: 8</th>\n",
       "      <th>잎길이</th>\n",
       "      <th>...</th>\n",
       "      <th>Unnamed: 38</th>\n",
       "      <th>과장</th>\n",
       "      <th>Unnamed: 40</th>\n",
       "      <th>Unnamed: 41</th>\n",
       "      <th>과폭</th>\n",
       "      <th>Unnamed: 43</th>\n",
       "      <th>Unnamed: 44</th>\n",
       "      <th>잎수</th>\n",
       "      <th>Unnamed: 46</th>\n",
       "      <th>Unnamed: 47</th>\n",
       "    </tr>\n",
       "  </thead>\n",
       "  <tbody>\n",
       "    <tr>\n",
       "      <th>0</th>\n",
       "      <td>NaN</td>\n",
       "      <td>NaN</td>\n",
       "      <td>NaN</td>\n",
       "      <td>최적</td>\n",
       "      <td>최소</td>\n",
       "      <td>최대</td>\n",
       "      <td>최적</td>\n",
       "      <td>최소</td>\n",
       "      <td>최대</td>\n",
       "      <td>최적</td>\n",
       "      <td>...</td>\n",
       "      <td>최대</td>\n",
       "      <td>최적</td>\n",
       "      <td>최소</td>\n",
       "      <td>최대</td>\n",
       "      <td>최적</td>\n",
       "      <td>최소</td>\n",
       "      <td>최대</td>\n",
       "      <td>최적</td>\n",
       "      <td>최소</td>\n",
       "      <td>최대</td>\n",
       "    </tr>\n",
       "    <tr>\n",
       "      <th>1</th>\n",
       "      <td>a</td>\n",
       "      <td>2019.0</td>\n",
       "      <td>2.0</td>\n",
       "      <td>0</td>\n",
       "      <td>0</td>\n",
       "      <td>0</td>\n",
       "      <td>0</td>\n",
       "      <td>0</td>\n",
       "      <td>0</td>\n",
       "      <td>0</td>\n",
       "      <td>...</td>\n",
       "      <td>0</td>\n",
       "      <td>0</td>\n",
       "      <td>0</td>\n",
       "      <td>0</td>\n",
       "      <td>0</td>\n",
       "      <td>0</td>\n",
       "      <td>0</td>\n",
       "      <td>0</td>\n",
       "      <td>0</td>\n",
       "      <td>0</td>\n",
       "    </tr>\n",
       "  </tbody>\n",
       "</table>\n",
       "<p>2 rows × 48 columns</p>\n",
       "</div>"
      ],
      "text/plain": [
       "  Unnamed: 0      년도   주차 줄기길이 Unnamed: 4 Unnamed: 5 마디간격 Unnamed: 7  \\\n",
       "0        NaN     NaN  NaN   최적         최소        최대    최적         최소   \n",
       "1          a  2019.0  2.0    0          0          0    0          0   \n",
       "\n",
       "  Unnamed: 8 잎길이  ... Unnamed: 38  과장 Unnamed: 40 Unnamed: 41  과폭 Unnamed: 43  \\\n",
       "0         최대  최적  ...          최대  최적          최소          최대  최적          최소   \n",
       "1          0   0  ...           0   0           0           0   0           0   \n",
       "\n",
       "  Unnamed: 44  잎수 Unnamed: 46 Unnamed: 47  \n",
       "0          최대  최적          최소          최대  \n",
       "1           0   0           0           0  \n",
       "\n",
       "[2 rows x 48 columns]"
      ]
     },
     "execution_count": 41,
     "metadata": {},
     "output_type": "execute_result"
    }
   ],
   "source": [
    "d2019.head(2)"
   ]
  },
  {
   "cell_type": "code",
   "execution_count": 42,
   "metadata": {
    "scrolled": true
   },
   "outputs": [
    {
     "data": {
      "text/html": [
       "<div>\n",
       "<style scoped>\n",
       "    .dataframe tbody tr th:only-of-type {\n",
       "        vertical-align: middle;\n",
       "    }\n",
       "\n",
       "    .dataframe tbody tr th {\n",
       "        vertical-align: top;\n",
       "    }\n",
       "\n",
       "    .dataframe thead th {\n",
       "        text-align: right;\n",
       "    }\n",
       "</style>\n",
       "<table border=\"1\" class=\"dataframe\">\n",
       "  <thead>\n",
       "    <tr style=\"text-align: right;\">\n",
       "      <th></th>\n",
       "      <th>Unnamed: 0</th>\n",
       "      <th>년도</th>\n",
       "      <th>주차</th>\n",
       "      <th>줄기길이</th>\n",
       "      <th>Unnamed: 4</th>\n",
       "      <th>Unnamed: 5</th>\n",
       "      <th>마디간격</th>\n",
       "      <th>Unnamed: 7</th>\n",
       "      <th>Unnamed: 8</th>\n",
       "      <th>잎길이</th>\n",
       "      <th>...</th>\n",
       "      <th>Unnamed: 38</th>\n",
       "      <th>과장</th>\n",
       "      <th>Unnamed: 40</th>\n",
       "      <th>Unnamed: 41</th>\n",
       "      <th>과폭</th>\n",
       "      <th>Unnamed: 43</th>\n",
       "      <th>Unnamed: 44</th>\n",
       "      <th>잎수</th>\n",
       "      <th>Unnamed: 46</th>\n",
       "      <th>Unnamed: 47</th>\n",
       "    </tr>\n",
       "  </thead>\n",
       "  <tbody>\n",
       "    <tr>\n",
       "      <th>0</th>\n",
       "      <td>NaN</td>\n",
       "      <td>NaN</td>\n",
       "      <td>NaN</td>\n",
       "      <td>최적</td>\n",
       "      <td>최소</td>\n",
       "      <td>최대</td>\n",
       "      <td>최적</td>\n",
       "      <td>최소</td>\n",
       "      <td>최대</td>\n",
       "      <td>최적</td>\n",
       "      <td>...</td>\n",
       "      <td>최대</td>\n",
       "      <td>최적</td>\n",
       "      <td>최소</td>\n",
       "      <td>최대</td>\n",
       "      <td>최적</td>\n",
       "      <td>최소</td>\n",
       "      <td>최대</td>\n",
       "      <td>최적</td>\n",
       "      <td>최소</td>\n",
       "      <td>최대</td>\n",
       "    </tr>\n",
       "    <tr>\n",
       "      <th>1</th>\n",
       "      <td>a</td>\n",
       "      <td>2020.0</td>\n",
       "      <td>1.0</td>\n",
       "      <td>20</td>\n",
       "      <td>20</td>\n",
       "      <td>20</td>\n",
       "      <td>6.25</td>\n",
       "      <td>6.5</td>\n",
       "      <td>6</td>\n",
       "      <td>13</td>\n",
       "      <td>...</td>\n",
       "      <td>0</td>\n",
       "      <td>0</td>\n",
       "      <td>0</td>\n",
       "      <td>0</td>\n",
       "      <td>0</td>\n",
       "      <td>0</td>\n",
       "      <td>0</td>\n",
       "      <td>5.5</td>\n",
       "      <td>5.5</td>\n",
       "      <td>5.5</td>\n",
       "    </tr>\n",
       "  </tbody>\n",
       "</table>\n",
       "<p>2 rows × 48 columns</p>\n",
       "</div>"
      ],
      "text/plain": [
       "  Unnamed: 0      년도   주차 줄기길이 Unnamed: 4 Unnamed: 5  마디간격 Unnamed: 7  \\\n",
       "0        NaN     NaN  NaN   최적         최소        최대     최적         최소   \n",
       "1          a  2020.0  1.0   20         20         20  6.25        6.5   \n",
       "\n",
       "  Unnamed: 8 잎길이  ... Unnamed: 38  과장 Unnamed: 40 Unnamed: 41  과폭 Unnamed: 43  \\\n",
       "0         최대  최적  ...          최대  최적          최소          최대  최적          최소   \n",
       "1          6  13  ...           0   0           0           0   0           0   \n",
       "\n",
       "  Unnamed: 44   잎수 Unnamed: 46 Unnamed: 47  \n",
       "0          최대   최적          최소          최대  \n",
       "1           0  5.5         5.5         5.5  \n",
       "\n",
       "[2 rows x 48 columns]"
      ]
     },
     "execution_count": 42,
     "metadata": {},
     "output_type": "execute_result"
    }
   ],
   "source": [
    "d2020.head(2)"
   ]
  },
  {
   "cell_type": "code",
   "execution_count": 3,
   "metadata": {},
   "outputs": [],
   "source": [
    "data = pd.concat([d2019.iloc[1:, :], d2020.iloc[1:, :]], axis = 0, ignore_index = True)"
   ]
  },
  {
   "cell_type": "markdown",
   "metadata": {},
   "source": [
    "2019년 데이터와 2020년 데이터를 합쳐줍니다."
   ]
  },
  {
   "cell_type": "code",
   "execution_count": 4,
   "metadata": {},
   "outputs": [],
   "source": [
    "data = data[d2019.columns[d2019.columns.str[:2] != 'Un']]"
   ]
  },
  {
   "cell_type": "markdown",
   "metadata": {},
   "source": [
    "사용할 column은 각 요소별 최적값입니다."
   ]
  },
  {
   "cell_type": "code",
   "execution_count": 9,
   "metadata": {},
   "outputs": [
    {
     "data": {
      "text/html": [
       "<div>\n",
       "<style scoped>\n",
       "    .dataframe tbody tr th:only-of-type {\n",
       "        vertical-align: middle;\n",
       "    }\n",
       "\n",
       "    .dataframe tbody tr th {\n",
       "        vertical-align: top;\n",
       "    }\n",
       "\n",
       "    .dataframe thead th {\n",
       "        text-align: right;\n",
       "    }\n",
       "</style>\n",
       "<table border=\"1\" class=\"dataframe\">\n",
       "  <thead>\n",
       "    <tr style=\"text-align: right;\">\n",
       "      <th></th>\n",
       "      <th>년도</th>\n",
       "      <th>주차</th>\n",
       "      <th>줄기길이</th>\n",
       "      <th>마디간격</th>\n",
       "      <th>잎길이</th>\n",
       "      <th>잎폭</th>\n",
       "      <th>줄기굵기</th>\n",
       "      <th>화방수</th>\n",
       "      <th>화방높이</th>\n",
       "      <th>착과수</th>\n",
       "      <th>착과군</th>\n",
       "      <th>수확수</th>\n",
       "      <th>수확군</th>\n",
       "      <th>수확과중</th>\n",
       "      <th>과장</th>\n",
       "      <th>과폭</th>\n",
       "      <th>잎수</th>\n",
       "    </tr>\n",
       "  </thead>\n",
       "  <tbody>\n",
       "    <tr>\n",
       "      <th>0</th>\n",
       "      <td>2019.0</td>\n",
       "      <td>2.0</td>\n",
       "      <td>0</td>\n",
       "      <td>0</td>\n",
       "      <td>0</td>\n",
       "      <td>0</td>\n",
       "      <td>0</td>\n",
       "      <td>0</td>\n",
       "      <td>0</td>\n",
       "      <td>0</td>\n",
       "      <td>0</td>\n",
       "      <td>0</td>\n",
       "      <td>0</td>\n",
       "      <td>0</td>\n",
       "      <td>0</td>\n",
       "      <td>0</td>\n",
       "      <td>0</td>\n",
       "    </tr>\n",
       "    <tr>\n",
       "      <th>1</th>\n",
       "      <td>2019.0</td>\n",
       "      <td>3.0</td>\n",
       "      <td>0</td>\n",
       "      <td>0</td>\n",
       "      <td>0</td>\n",
       "      <td>0</td>\n",
       "      <td>0</td>\n",
       "      <td>0</td>\n",
       "      <td>0</td>\n",
       "      <td>0</td>\n",
       "      <td>0</td>\n",
       "      <td>0</td>\n",
       "      <td>0</td>\n",
       "      <td>0</td>\n",
       "      <td>0</td>\n",
       "      <td>0</td>\n",
       "      <td>0</td>\n",
       "    </tr>\n",
       "    <tr>\n",
       "      <th>2</th>\n",
       "      <td>2019.0</td>\n",
       "      <td>4.0</td>\n",
       "      <td>0</td>\n",
       "      <td>0</td>\n",
       "      <td>0</td>\n",
       "      <td>0</td>\n",
       "      <td>0</td>\n",
       "      <td>0</td>\n",
       "      <td>0</td>\n",
       "      <td>0</td>\n",
       "      <td>0</td>\n",
       "      <td>0</td>\n",
       "      <td>0</td>\n",
       "      <td>0</td>\n",
       "      <td>0</td>\n",
       "      <td>0</td>\n",
       "      <td>0</td>\n",
       "    </tr>\n",
       "    <tr>\n",
       "      <th>3</th>\n",
       "      <td>2019.0</td>\n",
       "      <td>5.0</td>\n",
       "      <td>51.75</td>\n",
       "      <td>6</td>\n",
       "      <td>30</td>\n",
       "      <td>23.25</td>\n",
       "      <td>1</td>\n",
       "      <td>0.75</td>\n",
       "      <td>0</td>\n",
       "      <td>0</td>\n",
       "      <td>0</td>\n",
       "      <td>0</td>\n",
       "      <td>0</td>\n",
       "      <td>0</td>\n",
       "      <td>0</td>\n",
       "      <td>0</td>\n",
       "      <td>7.5</td>\n",
       "    </tr>\n",
       "    <tr>\n",
       "      <th>4</th>\n",
       "      <td>2019.0</td>\n",
       "      <td>6.0</td>\n",
       "      <td>59</td>\n",
       "      <td>7.3</td>\n",
       "      <td>40</td>\n",
       "      <td>33</td>\n",
       "      <td>1.1</td>\n",
       "      <td>3</td>\n",
       "      <td>0</td>\n",
       "      <td>0</td>\n",
       "      <td>0</td>\n",
       "      <td>0</td>\n",
       "      <td>0</td>\n",
       "      <td>0</td>\n",
       "      <td>0</td>\n",
       "      <td>0</td>\n",
       "      <td>11.5</td>\n",
       "    </tr>\n",
       "  </tbody>\n",
       "</table>\n",
       "</div>"
      ],
      "text/plain": [
       "       년도   주차   줄기길이 마디간격 잎길이     잎폭 줄기굵기   화방수 화방높이 착과수 착과군 수확수 수확군 수확과중 과장  \\\n",
       "0  2019.0  2.0      0    0   0      0    0     0    0   0   0   0   0    0  0   \n",
       "1  2019.0  3.0      0    0   0      0    0     0    0   0   0   0   0    0  0   \n",
       "2  2019.0  4.0      0    0   0      0    0     0    0   0   0   0   0    0  0   \n",
       "3  2019.0  5.0  51.75    6  30  23.25    1  0.75    0   0   0   0   0    0  0   \n",
       "4  2019.0  6.0     59  7.3  40     33  1.1     3    0   0   0   0   0    0  0   \n",
       "\n",
       "  과폭    잎수  \n",
       "0  0     0  \n",
       "1  0     0  \n",
       "2  0     0  \n",
       "3  0   7.5  \n",
       "4  0  11.5  "
      ]
     },
     "execution_count": 9,
     "metadata": {},
     "output_type": "execute_result"
    }
   ],
   "source": [
    "data.head()"
   ]
  },
  {
   "cell_type": "code",
   "execution_count": 5,
   "metadata": {},
   "outputs": [],
   "source": [
    "data = data.astype(float)"
   ]
  },
  {
   "cell_type": "markdown",
   "metadata": {},
   "source": [
    "데이터의 타입을 실수형으로 바꿔줍니다."
   ]
  },
  {
   "cell_type": "code",
   "execution_count": 6,
   "metadata": {},
   "outputs": [],
   "source": [
    "y = data['수확수']"
   ]
  },
  {
   "cell_type": "markdown",
   "metadata": {},
   "source": [
    "우리가 예측할 값인 수확수를 target column으로 지정합니다."
   ]
  },
  {
   "cell_type": "code",
   "execution_count": 21,
   "metadata": {
    "scrolled": false
   },
   "outputs": [
    {
     "data": {
      "image/png": "[encoded data removed]",
      "text/plain": [
       "<Figure size 864x576 with 1 Axes>"
      ]
     },
     "metadata": {
      "needs_background": "light"
     },
     "output_type": "display_data"
    }
   ],
   "source": [
    "data['수확수'].plot()\n",
    "plt.show()"
   ]
  },
  {
   "cell_type": "markdown",
   "metadata": {},
   "source": [
    "분석에 앞서 주기성을 살펴보기 위해 plotting을 한 결과 특별한 주기성은 보이지 않습니다."
   ]
  },
  {
   "cell_type": "code",
   "execution_count": 13,
   "metadata": {
    "scrolled": false
   },
   "outputs": [
    {
     "name": "stdout",
     "output_type": "stream",
     "text": [
      "원 데이터의 ADF 값 : -2.114181611957707\n",
      "원 데이터의 P-value : 0.23885047286046657\n",
      "\n",
      "1차 차분 데이터의 ADF 값 : -3.4716389876291815\n",
      "1차 차분 데이터의 P-value : 0.008746048444982571\n"
     ]
    }
   ],
   "source": [
    "y = data['수확수']\n",
    "y1dif = data['수확수'].diff(periods = 1).dropna()\n",
    "\n",
    "result = adfuller(y)\n",
    "print(\"원 데이터의 ADF 값 : {}\".format(result[0]))\n",
    "print('원 데이터의 P-value : {}\\n'.format(result[1]))\n",
    "\n",
    "result1 = adfuller(y1dif, autolag = None)\n",
    "print(\"1차 차분 데이터의 ADF 값 : {}\".format(result1[0]))\n",
    "print('1차 차분 데이터의 P-value : {}'.format(result1[1]))"
   ]
  },
  {
   "cell_type": "markdown",
   "metadata": {},
   "source": [
    "1차 차분을 진행하면 정상성을 만족하는 것으로 나타났습니다.\n",
    "\n",
    "### 1. TimeSeries Method"
   ]
  },
  {
   "cell_type": "code",
   "execution_count": 44,
   "metadata": {},
   "outputs": [],
   "source": [
    "y_train = data['수확수'].iloc[:130]\n",
    "y_test = data['수확수'].iloc[130:]"
   ]
  },
  {
   "cell_type": "code",
   "execution_count": 45,
   "metadata": {},
   "outputs": [],
   "source": [
    "tr_exog = data[['줄기길이', '마디간격', '잎길이', '잎폭', '줄기굵기', '화방수', '화방높이', '착과수', '착과군', '수확군', '수확과중', '과장', '과폭', '잎수']].iloc[:130]\n",
    "te_exog = data[['줄기길이', '마디간격', '잎길이', '잎폭', '줄기굵기', '화방수', '화방높이', '착과수', '착과군', '수확군', '수확과중', '과장', '과폭', '잎수']].iloc[130:]"
   ]
  },
  {
   "cell_type": "markdown",
   "metadata": {},
   "source": [
    "데이터를 학습과 검증 데이터로 나눕니다. "
   ]
  },
  {
   "cell_type": "code",
   "execution_count": 28,
   "metadata": {},
   "outputs": [
    {
     "name": "stderr",
     "output_type": "stream",
     "text": [
      "  6%|▌         | 1/18 [00:00<00:08,  2.02it/s]"
     ]
    },
    {
     "name": "stdout",
     "output_type": "stream",
     "text": [
      "Fit SARIMAX: trend_order=(0, 0, 0) seasonal_order=(0, 0, 0, 0) AIC=912.2734000364576, BIC=958.1539512437469\n"
     ]
    },
    {
     "name": "stderr",
     "output_type": "stream",
     "text": [
      "\r",
      " 11%|█         | 2/18 [00:00<00:06,  2.55it/s]"
     ]
    },
    {
     "name": "stdout",
     "output_type": "stream",
     "text": [
      "Fit SARIMAX: trend_order=(0, 0, 1) seasonal_order=(0, 0, 0, 0) AIC=854.9104151263069, BIC=903.6585007840519\n"
     ]
    },
    {
     "name": "stderr",
     "output_type": "stream",
     "text": [
      " 22%|██▏       | 4/18 [00:01<00:04,  3.41it/s]"
     ]
    },
    {
     "name": "stdout",
     "output_type": "stream",
     "text": [
      "Fit SARIMAX: trend_order=(0, 0, 2) seasonal_order=(0, 0, 0, 0) AIC=756.1467110060089, BIC=807.7623311142094\n",
      "Fit SARIMAX: trend_order=(0, 1, 0) seasonal_order=(0, 0, 0, 0) AIC=736.8525107356523, BIC=782.609509205439\n"
     ]
    },
    {
     "name": "stderr",
     "output_type": "stream",
     "text": [
      "\r",
      " 28%|██▊       | 5/18 [00:01<00:03,  4.11it/s]"
     ]
    },
    {
     "name": "stdout",
     "output_type": "stream",
     "text": [
      "Fit SARIMAX: trend_order=(0, 1, 1) seasonal_order=(0, 0, 0, 0) AIC=738.8353531795573, BIC=787.4521640537057\n"
     ]
    },
    {
     "name": "stderr",
     "output_type": "stream",
     "text": [
      "\r",
      " 33%|███▎      | 6/18 [00:01<00:03,  3.49it/s]"
     ]
    },
    {
     "name": "stdout",
     "output_type": "stream",
     "text": [
      "Fit SARIMAX: trend_order=(0, 1, 2) seasonal_order=(0, 0, 0, 0) AIC=669.5074346417815, BIC=720.9840579202917\n"
     ]
    },
    {
     "name": "stderr",
     "output_type": "stream",
     "text": [
      "\r",
      " 39%|███▉      | 7/18 [00:02<00:03,  3.50it/s]"
     ]
    },
    {
     "name": "stdout",
     "output_type": "stream",
     "text": [
      "Fit SARIMAX: trend_order=(1, 0, 0) seasonal_order=(0, 0, 0, 0) AIC=746.9386179067423, BIC=795.6867035644872\n"
     ]
    },
    {
     "name": "stderr",
     "output_type": "stream",
     "text": [
      "\r",
      " 44%|████▍     | 8/18 [00:02<00:03,  3.31it/s]"
     ]
    },
    {
     "name": "stdout",
     "output_type": "stream",
     "text": [
      "Fit SARIMAX: trend_order=(1, 0, 1) seasonal_order=(0, 0, 0, 0) AIC=752.631580234422, BIC=804.2472003426225\n"
     ]
    },
    {
     "name": "stderr",
     "output_type": "stream",
     "text": [
      "\r",
      " 50%|█████     | 9/18 [00:02<00:02,  3.06it/s]"
     ]
    },
    {
     "name": "stdout",
     "output_type": "stream",
     "text": [
      "Fit SARIMAX: trend_order=(1, 0, 2) seasonal_order=(0, 0, 0, 0) AIC=702.1522524323661, BIC=756.6354069910223\n"
     ]
    },
    {
     "name": "stderr",
     "output_type": "stream",
     "text": [
      "\r",
      " 56%|█████▌    | 10/18 [00:03<00:02,  3.10it/s]"
     ]
    },
    {
     "name": "stdout",
     "output_type": "stream",
     "text": [
      "Fit SARIMAX: trend_order=(1, 1, 0) seasonal_order=(0, 0, 0, 0) AIC=738.8199768510525, BIC=787.4367877252009\n"
     ]
    },
    {
     "name": "stderr",
     "output_type": "stream",
     "text": [
      "\r",
      " 61%|██████    | 11/18 [00:03<00:02,  2.96it/s]"
     ]
    },
    {
     "name": "stdout",
     "output_type": "stream",
     "text": [
      "Fit SARIMAX: trend_order=(1, 1, 1) seasonal_order=(0, 0, 0, 0) AIC=739.388167487077, BIC=790.864790765587\n"
     ]
    },
    {
     "name": "stderr",
     "output_type": "stream",
     "text": [
      "\r",
      " 67%|██████▋   | 12/18 [00:03<00:02,  2.82it/s]"
     ]
    },
    {
     "name": "stdout",
     "output_type": "stream",
     "text": [
      "Fit SARIMAX: trend_order=(1, 1, 2) seasonal_order=(0, 0, 0, 0) AIC=659.2586938253123, BIC=713.5951295081841\n"
     ]
    },
    {
     "name": "stderr",
     "output_type": "stream",
     "text": [
      "\r",
      " 72%|███████▏  | 13/18 [00:04<00:01,  2.78it/s]"
     ]
    },
    {
     "name": "stdout",
     "output_type": "stream",
     "text": [
      "Fit SARIMAX: trend_order=(2, 0, 0) seasonal_order=(0, 0, 0, 0) AIC=748.7771881924631, BIC=800.3928083006635\n"
     ]
    },
    {
     "name": "stderr",
     "output_type": "stream",
     "text": [
      "\r",
      " 78%|███████▊  | 14/18 [00:04<00:01,  2.72it/s]"
     ]
    },
    {
     "name": "stdout",
     "output_type": "stream",
     "text": [
      "Fit SARIMAX: trend_order=(2, 0, 1) seasonal_order=(0, 0, 0, 0) AIC=746.9777141071529, BIC=801.460868665809\n"
     ]
    },
    {
     "name": "stderr",
     "output_type": "stream",
     "text": [
      "\r",
      " 83%|████████▎ | 15/18 [00:05<00:01,  2.66it/s]"
     ]
    },
    {
     "name": "stdout",
     "output_type": "stream",
     "text": [
      "Fit SARIMAX: trend_order=(2, 0, 2) seasonal_order=(0, 0, 0, 0) AIC=718.6574500386653, BIC=776.0081390477769\n"
     ]
    },
    {
     "name": "stderr",
     "output_type": "stream",
     "text": [
      "\r",
      " 89%|████████▉ | 16/18 [00:05<00:00,  2.69it/s]"
     ]
    },
    {
     "name": "stdout",
     "output_type": "stream",
     "text": [
      "Fit SARIMAX: trend_order=(2, 1, 0) seasonal_order=(0, 0, 0, 0) AIC=721.5753466652864, BIC=773.0519699437964\n"
     ]
    },
    {
     "name": "stderr",
     "output_type": "stream",
     "text": [
      "\r",
      " 94%|█████████▍| 17/18 [00:05<00:00,  2.70it/s]"
     ]
    },
    {
     "name": "stdout",
     "output_type": "stream",
     "text": [
      "Fit SARIMAX: trend_order=(2, 1, 1) seasonal_order=(0, 0, 0, 0) AIC=708.3602239603733, BIC=762.6966596432451\n"
     ]
    },
    {
     "name": "stderr",
     "output_type": "stream",
     "text": [
      "100%|██████████| 18/18 [00:06<00:00,  2.87it/s]"
     ]
    },
    {
     "name": "stdout",
     "output_type": "stream",
     "text": [
      "Fit SARIMAX: trend_order=(2, 1, 2) seasonal_order=(0, 0, 0, 0) AIC=660.4315077407834, BIC=717.6277558280169\n",
      "The smallest AIC is 659.2586938253123 for model SARIMAX(1, 1, 2)x(0, 0, 0, 0)\n"
     ]
    },
    {
     "name": "stderr",
     "output_type": "stream",
     "text": [
      "\n"
     ]
    }
   ],
   "source": [
    "p, q = range(0,3), range(0,3)\n",
    "d = range(0, 2)\n",
    "P, Q = range(0,3), range(0,3)\n",
    "D = range(0,2)\n",
    "m = 0\n",
    "trend_pdq = list(product(p, d, q))\n",
    "seasonal_pdq = [(candi[0], candi[1], candi[2], m) for candi in list(product(P, D, Q))]\n",
    "## SARIMAX\n",
    "AIC = []\n",
    "SARIMAX_order = []\n",
    "for trend_param in tqdm(trend_pdq):\n",
    "    for seasonal_params in seasonal_pdq:\n",
    "        try:\n",
    "            result = SARIMAX(y_train, trend = 'c', \n",
    "                                   order = trend_param, seasonal_order = seasonal_params, exog = tr_exog).fit()\n",
    "            print('Fit SARIMAX: trend_order={} seasonal_order={} AIC={}, BIC={}'.format(trend_param, seasonal_params, result.aic, result.bic, end='\\r'))\n",
    "            AIC.append(result.aic)\n",
    "            SARIMAX_order.append([trend_param, seasonal_params])\n",
    "        except:\n",
    "            continue\n",
    "## Parameter Selection\n",
    "print('The smallest AIC is {} for model SARIMAX{}x{}'.format(min(AIC), SARIMAX_order[AIC.index(min(AIC))][0], SARIMAX_order[AIC.index(min(AIC))][1]))"
   ]
  },
  {
   "cell_type": "markdown",
   "metadata": {},
   "source": [
    "조합을 이용해 AIC가 최소가 되는 파라미터 조합을 탐색합니다."
   ]
  },
  {
   "cell_type": "code",
   "execution_count": 29,
   "metadata": {},
   "outputs": [
    {
     "name": "stdout",
     "output_type": "stream",
     "text": [
      "ARMA 파라미터는 (1, 1, 2)\n",
      "계절성 주기는 (0, 0, 0, 0)\n"
     ]
    }
   ],
   "source": [
    "print(f'ARMA 파라미터는 {SARIMAX_order[AIC.index(min(AIC))][0]}')\n",
    "print(f'계절성 주기는 {SARIMAX_order[AIC.index(min(AIC))][1]}')"
   ]
  },
  {
   "cell_type": "markdown",
   "metadata": {},
   "source": [
    "SARIMAX의 파라미터인 ARMA파라미터와 계절성 파라미터를 확인합니다."
   ]
  },
  {
   "cell_type": "code",
   "execution_count": 30,
   "metadata": {},
   "outputs": [
    {
     "data": {
      "text/html": [
       "<table class=\"simpletable\">\n",
       "<caption>SARIMAX Results</caption>\n",
       "<tr>\n",
       "  <th>Dep. Variable:</th>          <td>수확수</td>       <th>  No. Observations:  </th>    <td>130</td>  \n",
       "</tr>\n",
       "<tr>\n",
       "  <th>Model:</th>           <td>SARIMAX(1, 1, 2)</td> <th>  Log Likelihood     </th> <td>-310.629</td>\n",
       "</tr>\n",
       "<tr>\n",
       "  <th>Date:</th>            <td>Wed, 04 Aug 2021</td> <th>  AIC                </th>  <td>659.259</td>\n",
       "</tr>\n",
       "<tr>\n",
       "  <th>Time:</th>                <td>08:23:26</td>     <th>  BIC                </th>  <td>713.595</td>\n",
       "</tr>\n",
       "<tr>\n",
       "  <th>Sample:</th>                  <td>0</td>        <th>  HQIC               </th>  <td>681.337</td>\n",
       "</tr>\n",
       "<tr>\n",
       "  <th></th>                      <td> - 130</td>      <th>                     </th>     <td> </td>   \n",
       "</tr>\n",
       "<tr>\n",
       "  <th>Covariance Type:</th>        <td>opg</td>       <th>                     </th>     <td> </td>   \n",
       "</tr>\n",
       "</table>\n",
       "<table class=\"simpletable\">\n",
       "<tr>\n",
       "      <td></td>         <th>coef</th>     <th>std err</th>      <th>z</th>      <th>P>|z|</th>  <th>[0.025</th>    <th>0.975]</th>  \n",
       "</tr>\n",
       "<tr>\n",
       "  <th>intercept</th> <td>    0.3717</td> <td>    1.434</td> <td>    0.259</td> <td> 0.796</td> <td>   -2.439</td> <td>    3.183</td>\n",
       "</tr>\n",
       "<tr>\n",
       "  <th>줄기길이</th>      <td>   -0.0347</td> <td>    0.027</td> <td>   -1.286</td> <td> 0.199</td> <td>   -0.087</td> <td>    0.018</td>\n",
       "</tr>\n",
       "<tr>\n",
       "  <th>마디간격</th>      <td>    0.0066</td> <td>    0.159</td> <td>    0.041</td> <td> 0.967</td> <td>   -0.306</td> <td>    0.319</td>\n",
       "</tr>\n",
       "<tr>\n",
       "  <th>잎길이</th>       <td>    0.2003</td> <td>    0.157</td> <td>    1.278</td> <td> 0.201</td> <td>   -0.107</td> <td>    0.507</td>\n",
       "</tr>\n",
       "<tr>\n",
       "  <th>잎폭</th>        <td>   -0.1783</td> <td>    0.172</td> <td>   -1.035</td> <td> 0.301</td> <td>   -0.516</td> <td>    0.159</td>\n",
       "</tr>\n",
       "<tr>\n",
       "  <th>줄기굵기</th>      <td>    0.3442</td> <td>    6.266</td> <td>    0.055</td> <td> 0.956</td> <td>  -11.936</td> <td>   12.625</td>\n",
       "</tr>\n",
       "<tr>\n",
       "  <th>화방수</th>       <td>    0.9544</td> <td>    1.286</td> <td>    0.742</td> <td> 0.458</td> <td>   -1.565</td> <td>    3.474</td>\n",
       "</tr>\n",
       "<tr>\n",
       "  <th>화방높이</th>      <td> 2.508e-16</td> <td>      nan</td> <td>      nan</td> <td>   nan</td> <td>      nan</td> <td>      nan</td>\n",
       "</tr>\n",
       "<tr>\n",
       "  <th>착과수</th>       <td>    0.7691</td> <td>    0.705</td> <td>    1.091</td> <td> 0.275</td> <td>   -0.613</td> <td>    2.151</td>\n",
       "</tr>\n",
       "<tr>\n",
       "  <th>착과군</th>       <td>         0</td> <td> 9.39e-15</td> <td>        0</td> <td> 1.000</td> <td>-1.84e-14</td> <td> 1.84e-14</td>\n",
       "</tr>\n",
       "<tr>\n",
       "  <th>수확군</th>       <td>         0</td> <td>      nan</td> <td>      nan</td> <td>   nan</td> <td>      nan</td> <td>      nan</td>\n",
       "</tr>\n",
       "<tr>\n",
       "  <th>수확과중</th>      <td>         0</td> <td>      nan</td> <td>      nan</td> <td>   nan</td> <td>      nan</td> <td>      nan</td>\n",
       "</tr>\n",
       "<tr>\n",
       "  <th>과장</th>        <td>         0</td> <td>       -0</td> <td>      nan</td> <td>   nan</td> <td>        0</td> <td>        0</td>\n",
       "</tr>\n",
       "<tr>\n",
       "  <th>과폭</th>        <td>         0</td> <td>       -0</td> <td>      nan</td> <td>   nan</td> <td>        0</td> <td>        0</td>\n",
       "</tr>\n",
       "<tr>\n",
       "  <th>잎수</th>        <td>   -0.0021</td> <td>    0.283</td> <td>   -0.007</td> <td> 0.994</td> <td>   -0.557</td> <td>    0.553</td>\n",
       "</tr>\n",
       "<tr>\n",
       "  <th>ar.L1</th>     <td>   -0.2670</td> <td>    0.517</td> <td>   -0.516</td> <td> 0.606</td> <td>   -1.281</td> <td>    0.747</td>\n",
       "</tr>\n",
       "<tr>\n",
       "  <th>ma.L1</th>     <td>    0.5464</td> <td>    0.168</td> <td>    3.250</td> <td> 0.001</td> <td>    0.217</td> <td>    0.876</td>\n",
       "</tr>\n",
       "<tr>\n",
       "  <th>ma.L2</th>     <td>    0.9525</td> <td>    0.206</td> <td>    4.630</td> <td> 0.000</td> <td>    0.549</td> <td>    1.356</td>\n",
       "</tr>\n",
       "<tr>\n",
       "  <th>sigma2</th>    <td>    7.2320</td> <td>    1.276</td> <td>    5.666</td> <td> 0.000</td> <td>    4.730</td> <td>    9.734</td>\n",
       "</tr>\n",
       "</table>\n",
       "<table class=\"simpletable\">\n",
       "<tr>\n",
       "  <th>Ljung-Box (L1) (Q):</th>     <td>0.00</td>  <th>  Jarque-Bera (JB):  </th> <td>19356.68</td>\n",
       "</tr>\n",
       "<tr>\n",
       "  <th>Prob(Q):</th>                <td>0.95</td>  <th>  Prob(JB):          </th>   <td>0.00</td>  \n",
       "</tr>\n",
       "<tr>\n",
       "  <th>Heteroskedasticity (H):</th> <td>11.46</td> <th>  Skew:              </th>   <td>5.72</td>  \n",
       "</tr>\n",
       "<tr>\n",
       "  <th>Prob(H) (two-sided):</th>    <td>0.00</td>  <th>  Kurtosis:          </th>   <td>61.91</td> \n",
       "</tr>\n",
       "</table><br/><br/>Warnings:<br/>[1] Covariance matrix calculated using the outer product of gradients (complex-step).<br/>[2] Covariance matrix is singular or near-singular, with condition number 3.99e+37. Standard errors may be unstable."
      ],
      "text/plain": [
       "<class 'statsmodels.iolib.summary.Summary'>\n",
       "\"\"\"\n",
       "                               SARIMAX Results                                \n",
       "==============================================================================\n",
       "Dep. Variable:                    수확수   No. Observations:                  130\n",
       "Model:               SARIMAX(1, 1, 2)   Log Likelihood                -310.629\n",
       "Date:                Wed, 04 Aug 2021   AIC                            659.259\n",
       "Time:                        08:23:26   BIC                            713.595\n",
       "Sample:                             0   HQIC                           681.337\n",
       "                                - 130                                         \n",
       "Covariance Type:                  opg                                         \n",
       "==============================================================================\n",
       "                 coef    std err          z      P>|z|      [0.025      0.975]\n",
       "------------------------------------------------------------------------------\n",
       "intercept      0.3717      1.434      0.259      0.796      -2.439       3.183\n",
       "줄기길이          -0.0347      0.027     -1.286      0.199      -0.087       0.018\n",
       "마디간격           0.0066      0.159      0.041      0.967      -0.306       0.319\n",
       "잎길이            0.2003      0.157      1.278      0.201      -0.107       0.507\n",
       "잎폭            -0.1783      0.172     -1.035      0.301      -0.516       0.159\n",
       "줄기굵기           0.3442      6.266      0.055      0.956     -11.936      12.625\n",
       "화방수            0.9544      1.286      0.742      0.458      -1.565       3.474\n",
       "화방높이        2.508e-16        nan        nan        nan         nan         nan\n",
       "착과수            0.7691      0.705      1.091      0.275      -0.613       2.151\n",
       "착과군                 0   9.39e-15          0      1.000   -1.84e-14    1.84e-14\n",
       "수확군                 0        nan        nan        nan         nan         nan\n",
       "수확과중                0        nan        nan        nan         nan         nan\n",
       "과장                  0         -0        nan        nan           0           0\n",
       "과폭                  0         -0        nan        nan           0           0\n",
       "잎수            -0.0021      0.283     -0.007      0.994      -0.557       0.553\n",
       "ar.L1         -0.2670      0.517     -0.516      0.606      -1.281       0.747\n",
       "ma.L1          0.5464      0.168      3.250      0.001       0.217       0.876\n",
       "ma.L2          0.9525      0.206      4.630      0.000       0.549       1.356\n",
       "sigma2         7.2320      1.276      5.666      0.000       4.730       9.734\n",
       "===================================================================================\n",
       "Ljung-Box (L1) (Q):                   0.00   Jarque-Bera (JB):             19356.68\n",
       "Prob(Q):                              0.95   Prob(JB):                         0.00\n",
       "Heteroskedasticity (H):              11.46   Skew:                             5.72\n",
       "Prob(H) (two-sided):                  0.00   Kurtosis:                        61.91\n",
       "===================================================================================\n",
       "\n",
       "Warnings:\n",
       "[1] Covariance matrix calculated using the outer product of gradients (complex-step).\n",
       "[2] Covariance matrix is singular or near-singular, with condition number 3.99e+37. Standard errors may be unstable.\n",
       "\"\"\""
      ]
     },
     "metadata": {},
     "output_type": "display_data"
    }
   ],
   "source": [
    "model = SARIMAX(y_train, trend='c', order=SARIMAX_order[AIC.index(min(AIC))][0], \n",
    "                                seasonal_order=SARIMAX_order[AIC.index(min(AIC))][1], exog = tr_exog).fit()\n",
    "display(model.summary())\n",
    "\n",
    "pred = model.get_forecast(len(y_test), exog=te_exog).predicted_mean"
   ]
  },
  {
   "cell_type": "markdown",
   "metadata": {},
   "source": [
    "앞서 획득한 파라미터 조합을 활용해 모델을 만든 후 데이터를 학습한 후 검증 데이터를 활용해 예측합니다."
   ]
  },
  {
   "cell_type": "code",
   "execution_count": 33,
   "metadata": {
    "scrolled": true
   },
   "outputs": [
    {
     "name": "stdout",
     "output_type": "stream",
     "text": [
      "SARIMA 모형의 RMSE = 29.706970418207906\n"
     ]
    }
   ],
   "source": [
    "print(f'SARIMA 모형의 RMSE = {np.sqrt(mean_squared_error(y_test, pred))}')"
   ]
  },
  {
   "cell_type": "markdown",
   "metadata": {},
   "source": [
    "예측 데이터와 실제 값을 비교하니 RMSE가 약 30이 나온 것을 알 수 있습니다."
   ]
  },
  {
   "cell_type": "code",
   "execution_count": 37,
   "metadata": {},
   "outputs": [
    {
     "data": {
      "image/png": "[encoded data removed]",
      "text/plain": [
       "<Figure size 864x576 with 4 Axes>"
      ]
     },
     "metadata": {
      "needs_background": "light"
     },
     "output_type": "display_data"
    }
   ],
   "source": [
    "plt.rcParams['figure.figsize'] = (12, 8)\n",
    "model.plot_diagnostics()\n",
    "plt.show()"
   ]
  },
  {
   "cell_type": "markdown",
   "metadata": {},
   "source": [
    "모델의 진단 플롯을 그려 적절히 모델링이 수행됐는지 확인합니다."
   ]
  },
  {
   "cell_type": "code",
   "execution_count": 40,
   "metadata": {},
   "outputs": [
    {
     "data": {
      "text/plain": [
       "2.0076658238873013"
      ]
     },
     "execution_count": 40,
     "metadata": {},
     "output_type": "execute_result"
    }
   ],
   "source": [
    "durbin_watson(model.resid)"
   ]
  },
  {
   "cell_type": "markdown",
   "metadata": {},
   "source": [
    "더빈 왓슨 통계량이 2인 것으로 보아 오차가 자기상관성은 띄지 않는 것으로 확인됩니다.\n",
    "\n",
    "***\n",
    "\n",
    "### 2. ML Method"
   ]
  },
  {
   "cell_type": "code",
   "execution_count": 43,
   "metadata": {},
   "outputs": [],
   "source": [
    "from sklearn.ensemble import RandomForestRegressor\n",
    "from lightgbm import LGBMRegressor\n",
    "from sklearn.model_selection import train_test_split\n",
    "from sklearn.preprocessing import StandardScaler, MinMaxScaler\n",
    "from sklearn.linear_model import LinearRegression"
   ]
  },
  {
   "cell_type": "markdown",
   "metadata": {},
   "source": [
    "#### MinMaxScaling 적용"
   ]
  },
  {
   "cell_type": "code",
   "execution_count": 46,
   "metadata": {},
   "outputs": [],
   "source": [
    "scaler = MinMaxScaler()"
   ]
  },
  {
   "cell_type": "code",
   "execution_count": 47,
   "metadata": {},
   "outputs": [],
   "source": [
    "tr_scaled = scaler.fit_transform(tr_exog)"
   ]
  },
  {
   "cell_type": "code",
   "execution_count": 48,
   "metadata": {},
   "outputs": [],
   "source": [
    "te_scaled = scaler.transform(te_exog)"
   ]
  },
  {
   "cell_type": "markdown",
   "metadata": {},
   "source": [
    "### 2-1. scaling 전\n",
    "#### RandomForestRegressor"
   ]
  },
  {
   "cell_type": "code",
   "execution_count": 49,
   "metadata": {},
   "outputs": [],
   "source": [
    "rf = RandomForestRegressor(random_state = 42, n_estimators = 500)"
   ]
  },
  {
   "cell_type": "code",
   "execution_count": 50,
   "metadata": {
    "scrolled": true
   },
   "outputs": [
    {
     "data": {
      "text/plain": [
       "RandomForestRegressor(n_estimators=500, random_state=42)"
      ]
     },
     "execution_count": 50,
     "metadata": {},
     "output_type": "execute_result"
    }
   ],
   "source": [
    "rf.fit(tr_exog, y_train)"
   ]
  },
  {
   "cell_type": "code",
   "execution_count": 51,
   "metadata": {},
   "outputs": [],
   "source": [
    "pred = rf.predict(te_exog)"
   ]
  },
  {
   "cell_type": "code",
   "execution_count": 52,
   "metadata": {
    "scrolled": true
   },
   "outputs": [
    {
     "name": "stdout",
     "output_type": "stream",
     "text": [
      "랜덤포레스트 모형의 RMSE = 24.94211206554595\n"
     ]
    }
   ],
   "source": [
    "print(f'랜덤포레스트 모형의 RMSE = {np.sqrt(mean_squared_error(y_test, pred))}')"
   ]
  },
  {
   "cell_type": "markdown",
   "metadata": {},
   "source": [
    "#### LGBMRegressor"
   ]
  },
  {
   "cell_type": "code",
   "execution_count": 24,
   "metadata": {},
   "outputs": [],
   "source": [
    "lgbm = LGBMRegressor(random_state = 42)"
   ]
  },
  {
   "cell_type": "code",
   "execution_count": 25,
   "metadata": {},
   "outputs": [
    {
     "data": {
      "text/plain": [
       "LGBMRegressor(random_state=42)"
      ]
     },
     "execution_count": 25,
     "metadata": {},
     "output_type": "execute_result"
    }
   ],
   "source": [
    "lgbm.fit(tr_exog, y_train)"
   ]
  },
  {
   "cell_type": "code",
   "execution_count": 26,
   "metadata": {},
   "outputs": [],
   "source": [
    "pred = lgbm.predict(te_exog)"
   ]
  },
  {
   "cell_type": "code",
   "execution_count": 28,
   "metadata": {
    "scrolled": true
   },
   "outputs": [
    {
     "name": "stdout",
     "output_type": "stream",
     "text": [
      "LGBM 모형의 RMSE = 41.961936475810276\n"
     ]
    }
   ],
   "source": [
    "print(f'LGBM 모형의 RMSE = {np.sqrt(mean_squared_error(y_test, pred))}')"
   ]
  },
  {
   "cell_type": "markdown",
   "metadata": {},
   "source": [
    "#### LinearRegression"
   ]
  },
  {
   "cell_type": "code",
   "execution_count": 62,
   "metadata": {},
   "outputs": [],
   "source": [
    "lg = LinearRegression()"
   ]
  },
  {
   "cell_type": "code",
   "execution_count": 63,
   "metadata": {},
   "outputs": [
    {
     "data": {
      "text/plain": [
       "LinearRegression()"
      ]
     },
     "execution_count": 63,
     "metadata": {},
     "output_type": "execute_result"
    }
   ],
   "source": [
    "lg.fit(tr_exog, y_train)"
   ]
  },
  {
   "cell_type": "code",
   "execution_count": 64,
   "metadata": {},
   "outputs": [],
   "source": [
    "pred = lg.predict(te_exog)"
   ]
  },
  {
   "cell_type": "code",
   "execution_count": 65,
   "metadata": {
    "scrolled": false
   },
   "outputs": [
    {
     "name": "stdout",
     "output_type": "stream",
     "text": [
      "LinearRegression 모형의 RMSE = 49.89085871558645\n"
     ]
    }
   ],
   "source": [
    "print(f'LinearRegression 모형의 RMSE = {np.sqrt(mean_squared_error(y_test, pred))}')"
   ]
  },
  {
   "cell_type": "markdown",
   "metadata": {},
   "source": [
    "#### 각 feature의 weight(= coefficient)"
   ]
  },
  {
   "cell_type": "code",
   "execution_count": 70,
   "metadata": {},
   "outputs": [
    {
     "data": {
      "text/html": [
       "<div>\n",
       "<style scoped>\n",
       "    .dataframe tbody tr th:only-of-type {\n",
       "        vertical-align: middle;\n",
       "    }\n",
       "\n",
       "    .dataframe tbody tr th {\n",
       "        vertical-align: top;\n",
       "    }\n",
       "\n",
       "    .dataframe thead th {\n",
       "        text-align: right;\n",
       "    }\n",
       "</style>\n",
       "<table border=\"1\" class=\"dataframe\">\n",
       "  <thead>\n",
       "    <tr style=\"text-align: right;\">\n",
       "      <th></th>\n",
       "      <th>feature</th>\n",
       "      <th>coef</th>\n",
       "    </tr>\n",
       "  </thead>\n",
       "  <tbody>\n",
       "    <tr>\n",
       "      <th>0</th>\n",
       "      <td>줄기길이</td>\n",
       "      <td>-2.837430e-02</td>\n",
       "    </tr>\n",
       "    <tr>\n",
       "      <th>1</th>\n",
       "      <td>마디간격</td>\n",
       "      <td>7.189387e-02</td>\n",
       "    </tr>\n",
       "    <tr>\n",
       "      <th>2</th>\n",
       "      <td>잎길이</td>\n",
       "      <td>1.462764e+00</td>\n",
       "    </tr>\n",
       "    <tr>\n",
       "      <th>3</th>\n",
       "      <td>잎폭</td>\n",
       "      <td>-1.824815e+00</td>\n",
       "    </tr>\n",
       "    <tr>\n",
       "      <th>4</th>\n",
       "      <td>줄기굵기</td>\n",
       "      <td>3.092876e+00</td>\n",
       "    </tr>\n",
       "    <tr>\n",
       "      <th>5</th>\n",
       "      <td>화방수</td>\n",
       "      <td>-4.362290e+00</td>\n",
       "    </tr>\n",
       "    <tr>\n",
       "      <th>6</th>\n",
       "      <td>화방높이</td>\n",
       "      <td>-1.554312e-15</td>\n",
       "    </tr>\n",
       "    <tr>\n",
       "      <th>7</th>\n",
       "      <td>착과수</td>\n",
       "      <td>6.063510e+00</td>\n",
       "    </tr>\n",
       "    <tr>\n",
       "      <th>8</th>\n",
       "      <td>착과군</td>\n",
       "      <td>0.000000e+00</td>\n",
       "    </tr>\n",
       "    <tr>\n",
       "      <th>9</th>\n",
       "      <td>수확군</td>\n",
       "      <td>0.000000e+00</td>\n",
       "    </tr>\n",
       "    <tr>\n",
       "      <th>10</th>\n",
       "      <td>수확과중</td>\n",
       "      <td>0.000000e+00</td>\n",
       "    </tr>\n",
       "    <tr>\n",
       "      <th>11</th>\n",
       "      <td>과장</td>\n",
       "      <td>0.000000e+00</td>\n",
       "    </tr>\n",
       "    <tr>\n",
       "      <th>12</th>\n",
       "      <td>과폭</td>\n",
       "      <td>0.000000e+00</td>\n",
       "    </tr>\n",
       "    <tr>\n",
       "      <th>13</th>\n",
       "      <td>잎수</td>\n",
       "      <td>-3.064412e-01</td>\n",
       "    </tr>\n",
       "  </tbody>\n",
       "</table>\n",
       "</div>"
      ],
      "text/plain": [
       "   feature          coef\n",
       "0     줄기길이 -2.837430e-02\n",
       "1     마디간격  7.189387e-02\n",
       "2      잎길이  1.462764e+00\n",
       "3       잎폭 -1.824815e+00\n",
       "4     줄기굵기  3.092876e+00\n",
       "5      화방수 -4.362290e+00\n",
       "6     화방높이 -1.554312e-15\n",
       "7      착과수  6.063510e+00\n",
       "8      착과군  0.000000e+00\n",
       "9      수확군  0.000000e+00\n",
       "10    수확과중  0.000000e+00\n",
       "11      과장  0.000000e+00\n",
       "12      과폭  0.000000e+00\n",
       "13      잎수 -3.064412e-01"
      ]
     },
     "execution_count": 70,
     "metadata": {},
     "output_type": "execute_result"
    }
   ],
   "source": [
    "pd.DataFrame({'feature' : tr_exog.columns, 'coef' : lg.coef_})"
   ]
  },
  {
   "cell_type": "markdown",
   "metadata": {},
   "source": [
    "\n",
    "### 2-2. Scaling 후\n",
    "\n",
    "#### RandomForestRegressor"
   ]
  },
  {
   "cell_type": "code",
   "execution_count": 53,
   "metadata": {},
   "outputs": [],
   "source": [
    "rf = RandomForestRegressor(random_state = 42, n_estimators = 500)"
   ]
  },
  {
   "cell_type": "code",
   "execution_count": 54,
   "metadata": {
    "scrolled": true
   },
   "outputs": [
    {
     "data": {
      "text/plain": [
       "RandomForestRegressor(n_estimators=500, random_state=42)"
      ]
     },
     "execution_count": 54,
     "metadata": {},
     "output_type": "execute_result"
    }
   ],
   "source": [
    "rf.fit(tr_scaled, y_train)"
   ]
  },
  {
   "cell_type": "code",
   "execution_count": 55,
   "metadata": {},
   "outputs": [],
   "source": [
    "pred = rf.predict(te_scaled)"
   ]
  },
  {
   "cell_type": "code",
   "execution_count": 56,
   "metadata": {
    "scrolled": true
   },
   "outputs": [
    {
     "name": "stdout",
     "output_type": "stream",
     "text": [
      "랜덤포레스트 모형의 RMSE = 24.94211206554595\n"
     ]
    }
   ],
   "source": [
    "print(f'랜덤포레스트 모형의 RMSE = {np.sqrt(mean_squared_error(y_test, pred))}')"
   ]
  },
  {
   "cell_type": "markdown",
   "metadata": {},
   "source": [
    "#### LGBMRegressor"
   ]
  },
  {
   "cell_type": "code",
   "execution_count": 58,
   "metadata": {},
   "outputs": [],
   "source": [
    "lgbm = LGBMRegressor(random_state = 42)"
   ]
  },
  {
   "cell_type": "code",
   "execution_count": 59,
   "metadata": {},
   "outputs": [
    {
     "data": {
      "text/plain": [
       "LGBMRegressor(random_state=42)"
      ]
     },
     "execution_count": 59,
     "metadata": {},
     "output_type": "execute_result"
    }
   ],
   "source": [
    "lgbm.fit(tr_scaled, y_train)"
   ]
  },
  {
   "cell_type": "code",
   "execution_count": 60,
   "metadata": {},
   "outputs": [],
   "source": [
    "pred = lgbm.predict(te_scaled)"
   ]
  },
  {
   "cell_type": "code",
   "execution_count": 61,
   "metadata": {
    "scrolled": true
   },
   "outputs": [
    {
     "name": "stdout",
     "output_type": "stream",
     "text": [
      "LGBM 모형의 RMSE = 41.961936475810276\n"
     ]
    }
   ],
   "source": [
    "print(f'LGBM 모형의 RMSE = {np.sqrt(mean_squared_error(y_test, pred))}')"
   ]
  },
  {
   "cell_type": "markdown",
   "metadata": {},
   "source": [
    "#### LinearRegression"
   ]
  },
  {
   "cell_type": "code",
   "execution_count": 71,
   "metadata": {},
   "outputs": [],
   "source": [
    "lg = LinearRegression()"
   ]
  },
  {
   "cell_type": "code",
   "execution_count": 72,
   "metadata": {},
   "outputs": [
    {
     "data": {
      "text/plain": [
       "LinearRegression()"
      ]
     },
     "execution_count": 72,
     "metadata": {},
     "output_type": "execute_result"
    }
   ],
   "source": [
    "lg.fit(tr_scaled, y_train)"
   ]
  },
  {
   "cell_type": "code",
   "execution_count": 73,
   "metadata": {},
   "outputs": [],
   "source": [
    "pred = lg.predict(te_scaled)"
   ]
  },
  {
   "cell_type": "code",
   "execution_count": 74,
   "metadata": {
    "scrolled": false
   },
   "outputs": [
    {
     "name": "stdout",
     "output_type": "stream",
     "text": [
      "LinearRegression 모형의 RMSE = 49.89085871558642\n"
     ]
    }
   ],
   "source": [
    "print(f'LinearRegression 모형의 RMSE = {np.sqrt(mean_squared_error(y_test, pred))}')"
   ]
  },
  {
   "cell_type": "markdown",
   "metadata": {},
   "source": [
    "#### 각 feature의 weight(= coefficient)"
   ]
  },
  {
   "cell_type": "code",
   "execution_count": 75,
   "metadata": {},
   "outputs": [
    {
     "data": {
      "text/html": [
       "<div>\n",
       "<style scoped>\n",
       "    .dataframe tbody tr th:only-of-type {\n",
       "        vertical-align: middle;\n",
       "    }\n",
       "\n",
       "    .dataframe tbody tr th {\n",
       "        vertical-align: top;\n",
       "    }\n",
       "\n",
       "    .dataframe thead th {\n",
       "        text-align: right;\n",
       "    }\n",
       "</style>\n",
       "<table border=\"1\" class=\"dataframe\">\n",
       "  <thead>\n",
       "    <tr style=\"text-align: right;\">\n",
       "      <th></th>\n",
       "      <th>feature</th>\n",
       "      <th>coef</th>\n",
       "    </tr>\n",
       "  </thead>\n",
       "  <tbody>\n",
       "    <tr>\n",
       "      <th>0</th>\n",
       "      <td>줄기길이</td>\n",
       "      <td>-8.246990e+00</td>\n",
       "    </tr>\n",
       "    <tr>\n",
       "      <th>1</th>\n",
       "      <td>마디간격</td>\n",
       "      <td>1.150302e+00</td>\n",
       "    </tr>\n",
       "    <tr>\n",
       "      <th>2</th>\n",
       "      <td>잎길이</td>\n",
       "      <td>6.545870e+01</td>\n",
       "    </tr>\n",
       "    <tr>\n",
       "      <th>3</th>\n",
       "      <td>잎폭</td>\n",
       "      <td>-7.299262e+01</td>\n",
       "    </tr>\n",
       "    <tr>\n",
       "      <th>4</th>\n",
       "      <td>줄기굵기</td>\n",
       "      <td>4.484670e+00</td>\n",
       "    </tr>\n",
       "    <tr>\n",
       "      <th>5</th>\n",
       "      <td>화방수</td>\n",
       "      <td>-5.234748e+01</td>\n",
       "    </tr>\n",
       "    <tr>\n",
       "      <th>6</th>\n",
       "      <td>화방높이</td>\n",
       "      <td>-1.847411e-13</td>\n",
       "    </tr>\n",
       "    <tr>\n",
       "      <th>7</th>\n",
       "      <td>착과수</td>\n",
       "      <td>7.276212e+01</td>\n",
       "    </tr>\n",
       "    <tr>\n",
       "      <th>8</th>\n",
       "      <td>착과군</td>\n",
       "      <td>0.000000e+00</td>\n",
       "    </tr>\n",
       "    <tr>\n",
       "      <th>9</th>\n",
       "      <td>수확군</td>\n",
       "      <td>0.000000e+00</td>\n",
       "    </tr>\n",
       "    <tr>\n",
       "      <th>10</th>\n",
       "      <td>수확과중</td>\n",
       "      <td>0.000000e+00</td>\n",
       "    </tr>\n",
       "    <tr>\n",
       "      <th>11</th>\n",
       "      <td>과장</td>\n",
       "      <td>0.000000e+00</td>\n",
       "    </tr>\n",
       "    <tr>\n",
       "      <th>12</th>\n",
       "      <td>과폭</td>\n",
       "      <td>0.000000e+00</td>\n",
       "    </tr>\n",
       "    <tr>\n",
       "      <th>13</th>\n",
       "      <td>잎수</td>\n",
       "      <td>-1.262538e+01</td>\n",
       "    </tr>\n",
       "  </tbody>\n",
       "</table>\n",
       "</div>"
      ],
      "text/plain": [
       "   feature          coef\n",
       "0     줄기길이 -8.246990e+00\n",
       "1     마디간격  1.150302e+00\n",
       "2      잎길이  6.545870e+01\n",
       "3       잎폭 -7.299262e+01\n",
       "4     줄기굵기  4.484670e+00\n",
       "5      화방수 -5.234748e+01\n",
       "6     화방높이 -1.847411e-13\n",
       "7      착과수  7.276212e+01\n",
       "8      착과군  0.000000e+00\n",
       "9      수확군  0.000000e+00\n",
       "10    수확과중  0.000000e+00\n",
       "11      과장  0.000000e+00\n",
       "12      과폭  0.000000e+00\n",
       "13      잎수 -1.262538e+01"
      ]
     },
     "execution_count": 75,
     "metadata": {},
     "output_type": "execute_result"
    }
   ],
   "source": [
    "pd.DataFrame({'feature' : tr_exog.columns, 'coef' : lg.coef_})"
   ]
  }
 ],
 "metadata": {
  "kernelspec": {
   "display_name": "Python 3",
   "language": "python",
   "name": "python3"
  },
  "language_info": {
   "codemirror_mode": {
    "name": "ipython",
    "version": 3
   },
   "file_extension": ".py",
   "mimetype": "text/x-python",
   "name": "python",
   "nbconvert_exporter": "python",
   "pygments_lexer": "ipython3",
   "version": "3.8.2"
  }
 },
 "nbformat": 4,
 "nbformat_minor": 4
}
