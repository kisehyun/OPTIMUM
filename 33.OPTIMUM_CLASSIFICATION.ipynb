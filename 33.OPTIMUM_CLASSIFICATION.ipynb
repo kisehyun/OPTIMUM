{
 "cells": [
  {
   "cell_type": "code",
   "execution_count": 341,
   "id": "d9ee36cd",
   "metadata": {},
   "outputs": [],
   "source": [
    "import pandas as pd\n",
    "import numpy as np\n",
    "import warnings\n",
    "warnings.filterwarnings('ignore')\n",
    "\n",
    "import matplotlib.pyplot as plt\n",
    "import seaborn as sns\n",
    "%matplotlib inline"
   ]
  },
  {
   "cell_type": "code",
   "execution_count": 342,
   "id": "812422ba",
   "metadata": {},
   "outputs": [],
   "source": [
    "data = pd.read_csv(\"wafer_data.csv\")"
   ]
  },
  {
   "cell_type": "code",
   "execution_count": 343,
   "id": "1dc0c62c",
   "metadata": {},
   "outputs": [
    {
     "data": {
      "text/html": [
       "<div>\n",
       "<style scoped>\n",
       "    .dataframe tbody tr th:only-of-type {\n",
       "        vertical-align: middle;\n",
       "    }\n",
       "\n",
       "    .dataframe tbody tr th {\n",
       "        vertical-align: top;\n",
       "    }\n",
       "\n",
       "    .dataframe thead th {\n",
       "        text-align: right;\n",
       "    }\n",
       "</style>\n",
       "<table border=\"1\" class=\"dataframe\">\n",
       "  <thead>\n",
       "    <tr style=\"text-align: right;\">\n",
       "      <th></th>\n",
       "      <th>feature_1</th>\n",
       "      <th>feature_2</th>\n",
       "      <th>feature_3</th>\n",
       "      <th>feature_4</th>\n",
       "      <th>feature_5</th>\n",
       "      <th>feature_6</th>\n",
       "      <th>feature_7</th>\n",
       "      <th>feature_8</th>\n",
       "      <th>feature_9</th>\n",
       "      <th>feature_10</th>\n",
       "      <th>...</th>\n",
       "      <th>feature_1550</th>\n",
       "      <th>feature_1551</th>\n",
       "      <th>feature_1552</th>\n",
       "      <th>feature_1553</th>\n",
       "      <th>feature_1554</th>\n",
       "      <th>feature_1555</th>\n",
       "      <th>feature_1556</th>\n",
       "      <th>feature_1557</th>\n",
       "      <th>feature_1558</th>\n",
       "      <th>Class</th>\n",
       "    </tr>\n",
       "  </thead>\n",
       "  <tbody>\n",
       "    <tr>\n",
       "      <th>0</th>\n",
       "      <td>100</td>\n",
       "      <td>160</td>\n",
       "      <td>1.6000</td>\n",
       "      <td>0</td>\n",
       "      <td>0</td>\n",
       "      <td>0</td>\n",
       "      <td>0</td>\n",
       "      <td>0</td>\n",
       "      <td>0</td>\n",
       "      <td>0</td>\n",
       "      <td>...</td>\n",
       "      <td>0</td>\n",
       "      <td>0</td>\n",
       "      <td>0</td>\n",
       "      <td>0</td>\n",
       "      <td>0</td>\n",
       "      <td>0</td>\n",
       "      <td>0</td>\n",
       "      <td>0</td>\n",
       "      <td>0</td>\n",
       "      <td>0</td>\n",
       "    </tr>\n",
       "    <tr>\n",
       "      <th>1</th>\n",
       "      <td>20</td>\n",
       "      <td>83</td>\n",
       "      <td>4.1500</td>\n",
       "      <td>1</td>\n",
       "      <td>0</td>\n",
       "      <td>0</td>\n",
       "      <td>0</td>\n",
       "      <td>0</td>\n",
       "      <td>0</td>\n",
       "      <td>1</td>\n",
       "      <td>...</td>\n",
       "      <td>0</td>\n",
       "      <td>0</td>\n",
       "      <td>0</td>\n",
       "      <td>0</td>\n",
       "      <td>0</td>\n",
       "      <td>1</td>\n",
       "      <td>0</td>\n",
       "      <td>0</td>\n",
       "      <td>0</td>\n",
       "      <td>0</td>\n",
       "    </tr>\n",
       "    <tr>\n",
       "      <th>2</th>\n",
       "      <td>99</td>\n",
       "      <td>150</td>\n",
       "      <td>1.5151</td>\n",
       "      <td>1</td>\n",
       "      <td>0</td>\n",
       "      <td>0</td>\n",
       "      <td>0</td>\n",
       "      <td>0</td>\n",
       "      <td>0</td>\n",
       "      <td>0</td>\n",
       "      <td>...</td>\n",
       "      <td>0</td>\n",
       "      <td>0</td>\n",
       "      <td>0</td>\n",
       "      <td>0</td>\n",
       "      <td>0</td>\n",
       "      <td>0</td>\n",
       "      <td>0</td>\n",
       "      <td>0</td>\n",
       "      <td>0</td>\n",
       "      <td>0</td>\n",
       "    </tr>\n",
       "    <tr>\n",
       "      <th>3</th>\n",
       "      <td>40</td>\n",
       "      <td>40</td>\n",
       "      <td>1.0000</td>\n",
       "      <td>0</td>\n",
       "      <td>0</td>\n",
       "      <td>0</td>\n",
       "      <td>0</td>\n",
       "      <td>0</td>\n",
       "      <td>0</td>\n",
       "      <td>0</td>\n",
       "      <td>...</td>\n",
       "      <td>0</td>\n",
       "      <td>0</td>\n",
       "      <td>0</td>\n",
       "      <td>0</td>\n",
       "      <td>0</td>\n",
       "      <td>0</td>\n",
       "      <td>0</td>\n",
       "      <td>0</td>\n",
       "      <td>0</td>\n",
       "      <td>0</td>\n",
       "    </tr>\n",
       "    <tr>\n",
       "      <th>4</th>\n",
       "      <td>12</td>\n",
       "      <td>234</td>\n",
       "      <td>19.5000</td>\n",
       "      <td>1</td>\n",
       "      <td>0</td>\n",
       "      <td>0</td>\n",
       "      <td>0</td>\n",
       "      <td>0</td>\n",
       "      <td>0</td>\n",
       "      <td>0</td>\n",
       "      <td>...</td>\n",
       "      <td>0</td>\n",
       "      <td>0</td>\n",
       "      <td>0</td>\n",
       "      <td>0</td>\n",
       "      <td>0</td>\n",
       "      <td>0</td>\n",
       "      <td>0</td>\n",
       "      <td>0</td>\n",
       "      <td>0</td>\n",
       "      <td>0</td>\n",
       "    </tr>\n",
       "  </tbody>\n",
       "</table>\n",
       "<p>5 rows × 1559 columns</p>\n",
       "</div>"
      ],
      "text/plain": [
       "   feature_1  feature_2  feature_3  feature_4  feature_5  feature_6  \\\n",
       "0        100        160     1.6000          0          0          0   \n",
       "1         20         83     4.1500          1          0          0   \n",
       "2         99        150     1.5151          1          0          0   \n",
       "3         40         40     1.0000          0          0          0   \n",
       "4         12        234    19.5000          1          0          0   \n",
       "\n",
       "   feature_7  feature_8  feature_9  feature_10  ...  feature_1550  \\\n",
       "0          0          0          0           0  ...             0   \n",
       "1          0          0          0           1  ...             0   \n",
       "2          0          0          0           0  ...             0   \n",
       "3          0          0          0           0  ...             0   \n",
       "4          0          0          0           0  ...             0   \n",
       "\n",
       "   feature_1551  feature_1552  feature_1553  feature_1554  feature_1555  \\\n",
       "0             0             0             0             0             0   \n",
       "1             0             0             0             0             1   \n",
       "2             0             0             0             0             0   \n",
       "3             0             0             0             0             0   \n",
       "4             0             0             0             0             0   \n",
       "\n",
       "   feature_1556  feature_1557  feature_1558  Class  \n",
       "0             0             0             0      0  \n",
       "1             0             0             0      0  \n",
       "2             0             0             0      0  \n",
       "3             0             0             0      0  \n",
       "4             0             0             0      0  \n",
       "\n",
       "[5 rows x 1559 columns]"
      ]
     },
     "execution_count": 343,
     "metadata": {},
     "output_type": "execute_result"
    }
   ],
   "source": [
    "data.head()"
   ]
  },
  {
   "cell_type": "code",
   "execution_count": 345,
   "id": "355a1aed",
   "metadata": {
    "scrolled": true
   },
   "outputs": [
    {
     "data": {
      "image/png": "[encoded data removed]",
      "text/plain": [
       "<Figure size 432x288 with 1 Axes>"
      ]
     },
     "metadata": {
      "needs_background": "light"
     },
     "output_type": "display_data"
    }
   ],
   "source": [
    "plt.title(\"Proportion of Class\", size = 10)\n",
    "sns.countplot(data['Class'], edgecolor = (0,0,0))\n",
    "plt.show()"
   ]
  },
  {
   "cell_type": "code",
   "execution_count": 346,
   "id": "bfd87c1e",
   "metadata": {},
   "outputs": [],
   "source": [
    "X = data.drop('Class', axis = 1) # 종속변수인 Class를 제외한 데이터를 독립변수로 지정\n",
    "y = data.Class # Class 변수를 종속변수로 지정 "
   ]
  },
  {
   "cell_type": "markdown",
   "id": "0a03ade7",
   "metadata": {},
   "source": [
    "## Preprocessing"
   ]
  },
  {
   "cell_type": "code",
   "execution_count": 502,
   "id": "a0936303",
   "metadata": {},
   "outputs": [],
   "source": [
    "before = abs(X.skew()) # 독립변수들의 왜도 절댓값을 지정"
   ]
  },
  {
   "cell_type": "code",
   "execution_count": 348,
   "id": "c164f960",
   "metadata": {},
   "outputs": [],
   "source": [
    "X = X[before[before <= 4].index] # 왜도의 절댓값이 4이하인 변수들만 사용"
   ]
  },
  {
   "cell_type": "markdown",
   "id": "6644c3f0",
   "metadata": {},
   "source": [
    "## Modeling"
   ]
  },
  {
   "cell_type": "code",
   "execution_count": 349,
   "id": "20ec677b",
   "metadata": {},
   "outputs": [],
   "source": [
    "from sklearn.model_selection import train_test_split, StratifiedKFold, GridSearchCV\n",
    "from sklearn.metrics import roc_auc_score\n",
    "from sklearn.ensemble import RandomForestClassifier, GradientBoostingClassifier\n",
    "from xgboost import XGBClassifier\n",
    "from lightgbm import LGBMClassifier\n",
    "from catboost import CatBoostClassifier"
   ]
  },
  {
   "cell_type": "code",
   "execution_count": 350,
   "id": "5c32a8c4",
   "metadata": {},
   "outputs": [],
   "source": [
    "X_train, X_test, y_train, y_test = train_test_split(X, y, test_size = 0.2, random_state = 42, stratify = y) # 데이터를 학습용 80%, 검증용 20%로 분할하고 이 때 분류문제이므로 층화추출 인자 사용"
   ]
  },
  {
   "cell_type": "markdown",
   "id": "1455a618",
   "metadata": {},
   "source": [
    "### RandomForest"
   ]
  },
  {
   "cell_type": "code",
   "execution_count": 427,
   "id": "63e3b764",
   "metadata": {},
   "outputs": [],
   "source": [
    "rf = RandomForestClassifier(random_state = 42)"
   ]
  },
  {
   "cell_type": "code",
   "execution_count": 391,
   "id": "9cccace0",
   "metadata": {},
   "outputs": [
    {
     "data": {
      "text/plain": [
       "RandomForestClassifier(random_state=42)"
      ]
     },
     "execution_count": 391,
     "metadata": {},
     "output_type": "execute_result"
    }
   ],
   "source": [
    "rf.fit(X_train, y_train)"
   ]
  },
  {
   "cell_type": "code",
   "execution_count": 392,
   "id": "990a5516",
   "metadata": {},
   "outputs": [],
   "source": [
    "rf_pred = rf.predict_proba(X_test)[:, 1]"
   ]
  },
  {
   "cell_type": "code",
   "execution_count": 395,
   "id": "38f3d380",
   "metadata": {},
   "outputs": [],
   "source": [
    "rf_score = roc_auc_score(y_test, rf_pred)"
   ]
  },
  {
   "cell_type": "code",
   "execution_count": 396,
   "id": "d11f5927",
   "metadata": {},
   "outputs": [
    {
     "name": "stdout",
     "output_type": "stream",
     "text": [
      "RandomForestClassifier의 roc_auc = 0.903\n"
     ]
    }
   ],
   "source": [
    "print(f'{rf.__class__.__name__}의 roc_auc = {round(rf_score, 4)}')"
   ]
  },
  {
   "cell_type": "markdown",
   "id": "63313beb",
   "metadata": {},
   "source": [
    "### LightGBM"
   ]
  },
  {
   "cell_type": "code",
   "execution_count": 370,
   "id": "ead95128",
   "metadata": {},
   "outputs": [],
   "source": [
    "lgbm = LGBMClassifier(random_state = 42)"
   ]
  },
  {
   "cell_type": "code",
   "execution_count": 371,
   "id": "b486ec31",
   "metadata": {},
   "outputs": [
    {
     "data": {
      "text/plain": [
       "LGBMClassifier(random_state=42)"
      ]
     },
     "execution_count": 371,
     "metadata": {},
     "output_type": "execute_result"
    }
   ],
   "source": [
    "lgbm.fit(X_train, y_train)"
   ]
  },
  {
   "cell_type": "code",
   "execution_count": 372,
   "id": "d33b3d51",
   "metadata": {},
   "outputs": [],
   "source": [
    "lgbm_pred = lgbm.predict_proba(X_test)[:, 1]"
   ]
  },
  {
   "cell_type": "code",
   "execution_count": 387,
   "id": "4b4eb650",
   "metadata": {},
   "outputs": [],
   "source": [
    "lgbm_score = roc_auc_score(y_test, lgbm_pred)"
   ]
  },
  {
   "cell_type": "code",
   "execution_count": 388,
   "id": "a2e1387f",
   "metadata": {},
   "outputs": [
    {
     "name": "stdout",
     "output_type": "stream",
     "text": [
      "LGBMClassifier의 roc_auc = 0.8976\n"
     ]
    }
   ],
   "source": [
    "print(f'{lgbm.__class__.__name__}의 roc_auc = {round(lgbm_score, 4)}')"
   ]
  },
  {
   "cell_type": "markdown",
   "id": "ee6e77a8",
   "metadata": {},
   "source": [
    "### XGBoost"
   ]
  },
  {
   "cell_type": "code",
   "execution_count": 438,
   "id": "39ad9379",
   "metadata": {},
   "outputs": [],
   "source": [
    "xgb = XGBClassifier(random_state = 42, eval_metric = 'logloss')"
   ]
  },
  {
   "cell_type": "code",
   "execution_count": 439,
   "id": "d810797f",
   "metadata": {},
   "outputs": [
    {
     "data": {
      "text/plain": [
       "XGBClassifier(base_score=0.5, booster='gbtree', colsample_bylevel=1,\n",
       "              colsample_bynode=1, colsample_bytree=1, eval_metric='logloss',\n",
       "              gamma=0, gpu_id=-1, importance_type='gain',\n",
       "              interaction_constraints='', learning_rate=0.300000012,\n",
       "              max_delta_step=0, max_depth=6, min_child_weight=1, missing=nan,\n",
       "              monotone_constraints='()', n_estimators=100, n_jobs=8,\n",
       "              num_parallel_tree=1, random_state=42, reg_alpha=0, reg_lambda=1,\n",
       "              scale_pos_weight=1, subsample=1, tree_method='exact',\n",
       "              validate_parameters=1, verbosity=None)"
      ]
     },
     "execution_count": 439,
     "metadata": {},
     "output_type": "execute_result"
    }
   ],
   "source": [
    "xgb.fit(X_train, y_train)"
   ]
  },
  {
   "cell_type": "code",
   "execution_count": 440,
   "id": "7136b18c",
   "metadata": {},
   "outputs": [],
   "source": [
    "xgb_pred = xgb.predict_proba(X_test)[:, 1]"
   ]
  },
  {
   "cell_type": "code",
   "execution_count": 441,
   "id": "c861accb",
   "metadata": {},
   "outputs": [],
   "source": [
    "xgb_score = roc_auc_score(y_test, xgb_pred)"
   ]
  },
  {
   "cell_type": "code",
   "execution_count": 442,
   "id": "1d58669f",
   "metadata": {
    "scrolled": false
   },
   "outputs": [
    {
     "name": "stdout",
     "output_type": "stream",
     "text": [
      "XGBClassifier의 roc_auc = 0.8927\n"
     ]
    }
   ],
   "source": [
    "print(f'{xgb.__class__.__name__}의 roc_auc = {round(xgb_score, 4)}')"
   ]
  },
  {
   "cell_type": "markdown",
   "id": "4d92f2de",
   "metadata": {},
   "source": [
    "### CatBoost"
   ]
  },
  {
   "cell_type": "code",
   "execution_count": 397,
   "id": "dd89acdf",
   "metadata": {},
   "outputs": [],
   "source": [
    "cb = CatBoostClassifier(random_state = 42, verbose = 0)"
   ]
  },
  {
   "cell_type": "code",
   "execution_count": 398,
   "id": "3291af84",
   "metadata": {
    "scrolled": true
   },
   "outputs": [
    {
     "data": {
      "text/plain": [
       "<catboost.core.CatBoostClassifier at 0x192a178e0>"
      ]
     },
     "execution_count": 398,
     "metadata": {},
     "output_type": "execute_result"
    }
   ],
   "source": [
    "cb.fit(X_train, y_train)"
   ]
  },
  {
   "cell_type": "code",
   "execution_count": 399,
   "id": "ee5b587e",
   "metadata": {},
   "outputs": [],
   "source": [
    "cb_pred = cb.predict_proba(X_test)[:, 1]"
   ]
  },
  {
   "cell_type": "code",
   "execution_count": 400,
   "id": "28b1f170",
   "metadata": {},
   "outputs": [],
   "source": [
    "cb_score = roc_auc_score(y_test, cb_pred)"
   ]
  },
  {
   "cell_type": "code",
   "execution_count": 401,
   "id": "c9b73217",
   "metadata": {
    "scrolled": true
   },
   "outputs": [
    {
     "name": "stdout",
     "output_type": "stream",
     "text": [
      "CatBoostClassifier의 roc_auc = 0.9058\n"
     ]
    }
   ],
   "source": [
    "print(f'{cb.__class__.__name__}의 roc_auc = {round(cb_score, 4)}')"
   ]
  },
  {
   "cell_type": "markdown",
   "id": "ce7c4e53",
   "metadata": {},
   "source": [
    "***\n",
    "## Hyper Parameter Tuning"
   ]
  },
  {
   "cell_type": "code",
   "execution_count": 505,
   "id": "d566ac3c",
   "metadata": {},
   "outputs": [],
   "source": [
    "skf = StratifiedKFold(n_splits = 5, random_state = 42, shuffle = False) # 층화추출기법 기반 KFold로 학습 및 검증용 데이터의 종속변수 클래스별 분포가 같도록 한다."
   ]
  },
  {
   "cell_type": "code",
   "execution_count": 428,
   "id": "75cb40d5",
   "metadata": {},
   "outputs": [],
   "source": [
    "def tuning_prediction(params, model) :\n",
    "    model_cv = GridSearchCV(model, params, cv = skf, scoring = 'roc_auc') # roc_auc 지표를 기준으로 5-fold 검증 수행\n",
    "    result = model_cv.fit(X_train, y_train)\n",
    "    model = result.best_estimator_ # 최적의 파라미터로 세팅된 모델\n",
    "    model.fit(X_train, y_train)\n",
    "    pred = model.predict_proba(X_test)[:, 1]\n",
    "    score = roc_auc_score(y_test, pred)\n",
    "    print(f'{model.__class__.__name__}의 최적의 파라미터 조합은{result.best_params_}')\n",
    "    print(f'{model.__class__.__name__}의 roc_auc = {round(score, 4)}')"
   ]
  },
  {
   "cell_type": "markdown",
   "id": "176c7daa",
   "metadata": {},
   "source": [
    "### RandomForest Tuning"
   ]
  },
  {
   "cell_type": "code",
   "execution_count": 409,
   "id": "d0e66dbd",
   "metadata": {},
   "outputs": [],
   "source": [
    "rf_params = {'max_depth' : [3, 4, 5, 6, 7], 'n_estimators' : [50, 100, 150, 200, 250, 300, 500]}"
   ]
  },
  {
   "cell_type": "code",
   "execution_count": 429,
   "id": "99d4e8ec",
   "metadata": {},
   "outputs": [
    {
     "name": "stdout",
     "output_type": "stream",
     "text": [
      "RandomForestClassifier의 최적의 파라미터 조합은{'max_depth': 7, 'n_estimators': 250}\n",
      "RandomForestClassifier의 roc_auc = 0.8968\n"
     ]
    }
   ],
   "source": [
    "tuning_prediction(rf_params, rf)"
   ]
  },
  {
   "cell_type": "markdown",
   "id": "a9fbdaa3",
   "metadata": {},
   "source": [
    "### LightGBM Tuning"
   ]
  },
  {
   "cell_type": "code",
   "execution_count": 430,
   "id": "9bc9f947",
   "metadata": {},
   "outputs": [],
   "source": [
    "lgbm_params = {'learning_rate' : [0.01, 0.03, 0.05, 0.1, 0.15, 0.2], 'max_depth' : [3, 4, 5, 6, 7],\n",
    "              'n_estimators' : [50, 100, 200, 250, 300, 500, 1000]}"
   ]
  },
  {
   "cell_type": "code",
   "execution_count": 431,
   "id": "41412e1e",
   "metadata": {},
   "outputs": [
    {
     "name": "stdout",
     "output_type": "stream",
     "text": [
      "LGBMClassifier의 최적의 파라미터 조합은{'learning_rate': 0.05, 'max_depth': 5, 'n_estimators': 50}\n",
      "LGBMClassifier의 roc_auc = 0.9092\n"
     ]
    }
   ],
   "source": [
    "tuning_prediction(lgbm_params, lgbm)"
   ]
  },
  {
   "cell_type": "markdown",
   "id": "4fe00d0b",
   "metadata": {},
   "source": [
    "### XGBoost Tuning"
   ]
  },
  {
   "cell_type": "code",
   "execution_count": 443,
   "id": "ad6ab948",
   "metadata": {},
   "outputs": [],
   "source": [
    "xgb_params = {'learning_rate' : [0.01, 0.03, 0.05, 0.1, 0.15, 0.2], 'max_depth' : [3, 4, 5, 6, 7],\n",
    "              'n_estimators' : [50, 100, 200, 250, 300, 500, 1000]}"
   ]
  },
  {
   "cell_type": "code",
   "execution_count": 444,
   "id": "cd199497",
   "metadata": {
    "scrolled": true
   },
   "outputs": [
    {
     "name": "stdout",
     "output_type": "stream",
     "text": [
      "XGBClassifier의 최적의 파라미터 조합은{'learning_rate': 0.05, 'max_depth': 4, 'n_estimators': 1000}\n",
      "XGBClassifier의 roc_auc = 0.8795\n"
     ]
    }
   ],
   "source": [
    "tuning_prediction(xgb_params, xgb)"
   ]
  },
  {
   "cell_type": "markdown",
   "id": "84d30bf4",
   "metadata": {},
   "source": [
    "### CatBoost Tuning"
   ]
  },
  {
   "cell_type": "code",
   "execution_count": 445,
   "id": "53db0af7",
   "metadata": {},
   "outputs": [],
   "source": [
    "cb_params = {'learning_rate' : [0.01, 0.03, 0.05, 0.1, 0.15, 0.2], 'max_depth' : [3, 4, 5, 6, 7],\n",
    "              'iterations' : [50, 100, 200, 250, 300, 500, 1000]}"
   ]
  },
  {
   "cell_type": "code",
   "execution_count": 446,
   "id": "d45ead54",
   "metadata": {
    "scrolled": true
   },
   "outputs": [
    {
     "name": "stdout",
     "output_type": "stream",
     "text": [
      "CatBoostClassifier의 최적의 파라미터 조합은{'iterations': 500, 'learning_rate': 0.03, 'max_depth': 6}\n",
      "CatBoostClassifier의 roc_auc = 0.8999\n"
     ]
    }
   ],
   "source": [
    "tuning_prediction(cb_params, cb)"
   ]
  },
  {
   "cell_type": "markdown",
   "id": "5d001584",
   "metadata": {},
   "source": [
    "***\n",
    "## Ensemble"
   ]
  },
  {
   "cell_type": "code",
   "execution_count": 451,
   "id": "2a3441f7",
   "metadata": {},
   "outputs": [],
   "source": [
    "cb = CatBoostClassifier(random_state = 42, verbose = 0)"
   ]
  },
  {
   "cell_type": "code",
   "execution_count": 452,
   "id": "64ddf5fc",
   "metadata": {
    "scrolled": true
   },
   "outputs": [
    {
     "data": {
      "text/plain": [
       "<catboost.core.CatBoostClassifier at 0x188d42fa0>"
      ]
     },
     "execution_count": 452,
     "metadata": {},
     "output_type": "execute_result"
    }
   ],
   "source": [
    "cb.fit(X_train, y_train)"
   ]
  },
  {
   "cell_type": "code",
   "execution_count": 453,
   "id": "4d839be0",
   "metadata": {},
   "outputs": [],
   "source": [
    "cb_pred = cb.predict_proba(X_test)[:, 1]"
   ]
  },
  {
   "cell_type": "code",
   "execution_count": 454,
   "id": "44d85da2",
   "metadata": {},
   "outputs": [],
   "source": [
    "rf = RandomForestClassifier(random_state = 42)"
   ]
  },
  {
   "cell_type": "code",
   "execution_count": 455,
   "id": "83e773b2",
   "metadata": {},
   "outputs": [
    {
     "data": {
      "text/plain": [
       "RandomForestClassifier(random_state=42)"
      ]
     },
     "execution_count": 455,
     "metadata": {},
     "output_type": "execute_result"
    }
   ],
   "source": [
    "rf.fit(X_train, y_train)"
   ]
  },
  {
   "cell_type": "code",
   "execution_count": 456,
   "id": "43a14271",
   "metadata": {},
   "outputs": [],
   "source": [
    "rf_pred = rf.predict_proba(X_test)[:, 1]"
   ]
  },
  {
   "cell_type": "code",
   "execution_count": 457,
   "id": "9ec3b408",
   "metadata": {},
   "outputs": [],
   "source": [
    "lgbm = LGBMClassifier(random_state = 42, **{'learning_rate': 0.05, 'max_depth': 5, 'n_estimators': 50})"
   ]
  },
  {
   "cell_type": "code",
   "execution_count": 458,
   "id": "43156728",
   "metadata": {},
   "outputs": [
    {
     "data": {
      "text/plain": [
       "LGBMClassifier(learning_rate=0.05, max_depth=5, n_estimators=50,\n",
       "               random_state=42)"
      ]
     },
     "execution_count": 458,
     "metadata": {},
     "output_type": "execute_result"
    }
   ],
   "source": [
    "lgbm.fit(X_train, y_train)"
   ]
  },
  {
   "cell_type": "code",
   "execution_count": 459,
   "id": "3a2c799f",
   "metadata": {},
   "outputs": [],
   "source": [
    "lgbm_pred = lgbm.predict_proba(X_test)[:, 1]"
   ]
  },
  {
   "cell_type": "code",
   "execution_count": 482,
   "id": "8548b9f1",
   "metadata": {},
   "outputs": [],
   "source": [
    "xgb = XGBClassifier(random_state = 42, eval_metric = 'logloss')"
   ]
  },
  {
   "cell_type": "code",
   "execution_count": 483,
   "id": "7c2816a6",
   "metadata": {},
   "outputs": [
    {
     "data": {
      "text/plain": [
       "XGBClassifier(base_score=0.5, booster='gbtree', colsample_bylevel=1,\n",
       "              colsample_bynode=1, colsample_bytree=1, eval_metric='logloss',\n",
       "              gamma=0, gpu_id=-1, importance_type='gain',\n",
       "              interaction_constraints='', learning_rate=0.300000012,\n",
       "              max_delta_step=0, max_depth=6, min_child_weight=1, missing=nan,\n",
       "              monotone_constraints='()', n_estimators=100, n_jobs=8,\n",
       "              num_parallel_tree=1, random_state=42, reg_alpha=0, reg_lambda=1,\n",
       "              scale_pos_weight=1, subsample=1, tree_method='exact',\n",
       "              validate_parameters=1, verbosity=None)"
      ]
     },
     "execution_count": 483,
     "metadata": {},
     "output_type": "execute_result"
    }
   ],
   "source": [
    "xgb.fit(X_train, y_train)"
   ]
  },
  {
   "cell_type": "code",
   "execution_count": 484,
   "id": "0dedf3d9",
   "metadata": {},
   "outputs": [],
   "source": [
    "xgb_pred = xgb.predict_proba(X_test)[:, 1]"
   ]
  },
  {
   "cell_type": "code",
   "execution_count": 497,
   "id": "6f7813f9",
   "metadata": {},
   "outputs": [],
   "source": [
    "final_pred = (lgbm_pred * 0.4 + cb_pred * 0.25 + rf_pred * 0.35) # lightgbm, CatBoost, RandomForest의 예측값을 앙상블을 통해 성능을 높인다."
   ]
  },
  {
   "cell_type": "code",
   "execution_count": 498,
   "id": "7151f55a",
   "metadata": {},
   "outputs": [
    {
     "data": {
      "text/plain": [
       "0.9113452532992764"
      ]
     },
     "execution_count": 498,
     "metadata": {},
     "output_type": "execute_result"
    }
   ],
   "source": [
    "roc_auc_score(y_test, final_pred)"
   ]
  }
 ],
 "metadata": {
  "kernelspec": {
   "display_name": "Python 3",
   "language": "python",
   "name": "python3"
  },
  "language_info": {
   "codemirror_mode": {
    "name": "ipython",
    "version": 3
   },
   "file_extension": ".py",
   "mimetype": "text/x-python",
   "name": "python",
   "nbconvert_exporter": "python",
   "pygments_lexer": "ipython3",
   "version": "3.8.8"
  }
 },
 "nbformat": 4,
 "nbformat_minor": 5
}
